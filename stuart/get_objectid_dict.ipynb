{
 "cells": [
  {
   "cell_type": "code",
   "execution_count": 2,
   "metadata": {},
   "outputs": [],
   "source": [
    "# for queries\n",
    "from sqlalchemy import create_engine\n",
    "from MyCreds.mycreds import Capstone_AWS_RO       #from local site-packages\n",
    "import string\n",
    "import re\n",
    "import pickle5\n",
    "import numpy as np\n",
    "import pandas as pd\n",
    "\n",
    "engine = create_engine(f'postgresql+psycopg2://{Capstone_AWS_RO.username}:{Capstone_AWS_RO.password}@{Capstone_AWS_RO.host}/Capstone', echo=False)\n",
    "sql_alc_cnxn = engine.connect()\n",
    "\n",
    "query1='''select \n",
    "        \"OBJECTID\",\n",
    "        \"GROUP_NAME\"\n",
    "from conservation_areas'''\n",
    "\n",
    "object_fullname = pd.read_sql(query1, sql_alc_cnxn)\n",
    "object_fullname['GROUP_NAME']=object_fullname['GROUP_NAME'].str.translate(str.maketrans('', '', string.punctuation)).str.lower().str.replace(\" \",\"_\")\n",
    "object_id_dict = object_fullname.set_index('OBJECTID').T.to_dict('records')[0]\n",
    "pickle5.dump(object_id_dict, open(\"../stuart/jar2/object_id_dict.pickle\", \"wb\"))"
   ]
  },
  {
   "cell_type": "code",
   "execution_count": null,
   "metadata": {},
   "outputs": [],
   "source": []
  }
 ],
 "metadata": {
  "interpreter": {
   "hash": "33d3ca0aea531c688e4df820254c40ea318f60171c79893b9ba4418a9e6b3510"
  },
  "kernelspec": {
   "display_name": "Python 3.7.4 ('base')",
   "language": "python",
   "name": "python3"
  },
  "language_info": {
   "codemirror_mode": {
    "name": "ipython",
    "version": 3
   },
   "file_extension": ".py",
   "mimetype": "text/x-python",
   "name": "python",
   "nbconvert_exporter": "python",
   "pygments_lexer": "ipython3",
   "version": "3.7.4"
  },
  "orig_nbformat": 4
 },
 "nbformat": 4,
 "nbformat_minor": 2
}
