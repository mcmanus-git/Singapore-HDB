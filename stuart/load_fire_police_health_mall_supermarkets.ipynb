{
 "cells": [
  {
   "cell_type": "code",
   "execution_count": 70,
   "metadata": {},
   "outputs": [],
   "source": [
    "import osmnx as ox\n",
    "from MyCreds.mycreds import Capstone_AWS_PG\n",
    "from sqlalchemy import create_engine\n",
    "from geoalchemy2 import Geometry, Geography\n",
    "import geopandas as gpd\n",
    "\n",
    "place = 'Singapore'\n",
    "healthcare = {'healthcare':'hospital','healthcare':'doctor'}\n",
    "mall = {'shop':'mall'}\n",
    "supermarket = {'shop':'supermarket'}\n",
    "police = {'amenity':'police'}\n",
    "fire = {'amenity':\"fire_station\"}\n",
    "\n",
    "engine = create_engine(f'postgresql+psycopg2://{Capstone_AWS_PG.username}:{Capstone_AWS_PG.password}@{Capstone_AWS_PG.host}/capstone', echo=False)\n",
    "sql_alc_cnxn = engine.connect()\n"
   ]
  },
  {
   "cell_type": "code",
   "execution_count": 71,
   "metadata": {},
   "outputs": [],
   "source": [
    "healthcare_df = ox.geometries_from_place(place,tags=healthcare)\n",
    "mall_df = ox.geometries_from_place(place,tags=mall)\n",
    "supermarket_df = ox.geometries_from_place(place,tags=supermarket)\n",
    "police_df = ox.geometries_from_place(place,tags=police)\n",
    "fire_df = ox.geometries_from_place(place,tags=fire)\n"
   ]
  },
  {
   "cell_type": "code",
   "execution_count": 72,
   "metadata": {},
   "outputs": [],
   "source": [
    "def clean_df(df,list_of_cols_to_keep):\n",
    "    df = df[list_of_cols_to_keep].reset_index().drop(columns=['element_type'])\n",
    "    df['geometry'] = df['geometry'].to_crs(3414).centroid.to_crs(4326)\n",
    "    print(df.crs)\n",
    "    print(df.geom_type.unique())\n",
    "    return df"
   ]
  },
  {
   "cell_type": "code",
   "execution_count": 73,
   "metadata": {},
   "outputs": [
    {
     "name": "stdout",
     "output_type": "stream",
     "text": [
      "epsg:4326\n",
      "['Point']\n",
      "epsg:4326\n",
      "['Point']\n",
      "epsg:4326\n",
      "['Point']\n",
      "epsg:4326\n",
      "['Point']\n",
      "epsg:4326\n",
      "['Point']\n"
     ]
    }
   ],
   "source": [
    "cols_to_keep = ['name','geometry']\n",
    "\n",
    "healthcare_df = clean_df(healthcare_df,cols_to_keep)\n",
    "mall_df = clean_df(mall_df,cols_to_keep)\n",
    "supermarket_df = clean_df(supermarket_df,cols_to_keep)\n",
    "police_df = clean_df(police_df,cols_to_keep)\n",
    "fire_df = clean_df(fire_df,cols_to_keep)\n"
   ]
  },
  {
   "cell_type": "code",
   "execution_count": 74,
   "metadata": {},
   "outputs": [],
   "source": [
    "\n",
    "healthcare_df.to_postgis('healthcare',engine, if_exists='replace', index=False, dtype={'geometry': Geometry(geometry_type='POINT', srid= 4326)})\n",
    "mall_df.to_postgis('malls',engine, if_exists='replace', index=False, dtype={'geometry': Geometry(geometry_type='POINT', srid= 4326)})\n",
    "supermarket_df.to_postgis('supermarket',engine, if_exists='replace', index=False, dtype={'geometry': Geometry(geometry_type='POINT', srid= 4326)})\n",
    "police_df.to_postgis('police',engine, if_exists='replace', index=False, dtype={'geometry': Geometry(geometry_type='POINT', srid= 4326)})\n",
    "fire_df.to_postgis('fire',engine, if_exists='replace', index=False, dtype={'geometry': Geometry(geometry_type='POINT', srid= 4326)})"
   ]
  }
 ],
 "metadata": {
  "interpreter": {
   "hash": "33d3ca0aea531c688e4df820254c40ea318f60171c79893b9ba4418a9e6b3510"
  },
  "kernelspec": {
   "display_name": "Python 3.7.4 ('base')",
   "language": "python",
   "name": "python3"
  },
  "language_info": {
   "codemirror_mode": {
    "name": "ipython",
    "version": 3
   },
   "file_extension": ".py",
   "mimetype": "text/x-python",
   "name": "python",
   "nbconvert_exporter": "python",
   "pygments_lexer": "ipython3",
   "version": "3.7.4"
  },
  "orig_nbformat": 4
 },
 "nbformat": 4,
 "nbformat_minor": 2
}
