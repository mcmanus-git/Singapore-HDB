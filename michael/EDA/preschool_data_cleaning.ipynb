{
 "cells": [
  {
   "cell_type": "code",
   "execution_count": 1,
   "metadata": {
    "collapsed": true
   },
   "outputs": [],
   "source": [
    "import pandas as pd\n",
    "import geopandas as gpd\n",
    "from sqlalchemy import create_engine\n",
    "from MyCreds.mycreds import Capstone_AWS_PG\n",
    "import numpy as np"
   ]
  },
  {
   "cell_type": "code",
   "execution_count": 99,
   "outputs": [
    {
     "data": {
      "text/plain": "          Name                                        Description  \\\n0        kml_1  <center><table><tr><th colspan='2' align='cent...   \n1        kml_2  <center><table><tr><th colspan='2' align='cent...   \n2        kml_3  <center><table><tr><th colspan='2' align='cent...   \n3        kml_4  <center><table><tr><th colspan='2' align='cent...   \n4        kml_5  <center><table><tr><th colspan='2' align='cent...   \n...        ...                                                ...   \n1920  kml_1921  <center><table><tr><th colspan='2' align='cent...   \n1921  kml_1922  <center><table><tr><th colspan='2' align='cent...   \n1922  kml_1923  <center><table><tr><th colspan='2' align='cent...   \n1923  kml_1924  <center><table><tr><th colspan='2' align='cent...   \n1924  kml_1925  <center><table><tr><th colspan='2' align='cent...   \n\n                                 geometry  \n0     POINT Z (103.70086 1.33832 0.00000)  \n1     POINT Z (103.89866 1.39044 0.00000)  \n2     POINT Z (103.80681 1.43802 0.00000)  \n3     POINT Z (103.78742 1.43344 0.00000)  \n4     POINT Z (103.88863 1.39565 0.00000)  \n...                                   ...  \n1920  POINT Z (103.95263 1.34910 0.00000)  \n1921  POINT Z (103.77738 1.44503 0.00000)  \n1922  POINT Z (103.84084 1.31410 0.00000)  \n1923  POINT Z (103.82625 1.35732 0.00000)  \n1924  POINT Z (103.96143 1.34362 0.00000)  \n\n[1925 rows x 3 columns]",
      "text/html": "<div>\n<style scoped>\n    .dataframe tbody tr th:only-of-type {\n        vertical-align: middle;\n    }\n\n    .dataframe tbody tr th {\n        vertical-align: top;\n    }\n\n    .dataframe thead th {\n        text-align: right;\n    }\n</style>\n<table border=\"1\" class=\"dataframe\">\n  <thead>\n    <tr style=\"text-align: right;\">\n      <th></th>\n      <th>Name</th>\n      <th>Description</th>\n      <th>geometry</th>\n    </tr>\n  </thead>\n  <tbody>\n    <tr>\n      <th>0</th>\n      <td>kml_1</td>\n      <td>&lt;center&gt;&lt;table&gt;&lt;tr&gt;&lt;th colspan='2' align='cent...</td>\n      <td>POINT Z (103.70086 1.33832 0.00000)</td>\n    </tr>\n    <tr>\n      <th>1</th>\n      <td>kml_2</td>\n      <td>&lt;center&gt;&lt;table&gt;&lt;tr&gt;&lt;th colspan='2' align='cent...</td>\n      <td>POINT Z (103.89866 1.39044 0.00000)</td>\n    </tr>\n    <tr>\n      <th>2</th>\n      <td>kml_3</td>\n      <td>&lt;center&gt;&lt;table&gt;&lt;tr&gt;&lt;th colspan='2' align='cent...</td>\n      <td>POINT Z (103.80681 1.43802 0.00000)</td>\n    </tr>\n    <tr>\n      <th>3</th>\n      <td>kml_4</td>\n      <td>&lt;center&gt;&lt;table&gt;&lt;tr&gt;&lt;th colspan='2' align='cent...</td>\n      <td>POINT Z (103.78742 1.43344 0.00000)</td>\n    </tr>\n    <tr>\n      <th>4</th>\n      <td>kml_5</td>\n      <td>&lt;center&gt;&lt;table&gt;&lt;tr&gt;&lt;th colspan='2' align='cent...</td>\n      <td>POINT Z (103.88863 1.39565 0.00000)</td>\n    </tr>\n    <tr>\n      <th>...</th>\n      <td>...</td>\n      <td>...</td>\n      <td>...</td>\n    </tr>\n    <tr>\n      <th>1920</th>\n      <td>kml_1921</td>\n      <td>&lt;center&gt;&lt;table&gt;&lt;tr&gt;&lt;th colspan='2' align='cent...</td>\n      <td>POINT Z (103.95263 1.34910 0.00000)</td>\n    </tr>\n    <tr>\n      <th>1921</th>\n      <td>kml_1922</td>\n      <td>&lt;center&gt;&lt;table&gt;&lt;tr&gt;&lt;th colspan='2' align='cent...</td>\n      <td>POINT Z (103.77738 1.44503 0.00000)</td>\n    </tr>\n    <tr>\n      <th>1922</th>\n      <td>kml_1923</td>\n      <td>&lt;center&gt;&lt;table&gt;&lt;tr&gt;&lt;th colspan='2' align='cent...</td>\n      <td>POINT Z (103.84084 1.31410 0.00000)</td>\n    </tr>\n    <tr>\n      <th>1923</th>\n      <td>kml_1924</td>\n      <td>&lt;center&gt;&lt;table&gt;&lt;tr&gt;&lt;th colspan='2' align='cent...</td>\n      <td>POINT Z (103.82625 1.35732 0.00000)</td>\n    </tr>\n    <tr>\n      <th>1924</th>\n      <td>kml_1925</td>\n      <td>&lt;center&gt;&lt;table&gt;&lt;tr&gt;&lt;th colspan='2' align='cent...</td>\n      <td>POINT Z (103.96143 1.34362 0.00000)</td>\n    </tr>\n  </tbody>\n</table>\n<p>1925 rows × 3 columns</p>\n</div>"
     },
     "execution_count": 99,
     "metadata": {},
     "output_type": "execute_result"
    }
   ],
   "source": [
    "# engine = create_engine(f'postgresql+psycopg2://{Capstone_AWS_PG.username}:{Capstone_AWS_PG.password}@{Capstone_AWS_PG.host}/capstone', echo=False)\n",
    "#\n",
    "# sql_alc_cnxn = engine.connect()\n",
    "#\n",
    "# sql_query = 'select * from preschools;'\n",
    "#\n",
    "# df = gpd.read_postgis(sql_query, sql_alc_cnxn, geom_col='geometry')\n",
    "# df"
   ],
   "metadata": {
    "collapsed": false,
    "pycharm": {
     "name": "#%%\n"
    }
   }
  },
  {
   "cell_type": "code",
   "execution_count": null,
   "outputs": [],
   "source": [
    "import geopandas as gpd\n",
    "df = gpd.read_file('../data/pre-schools-location/pre-schools-location-geojson.geojson')\n",
    "df"
   ],
   "metadata": {
    "collapsed": false,
    "pycharm": {
     "name": "#%%\n"
    }
   }
  },
  {
   "cell_type": "code",
   "execution_count": 100,
   "outputs": [
    {
     "data": {
      "text/plain": "0       <center><table><tr><th colspan='2' align='cent...\n1       <center><table><tr><th colspan='2' align='cent...\n2       <center><table><tr><th colspan='2' align='cent...\n3       <center><table><tr><th colspan='2' align='cent...\n4       <center><table><tr><th colspan='2' align='cent...\n                              ...                        \n1920    <center><table><tr><th colspan='2' align='cent...\n1921    <center><table><tr><th colspan='2' align='cent...\n1922    <center><table><tr><th colspan='2' align='cent...\n1923    <center><table><tr><th colspan='2' align='cent...\n1924    <center><table><tr><th colspan='2' align='cent...\nName: Description, Length: 1925, dtype: object"
     },
     "execution_count": 100,
     "metadata": {},
     "output_type": "execute_result"
    }
   ],
   "source": [
    "des = df['Description']\n",
    "des"
   ],
   "metadata": {
    "collapsed": false,
    "pycharm": {
     "name": "#%%\n"
    }
   }
  },
  {
   "cell_type": "code",
   "execution_count": 101,
   "outputs": [],
   "source": [
    "from bs4 import BeautifulSoup\n",
    "import re\n",
    "from collections import defaultdict"
   ],
   "metadata": {
    "collapsed": false,
    "pycharm": {
     "name": "#%%\n"
    }
   }
  },
  {
   "cell_type": "code",
   "execution_count": 102,
   "outputs": [],
   "source": [
    "centers_dict = defaultdict(dict)\n",
    "\n",
    "for i, description in enumerate(des):\n",
    "    soup = BeautifulSoup(des[i])\n",
    "    table = soup.find_all('tr')[1:]\n",
    "\n",
    "    centers_dict[i] = {re.findall('<th>(\\w+)<\\/th>\\s<td>(.+)?<\\/td>', str(row))[0][0]:\n",
    "                             re.findall('<th>(\\w+)<\\/th>\\s<td>(.+)?<\\/td>', str(row))[0][1] for row in table}\n",
    "\n"
   ],
   "metadata": {
    "collapsed": false,
    "pycharm": {
     "name": "#%%\n"
    }
   }
  },
  {
   "cell_type": "code",
   "execution_count": 103,
   "outputs": [
    {
     "data": {
      "text/plain": "                                            CENTRE_NAME CENTRE_CODE  \\\n0                              BRILLIANT TOTS PTE. LTD.      PT9334   \n1                         BUBBLESLAND PLAYHOUSE PTE LTD      PT7680   \n2                                BUCKET HOUSE PRESCHOOL      PT9527   \n3                          BUMBLE BEE CHILD CARE CENTRE      PT3150   \n4                           BUSY BEES SINGAPORE PTE LTD      PT9117   \n...                                                 ...         ...   \n1920  PCF Sparkletots Preschool @ Tampines-Changkat ...      ST0261   \n1921                              New Life Kindergarten      RC1838   \n1922                                Newton Kindergarten      RC1798   \n1923                             P &amp; J Kindergarten      PT9661   \n1924       Paper Scissors Stone Montessori Kindergarten      PT9613   \n\n                                                ADDRESS POSTAL_CODE  \\\n0       610, JURONG WEST STREET 65, #01 - 534, S 640610      640610   \n1            238, COMPASSVALE WALK, #01 - 542, S 540238      540238   \n2     39, WOODLANDS CLOSE, #01 - 62, MEGA@WOODLANDS,...      737856   \n3          369, WOODLANDS AVENUE 1, #01 - 853, S 730369      730369   \n4            327B, ANCHORVALE ROAD, #01 - 322, S 542327      542327   \n...                                                 ...         ...   \n1920   284 Tampines Street 22 Blk 285 #01-149 , S520284      520284   \n1921                      10 Marsiling Lane   , S739147      739147   \n1922                         16 Newton Road   , S307995      307995   \n1923     35 Windsor Park Road, Windsor Park   , S574141      574141   \n1924                        30 Jalan Pergam   , S488306      488306   \n\n               INC_CRC      FMEL_UPD_D  \n0     0523C7904478A63D  20200812235534  \n1     18BED05A501AA168  20200812235534  \n2     C88B9AC31EE71BF6  20200812235534  \n3     64AB8FACA8F60129  20200812235534  \n4     E1B55AC65B9059E8  20200812235534  \n...                ...             ...  \n1920  7CFD747E120FA0D5  20200812235535  \n1921  002D449DA41EB2ED  20200812235535  \n1922  C4489713904CDA34  20200812235535  \n1923  50EBBF878EBACFB7  20200812235535  \n1924  32505D25411A359E  20200812235535  \n\n[1925 rows x 6 columns]",
      "text/html": "<div>\n<style scoped>\n    .dataframe tbody tr th:only-of-type {\n        vertical-align: middle;\n    }\n\n    .dataframe tbody tr th {\n        vertical-align: top;\n    }\n\n    .dataframe thead th {\n        text-align: right;\n    }\n</style>\n<table border=\"1\" class=\"dataframe\">\n  <thead>\n    <tr style=\"text-align: right;\">\n      <th></th>\n      <th>CENTRE_NAME</th>\n      <th>CENTRE_CODE</th>\n      <th>ADDRESS</th>\n      <th>POSTAL_CODE</th>\n      <th>INC_CRC</th>\n      <th>FMEL_UPD_D</th>\n    </tr>\n  </thead>\n  <tbody>\n    <tr>\n      <th>0</th>\n      <td>BRILLIANT TOTS PTE. LTD.</td>\n      <td>PT9334</td>\n      <td>610, JURONG WEST STREET 65, #01 - 534, S 640610</td>\n      <td>640610</td>\n      <td>0523C7904478A63D</td>\n      <td>20200812235534</td>\n    </tr>\n    <tr>\n      <th>1</th>\n      <td>BUBBLESLAND PLAYHOUSE PTE LTD</td>\n      <td>PT7680</td>\n      <td>238, COMPASSVALE WALK, #01 - 542, S 540238</td>\n      <td>540238</td>\n      <td>18BED05A501AA168</td>\n      <td>20200812235534</td>\n    </tr>\n    <tr>\n      <th>2</th>\n      <td>BUCKET HOUSE PRESCHOOL</td>\n      <td>PT9527</td>\n      <td>39, WOODLANDS CLOSE, #01 - 62, MEGA@WOODLANDS,...</td>\n      <td>737856</td>\n      <td>C88B9AC31EE71BF6</td>\n      <td>20200812235534</td>\n    </tr>\n    <tr>\n      <th>3</th>\n      <td>BUMBLE BEE CHILD CARE CENTRE</td>\n      <td>PT3150</td>\n      <td>369, WOODLANDS AVENUE 1, #01 - 853, S 730369</td>\n      <td>730369</td>\n      <td>64AB8FACA8F60129</td>\n      <td>20200812235534</td>\n    </tr>\n    <tr>\n      <th>4</th>\n      <td>BUSY BEES SINGAPORE PTE LTD</td>\n      <td>PT9117</td>\n      <td>327B, ANCHORVALE ROAD, #01 - 322, S 542327</td>\n      <td>542327</td>\n      <td>E1B55AC65B9059E8</td>\n      <td>20200812235534</td>\n    </tr>\n    <tr>\n      <th>...</th>\n      <td>...</td>\n      <td>...</td>\n      <td>...</td>\n      <td>...</td>\n      <td>...</td>\n      <td>...</td>\n    </tr>\n    <tr>\n      <th>1920</th>\n      <td>PCF Sparkletots Preschool @ Tampines-Changkat ...</td>\n      <td>ST0261</td>\n      <td>284 Tampines Street 22 Blk 285 #01-149 , S520284</td>\n      <td>520284</td>\n      <td>7CFD747E120FA0D5</td>\n      <td>20200812235535</td>\n    </tr>\n    <tr>\n      <th>1921</th>\n      <td>New Life Kindergarten</td>\n      <td>RC1838</td>\n      <td>10 Marsiling Lane   , S739147</td>\n      <td>739147</td>\n      <td>002D449DA41EB2ED</td>\n      <td>20200812235535</td>\n    </tr>\n    <tr>\n      <th>1922</th>\n      <td>Newton Kindergarten</td>\n      <td>RC1798</td>\n      <td>16 Newton Road   , S307995</td>\n      <td>307995</td>\n      <td>C4489713904CDA34</td>\n      <td>20200812235535</td>\n    </tr>\n    <tr>\n      <th>1923</th>\n      <td>P &amp;amp; J Kindergarten</td>\n      <td>PT9661</td>\n      <td>35 Windsor Park Road, Windsor Park   , S574141</td>\n      <td>574141</td>\n      <td>50EBBF878EBACFB7</td>\n      <td>20200812235535</td>\n    </tr>\n    <tr>\n      <th>1924</th>\n      <td>Paper Scissors Stone Montessori Kindergarten</td>\n      <td>PT9613</td>\n      <td>30 Jalan Pergam   , S488306</td>\n      <td>488306</td>\n      <td>32505D25411A359E</td>\n      <td>20200812235535</td>\n    </tr>\n  </tbody>\n</table>\n<p>1925 rows × 6 columns</p>\n</div>"
     },
     "execution_count": 103,
     "metadata": {},
     "output_type": "execute_result"
    }
   ],
   "source": [
    "preschool_descriptions = pd.DataFrame(centers_dict).T\n",
    "preschool_descriptions"
   ],
   "metadata": {
    "collapsed": false,
    "pycharm": {
     "name": "#%%\n"
    }
   }
  },
  {
   "cell_type": "code",
   "execution_count": 104,
   "outputs": [
    {
     "data": {
      "text/plain": "                                            centre_name centre_code  \\\n0                              BRILLIANT TOTS PTE. LTD.      PT9334   \n1                         BUBBLESLAND PLAYHOUSE PTE LTD      PT7680   \n2                                BUCKET HOUSE PRESCHOOL      PT9527   \n3                          BUMBLE BEE CHILD CARE CENTRE      PT3150   \n4                           BUSY BEES SINGAPORE PTE LTD      PT9117   \n...                                                 ...         ...   \n1920  PCF Sparkletots Preschool @ Tampines-Changkat ...      ST0261   \n1921                              New Life Kindergarten      RC1838   \n1922                                Newton Kindergarten      RC1798   \n1923                             P &amp; J Kindergarten      PT9661   \n1924       Paper Scissors Stone Montessori Kindergarten      PT9613   \n\n                                                address postal_code  \\\n0       610, JURONG WEST STREET 65, #01 - 534, S 640610      640610   \n1            238, COMPASSVALE WALK, #01 - 542, S 540238      540238   \n2     39, WOODLANDS CLOSE, #01 - 62, MEGA@WOODLANDS,...      737856   \n3          369, WOODLANDS AVENUE 1, #01 - 853, S 730369      730369   \n4            327B, ANCHORVALE ROAD, #01 - 322, S 542327      542327   \n...                                                 ...         ...   \n1920   284 Tampines Street 22 Blk 285 #01-149 , S520284      520284   \n1921                      10 Marsiling Lane   , S739147      739147   \n1922                         16 Newton Road   , S307995      307995   \n1923     35 Windsor Park Road, Windsor Park   , S574141      574141   \n1924                        30 Jalan Pergam   , S488306      488306   \n\n               inc_crc      fmel_upd_d                             geometry  \n0     0523C7904478A63D  20200812235534  POINT Z (103.70086 1.33832 0.00000)  \n1     18BED05A501AA168  20200812235534  POINT Z (103.89866 1.39044 0.00000)  \n2     C88B9AC31EE71BF6  20200812235534  POINT Z (103.80681 1.43802 0.00000)  \n3     64AB8FACA8F60129  20200812235534  POINT Z (103.78742 1.43344 0.00000)  \n4     E1B55AC65B9059E8  20200812235534  POINT Z (103.88863 1.39565 0.00000)  \n...                ...             ...                                  ...  \n1920  7CFD747E120FA0D5  20200812235535  POINT Z (103.95263 1.34910 0.00000)  \n1921  002D449DA41EB2ED  20200812235535  POINT Z (103.77738 1.44503 0.00000)  \n1922  C4489713904CDA34  20200812235535  POINT Z (103.84084 1.31410 0.00000)  \n1923  50EBBF878EBACFB7  20200812235535  POINT Z (103.82625 1.35732 0.00000)  \n1924  32505D25411A359E  20200812235535  POINT Z (103.96143 1.34362 0.00000)  \n\n[1925 rows x 7 columns]",
      "text/html": "<div>\n<style scoped>\n    .dataframe tbody tr th:only-of-type {\n        vertical-align: middle;\n    }\n\n    .dataframe tbody tr th {\n        vertical-align: top;\n    }\n\n    .dataframe thead th {\n        text-align: right;\n    }\n</style>\n<table border=\"1\" class=\"dataframe\">\n  <thead>\n    <tr style=\"text-align: right;\">\n      <th></th>\n      <th>centre_name</th>\n      <th>centre_code</th>\n      <th>address</th>\n      <th>postal_code</th>\n      <th>inc_crc</th>\n      <th>fmel_upd_d</th>\n      <th>geometry</th>\n    </tr>\n  </thead>\n  <tbody>\n    <tr>\n      <th>0</th>\n      <td>BRILLIANT TOTS PTE. LTD.</td>\n      <td>PT9334</td>\n      <td>610, JURONG WEST STREET 65, #01 - 534, S 640610</td>\n      <td>640610</td>\n      <td>0523C7904478A63D</td>\n      <td>20200812235534</td>\n      <td>POINT Z (103.70086 1.33832 0.00000)</td>\n    </tr>\n    <tr>\n      <th>1</th>\n      <td>BUBBLESLAND PLAYHOUSE PTE LTD</td>\n      <td>PT7680</td>\n      <td>238, COMPASSVALE WALK, #01 - 542, S 540238</td>\n      <td>540238</td>\n      <td>18BED05A501AA168</td>\n      <td>20200812235534</td>\n      <td>POINT Z (103.89866 1.39044 0.00000)</td>\n    </tr>\n    <tr>\n      <th>2</th>\n      <td>BUCKET HOUSE PRESCHOOL</td>\n      <td>PT9527</td>\n      <td>39, WOODLANDS CLOSE, #01 - 62, MEGA@WOODLANDS,...</td>\n      <td>737856</td>\n      <td>C88B9AC31EE71BF6</td>\n      <td>20200812235534</td>\n      <td>POINT Z (103.80681 1.43802 0.00000)</td>\n    </tr>\n    <tr>\n      <th>3</th>\n      <td>BUMBLE BEE CHILD CARE CENTRE</td>\n      <td>PT3150</td>\n      <td>369, WOODLANDS AVENUE 1, #01 - 853, S 730369</td>\n      <td>730369</td>\n      <td>64AB8FACA8F60129</td>\n      <td>20200812235534</td>\n      <td>POINT Z (103.78742 1.43344 0.00000)</td>\n    </tr>\n    <tr>\n      <th>4</th>\n      <td>BUSY BEES SINGAPORE PTE LTD</td>\n      <td>PT9117</td>\n      <td>327B, ANCHORVALE ROAD, #01 - 322, S 542327</td>\n      <td>542327</td>\n      <td>E1B55AC65B9059E8</td>\n      <td>20200812235534</td>\n      <td>POINT Z (103.88863 1.39565 0.00000)</td>\n    </tr>\n    <tr>\n      <th>...</th>\n      <td>...</td>\n      <td>...</td>\n      <td>...</td>\n      <td>...</td>\n      <td>...</td>\n      <td>...</td>\n      <td>...</td>\n    </tr>\n    <tr>\n      <th>1920</th>\n      <td>PCF Sparkletots Preschool @ Tampines-Changkat ...</td>\n      <td>ST0261</td>\n      <td>284 Tampines Street 22 Blk 285 #01-149 , S520284</td>\n      <td>520284</td>\n      <td>7CFD747E120FA0D5</td>\n      <td>20200812235535</td>\n      <td>POINT Z (103.95263 1.34910 0.00000)</td>\n    </tr>\n    <tr>\n      <th>1921</th>\n      <td>New Life Kindergarten</td>\n      <td>RC1838</td>\n      <td>10 Marsiling Lane   , S739147</td>\n      <td>739147</td>\n      <td>002D449DA41EB2ED</td>\n      <td>20200812235535</td>\n      <td>POINT Z (103.77738 1.44503 0.00000)</td>\n    </tr>\n    <tr>\n      <th>1922</th>\n      <td>Newton Kindergarten</td>\n      <td>RC1798</td>\n      <td>16 Newton Road   , S307995</td>\n      <td>307995</td>\n      <td>C4489713904CDA34</td>\n      <td>20200812235535</td>\n      <td>POINT Z (103.84084 1.31410 0.00000)</td>\n    </tr>\n    <tr>\n      <th>1923</th>\n      <td>P &amp;amp; J Kindergarten</td>\n      <td>PT9661</td>\n      <td>35 Windsor Park Road, Windsor Park   , S574141</td>\n      <td>574141</td>\n      <td>50EBBF878EBACFB7</td>\n      <td>20200812235535</td>\n      <td>POINT Z (103.82625 1.35732 0.00000)</td>\n    </tr>\n    <tr>\n      <th>1924</th>\n      <td>Paper Scissors Stone Montessori Kindergarten</td>\n      <td>PT9613</td>\n      <td>30 Jalan Pergam   , S488306</td>\n      <td>488306</td>\n      <td>32505D25411A359E</td>\n      <td>20200812235535</td>\n      <td>POINT Z (103.96143 1.34362 0.00000)</td>\n    </tr>\n  </tbody>\n</table>\n<p>1925 rows × 7 columns</p>\n</div>"
     },
     "execution_count": 104,
     "metadata": {},
     "output_type": "execute_result"
    }
   ],
   "source": [
    "df = df.merge(preschool_descriptions, left_index=True, right_index=True)\n",
    "df = df[['CENTRE_NAME', 'CENTRE_CODE', 'ADDRESS', 'POSTAL_CODE', 'INC_CRC', 'FMEL_UPD_D', 'geometry']]\n",
    "df.columns = [col.lower() for col in df.columns]\n",
    "df"
   ],
   "metadata": {
    "collapsed": false,
    "pycharm": {
     "name": "#%%\n"
    }
   }
  },
  {
   "cell_type": "code",
   "execution_count": 105,
   "outputs": [],
   "source": [
    "engine = create_engine(f'postgresql+psycopg2://{Capstone_AWS_PG.username}:{Capstone_AWS_PG.password}@{Capstone_AWS_PG.host}/capstone', echo=False)\n",
    "\n",
    "sql_alc_cnxn = engine.connect()\n",
    "\n",
    "df.to_postgis('preschools', sql_alc_cnxn, if_exists='replace', index=False)\n",
    "\n",
    "sql_alc_cnxn.close()"
   ],
   "metadata": {
    "collapsed": false,
    "pycharm": {
     "name": "#%%\n"
    }
   }
  },
  {
   "cell_type": "code",
   "execution_count": null,
   "outputs": [],
   "source": [],
   "metadata": {
    "collapsed": false,
    "pycharm": {
     "name": "#%%\n"
    }
   }
  }
 ],
 "metadata": {
  "kernelspec": {
   "display_name": "Python 3",
   "language": "python",
   "name": "python3"
  },
  "language_info": {
   "codemirror_mode": {
    "name": "ipython",
    "version": 2
   },
   "file_extension": ".py",
   "mimetype": "text/x-python",
   "name": "python",
   "nbconvert_exporter": "python",
   "pygments_lexer": "ipython2",
   "version": "2.7.6"
  }
 },
 "nbformat": 4,
 "nbformat_minor": 0
}