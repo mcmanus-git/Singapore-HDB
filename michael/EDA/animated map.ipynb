{
 "cells": [
  {
   "cell_type": "code",
   "execution_count": 1,
   "outputs": [],
   "source": [
    "from sqlalchemy import create_engine\n",
    "from MyCreds.mycreds import Capstone_AWS_SG, MapBox\n",
    "import geopandas as gpd\n",
    "import plotly.express as px"
   ],
   "metadata": {
    "collapsed": false,
    "pycharm": {
     "name": "#%%\n"
    }
   }
  },
  {
   "cell_type": "code",
   "execution_count": 2,
   "outputs": [],
   "source": [
    "def get_animation_df():\n",
    "    sql = \"\"\"select mp.zone_id, mp.\"SUBZONE_N\", mp.geometry,  avg(lf.resale_price) as avg_resale, min(lf.resale_price) as min_resale, max(lf.resale_price) as max_resale, count(distinct(transaction_id)) as count_resale, extract(year from lf.month) as transaction_year\n",
    "from master_plan_2019_subzone_boundary as mp\n",
    "         join resale_location_features as lf\n",
    "              on ST_Contains(mp.geometry, lf.geometry)\n",
    "\n",
    "group by transaction_year, mp.zone_id, mp.\"SUBZONE_N\", mp.geometry;\"\"\"\n",
    "\n",
    "    #where extract(year from lf.month) > 2010\n",
    "\n",
    "    engine = create_engine(f'postgresql+psycopg2://{Capstone_AWS_SG.username}:{Capstone_AWS_SG.password}@{Capstone_AWS_SG.host}/Capstone', echo=False)\n",
    "\n",
    "    with engine.connect() as cnxn:\n",
    "        locs_in_plan = gpd.read_postgis(sql, cnxn, geom_col='geometry')\n",
    "\n",
    "    return locs_in_plan"
   ],
   "metadata": {
    "collapsed": false,
    "pycharm": {
     "name": "#%%\n"
    }
   }
  },
  {
   "cell_type": "code",
   "execution_count": null,
   "outputs": [],
   "source": [
    "df = get_animation_df()"
   ],
   "metadata": {
    "collapsed": false,
    "pycharm": {
     "name": "#%%\n"
    }
   }
  }
 ],
 "metadata": {
  "kernelspec": {
   "display_name": "Python 3",
   "language": "python",
   "name": "python3"
  },
  "language_info": {
   "codemirror_mode": {
    "name": "ipython",
    "version": 2
   },
   "file_extension": ".py",
   "mimetype": "text/x-python",
   "name": "python",
   "nbconvert_exporter": "python",
   "pygments_lexer": "ipython2",
   "version": "2.7.6"
  }
 },
 "nbformat": 4,
 "nbformat_minor": 0
}