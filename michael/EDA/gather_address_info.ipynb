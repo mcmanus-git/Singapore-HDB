{
 "cells": [
  {
   "cell_type": "code",
   "execution_count": 1,
   "metadata": {
    "collapsed": true
   },
   "outputs": [],
   "source": [
    "import pandas as pd\n",
    "from MyCreds.mycreds import Capstone_AWS_PG\n",
    "from sqlalchemy import create_engine"
   ]
  },
  {
   "cell_type": "code",
   "execution_count": 4,
   "outputs": [
    {
     "data": {
      "text/plain": "          month        town         flat_type block        street_name  \\\n0       2012-03  ANG MO KIO            2 ROOM   172   ANG MO KIO AVE 4   \n1       2012-03  ANG MO KIO            2 ROOM   510   ANG MO KIO AVE 8   \n2       2012-03  ANG MO KIO            3 ROOM   610   ANG MO KIO AVE 4   \n3       2012-03  ANG MO KIO            3 ROOM   474  ANG MO KIO AVE 10   \n4       2012-03  ANG MO KIO            3 ROOM   604   ANG MO KIO AVE 5   \n...         ...         ...               ...   ...                ...   \n210825  2016-12      YISHUN            5 ROOM   297       YISHUN ST 20   \n210826  2016-12      YISHUN            5 ROOM   838       YISHUN ST 81   \n210827  2016-12      YISHUN         EXECUTIVE   664       YISHUN AVE 4   \n210828  2016-12      YISHUN         EXECUTIVE   325        YISHUN CTRL   \n210829  2016-12      YISHUN  MULTI-GENERATION   666       YISHUN AVE 4   \n\n       storey_range  floor_area_sqm        flat_model  lease_commence_date  \\\n0          06 TO 10            45.0          Improved                 1986   \n1          01 TO 05            44.0          Improved                 1980   \n2          06 TO 10            68.0    New Generation                 1980   \n3          01 TO 05            67.0    New Generation                 1984   \n4          06 TO 10            67.0    New Generation                 1980   \n...             ...             ...               ...                  ...   \n210825     13 TO 15           112.0          Improved                 2000   \n210826     01 TO 03           122.0          Improved                 1987   \n210827     10 TO 12           181.0         Apartment                 1992   \n210828     01 TO 03           146.0        Maisonette                 1988   \n210829     10 TO 12           164.0  Multi Generation                 1987   \n\n        resale_price remaining_lease  \n0           250000.0            None  \n1           265000.0            None  \n2           315000.0            None  \n3           320000.0            None  \n4           321000.0            None  \n...              ...             ...  \n210825      488000.0              82  \n210826      455000.0              69  \n210827      778000.0              74  \n210828      575000.0              70  \n210829      735000.0              70  \n\n[210830 rows x 11 columns]",
      "text/html": "<div>\n<style scoped>\n    .dataframe tbody tr th:only-of-type {\n        vertical-align: middle;\n    }\n\n    .dataframe tbody tr th {\n        vertical-align: top;\n    }\n\n    .dataframe thead th {\n        text-align: right;\n    }\n</style>\n<table border=\"1\" class=\"dataframe\">\n  <thead>\n    <tr style=\"text-align: right;\">\n      <th></th>\n      <th>month</th>\n      <th>town</th>\n      <th>flat_type</th>\n      <th>block</th>\n      <th>street_name</th>\n      <th>storey_range</th>\n      <th>floor_area_sqm</th>\n      <th>flat_model</th>\n      <th>lease_commence_date</th>\n      <th>resale_price</th>\n      <th>remaining_lease</th>\n    </tr>\n  </thead>\n  <tbody>\n    <tr>\n      <th>0</th>\n      <td>2012-03</td>\n      <td>ANG MO KIO</td>\n      <td>2 ROOM</td>\n      <td>172</td>\n      <td>ANG MO KIO AVE 4</td>\n      <td>06 TO 10</td>\n      <td>45.0</td>\n      <td>Improved</td>\n      <td>1986</td>\n      <td>250000.0</td>\n      <td>None</td>\n    </tr>\n    <tr>\n      <th>1</th>\n      <td>2012-03</td>\n      <td>ANG MO KIO</td>\n      <td>2 ROOM</td>\n      <td>510</td>\n      <td>ANG MO KIO AVE 8</td>\n      <td>01 TO 05</td>\n      <td>44.0</td>\n      <td>Improved</td>\n      <td>1980</td>\n      <td>265000.0</td>\n      <td>None</td>\n    </tr>\n    <tr>\n      <th>2</th>\n      <td>2012-03</td>\n      <td>ANG MO KIO</td>\n      <td>3 ROOM</td>\n      <td>610</td>\n      <td>ANG MO KIO AVE 4</td>\n      <td>06 TO 10</td>\n      <td>68.0</td>\n      <td>New Generation</td>\n      <td>1980</td>\n      <td>315000.0</td>\n      <td>None</td>\n    </tr>\n    <tr>\n      <th>3</th>\n      <td>2012-03</td>\n      <td>ANG MO KIO</td>\n      <td>3 ROOM</td>\n      <td>474</td>\n      <td>ANG MO KIO AVE 10</td>\n      <td>01 TO 05</td>\n      <td>67.0</td>\n      <td>New Generation</td>\n      <td>1984</td>\n      <td>320000.0</td>\n      <td>None</td>\n    </tr>\n    <tr>\n      <th>4</th>\n      <td>2012-03</td>\n      <td>ANG MO KIO</td>\n      <td>3 ROOM</td>\n      <td>604</td>\n      <td>ANG MO KIO AVE 5</td>\n      <td>06 TO 10</td>\n      <td>67.0</td>\n      <td>New Generation</td>\n      <td>1980</td>\n      <td>321000.0</td>\n      <td>None</td>\n    </tr>\n    <tr>\n      <th>...</th>\n      <td>...</td>\n      <td>...</td>\n      <td>...</td>\n      <td>...</td>\n      <td>...</td>\n      <td>...</td>\n      <td>...</td>\n      <td>...</td>\n      <td>...</td>\n      <td>...</td>\n      <td>...</td>\n    </tr>\n    <tr>\n      <th>210825</th>\n      <td>2016-12</td>\n      <td>YISHUN</td>\n      <td>5 ROOM</td>\n      <td>297</td>\n      <td>YISHUN ST 20</td>\n      <td>13 TO 15</td>\n      <td>112.0</td>\n      <td>Improved</td>\n      <td>2000</td>\n      <td>488000.0</td>\n      <td>82</td>\n    </tr>\n    <tr>\n      <th>210826</th>\n      <td>2016-12</td>\n      <td>YISHUN</td>\n      <td>5 ROOM</td>\n      <td>838</td>\n      <td>YISHUN ST 81</td>\n      <td>01 TO 03</td>\n      <td>122.0</td>\n      <td>Improved</td>\n      <td>1987</td>\n      <td>455000.0</td>\n      <td>69</td>\n    </tr>\n    <tr>\n      <th>210827</th>\n      <td>2016-12</td>\n      <td>YISHUN</td>\n      <td>EXECUTIVE</td>\n      <td>664</td>\n      <td>YISHUN AVE 4</td>\n      <td>10 TO 12</td>\n      <td>181.0</td>\n      <td>Apartment</td>\n      <td>1992</td>\n      <td>778000.0</td>\n      <td>74</td>\n    </tr>\n    <tr>\n      <th>210828</th>\n      <td>2016-12</td>\n      <td>YISHUN</td>\n      <td>EXECUTIVE</td>\n      <td>325</td>\n      <td>YISHUN CTRL</td>\n      <td>01 TO 03</td>\n      <td>146.0</td>\n      <td>Maisonette</td>\n      <td>1988</td>\n      <td>575000.0</td>\n      <td>70</td>\n    </tr>\n    <tr>\n      <th>210829</th>\n      <td>2016-12</td>\n      <td>YISHUN</td>\n      <td>MULTI-GENERATION</td>\n      <td>666</td>\n      <td>YISHUN AVE 4</td>\n      <td>10 TO 12</td>\n      <td>164.0</td>\n      <td>Multi Generation</td>\n      <td>1987</td>\n      <td>735000.0</td>\n      <td>70</td>\n    </tr>\n  </tbody>\n</table>\n<p>210830 rows × 11 columns</p>\n</div>"
     },
     "execution_count": 4,
     "metadata": {},
     "output_type": "execute_result"
    }
   ],
   "source": [
    "engine = create_engine(f'postgresql+psycopg2://{Capstone_AWS_PG.username}:{Capstone_AWS_PG.password}@{Capstone_AWS_PG.host}/capstone', echo=False)\n",
    "\n",
    "sql_alc_cnxn = engine.connect()\n",
    "\n",
    "# Switch depending on which table you want to read.\n",
    "sql_query = 'select * from resale_prices_based_on_registration_date;'\n",
    "# sql_query = 'select * from resale_price_based_on_approval_date;'\n",
    "\n",
    "df = pd.read_sql(sql_query, sql_alc_cnxn)\n",
    "df"
   ],
   "metadata": {
    "collapsed": false,
    "pycharm": {
     "name": "#%%\n"
    }
   }
  },
  {
   "cell_type": "code",
   "execution_count": 8,
   "outputs": [
    {
     "data": {
      "text/plain": "          month        town         flat_type block        street_name  \\\n0       2012-03  ANG MO KIO            2 ROOM   172   ANG MO KIO AVE 4   \n1       2012-03  ANG MO KIO            2 ROOM   510   ANG MO KIO AVE 8   \n2       2012-03  ANG MO KIO            3 ROOM   610   ANG MO KIO AVE 4   \n3       2012-03  ANG MO KIO            3 ROOM   474  ANG MO KIO AVE 10   \n4       2012-03  ANG MO KIO            3 ROOM   604   ANG MO KIO AVE 5   \n...         ...         ...               ...   ...                ...   \n210825  2016-12      YISHUN            5 ROOM   297       YISHUN ST 20   \n210826  2016-12      YISHUN            5 ROOM   838       YISHUN ST 81   \n210827  2016-12      YISHUN         EXECUTIVE   664       YISHUN AVE 4   \n210828  2016-12      YISHUN         EXECUTIVE   325        YISHUN CTRL   \n210829  2016-12      YISHUN  MULTI-GENERATION   666       YISHUN AVE 4   \n\n       storey_range  floor_area_sqm        flat_model  lease_commence_date  \\\n0          06 TO 10            45.0          Improved                 1986   \n1          01 TO 05            44.0          Improved                 1980   \n2          06 TO 10            68.0    New Generation                 1980   \n3          01 TO 05            67.0    New Generation                 1984   \n4          06 TO 10            67.0    New Generation                 1980   \n...             ...             ...               ...                  ...   \n210825     13 TO 15           112.0          Improved                 2000   \n210826     01 TO 03           122.0          Improved                 1987   \n210827     10 TO 12           181.0         Apartment                 1992   \n210828     01 TO 03           146.0        Maisonette                 1988   \n210829     10 TO 12           164.0  Multi Generation                 1987   \n\n        resale_price remaining_lease           block_street  \n0           250000.0            None   172 ANG MO KIO AVE 4  \n1           265000.0            None   510 ANG MO KIO AVE 8  \n2           315000.0            None   610 ANG MO KIO AVE 4  \n3           320000.0            None  474 ANG MO KIO AVE 10  \n4           321000.0            None   604 ANG MO KIO AVE 5  \n...              ...             ...                    ...  \n210825      488000.0              82       297 YISHUN ST 20  \n210826      455000.0              69       838 YISHUN ST 81  \n210827      778000.0              74       664 YISHUN AVE 4  \n210828      575000.0              70        325 YISHUN CTRL  \n210829      735000.0              70       666 YISHUN AVE 4  \n\n[210830 rows x 12 columns]",
      "text/html": "<div>\n<style scoped>\n    .dataframe tbody tr th:only-of-type {\n        vertical-align: middle;\n    }\n\n    .dataframe tbody tr th {\n        vertical-align: top;\n    }\n\n    .dataframe thead th {\n        text-align: right;\n    }\n</style>\n<table border=\"1\" class=\"dataframe\">\n  <thead>\n    <tr style=\"text-align: right;\">\n      <th></th>\n      <th>month</th>\n      <th>town</th>\n      <th>flat_type</th>\n      <th>block</th>\n      <th>street_name</th>\n      <th>storey_range</th>\n      <th>floor_area_sqm</th>\n      <th>flat_model</th>\n      <th>lease_commence_date</th>\n      <th>resale_price</th>\n      <th>remaining_lease</th>\n      <th>block_street</th>\n    </tr>\n  </thead>\n  <tbody>\n    <tr>\n      <th>0</th>\n      <td>2012-03</td>\n      <td>ANG MO KIO</td>\n      <td>2 ROOM</td>\n      <td>172</td>\n      <td>ANG MO KIO AVE 4</td>\n      <td>06 TO 10</td>\n      <td>45.0</td>\n      <td>Improved</td>\n      <td>1986</td>\n      <td>250000.0</td>\n      <td>None</td>\n      <td>172 ANG MO KIO AVE 4</td>\n    </tr>\n    <tr>\n      <th>1</th>\n      <td>2012-03</td>\n      <td>ANG MO KIO</td>\n      <td>2 ROOM</td>\n      <td>510</td>\n      <td>ANG MO KIO AVE 8</td>\n      <td>01 TO 05</td>\n      <td>44.0</td>\n      <td>Improved</td>\n      <td>1980</td>\n      <td>265000.0</td>\n      <td>None</td>\n      <td>510 ANG MO KIO AVE 8</td>\n    </tr>\n    <tr>\n      <th>2</th>\n      <td>2012-03</td>\n      <td>ANG MO KIO</td>\n      <td>3 ROOM</td>\n      <td>610</td>\n      <td>ANG MO KIO AVE 4</td>\n      <td>06 TO 10</td>\n      <td>68.0</td>\n      <td>New Generation</td>\n      <td>1980</td>\n      <td>315000.0</td>\n      <td>None</td>\n      <td>610 ANG MO KIO AVE 4</td>\n    </tr>\n    <tr>\n      <th>3</th>\n      <td>2012-03</td>\n      <td>ANG MO KIO</td>\n      <td>3 ROOM</td>\n      <td>474</td>\n      <td>ANG MO KIO AVE 10</td>\n      <td>01 TO 05</td>\n      <td>67.0</td>\n      <td>New Generation</td>\n      <td>1984</td>\n      <td>320000.0</td>\n      <td>None</td>\n      <td>474 ANG MO KIO AVE 10</td>\n    </tr>\n    <tr>\n      <th>4</th>\n      <td>2012-03</td>\n      <td>ANG MO KIO</td>\n      <td>3 ROOM</td>\n      <td>604</td>\n      <td>ANG MO KIO AVE 5</td>\n      <td>06 TO 10</td>\n      <td>67.0</td>\n      <td>New Generation</td>\n      <td>1980</td>\n      <td>321000.0</td>\n      <td>None</td>\n      <td>604 ANG MO KIO AVE 5</td>\n    </tr>\n    <tr>\n      <th>...</th>\n      <td>...</td>\n      <td>...</td>\n      <td>...</td>\n      <td>...</td>\n      <td>...</td>\n      <td>...</td>\n      <td>...</td>\n      <td>...</td>\n      <td>...</td>\n      <td>...</td>\n      <td>...</td>\n      <td>...</td>\n    </tr>\n    <tr>\n      <th>210825</th>\n      <td>2016-12</td>\n      <td>YISHUN</td>\n      <td>5 ROOM</td>\n      <td>297</td>\n      <td>YISHUN ST 20</td>\n      <td>13 TO 15</td>\n      <td>112.0</td>\n      <td>Improved</td>\n      <td>2000</td>\n      <td>488000.0</td>\n      <td>82</td>\n      <td>297 YISHUN ST 20</td>\n    </tr>\n    <tr>\n      <th>210826</th>\n      <td>2016-12</td>\n      <td>YISHUN</td>\n      <td>5 ROOM</td>\n      <td>838</td>\n      <td>YISHUN ST 81</td>\n      <td>01 TO 03</td>\n      <td>122.0</td>\n      <td>Improved</td>\n      <td>1987</td>\n      <td>455000.0</td>\n      <td>69</td>\n      <td>838 YISHUN ST 81</td>\n    </tr>\n    <tr>\n      <th>210827</th>\n      <td>2016-12</td>\n      <td>YISHUN</td>\n      <td>EXECUTIVE</td>\n      <td>664</td>\n      <td>YISHUN AVE 4</td>\n      <td>10 TO 12</td>\n      <td>181.0</td>\n      <td>Apartment</td>\n      <td>1992</td>\n      <td>778000.0</td>\n      <td>74</td>\n      <td>664 YISHUN AVE 4</td>\n    </tr>\n    <tr>\n      <th>210828</th>\n      <td>2016-12</td>\n      <td>YISHUN</td>\n      <td>EXECUTIVE</td>\n      <td>325</td>\n      <td>YISHUN CTRL</td>\n      <td>01 TO 03</td>\n      <td>146.0</td>\n      <td>Maisonette</td>\n      <td>1988</td>\n      <td>575000.0</td>\n      <td>70</td>\n      <td>325 YISHUN CTRL</td>\n    </tr>\n    <tr>\n      <th>210829</th>\n      <td>2016-12</td>\n      <td>YISHUN</td>\n      <td>MULTI-GENERATION</td>\n      <td>666</td>\n      <td>YISHUN AVE 4</td>\n      <td>10 TO 12</td>\n      <td>164.0</td>\n      <td>Multi Generation</td>\n      <td>1987</td>\n      <td>735000.0</td>\n      <td>70</td>\n      <td>666 YISHUN AVE 4</td>\n    </tr>\n  </tbody>\n</table>\n<p>210830 rows × 12 columns</p>\n</div>"
     },
     "execution_count": 8,
     "metadata": {},
     "output_type": "execute_result"
    }
   ],
   "source": [
    "df['block_street'] = df['block'] + \" \" + df['street_name']\n",
    "df"
   ],
   "metadata": {
    "collapsed": false,
    "pycharm": {
     "name": "#%%\n"
    }
   }
  },
  {
   "cell_type": "code",
   "execution_count": 10,
   "outputs": [],
   "source": [
    "import geopy\n",
    "from geopy.geocoders import Nominatim"
   ],
   "metadata": {
    "collapsed": false,
    "pycharm": {
     "name": "#%%\n"
    }
   }
  },
  {
   "cell_type": "code",
   "execution_count": 13,
   "outputs": [
    {
     "ename": "ConfigurationError",
     "evalue": "Using Nominatim with default or sample `user_agent` \"geopy/2.2.0\" is strongly discouraged, as it violates Nominatim's ToS https://operations.osmfoundation.org/policies/nominatim/ and may possibly cause 403 and 429 HTTP errors. Please specify a custom `user_agent` with `Nominatim(user_agent=\"my-application\")` or by overriding the default `user_agent`: `geopy.geocoders.options.default_user_agent = \"my-application\"`.",
     "output_type": "error",
     "traceback": [
      "\u001B[0;31m---------------------------------------------------------------------------\u001B[0m",
      "\u001B[0;31mConfigurationError\u001B[0m                        Traceback (most recent call last)",
      "\u001B[0;32m/var/folders/l5/fj2kg32d6rz92n5r1t_xxk880000gn/T/ipykernel_49697/3601823512.py\u001B[0m in \u001B[0;36m<module>\u001B[0;34m\u001B[0m\n\u001B[1;32m      1\u001B[0m \u001B[0;32mfrom\u001B[0m \u001B[0mgeopy\u001B[0m\u001B[0;34m.\u001B[0m\u001B[0mextra\u001B[0m\u001B[0;34m.\u001B[0m\u001B[0mrate_limiter\u001B[0m \u001B[0;32mimport\u001B[0m \u001B[0mRateLimiter\u001B[0m\u001B[0;34m\u001B[0m\u001B[0;34m\u001B[0m\u001B[0m\n\u001B[1;32m      2\u001B[0m \u001B[0;34m\u001B[0m\u001B[0m\n\u001B[0;32m----> 3\u001B[0;31m \u001B[0mlocator\u001B[0m \u001B[0;34m=\u001B[0m \u001B[0mNominatim\u001B[0m\u001B[0;34m(\u001B[0m\u001B[0;34m)\u001B[0m\u001B[0;34m\u001B[0m\u001B[0;34m\u001B[0m\u001B[0m\n\u001B[0m\u001B[1;32m      4\u001B[0m \u001B[0mlocation\u001B[0m \u001B[0;34m=\u001B[0m \u001B[0mlocator\u001B[0m\u001B[0;34m.\u001B[0m\u001B[0mgeocode\u001B[0m\u001B[0;34m(\u001B[0m\u001B[0;34m\"Champ de Mars, Paris, France\"\u001B[0m\u001B[0;34m)\u001B[0m\u001B[0;34m\u001B[0m\u001B[0;34m\u001B[0m\u001B[0m\n\u001B[1;32m      5\u001B[0m \u001B[0;34m\u001B[0m\u001B[0m\n",
      "\u001B[0;32m~/.conda/envs/Singapore-HDB/lib/python3.9/site-packages/geopy/geocoders/nominatim.py\u001B[0m in \u001B[0;36m__init__\u001B[0;34m(self, timeout, proxies, domain, scheme, user_agent, ssl_context, adapter_factory)\u001B[0m\n\u001B[1;32m    103\u001B[0m         if (self.domain == _DEFAULT_NOMINATIM_DOMAIN\n\u001B[1;32m    104\u001B[0m                 and self.headers['User-Agent'] in _REJECTED_USER_AGENTS):\n\u001B[0;32m--> 105\u001B[0;31m             raise ConfigurationError(\n\u001B[0m\u001B[1;32m    106\u001B[0m                 \u001B[0;34m'Using Nominatim with default or sample `user_agent` \"%s\" is '\u001B[0m\u001B[0;34m\u001B[0m\u001B[0;34m\u001B[0m\u001B[0m\n\u001B[1;32m    107\u001B[0m                 \u001B[0;34m'strongly discouraged, as it violates Nominatim\\'s ToS '\u001B[0m\u001B[0;34m\u001B[0m\u001B[0;34m\u001B[0m\u001B[0m\n",
      "\u001B[0;31mConfigurationError\u001B[0m: Using Nominatim with default or sample `user_agent` \"geopy/2.2.0\" is strongly discouraged, as it violates Nominatim's ToS https://operations.osmfoundation.org/policies/nominatim/ and may possibly cause 403 and 429 HTTP errors. Please specify a custom `user_agent` with `Nominatim(user_agent=\"my-application\")` or by overriding the default `user_agent`: `geopy.geocoders.options.default_user_agent = \"my-application\"`."
     ]
    }
   ],
   "source": [
    "from geopy.extra.rate_limiter import RateLimiter\n",
    "\n",
    "locator = Nominatim()\n",
    "location = locator.geocode(\"Champ de Mars, Paris, France\")\n",
    "\n",
    "print(\"Latitude = {}, Longitude = {}\".format(location.latitude, location.longitude))\n",
    "# # 1 - conveneint function to delay between geocoding calls\n",
    "# geocode = RateLimiter(locator.geocode, min_delay_seconds=1)"
   ],
   "metadata": {
    "collapsed": false,
    "pycharm": {
     "name": "#%%\n"
    }
   }
  },
  {
   "cell_type": "code",
   "execution_count": 15,
   "outputs": [
    {
     "name": "stderr",
     "output_type": "stream",
     "text": [
      "/Users/msmcmanus/.conda/envs/Singapore-HDB/lib/python3.9/site-packages/osmnx/geocoder.py:110: FutureWarning: The frame.append method is deprecated and will be removed from pandas in a future version. Use pandas.concat instead.\n",
      "  gdf = gdf.append(_geocode_query_to_gdf(q, wr, by_osmid))\n"
     ]
    },
    {
     "data": {
      "text/plain": "                        amenity     cuisine           name  \\\nelement_type osmid                                           \nnode         9082240450    cafe  bubble_tea  Tea Tree Cafe   \n\n                                          geometry  \nelement_type osmid                                  \nnode         9082240450  POINT (103.90192 1.40418)  ",
      "text/html": "<div>\n<style scoped>\n    .dataframe tbody tr th:only-of-type {\n        vertical-align: middle;\n    }\n\n    .dataframe tbody tr th {\n        vertical-align: top;\n    }\n\n    .dataframe thead th {\n        text-align: right;\n    }\n</style>\n<table border=\"1\" class=\"dataframe\">\n  <thead>\n    <tr style=\"text-align: right;\">\n      <th></th>\n      <th></th>\n      <th>amenity</th>\n      <th>cuisine</th>\n      <th>name</th>\n      <th>geometry</th>\n    </tr>\n    <tr>\n      <th>element_type</th>\n      <th>osmid</th>\n      <th></th>\n      <th></th>\n      <th></th>\n      <th></th>\n    </tr>\n  </thead>\n  <tbody>\n    <tr>\n      <th>node</th>\n      <th>9082240450</th>\n      <td>cafe</td>\n      <td>bubble_tea</td>\n      <td>Tea Tree Cafe</td>\n      <td>POINT (103.90192 1.40418)</td>\n    </tr>\n  </tbody>\n</table>\n</div>"
     },
     "execution_count": 15,
     "metadata": {},
     "output_type": "execute_result"
    }
   ],
   "source": [
    "import osmnx as ox\n",
    "\n",
    "\n",
    "place = 'Punggol, Singapore'\n",
    "\n",
    "tags = {'amenity': 'cafe'}\n",
    "cafe = ox.geometries_from_place(place, tags=tags)\n",
    "cafe.head()"
   ],
   "metadata": {
    "collapsed": false,
    "pycharm": {
     "name": "#%%\n"
    }
   }
  },
  {
   "cell_type": "code",
   "execution_count": 17,
   "outputs": [
    {
     "name": "stderr",
     "output_type": "stream",
     "text": [
      "/Users/msmcmanus/.conda/envs/Singapore-HDB/lib/python3.9/site-packages/osmnx/geocoder.py:110: FutureWarning: The frame.append method is deprecated and will be removed from pandas in a future version. Use pandas.concat instead.\n",
      "  gdf = gdf.append(_geocode_query_to_gdf(q, wr, by_osmid))\n"
     ]
    },
    {
     "data": {
      "text/plain": "Empty GeoDataFrame\nColumns: [geometry]\nIndex: []",
      "text/html": "<div>\n<style scoped>\n    .dataframe tbody tr th:only-of-type {\n        vertical-align: middle;\n    }\n\n    .dataframe tbody tr th {\n        vertical-align: top;\n    }\n\n    .dataframe thead th {\n        text-align: right;\n    }\n</style>\n<table border=\"1\" class=\"dataframe\">\n  <thead>\n    <tr style=\"text-align: right;\">\n      <th></th>\n      <th>geometry</th>\n    </tr>\n  </thead>\n  <tbody>\n  </tbody>\n</table>\n</div>"
     },
     "execution_count": 17,
     "metadata": {},
     "output_type": "execute_result"
    }
   ],
   "source": [
    "import osmnx as ox\n",
    "\n",
    "\n",
    "place = 'Serangoon, Singapore'\n",
    "\n",
    "tags = {'amenity': 'pub'}\n",
    "cafe = ox.geometries_from_place(place, tags=tags)\n",
    "cafe.head()"
   ],
   "metadata": {
    "collapsed": false,
    "pycharm": {
     "name": "#%%\n"
    }
   }
  },
  {
   "cell_type": "code",
   "execution_count": 18,
   "outputs": [
    {
     "name": "stderr",
     "output_type": "stream",
     "text": [
      "/Users/msmcmanus/.conda/envs/Singapore-HDB/lib/python3.9/site-packages/osmnx/geocoder.py:110: FutureWarning: The frame.append method is deprecated and will be removed from pandas in a future version. Use pandas.concat instead.\n",
      "  gdf = gdf.append(_geocode_query_to_gdf(q, wr, by_osmid))\n"
     ]
    },
    {
     "data": {
      "text/plain": "                            amenity level        name  \\\nelement_type osmid                                      \nnode         4621805807  restaurant     0    18 Chefs   \n             5942836033  restaurant     1   Swensen's   \n             5942836034  restaurant     3  Pastamania   \n             5942836045  restaurant     2   Sushi Tei   \n             5942836051  restaurant     1   Bali Thai   \n\n                                          geometry cuisine opening_hours  \\\nelement_type osmid                                                         \nnode         4621805807  POINT (103.87297 1.34996)     NaN           NaN   \n             5942836033  POINT (103.87189 1.35079)     NaN           NaN   \n             5942836034  POINT (103.87273 1.35064)     NaN           NaN   \n             5942836045  POINT (103.87281 1.35037)     NaN           NaN   \n             5942836051  POINT (103.87239 1.35078)     NaN           NaN   \n\n                        name:fa wheelchair brand brand:wikidata  ...  \\\nelement_type osmid                                               ...   \nnode         4621805807     NaN        NaN   NaN            NaN  ...   \n             5942836033     NaN        NaN   NaN            NaN  ...   \n             5942836034     NaN        NaN   NaN            NaN  ...   \n             5942836045     NaN        NaN   NaN            NaN  ...   \n             5942836051     NaN        NaN   NaN            NaN  ...   \n\n                        addr:street addr:unit air_conditioning branch  \\\nelement_type osmid                                                      \nnode         4621805807         NaN       NaN              NaN    NaN   \n             5942836033         NaN       NaN              NaN    NaN   \n             5942836034         NaN       NaN              NaN    NaN   \n             5942836045         NaN       NaN              NaN    NaN   \n             5942836051         NaN       NaN              NaN    NaN   \n\n                        diet:halal phone website name:en name:zh name:zh-Hant  \nelement_type osmid                                                             \nnode         4621805807        NaN   NaN     NaN     NaN     NaN          NaN  \n             5942836033        NaN   NaN     NaN     NaN     NaN          NaN  \n             5942836034        NaN   NaN     NaN     NaN     NaN          NaN  \n             5942836045        NaN   NaN     NaN     NaN     NaN          NaN  \n             5942836051        NaN   NaN     NaN     NaN     NaN          NaN  \n\n[5 rows x 27 columns]",
      "text/html": "<div>\n<style scoped>\n    .dataframe tbody tr th:only-of-type {\n        vertical-align: middle;\n    }\n\n    .dataframe tbody tr th {\n        vertical-align: top;\n    }\n\n    .dataframe thead th {\n        text-align: right;\n    }\n</style>\n<table border=\"1\" class=\"dataframe\">\n  <thead>\n    <tr style=\"text-align: right;\">\n      <th></th>\n      <th></th>\n      <th>amenity</th>\n      <th>level</th>\n      <th>name</th>\n      <th>geometry</th>\n      <th>cuisine</th>\n      <th>opening_hours</th>\n      <th>name:fa</th>\n      <th>wheelchair</th>\n      <th>brand</th>\n      <th>brand:wikidata</th>\n      <th>...</th>\n      <th>addr:street</th>\n      <th>addr:unit</th>\n      <th>air_conditioning</th>\n      <th>branch</th>\n      <th>diet:halal</th>\n      <th>phone</th>\n      <th>website</th>\n      <th>name:en</th>\n      <th>name:zh</th>\n      <th>name:zh-Hant</th>\n    </tr>\n    <tr>\n      <th>element_type</th>\n      <th>osmid</th>\n      <th></th>\n      <th></th>\n      <th></th>\n      <th></th>\n      <th></th>\n      <th></th>\n      <th></th>\n      <th></th>\n      <th></th>\n      <th></th>\n      <th></th>\n      <th></th>\n      <th></th>\n      <th></th>\n      <th></th>\n      <th></th>\n      <th></th>\n      <th></th>\n      <th></th>\n      <th></th>\n      <th></th>\n    </tr>\n  </thead>\n  <tbody>\n    <tr>\n      <th rowspan=\"5\" valign=\"top\">node</th>\n      <th>4621805807</th>\n      <td>restaurant</td>\n      <td>0</td>\n      <td>18 Chefs</td>\n      <td>POINT (103.87297 1.34996)</td>\n      <td>NaN</td>\n      <td>NaN</td>\n      <td>NaN</td>\n      <td>NaN</td>\n      <td>NaN</td>\n      <td>NaN</td>\n      <td>...</td>\n      <td>NaN</td>\n      <td>NaN</td>\n      <td>NaN</td>\n      <td>NaN</td>\n      <td>NaN</td>\n      <td>NaN</td>\n      <td>NaN</td>\n      <td>NaN</td>\n      <td>NaN</td>\n      <td>NaN</td>\n    </tr>\n    <tr>\n      <th>5942836033</th>\n      <td>restaurant</td>\n      <td>1</td>\n      <td>Swensen's</td>\n      <td>POINT (103.87189 1.35079)</td>\n      <td>NaN</td>\n      <td>NaN</td>\n      <td>NaN</td>\n      <td>NaN</td>\n      <td>NaN</td>\n      <td>NaN</td>\n      <td>...</td>\n      <td>NaN</td>\n      <td>NaN</td>\n      <td>NaN</td>\n      <td>NaN</td>\n      <td>NaN</td>\n      <td>NaN</td>\n      <td>NaN</td>\n      <td>NaN</td>\n      <td>NaN</td>\n      <td>NaN</td>\n    </tr>\n    <tr>\n      <th>5942836034</th>\n      <td>restaurant</td>\n      <td>3</td>\n      <td>Pastamania</td>\n      <td>POINT (103.87273 1.35064)</td>\n      <td>NaN</td>\n      <td>NaN</td>\n      <td>NaN</td>\n      <td>NaN</td>\n      <td>NaN</td>\n      <td>NaN</td>\n      <td>...</td>\n      <td>NaN</td>\n      <td>NaN</td>\n      <td>NaN</td>\n      <td>NaN</td>\n      <td>NaN</td>\n      <td>NaN</td>\n      <td>NaN</td>\n      <td>NaN</td>\n      <td>NaN</td>\n      <td>NaN</td>\n    </tr>\n    <tr>\n      <th>5942836045</th>\n      <td>restaurant</td>\n      <td>2</td>\n      <td>Sushi Tei</td>\n      <td>POINT (103.87281 1.35037)</td>\n      <td>NaN</td>\n      <td>NaN</td>\n      <td>NaN</td>\n      <td>NaN</td>\n      <td>NaN</td>\n      <td>NaN</td>\n      <td>...</td>\n      <td>NaN</td>\n      <td>NaN</td>\n      <td>NaN</td>\n      <td>NaN</td>\n      <td>NaN</td>\n      <td>NaN</td>\n      <td>NaN</td>\n      <td>NaN</td>\n      <td>NaN</td>\n      <td>NaN</td>\n    </tr>\n    <tr>\n      <th>5942836051</th>\n      <td>restaurant</td>\n      <td>1</td>\n      <td>Bali Thai</td>\n      <td>POINT (103.87239 1.35078)</td>\n      <td>NaN</td>\n      <td>NaN</td>\n      <td>NaN</td>\n      <td>NaN</td>\n      <td>NaN</td>\n      <td>NaN</td>\n      <td>...</td>\n      <td>NaN</td>\n      <td>NaN</td>\n      <td>NaN</td>\n      <td>NaN</td>\n      <td>NaN</td>\n      <td>NaN</td>\n      <td>NaN</td>\n      <td>NaN</td>\n      <td>NaN</td>\n      <td>NaN</td>\n    </tr>\n  </tbody>\n</table>\n<p>5 rows × 27 columns</p>\n</div>"
     },
     "execution_count": 18,
     "metadata": {},
     "output_type": "execute_result"
    }
   ],
   "source": [
    "import osmnx as ox\n",
    "\n",
    "\n",
    "place = 'Serangoon, Singapore'\n",
    "\n",
    "tags = {'amenity': 'restaurant'}\n",
    "cafe = ox.geometries_from_place(place, tags=tags)\n",
    "cafe.head()"
   ],
   "metadata": {
    "collapsed": false,
    "pycharm": {
     "name": "#%%\n"
    }
   }
  },
  {
   "cell_type": "code",
   "execution_count": 19,
   "outputs": [
    {
     "name": "stderr",
     "output_type": "stream",
     "text": [
      "/Users/msmcmanus/.conda/envs/Singapore-HDB/lib/python3.9/site-packages/osmnx/geocoder.py:110: FutureWarning: The frame.append method is deprecated and will be removed from pandas in a future version. Use pandas.concat instead.\n",
      "  gdf = gdf.append(_geocode_query_to_gdf(q, wr, by_osmid))\n"
     ]
    },
    {
     "data": {
      "text/plain": "Empty GeoDataFrame\nColumns: [geometry]\nIndex: []",
      "text/html": "<div>\n<style scoped>\n    .dataframe tbody tr th:only-of-type {\n        vertical-align: middle;\n    }\n\n    .dataframe tbody tr th {\n        vertical-align: top;\n    }\n\n    .dataframe thead th {\n        text-align: right;\n    }\n</style>\n<table border=\"1\" class=\"dataframe\">\n  <thead>\n    <tr style=\"text-align: right;\">\n      <th></th>\n      <th>geometry</th>\n    </tr>\n  </thead>\n  <tbody>\n  </tbody>\n</table>\n</div>"
     },
     "execution_count": 19,
     "metadata": {},
     "output_type": "execute_result"
    }
   ],
   "source": [
    "import osmnx as ox\n",
    "\n",
    "\n",
    "place = 'Serangoon, Singapore'\n",
    "\n",
    "tags = {'amenity': 'bar'}\n",
    "cafe = ox.geometries_from_place(place, tags=tags)\n",
    "cafe.head()"
   ],
   "metadata": {
    "collapsed": false,
    "pycharm": {
     "name": "#%%\n"
    }
   }
  },
  {
   "cell_type": "code",
   "execution_count": null,
   "outputs": [],
   "source": [],
   "metadata": {
    "collapsed": false,
    "pycharm": {
     "name": "#%%\n"
    }
   }
  }
 ],
 "metadata": {
  "kernelspec": {
   "display_name": "Python 3",
   "language": "python",
   "name": "python3"
  },
  "language_info": {
   "codemirror_mode": {
    "name": "ipython",
    "version": 2
   },
   "file_extension": ".py",
   "mimetype": "text/x-python",
   "name": "python",
   "nbconvert_exporter": "python",
   "pygments_lexer": "ipython2",
   "version": "2.7.6"
  }
 },
 "nbformat": 4,
 "nbformat_minor": 0
}