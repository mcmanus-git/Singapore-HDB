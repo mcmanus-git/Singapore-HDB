{
 "cells": [
  {
   "cell_type": "code",
   "execution_count": 1,
   "metadata": {
    "collapsed": true
   },
   "outputs": [],
   "source": [
    "import geopandas as gpd\n",
    "from sqlalchemy import create_engine\n",
    "from MyCreds.mycreds import Capstone_AWS_PG"
   ]
  },
  {
   "cell_type": "code",
   "execution_count": null,
   "outputs": [],
   "source": [
    "sql = \"\"\"SELECT *\n",
    "FROM resale_prices_norm a\n",
    "LEFT JOIN sg_buildings_location_features b\n",
    "ON CONCAT(a.block,' ',a.street_name) = CONCAT(b.blk_no,' ',b.short_r_name)\"\"\"\n",
    "\n",
    "engine = create_engine(f'postgresql+psycopg2://{Capstone_AWS_PG.username}:{Capstone_AWS_PG.password}@{Capstone_AWS_PG.host}/capstone', echo=False)\n",
    "\n",
    "with engine.connect() as cnxn:\n",
    "    df = gpd.read_postgis(sql, cnxn, geom_col='geometry')"
   ],
   "metadata": {
    "collapsed": false,
    "pycharm": {
     "name": "#%%\n",
     "is_executing": true
    }
   }
  }
 ],
 "metadata": {
  "kernelspec": {
   "display_name": "Python 3",
   "language": "python",
   "name": "python3"
  },
  "language_info": {
   "codemirror_mode": {
    "name": "ipython",
    "version": 2
   },
   "file_extension": ".py",
   "mimetype": "text/x-python",
   "name": "python",
   "nbconvert_exporter": "python",
   "pygments_lexer": "ipython2",
   "version": "2.7.6"
  }
 },
 "nbformat": 4,
 "nbformat_minor": 0
}