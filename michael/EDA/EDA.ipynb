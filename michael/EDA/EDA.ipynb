{
 "cells": [
  {
   "cell_type": "code",
   "execution_count": 1,
   "metadata": {
    "collapsed": true
   },
   "outputs": [],
   "source": [
    "import pandas as pd\n",
    "import matplotlib.pyplot as plt"
   ]
  },
  {
   "cell_type": "code",
   "execution_count": 2,
   "outputs": [
    {
     "data": {
      "text/plain": "          month        town  flat_type block        street_name storey_range  \\\n0       2017-01  ANG MO KIO     2 ROOM   406  ANG MO KIO AVE 10     10 TO 12   \n1       2017-01  ANG MO KIO     3 ROOM   108   ANG MO KIO AVE 4     01 TO 03   \n2       2017-01  ANG MO KIO     3 ROOM   602   ANG MO KIO AVE 5     01 TO 03   \n3       2017-01  ANG MO KIO     3 ROOM   465  ANG MO KIO AVE 10     04 TO 06   \n4       2017-01  ANG MO KIO     3 ROOM   601   ANG MO KIO AVE 5     01 TO 03   \n...         ...         ...        ...   ...                ...          ...   \n121469  2022-03      YISHUN     5 ROOM  504C       YISHUN ST 51     10 TO 12   \n121470  2022-03      YISHUN     5 ROOM  501B       YISHUN ST 51     07 TO 09   \n121471  2022-03      YISHUN     5 ROOM   820       YISHUN ST 81     07 TO 09   \n121472  2022-03      YISHUN  EXECUTIVE   359     YISHUN RING RD     01 TO 03   \n121473  2022-03      YISHUN  EXECUTIVE   277       YISHUN ST 22     10 TO 12   \n\n        floor_area_sqm      flat_model  lease_commence_date  \\\n0                 44.0        Improved                 1979   \n1                 67.0  New Generation                 1978   \n2                 67.0  New Generation                 1980   \n3                 68.0  New Generation                 1980   \n4                 67.0  New Generation                 1980   \n...                ...             ...                  ...   \n121469           112.0        Improved                 2016   \n121470           112.0        Improved                 2018   \n121471           122.0        Improved                 1988   \n121472           145.0       Apartment                 1988   \n121473           146.0      Maisonette                 1985   \n\n           remaining_lease  resale_price  \n0       61 years 04 months      232000.0  \n1       60 years 07 months      250000.0  \n2       62 years 05 months      262000.0  \n3        62 years 01 month      265000.0  \n4       62 years 05 months      265000.0  \n...                    ...           ...  \n121469   93 years 01 month      630000.0  \n121470  94 years 11 months      652000.0  \n121471  65 years 06 months      585000.0  \n121472  65 years 05 months      682000.0  \n121473  62 years 06 months      788000.0  \n\n[121474 rows x 11 columns]",
      "text/html": "<div>\n<style scoped>\n    .dataframe tbody tr th:only-of-type {\n        vertical-align: middle;\n    }\n\n    .dataframe tbody tr th {\n        vertical-align: top;\n    }\n\n    .dataframe thead th {\n        text-align: right;\n    }\n</style>\n<table border=\"1\" class=\"dataframe\">\n  <thead>\n    <tr style=\"text-align: right;\">\n      <th></th>\n      <th>month</th>\n      <th>town</th>\n      <th>flat_type</th>\n      <th>block</th>\n      <th>street_name</th>\n      <th>storey_range</th>\n      <th>floor_area_sqm</th>\n      <th>flat_model</th>\n      <th>lease_commence_date</th>\n      <th>remaining_lease</th>\n      <th>resale_price</th>\n    </tr>\n  </thead>\n  <tbody>\n    <tr>\n      <th>0</th>\n      <td>2017-01</td>\n      <td>ANG MO KIO</td>\n      <td>2 ROOM</td>\n      <td>406</td>\n      <td>ANG MO KIO AVE 10</td>\n      <td>10 TO 12</td>\n      <td>44.0</td>\n      <td>Improved</td>\n      <td>1979</td>\n      <td>61 years 04 months</td>\n      <td>232000.0</td>\n    </tr>\n    <tr>\n      <th>1</th>\n      <td>2017-01</td>\n      <td>ANG MO KIO</td>\n      <td>3 ROOM</td>\n      <td>108</td>\n      <td>ANG MO KIO AVE 4</td>\n      <td>01 TO 03</td>\n      <td>67.0</td>\n      <td>New Generation</td>\n      <td>1978</td>\n      <td>60 years 07 months</td>\n      <td>250000.0</td>\n    </tr>\n    <tr>\n      <th>2</th>\n      <td>2017-01</td>\n      <td>ANG MO KIO</td>\n      <td>3 ROOM</td>\n      <td>602</td>\n      <td>ANG MO KIO AVE 5</td>\n      <td>01 TO 03</td>\n      <td>67.0</td>\n      <td>New Generation</td>\n      <td>1980</td>\n      <td>62 years 05 months</td>\n      <td>262000.0</td>\n    </tr>\n    <tr>\n      <th>3</th>\n      <td>2017-01</td>\n      <td>ANG MO KIO</td>\n      <td>3 ROOM</td>\n      <td>465</td>\n      <td>ANG MO KIO AVE 10</td>\n      <td>04 TO 06</td>\n      <td>68.0</td>\n      <td>New Generation</td>\n      <td>1980</td>\n      <td>62 years 01 month</td>\n      <td>265000.0</td>\n    </tr>\n    <tr>\n      <th>4</th>\n      <td>2017-01</td>\n      <td>ANG MO KIO</td>\n      <td>3 ROOM</td>\n      <td>601</td>\n      <td>ANG MO KIO AVE 5</td>\n      <td>01 TO 03</td>\n      <td>67.0</td>\n      <td>New Generation</td>\n      <td>1980</td>\n      <td>62 years 05 months</td>\n      <td>265000.0</td>\n    </tr>\n    <tr>\n      <th>...</th>\n      <td>...</td>\n      <td>...</td>\n      <td>...</td>\n      <td>...</td>\n      <td>...</td>\n      <td>...</td>\n      <td>...</td>\n      <td>...</td>\n      <td>...</td>\n      <td>...</td>\n      <td>...</td>\n    </tr>\n    <tr>\n      <th>121469</th>\n      <td>2022-03</td>\n      <td>YISHUN</td>\n      <td>5 ROOM</td>\n      <td>504C</td>\n      <td>YISHUN ST 51</td>\n      <td>10 TO 12</td>\n      <td>112.0</td>\n      <td>Improved</td>\n      <td>2016</td>\n      <td>93 years 01 month</td>\n      <td>630000.0</td>\n    </tr>\n    <tr>\n      <th>121470</th>\n      <td>2022-03</td>\n      <td>YISHUN</td>\n      <td>5 ROOM</td>\n      <td>501B</td>\n      <td>YISHUN ST 51</td>\n      <td>07 TO 09</td>\n      <td>112.0</td>\n      <td>Improved</td>\n      <td>2018</td>\n      <td>94 years 11 months</td>\n      <td>652000.0</td>\n    </tr>\n    <tr>\n      <th>121471</th>\n      <td>2022-03</td>\n      <td>YISHUN</td>\n      <td>5 ROOM</td>\n      <td>820</td>\n      <td>YISHUN ST 81</td>\n      <td>07 TO 09</td>\n      <td>122.0</td>\n      <td>Improved</td>\n      <td>1988</td>\n      <td>65 years 06 months</td>\n      <td>585000.0</td>\n    </tr>\n    <tr>\n      <th>121472</th>\n      <td>2022-03</td>\n      <td>YISHUN</td>\n      <td>EXECUTIVE</td>\n      <td>359</td>\n      <td>YISHUN RING RD</td>\n      <td>01 TO 03</td>\n      <td>145.0</td>\n      <td>Apartment</td>\n      <td>1988</td>\n      <td>65 years 05 months</td>\n      <td>682000.0</td>\n    </tr>\n    <tr>\n      <th>121473</th>\n      <td>2022-03</td>\n      <td>YISHUN</td>\n      <td>EXECUTIVE</td>\n      <td>277</td>\n      <td>YISHUN ST 22</td>\n      <td>10 TO 12</td>\n      <td>146.0</td>\n      <td>Maisonette</td>\n      <td>1985</td>\n      <td>62 years 06 months</td>\n      <td>788000.0</td>\n    </tr>\n  </tbody>\n</table>\n<p>121474 rows × 11 columns</p>\n</div>"
     },
     "execution_count": 2,
     "metadata": {},
     "output_type": "execute_result"
    }
   ],
   "source": [
    "df = pd.read_csv('../data/resale-flat-prices/resale-flat-prices-based-on-registration-date-from-jan-2017-onwards.csv')\n",
    "df"
   ],
   "metadata": {
    "collapsed": false,
    "pycharm": {
     "name": "#%%\n"
    }
   }
  },
  {
   "cell_type": "code",
   "execution_count": 3,
   "outputs": [
    {
     "data": {
      "text/plain": "month                   object\ntown                    object\nflat_type               object\nblock                   object\nstreet_name             object\nstorey_range            object\nfloor_area_sqm         float64\nflat_model              object\nlease_commence_date      int64\nremaining_lease         object\nresale_price           float64\ndtype: object"
     },
     "execution_count": 3,
     "metadata": {},
     "output_type": "execute_result"
    }
   ],
   "source": [
    "df.dtypes"
   ],
   "metadata": {
    "collapsed": false,
    "pycharm": {
     "name": "#%%\n"
    }
   }
  },
  {
   "cell_type": "code",
   "execution_count": 4,
   "outputs": [
    {
     "data": {
      "text/plain": "            month        town  flat_type block        street_name  \\\n0      2017-01-01  ANG MO KIO     2 ROOM   406  ANG MO KIO AVE 10   \n1      2017-01-01  ANG MO KIO     3 ROOM   108   ANG MO KIO AVE 4   \n2      2017-01-01  ANG MO KIO     3 ROOM   602   ANG MO KIO AVE 5   \n3      2017-01-01  ANG MO KIO     3 ROOM   465  ANG MO KIO AVE 10   \n4      2017-01-01  ANG MO KIO     3 ROOM   601   ANG MO KIO AVE 5   \n...           ...         ...        ...   ...                ...   \n121469 2022-03-01      YISHUN     5 ROOM  504C       YISHUN ST 51   \n121470 2022-03-01      YISHUN     5 ROOM  501B       YISHUN ST 51   \n121471 2022-03-01      YISHUN     5 ROOM   820       YISHUN ST 81   \n121472 2022-03-01      YISHUN  EXECUTIVE   359     YISHUN RING RD   \n121473 2022-03-01      YISHUN  EXECUTIVE   277       YISHUN ST 22   \n\n       storey_range  floor_area_sqm      flat_model  lease_commence_date  \\\n0          10 TO 12            44.0        Improved                 1979   \n1          01 TO 03            67.0  New Generation                 1978   \n2          01 TO 03            67.0  New Generation                 1980   \n3          04 TO 06            68.0  New Generation                 1980   \n4          01 TO 03            67.0  New Generation                 1980   \n...             ...             ...             ...                  ...   \n121469     10 TO 12           112.0        Improved                 2016   \n121470     07 TO 09           112.0        Improved                 2018   \n121471     07 TO 09           122.0        Improved                 1988   \n121472     01 TO 03           145.0       Apartment                 1988   \n121473     10 TO 12           146.0      Maisonette                 1985   \n\n           remaining_lease  resale_price  \n0       61 years 04 months      232000.0  \n1       60 years 07 months      250000.0  \n2       62 years 05 months      262000.0  \n3        62 years 01 month      265000.0  \n4       62 years 05 months      265000.0  \n...                    ...           ...  \n121469   93 years 01 month      630000.0  \n121470  94 years 11 months      652000.0  \n121471  65 years 06 months      585000.0  \n121472  65 years 05 months      682000.0  \n121473  62 years 06 months      788000.0  \n\n[121474 rows x 11 columns]",
      "text/html": "<div>\n<style scoped>\n    .dataframe tbody tr th:only-of-type {\n        vertical-align: middle;\n    }\n\n    .dataframe tbody tr th {\n        vertical-align: top;\n    }\n\n    .dataframe thead th {\n        text-align: right;\n    }\n</style>\n<table border=\"1\" class=\"dataframe\">\n  <thead>\n    <tr style=\"text-align: right;\">\n      <th></th>\n      <th>month</th>\n      <th>town</th>\n      <th>flat_type</th>\n      <th>block</th>\n      <th>street_name</th>\n      <th>storey_range</th>\n      <th>floor_area_sqm</th>\n      <th>flat_model</th>\n      <th>lease_commence_date</th>\n      <th>remaining_lease</th>\n      <th>resale_price</th>\n    </tr>\n  </thead>\n  <tbody>\n    <tr>\n      <th>0</th>\n      <td>2017-01-01</td>\n      <td>ANG MO KIO</td>\n      <td>2 ROOM</td>\n      <td>406</td>\n      <td>ANG MO KIO AVE 10</td>\n      <td>10 TO 12</td>\n      <td>44.0</td>\n      <td>Improved</td>\n      <td>1979</td>\n      <td>61 years 04 months</td>\n      <td>232000.0</td>\n    </tr>\n    <tr>\n      <th>1</th>\n      <td>2017-01-01</td>\n      <td>ANG MO KIO</td>\n      <td>3 ROOM</td>\n      <td>108</td>\n      <td>ANG MO KIO AVE 4</td>\n      <td>01 TO 03</td>\n      <td>67.0</td>\n      <td>New Generation</td>\n      <td>1978</td>\n      <td>60 years 07 months</td>\n      <td>250000.0</td>\n    </tr>\n    <tr>\n      <th>2</th>\n      <td>2017-01-01</td>\n      <td>ANG MO KIO</td>\n      <td>3 ROOM</td>\n      <td>602</td>\n      <td>ANG MO KIO AVE 5</td>\n      <td>01 TO 03</td>\n      <td>67.0</td>\n      <td>New Generation</td>\n      <td>1980</td>\n      <td>62 years 05 months</td>\n      <td>262000.0</td>\n    </tr>\n    <tr>\n      <th>3</th>\n      <td>2017-01-01</td>\n      <td>ANG MO KIO</td>\n      <td>3 ROOM</td>\n      <td>465</td>\n      <td>ANG MO KIO AVE 10</td>\n      <td>04 TO 06</td>\n      <td>68.0</td>\n      <td>New Generation</td>\n      <td>1980</td>\n      <td>62 years 01 month</td>\n      <td>265000.0</td>\n    </tr>\n    <tr>\n      <th>4</th>\n      <td>2017-01-01</td>\n      <td>ANG MO KIO</td>\n      <td>3 ROOM</td>\n      <td>601</td>\n      <td>ANG MO KIO AVE 5</td>\n      <td>01 TO 03</td>\n      <td>67.0</td>\n      <td>New Generation</td>\n      <td>1980</td>\n      <td>62 years 05 months</td>\n      <td>265000.0</td>\n    </tr>\n    <tr>\n      <th>...</th>\n      <td>...</td>\n      <td>...</td>\n      <td>...</td>\n      <td>...</td>\n      <td>...</td>\n      <td>...</td>\n      <td>...</td>\n      <td>...</td>\n      <td>...</td>\n      <td>...</td>\n      <td>...</td>\n    </tr>\n    <tr>\n      <th>121469</th>\n      <td>2022-03-01</td>\n      <td>YISHUN</td>\n      <td>5 ROOM</td>\n      <td>504C</td>\n      <td>YISHUN ST 51</td>\n      <td>10 TO 12</td>\n      <td>112.0</td>\n      <td>Improved</td>\n      <td>2016</td>\n      <td>93 years 01 month</td>\n      <td>630000.0</td>\n    </tr>\n    <tr>\n      <th>121470</th>\n      <td>2022-03-01</td>\n      <td>YISHUN</td>\n      <td>5 ROOM</td>\n      <td>501B</td>\n      <td>YISHUN ST 51</td>\n      <td>07 TO 09</td>\n      <td>112.0</td>\n      <td>Improved</td>\n      <td>2018</td>\n      <td>94 years 11 months</td>\n      <td>652000.0</td>\n    </tr>\n    <tr>\n      <th>121471</th>\n      <td>2022-03-01</td>\n      <td>YISHUN</td>\n      <td>5 ROOM</td>\n      <td>820</td>\n      <td>YISHUN ST 81</td>\n      <td>07 TO 09</td>\n      <td>122.0</td>\n      <td>Improved</td>\n      <td>1988</td>\n      <td>65 years 06 months</td>\n      <td>585000.0</td>\n    </tr>\n    <tr>\n      <th>121472</th>\n      <td>2022-03-01</td>\n      <td>YISHUN</td>\n      <td>EXECUTIVE</td>\n      <td>359</td>\n      <td>YISHUN RING RD</td>\n      <td>01 TO 03</td>\n      <td>145.0</td>\n      <td>Apartment</td>\n      <td>1988</td>\n      <td>65 years 05 months</td>\n      <td>682000.0</td>\n    </tr>\n    <tr>\n      <th>121473</th>\n      <td>2022-03-01</td>\n      <td>YISHUN</td>\n      <td>EXECUTIVE</td>\n      <td>277</td>\n      <td>YISHUN ST 22</td>\n      <td>10 TO 12</td>\n      <td>146.0</td>\n      <td>Maisonette</td>\n      <td>1985</td>\n      <td>62 years 06 months</td>\n      <td>788000.0</td>\n    </tr>\n  </tbody>\n</table>\n<p>121474 rows × 11 columns</p>\n</div>"
     },
     "execution_count": 4,
     "metadata": {},
     "output_type": "execute_result"
    }
   ],
   "source": [
    "df['month'] = pd.to_datetime(df['month'])\n",
    "df"
   ],
   "metadata": {
    "collapsed": false,
    "pycharm": {
     "name": "#%%\n"
    }
   }
  },
  {
   "cell_type": "code",
   "execution_count": 5,
   "outputs": [
    {
     "data": {
      "text/plain": "array([2017, 2018, 2019, 2020, 2021, 2022])"
     },
     "execution_count": 5,
     "metadata": {},
     "output_type": "execute_result"
    }
   ],
   "source": [
    "df['month'].dt.year.unique()"
   ],
   "metadata": {
    "collapsed": false,
    "pycharm": {
     "name": "#%%\n"
    }
   }
  },
  {
   "cell_type": "code",
   "execution_count": 6,
   "outputs": [
    {
     "data": {
      "text/plain": "2021    29096\n2020    23333\n2019    22186\n2018    21561\n2017    20509\n2022     4789\nName: month, dtype: int64"
     },
     "execution_count": 6,
     "metadata": {},
     "output_type": "execute_result"
    }
   ],
   "source": [
    "df['month'].dt.year.value_counts()"
   ],
   "metadata": {
    "collapsed": false,
    "pycharm": {
     "name": "#%%\n"
    }
   }
  },
  {
   "cell_type": "code",
   "execution_count": 9,
   "outputs": [
    {
     "data": {
      "text/plain": "<AxesSubplot:xlabel='month'>"
     },
     "execution_count": 9,
     "metadata": {},
     "output_type": "execute_result"
    },
    {
     "data": {
      "text/plain": "<Figure size 432x288 with 1 Axes>",
      "image/png": "[encoded data removed]"
     },
     "metadata": {
      "needs_background": "light"
     },
     "output_type": "display_data"
    }
   ],
   "source": [
    "df.groupby('month').mean()['resale_price'].plot()"
   ],
   "metadata": {
    "collapsed": false,
    "pycharm": {
     "name": "#%%\n"
    }
   }
  },
  {
   "cell_type": "markdown",
   "source": [
    "# Combining Data"
   ],
   "metadata": {
    "collapsed": false,
    "pycharm": {
     "name": "#%% md\n"
    }
   }
  },
  {
   "cell_type": "code",
   "execution_count": 1,
   "outputs": [],
   "source": [
    "import pandas as pd\n",
    "import os"
   ],
   "metadata": {
    "collapsed": false,
    "pycharm": {
     "name": "#%%\n"
    }
   }
  },
  {
   "cell_type": "code",
   "execution_count": 118,
   "outputs": [
    {
     "data": {
      "text/plain": "['resale-flat-prices-based-on-registration-date-from-march-2012-to-march-2022.pkl',\n 'resale-flat-prices-based-on-registration-date-from-mar-2012-to-dec-2014.csv',\n 'resale-flat-prices-based-on-approval-date-1990-1999.csv',\n 'resale-flat-prices-based-on-registration-date-from-jan-2017-onwards.csv',\n 'resale-flat-prices-based-on-approval-date-2000-feb-2012.csv',\n 'metadata-resale-flat-prices.txt',\n 'resale-flat-prices-based-on-registration-date-from-jan-2015-to-dec-2016.csv']"
     },
     "execution_count": 118,
     "metadata": {},
     "output_type": "execute_result"
    }
   ],
   "source": [
    "os.listdir('../data/resale-flat-prices/')"
   ],
   "metadata": {
    "collapsed": false,
    "pycharm": {
     "name": "#%%\n"
    }
   }
  },
  {
   "cell_type": "markdown",
   "source": [
    "## Based on Registration"
   ],
   "metadata": {
    "collapsed": false,
    "pycharm": {
     "name": "#%% md\n"
    }
   }
  },
  {
   "cell_type": "code",
   "execution_count": 135,
   "outputs": [],
   "source": [
    "def create_resale_registration():\n",
    "\n",
    "    base_dir = '../data/resale-flat-prices/'\n",
    "    df = pd.DataFrame()\n",
    "    for file in os.listdir('../data/resale-flat-prices/'):\n",
    "        if \"registration-date\" in file and 'csv' in file:\n",
    "            df = pd.concat([df, pd.read_csv(f'{base_dir}{file}')])\n",
    "\n",
    "    return df"
   ],
   "metadata": {
    "collapsed": false,
    "pycharm": {
     "name": "#%%\n"
    }
   }
  },
  {
   "cell_type": "code",
   "execution_count": 136,
   "outputs": [
    {
     "data": {
      "text/plain": "         month        town         flat_type block        street_name  \\\n0      2012-03  ANG MO KIO            2 ROOM   172   ANG MO KIO AVE 4   \n1      2012-03  ANG MO KIO            2 ROOM   510   ANG MO KIO AVE 8   \n2      2012-03  ANG MO KIO            3 ROOM   610   ANG MO KIO AVE 4   \n3      2012-03  ANG MO KIO            3 ROOM   474  ANG MO KIO AVE 10   \n4      2012-03  ANG MO KIO            3 ROOM   604   ANG MO KIO AVE 5   \n...        ...         ...               ...   ...                ...   \n37148  2016-12      YISHUN            5 ROOM   297       YISHUN ST 20   \n37149  2016-12      YISHUN            5 ROOM   838       YISHUN ST 81   \n37150  2016-12      YISHUN         EXECUTIVE   664       YISHUN AVE 4   \n37151  2016-12      YISHUN         EXECUTIVE   325        YISHUN CTRL   \n37152  2016-12      YISHUN  MULTI-GENERATION   666       YISHUN AVE 4   \n\n      storey_range  floor_area_sqm        flat_model  lease_commence_date  \\\n0         06 TO 10            45.0          Improved                 1986   \n1         01 TO 05            44.0          Improved                 1980   \n2         06 TO 10            68.0    New Generation                 1980   \n3         01 TO 05            67.0    New Generation                 1984   \n4         06 TO 10            67.0    New Generation                 1980   \n...            ...             ...               ...                  ...   \n37148     13 TO 15           112.0          Improved                 2000   \n37149     01 TO 03           122.0          Improved                 1987   \n37150     10 TO 12           181.0         Apartment                 1992   \n37151     01 TO 03           146.0        Maisonette                 1988   \n37152     10 TO 12           164.0  Multi Generation                 1987   \n\n       resale_price remaining_lease  \n0          250000.0             NaN  \n1          265000.0             NaN  \n2          315000.0             NaN  \n3          320000.0             NaN  \n4          321000.0             NaN  \n...             ...             ...  \n37148      488000.0              82  \n37149      455000.0              69  \n37150      778000.0              74  \n37151      575000.0              70  \n37152      735000.0              70  \n\n[210830 rows x 11 columns]",
      "text/html": "<div>\n<style scoped>\n    .dataframe tbody tr th:only-of-type {\n        vertical-align: middle;\n    }\n\n    .dataframe tbody tr th {\n        vertical-align: top;\n    }\n\n    .dataframe thead th {\n        text-align: right;\n    }\n</style>\n<table border=\"1\" class=\"dataframe\">\n  <thead>\n    <tr style=\"text-align: right;\">\n      <th></th>\n      <th>month</th>\n      <th>town</th>\n      <th>flat_type</th>\n      <th>block</th>\n      <th>street_name</th>\n      <th>storey_range</th>\n      <th>floor_area_sqm</th>\n      <th>flat_model</th>\n      <th>lease_commence_date</th>\n      <th>resale_price</th>\n      <th>remaining_lease</th>\n    </tr>\n  </thead>\n  <tbody>\n    <tr>\n      <th>0</th>\n      <td>2012-03</td>\n      <td>ANG MO KIO</td>\n      <td>2 ROOM</td>\n      <td>172</td>\n      <td>ANG MO KIO AVE 4</td>\n      <td>06 TO 10</td>\n      <td>45.0</td>\n      <td>Improved</td>\n      <td>1986</td>\n      <td>250000.0</td>\n      <td>NaN</td>\n    </tr>\n    <tr>\n      <th>1</th>\n      <td>2012-03</td>\n      <td>ANG MO KIO</td>\n      <td>2 ROOM</td>\n      <td>510</td>\n      <td>ANG MO KIO AVE 8</td>\n      <td>01 TO 05</td>\n      <td>44.0</td>\n      <td>Improved</td>\n      <td>1980</td>\n      <td>265000.0</td>\n      <td>NaN</td>\n    </tr>\n    <tr>\n      <th>2</th>\n      <td>2012-03</td>\n      <td>ANG MO KIO</td>\n      <td>3 ROOM</td>\n      <td>610</td>\n      <td>ANG MO KIO AVE 4</td>\n      <td>06 TO 10</td>\n      <td>68.0</td>\n      <td>New Generation</td>\n      <td>1980</td>\n      <td>315000.0</td>\n      <td>NaN</td>\n    </tr>\n    <tr>\n      <th>3</th>\n      <td>2012-03</td>\n      <td>ANG MO KIO</td>\n      <td>3 ROOM</td>\n      <td>474</td>\n      <td>ANG MO KIO AVE 10</td>\n      <td>01 TO 05</td>\n      <td>67.0</td>\n      <td>New Generation</td>\n      <td>1984</td>\n      <td>320000.0</td>\n      <td>NaN</td>\n    </tr>\n    <tr>\n      <th>4</th>\n      <td>2012-03</td>\n      <td>ANG MO KIO</td>\n      <td>3 ROOM</td>\n      <td>604</td>\n      <td>ANG MO KIO AVE 5</td>\n      <td>06 TO 10</td>\n      <td>67.0</td>\n      <td>New Generation</td>\n      <td>1980</td>\n      <td>321000.0</td>\n      <td>NaN</td>\n    </tr>\n    <tr>\n      <th>...</th>\n      <td>...</td>\n      <td>...</td>\n      <td>...</td>\n      <td>...</td>\n      <td>...</td>\n      <td>...</td>\n      <td>...</td>\n      <td>...</td>\n      <td>...</td>\n      <td>...</td>\n      <td>...</td>\n    </tr>\n    <tr>\n      <th>37148</th>\n      <td>2016-12</td>\n      <td>YISHUN</td>\n      <td>5 ROOM</td>\n      <td>297</td>\n      <td>YISHUN ST 20</td>\n      <td>13 TO 15</td>\n      <td>112.0</td>\n      <td>Improved</td>\n      <td>2000</td>\n      <td>488000.0</td>\n      <td>82</td>\n    </tr>\n    <tr>\n      <th>37149</th>\n      <td>2016-12</td>\n      <td>YISHUN</td>\n      <td>5 ROOM</td>\n      <td>838</td>\n      <td>YISHUN ST 81</td>\n      <td>01 TO 03</td>\n      <td>122.0</td>\n      <td>Improved</td>\n      <td>1987</td>\n      <td>455000.0</td>\n      <td>69</td>\n    </tr>\n    <tr>\n      <th>37150</th>\n      <td>2016-12</td>\n      <td>YISHUN</td>\n      <td>EXECUTIVE</td>\n      <td>664</td>\n      <td>YISHUN AVE 4</td>\n      <td>10 TO 12</td>\n      <td>181.0</td>\n      <td>Apartment</td>\n      <td>1992</td>\n      <td>778000.0</td>\n      <td>74</td>\n    </tr>\n    <tr>\n      <th>37151</th>\n      <td>2016-12</td>\n      <td>YISHUN</td>\n      <td>EXECUTIVE</td>\n      <td>325</td>\n      <td>YISHUN CTRL</td>\n      <td>01 TO 03</td>\n      <td>146.0</td>\n      <td>Maisonette</td>\n      <td>1988</td>\n      <td>575000.0</td>\n      <td>70</td>\n    </tr>\n    <tr>\n      <th>37152</th>\n      <td>2016-12</td>\n      <td>YISHUN</td>\n      <td>MULTI-GENERATION</td>\n      <td>666</td>\n      <td>YISHUN AVE 4</td>\n      <td>10 TO 12</td>\n      <td>164.0</td>\n      <td>Multi Generation</td>\n      <td>1987</td>\n      <td>735000.0</td>\n      <td>70</td>\n    </tr>\n  </tbody>\n</table>\n<p>210830 rows × 11 columns</p>\n</div>"
     },
     "execution_count": 136,
     "metadata": {},
     "output_type": "execute_result"
    }
   ],
   "source": [
    "df_registration = create_resale_registration()\n",
    "df_registration"
   ],
   "metadata": {
    "collapsed": false,
    "pycharm": {
     "name": "#%%\n"
    }
   }
  },
  {
   "cell_type": "code",
   "execution_count": 137,
   "outputs": [],
   "source": [
    "def clean_registration_df(df):\n",
    "\n",
    "    df['month'] = pd.to_datetime(df['month'])\n",
    "    df['n_rooms'] = df_registration['flat_type'].str.extract('(\\d)').astype('Int64')\n",
    "    df['n_rooms'] = df['n_rooms'].astype('Int64')\n",
    "    # Convert story range to min and max int columns\n",
    "    df['storey_range_min'] = df['storey_range'].str[:2].astype(int)\n",
    "    df['storey_range_max'] = df['storey_range'].str[-2:].astype(int)\n",
    "\n",
    "    # Convert remaining lease years to int years and int months remaining columns\n",
    "    df['remaining_lease_years'] = df['remaining_lease'].str.extract('(?P<remaining_lease_years>\\d{2}) year[s]?')\n",
    "    df[['remaining_lease_months', 'remaining_lease_month']] = df['remaining_lease'].str.extract('\\d{2} year[s]? (?P<remaining_lease_months>\\d{2}) month[s]?|(?P<remaining_lease_month>\\d{2}) month[s]?')\n",
    "    df.drop('remaining_lease_month', axis=1, inplace=True)\n",
    "    df[['remaining_lease_years', 'remaining_lease_months']] = df[['remaining_lease_years', 'remaining_lease_months']].astype('Int64').copy()\n",
    "\n",
    "    df.sort_values('month', ascending=True, inplace=True)\n",
    "    df.reset_index(inplace=True, drop=True)\n",
    "    df['remaining_lease_months'].fillna(pd.Series(np.where(df['remaining_lease'].isnull(), np.nan, 0)), inplace=True)\n",
    "\n",
    "\n",
    "\n",
    "    return df"
   ],
   "metadata": {
    "collapsed": false,
    "pycharm": {
     "name": "#%%\n"
    }
   }
  },
  {
   "cell_type": "code",
   "execution_count": 138,
   "outputs": [
    {
     "data": {
      "text/plain": "            month           town flat_type block       street_name  \\\n0      2012-03-01     ANG MO KIO    2 ROOM   172  ANG MO KIO AVE 4   \n1      2012-03-01       SENGKANG    4 ROOM  184B    RIVERVALE CRES   \n2      2012-03-01       SENGKANG    4 ROOM  201B    COMPASSVALE DR   \n3      2012-03-01       SENGKANG    4 ROOM  311B   ANCHORVALE LANE   \n4      2012-03-01       SENGKANG    4 ROOM  259B    COMPASSVALE RD   \n...           ...            ...       ...   ...               ...   \n210825 2022-03-01       CLEMENTI    3 ROOM  208B    CLEMENTI AVE 6   \n210826 2022-03-01       CLEMENTI    3 ROOM   320    CLEMENTI AVE 4   \n210827 2022-03-01       CLEMENTI    3 ROOM   334    CLEMENTI AVE 2   \n210828 2022-03-01        GEYLANG    3 ROOM     3      JOO CHIAT RD   \n210829 2022-03-01  BUKIT PANJANG    4 ROOM   149          PETIR RD   \n\n       storey_range  floor_area_sqm         flat_model  lease_commence_date  \\\n0          06 TO 10            45.0           Improved                 1986   \n1          11 TO 15            90.0            Model A                 2003   \n2          11 TO 15            90.0            Model A                 2001   \n3          01 TO 05            95.0  Premium Apartment                 2002   \n4          01 TO 05            85.0           Model A2                 2001   \n...             ...             ...                ...                  ...   \n210825     19 TO 21            68.0            Model A                 2017   \n210826     04 TO 06            67.0     New Generation                 1979   \n210827     07 TO 09            67.0     New Generation                 1978   \n210828     10 TO 12            74.0            Model A                 1985   \n210829     01 TO 03           103.0            Model A                 1988   \n\n        resale_price     remaining_lease  n_rooms  storey_range_min  \\\n0           250000.0                 NaN        2                 6   \n1           436000.0                 NaN        4                11   \n2           437000.0                 NaN        4                11   \n3           438000.0                 NaN        4                 1   \n4           438000.0                 NaN        4                 1   \n...              ...                 ...      ...               ...   \n210825      575000.0  94 years 08 months        3                19   \n210826      380888.0  56 years 02 months        3                 4   \n210827      416000.0  55 years 05 months        3                 7   \n210828      470000.0  62 years 10 months        3                10   \n210829      420000.0  65 years 08 months        4                 1   \n\n        storey_range_max  remaining_lease_years  remaining_lease_months  \n0                     10                   <NA>                    <NA>  \n1                     15                   <NA>                    <NA>  \n2                     15                   <NA>                    <NA>  \n3                      5                   <NA>                    <NA>  \n4                      5                   <NA>                    <NA>  \n...                  ...                    ...                     ...  \n210825                21                     94                       8  \n210826                 6                     56                       2  \n210827                 9                     55                       5  \n210828                12                     62                      10  \n210829                 3                     65                       8  \n\n[210830 rows x 16 columns]",
      "text/html": "<div>\n<style scoped>\n    .dataframe tbody tr th:only-of-type {\n        vertical-align: middle;\n    }\n\n    .dataframe tbody tr th {\n        vertical-align: top;\n    }\n\n    .dataframe thead th {\n        text-align: right;\n    }\n</style>\n<table border=\"1\" class=\"dataframe\">\n  <thead>\n    <tr style=\"text-align: right;\">\n      <th></th>\n      <th>month</th>\n      <th>town</th>\n      <th>flat_type</th>\n      <th>block</th>\n      <th>street_name</th>\n      <th>storey_range</th>\n      <th>floor_area_sqm</th>\n      <th>flat_model</th>\n      <th>lease_commence_date</th>\n      <th>resale_price</th>\n      <th>remaining_lease</th>\n      <th>n_rooms</th>\n      <th>storey_range_min</th>\n      <th>storey_range_max</th>\n      <th>remaining_lease_years</th>\n      <th>remaining_lease_months</th>\n    </tr>\n  </thead>\n  <tbody>\n    <tr>\n      <th>0</th>\n      <td>2012-03-01</td>\n      <td>ANG MO KIO</td>\n      <td>2 ROOM</td>\n      <td>172</td>\n      <td>ANG MO KIO AVE 4</td>\n      <td>06 TO 10</td>\n      <td>45.0</td>\n      <td>Improved</td>\n      <td>1986</td>\n      <td>250000.0</td>\n      <td>NaN</td>\n      <td>2</td>\n      <td>6</td>\n      <td>10</td>\n      <td>&lt;NA&gt;</td>\n      <td>&lt;NA&gt;</td>\n    </tr>\n    <tr>\n      <th>1</th>\n      <td>2012-03-01</td>\n      <td>SENGKANG</td>\n      <td>4 ROOM</td>\n      <td>184B</td>\n      <td>RIVERVALE CRES</td>\n      <td>11 TO 15</td>\n      <td>90.0</td>\n      <td>Model A</td>\n      <td>2003</td>\n      <td>436000.0</td>\n      <td>NaN</td>\n      <td>4</td>\n      <td>11</td>\n      <td>15</td>\n      <td>&lt;NA&gt;</td>\n      <td>&lt;NA&gt;</td>\n    </tr>\n    <tr>\n      <th>2</th>\n      <td>2012-03-01</td>\n      <td>SENGKANG</td>\n      <td>4 ROOM</td>\n      <td>201B</td>\n      <td>COMPASSVALE DR</td>\n      <td>11 TO 15</td>\n      <td>90.0</td>\n      <td>Model A</td>\n      <td>2001</td>\n      <td>437000.0</td>\n      <td>NaN</td>\n      <td>4</td>\n      <td>11</td>\n      <td>15</td>\n      <td>&lt;NA&gt;</td>\n      <td>&lt;NA&gt;</td>\n    </tr>\n    <tr>\n      <th>3</th>\n      <td>2012-03-01</td>\n      <td>SENGKANG</td>\n      <td>4 ROOM</td>\n      <td>311B</td>\n      <td>ANCHORVALE LANE</td>\n      <td>01 TO 05</td>\n      <td>95.0</td>\n      <td>Premium Apartment</td>\n      <td>2002</td>\n      <td>438000.0</td>\n      <td>NaN</td>\n      <td>4</td>\n      <td>1</td>\n      <td>5</td>\n      <td>&lt;NA&gt;</td>\n      <td>&lt;NA&gt;</td>\n    </tr>\n    <tr>\n      <th>4</th>\n      <td>2012-03-01</td>\n      <td>SENGKANG</td>\n      <td>4 ROOM</td>\n      <td>259B</td>\n      <td>COMPASSVALE RD</td>\n      <td>01 TO 05</td>\n      <td>85.0</td>\n      <td>Model A2</td>\n      <td>2001</td>\n      <td>438000.0</td>\n      <td>NaN</td>\n      <td>4</td>\n      <td>1</td>\n      <td>5</td>\n      <td>&lt;NA&gt;</td>\n      <td>&lt;NA&gt;</td>\n    </tr>\n    <tr>\n      <th>...</th>\n      <td>...</td>\n      <td>...</td>\n      <td>...</td>\n      <td>...</td>\n      <td>...</td>\n      <td>...</td>\n      <td>...</td>\n      <td>...</td>\n      <td>...</td>\n      <td>...</td>\n      <td>...</td>\n      <td>...</td>\n      <td>...</td>\n      <td>...</td>\n      <td>...</td>\n      <td>...</td>\n    </tr>\n    <tr>\n      <th>210825</th>\n      <td>2022-03-01</td>\n      <td>CLEMENTI</td>\n      <td>3 ROOM</td>\n      <td>208B</td>\n      <td>CLEMENTI AVE 6</td>\n      <td>19 TO 21</td>\n      <td>68.0</td>\n      <td>Model A</td>\n      <td>2017</td>\n      <td>575000.0</td>\n      <td>94 years 08 months</td>\n      <td>3</td>\n      <td>19</td>\n      <td>21</td>\n      <td>94</td>\n      <td>8</td>\n    </tr>\n    <tr>\n      <th>210826</th>\n      <td>2022-03-01</td>\n      <td>CLEMENTI</td>\n      <td>3 ROOM</td>\n      <td>320</td>\n      <td>CLEMENTI AVE 4</td>\n      <td>04 TO 06</td>\n      <td>67.0</td>\n      <td>New Generation</td>\n      <td>1979</td>\n      <td>380888.0</td>\n      <td>56 years 02 months</td>\n      <td>3</td>\n      <td>4</td>\n      <td>6</td>\n      <td>56</td>\n      <td>2</td>\n    </tr>\n    <tr>\n      <th>210827</th>\n      <td>2022-03-01</td>\n      <td>CLEMENTI</td>\n      <td>3 ROOM</td>\n      <td>334</td>\n      <td>CLEMENTI AVE 2</td>\n      <td>07 TO 09</td>\n      <td>67.0</td>\n      <td>New Generation</td>\n      <td>1978</td>\n      <td>416000.0</td>\n      <td>55 years 05 months</td>\n      <td>3</td>\n      <td>7</td>\n      <td>9</td>\n      <td>55</td>\n      <td>5</td>\n    </tr>\n    <tr>\n      <th>210828</th>\n      <td>2022-03-01</td>\n      <td>GEYLANG</td>\n      <td>3 ROOM</td>\n      <td>3</td>\n      <td>JOO CHIAT RD</td>\n      <td>10 TO 12</td>\n      <td>74.0</td>\n      <td>Model A</td>\n      <td>1985</td>\n      <td>470000.0</td>\n      <td>62 years 10 months</td>\n      <td>3</td>\n      <td>10</td>\n      <td>12</td>\n      <td>62</td>\n      <td>10</td>\n    </tr>\n    <tr>\n      <th>210829</th>\n      <td>2022-03-01</td>\n      <td>BUKIT PANJANG</td>\n      <td>4 ROOM</td>\n      <td>149</td>\n      <td>PETIR RD</td>\n      <td>01 TO 03</td>\n      <td>103.0</td>\n      <td>Model A</td>\n      <td>1988</td>\n      <td>420000.0</td>\n      <td>65 years 08 months</td>\n      <td>4</td>\n      <td>1</td>\n      <td>3</td>\n      <td>65</td>\n      <td>8</td>\n    </tr>\n  </tbody>\n</table>\n<p>210830 rows × 16 columns</p>\n</div>"
     },
     "execution_count": 138,
     "metadata": {},
     "output_type": "execute_result"
    }
   ],
   "source": [
    "df_registration = clean_registration_df(df_registration)\n",
    "df_registration"
   ],
   "metadata": {
    "collapsed": false,
    "pycharm": {
     "name": "#%%\n"
    }
   }
  },
  {
   "cell_type": "code",
   "execution_count": 134,
   "outputs": [
    {
     "data": {
      "text/plain": "month                     datetime64[ns]\ntown                              object\nflat_type                         object\nblock                             object\nstreet_name                       object\nstorey_range                      object\nfloor_area_sqm                   float64\nflat_model                        object\nlease_commence_date                int64\nresale_price                     float64\nremaining_lease                   object\nstorey_range_min                   int64\nstorey_range_max                   int64\nremaining_lease_years              Int64\nremaining_lease_months             Int64\nn_rooms                            Int64\ndtype: object"
     },
     "execution_count": 134,
     "metadata": {},
     "output_type": "execute_result"
    }
   ],
   "source": [
    "df_registration.dtypes"
   ],
   "metadata": {
    "collapsed": false,
    "pycharm": {
     "name": "#%%\n"
    }
   }
  },
  {
   "cell_type": "code",
   "execution_count": 139,
   "outputs": [],
   "source": [
    "df_registration.to_pickle('../data/resale-flat-prices/resale-flat-prices-based-on-registration-date-from-march-2012-to-march-2022.pkl')"
   ],
   "metadata": {
    "collapsed": false,
    "pycharm": {
     "name": "#%%\n"
    }
   }
  },
  {
   "cell_type": "markdown",
   "source": [
    "## Based on Approval Date"
   ],
   "metadata": {
    "collapsed": false,
    "pycharm": {
     "name": "#%% md\n"
    }
   }
  },
  {
   "cell_type": "code",
   "execution_count": 140,
   "outputs": [],
   "source": [
    "def create_resale_approval():\n",
    "\n",
    "    base_dir = '../data/resale-flat-prices/'\n",
    "    df = pd.DataFrame()\n",
    "    for file in os.listdir('../data/resale-flat-prices/'):\n",
    "        if \"approval-date\" in file and 'csv' in file:\n",
    "            df = pd.concat([df, pd.read_csv(f'{base_dir}{file}')])\n",
    "\n",
    "    return df"
   ],
   "metadata": {
    "collapsed": false,
    "pycharm": {
     "name": "#%%\n"
    }
   }
  },
  {
   "cell_type": "code",
   "execution_count": 141,
   "outputs": [
    {
     "data": {
      "text/plain": "          month        town  flat_type block       street_name storey_range  \\\n0       1990-01  ANG MO KIO     1 ROOM   309  ANG MO KIO AVE 1     10 TO 12   \n1       1990-01  ANG MO KIO     1 ROOM   309  ANG MO KIO AVE 1     04 TO 06   \n2       1990-01  ANG MO KIO     1 ROOM   309  ANG MO KIO AVE 1     10 TO 12   \n3       1990-01  ANG MO KIO     1 ROOM   309  ANG MO KIO AVE 1     07 TO 09   \n4       1990-01  ANG MO KIO     3 ROOM   216  ANG MO KIO AVE 1     04 TO 06   \n...         ...         ...        ...   ...               ...          ...   \n369646  2012-02      YISHUN     5 ROOM   212      YISHUN ST 21     10 TO 12   \n369647  2012-02      YISHUN     5 ROOM   758      YISHUN ST 72     01 TO 03   \n369648  2012-02      YISHUN     5 ROOM   873      YISHUN ST 81     01 TO 03   \n369649  2012-02      YISHUN  EXECUTIVE   664      YISHUN AVE 4     07 TO 09   \n369650  2012-02      YISHUN  EXECUTIVE   293      YISHUN ST 22     04 TO 06   \n\n        floor_area_sqm      flat_model  lease_commence_date  resale_price  \n0                 31.0        IMPROVED                 1977        9000.0  \n1                 31.0        IMPROVED                 1977        6000.0  \n2                 31.0        IMPROVED                 1977        8000.0  \n3                 31.0        IMPROVED                 1977        6000.0  \n4                 73.0  NEW GENERATION                 1976       47200.0  \n...                ...             ...                  ...           ...  \n369646           121.0        Improved                 1985      476888.0  \n369647           122.0        Improved                 1986      490000.0  \n369648           122.0        Improved                 1988      488000.0  \n369649           181.0       Apartment                 1992      705000.0  \n369650           163.0       Apartment                 1992      630000.0  \n\n[656847 rows x 10 columns]",
      "text/html": "<div>\n<style scoped>\n    .dataframe tbody tr th:only-of-type {\n        vertical-align: middle;\n    }\n\n    .dataframe tbody tr th {\n        vertical-align: top;\n    }\n\n    .dataframe thead th {\n        text-align: right;\n    }\n</style>\n<table border=\"1\" class=\"dataframe\">\n  <thead>\n    <tr style=\"text-align: right;\">\n      <th></th>\n      <th>month</th>\n      <th>town</th>\n      <th>flat_type</th>\n      <th>block</th>\n      <th>street_name</th>\n      <th>storey_range</th>\n      <th>floor_area_sqm</th>\n      <th>flat_model</th>\n      <th>lease_commence_date</th>\n      <th>resale_price</th>\n    </tr>\n  </thead>\n  <tbody>\n    <tr>\n      <th>0</th>\n      <td>1990-01</td>\n      <td>ANG MO KIO</td>\n      <td>1 ROOM</td>\n      <td>309</td>\n      <td>ANG MO KIO AVE 1</td>\n      <td>10 TO 12</td>\n      <td>31.0</td>\n      <td>IMPROVED</td>\n      <td>1977</td>\n      <td>9000.0</td>\n    </tr>\n    <tr>\n      <th>1</th>\n      <td>1990-01</td>\n      <td>ANG MO KIO</td>\n      <td>1 ROOM</td>\n      <td>309</td>\n      <td>ANG MO KIO AVE 1</td>\n      <td>04 TO 06</td>\n      <td>31.0</td>\n      <td>IMPROVED</td>\n      <td>1977</td>\n      <td>6000.0</td>\n    </tr>\n    <tr>\n      <th>2</th>\n      <td>1990-01</td>\n      <td>ANG MO KIO</td>\n      <td>1 ROOM</td>\n      <td>309</td>\n      <td>ANG MO KIO AVE 1</td>\n      <td>10 TO 12</td>\n      <td>31.0</td>\n      <td>IMPROVED</td>\n      <td>1977</td>\n      <td>8000.0</td>\n    </tr>\n    <tr>\n      <th>3</th>\n      <td>1990-01</td>\n      <td>ANG MO KIO</td>\n      <td>1 ROOM</td>\n      <td>309</td>\n      <td>ANG MO KIO AVE 1</td>\n      <td>07 TO 09</td>\n      <td>31.0</td>\n      <td>IMPROVED</td>\n      <td>1977</td>\n      <td>6000.0</td>\n    </tr>\n    <tr>\n      <th>4</th>\n      <td>1990-01</td>\n      <td>ANG MO KIO</td>\n      <td>3 ROOM</td>\n      <td>216</td>\n      <td>ANG MO KIO AVE 1</td>\n      <td>04 TO 06</td>\n      <td>73.0</td>\n      <td>NEW GENERATION</td>\n      <td>1976</td>\n      <td>47200.0</td>\n    </tr>\n    <tr>\n      <th>...</th>\n      <td>...</td>\n      <td>...</td>\n      <td>...</td>\n      <td>...</td>\n      <td>...</td>\n      <td>...</td>\n      <td>...</td>\n      <td>...</td>\n      <td>...</td>\n      <td>...</td>\n    </tr>\n    <tr>\n      <th>369646</th>\n      <td>2012-02</td>\n      <td>YISHUN</td>\n      <td>5 ROOM</td>\n      <td>212</td>\n      <td>YISHUN ST 21</td>\n      <td>10 TO 12</td>\n      <td>121.0</td>\n      <td>Improved</td>\n      <td>1985</td>\n      <td>476888.0</td>\n    </tr>\n    <tr>\n      <th>369647</th>\n      <td>2012-02</td>\n      <td>YISHUN</td>\n      <td>5 ROOM</td>\n      <td>758</td>\n      <td>YISHUN ST 72</td>\n      <td>01 TO 03</td>\n      <td>122.0</td>\n      <td>Improved</td>\n      <td>1986</td>\n      <td>490000.0</td>\n    </tr>\n    <tr>\n      <th>369648</th>\n      <td>2012-02</td>\n      <td>YISHUN</td>\n      <td>5 ROOM</td>\n      <td>873</td>\n      <td>YISHUN ST 81</td>\n      <td>01 TO 03</td>\n      <td>122.0</td>\n      <td>Improved</td>\n      <td>1988</td>\n      <td>488000.0</td>\n    </tr>\n    <tr>\n      <th>369649</th>\n      <td>2012-02</td>\n      <td>YISHUN</td>\n      <td>EXECUTIVE</td>\n      <td>664</td>\n      <td>YISHUN AVE 4</td>\n      <td>07 TO 09</td>\n      <td>181.0</td>\n      <td>Apartment</td>\n      <td>1992</td>\n      <td>705000.0</td>\n    </tr>\n    <tr>\n      <th>369650</th>\n      <td>2012-02</td>\n      <td>YISHUN</td>\n      <td>EXECUTIVE</td>\n      <td>293</td>\n      <td>YISHUN ST 22</td>\n      <td>04 TO 06</td>\n      <td>163.0</td>\n      <td>Apartment</td>\n      <td>1992</td>\n      <td>630000.0</td>\n    </tr>\n  </tbody>\n</table>\n<p>656847 rows × 10 columns</p>\n</div>"
     },
     "execution_count": 141,
     "metadata": {},
     "output_type": "execute_result"
    }
   ],
   "source": [
    "df_approval = create_resale_approval()\n",
    "df_approval"
   ],
   "metadata": {
    "collapsed": false,
    "pycharm": {
     "name": "#%%\n"
    }
   }
  },
  {
   "cell_type": "code",
   "execution_count": 143,
   "outputs": [],
   "source": [
    "def clean_approval_df(df):\n",
    "\n",
    "    df['month'] = pd.to_datetime(df['month'])\n",
    "    df['n_rooms'] = df_registration['flat_type'].str.extract('(\\d)').astype('Int64')\n",
    "    df['n_rooms'] = df['n_rooms'].astype('Int64')\n",
    "    # Convert story range to min and max int columns\n",
    "    df['storey_range_min'] = df['storey_range'].str[:2].astype(int)\n",
    "    df['storey_range_max'] = df['storey_range'].str[-2:].astype(int)\n",
    "\n",
    "    df.sort_values('month', ascending=True, inplace=True)\n",
    "    df.reset_index(inplace=True, drop=True)\n",
    "\n",
    "    return df"
   ],
   "metadata": {
    "collapsed": false,
    "pycharm": {
     "name": "#%%\n"
    }
   }
  },
  {
   "cell_type": "code",
   "execution_count": 144,
   "outputs": [
    {
     "data": {
      "text/plain": "            month             town  flat_type block       street_name  \\\n0      1990-01-01       ANG MO KIO     1 ROOM   309  ANG MO KIO AVE 1   \n1      1990-01-01  KALLANG/WHAMPOA     3 ROOM    44      BENDEMEER RD   \n2      1990-01-01  KALLANG/WHAMPOA     3 ROOM    20   ST. GEORGE'S RD   \n3      1990-01-01  KALLANG/WHAMPOA     3 ROOM    14       KG ARANG RD   \n4      1990-01-01  KALLANG/WHAMPOA     3 ROOM    46           OWEN RD   \n...           ...              ...        ...   ...               ...   \n656842 2012-02-01          GEYLANG     4 ROOM   319         UBI AVE 1   \n656843 2012-02-01          GEYLANG     4 ROOM   314         UBI AVE 1   \n656844 2012-02-01          GEYLANG     4 ROOM   343         UBI AVE 1   \n656845 2012-02-01          HOUGANG     3 ROOM   631     HOUGANG AVE 8   \n656846 2012-02-01           YISHUN  EXECUTIVE   293      YISHUN ST 22   \n\n       storey_range  floor_area_sqm      flat_model  lease_commence_date  \\\n0          10 TO 12            31.0        IMPROVED                 1977   \n1          04 TO 06            63.0        STANDARD                 1981   \n2          04 TO 06            67.0  NEW GENERATION                 1984   \n3          04 TO 06           103.0  NEW GENERATION                 1984   \n4          01 TO 03            68.0  NEW GENERATION                 1982   \n...             ...             ...             ...                  ...   \n656842     10 TO 12            84.0      Simplified                 1985   \n656843     01 TO 03            84.0      Simplified                 1985   \n656844     01 TO 03            84.0      Simplified                 1986   \n656845     07 TO 09            60.0        Improved                 1985   \n656846     04 TO 06           163.0       Apartment                 1992   \n\n        resale_price  n_rooms  storey_range_min  storey_range_max  \n0             9000.0        2                10                12  \n1            31400.0        4                 4                 6  \n2            66500.0        5                 4                 6  \n3            77000.0        4                 4                 6  \n4            58000.0        5                 1                 3  \n...              ...      ...               ...               ...  \n656842      383000.0     <NA>                10                12  \n656843      382000.0     <NA>                 1                 3  \n656844      380000.0     <NA>                 1                 3  \n656845      300000.0     <NA>                 7                 9  \n656846      630000.0     <NA>                 4                 6  \n\n[656847 rows x 13 columns]",
      "text/html": "<div>\n<style scoped>\n    .dataframe tbody tr th:only-of-type {\n        vertical-align: middle;\n    }\n\n    .dataframe tbody tr th {\n        vertical-align: top;\n    }\n\n    .dataframe thead th {\n        text-align: right;\n    }\n</style>\n<table border=\"1\" class=\"dataframe\">\n  <thead>\n    <tr style=\"text-align: right;\">\n      <th></th>\n      <th>month</th>\n      <th>town</th>\n      <th>flat_type</th>\n      <th>block</th>\n      <th>street_name</th>\n      <th>storey_range</th>\n      <th>floor_area_sqm</th>\n      <th>flat_model</th>\n      <th>lease_commence_date</th>\n      <th>resale_price</th>\n      <th>n_rooms</th>\n      <th>storey_range_min</th>\n      <th>storey_range_max</th>\n    </tr>\n  </thead>\n  <tbody>\n    <tr>\n      <th>0</th>\n      <td>1990-01-01</td>\n      <td>ANG MO KIO</td>\n      <td>1 ROOM</td>\n      <td>309</td>\n      <td>ANG MO KIO AVE 1</td>\n      <td>10 TO 12</td>\n      <td>31.0</td>\n      <td>IMPROVED</td>\n      <td>1977</td>\n      <td>9000.0</td>\n      <td>2</td>\n      <td>10</td>\n      <td>12</td>\n    </tr>\n    <tr>\n      <th>1</th>\n      <td>1990-01-01</td>\n      <td>KALLANG/WHAMPOA</td>\n      <td>3 ROOM</td>\n      <td>44</td>\n      <td>BENDEMEER RD</td>\n      <td>04 TO 06</td>\n      <td>63.0</td>\n      <td>STANDARD</td>\n      <td>1981</td>\n      <td>31400.0</td>\n      <td>4</td>\n      <td>4</td>\n      <td>6</td>\n    </tr>\n    <tr>\n      <th>2</th>\n      <td>1990-01-01</td>\n      <td>KALLANG/WHAMPOA</td>\n      <td>3 ROOM</td>\n      <td>20</td>\n      <td>ST. GEORGE'S RD</td>\n      <td>04 TO 06</td>\n      <td>67.0</td>\n      <td>NEW GENERATION</td>\n      <td>1984</td>\n      <td>66500.0</td>\n      <td>5</td>\n      <td>4</td>\n      <td>6</td>\n    </tr>\n    <tr>\n      <th>3</th>\n      <td>1990-01-01</td>\n      <td>KALLANG/WHAMPOA</td>\n      <td>3 ROOM</td>\n      <td>14</td>\n      <td>KG ARANG RD</td>\n      <td>04 TO 06</td>\n      <td>103.0</td>\n      <td>NEW GENERATION</td>\n      <td>1984</td>\n      <td>77000.0</td>\n      <td>4</td>\n      <td>4</td>\n      <td>6</td>\n    </tr>\n    <tr>\n      <th>4</th>\n      <td>1990-01-01</td>\n      <td>KALLANG/WHAMPOA</td>\n      <td>3 ROOM</td>\n      <td>46</td>\n      <td>OWEN RD</td>\n      <td>01 TO 03</td>\n      <td>68.0</td>\n      <td>NEW GENERATION</td>\n      <td>1982</td>\n      <td>58000.0</td>\n      <td>5</td>\n      <td>1</td>\n      <td>3</td>\n    </tr>\n    <tr>\n      <th>...</th>\n      <td>...</td>\n      <td>...</td>\n      <td>...</td>\n      <td>...</td>\n      <td>...</td>\n      <td>...</td>\n      <td>...</td>\n      <td>...</td>\n      <td>...</td>\n      <td>...</td>\n      <td>...</td>\n      <td>...</td>\n      <td>...</td>\n    </tr>\n    <tr>\n      <th>656842</th>\n      <td>2012-02-01</td>\n      <td>GEYLANG</td>\n      <td>4 ROOM</td>\n      <td>319</td>\n      <td>UBI AVE 1</td>\n      <td>10 TO 12</td>\n      <td>84.0</td>\n      <td>Simplified</td>\n      <td>1985</td>\n      <td>383000.0</td>\n      <td>&lt;NA&gt;</td>\n      <td>10</td>\n      <td>12</td>\n    </tr>\n    <tr>\n      <th>656843</th>\n      <td>2012-02-01</td>\n      <td>GEYLANG</td>\n      <td>4 ROOM</td>\n      <td>314</td>\n      <td>UBI AVE 1</td>\n      <td>01 TO 03</td>\n      <td>84.0</td>\n      <td>Simplified</td>\n      <td>1985</td>\n      <td>382000.0</td>\n      <td>&lt;NA&gt;</td>\n      <td>1</td>\n      <td>3</td>\n    </tr>\n    <tr>\n      <th>656844</th>\n      <td>2012-02-01</td>\n      <td>GEYLANG</td>\n      <td>4 ROOM</td>\n      <td>343</td>\n      <td>UBI AVE 1</td>\n      <td>01 TO 03</td>\n      <td>84.0</td>\n      <td>Simplified</td>\n      <td>1986</td>\n      <td>380000.0</td>\n      <td>&lt;NA&gt;</td>\n      <td>1</td>\n      <td>3</td>\n    </tr>\n    <tr>\n      <th>656845</th>\n      <td>2012-02-01</td>\n      <td>HOUGANG</td>\n      <td>3 ROOM</td>\n      <td>631</td>\n      <td>HOUGANG AVE 8</td>\n      <td>07 TO 09</td>\n      <td>60.0</td>\n      <td>Improved</td>\n      <td>1985</td>\n      <td>300000.0</td>\n      <td>&lt;NA&gt;</td>\n      <td>7</td>\n      <td>9</td>\n    </tr>\n    <tr>\n      <th>656846</th>\n      <td>2012-02-01</td>\n      <td>YISHUN</td>\n      <td>EXECUTIVE</td>\n      <td>293</td>\n      <td>YISHUN ST 22</td>\n      <td>04 TO 06</td>\n      <td>163.0</td>\n      <td>Apartment</td>\n      <td>1992</td>\n      <td>630000.0</td>\n      <td>&lt;NA&gt;</td>\n      <td>4</td>\n      <td>6</td>\n    </tr>\n  </tbody>\n</table>\n<p>656847 rows × 13 columns</p>\n</div>"
     },
     "execution_count": 144,
     "metadata": {},
     "output_type": "execute_result"
    }
   ],
   "source": [
    "df_approval = clean_approval_df(df_approval)\n",
    "df_approval"
   ],
   "metadata": {
    "collapsed": false,
    "pycharm": {
     "name": "#%%\n"
    }
   }
  },
  {
   "cell_type": "code",
   "execution_count": 145,
   "outputs": [],
   "source": [
    "df_approval.to_pickle('../data/resale-flat-prices/resale-flat-prices-based-on-approval-date-from-1990-to-feb-2012.pkl')"
   ],
   "metadata": {
    "collapsed": false,
    "pycharm": {
     "name": "#%%\n"
    }
   }
  },
  {
   "cell_type": "code",
   "execution_count": null,
   "outputs": [],
   "source": [],
   "metadata": {
    "collapsed": false,
    "pycharm": {
     "name": "#%%\n"
    }
   }
  }
 ],
 "metadata": {
  "kernelspec": {
   "display_name": "Python 3",
   "language": "python",
   "name": "python3"
  },
  "language_info": {
   "codemirror_mode": {
    "name": "ipython",
    "version": 2
   },
   "file_extension": ".py",
   "mimetype": "text/x-python",
   "name": "python",
   "nbconvert_exporter": "python",
   "pygments_lexer": "ipython2",
   "version": "2.7.6"
  }
 },
 "nbformat": 4,
 "nbformat_minor": 0
}