{
 "cells": [
  {
   "cell_type": "code",
   "execution_count": 1,
   "outputs": [],
   "source": [
    "import geopandas as gpd\n",
    "from sqlalchemy import create_engine\n",
    "from geopy.geocoders import Nominatim\n",
    "from MyCreds.mycreds import Capstone_AWS_SG\n",
    "import timeit"
   ],
   "metadata": {
    "collapsed": false,
    "pycharm": {
     "name": "#%%\n"
    }
   }
  },
  {
   "cell_type": "code",
   "execution_count": 34,
   "outputs": [],
   "source": [
    "# pathname = \"/search-results?33-Telok-Blangah-Way-Bukit-Merah-Singapore%103.82243971608177%1.2741913500000002%2-Room%245\"\n",
    "# pathname = \"/search-results3-Telok-Blangah-Way-Bukit-Merah-Singapore%103.82243971608177%1.2741913500000002%2-Room%245\"\n",
    "pathname = \"/search-results/288B-Compassvale-Crescent-Singapore-Singapore%103.89773725348837%1.3984599000000002%5-Room%116\""
   ],
   "metadata": {
    "collapsed": false,
    "pycharm": {
     "name": "#%%\n"
    }
   }
  },
  {
   "cell_type": "code",
   "execution_count": 35,
   "outputs": [],
   "source": [
    "search_params_from_url = pathname.strip(\"/search-results/\").split(\"%\")\n",
    "\n",
    "address = search_params_from_url[0]\n",
    "lon = search_params_from_url[1]\n",
    "lat = search_params_from_url[2]\n",
    "flat_type = search_params_from_url[3]\n",
    "sq_m = search_params_from_url[4]"
   ],
   "metadata": {
    "collapsed": false,
    "pycharm": {
     "name": "#%%\n"
    }
   }
  },
  {
   "cell_type": "code",
   "execution_count": 36,
   "outputs": [
    {
     "name": "stdout",
     "output_type": "stream",
     "text": [
      "288B-Compassvale-Crescent-Singapore-Singapore, 103.89773725348837, 1.3984599000000002, 5-Room, 116\n"
     ]
    }
   ],
   "source": [
    "print(f\"{address}, {lon}, {lat}, {flat_type}, {sq_m}\")"
   ],
   "metadata": {
    "collapsed": false,
    "pycharm": {
     "name": "#%%\n"
    }
   }
  },
  {
   "cell_type": "code",
   "execution_count": 2,
   "outputs": [],
   "source": [
    "geolocator = Nominatim(user_agent=\"http://127.0.0.1:8050/\")\n",
    "location = geolocator.geocode(\"33 TELOK BLANGAH WAY Singapore\", namedetails=True)"
   ],
   "metadata": {
    "collapsed": false,
    "pycharm": {
     "name": "#%%\n"
    }
   }
  },
  {
   "cell_type": "code",
   "execution_count": 3,
   "outputs": [
    {
     "data": {
      "text/plain": "{'place_id': 141959935,\n 'licence': 'Data © OpenStreetMap contributors, ODbL 1.0. https://osm.org/copyright',\n 'osm_type': 'way',\n 'osm_id': 172093874,\n 'boundingbox': ['1.2737727', '1.2744256', '103.8220025', '103.8226569'],\n 'lat': '1.2741913500000002',\n 'lon': '103.82243971608177',\n 'display_name': '33, Telok Blangah Way, Radin Mas, Bukit Merah, Singapore, Central, 099840, Singapore',\n 'class': 'building',\n 'type': 'residential',\n 'importance': 0.5209999999999999,\n 'namedetails': {}}"
     },
     "execution_count": 3,
     "metadata": {},
     "output_type": "execute_result"
    }
   ],
   "source": [
    "location.raw"
   ],
   "metadata": {
    "collapsed": false,
    "pycharm": {
     "name": "#%%\n"
    }
   }
  },
  {
   "cell_type": "code",
   "execution_count": 4,
   "outputs": [
    {
     "data": {
      "text/plain": "'Bukit Merah'"
     },
     "execution_count": 4,
     "metadata": {},
     "output_type": "execute_result"
    }
   ],
   "source": [
    "location.raw['display_name'].split(', ')[3]"
   ],
   "metadata": {
    "collapsed": false,
    "pycharm": {
     "name": "#%%\n"
    }
   }
  },
  {
   "cell_type": "code",
   "execution_count": 5,
   "outputs": [
    {
     "data": {
      "text/plain": "{'place_id': 141959935,\n 'licence': 'Data © OpenStreetMap contributors, ODbL 1.0. https://osm.org/copyright',\n 'osm_type': 'way',\n 'osm_id': 172093874,\n 'boundingbox': ['1.2737727', '1.2744256', '103.8220025', '103.8226569'],\n 'lat': '1.2741913500000002',\n 'lon': '103.82243971608177',\n 'display_name': '33, Telok Blangah Way, Radin Mas, Bukit Merah, Singapore, Central, 099840, Singapore',\n 'class': 'building',\n 'type': 'residential',\n 'importance': 0.5209999999999999,\n 'namedetails': {}}"
     },
     "execution_count": 5,
     "metadata": {},
     "output_type": "execute_result"
    }
   ],
   "source": [
    "location.raw"
   ],
   "metadata": {
    "collapsed": false,
    "pycharm": {
     "name": "#%%\n"
    }
   }
  },
  {
   "cell_type": "code",
   "execution_count": 6,
   "outputs": [
    {
     "data": {
      "text/plain": "'33, Telok Blangah Way, Radin Mas, Bukit Merah, Singapore, Central, 099840, Singapore'"
     },
     "execution_count": 6,
     "metadata": {},
     "output_type": "execute_result"
    }
   ],
   "source": [
    "location.address"
   ],
   "metadata": {
    "collapsed": false,
    "pycharm": {
     "name": "#%%\n"
    }
   }
  },
  {
   "cell_type": "code",
   "execution_count": 7,
   "outputs": [
    {
     "data": {
      "text/plain": "1.2741913500000002"
     },
     "execution_count": 7,
     "metadata": {},
     "output_type": "execute_result"
    }
   ],
   "source": [
    "location.latitude"
   ],
   "metadata": {
    "collapsed": false,
    "pycharm": {
     "name": "#%%\n"
    }
   }
  },
  {
   "cell_type": "code",
   "execution_count": 8,
   "outputs": [
    {
     "data": {
      "text/plain": "103.82243971608177"
     },
     "execution_count": 8,
     "metadata": {},
     "output_type": "execute_result"
    }
   ],
   "source": [
    "location.longitude"
   ],
   "metadata": {
    "collapsed": false,
    "pycharm": {
     "name": "#%%\n"
    }
   }
  },
  {
   "cell_type": "code",
   "execution_count": 9,
   "outputs": [
    {
     "data": {
      "text/plain": "'33, Telok Blangah Way, Radin Mas, Bukit Merah, Singapore, Central, 099840, Singapore'"
     },
     "execution_count": 9,
     "metadata": {},
     "output_type": "execute_result"
    }
   ],
   "source": [
    "location = geolocator.geocode(\"33 TELOK BLANGAH WAY\")\n",
    "location.address"
   ],
   "metadata": {
    "collapsed": false,
    "pycharm": {
     "name": "#%%\n"
    }
   }
  },
  {
   "cell_type": "code",
   "execution_count": 10,
   "outputs": [],
   "source": [
    "features = ['building_id',\n",
    "            'geometry',\n",
    "            'storey_range_min',\n",
    "            'storey_range_max',\n",
    "            'n_rooms',\n",
    "            'floor_area_sqm',\n",
    "            'remaining_lease_years',\n",
    "            'num_preschools_400m',\n",
    "            'num_preschools_1km',\n",
    "            'num_primary_schools_1km',\n",
    "            'score_primary_schools_1km',\n",
    "            'num_primary_schools_2km',\n",
    "            'score_primary_schools_2km',\n",
    "            'num_secondary_schools_1km',\n",
    "            'score_secondary_schools_1km',\n",
    "            'num_secondary_schools_2km',\n",
    "            'score_secondary_schools_2km',\n",
    "            'num_healthcare_2km',\n",
    "            'num_healthcare_5km',\n",
    "            'nearest_healthcare_clinc',\n",
    "            'nearest_police',\n",
    "            'nearest_fire',\n",
    "            'num_maj_parks_1km',\n",
    "            'num_maj_parks_2km',\n",
    "            'nearest_maj_park',\n",
    "            'num_min_parks_1km',\n",
    "            'num_min_parks_2km',\n",
    "            'nearest_min_park',\n",
    "            'num_waterbodies_100m',\n",
    "            'num_waterbodies_500m',\n",
    "            'nearest_waterbody',\n",
    "            'num_supermarket_1_5km',\n",
    "            'nearest_supermarket',\n",
    "            'num_wetmarket_1_5km',\n",
    "            'nearest_wetmarket',\n",
    "            'nearest_expressway',\n",
    "            'nearest_expressway_entrance_exit',\n",
    "            'num_busstops_100m',\n",
    "            'num_busstops_400m',\n",
    "            'nearest_busstop',\n",
    "            'num_taxistands_100m',\n",
    "            'num_taxistands_400m',\n",
    "            'nearest_taxistand',\n",
    "            'num_transit_stations_1_5km',\n",
    "            'score_stations_1_5km',\n",
    "            'nearest_transit_station',\n",
    "            'num_transit_exits_100m',\n",
    "            'num_transit_exits_400m',\n",
    "            'dist_to_nearest_transit_exit',\n",
    "            'num_malls_1_5km',\n",
    "            'nearest_mall',\n",
    "            'num_hawker_1_5km',\n",
    "            'nearest_hawker',\n",
    "            'dist_to_central_business_district',\n",
    "            'dist_to_holland_village',\n",
    "            'dist_to_dempsey_hill',\n",
    "            'dist_to_serangoon_gardens_circus',\n",
    "            'dist_to_orchard',\n",
    "            'dist_to_arab_street',\n",
    "            'dist_to_thomson_ridge',\n",
    "            'dist_to_east_coast_park',\n",
    "            'dist_to_bishan_park',\n",
    "            'dist_to_botanic_gardens',\n",
    "            'dist_to_hort_park',\n",
    "            'dist_to_sentosa',\n",
    "            'dist_to_gardens_by_the_bay',\n",
    "            'dist_to_con_area_id_1',\n",
    "            'dist_to_con_area_id_2',\n",
    "            'dist_to_con_area_id_3',\n",
    "            'dist_to_con_area_id_4',\n",
    "            'dist_to_con_area_id_5',\n",
    "            'dist_to_con_area_id_6',\n",
    "            'dist_to_con_area_id_7',\n",
    "            'dist_to_con_area_id_8',\n",
    "            'dist_to_con_area_id_9',\n",
    "            'dist_to_con_area_id_10',\n",
    "            'dist_to_con_area_id_11',\n",
    "            'dist_to_con_area_id_12',\n",
    "            'dist_to_con_area_id_13',\n",
    "            'dist_to_con_area_id_14',\n",
    "            'dist_to_con_area_id_15',\n",
    "            'dist_to_con_area_id_16',\n",
    "            'dist_to_con_area_id_17',\n",
    "            'dist_to_con_area_id_18',\n",
    "            'dist_to_con_area_id_19',\n",
    "            'dist_to_con_area_id_20',\n",
    "            'dist_to_con_area_id_21',\n",
    "            'dist_to_con_area_id_22',\n",
    "            'dist_to_con_area_id_23',\n",
    "            'dist_to_con_area_id_24',\n",
    "            'dist_to_con_area_id_25',\n",
    "            'dist_to_con_area_id_26',\n",
    "            'dist_to_con_area_id_27',\n",
    "            'dist_to_con_area_id_28',\n",
    "            'dist_to_con_area_id_29',\n",
    "            'dist_to_con_area_id_30',\n",
    "            'dist_to_con_area_id_31',\n",
    "            'dist_to_con_area_id_32',\n",
    "            'dist_to_con_area_id_33',\n",
    "            'dist_to_con_area_id_34',\n",
    "            'dist_to_con_area_id_35',\n",
    "            'dist_to_con_area_id_36',\n",
    "            'dist_to_con_area_id_37',\n",
    "            'dist_to_con_area_id_38',\n",
    "            'dist_to_con_area_id_39',\n",
    "            'dist_to_con_area_id_40',\n",
    "            'dist_to_con_area_id_41',\n",
    "            'dist_to_con_area_id_42',\n",
    "            'dist_to_con_area_id_43',\n",
    "            'dist_to_con_area_id_44',\n",
    "            'dist_to_con_area_id_45',\n",
    "            'dist_to_con_area_id_46',\n",
    "            'dist_to_con_area_id_47',\n",
    "            'dist_to_con_area_id_48',\n",
    "            'dist_to_con_area_id_49',\n",
    "            'dist_to_con_area_id_50',\n",
    "            'dist_to_con_area_id_51',\n",
    "            'dist_to_con_area_id_52',\n",
    "            'dist_to_con_area_id_53',\n",
    "            'dist_to_con_area_id_54',\n",
    "            'dist_to_con_area_id_55',\n",
    "            'dist_to_con_area_id_56',\n",
    "            'dist_to_con_area_id_57',\n",
    "            'dist_to_con_area_id_58',\n",
    "            'dist_to_con_area_id_59',\n",
    "            'dist_to_con_area_id_60',\n",
    "            'dist_to_con_area_id_61',\n",
    "            'dist_to_con_area_id_62',\n",
    "            'dist_to_con_area_id_63',\n",
    "            'dist_to_con_area_id_64',\n",
    "            'dist_to_con_area_id_65',\n",
    "            'dist_to_con_area_id_66',\n",
    "            'dist_to_con_area_id_67',\n",
    "            'dist_to_con_area_id_68',\n",
    "            'dist_to_con_area_id_69',\n",
    "            'dist_to_con_area_id_70',\n",
    "            'dist_to_con_area_id_71',\n",
    "            'dist_to_con_area_id_72',\n",
    "            'dist_to_con_area_id_73',\n",
    "            'dist_to_con_area_id_74',\n",
    "            'dist_to_con_area_id_75',\n",
    "            'dist_to_con_area_id_76',\n",
    "            'dist_to_con_area_id_77',\n",
    "            'dist_to_con_area_id_78',\n",
    "            'dist_to_con_area_id_79',\n",
    "            'dist_to_con_area_id_80',\n",
    "            'dist_to_con_area_id_81',\n",
    "            'dist_to_con_area_id_82',\n",
    "            'dist_to_con_area_id_83',\n",
    "            'dist_to_con_area_id_84',\n",
    "            'dist_to_con_area_id_85',\n",
    "            'dist_to_con_area_id_86',\n",
    "            'dist_to_con_area_id_87',\n",
    "            'dist_to_con_area_id_88',\n",
    "            'dist_to_con_area_id_89',\n",
    "            'dist_to_con_area_id_90',\n",
    "            'dist_to_con_area_id_91',\n",
    "            'dist_to_con_area_id_92',\n",
    "            'dist_to_con_area_id_93',\n",
    "            'dist_to_con_area_id_94',\n",
    "            'dist_to_con_area_id_95',\n",
    "            'dist_to_con_area_id_96',\n",
    "            'dist_to_con_area_id_97',\n",
    "            'dist_to_con_area_id_98',\n",
    "            'dist_to_con_area_id_99',\n",
    "            'dist_to_con_area_id_100',\n",
    "            'dist_to_con_area_id_101',\n",
    "            'dist_to_con_area_id_102',\n",
    "            'dist_to_con_area_id_103',\n",
    "            'dist_to_con_area_id_104',\n",
    "            'dist_to_con_area_id_105',\n",
    "            'dist_to_con_area_id_106',\n",
    "            'dist_to_con_area_id_107',\n",
    "            'dist_to_con_area_id_108',\n",
    "            'dist_to_con_area_id_109',\n",
    "            'dist_to_con_area_id_110',\n",
    "            'dist_to_con_area_id_111',\n",
    "            'dist_to_con_area_id_112',\n",
    "            'dist_to_con_area_id_113',\n",
    "            'dist_to_con_area_id_114',\n",
    "            'dist_to_con_area_id_115',\n",
    "            'dist_to_con_area_id_116',\n",
    "            'dist_to_con_area_id_117',\n",
    "            'dist_to_con_area_id_118',\n",
    "            'dist_to_con_area_id_119',\n",
    "            'dist_to_con_area_id_120',\n",
    "            'dist_to_con_area_id_249',\n",
    "            'dist_to_con_area_id_250',\n",
    "            'dist_to_con_area_id_251',\n",
    "            'dist_to_con_area_id_252',\n",
    "            'dist_to_con_area_id_253',\n",
    "            'dist_to_con_area_id_254',\n",
    "            'dist_to_con_area_id_121',\n",
    "            'dist_to_con_area_id_122',\n",
    "            'dist_to_con_area_id_123',\n",
    "            'dist_to_con_area_id_124',\n",
    "            'dist_to_con_area_id_125',\n",
    "            'dist_to_con_area_id_126',\n",
    "            'dist_to_con_area_id_127',\n",
    "            'dist_to_con_area_id_128',\n",
    "            'dist_to_con_area_id_129',\n",
    "            'dist_to_con_area_id_130',\n",
    "            'dist_to_con_area_id_131',\n",
    "            'dist_to_con_area_id_132',\n",
    "            'dist_to_con_area_id_133',\n",
    "            'dist_to_con_area_id_134',\n",
    "            'dist_to_con_area_id_135',\n",
    "            'dist_to_con_area_id_136',\n",
    "            'dist_to_con_area_id_137',\n",
    "            'dist_to_con_area_id_138',\n",
    "            'dist_to_con_area_id_139',\n",
    "            'dist_to_con_area_id_140',\n",
    "            'dist_to_con_area_id_141',\n",
    "            'dist_to_con_area_id_142',\n",
    "            'dist_to_con_area_id_143',\n",
    "            'dist_to_con_area_id_144',\n",
    "            'dist_to_con_area_id_145',\n",
    "            'dist_to_con_area_id_146',\n",
    "            'dist_to_con_area_id_147',\n",
    "            'dist_to_con_area_id_148',\n",
    "            'dist_to_con_area_id_149',\n",
    "            'dist_to_con_area_id_150',\n",
    "            'dist_to_con_area_id_151',\n",
    "            'dist_to_con_area_id_152',\n",
    "            'dist_to_con_area_id_153',\n",
    "            'dist_to_con_area_id_154',\n",
    "            'dist_to_con_area_id_155',\n",
    "            'dist_to_con_area_id_156',\n",
    "            'dist_to_con_area_id_157',\n",
    "            'dist_to_con_area_id_158',\n",
    "            'dist_to_con_area_id_159',\n",
    "            'dist_to_con_area_id_160',\n",
    "            'dist_to_con_area_id_161',\n",
    "            'dist_to_con_area_id_162',\n",
    "            'dist_to_con_area_id_163',\n",
    "            'dist_to_con_area_id_164',\n",
    "            'dist_to_con_area_id_165',\n",
    "            'dist_to_con_area_id_166',\n",
    "            'dist_to_con_area_id_167',\n",
    "            'dist_to_con_area_id_168',\n",
    "            'dist_to_con_area_id_169',\n",
    "            'dist_to_con_area_id_170',\n",
    "            'dist_to_con_area_id_171',\n",
    "            'dist_to_con_area_id_172',\n",
    "            'dist_to_con_area_id_173',\n",
    "            'dist_to_con_area_id_174',\n",
    "            'dist_to_con_area_id_175',\n",
    "            'dist_to_con_area_id_176',\n",
    "            'dist_to_con_area_id_177',\n",
    "            'dist_to_con_area_id_178',\n",
    "            'dist_to_con_area_id_179',\n",
    "            'dist_to_con_area_id_180',\n",
    "            'dist_to_con_area_id_181',\n",
    "            'dist_to_con_area_id_182',\n",
    "            'dist_to_con_area_id_183',\n",
    "            'dist_to_con_area_id_184',\n",
    "            'dist_to_con_area_id_185',\n",
    "            'dist_to_con_area_id_186',\n",
    "            'dist_to_con_area_id_187',\n",
    "            'dist_to_con_area_id_188',\n",
    "            'dist_to_con_area_id_189',\n",
    "            'dist_to_con_area_id_190',\n",
    "            'dist_to_con_area_id_191',\n",
    "            'dist_to_con_area_id_192',\n",
    "            'dist_to_con_area_id_193',\n",
    "            'dist_to_con_area_id_194',\n",
    "            'dist_to_con_area_id_195',\n",
    "            'dist_to_con_area_id_196',\n",
    "            'dist_to_con_area_id_197',\n",
    "            'dist_to_con_area_id_198',\n",
    "            'dist_to_con_area_id_199',\n",
    "            'dist_to_con_area_id_200',\n",
    "            'dist_to_con_area_id_201',\n",
    "            'dist_to_con_area_id_202',\n",
    "            'dist_to_con_area_id_203',\n",
    "            'dist_to_con_area_id_204',\n",
    "            'dist_to_con_area_id_205',\n",
    "            'dist_to_con_area_id_206',\n",
    "            'dist_to_con_area_id_207',\n",
    "            'dist_to_con_area_id_208',\n",
    "            'dist_to_con_area_id_209',\n",
    "            'dist_to_con_area_id_210',\n",
    "            'dist_to_con_area_id_211',\n",
    "            'dist_to_con_area_id_212',\n",
    "            'dist_to_con_area_id_213',\n",
    "            'dist_to_con_area_id_214',\n",
    "            'dist_to_con_area_id_215',\n",
    "            'dist_to_con_area_id_216',\n",
    "            'dist_to_con_area_id_217',\n",
    "            'dist_to_con_area_id_218',\n",
    "            'dist_to_con_area_id_219',\n",
    "            'dist_to_con_area_id_220',\n",
    "            'dist_to_con_area_id_221',\n",
    "            'dist_to_con_area_id_222',\n",
    "            'dist_to_con_area_id_223',\n",
    "            'dist_to_con_area_id_224',\n",
    "            'dist_to_con_area_id_225',\n",
    "            'dist_to_con_area_id_226',\n",
    "            'dist_to_con_area_id_227',\n",
    "            'dist_to_con_area_id_228',\n",
    "            'dist_to_con_area_id_229',\n",
    "            'dist_to_con_area_id_230',\n",
    "            'dist_to_con_area_id_231',\n",
    "            'dist_to_con_area_id_232',\n",
    "            'dist_to_con_area_id_233',\n",
    "            'dist_to_con_area_id_234',\n",
    "            'dist_to_con_area_id_235',\n",
    "            'dist_to_con_area_id_236',\n",
    "            'dist_to_con_area_id_237',\n",
    "            'dist_to_con_area_id_238',\n",
    "            'dist_to_con_area_id_239',\n",
    "            'dist_to_con_area_id_240',\n",
    "            'dist_to_con_area_id_241',\n",
    "            'dist_to_con_area_id_242',\n",
    "            'dist_to_con_area_id_243',\n",
    "            'dist_to_con_area_id_244',\n",
    "            'dist_to_con_area_id_245',\n",
    "            'dist_to_con_area_id_246',\n",
    "            'dist_to_con_area_id_247',\n",
    "            'dist_to_con_area_id_248',\n",
    "            ]"
   ],
   "metadata": {
    "collapsed": false,
    "pycharm": {
     "name": "#%%\n"
    }
   }
  },
  {
   "cell_type": "code",
   "execution_count": 11,
   "outputs": [
    {
     "data": {
      "text/plain": "'select building_id, geometry, storey_range_min, storey_range_max, n_rooms, floor_area_sqm, remaining_lease_years, num_preschools_400m, num_preschools_1km, num_primary_schools_1km, score_primary_schools_1km, num_primary_schools_2km, score_primary_schools_2km, num_secondary_schools_1km, score_secondary_schools_1km, num_secondary_schools_2km, score_secondary_schools_2km, num_healthcare_2km, num_healthcare_5km, nearest_healthcare_clinc, nearest_police, nearest_fire, num_maj_parks_1km, num_maj_parks_2km, nearest_maj_park, num_min_parks_1km, num_min_parks_2km, nearest_min_park, num_waterbodies_100m, num_waterbodies_500m, nearest_waterbody, num_supermarket_1_5km, nearest_supermarket, num_wetmarket_1_5km, nearest_wetmarket, nearest_expressway, nearest_expressway_entrance_exit, num_busstops_100m, num_busstops_400m, nearest_busstop, num_taxistands_100m, num_taxistands_400m, nearest_taxistand, num_transit_stations_1_5km, score_stations_1_5km, nearest_transit_station, num_transit_exits_100m, num_transit_exits_400m, dist_to_nearest_transit_exit, num_malls_1_5km, nearest_mall, num_hawker_1_5km, nearest_hawker, dist_to_central_business_district, dist_to_holland_village, dist_to_dempsey_hill, dist_to_serangoon_gardens_circus, dist_to_orchard, dist_to_arab_street, dist_to_thomson_ridge, dist_to_east_coast_park, dist_to_bishan_park, dist_to_botanic_gardens, dist_to_hort_park, dist_to_sentosa, dist_to_gardens_by_the_bay, dist_to_con_area_id_1, dist_to_con_area_id_2, dist_to_con_area_id_3, dist_to_con_area_id_4, dist_to_con_area_id_5, dist_to_con_area_id_6, dist_to_con_area_id_7, dist_to_con_area_id_8, dist_to_con_area_id_9, dist_to_con_area_id_10, dist_to_con_area_id_11, dist_to_con_area_id_12, dist_to_con_area_id_13, dist_to_con_area_id_14, dist_to_con_area_id_15, dist_to_con_area_id_16, dist_to_con_area_id_17, dist_to_con_area_id_18, dist_to_con_area_id_19, dist_to_con_area_id_20, dist_to_con_area_id_21, dist_to_con_area_id_22, dist_to_con_area_id_23, dist_to_con_area_id_24, dist_to_con_area_id_25, dist_to_con_area_id_26, dist_to_con_area_id_27, dist_to_con_area_id_28, dist_to_con_area_id_29, dist_to_con_area_id_30, dist_to_con_area_id_31, dist_to_con_area_id_32, dist_to_con_area_id_33, dist_to_con_area_id_34, dist_to_con_area_id_35, dist_to_con_area_id_36, dist_to_con_area_id_37, dist_to_con_area_id_38, dist_to_con_area_id_39, dist_to_con_area_id_40, dist_to_con_area_id_41, dist_to_con_area_id_42, dist_to_con_area_id_43, dist_to_con_area_id_44, dist_to_con_area_id_45, dist_to_con_area_id_46, dist_to_con_area_id_47, dist_to_con_area_id_48, dist_to_con_area_id_49, dist_to_con_area_id_50, dist_to_con_area_id_51, dist_to_con_area_id_52, dist_to_con_area_id_53, dist_to_con_area_id_54, dist_to_con_area_id_55, dist_to_con_area_id_56, dist_to_con_area_id_57, dist_to_con_area_id_58, dist_to_con_area_id_59, dist_to_con_area_id_60, dist_to_con_area_id_61, dist_to_con_area_id_62, dist_to_con_area_id_63, dist_to_con_area_id_64, dist_to_con_area_id_65, dist_to_con_area_id_66, dist_to_con_area_id_67, dist_to_con_area_id_68, dist_to_con_area_id_69, dist_to_con_area_id_70, dist_to_con_area_id_71, dist_to_con_area_id_72, dist_to_con_area_id_73, dist_to_con_area_id_74, dist_to_con_area_id_75, dist_to_con_area_id_76, dist_to_con_area_id_77, dist_to_con_area_id_78, dist_to_con_area_id_79, dist_to_con_area_id_80, dist_to_con_area_id_81, dist_to_con_area_id_82, dist_to_con_area_id_83, dist_to_con_area_id_84, dist_to_con_area_id_85, dist_to_con_area_id_86, dist_to_con_area_id_87, dist_to_con_area_id_88, dist_to_con_area_id_89, dist_to_con_area_id_90, dist_to_con_area_id_91, dist_to_con_area_id_92, dist_to_con_area_id_93, dist_to_con_area_id_94, dist_to_con_area_id_95, dist_to_con_area_id_96, dist_to_con_area_id_97, dist_to_con_area_id_98, dist_to_con_area_id_99, dist_to_con_area_id_100, dist_to_con_area_id_101, dist_to_con_area_id_102, dist_to_con_area_id_103, dist_to_con_area_id_104, dist_to_con_area_id_105, dist_to_con_area_id_106, dist_to_con_area_id_107, dist_to_con_area_id_108, dist_to_con_area_id_109, dist_to_con_area_id_110, dist_to_con_area_id_111, dist_to_con_area_id_112, dist_to_con_area_id_113, dist_to_con_area_id_114, dist_to_con_area_id_115, dist_to_con_area_id_116, dist_to_con_area_id_117, dist_to_con_area_id_118, dist_to_con_area_id_119, dist_to_con_area_id_120, dist_to_con_area_id_249, dist_to_con_area_id_250, dist_to_con_area_id_251, dist_to_con_area_id_252, dist_to_con_area_id_253, dist_to_con_area_id_254, dist_to_con_area_id_121, dist_to_con_area_id_122, dist_to_con_area_id_123, dist_to_con_area_id_124, dist_to_con_area_id_125, dist_to_con_area_id_126, dist_to_con_area_id_127, dist_to_con_area_id_128, dist_to_con_area_id_129, dist_to_con_area_id_130, dist_to_con_area_id_131, dist_to_con_area_id_132, dist_to_con_area_id_133, dist_to_con_area_id_134, dist_to_con_area_id_135, dist_to_con_area_id_136, dist_to_con_area_id_137, dist_to_con_area_id_138, dist_to_con_area_id_139, dist_to_con_area_id_140, dist_to_con_area_id_141, dist_to_con_area_id_142, dist_to_con_area_id_143, dist_to_con_area_id_144, dist_to_con_area_id_145, dist_to_con_area_id_146, dist_to_con_area_id_147, dist_to_con_area_id_148, dist_to_con_area_id_149, dist_to_con_area_id_150, dist_to_con_area_id_151, dist_to_con_area_id_152, dist_to_con_area_id_153, dist_to_con_area_id_154, dist_to_con_area_id_155, dist_to_con_area_id_156, dist_to_con_area_id_157, dist_to_con_area_id_158, dist_to_con_area_id_159, dist_to_con_area_id_160, dist_to_con_area_id_161, dist_to_con_area_id_162, dist_to_con_area_id_163, dist_to_con_area_id_164, dist_to_con_area_id_165, dist_to_con_area_id_166, dist_to_con_area_id_167, dist_to_con_area_id_168, dist_to_con_area_id_169, dist_to_con_area_id_170, dist_to_con_area_id_171, dist_to_con_area_id_172, dist_to_con_area_id_173, dist_to_con_area_id_174, dist_to_con_area_id_175, dist_to_con_area_id_176, dist_to_con_area_id_177, dist_to_con_area_id_178, dist_to_con_area_id_179, dist_to_con_area_id_180, dist_to_con_area_id_181, dist_to_con_area_id_182, dist_to_con_area_id_183, dist_to_con_area_id_184, dist_to_con_area_id_185, dist_to_con_area_id_186, dist_to_con_area_id_187, dist_to_con_area_id_188, dist_to_con_area_id_189, dist_to_con_area_id_190, dist_to_con_area_id_191, dist_to_con_area_id_192, dist_to_con_area_id_193, dist_to_con_area_id_194, dist_to_con_area_id_195, dist_to_con_area_id_196, dist_to_con_area_id_197, dist_to_con_area_id_198, dist_to_con_area_id_199, dist_to_con_area_id_200, dist_to_con_area_id_201, dist_to_con_area_id_202, dist_to_con_area_id_203, dist_to_con_area_id_204, dist_to_con_area_id_205, dist_to_con_area_id_206, dist_to_con_area_id_207, dist_to_con_area_id_208, dist_to_con_area_id_209, dist_to_con_area_id_210, dist_to_con_area_id_211, dist_to_con_area_id_212, dist_to_con_area_id_213, dist_to_con_area_id_214, dist_to_con_area_id_215, dist_to_con_area_id_216, dist_to_con_area_id_217, dist_to_con_area_id_218, dist_to_con_area_id_219, dist_to_con_area_id_220, dist_to_con_area_id_221, dist_to_con_area_id_222, dist_to_con_area_id_223, dist_to_con_area_id_224, dist_to_con_area_id_225, dist_to_con_area_id_226, dist_to_con_area_id_227, dist_to_con_area_id_228, dist_to_con_area_id_229, dist_to_con_area_id_230, dist_to_con_area_id_231, dist_to_con_area_id_232, dist_to_con_area_id_233, dist_to_con_area_id_234, dist_to_con_area_id_235, dist_to_con_area_id_236, dist_to_con_area_id_237, dist_to_con_area_id_238, dist_to_con_area_id_239, dist_to_con_area_id_240, dist_to_con_area_id_241, dist_to_con_area_id_242, dist_to_con_area_id_243, dist_to_con_area_id_244, dist_to_con_area_id_245, dist_to_con_area_id_246, dist_to_con_area_id_247, dist_to_con_area_id_248,\\nst_setsrid(st_makepoint(103.82243971608177, 1.2741913500000002), 4326)::geography <-> geometry::geography as distance\\nfrom resale_location_features\\norder by distance asc, month desc\\nlimit 1;'"
     },
     "execution_count": 11,
     "metadata": {},
     "output_type": "execute_result"
    }
   ],
   "source": [
    "f\"\"\"select {\", \".join(features)},\n",
    "st_setsrid(st_makepoint(103.82243971608177, 1.2741913500000002), 4326)::geography <-> geometry::geography as distance\n",
    "from resale_location_features\n",
    "order by distance asc, month desc\n",
    "limit 1;\"\"\""
   ],
   "metadata": {
    "collapsed": false,
    "pycharm": {
     "name": "#%%\n"
    }
   }
  },
  {
   "cell_type": "code",
   "execution_count": 12,
   "outputs": [
    {
     "data": {
      "text/plain": "103.82243971608177"
     },
     "execution_count": 12,
     "metadata": {},
     "output_type": "execute_result"
    }
   ],
   "source": [
    "location.longitude"
   ],
   "metadata": {
    "collapsed": false,
    "pycharm": {
     "name": "#%%\n"
    }
   }
  },
  {
   "cell_type": "code",
   "execution_count": 13,
   "outputs": [
    {
     "data": {
      "text/plain": "34.361047541999994"
     },
     "execution_count": 13,
     "metadata": {},
     "output_type": "execute_result"
    }
   ],
   "source": [
    "start_time = timeit.default_timer()\n",
    "\n",
    "sql = f\"\"\"select {\", \".join(features)},\n",
    "st_setsrid(st_makepoint({location.longitude}, {location.latitude}), 4326)::geography <-> geometry::geography as distance\n",
    "from resale_location_features\n",
    "order by distance asc, month desc\n",
    "limit 1;\"\"\"\n",
    "\n",
    "engine = create_engine(f'postgresql+psycopg2://{Capstone_AWS_SG.username}:{Capstone_AWS_SG.password}@{Capstone_AWS_SG.host}/Capstone', echo=False)\n",
    "\n",
    "with engine.connect() as cnxn:\n",
    "    df = gpd.read_postgis(sql, cnxn, geom_col='geometry')\n",
    "\n",
    "end_time = timeit.default_timer()\n",
    "total = end_time - start_time\n",
    "total"
   ],
   "metadata": {
    "collapsed": false,
    "pycharm": {
     "name": "#%%\n"
    }
   }
  },
  {
   "cell_type": "code",
   "execution_count": 14,
   "outputs": [
    {
     "data": {
      "text/plain": "   building_id                   geometry  storey_range_min  storey_range_max  \\\n0         4460  POINT (103.82249 1.27414)                 7                 9   \n\n   n_rooms  floor_area_sqm  remaining_lease_years  num_preschools_400m  \\\n0        3            59.0                     53                    4   \n\n   num_preschools_1km  num_primary_schools_1km  ...  dist_to_con_area_id_240  \\\n0                  15                        2  ...              1120.507797   \n\n   dist_to_con_area_id_241  dist_to_con_area_id_242  dist_to_con_area_id_243  \\\n0              2380.622723              3665.326516              4146.282375   \n\n   dist_to_con_area_id_244  dist_to_con_area_id_245  dist_to_con_area_id_246  \\\n0              3945.161633              4574.279782               4418.27051   \n\n   dist_to_con_area_id_247  dist_to_con_area_id_248  distance  \n0               3267.40523              1885.321475  7.765815  \n\n[1 rows x 321 columns]",
      "text/html": "<div>\n<style scoped>\n    .dataframe tbody tr th:only-of-type {\n        vertical-align: middle;\n    }\n\n    .dataframe tbody tr th {\n        vertical-align: top;\n    }\n\n    .dataframe thead th {\n        text-align: right;\n    }\n</style>\n<table border=\"1\" class=\"dataframe\">\n  <thead>\n    <tr style=\"text-align: right;\">\n      <th></th>\n      <th>building_id</th>\n      <th>geometry</th>\n      <th>storey_range_min</th>\n      <th>storey_range_max</th>\n      <th>n_rooms</th>\n      <th>floor_area_sqm</th>\n      <th>remaining_lease_years</th>\n      <th>num_preschools_400m</th>\n      <th>num_preschools_1km</th>\n      <th>num_primary_schools_1km</th>\n      <th>...</th>\n      <th>dist_to_con_area_id_240</th>\n      <th>dist_to_con_area_id_241</th>\n      <th>dist_to_con_area_id_242</th>\n      <th>dist_to_con_area_id_243</th>\n      <th>dist_to_con_area_id_244</th>\n      <th>dist_to_con_area_id_245</th>\n      <th>dist_to_con_area_id_246</th>\n      <th>dist_to_con_area_id_247</th>\n      <th>dist_to_con_area_id_248</th>\n      <th>distance</th>\n    </tr>\n  </thead>\n  <tbody>\n    <tr>\n      <th>0</th>\n      <td>4460</td>\n      <td>POINT (103.82249 1.27414)</td>\n      <td>7</td>\n      <td>9</td>\n      <td>3</td>\n      <td>59.0</td>\n      <td>53</td>\n      <td>4</td>\n      <td>15</td>\n      <td>2</td>\n      <td>...</td>\n      <td>1120.507797</td>\n      <td>2380.622723</td>\n      <td>3665.326516</td>\n      <td>4146.282375</td>\n      <td>3945.161633</td>\n      <td>4574.279782</td>\n      <td>4418.27051</td>\n      <td>3267.40523</td>\n      <td>1885.321475</td>\n      <td>7.765815</td>\n    </tr>\n  </tbody>\n</table>\n<p>1 rows × 321 columns</p>\n</div>"
     },
     "execution_count": 14,
     "metadata": {},
     "output_type": "execute_result"
    }
   ],
   "source": [
    "df"
   ],
   "metadata": {
    "collapsed": false,
    "pycharm": {
     "name": "#%%\n"
    }
   }
  },
  {
   "cell_type": "code",
   "execution_count": 40,
   "outputs": [],
   "source": [
    "towns_dict = {'town_bedok': 0,\n",
    "              'town_bishan': 0,\n",
    "              'town_bukit_batok': 0,\n",
    "              'town_bukit_merah': 0,\n",
    "              'town_bukit_panjang': 0,\n",
    "              'town_bukit_timah': 0,\n",
    "              'town_central_area': 0,\n",
    "              'town_choa_chu_kang': 0,\n",
    "              'town_clementi': 0,\n",
    "              'town_geylang': 0,\n",
    "              'town_hougang': 0,\n",
    "              'town_jurong_east': 0,\n",
    "              'town_jurong_west': 0,\n",
    "              'town_kallang_whampoa': 0,\n",
    "              'town_lim_chu_kang': 0,\n",
    "              'town_marine_parade': 0,\n",
    "              'town_pasir_ris': 0,\n",
    "              'town_punggol': 0,\n",
    "              'town_queenstown': 0,\n",
    "              'town_sembawang': 0,\n",
    "              'town_sengkang': 0,\n",
    "              'town_serangoon': 0,\n",
    "              'town_tampines': 0,\n",
    "              'town_toa_payoh': 0,\n",
    "              'town_woodlands': 0,\n",
    "              'town_yishun': 0,\n",
    "              'flat_type_2_room': 0,\n",
    "              'flat_type_3_room': 0,\n",
    "              'flat_type_4_room': 0,\n",
    "              'flat_type_5_room': 0,\n",
    "              'flat_type_executive': 0,\n",
    "              'flat_type_multi_generation': 0\n",
    "              }"
   ],
   "metadata": {
    "collapsed": false,
    "pycharm": {
     "name": "#%%\n"
    }
   }
  },
  {
   "cell_type": "code",
   "execution_count": null,
   "outputs": [],
   "source": [
    "# others\n",
    "\n",
    "town_bedok, town_bishan, town_bukit_batok, town_bukit_merah, town_bukit_panjang,\n",
    "town_bukit_timah, town_central_area, town_choa_chu_kang, town_clementi, town_geylang, town_hougang,\n",
    "town_jurong_east, town_jurong_west, town_kallang_whampoa, town_lim_chu_kang, town_marine_parade, town_pasir_ris,\n",
    "town_punggol, town_queenstown, town_sembawang, town_sengkang, town_serangoon, town_tampines, town_toa_payoh,\n",
    "town_woodlands, town_yishun, flat_type_2_room, flat_type_3_room, flat_type_4_room, flat_type_5_room,\n",
    "flat_type_executive, flat_type_multi_generation"
   ],
   "metadata": {
    "collapsed": false,
    "pycharm": {
     "name": "#%%\n"
    }
   }
  },
  {
   "cell_type": "code",
   "execution_count": 41,
   "outputs": [],
   "source": [
    "flat_type = \"2 Room\"\n",
    "if flat_type != 1:\n",
    "    # If flat_type isn't 1 bedroom add 1 to which town the address is in\n",
    "    town_key = f\"town_{location.raw['display_name'].split(', ')[3].lower().replace(' ', '_')}\"\n",
    "    if town_key in towns_dict.keys():\n",
    "        towns_dict[town_key] = 1\n",
    "    if flat_type:\n",
    "        towns_dict[f\"flat_type_{flat_type.lower().replace(' ', '_')}\"] = 1\n",
    "\n",
    "    # for town in towns:\n",
    "    #     if town.strip('town_') == location.raw['display_name'].split(', ')[3].lower().replace(' ', '_'):\n",
    "    #         towns_dict[town] = 1\n",
    "    # Add 1 to which flat_type\n"
   ],
   "metadata": {
    "collapsed": false,
    "pycharm": {
     "name": "#%%\n"
    }
   }
  },
  {
   "cell_type": "code",
   "execution_count": 42,
   "outputs": [
    {
     "data": {
      "text/plain": "{'town_bedok': 0,\n 'town_bishan': 0,\n 'town_bukit_batok': 0,\n 'town_bukit_merah': 1,\n 'town_bukit_panjang': 0,\n 'town_bukit_timah': 0,\n 'town_central_area': 0,\n 'town_choa_chu_kang': 0,\n 'town_clementi': 0,\n 'town_geylang': 0,\n 'town_hougang': 0,\n 'town_jurong_east': 0,\n 'town_jurong_west': 0,\n 'town_kallang_whampoa': 0,\n 'town_lim_chu_kang': 0,\n 'town_marine_parade': 0,\n 'town_pasir_ris': 0,\n 'town_punggol': 0,\n 'town_queenstown': 0,\n 'town_sembawang': 0,\n 'town_sengkang': 0,\n 'town_serangoon': 0,\n 'town_tampines': 0,\n 'town_toa_payoh': 0,\n 'town_woodlands': 0,\n 'town_yishun': 0,\n 'flat_type_2_room': 1,\n 'flat_type_3_room': 0,\n 'flat_type_4_room': 0,\n 'flat_type_5_room': 0,\n 'flat_type_executive': 0,\n 'flat_type_multi_generation': 0}"
     },
     "execution_count": 42,
     "metadata": {},
     "output_type": "execute_result"
    }
   ],
   "source": [
    "towns_dict"
   ],
   "metadata": {
    "collapsed": false,
    "pycharm": {
     "name": "#%%\n"
    }
   }
  },
  {
   "cell_type": "code",
   "execution_count": 22,
   "outputs": [],
   "source": [
    "import pandas as pd"
   ],
   "metadata": {
    "collapsed": false,
    "pycharm": {
     "name": "#%%\n"
    }
   }
  },
  {
   "cell_type": "code",
   "execution_count": 25,
   "outputs": [
    {
     "data": {
      "text/plain": "   building_id                   geometry  storey_range_min  storey_range_max  \\\n0         4460  POINT (103.82249 1.27414)                 7                 9   \n\n   n_rooms  floor_area_sqm  remaining_lease_years  num_preschools_400m  \\\n0        3            59.0                     53                    4   \n\n   num_preschools_1km  num_primary_schools_1km  ...  town_pasir_ris  \\\n0                  15                        2  ...               0   \n\n   town_punggol  town_queenstown  town_sembawang  town_sengkang  \\\n0             0                0               0              0   \n\n   town_serangoon  town_tampines  town_toa_payoh  town_woodlands  town_yishun  \n0               0              0               0               0            0  \n\n[1 rows x 347 columns]",
      "text/html": "<div>\n<style scoped>\n    .dataframe tbody tr th:only-of-type {\n        vertical-align: middle;\n    }\n\n    .dataframe tbody tr th {\n        vertical-align: top;\n    }\n\n    .dataframe thead th {\n        text-align: right;\n    }\n</style>\n<table border=\"1\" class=\"dataframe\">\n  <thead>\n    <tr style=\"text-align: right;\">\n      <th></th>\n      <th>building_id</th>\n      <th>geometry</th>\n      <th>storey_range_min</th>\n      <th>storey_range_max</th>\n      <th>n_rooms</th>\n      <th>floor_area_sqm</th>\n      <th>remaining_lease_years</th>\n      <th>num_preschools_400m</th>\n      <th>num_preschools_1km</th>\n      <th>num_primary_schools_1km</th>\n      <th>...</th>\n      <th>town_pasir_ris</th>\n      <th>town_punggol</th>\n      <th>town_queenstown</th>\n      <th>town_sembawang</th>\n      <th>town_sengkang</th>\n      <th>town_serangoon</th>\n      <th>town_tampines</th>\n      <th>town_toa_payoh</th>\n      <th>town_woodlands</th>\n      <th>town_yishun</th>\n    </tr>\n  </thead>\n  <tbody>\n    <tr>\n      <th>0</th>\n      <td>4460</td>\n      <td>POINT (103.82249 1.27414)</td>\n      <td>7</td>\n      <td>9</td>\n      <td>3</td>\n      <td>59.0</td>\n      <td>53</td>\n      <td>4</td>\n      <td>15</td>\n      <td>2</td>\n      <td>...</td>\n      <td>0</td>\n      <td>0</td>\n      <td>0</td>\n      <td>0</td>\n      <td>0</td>\n      <td>0</td>\n      <td>0</td>\n      <td>0</td>\n      <td>0</td>\n      <td>0</td>\n    </tr>\n  </tbody>\n</table>\n<p>1 rows × 347 columns</p>\n</div>"
     },
     "execution_count": 25,
     "metadata": {},
     "output_type": "execute_result"
    }
   ],
   "source": [
    "df.merge(pd.DataFrame(towns_dict, index=[0]), right_index=True, left_index=True)"
   ],
   "metadata": {
    "collapsed": false,
    "pycharm": {
     "name": "#%%\n"
    }
   }
  },
  {
   "cell_type": "code",
   "execution_count": null,
   "outputs": [],
   "source": [
    "flat_types_dict = {'flat_type_2_room': 0, 'flat_type_3_room': 0, 'flat_type_4_room': 0, 'flat_type_5_room': 0,\n",
    "              'flat_type_executive': 0, 'flat_type_multi_generation': 0}\n",
    "\n"
   ],
   "metadata": {
    "collapsed": false,
    "pycharm": {
     "name": "#%%\n"
    }
   }
  },
  {
   "cell_type": "code",
   "execution_count": 29,
   "outputs": [
    {
     "data": {
      "text/plain": "'town_bukit_merah'"
     },
     "execution_count": 29,
     "metadata": {},
     "output_type": "execute_result"
    }
   ],
   "source": [
    "f\"town_{location.raw['display_name'].split(', ')[3].lower().replace(' ', '_')}\""
   ],
   "metadata": {
    "collapsed": false,
    "pycharm": {
     "name": "#%%\n"
    }
   }
  },
  {
   "cell_type": "code",
   "execution_count": 34,
   "outputs": [
    {
     "data": {
      "text/plain": "True"
     },
     "execution_count": 34,
     "metadata": {},
     "output_type": "execute_result"
    }
   ],
   "source": [
    "'town_bishan' in towns_dict.keys()"
   ],
   "metadata": {
    "collapsed": false,
    "pycharm": {
     "name": "#%%\n"
    }
   }
  },
  {
   "cell_type": "code",
   "execution_count": 43,
   "outputs": [
    {
     "data": {
      "text/plain": "'flat_type_multi_generation'"
     },
     "execution_count": 43,
     "metadata": {},
     "output_type": "execute_result"
    }
   ],
   "source": [
    "flat_type = \"2 Room\"\n",
    "flat_type = \"Executive\"\n",
    "flat_type = \"Multi Generation\"\n",
    "sq_m = 244\n",
    "f\"flat_type_{flat_type.lower().replace(' ', '_')}\""
   ],
   "metadata": {
    "collapsed": false,
    "pycharm": {
     "name": "#%%\n"
    }
   }
  },
  {
   "cell_type": "code",
   "execution_count": 47,
   "outputs": [
    {
     "data": {
      "text/plain": "'Search Results:  [33, Telok Blangah Way, Radin Mas, Bukit Merah, Singapore, Central, 099840, Singapore](/search-results?103.82243971608177%1.2741913500000002%Multi-Generation%244)'"
     },
     "execution_count": 47,
     "metadata": {},
     "output_type": "execute_result"
    }
   ],
   "source": [
    "f\"\"\"Search Results:  \\n[{location.address}](/search-results?{location.longitude}%{location.latitude}%{flat_type.replace(' ', '-')}%{sq_m})\"\"\""
   ],
   "metadata": {
    "collapsed": false,
    "pycharm": {
     "name": "#%%\n"
    }
   }
  },
  {
   "cell_type": "code",
   "execution_count": 48,
   "outputs": [],
   "source": [
    "url = \"/search-results?103.82243971608177%1.2741913500000002%Multi-Generation%244\""
   ],
   "metadata": {
    "collapsed": false,
    "pycharm": {
     "name": "#%%\n"
    }
   }
  },
  {
   "cell_type": "code",
   "execution_count": 50,
   "outputs": [
    {
     "data": {
      "text/plain": "['103.82243971608177', '1.2741913500000002', 'Multi-Generation', '244']"
     },
     "execution_count": 50,
     "metadata": {},
     "output_type": "execute_result"
    }
   ],
   "source": [
    "url.split(\"?\")[1].split(\"%\")"
   ],
   "metadata": {
    "collapsed": false,
    "pycharm": {
     "name": "#%%\n"
    }
   }
  },
  {
   "cell_type": "code",
   "execution_count": null,
   "outputs": [],
   "source": [],
   "metadata": {
    "collapsed": false,
    "pycharm": {
     "name": "#%%\n"
    }
   }
  },
  {
   "cell_type": "code",
   "execution_count": null,
   "outputs": [],
   "source": [],
   "metadata": {
    "collapsed": false,
    "pycharm": {
     "name": "#%%\n"
    }
   }
  },
  {
   "cell_type": "code",
   "execution_count": null,
   "outputs": [],
   "source": [],
   "metadata": {
    "collapsed": false,
    "pycharm": {
     "name": "#%%\n"
    }
   }
  },
  {
   "cell_type": "code",
   "execution_count": null,
   "outputs": [],
   "source": [],
   "metadata": {
    "collapsed": false,
    "pycharm": {
     "name": "#%%\n"
    }
   }
  },
  {
   "cell_type": "code",
   "execution_count": null,
   "outputs": [],
   "source": [],
   "metadata": {
    "collapsed": false,
    "pycharm": {
     "name": "#%%\n"
    }
   }
  },
  {
   "cell_type": "code",
   "execution_count": null,
   "outputs": [],
   "source": [],
   "metadata": {
    "collapsed": false,
    "pycharm": {
     "name": "#%%\n"
    }
   }
  },
  {
   "cell_type": "code",
   "execution_count": null,
   "outputs": [],
   "source": [],
   "metadata": {
    "collapsed": false,
    "pycharm": {
     "name": "#%%\n"
    }
   }
  },
  {
   "cell_type": "code",
   "execution_count": null,
   "outputs": [],
   "source": [],
   "metadata": {
    "collapsed": false,
    "pycharm": {
     "name": "#%%\n"
    }
   }
  },
  {
   "cell_type": "code",
   "execution_count": 37,
   "outputs": [],
   "source": [
    "features = ['building_id',\n",
    "            'geometry',\n",
    "            'month',\n",
    "            'storey_range_min',\n",
    "            'storey_range_max',\n",
    "            'n_rooms',\n",
    "            'floor_area_sqm',\n",
    "            'remaining_lease_years',\n",
    "            'num_preschools_400m',\n",
    "            'num_preschools_1km',\n",
    "            'num_primary_schools_1km',\n",
    "            'score_primary_schools_1km',\n",
    "            'num_primary_schools_2km',\n",
    "            'score_primary_schools_2km',\n",
    "            'num_secondary_schools_1km',\n",
    "            'score_secondary_schools_1km',\n",
    "            'num_secondary_schools_2km',\n",
    "            'score_secondary_schools_2km',\n",
    "            'num_healthcare_2km',\n",
    "            'num_healthcare_5km',\n",
    "            'nearest_healthcare_clinc',\n",
    "            'nearest_police',\n",
    "            'nearest_fire',\n",
    "            'num_maj_parks_1km',\n",
    "            'num_maj_parks_2km',\n",
    "            'nearest_maj_park',\n",
    "            'num_min_parks_1km',\n",
    "            'num_min_parks_2km',\n",
    "            'nearest_min_park',\n",
    "            'num_waterbodies_100m',\n",
    "            'num_waterbodies_500m',\n",
    "            'nearest_waterbody',\n",
    "            'num_supermarket_1_5km',\n",
    "            'nearest_supermarket',\n",
    "            'num_wetmarket_1_5km',\n",
    "            'nearest_wetmarket',\n",
    "            'nearest_expressway',\n",
    "            'nearest_expressway_entrance_exit',\n",
    "            'num_busstops_100m',\n",
    "            'num_busstops_400m',\n",
    "            'nearest_busstop',\n",
    "            'num_taxistands_100m',\n",
    "            'num_taxistands_400m',\n",
    "            'nearest_taxistand',\n",
    "            'num_transit_stations_1_5km',\n",
    "            'score_stations_1_5km',\n",
    "            'nearest_transit_station',\n",
    "            'num_transit_exits_100m',\n",
    "            'num_transit_exits_400m',\n",
    "            'dist_to_nearest_transit_exit',\n",
    "            'num_malls_1_5km',\n",
    "            'nearest_mall',\n",
    "            'num_hawker_1_5km',\n",
    "            'nearest_hawker',\n",
    "            'dist_to_central_business_district',\n",
    "            'dist_to_holland_village',\n",
    "            'dist_to_dempsey_hill',\n",
    "            'dist_to_serangoon_gardens_circus',\n",
    "            'dist_to_orchard',\n",
    "            'dist_to_arab_street',\n",
    "            'dist_to_thomson_ridge',\n",
    "            'dist_to_east_coast_park',\n",
    "            'dist_to_bishan_park',\n",
    "            'dist_to_botanic_gardens',\n",
    "            'dist_to_hort_park',\n",
    "            'dist_to_sentosa',\n",
    "            'dist_to_gardens_by_the_bay',\n",
    "            'dist_to_con_area_id_1',\n",
    "            'dist_to_con_area_id_2',\n",
    "            'dist_to_con_area_id_3',\n",
    "            'dist_to_con_area_id_4',\n",
    "            'dist_to_con_area_id_5',\n",
    "            'dist_to_con_area_id_6',\n",
    "            'dist_to_con_area_id_7',\n",
    "            'dist_to_con_area_id_8',\n",
    "            'dist_to_con_area_id_9',\n",
    "            'dist_to_con_area_id_10',\n",
    "            'dist_to_con_area_id_11',\n",
    "            'dist_to_con_area_id_12',\n",
    "            'dist_to_con_area_id_13',\n",
    "            'dist_to_con_area_id_14',\n",
    "            'dist_to_con_area_id_15',\n",
    "            'dist_to_con_area_id_16',\n",
    "            'dist_to_con_area_id_17',\n",
    "            'dist_to_con_area_id_18',\n",
    "            'dist_to_con_area_id_19',\n",
    "            'dist_to_con_area_id_20',\n",
    "            'dist_to_con_area_id_21',\n",
    "            'dist_to_con_area_id_22',\n",
    "            'dist_to_con_area_id_23',\n",
    "            'dist_to_con_area_id_24',\n",
    "            'dist_to_con_area_id_25',\n",
    "            'dist_to_con_area_id_26',\n",
    "            'dist_to_con_area_id_27',\n",
    "            'dist_to_con_area_id_28',\n",
    "            'dist_to_con_area_id_29',\n",
    "            'dist_to_con_area_id_30',\n",
    "            'dist_to_con_area_id_31',\n",
    "            'dist_to_con_area_id_32',\n",
    "            'dist_to_con_area_id_33',\n",
    "            'dist_to_con_area_id_34',\n",
    "            'dist_to_con_area_id_35',\n",
    "            'dist_to_con_area_id_36',\n",
    "            'dist_to_con_area_id_37',\n",
    "            'dist_to_con_area_id_38',\n",
    "            'dist_to_con_area_id_39',\n",
    "            'dist_to_con_area_id_40',\n",
    "            'dist_to_con_area_id_41',\n",
    "            'dist_to_con_area_id_42',\n",
    "            'dist_to_con_area_id_43',\n",
    "            'dist_to_con_area_id_44',\n",
    "            'dist_to_con_area_id_45',\n",
    "            'dist_to_con_area_id_46',\n",
    "            'dist_to_con_area_id_47',\n",
    "            'dist_to_con_area_id_48',\n",
    "            'dist_to_con_area_id_49',\n",
    "            'dist_to_con_area_id_50',\n",
    "            'dist_to_con_area_id_51',\n",
    "            'dist_to_con_area_id_52',\n",
    "            'dist_to_con_area_id_53',\n",
    "            'dist_to_con_area_id_54',\n",
    "            'dist_to_con_area_id_55',\n",
    "            'dist_to_con_area_id_56',\n",
    "            'dist_to_con_area_id_57',\n",
    "            'dist_to_con_area_id_58',\n",
    "            'dist_to_con_area_id_59',\n",
    "            'dist_to_con_area_id_60',\n",
    "            'dist_to_con_area_id_61',\n",
    "            'dist_to_con_area_id_62',\n",
    "            'dist_to_con_area_id_63',\n",
    "            'dist_to_con_area_id_64',\n",
    "            'dist_to_con_area_id_65',\n",
    "            'dist_to_con_area_id_66',\n",
    "            'dist_to_con_area_id_67',\n",
    "            'dist_to_con_area_id_68',\n",
    "            'dist_to_con_area_id_69',\n",
    "            'dist_to_con_area_id_70',\n",
    "            'dist_to_con_area_id_71',\n",
    "            'dist_to_con_area_id_72',\n",
    "            'dist_to_con_area_id_73',\n",
    "            'dist_to_con_area_id_74',\n",
    "            'dist_to_con_area_id_75',\n",
    "            'dist_to_con_area_id_76',\n",
    "            'dist_to_con_area_id_77',\n",
    "            'dist_to_con_area_id_78',\n",
    "            'dist_to_con_area_id_79',\n",
    "            'dist_to_con_area_id_80',\n",
    "            'dist_to_con_area_id_81',\n",
    "            'dist_to_con_area_id_82',\n",
    "            'dist_to_con_area_id_83',\n",
    "            'dist_to_con_area_id_84',\n",
    "            'dist_to_con_area_id_85',\n",
    "            'dist_to_con_area_id_86',\n",
    "            'dist_to_con_area_id_87',\n",
    "            'dist_to_con_area_id_88',\n",
    "            'dist_to_con_area_id_89',\n",
    "            'dist_to_con_area_id_90',\n",
    "            'dist_to_con_area_id_91',\n",
    "            'dist_to_con_area_id_92',\n",
    "            'dist_to_con_area_id_93',\n",
    "            'dist_to_con_area_id_94',\n",
    "            'dist_to_con_area_id_95',\n",
    "            'dist_to_con_area_id_96',\n",
    "            'dist_to_con_area_id_97',\n",
    "            'dist_to_con_area_id_98',\n",
    "            'dist_to_con_area_id_99',\n",
    "            'dist_to_con_area_id_100',\n",
    "            'dist_to_con_area_id_101',\n",
    "            'dist_to_con_area_id_102',\n",
    "            'dist_to_con_area_id_103',\n",
    "            'dist_to_con_area_id_104',\n",
    "            'dist_to_con_area_id_105',\n",
    "            'dist_to_con_area_id_106',\n",
    "            'dist_to_con_area_id_107',\n",
    "            'dist_to_con_area_id_108',\n",
    "            'dist_to_con_area_id_109',\n",
    "            'dist_to_con_area_id_110',\n",
    "            'dist_to_con_area_id_111',\n",
    "            'dist_to_con_area_id_112',\n",
    "            'dist_to_con_area_id_113',\n",
    "            'dist_to_con_area_id_114',\n",
    "            'dist_to_con_area_id_115',\n",
    "            'dist_to_con_area_id_116',\n",
    "            'dist_to_con_area_id_117',\n",
    "            'dist_to_con_area_id_118',\n",
    "            'dist_to_con_area_id_119',\n",
    "            'dist_to_con_area_id_120',\n",
    "            'dist_to_con_area_id_249',\n",
    "            'dist_to_con_area_id_250',\n",
    "            'dist_to_con_area_id_251',\n",
    "            'dist_to_con_area_id_252',\n",
    "            'dist_to_con_area_id_253',\n",
    "            'dist_to_con_area_id_254',\n",
    "            'dist_to_con_area_id_121',\n",
    "            'dist_to_con_area_id_122',\n",
    "            'dist_to_con_area_id_123',\n",
    "            'dist_to_con_area_id_124',\n",
    "            'dist_to_con_area_id_125',\n",
    "            'dist_to_con_area_id_126',\n",
    "            'dist_to_con_area_id_127',\n",
    "            'dist_to_con_area_id_128',\n",
    "            'dist_to_con_area_id_129',\n",
    "            'dist_to_con_area_id_130',\n",
    "            'dist_to_con_area_id_131',\n",
    "            'dist_to_con_area_id_132',\n",
    "            'dist_to_con_area_id_133',\n",
    "            'dist_to_con_area_id_134',\n",
    "            'dist_to_con_area_id_135',\n",
    "            'dist_to_con_area_id_136',\n",
    "            'dist_to_con_area_id_137',\n",
    "            'dist_to_con_area_id_138',\n",
    "            'dist_to_con_area_id_139',\n",
    "            'dist_to_con_area_id_140',\n",
    "            'dist_to_con_area_id_141',\n",
    "            'dist_to_con_area_id_142',\n",
    "            'dist_to_con_area_id_143',\n",
    "            'dist_to_con_area_id_144',\n",
    "            'dist_to_con_area_id_145',\n",
    "            'dist_to_con_area_id_146',\n",
    "            'dist_to_con_area_id_147',\n",
    "            'dist_to_con_area_id_148',\n",
    "            'dist_to_con_area_id_149',\n",
    "            'dist_to_con_area_id_150',\n",
    "            'dist_to_con_area_id_151',\n",
    "            'dist_to_con_area_id_152',\n",
    "            'dist_to_con_area_id_153',\n",
    "            'dist_to_con_area_id_154',\n",
    "            'dist_to_con_area_id_155',\n",
    "            'dist_to_con_area_id_156',\n",
    "            'dist_to_con_area_id_157',\n",
    "            'dist_to_con_area_id_158',\n",
    "            'dist_to_con_area_id_159',\n",
    "            'dist_to_con_area_id_160',\n",
    "            'dist_to_con_area_id_161',\n",
    "            'dist_to_con_area_id_162',\n",
    "            'dist_to_con_area_id_163',\n",
    "            'dist_to_con_area_id_164',\n",
    "            'dist_to_con_area_id_165',\n",
    "            'dist_to_con_area_id_166',\n",
    "            'dist_to_con_area_id_167',\n",
    "            'dist_to_con_area_id_168',\n",
    "            'dist_to_con_area_id_169',\n",
    "            'dist_to_con_area_id_170',\n",
    "            'dist_to_con_area_id_171',\n",
    "            'dist_to_con_area_id_172',\n",
    "            'dist_to_con_area_id_173',\n",
    "            'dist_to_con_area_id_174',\n",
    "            'dist_to_con_area_id_175',\n",
    "            'dist_to_con_area_id_176',\n",
    "            'dist_to_con_area_id_177',\n",
    "            'dist_to_con_area_id_178',\n",
    "            'dist_to_con_area_id_179',\n",
    "            'dist_to_con_area_id_180',\n",
    "            'dist_to_con_area_id_181',\n",
    "            'dist_to_con_area_id_182',\n",
    "            'dist_to_con_area_id_183',\n",
    "            'dist_to_con_area_id_184',\n",
    "            'dist_to_con_area_id_185',\n",
    "            'dist_to_con_area_id_186',\n",
    "            'dist_to_con_area_id_187',\n",
    "            'dist_to_con_area_id_188',\n",
    "            'dist_to_con_area_id_189',\n",
    "            'dist_to_con_area_id_190',\n",
    "            'dist_to_con_area_id_191',\n",
    "            'dist_to_con_area_id_192',\n",
    "            'dist_to_con_area_id_193',\n",
    "            'dist_to_con_area_id_194',\n",
    "            'dist_to_con_area_id_195',\n",
    "            'dist_to_con_area_id_196',\n",
    "            'dist_to_con_area_id_197',\n",
    "            'dist_to_con_area_id_198',\n",
    "            'dist_to_con_area_id_199',\n",
    "            'dist_to_con_area_id_200',\n",
    "            'dist_to_con_area_id_201',\n",
    "            'dist_to_con_area_id_202',\n",
    "            'dist_to_con_area_id_203',\n",
    "            'dist_to_con_area_id_204',\n",
    "            'dist_to_con_area_id_205',\n",
    "            'dist_to_con_area_id_206',\n",
    "            'dist_to_con_area_id_207',\n",
    "            'dist_to_con_area_id_208',\n",
    "            'dist_to_con_area_id_209',\n",
    "            'dist_to_con_area_id_210',\n",
    "            'dist_to_con_area_id_211',\n",
    "            'dist_to_con_area_id_212',\n",
    "            'dist_to_con_area_id_213',\n",
    "            'dist_to_con_area_id_214',\n",
    "            'dist_to_con_area_id_215',\n",
    "            'dist_to_con_area_id_216',\n",
    "            'dist_to_con_area_id_217',\n",
    "            'dist_to_con_area_id_218',\n",
    "            'dist_to_con_area_id_219',\n",
    "            'dist_to_con_area_id_220',\n",
    "            'dist_to_con_area_id_221',\n",
    "            'dist_to_con_area_id_222',\n",
    "            'dist_to_con_area_id_223',\n",
    "            'dist_to_con_area_id_224',\n",
    "            'dist_to_con_area_id_225',\n",
    "            'dist_to_con_area_id_226',\n",
    "            'dist_to_con_area_id_227',\n",
    "            'dist_to_con_area_id_228',\n",
    "            'dist_to_con_area_id_229',\n",
    "            'dist_to_con_area_id_230',\n",
    "            'dist_to_con_area_id_231',\n",
    "            'dist_to_con_area_id_232',\n",
    "            'dist_to_con_area_id_233',\n",
    "            'dist_to_con_area_id_234',\n",
    "            'dist_to_con_area_id_235',\n",
    "            'dist_to_con_area_id_236',\n",
    "            'dist_to_con_area_id_237',\n",
    "            'dist_to_con_area_id_238',\n",
    "            'dist_to_con_area_id_239',\n",
    "            'dist_to_con_area_id_240',\n",
    "            'dist_to_con_area_id_241',\n",
    "            'dist_to_con_area_id_242',\n",
    "            'dist_to_con_area_id_243',\n",
    "            'dist_to_con_area_id_244',\n",
    "            'dist_to_con_area_id_245',\n",
    "            'dist_to_con_area_id_246',\n",
    "            'dist_to_con_area_id_247',\n",
    "            'dist_to_con_area_id_248',\n",
    "            ]\n",
    "\n",
    "towns_dict = {'town_bedok': 0,\n",
    "              'town_bishan': 0,\n",
    "              'town_bukit_batok': 0,\n",
    "              'town_bukit_merah': 0,\n",
    "              'town_bukit_panjang': 0,\n",
    "              'town_bukit_timah': 0,\n",
    "              'town_central_area': 0,\n",
    "              'town_choa_chu_kang': 0,\n",
    "              'town_clementi': 0,\n",
    "              'town_geylang': 0,\n",
    "              'town_hougang': 0,\n",
    "              'town_jurong_east': 0,\n",
    "              'town_jurong_west': 0,\n",
    "              'town_kallang_whampoa': 0,\n",
    "              'town_lim_chu_kang': 0,\n",
    "              'town_marine_parade': 0,\n",
    "              'town_pasir_ris': 0,\n",
    "              'town_punggol': 0,\n",
    "              'town_queenstown': 0,\n",
    "              'town_sembawang': 0,\n",
    "              'town_sengkang': 0,\n",
    "              'town_serangoon': 0,\n",
    "              'town_tampines': 0,\n",
    "              'town_toa_payoh': 0,\n",
    "              'town_woodlands': 0,\n",
    "              'town_yishun': 0,\n",
    "              'flat_type_2_room': 0,\n",
    "              'flat_type_3_room': 0,\n",
    "              'flat_type_4_room': 0,\n",
    "              'flat_type_5_room': 0,\n",
    "              'flat_type_executive': 0,\n",
    "              'flat_type_multi_generation': 0\n",
    "              }\n",
    "\n",
    "model_must_have = ['storey_range_min',\n",
    "                   'storey_range_max',\n",
    "                   'n_rooms',\n",
    "                   'floor_area_sqm',\n",
    "                   'remaining_lease_years',\n",
    "                   'num_preschools_400m',\n",
    "                   'num_preschools_1km',\n",
    "                   'num_primary_schools_1km',\n",
    "                   'score_primary_schools_1km',\n",
    "                   'num_primary_schools_2km',\n",
    "                   'score_primary_schools_2km',\n",
    "                   'num_secondary_schools_1km',\n",
    "                   'score_secondary_schools_1km',\n",
    "                   'num_secondary_schools_2km',\n",
    "                   'score_secondary_schools_2km',\n",
    "                   'num_healthcare_2km',\n",
    "                   'num_healthcare_5km',\n",
    "                   'nearest_healthcare_clinc',\n",
    "                   'nearest_police',\n",
    "                   'nearest_fire',\n",
    "                   'num_maj_parks_1km',\n",
    "                   'num_maj_parks_2km',\n",
    "                   'nearest_maj_park',\n",
    "                   'num_min_parks_1km',\n",
    "                   'num_min_parks_2km',\n",
    "                   'nearest_min_park',\n",
    "                   'num_waterbodies_100m',\n",
    "                   'num_waterbodies_500m',\n",
    "                   'nearest_waterbody',\n",
    "                   'num_supermarket_1_5km',\n",
    "                   'nearest_supermarket',\n",
    "                   'num_wetmarket_1_5km',\n",
    "                   'nearest_wetmarket',\n",
    "                   'nearest_expressway',\n",
    "                   'nearest_expressway_entrance_exit',\n",
    "                   'num_busstops_100m',\n",
    "                   'num_busstops_400m',\n",
    "                   'nearest_busstop',\n",
    "                   'num_taxistands_100m',\n",
    "                   'num_taxistands_400m',\n",
    "                   'nearest_taxistand',\n",
    "                   'num_transit_stations_1_5km',\n",
    "                   'score_stations_1_5km',\n",
    "                   'nearest_transit_station',\n",
    "                   'num_transit_exits_100m',\n",
    "                   'num_transit_exits_400m',\n",
    "                   'dist_to_nearest_transit_exit',\n",
    "                   'num_malls_1_5km',\n",
    "                   'nearest_mall',\n",
    "                   'num_hawker_1_5km',\n",
    "                   'nearest_hawker',\n",
    "                   'dist_to_central_business_district',\n",
    "                   'dist_to_holland_village',\n",
    "                   'dist_to_dempsey_hill',\n",
    "                   'dist_to_serangoon_gardens_circus',\n",
    "                   'dist_to_orchard',\n",
    "                   'dist_to_arab_street',\n",
    "                   'dist_to_thomson_ridge',\n",
    "                   'dist_to_east_coast_park',\n",
    "                   'dist_to_bishan_park',\n",
    "                   'dist_to_botanic_gardens',\n",
    "                   'dist_to_hort_park',\n",
    "                   'dist_to_sentosa',\n",
    "                   'dist_to_gardens_by_the_bay',\n",
    "                   'dist_to_con_area_id_1',\n",
    "                   'dist_to_con_area_id_2',\n",
    "                   'dist_to_con_area_id_3',\n",
    "                   'dist_to_con_area_id_4',\n",
    "                   'dist_to_con_area_id_5',\n",
    "                   'dist_to_con_area_id_6',\n",
    "                   'dist_to_con_area_id_7',\n",
    "                   'dist_to_con_area_id_8',\n",
    "                   'dist_to_con_area_id_9',\n",
    "                   'dist_to_con_area_id_10',\n",
    "                   'dist_to_con_area_id_11',\n",
    "                   'dist_to_con_area_id_12',\n",
    "                   'dist_to_con_area_id_13',\n",
    "                   'dist_to_con_area_id_14',\n",
    "                   'dist_to_con_area_id_15',\n",
    "                   'dist_to_con_area_id_16',\n",
    "                   'dist_to_con_area_id_17',\n",
    "                   'dist_to_con_area_id_18',\n",
    "                   'dist_to_con_area_id_19',\n",
    "                   'dist_to_con_area_id_20',\n",
    "                   'dist_to_con_area_id_21',\n",
    "                   'dist_to_con_area_id_22',\n",
    "                   'dist_to_con_area_id_23',\n",
    "                   'dist_to_con_area_id_24',\n",
    "                   'dist_to_con_area_id_25',\n",
    "                   'dist_to_con_area_id_26',\n",
    "                   'dist_to_con_area_id_27',\n",
    "                   'dist_to_con_area_id_28',\n",
    "                   'dist_to_con_area_id_29',\n",
    "                   'dist_to_con_area_id_30',\n",
    "                   'dist_to_con_area_id_31',\n",
    "                   'dist_to_con_area_id_32',\n",
    "                   'dist_to_con_area_id_33',\n",
    "                   'dist_to_con_area_id_34',\n",
    "                   'dist_to_con_area_id_35',\n",
    "                   'dist_to_con_area_id_36',\n",
    "                   'dist_to_con_area_id_37',\n",
    "                   'dist_to_con_area_id_38',\n",
    "                   'dist_to_con_area_id_39',\n",
    "                   'dist_to_con_area_id_40',\n",
    "                   'dist_to_con_area_id_41',\n",
    "                   'dist_to_con_area_id_42',\n",
    "                   'dist_to_con_area_id_43',\n",
    "                   'dist_to_con_area_id_44',\n",
    "                   'dist_to_con_area_id_45',\n",
    "                   'dist_to_con_area_id_46',\n",
    "                   'dist_to_con_area_id_47',\n",
    "                   'dist_to_con_area_id_48',\n",
    "                   'dist_to_con_area_id_49',\n",
    "                   'dist_to_con_area_id_50',\n",
    "                   'dist_to_con_area_id_51',\n",
    "                   'dist_to_con_area_id_52',\n",
    "                   'dist_to_con_area_id_53',\n",
    "                   'dist_to_con_area_id_54',\n",
    "                   'dist_to_con_area_id_55',\n",
    "                   'dist_to_con_area_id_56',\n",
    "                   'dist_to_con_area_id_57',\n",
    "                   'dist_to_con_area_id_58',\n",
    "                   'dist_to_con_area_id_59',\n",
    "                   'dist_to_con_area_id_60',\n",
    "                   'dist_to_con_area_id_61',\n",
    "                   'dist_to_con_area_id_62',\n",
    "                   'dist_to_con_area_id_63',\n",
    "                   'dist_to_con_area_id_64',\n",
    "                   'dist_to_con_area_id_65',\n",
    "                   'dist_to_con_area_id_66',\n",
    "                   'dist_to_con_area_id_67',\n",
    "                   'dist_to_con_area_id_68',\n",
    "                   'dist_to_con_area_id_69',\n",
    "                   'dist_to_con_area_id_70',\n",
    "                   'dist_to_con_area_id_71',\n",
    "                   'dist_to_con_area_id_72',\n",
    "                   'dist_to_con_area_id_73',\n",
    "                   'dist_to_con_area_id_74',\n",
    "                   'dist_to_con_area_id_75',\n",
    "                   'dist_to_con_area_id_76',\n",
    "                   'dist_to_con_area_id_77',\n",
    "                   'dist_to_con_area_id_78',\n",
    "                   'dist_to_con_area_id_79',\n",
    "                   'dist_to_con_area_id_80',\n",
    "                   'dist_to_con_area_id_81',\n",
    "                   'dist_to_con_area_id_82',\n",
    "                   'dist_to_con_area_id_83',\n",
    "                   'dist_to_con_area_id_84',\n",
    "                   'dist_to_con_area_id_85',\n",
    "                   'dist_to_con_area_id_86',\n",
    "                   'dist_to_con_area_id_87',\n",
    "                   'dist_to_con_area_id_88',\n",
    "                   'dist_to_con_area_id_89',\n",
    "                   'dist_to_con_area_id_90',\n",
    "                   'dist_to_con_area_id_91',\n",
    "                   'dist_to_con_area_id_92',\n",
    "                   'dist_to_con_area_id_93',\n",
    "                   'dist_to_con_area_id_94',\n",
    "                   'dist_to_con_area_id_95',\n",
    "                   'dist_to_con_area_id_96',\n",
    "                   'dist_to_con_area_id_97',\n",
    "                   'dist_to_con_area_id_98',\n",
    "                   'dist_to_con_area_id_99',\n",
    "                   'dist_to_con_area_id_100',\n",
    "                   'dist_to_con_area_id_101',\n",
    "                   'dist_to_con_area_id_102',\n",
    "                   'dist_to_con_area_id_103',\n",
    "                   'dist_to_con_area_id_104',\n",
    "                   'dist_to_con_area_id_105',\n",
    "                   'dist_to_con_area_id_106',\n",
    "                   'dist_to_con_area_id_107',\n",
    "                   'dist_to_con_area_id_108',\n",
    "                   'dist_to_con_area_id_109',\n",
    "                   'dist_to_con_area_id_110',\n",
    "                   'dist_to_con_area_id_111',\n",
    "                   'dist_to_con_area_id_112',\n",
    "                   'dist_to_con_area_id_113',\n",
    "                   'dist_to_con_area_id_114',\n",
    "                   'dist_to_con_area_id_115',\n",
    "                   'dist_to_con_area_id_116',\n",
    "                   'dist_to_con_area_id_117',\n",
    "                   'dist_to_con_area_id_118',\n",
    "                   'dist_to_con_area_id_119',\n",
    "                   'dist_to_con_area_id_120',\n",
    "                   'dist_to_con_area_id_249',\n",
    "                   'dist_to_con_area_id_250',\n",
    "                   'dist_to_con_area_id_251',\n",
    "                   'dist_to_con_area_id_252',\n",
    "                   'dist_to_con_area_id_253',\n",
    "                   'dist_to_con_area_id_254',\n",
    "                   'dist_to_con_area_id_121',\n",
    "                   'dist_to_con_area_id_122',\n",
    "                   'dist_to_con_area_id_123',\n",
    "                   'dist_to_con_area_id_124',\n",
    "                   'dist_to_con_area_id_125',\n",
    "                   'dist_to_con_area_id_126',\n",
    "                   'dist_to_con_area_id_127',\n",
    "                   'dist_to_con_area_id_128',\n",
    "                   'dist_to_con_area_id_129',\n",
    "                   'dist_to_con_area_id_130',\n",
    "                   'dist_to_con_area_id_131',\n",
    "                   'dist_to_con_area_id_132',\n",
    "                   'dist_to_con_area_id_133',\n",
    "                   'dist_to_con_area_id_134',\n",
    "                   'dist_to_con_area_id_135',\n",
    "                   'dist_to_con_area_id_136',\n",
    "                   'dist_to_con_area_id_137',\n",
    "                   'dist_to_con_area_id_138',\n",
    "                   'dist_to_con_area_id_139',\n",
    "                   'dist_to_con_area_id_140',\n",
    "                   'dist_to_con_area_id_141',\n",
    "                   'dist_to_con_area_id_142',\n",
    "                   'dist_to_con_area_id_143',\n",
    "                   'dist_to_con_area_id_144',\n",
    "                   'dist_to_con_area_id_145',\n",
    "                   'dist_to_con_area_id_146',\n",
    "                   'dist_to_con_area_id_147',\n",
    "                   'dist_to_con_area_id_148',\n",
    "                   'dist_to_con_area_id_149',\n",
    "                   'dist_to_con_area_id_150',\n",
    "                   'dist_to_con_area_id_151',\n",
    "                   'dist_to_con_area_id_152',\n",
    "                   'dist_to_con_area_id_153',\n",
    "                   'dist_to_con_area_id_154',\n",
    "                   'dist_to_con_area_id_155',\n",
    "                   'dist_to_con_area_id_156',\n",
    "                   'dist_to_con_area_id_157',\n",
    "                   'dist_to_con_area_id_158',\n",
    "                   'dist_to_con_area_id_159',\n",
    "                   'dist_to_con_area_id_160',\n",
    "                   'dist_to_con_area_id_161',\n",
    "                   'dist_to_con_area_id_162',\n",
    "                   'dist_to_con_area_id_163',\n",
    "                   'dist_to_con_area_id_164',\n",
    "                   'dist_to_con_area_id_165',\n",
    "                   'dist_to_con_area_id_166',\n",
    "                   'dist_to_con_area_id_167',\n",
    "                   'dist_to_con_area_id_168',\n",
    "                   'dist_to_con_area_id_169',\n",
    "                   'dist_to_con_area_id_170',\n",
    "                   'dist_to_con_area_id_171',\n",
    "                   'dist_to_con_area_id_172',\n",
    "                   'dist_to_con_area_id_173',\n",
    "                   'dist_to_con_area_id_174',\n",
    "                   'dist_to_con_area_id_175',\n",
    "                   'dist_to_con_area_id_176',\n",
    "                   'dist_to_con_area_id_177',\n",
    "                   'dist_to_con_area_id_178',\n",
    "                   'dist_to_con_area_id_179',\n",
    "                   'dist_to_con_area_id_180',\n",
    "                   'dist_to_con_area_id_181',\n",
    "                   'dist_to_con_area_id_182',\n",
    "                   'dist_to_con_area_id_183',\n",
    "                   'dist_to_con_area_id_184',\n",
    "                   'dist_to_con_area_id_185',\n",
    "                   'dist_to_con_area_id_186',\n",
    "                   'dist_to_con_area_id_187',\n",
    "                   'dist_to_con_area_id_188',\n",
    "                   'dist_to_con_area_id_189',\n",
    "                   'dist_to_con_area_id_190',\n",
    "                   'dist_to_con_area_id_191',\n",
    "                   'dist_to_con_area_id_192',\n",
    "                   'dist_to_con_area_id_193',\n",
    "                   'dist_to_con_area_id_194',\n",
    "                   'dist_to_con_area_id_195',\n",
    "                   'dist_to_con_area_id_196',\n",
    "                   'dist_to_con_area_id_197',\n",
    "                   'dist_to_con_area_id_198',\n",
    "                   'dist_to_con_area_id_199',\n",
    "                   'dist_to_con_area_id_200',\n",
    "                   'dist_to_con_area_id_201',\n",
    "                   'dist_to_con_area_id_202',\n",
    "                   'dist_to_con_area_id_203',\n",
    "                   'dist_to_con_area_id_204',\n",
    "                   'dist_to_con_area_id_205',\n",
    "                   'dist_to_con_area_id_206',\n",
    "                   'dist_to_con_area_id_207',\n",
    "                   'dist_to_con_area_id_208',\n",
    "                   'dist_to_con_area_id_209',\n",
    "                   'dist_to_con_area_id_210',\n",
    "                   'dist_to_con_area_id_211',\n",
    "                   'dist_to_con_area_id_212',\n",
    "                   'dist_to_con_area_id_213',\n",
    "                   'dist_to_con_area_id_214',\n",
    "                   'dist_to_con_area_id_215',\n",
    "                   'dist_to_con_area_id_216',\n",
    "                   'dist_to_con_area_id_217',\n",
    "                   'dist_to_con_area_id_218',\n",
    "                   'dist_to_con_area_id_219',\n",
    "                   'dist_to_con_area_id_220',\n",
    "                   'dist_to_con_area_id_221',\n",
    "                   'dist_to_con_area_id_222',\n",
    "                   'dist_to_con_area_id_223',\n",
    "                   'dist_to_con_area_id_224',\n",
    "                   'dist_to_con_area_id_225',\n",
    "                   'dist_to_con_area_id_226',\n",
    "                   'dist_to_con_area_id_227',\n",
    "                   'dist_to_con_area_id_228',\n",
    "                   'dist_to_con_area_id_229',\n",
    "                   'dist_to_con_area_id_230',\n",
    "                   'dist_to_con_area_id_231',\n",
    "                   'dist_to_con_area_id_232',\n",
    "                   'dist_to_con_area_id_233',\n",
    "                   'dist_to_con_area_id_234',\n",
    "                   'dist_to_con_area_id_235',\n",
    "                   'dist_to_con_area_id_236',\n",
    "                   'dist_to_con_area_id_237',\n",
    "                   'dist_to_con_area_id_238',\n",
    "                   'dist_to_con_area_id_239',\n",
    "                   'dist_to_con_area_id_240',\n",
    "                   'dist_to_con_area_id_241',\n",
    "                   'dist_to_con_area_id_242',\n",
    "                   'dist_to_con_area_id_243',\n",
    "                   'dist_to_con_area_id_244',\n",
    "                   'dist_to_con_area_id_245',\n",
    "                   'dist_to_con_area_id_246',\n",
    "                   'dist_to_con_area_id_247',\n",
    "                   'dist_to_con_area_id_248',\n",
    "                   'town_bedok',\n",
    "                   'town_bishan',\n",
    "                   'town_bukit_batok',\n",
    "                   'town_bukit_merah',\n",
    "                   'town_bukit_panjang',\n",
    "                   'town_bukit_timah',\n",
    "                   'town_central_area',\n",
    "                   'town_choa_chu_kang',\n",
    "                   'town_clementi',\n",
    "                   'town_geylang',\n",
    "                   'town_hougang',\n",
    "                   'town_jurong_east',\n",
    "                   'town_jurong_west',\n",
    "                   'town_kallang_whampoa',\n",
    "                   'town_lim_chu_kang',\n",
    "                   'town_marine_parade',\n",
    "                   'town_pasir_ris',\n",
    "                   'town_punggol',\n",
    "                   'town_queenstown',\n",
    "                   'town_sembawang',\n",
    "                   'town_sengkang',\n",
    "                   'town_serangoon',\n",
    "                   'town_tampines',\n",
    "                   'town_toa_payoh',\n",
    "                   'town_woodlands',\n",
    "                   'town_yishun',\n",
    "                   'flat_type_2_room',\n",
    "                   'flat_type_3_room',\n",
    "                   'flat_type_4_room',\n",
    "                   'flat_type_5_room',\n",
    "                   'flat_type_executive',\n",
    "                   'flat_type_multi_generation']"
   ],
   "metadata": {
    "collapsed": false,
    "pycharm": {
     "name": "#%%\n"
    }
   }
  },
  {
   "cell_type": "code",
   "execution_count": 47,
   "outputs": [],
   "source": [
    "import pandas as pd\n",
    "import xgboost\n",
    "import shap\n",
    "from MyCreds.mycreds import Capstone_AWS_SG\n",
    "from sqlalchemy import create_engine\n",
    "from datetime import datetime\n",
    "import geopandas as gpd\n",
    "from geopy.geocoders import Nominatim\n",
    "import pickle\n",
    "import re\n",
    "import matplotlib.pyplot as plt"
   ],
   "metadata": {
    "collapsed": false,
    "pycharm": {
     "name": "#%%\n"
    }
   }
  },
  {
   "cell_type": "code",
   "execution_count": null,
   "outputs": [],
   "source": [],
   "metadata": {
    "collapsed": false,
    "pycharm": {
     "name": "#%%\n"
    }
   }
  },
  {
   "cell_type": "code",
   "execution_count": null,
   "outputs": [],
   "source": [],
   "metadata": {
    "collapsed": false,
    "pycharm": {
     "name": "#%%\n"
    }
   }
  },
  {
   "cell_type": "code",
   "execution_count": null,
   "outputs": [],
   "source": [],
   "metadata": {
    "collapsed": false,
    "pycharm": {
     "name": "#%%\n"
    }
   }
  },
  {
   "cell_type": "code",
   "execution_count": 38,
   "outputs": [],
   "source": [
    "def get_address_details(lon, lat, features):\n",
    "    sql = f\"\"\"select {\", \".join(features)},\n",
    "    st_setsrid(st_makepoint({lon}, {lat}), 4326)::geography <-> geometry::geography as distance\n",
    "    from resale_location_features\n",
    "    order by distance asc, month desc\n",
    "    limit 1;\"\"\"\n",
    "\n",
    "    engine = create_engine(f'postgresql+psycopg2://{Capstone_AWS_SG.username}:{Capstone_AWS_SG.password}@{Capstone_AWS_SG.host}/Capstone', echo=False)\n",
    "    # engine = DatabaseHelpers.engine\n",
    "\n",
    "    with engine.connect() as cnxn:\n",
    "        df = gpd.read_postgis(sql, cnxn, geom_col='geometry')\n",
    "\n",
    "    return df"
   ],
   "metadata": {
    "collapsed": false,
    "pycharm": {
     "name": "#%%\n"
    }
   }
  },
  {
   "cell_type": "code",
   "execution_count": 39,
   "outputs": [],
   "source": [
    "def prep_data_for_model(address, flat_type, df, sq_m):\n",
    "    geolocator = Nominatim(user_agent=\"http://127.0.0.1:8050/\")\n",
    "    location = geolocator.geocode(address.replace('-', ' '), namedetails=True)\n",
    "    # towns_dict = DatabaseHelpers.towns_dict\n",
    "    if flat_type != 1:\n",
    "        # If flat_type isn't 1 bedroom add 1 to which town the address is in\n",
    "        town_key = f\"town_{location.raw['display_name'].split(', ')[3].lower().replace(' ', '_')}\"\n",
    "        if town_key in towns_dict.keys():\n",
    "            towns_dict[town_key] = 1\n",
    "        if flat_type:\n",
    "            towns_dict[f\"flat_type_{flat_type.lower().replace(' ', '_').replace('-', '_')}\"] = 1\n",
    "    # If sq_m is an empty string just use floor_area_sqm that's in the results table\n",
    "    if sq_m != '':\n",
    "        df.loc[0, 'floor_area_sqm'] = int(sq_m)\n",
    "    df.loc[0, 'remaining_lease_years'] = (datetime.now().year - df['month'].dt.year).values\n",
    "    df = df.merge(pd.DataFrame(towns_dict, index=[0]), right_index=True, left_index=True)\n",
    "    # df = df[DatabaseHelpers.model_must_have]\n",
    "    df = df[model_must_have]\n",
    "    return df"
   ],
   "metadata": {
    "collapsed": false,
    "pycharm": {
     "name": "#%%\n"
    }
   }
  },
  {
   "cell_type": "code",
   "execution_count": 40,
   "outputs": [],
   "source": [
    "def predict_price(model_loc, object_id_loc, prediction_df):\n",
    "    # load model from file\n",
    "    model = pickle.load(open(model_loc, \"rb\"))\n",
    "\n",
    "    # predict values\n",
    "    prediction = model.predict(prediction_df)\n",
    "    print(prediction)\n",
    "\n",
    "    # update dataframe columns names for printing in SHAP\n",
    "\n",
    "    # dictionary created from database conservation areas\n",
    "    object_id_dict = pickle.load(open(object_id_loc, 'rb'))\n",
    "\n",
    "    # get the current columns\n",
    "    columns = prediction_df.columns.tolist()\n",
    "    columns = [x for x in columns if x.startswith('dist_to_con_area_id_')]\n",
    "\n",
    "    # get con_area_id which maps to objectid\n",
    "    idxs = [int(re.findall(r'\\d+', x)[0]) for x in columns]\n",
    "\n",
    "    columns_to_display = {}\n",
    "\n",
    "    # get a dictionary of the columns to display and update dataframe\n",
    "    for id, col_name in zip(idxs, columns):\n",
    "        columns_to_display[col_name] = 'dist_to_'+object_id_dict[id]\n",
    "    prediction_df.rename(columns=columns_to_display,inplace=True)\n",
    "\n",
    "    # get SHAP waterfall\n",
    "    # plt.clf()\n",
    "    explainer = shap.TreeExplainer(model)\n",
    "    shap_values = explainer(prediction_df)\n",
    "    fig = shap.plots.waterfall(shap_values[0]).html\n",
    "    print(type(fig))\n",
    "\n",
    "    # plt.savefig('prediction.png',bbox_inches='tight',transparent=True,dpi=500)\n",
    "\n",
    "    return prediction, fig"
   ],
   "metadata": {
    "collapsed": false,
    "pycharm": {
     "name": "#%%\n"
    }
   }
  },
  {
   "cell_type": "code",
   "execution_count": 41,
   "outputs": [],
   "source": [
    "pathname = \"/search-results/33-Telok-Blangah-Way-Bukit-Merah-Singapore%103.82243971608177%1.2741913500000002%2-Room%\""
   ],
   "metadata": {
    "collapsed": false,
    "pycharm": {
     "name": "#%%\n"
    }
   }
  },
  {
   "cell_type": "code",
   "execution_count": 48,
   "outputs": [
    {
     "name": "stdout",
     "output_type": "stream",
     "text": [
      "33-Telok-Blangah-Way-Bukit-Merah-Singapore\n",
      "103.82243971608177\n"
     ]
    },
    {
     "name": "stderr",
     "output_type": "stream",
     "text": [
      "pandas.Int64Index is deprecated and will be removed from pandas in a future version. Use pandas.Index with the appropriate dtype instead.\n"
     ]
    },
    {
     "name": "stdout",
     "output_type": "stream",
     "text": [
      "[111.43611]\n"
     ]
    },
    {
     "name": "stderr",
     "output_type": "stream",
     "text": [
      "ntree_limit is deprecated, use `iteration_range` or model slicing instead.\n"
     ]
    },
    {
     "name": "stdout",
     "output_type": "stream",
     "text": [
      "<class 'NoneType'>\n"
     ]
    },
    {
     "data": {
      "text/plain": "<Figure size 576x648 with 3 Axes>",
      "image/png": "[encoded data removed]"
     },
     "metadata": {},
     "output_type": "display_data"
    }
   ],
   "source": [
    "search_params_from_url = pathname.strip(\"/search-results\").split(\"%\")\n",
    "\n",
    "address = search_params_from_url[0]\n",
    "print(address)\n",
    "lon = search_params_from_url[1]\n",
    "print(lon)\n",
    "lat = search_params_from_url[2]\n",
    "flat_type = search_params_from_url[3]\n",
    "sq_m = search_params_from_url[4]\n",
    "\n",
    "# features = DatabaseHelpers.features\n",
    "\n",
    "df = get_address_details(lon, lat, features)\n",
    "df = prep_data_for_model(address, flat_type, df, sq_m)\n",
    "\n",
    "path = '../app/assets/model_xgb.pickle.dat'\n",
    "objec_id_loc = '../app/assets/object_id_dict.pickle'\n",
    "\n",
    "\n",
    "a, b = predict_price(path, objec_id_loc, df)"
   ],
   "metadata": {
    "collapsed": false,
    "pycharm": {
     "name": "#%%\n"
    }
   }
  },
  {
   "cell_type": "code",
   "execution_count": null,
   "outputs": [],
   "source": [],
   "metadata": {
    "collapsed": false,
    "pycharm": {
     "name": "#%%\n"
    }
   }
  }
 ],
 "metadata": {
  "kernelspec": {
   "display_name": "Python 3",
   "language": "python",
   "name": "python3"
  },
  "language_info": {
   "codemirror_mode": {
    "name": "ipython",
    "version": 2
   },
   "file_extension": ".py",
   "mimetype": "text/x-python",
   "name": "python",
   "nbconvert_exporter": "python",
   "pygments_lexer": "ipython2",
   "version": "2.7.6"
  }
 },
 "nbformat": 4,
 "nbformat_minor": 0
}