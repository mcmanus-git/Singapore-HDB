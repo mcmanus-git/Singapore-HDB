{
 "cells": [
  {
   "cell_type": "code",
   "execution_count": 1,
   "metadata": {
    "collapsed": true
   },
   "outputs": [],
   "source": [
    "import pandas as pd\n",
    "import os\n",
    "from sqlalchemy import create_engine\n",
    "from MyCreds.mycreds import Capstone_AWS_PG\n",
    "from sqlalchemy import create_engine\n",
    "import numpy as np"
   ]
  },
  {
   "cell_type": "code",
   "execution_count": 2,
   "outputs": [
    {
     "data": {
      "text/plain": "              month        town  flat_type block       street_name  \\\n0           1990-01  ANG MO KIO     1 ROOM   309  ANG MO KIO AVE 1   \n1           1990-01  ANG MO KIO     1 ROOM   309  ANG MO KIO AVE 1   \n2           1990-01  ANG MO KIO     1 ROOM   309  ANG MO KIO AVE 1   \n3           1990-01  ANG MO KIO     1 ROOM   309  ANG MO KIO AVE 1   \n4           1990-01  ANG MO KIO     3 ROOM   216  ANG MO KIO AVE 1   \n...             ...         ...        ...   ...               ...   \n1313689  2012-02-01     GEYLANG     4 ROOM   319         UBI AVE 1   \n1313690  2012-02-01     GEYLANG     4 ROOM   314         UBI AVE 1   \n1313691  2012-02-01     GEYLANG     4 ROOM   343         UBI AVE 1   \n1313692  2012-02-01     HOUGANG     3 ROOM   631     HOUGANG AVE 8   \n1313693  2012-02-01      YISHUN  EXECUTIVE   293      YISHUN ST 22   \n\n        storey_range  floor_area_sqm      flat_model  lease_commence_date  \\\n0           10 TO 12            31.0        IMPROVED                 1977   \n1           04 TO 06            31.0        IMPROVED                 1977   \n2           10 TO 12            31.0        IMPROVED                 1977   \n3           07 TO 09            31.0        IMPROVED                 1977   \n4           04 TO 06            73.0  NEW GENERATION                 1976   \n...              ...             ...             ...                  ...   \n1313689     10 TO 12            84.0      Simplified                 1985   \n1313690     01 TO 03            84.0      Simplified                 1985   \n1313691     01 TO 03            84.0      Simplified                 1986   \n1313692     07 TO 09            60.0        Improved                 1985   \n1313693     04 TO 06           163.0       Apartment                 1992   \n\n         resale_price  n_rooms  storey_range_min  storey_range_max  \n0              9000.0      NaN               NaN               NaN  \n1              6000.0      NaN               NaN               NaN  \n2              8000.0      NaN               NaN               NaN  \n3              6000.0      NaN               NaN               NaN  \n4             47200.0      NaN               NaN               NaN  \n...               ...      ...               ...               ...  \n1313689      383000.0      NaN              10.0              12.0  \n1313690      382000.0      NaN               1.0               3.0  \n1313691      380000.0      NaN               1.0               3.0  \n1313692      300000.0      NaN               7.0               9.0  \n1313693      630000.0      NaN               4.0               6.0  \n\n[1313694 rows x 13 columns]",
      "text/html": "<div>\n<style scoped>\n    .dataframe tbody tr th:only-of-type {\n        vertical-align: middle;\n    }\n\n    .dataframe tbody tr th {\n        vertical-align: top;\n    }\n\n    .dataframe thead th {\n        text-align: right;\n    }\n</style>\n<table border=\"1\" class=\"dataframe\">\n  <thead>\n    <tr style=\"text-align: right;\">\n      <th></th>\n      <th>month</th>\n      <th>town</th>\n      <th>flat_type</th>\n      <th>block</th>\n      <th>street_name</th>\n      <th>storey_range</th>\n      <th>floor_area_sqm</th>\n      <th>flat_model</th>\n      <th>lease_commence_date</th>\n      <th>resale_price</th>\n      <th>n_rooms</th>\n      <th>storey_range_min</th>\n      <th>storey_range_max</th>\n    </tr>\n  </thead>\n  <tbody>\n    <tr>\n      <th>0</th>\n      <td>1990-01</td>\n      <td>ANG MO KIO</td>\n      <td>1 ROOM</td>\n      <td>309</td>\n      <td>ANG MO KIO AVE 1</td>\n      <td>10 TO 12</td>\n      <td>31.0</td>\n      <td>IMPROVED</td>\n      <td>1977</td>\n      <td>9000.0</td>\n      <td>NaN</td>\n      <td>NaN</td>\n      <td>NaN</td>\n    </tr>\n    <tr>\n      <th>1</th>\n      <td>1990-01</td>\n      <td>ANG MO KIO</td>\n      <td>1 ROOM</td>\n      <td>309</td>\n      <td>ANG MO KIO AVE 1</td>\n      <td>04 TO 06</td>\n      <td>31.0</td>\n      <td>IMPROVED</td>\n      <td>1977</td>\n      <td>6000.0</td>\n      <td>NaN</td>\n      <td>NaN</td>\n      <td>NaN</td>\n    </tr>\n    <tr>\n      <th>2</th>\n      <td>1990-01</td>\n      <td>ANG MO KIO</td>\n      <td>1 ROOM</td>\n      <td>309</td>\n      <td>ANG MO KIO AVE 1</td>\n      <td>10 TO 12</td>\n      <td>31.0</td>\n      <td>IMPROVED</td>\n      <td>1977</td>\n      <td>8000.0</td>\n      <td>NaN</td>\n      <td>NaN</td>\n      <td>NaN</td>\n    </tr>\n    <tr>\n      <th>3</th>\n      <td>1990-01</td>\n      <td>ANG MO KIO</td>\n      <td>1 ROOM</td>\n      <td>309</td>\n      <td>ANG MO KIO AVE 1</td>\n      <td>07 TO 09</td>\n      <td>31.0</td>\n      <td>IMPROVED</td>\n      <td>1977</td>\n      <td>6000.0</td>\n      <td>NaN</td>\n      <td>NaN</td>\n      <td>NaN</td>\n    </tr>\n    <tr>\n      <th>4</th>\n      <td>1990-01</td>\n      <td>ANG MO KIO</td>\n      <td>3 ROOM</td>\n      <td>216</td>\n      <td>ANG MO KIO AVE 1</td>\n      <td>04 TO 06</td>\n      <td>73.0</td>\n      <td>NEW GENERATION</td>\n      <td>1976</td>\n      <td>47200.0</td>\n      <td>NaN</td>\n      <td>NaN</td>\n      <td>NaN</td>\n    </tr>\n    <tr>\n      <th>...</th>\n      <td>...</td>\n      <td>...</td>\n      <td>...</td>\n      <td>...</td>\n      <td>...</td>\n      <td>...</td>\n      <td>...</td>\n      <td>...</td>\n      <td>...</td>\n      <td>...</td>\n      <td>...</td>\n      <td>...</td>\n      <td>...</td>\n    </tr>\n    <tr>\n      <th>1313689</th>\n      <td>2012-02-01</td>\n      <td>GEYLANG</td>\n      <td>4 ROOM</td>\n      <td>319</td>\n      <td>UBI AVE 1</td>\n      <td>10 TO 12</td>\n      <td>84.0</td>\n      <td>Simplified</td>\n      <td>1985</td>\n      <td>383000.0</td>\n      <td>NaN</td>\n      <td>10.0</td>\n      <td>12.0</td>\n    </tr>\n    <tr>\n      <th>1313690</th>\n      <td>2012-02-01</td>\n      <td>GEYLANG</td>\n      <td>4 ROOM</td>\n      <td>314</td>\n      <td>UBI AVE 1</td>\n      <td>01 TO 03</td>\n      <td>84.0</td>\n      <td>Simplified</td>\n      <td>1985</td>\n      <td>382000.0</td>\n      <td>NaN</td>\n      <td>1.0</td>\n      <td>3.0</td>\n    </tr>\n    <tr>\n      <th>1313691</th>\n      <td>2012-02-01</td>\n      <td>GEYLANG</td>\n      <td>4 ROOM</td>\n      <td>343</td>\n      <td>UBI AVE 1</td>\n      <td>01 TO 03</td>\n      <td>84.0</td>\n      <td>Simplified</td>\n      <td>1986</td>\n      <td>380000.0</td>\n      <td>NaN</td>\n      <td>1.0</td>\n      <td>3.0</td>\n    </tr>\n    <tr>\n      <th>1313692</th>\n      <td>2012-02-01</td>\n      <td>HOUGANG</td>\n      <td>3 ROOM</td>\n      <td>631</td>\n      <td>HOUGANG AVE 8</td>\n      <td>07 TO 09</td>\n      <td>60.0</td>\n      <td>Improved</td>\n      <td>1985</td>\n      <td>300000.0</td>\n      <td>NaN</td>\n      <td>7.0</td>\n      <td>9.0</td>\n    </tr>\n    <tr>\n      <th>1313693</th>\n      <td>2012-02-01</td>\n      <td>YISHUN</td>\n      <td>EXECUTIVE</td>\n      <td>293</td>\n      <td>YISHUN ST 22</td>\n      <td>04 TO 06</td>\n      <td>163.0</td>\n      <td>Apartment</td>\n      <td>1992</td>\n      <td>630000.0</td>\n      <td>NaN</td>\n      <td>4.0</td>\n      <td>6.0</td>\n    </tr>\n  </tbody>\n</table>\n<p>1313694 rows × 13 columns</p>\n</div>"
     },
     "execution_count": 2,
     "metadata": {},
     "output_type": "execute_result"
    }
   ],
   "source": [
    "engine = create_engine(f'postgresql+psycopg2://{Capstone_AWS_PG.username}:{Capstone_AWS_PG.password}@{Capstone_AWS_PG.host}/capstone', echo=False)\n",
    "\n",
    "# Switch depending on which table you want to read.\n",
    "# sql_query = 'select * from resale_prices_based_on_registration_date;'\n",
    "sql_query = 'select * from resale_prices_based_on_approval_date;'\n",
    "\n",
    "with engine.connect() as cnxn:\n",
    "    approval = pd.read_sql(sql_query, cnxn)\n",
    "\n",
    "\n",
    "approval"
   ],
   "metadata": {
    "collapsed": false,
    "pycharm": {
     "name": "#%%\n"
    }
   }
  },
  {
   "cell_type": "code",
   "execution_count": 3,
   "outputs": [
    {
     "data": {
      "text/plain": "             month        town  flat_type block       street_name  \\\n0       1990-01-01  ANG MO KIO     1 ROOM   309  ANG MO KIO AVE 1   \n1       1990-01-01      YISHUN     5 ROOM   229      YISHUN ST 21   \n2       1990-01-01      YISHUN     5 ROOM   231      YISHUN ST 21   \n3       1990-01-01      YISHUN     5 ROOM   221      YISHUN ST 21   \n4       1990-01-01      YISHUN     5 ROOM   161      YISHUN ST 11   \n...            ...         ...        ...   ...               ...   \n1313689 2012-02-01    SENGKANG     4 ROOM  268A  COMPASSVALE LINK   \n1313690 2012-02-01    SENGKANG     4 ROOM  268D  COMPASSVALE LINK   \n1313691 2012-02-01    SENGKANG     4 ROOM  269D  COMPASSVALE LINK   \n1313692 2012-02-01    SENGKANG     4 ROOM  184C    RIVERVALE CRES   \n1313693 2012-02-01      YISHUN  EXECUTIVE   293      YISHUN ST 22   \n\n        storey_range  floor_area_sqm         flat_model  lease_commence_date  \\\n0           10 TO 12            31.0           IMPROVED                 1977   \n1           01 TO 03           121.0           IMPROVED                 1985   \n2           01 TO 03           121.0           IMPROVED                 1985   \n3           07 TO 09           121.0           IMPROVED                 1985   \n4           10 TO 12           121.0           IMPROVED                 1985   \n...              ...             ...                ...                  ...   \n1313689     16 TO 18            90.0  Premium Apartment                 2006   \n1313690     13 TO 15            90.0  Premium Apartment                 2006   \n1313691     16 TO 18            90.0  Premium Apartment                 2006   \n1313692     16 TO 18            86.0           Model A2                 2003   \n1313693     04 TO 06           163.0          Apartment                 1992   \n\n         resale_price  n_rooms  storey_range_min  storey_range_max  \n0              9000.0        1                10                12  \n1             98700.0        5                 1                 3  \n2             94000.0        5                 1                 3  \n3             98000.0        5                 7                 9  \n4            120000.0        5                10                12  \n...               ...      ...               ...               ...  \n1313689      525000.0        4                16                18  \n1313690      535000.0        4                13                15  \n1313691      563000.0        4                16                18  \n1313692      423000.0        4                16                18  \n1313693      630000.0     <NA>                 4                 6  \n\n[1313694 rows x 13 columns]",
      "text/html": "<div>\n<style scoped>\n    .dataframe tbody tr th:only-of-type {\n        vertical-align: middle;\n    }\n\n    .dataframe tbody tr th {\n        vertical-align: top;\n    }\n\n    .dataframe thead th {\n        text-align: right;\n    }\n</style>\n<table border=\"1\" class=\"dataframe\">\n  <thead>\n    <tr style=\"text-align: right;\">\n      <th></th>\n      <th>month</th>\n      <th>town</th>\n      <th>flat_type</th>\n      <th>block</th>\n      <th>street_name</th>\n      <th>storey_range</th>\n      <th>floor_area_sqm</th>\n      <th>flat_model</th>\n      <th>lease_commence_date</th>\n      <th>resale_price</th>\n      <th>n_rooms</th>\n      <th>storey_range_min</th>\n      <th>storey_range_max</th>\n    </tr>\n  </thead>\n  <tbody>\n    <tr>\n      <th>0</th>\n      <td>1990-01-01</td>\n      <td>ANG MO KIO</td>\n      <td>1 ROOM</td>\n      <td>309</td>\n      <td>ANG MO KIO AVE 1</td>\n      <td>10 TO 12</td>\n      <td>31.0</td>\n      <td>IMPROVED</td>\n      <td>1977</td>\n      <td>9000.0</td>\n      <td>1</td>\n      <td>10</td>\n      <td>12</td>\n    </tr>\n    <tr>\n      <th>1</th>\n      <td>1990-01-01</td>\n      <td>YISHUN</td>\n      <td>5 ROOM</td>\n      <td>229</td>\n      <td>YISHUN ST 21</td>\n      <td>01 TO 03</td>\n      <td>121.0</td>\n      <td>IMPROVED</td>\n      <td>1985</td>\n      <td>98700.0</td>\n      <td>5</td>\n      <td>1</td>\n      <td>3</td>\n    </tr>\n    <tr>\n      <th>2</th>\n      <td>1990-01-01</td>\n      <td>YISHUN</td>\n      <td>5 ROOM</td>\n      <td>231</td>\n      <td>YISHUN ST 21</td>\n      <td>01 TO 03</td>\n      <td>121.0</td>\n      <td>IMPROVED</td>\n      <td>1985</td>\n      <td>94000.0</td>\n      <td>5</td>\n      <td>1</td>\n      <td>3</td>\n    </tr>\n    <tr>\n      <th>3</th>\n      <td>1990-01-01</td>\n      <td>YISHUN</td>\n      <td>5 ROOM</td>\n      <td>221</td>\n      <td>YISHUN ST 21</td>\n      <td>07 TO 09</td>\n      <td>121.0</td>\n      <td>IMPROVED</td>\n      <td>1985</td>\n      <td>98000.0</td>\n      <td>5</td>\n      <td>7</td>\n      <td>9</td>\n    </tr>\n    <tr>\n      <th>4</th>\n      <td>1990-01-01</td>\n      <td>YISHUN</td>\n      <td>5 ROOM</td>\n      <td>161</td>\n      <td>YISHUN ST 11</td>\n      <td>10 TO 12</td>\n      <td>121.0</td>\n      <td>IMPROVED</td>\n      <td>1985</td>\n      <td>120000.0</td>\n      <td>5</td>\n      <td>10</td>\n      <td>12</td>\n    </tr>\n    <tr>\n      <th>...</th>\n      <td>...</td>\n      <td>...</td>\n      <td>...</td>\n      <td>...</td>\n      <td>...</td>\n      <td>...</td>\n      <td>...</td>\n      <td>...</td>\n      <td>...</td>\n      <td>...</td>\n      <td>...</td>\n      <td>...</td>\n      <td>...</td>\n    </tr>\n    <tr>\n      <th>1313689</th>\n      <td>2012-02-01</td>\n      <td>SENGKANG</td>\n      <td>4 ROOM</td>\n      <td>268A</td>\n      <td>COMPASSVALE LINK</td>\n      <td>16 TO 18</td>\n      <td>90.0</td>\n      <td>Premium Apartment</td>\n      <td>2006</td>\n      <td>525000.0</td>\n      <td>4</td>\n      <td>16</td>\n      <td>18</td>\n    </tr>\n    <tr>\n      <th>1313690</th>\n      <td>2012-02-01</td>\n      <td>SENGKANG</td>\n      <td>4 ROOM</td>\n      <td>268D</td>\n      <td>COMPASSVALE LINK</td>\n      <td>13 TO 15</td>\n      <td>90.0</td>\n      <td>Premium Apartment</td>\n      <td>2006</td>\n      <td>535000.0</td>\n      <td>4</td>\n      <td>13</td>\n      <td>15</td>\n    </tr>\n    <tr>\n      <th>1313691</th>\n      <td>2012-02-01</td>\n      <td>SENGKANG</td>\n      <td>4 ROOM</td>\n      <td>269D</td>\n      <td>COMPASSVALE LINK</td>\n      <td>16 TO 18</td>\n      <td>90.0</td>\n      <td>Premium Apartment</td>\n      <td>2006</td>\n      <td>563000.0</td>\n      <td>4</td>\n      <td>16</td>\n      <td>18</td>\n    </tr>\n    <tr>\n      <th>1313692</th>\n      <td>2012-02-01</td>\n      <td>SENGKANG</td>\n      <td>4 ROOM</td>\n      <td>184C</td>\n      <td>RIVERVALE CRES</td>\n      <td>16 TO 18</td>\n      <td>86.0</td>\n      <td>Model A2</td>\n      <td>2003</td>\n      <td>423000.0</td>\n      <td>4</td>\n      <td>16</td>\n      <td>18</td>\n    </tr>\n    <tr>\n      <th>1313693</th>\n      <td>2012-02-01</td>\n      <td>YISHUN</td>\n      <td>EXECUTIVE</td>\n      <td>293</td>\n      <td>YISHUN ST 22</td>\n      <td>04 TO 06</td>\n      <td>163.0</td>\n      <td>Apartment</td>\n      <td>1992</td>\n      <td>630000.0</td>\n      <td>&lt;NA&gt;</td>\n      <td>4</td>\n      <td>6</td>\n    </tr>\n  </tbody>\n</table>\n<p>1313694 rows × 13 columns</p>\n</div>"
     },
     "execution_count": 3,
     "metadata": {},
     "output_type": "execute_result"
    }
   ],
   "source": [
    "def clean_approval_df(df):\n",
    "\n",
    "    df['month'] = pd.to_datetime(df['month'])\n",
    "    df['n_rooms'] = df['flat_type'].str.extract('(\\d)').astype('Int64')\n",
    "    df['n_rooms'] = df['n_rooms'].astype('Int64')\n",
    "    # Convert story range to min and max int columns\n",
    "    df['storey_range_min'] = df['storey_range'].str[:2].astype(int)\n",
    "    df['storey_range_max'] = df['storey_range'].str[-2:].astype(int)\n",
    "\n",
    "    df.sort_values('month', ascending=True, inplace=True)\n",
    "    df.reset_index(inplace=True, drop=True)\n",
    "\n",
    "    return df\n",
    "\n",
    "approval = clean_approval_df(approval)\n",
    "approval"
   ],
   "metadata": {
    "collapsed": false,
    "pycharm": {
     "name": "#%%\n"
    }
   }
  },
  {
   "cell_type": "code",
   "execution_count": 4,
   "outputs": [],
   "source": [
    "# engine = create_engine(f'postgresql+psycopg2://{Capstone_AWS_PG.username}:{Capstone_AWS_PG.password}@{Capstone_AWS_PG.host}/capstone', echo=False)\n",
    "#\n",
    "# # Switch depending on which table you want to read.\n",
    "# sql_query = 'select * from resale_prices_based_on_registration_date;'\n",
    "# # sql_query = 'select * from resale_prices_based_on_approval_date;'\n",
    "#\n",
    "# with engine.connect() as cnxn:\n",
    "#     registration = pd.read_sql(sql_query, cnxn)\n"
   ],
   "metadata": {
    "collapsed": false,
    "pycharm": {
     "name": "#%%\n"
    }
   }
  },
  {
   "cell_type": "code",
   "execution_count": 5,
   "outputs": [
    {
     "data": {
      "text/plain": "         month        town         flat_type block        street_name  \\\n0      2012-03  ANG MO KIO            2 ROOM   172   ANG MO KIO AVE 4   \n1      2012-03  ANG MO KIO            2 ROOM   510   ANG MO KIO AVE 8   \n2      2012-03  ANG MO KIO            3 ROOM   610   ANG MO KIO AVE 4   \n3      2012-03  ANG MO KIO            3 ROOM   474  ANG MO KIO AVE 10   \n4      2012-03  ANG MO KIO            3 ROOM   604   ANG MO KIO AVE 5   \n...        ...         ...               ...   ...                ...   \n37148  2016-12      YISHUN            5 ROOM   297       YISHUN ST 20   \n37149  2016-12      YISHUN            5 ROOM   838       YISHUN ST 81   \n37150  2016-12      YISHUN         EXECUTIVE   664       YISHUN AVE 4   \n37151  2016-12      YISHUN         EXECUTIVE   325        YISHUN CTRL   \n37152  2016-12      YISHUN  MULTI-GENERATION   666       YISHUN AVE 4   \n\n      storey_range  floor_area_sqm        flat_model  lease_commence_date  \\\n0         06 TO 10            45.0          Improved                 1986   \n1         01 TO 05            44.0          Improved                 1980   \n2         06 TO 10            68.0    New Generation                 1980   \n3         01 TO 05            67.0    New Generation                 1984   \n4         06 TO 10            67.0    New Generation                 1980   \n...            ...             ...               ...                  ...   \n37148     13 TO 15           112.0          Improved                 2000   \n37149     01 TO 03           122.0          Improved                 1987   \n37150     10 TO 12           181.0         Apartment                 1992   \n37151     01 TO 03           146.0        Maisonette                 1988   \n37152     10 TO 12           164.0  Multi Generation                 1987   \n\n       resale_price remaining_lease  \n0          250000.0             NaN  \n1          265000.0             NaN  \n2          315000.0             NaN  \n3          320000.0             NaN  \n4          321000.0             NaN  \n...             ...             ...  \n37148      488000.0              82  \n37149      455000.0              69  \n37150      778000.0              74  \n37151      575000.0              70  \n37152      735000.0              70  \n\n[210830 rows x 11 columns]",
      "text/html": "<div>\n<style scoped>\n    .dataframe tbody tr th:only-of-type {\n        vertical-align: middle;\n    }\n\n    .dataframe tbody tr th {\n        vertical-align: top;\n    }\n\n    .dataframe thead th {\n        text-align: right;\n    }\n</style>\n<table border=\"1\" class=\"dataframe\">\n  <thead>\n    <tr style=\"text-align: right;\">\n      <th></th>\n      <th>month</th>\n      <th>town</th>\n      <th>flat_type</th>\n      <th>block</th>\n      <th>street_name</th>\n      <th>storey_range</th>\n      <th>floor_area_sqm</th>\n      <th>flat_model</th>\n      <th>lease_commence_date</th>\n      <th>resale_price</th>\n      <th>remaining_lease</th>\n    </tr>\n  </thead>\n  <tbody>\n    <tr>\n      <th>0</th>\n      <td>2012-03</td>\n      <td>ANG MO KIO</td>\n      <td>2 ROOM</td>\n      <td>172</td>\n      <td>ANG MO KIO AVE 4</td>\n      <td>06 TO 10</td>\n      <td>45.0</td>\n      <td>Improved</td>\n      <td>1986</td>\n      <td>250000.0</td>\n      <td>NaN</td>\n    </tr>\n    <tr>\n      <th>1</th>\n      <td>2012-03</td>\n      <td>ANG MO KIO</td>\n      <td>2 ROOM</td>\n      <td>510</td>\n      <td>ANG MO KIO AVE 8</td>\n      <td>01 TO 05</td>\n      <td>44.0</td>\n      <td>Improved</td>\n      <td>1980</td>\n      <td>265000.0</td>\n      <td>NaN</td>\n    </tr>\n    <tr>\n      <th>2</th>\n      <td>2012-03</td>\n      <td>ANG MO KIO</td>\n      <td>3 ROOM</td>\n      <td>610</td>\n      <td>ANG MO KIO AVE 4</td>\n      <td>06 TO 10</td>\n      <td>68.0</td>\n      <td>New Generation</td>\n      <td>1980</td>\n      <td>315000.0</td>\n      <td>NaN</td>\n    </tr>\n    <tr>\n      <th>3</th>\n      <td>2012-03</td>\n      <td>ANG MO KIO</td>\n      <td>3 ROOM</td>\n      <td>474</td>\n      <td>ANG MO KIO AVE 10</td>\n      <td>01 TO 05</td>\n      <td>67.0</td>\n      <td>New Generation</td>\n      <td>1984</td>\n      <td>320000.0</td>\n      <td>NaN</td>\n    </tr>\n    <tr>\n      <th>4</th>\n      <td>2012-03</td>\n      <td>ANG MO KIO</td>\n      <td>3 ROOM</td>\n      <td>604</td>\n      <td>ANG MO KIO AVE 5</td>\n      <td>06 TO 10</td>\n      <td>67.0</td>\n      <td>New Generation</td>\n      <td>1980</td>\n      <td>321000.0</td>\n      <td>NaN</td>\n    </tr>\n    <tr>\n      <th>...</th>\n      <td>...</td>\n      <td>...</td>\n      <td>...</td>\n      <td>...</td>\n      <td>...</td>\n      <td>...</td>\n      <td>...</td>\n      <td>...</td>\n      <td>...</td>\n      <td>...</td>\n      <td>...</td>\n    </tr>\n    <tr>\n      <th>37148</th>\n      <td>2016-12</td>\n      <td>YISHUN</td>\n      <td>5 ROOM</td>\n      <td>297</td>\n      <td>YISHUN ST 20</td>\n      <td>13 TO 15</td>\n      <td>112.0</td>\n      <td>Improved</td>\n      <td>2000</td>\n      <td>488000.0</td>\n      <td>82</td>\n    </tr>\n    <tr>\n      <th>37149</th>\n      <td>2016-12</td>\n      <td>YISHUN</td>\n      <td>5 ROOM</td>\n      <td>838</td>\n      <td>YISHUN ST 81</td>\n      <td>01 TO 03</td>\n      <td>122.0</td>\n      <td>Improved</td>\n      <td>1987</td>\n      <td>455000.0</td>\n      <td>69</td>\n    </tr>\n    <tr>\n      <th>37150</th>\n      <td>2016-12</td>\n      <td>YISHUN</td>\n      <td>EXECUTIVE</td>\n      <td>664</td>\n      <td>YISHUN AVE 4</td>\n      <td>10 TO 12</td>\n      <td>181.0</td>\n      <td>Apartment</td>\n      <td>1992</td>\n      <td>778000.0</td>\n      <td>74</td>\n    </tr>\n    <tr>\n      <th>37151</th>\n      <td>2016-12</td>\n      <td>YISHUN</td>\n      <td>EXECUTIVE</td>\n      <td>325</td>\n      <td>YISHUN CTRL</td>\n      <td>01 TO 03</td>\n      <td>146.0</td>\n      <td>Maisonette</td>\n      <td>1988</td>\n      <td>575000.0</td>\n      <td>70</td>\n    </tr>\n    <tr>\n      <th>37152</th>\n      <td>2016-12</td>\n      <td>YISHUN</td>\n      <td>MULTI-GENERATION</td>\n      <td>666</td>\n      <td>YISHUN AVE 4</td>\n      <td>10 TO 12</td>\n      <td>164.0</td>\n      <td>Multi Generation</td>\n      <td>1987</td>\n      <td>735000.0</td>\n      <td>70</td>\n    </tr>\n  </tbody>\n</table>\n<p>210830 rows × 11 columns</p>\n</div>"
     },
     "execution_count": 5,
     "metadata": {},
     "output_type": "execute_result"
    }
   ],
   "source": [
    "def create_resale_registration():\n",
    "\n",
    "    base_dir = '../data/resale-flat-prices/'\n",
    "    df = pd.DataFrame()\n",
    "    for file in os.listdir('../data/resale-flat-prices/'):\n",
    "        if \"registration-date\" in file and 'csv' in file:\n",
    "            df = pd.concat([df, pd.read_csv(f'{base_dir}{file}')])\n",
    "\n",
    "    return df\n",
    "\n",
    "registration = create_resale_registration()\n",
    "registration"
   ],
   "metadata": {
    "collapsed": false,
    "pycharm": {
     "name": "#%%\n"
    }
   }
  },
  {
   "cell_type": "code",
   "execution_count": 6,
   "outputs": [],
   "source": [
    "def clean_registration_df(df):\n",
    "\n",
    "    df['month'] = pd.to_datetime(df['month'])\n",
    "    df['n_rooms'] = df['flat_type'].str.extract('(\\d)').astype('Int64')\n",
    "    df['n_rooms'] = df['n_rooms'].astype('Int64')\n",
    "    # Convert story range to min and max int columns\n",
    "    df['storey_range_min'] = df['storey_range'].str[:2].astype(int)\n",
    "    df['storey_range_max'] = df['storey_range'].str[-2:].astype(int)\n",
    "\n",
    "    # Convert remaining lease years to int years and int months remaining columns\n",
    "    df['remaining_lease_years'] = df['remaining_lease'].str.extract('(?P<remaining_lease_years>\\d{2}) year[s]?')\n",
    "\n",
    "    df[['remaining_lease_months', 'remaining_lease_month']] = df['remaining_lease'].str.extract('\\d{2} year[s]? (?P<remaining_lease_months>\\d{2}) month[s]?|(?P<remaining_lease_month>\\d{2}) month[s]?')\n",
    "    df.drop('remaining_lease_month', axis=1, inplace=True)\n",
    "    df[['remaining_lease_years', 'remaining_lease_months']] = df[['remaining_lease_years', 'remaining_lease_months']].astype('Int64').copy()\n",
    "    df['remaining_lease_years'].fillna(df['remaining_lease'], inplace=True)\n",
    "    df.sort_values('month', ascending=True, inplace=True)\n",
    "    df.reset_index(inplace=True, drop=True)\n",
    "    df['remaining_lease_months'].fillna(pd.Series(np.where(df['remaining_lease'].isnull(), np.nan, 0)), inplace=True)\n",
    "\n",
    "\n",
    "\n",
    "    return df"
   ],
   "metadata": {
    "collapsed": false,
    "pycharm": {
     "name": "#%%\n"
    }
   }
  },
  {
   "cell_type": "code",
   "execution_count": 7,
   "outputs": [
    {
     "data": {
      "text/plain": "            month           town flat_type block       street_name  \\\n0      2012-03-01     ANG MO KIO    2 ROOM   172  ANG MO KIO AVE 4   \n1      2012-03-01       SENGKANG    4 ROOM  184B    RIVERVALE CRES   \n2      2012-03-01       SENGKANG    4 ROOM  201B    COMPASSVALE DR   \n3      2012-03-01       SENGKANG    4 ROOM  311B   ANCHORVALE LANE   \n4      2012-03-01       SENGKANG    4 ROOM  259B    COMPASSVALE RD   \n...           ...            ...       ...   ...               ...   \n210825 2022-03-01       CLEMENTI    3 ROOM  208B    CLEMENTI AVE 6   \n210826 2022-03-01       CLEMENTI    3 ROOM   320    CLEMENTI AVE 4   \n210827 2022-03-01       CLEMENTI    3 ROOM   334    CLEMENTI AVE 2   \n210828 2022-03-01        GEYLANG    3 ROOM     3      JOO CHIAT RD   \n210829 2022-03-01  BUKIT PANJANG    4 ROOM   149          PETIR RD   \n\n       storey_range  floor_area_sqm         flat_model  lease_commence_date  \\\n0          06 TO 10            45.0           Improved                 1986   \n1          11 TO 15            90.0            Model A                 2003   \n2          11 TO 15            90.0            Model A                 2001   \n3          01 TO 05            95.0  Premium Apartment                 2002   \n4          01 TO 05            85.0           Model A2                 2001   \n...             ...             ...                ...                  ...   \n210825     19 TO 21            68.0            Model A                 2017   \n210826     04 TO 06            67.0     New Generation                 1979   \n210827     07 TO 09            67.0     New Generation                 1978   \n210828     10 TO 12            74.0            Model A                 1985   \n210829     01 TO 03           103.0            Model A                 1988   \n\n        resale_price     remaining_lease  n_rooms  storey_range_min  \\\n0           250000.0                 NaN        2                 6   \n1           436000.0                 NaN        4                11   \n2           437000.0                 NaN        4                11   \n3           438000.0                 NaN        4                 1   \n4           438000.0                 NaN        4                 1   \n...              ...                 ...      ...               ...   \n210825      575000.0  94 years 08 months        3                19   \n210826      380888.0  56 years 02 months        3                 4   \n210827      416000.0  55 years 05 months        3                 7   \n210828      470000.0  62 years 10 months        3                10   \n210829      420000.0  65 years 08 months        4                 1   \n\n        storey_range_max  remaining_lease_years  remaining_lease_months  \n0                     10                   <NA>                    <NA>  \n1                     15                   <NA>                    <NA>  \n2                     15                   <NA>                    <NA>  \n3                      5                   <NA>                    <NA>  \n4                      5                   <NA>                    <NA>  \n...                  ...                    ...                     ...  \n210825                21                     94                       8  \n210826                 6                     56                       2  \n210827                 9                     55                       5  \n210828                12                     62                      10  \n210829                 3                     65                       8  \n\n[210830 rows x 16 columns]",
      "text/html": "<div>\n<style scoped>\n    .dataframe tbody tr th:only-of-type {\n        vertical-align: middle;\n    }\n\n    .dataframe tbody tr th {\n        vertical-align: top;\n    }\n\n    .dataframe thead th {\n        text-align: right;\n    }\n</style>\n<table border=\"1\" class=\"dataframe\">\n  <thead>\n    <tr style=\"text-align: right;\">\n      <th></th>\n      <th>month</th>\n      <th>town</th>\n      <th>flat_type</th>\n      <th>block</th>\n      <th>street_name</th>\n      <th>storey_range</th>\n      <th>floor_area_sqm</th>\n      <th>flat_model</th>\n      <th>lease_commence_date</th>\n      <th>resale_price</th>\n      <th>remaining_lease</th>\n      <th>n_rooms</th>\n      <th>storey_range_min</th>\n      <th>storey_range_max</th>\n      <th>remaining_lease_years</th>\n      <th>remaining_lease_months</th>\n    </tr>\n  </thead>\n  <tbody>\n    <tr>\n      <th>0</th>\n      <td>2012-03-01</td>\n      <td>ANG MO KIO</td>\n      <td>2 ROOM</td>\n      <td>172</td>\n      <td>ANG MO KIO AVE 4</td>\n      <td>06 TO 10</td>\n      <td>45.0</td>\n      <td>Improved</td>\n      <td>1986</td>\n      <td>250000.0</td>\n      <td>NaN</td>\n      <td>2</td>\n      <td>6</td>\n      <td>10</td>\n      <td>&lt;NA&gt;</td>\n      <td>&lt;NA&gt;</td>\n    </tr>\n    <tr>\n      <th>1</th>\n      <td>2012-03-01</td>\n      <td>SENGKANG</td>\n      <td>4 ROOM</td>\n      <td>184B</td>\n      <td>RIVERVALE CRES</td>\n      <td>11 TO 15</td>\n      <td>90.0</td>\n      <td>Model A</td>\n      <td>2003</td>\n      <td>436000.0</td>\n      <td>NaN</td>\n      <td>4</td>\n      <td>11</td>\n      <td>15</td>\n      <td>&lt;NA&gt;</td>\n      <td>&lt;NA&gt;</td>\n    </tr>\n    <tr>\n      <th>2</th>\n      <td>2012-03-01</td>\n      <td>SENGKANG</td>\n      <td>4 ROOM</td>\n      <td>201B</td>\n      <td>COMPASSVALE DR</td>\n      <td>11 TO 15</td>\n      <td>90.0</td>\n      <td>Model A</td>\n      <td>2001</td>\n      <td>437000.0</td>\n      <td>NaN</td>\n      <td>4</td>\n      <td>11</td>\n      <td>15</td>\n      <td>&lt;NA&gt;</td>\n      <td>&lt;NA&gt;</td>\n    </tr>\n    <tr>\n      <th>3</th>\n      <td>2012-03-01</td>\n      <td>SENGKANG</td>\n      <td>4 ROOM</td>\n      <td>311B</td>\n      <td>ANCHORVALE LANE</td>\n      <td>01 TO 05</td>\n      <td>95.0</td>\n      <td>Premium Apartment</td>\n      <td>2002</td>\n      <td>438000.0</td>\n      <td>NaN</td>\n      <td>4</td>\n      <td>1</td>\n      <td>5</td>\n      <td>&lt;NA&gt;</td>\n      <td>&lt;NA&gt;</td>\n    </tr>\n    <tr>\n      <th>4</th>\n      <td>2012-03-01</td>\n      <td>SENGKANG</td>\n      <td>4 ROOM</td>\n      <td>259B</td>\n      <td>COMPASSVALE RD</td>\n      <td>01 TO 05</td>\n      <td>85.0</td>\n      <td>Model A2</td>\n      <td>2001</td>\n      <td>438000.0</td>\n      <td>NaN</td>\n      <td>4</td>\n      <td>1</td>\n      <td>5</td>\n      <td>&lt;NA&gt;</td>\n      <td>&lt;NA&gt;</td>\n    </tr>\n    <tr>\n      <th>...</th>\n      <td>...</td>\n      <td>...</td>\n      <td>...</td>\n      <td>...</td>\n      <td>...</td>\n      <td>...</td>\n      <td>...</td>\n      <td>...</td>\n      <td>...</td>\n      <td>...</td>\n      <td>...</td>\n      <td>...</td>\n      <td>...</td>\n      <td>...</td>\n      <td>...</td>\n      <td>...</td>\n    </tr>\n    <tr>\n      <th>210825</th>\n      <td>2022-03-01</td>\n      <td>CLEMENTI</td>\n      <td>3 ROOM</td>\n      <td>208B</td>\n      <td>CLEMENTI AVE 6</td>\n      <td>19 TO 21</td>\n      <td>68.0</td>\n      <td>Model A</td>\n      <td>2017</td>\n      <td>575000.0</td>\n      <td>94 years 08 months</td>\n      <td>3</td>\n      <td>19</td>\n      <td>21</td>\n      <td>94</td>\n      <td>8</td>\n    </tr>\n    <tr>\n      <th>210826</th>\n      <td>2022-03-01</td>\n      <td>CLEMENTI</td>\n      <td>3 ROOM</td>\n      <td>320</td>\n      <td>CLEMENTI AVE 4</td>\n      <td>04 TO 06</td>\n      <td>67.0</td>\n      <td>New Generation</td>\n      <td>1979</td>\n      <td>380888.0</td>\n      <td>56 years 02 months</td>\n      <td>3</td>\n      <td>4</td>\n      <td>6</td>\n      <td>56</td>\n      <td>2</td>\n    </tr>\n    <tr>\n      <th>210827</th>\n      <td>2022-03-01</td>\n      <td>CLEMENTI</td>\n      <td>3 ROOM</td>\n      <td>334</td>\n      <td>CLEMENTI AVE 2</td>\n      <td>07 TO 09</td>\n      <td>67.0</td>\n      <td>New Generation</td>\n      <td>1978</td>\n      <td>416000.0</td>\n      <td>55 years 05 months</td>\n      <td>3</td>\n      <td>7</td>\n      <td>9</td>\n      <td>55</td>\n      <td>5</td>\n    </tr>\n    <tr>\n      <th>210828</th>\n      <td>2022-03-01</td>\n      <td>GEYLANG</td>\n      <td>3 ROOM</td>\n      <td>3</td>\n      <td>JOO CHIAT RD</td>\n      <td>10 TO 12</td>\n      <td>74.0</td>\n      <td>Model A</td>\n      <td>1985</td>\n      <td>470000.0</td>\n      <td>62 years 10 months</td>\n      <td>3</td>\n      <td>10</td>\n      <td>12</td>\n      <td>62</td>\n      <td>10</td>\n    </tr>\n    <tr>\n      <th>210829</th>\n      <td>2022-03-01</td>\n      <td>BUKIT PANJANG</td>\n      <td>4 ROOM</td>\n      <td>149</td>\n      <td>PETIR RD</td>\n      <td>01 TO 03</td>\n      <td>103.0</td>\n      <td>Model A</td>\n      <td>1988</td>\n      <td>420000.0</td>\n      <td>65 years 08 months</td>\n      <td>4</td>\n      <td>1</td>\n      <td>3</td>\n      <td>65</td>\n      <td>8</td>\n    </tr>\n  </tbody>\n</table>\n<p>210830 rows × 16 columns</p>\n</div>"
     },
     "execution_count": 7,
     "metadata": {},
     "output_type": "execute_result"
    }
   ],
   "source": [
    "registration = clean_registration_df(registration)\n",
    "registration"
   ],
   "metadata": {
    "collapsed": false,
    "pycharm": {
     "name": "#%%\n"
    }
   }
  },
  {
   "cell_type": "code",
   "execution_count": 8,
   "outputs": [
    {
     "data": {
      "text/plain": "            month           town flat_type block       street_name  \\\n0      1990-01-01     ANG MO KIO    1 ROOM   309  ANG MO KIO AVE 1   \n1      1990-01-01         YISHUN    5 ROOM   229      YISHUN ST 21   \n2      1990-01-01         YISHUN    5 ROOM   231      YISHUN ST 21   \n3      1990-01-01         YISHUN    5 ROOM   221      YISHUN ST 21   \n4      1990-01-01         YISHUN    5 ROOM   161      YISHUN ST 11   \n...           ...            ...       ...   ...               ...   \n210825 2022-03-01       CLEMENTI    3 ROOM  208B    CLEMENTI AVE 6   \n210826 2022-03-01       CLEMENTI    3 ROOM   320    CLEMENTI AVE 4   \n210827 2022-03-01       CLEMENTI    3 ROOM   334    CLEMENTI AVE 2   \n210828 2022-03-01        GEYLANG    3 ROOM     3      JOO CHIAT RD   \n210829 2022-03-01  BUKIT PANJANG    4 ROOM   149          PETIR RD   \n\n       storey_range  floor_area_sqm      flat_model  lease_commence_date  \\\n0          10 TO 12            31.0        IMPROVED                 1977   \n1          01 TO 03           121.0        IMPROVED                 1985   \n2          01 TO 03           121.0        IMPROVED                 1985   \n3          07 TO 09           121.0        IMPROVED                 1985   \n4          10 TO 12           121.0        IMPROVED                 1985   \n...             ...             ...             ...                  ...   \n210825     19 TO 21            68.0         Model A                 2017   \n210826     04 TO 06            67.0  New Generation                 1979   \n210827     07 TO 09            67.0  New Generation                 1978   \n210828     10 TO 12            74.0         Model A                 1985   \n210829     01 TO 03           103.0         Model A                 1988   \n\n        resale_price  ...  storey_range_min  storey_range_max  \\\n0             9000.0  ...                10                12   \n1            98700.0  ...                 1                 3   \n2            94000.0  ...                 1                 3   \n3            98000.0  ...                 7                 9   \n4           120000.0  ...                10                12   \n...              ...  ...               ...               ...   \n210825      575000.0  ...                19                21   \n210826      380888.0  ...                 4                 6   \n210827      416000.0  ...                 7                 9   \n210828      470000.0  ...                10                12   \n210829      420000.0  ...                 1                 3   \n\n           remaining_lease remaining_lease_years  remaining_lease_months  \\\n0                      NaN                    86                    <NA>   \n1                      NaN                    94                    <NA>   \n2                      NaN                    94                    <NA>   \n3                      NaN                    94                    <NA>   \n4                      NaN                    94                    <NA>   \n...                    ...                   ...                     ...   \n210825  94 years 08 months                    94                       8   \n210826  56 years 02 months                    56                       2   \n210827  55 years 05 months                    55                       5   \n210828  62 years 10 months                    62                      10   \n210829  65 years 08 months                    65                       8   \n\n                                           id price_per_sq_ft  price_per_sq_m  \\\n0       1990_01_309_ANG_MO_KIO_AVE_1_10_TO_12       88.490320      290.322581   \n1           1990_01_229_YISHUN_ST_21_01_TO_03      248.626108      815.702479   \n2           1990_01_231_YISHUN_ST_21_01_TO_03      236.786769      776.859504   \n3           1990_01_221_YISHUN_ST_21_07_TO_09      246.862802      809.917355   \n4           1990_01_161_YISHUN_ST_11_10_TO_12      302.280982      991.735537   \n...                                       ...             ...             ...   \n210825   2022_03_208B_CLEMENTI_AVE_6_19_TO_21     2577.352859     8455.882353   \n210826    2022_03_320_CLEMENTI_AVE_4_04_TO_06     1732.756100     5684.895522   \n210827    2022_03_334_CLEMENTI_AVE_2_07_TO_09     1892.489492     6208.955224   \n210828        2022_03_3_JOO_CHIAT_RD_10_TO_12     1935.891830     6351.351351   \n210829          2022_03_149_PETIR_RD_01_TO_03     1242.873747     4077.669903   \n\n        price_per_sq_ft_per_lease_yr  price_per_sq_m_per_lease_yr  \n0                           1.028957                     3.375844  \n1                           2.644959                     8.677686  \n2                           2.519008                     8.264463  \n3                           2.626200                     8.616142  \n4                           3.215755                    10.550378  \n...                              ...                          ...  \n210825                     27.418647                    89.956195  \n210826                     30.942073                   101.515991  \n210827                     34.408900                   112.890095  \n210828                     31.224062                   102.441151  \n210829                     19.121135                    62.733383  \n\n[1524524 rows x 21 columns]",
      "text/html": "<div>\n<style scoped>\n    .dataframe tbody tr th:only-of-type {\n        vertical-align: middle;\n    }\n\n    .dataframe tbody tr th {\n        vertical-align: top;\n    }\n\n    .dataframe thead th {\n        text-align: right;\n    }\n</style>\n<table border=\"1\" class=\"dataframe\">\n  <thead>\n    <tr style=\"text-align: right;\">\n      <th></th>\n      <th>month</th>\n      <th>town</th>\n      <th>flat_type</th>\n      <th>block</th>\n      <th>street_name</th>\n      <th>storey_range</th>\n      <th>floor_area_sqm</th>\n      <th>flat_model</th>\n      <th>lease_commence_date</th>\n      <th>resale_price</th>\n      <th>...</th>\n      <th>storey_range_min</th>\n      <th>storey_range_max</th>\n      <th>remaining_lease</th>\n      <th>remaining_lease_years</th>\n      <th>remaining_lease_months</th>\n      <th>id</th>\n      <th>price_per_sq_ft</th>\n      <th>price_per_sq_m</th>\n      <th>price_per_sq_ft_per_lease_yr</th>\n      <th>price_per_sq_m_per_lease_yr</th>\n    </tr>\n  </thead>\n  <tbody>\n    <tr>\n      <th>0</th>\n      <td>1990-01-01</td>\n      <td>ANG MO KIO</td>\n      <td>1 ROOM</td>\n      <td>309</td>\n      <td>ANG MO KIO AVE 1</td>\n      <td>10 TO 12</td>\n      <td>31.0</td>\n      <td>IMPROVED</td>\n      <td>1977</td>\n      <td>9000.0</td>\n      <td>...</td>\n      <td>10</td>\n      <td>12</td>\n      <td>NaN</td>\n      <td>86</td>\n      <td>&lt;NA&gt;</td>\n      <td>1990_01_309_ANG_MO_KIO_AVE_1_10_TO_12</td>\n      <td>88.490320</td>\n      <td>290.322581</td>\n      <td>1.028957</td>\n      <td>3.375844</td>\n    </tr>\n    <tr>\n      <th>1</th>\n      <td>1990-01-01</td>\n      <td>YISHUN</td>\n      <td>5 ROOM</td>\n      <td>229</td>\n      <td>YISHUN ST 21</td>\n      <td>01 TO 03</td>\n      <td>121.0</td>\n      <td>IMPROVED</td>\n      <td>1985</td>\n      <td>98700.0</td>\n      <td>...</td>\n      <td>1</td>\n      <td>3</td>\n      <td>NaN</td>\n      <td>94</td>\n      <td>&lt;NA&gt;</td>\n      <td>1990_01_229_YISHUN_ST_21_01_TO_03</td>\n      <td>248.626108</td>\n      <td>815.702479</td>\n      <td>2.644959</td>\n      <td>8.677686</td>\n    </tr>\n    <tr>\n      <th>2</th>\n      <td>1990-01-01</td>\n      <td>YISHUN</td>\n      <td>5 ROOM</td>\n      <td>231</td>\n      <td>YISHUN ST 21</td>\n      <td>01 TO 03</td>\n      <td>121.0</td>\n      <td>IMPROVED</td>\n      <td>1985</td>\n      <td>94000.0</td>\n      <td>...</td>\n      <td>1</td>\n      <td>3</td>\n      <td>NaN</td>\n      <td>94</td>\n      <td>&lt;NA&gt;</td>\n      <td>1990_01_231_YISHUN_ST_21_01_TO_03</td>\n      <td>236.786769</td>\n      <td>776.859504</td>\n      <td>2.519008</td>\n      <td>8.264463</td>\n    </tr>\n    <tr>\n      <th>3</th>\n      <td>1990-01-01</td>\n      <td>YISHUN</td>\n      <td>5 ROOM</td>\n      <td>221</td>\n      <td>YISHUN ST 21</td>\n      <td>07 TO 09</td>\n      <td>121.0</td>\n      <td>IMPROVED</td>\n      <td>1985</td>\n      <td>98000.0</td>\n      <td>...</td>\n      <td>7</td>\n      <td>9</td>\n      <td>NaN</td>\n      <td>94</td>\n      <td>&lt;NA&gt;</td>\n      <td>1990_01_221_YISHUN_ST_21_07_TO_09</td>\n      <td>246.862802</td>\n      <td>809.917355</td>\n      <td>2.626200</td>\n      <td>8.616142</td>\n    </tr>\n    <tr>\n      <th>4</th>\n      <td>1990-01-01</td>\n      <td>YISHUN</td>\n      <td>5 ROOM</td>\n      <td>161</td>\n      <td>YISHUN ST 11</td>\n      <td>10 TO 12</td>\n      <td>121.0</td>\n      <td>IMPROVED</td>\n      <td>1985</td>\n      <td>120000.0</td>\n      <td>...</td>\n      <td>10</td>\n      <td>12</td>\n      <td>NaN</td>\n      <td>94</td>\n      <td>&lt;NA&gt;</td>\n      <td>1990_01_161_YISHUN_ST_11_10_TO_12</td>\n      <td>302.280982</td>\n      <td>991.735537</td>\n      <td>3.215755</td>\n      <td>10.550378</td>\n    </tr>\n    <tr>\n      <th>...</th>\n      <td>...</td>\n      <td>...</td>\n      <td>...</td>\n      <td>...</td>\n      <td>...</td>\n      <td>...</td>\n      <td>...</td>\n      <td>...</td>\n      <td>...</td>\n      <td>...</td>\n      <td>...</td>\n      <td>...</td>\n      <td>...</td>\n      <td>...</td>\n      <td>...</td>\n      <td>...</td>\n      <td>...</td>\n      <td>...</td>\n      <td>...</td>\n      <td>...</td>\n      <td>...</td>\n    </tr>\n    <tr>\n      <th>210825</th>\n      <td>2022-03-01</td>\n      <td>CLEMENTI</td>\n      <td>3 ROOM</td>\n      <td>208B</td>\n      <td>CLEMENTI AVE 6</td>\n      <td>19 TO 21</td>\n      <td>68.0</td>\n      <td>Model A</td>\n      <td>2017</td>\n      <td>575000.0</td>\n      <td>...</td>\n      <td>19</td>\n      <td>21</td>\n      <td>94 years 08 months</td>\n      <td>94</td>\n      <td>8</td>\n      <td>2022_03_208B_CLEMENTI_AVE_6_19_TO_21</td>\n      <td>2577.352859</td>\n      <td>8455.882353</td>\n      <td>27.418647</td>\n      <td>89.956195</td>\n    </tr>\n    <tr>\n      <th>210826</th>\n      <td>2022-03-01</td>\n      <td>CLEMENTI</td>\n      <td>3 ROOM</td>\n      <td>320</td>\n      <td>CLEMENTI AVE 4</td>\n      <td>04 TO 06</td>\n      <td>67.0</td>\n      <td>New Generation</td>\n      <td>1979</td>\n      <td>380888.0</td>\n      <td>...</td>\n      <td>4</td>\n      <td>6</td>\n      <td>56 years 02 months</td>\n      <td>56</td>\n      <td>2</td>\n      <td>2022_03_320_CLEMENTI_AVE_4_04_TO_06</td>\n      <td>1732.756100</td>\n      <td>5684.895522</td>\n      <td>30.942073</td>\n      <td>101.515991</td>\n    </tr>\n    <tr>\n      <th>210827</th>\n      <td>2022-03-01</td>\n      <td>CLEMENTI</td>\n      <td>3 ROOM</td>\n      <td>334</td>\n      <td>CLEMENTI AVE 2</td>\n      <td>07 TO 09</td>\n      <td>67.0</td>\n      <td>New Generation</td>\n      <td>1978</td>\n      <td>416000.0</td>\n      <td>...</td>\n      <td>7</td>\n      <td>9</td>\n      <td>55 years 05 months</td>\n      <td>55</td>\n      <td>5</td>\n      <td>2022_03_334_CLEMENTI_AVE_2_07_TO_09</td>\n      <td>1892.489492</td>\n      <td>6208.955224</td>\n      <td>34.408900</td>\n      <td>112.890095</td>\n    </tr>\n    <tr>\n      <th>210828</th>\n      <td>2022-03-01</td>\n      <td>GEYLANG</td>\n      <td>3 ROOM</td>\n      <td>3</td>\n      <td>JOO CHIAT RD</td>\n      <td>10 TO 12</td>\n      <td>74.0</td>\n      <td>Model A</td>\n      <td>1985</td>\n      <td>470000.0</td>\n      <td>...</td>\n      <td>10</td>\n      <td>12</td>\n      <td>62 years 10 months</td>\n      <td>62</td>\n      <td>10</td>\n      <td>2022_03_3_JOO_CHIAT_RD_10_TO_12</td>\n      <td>1935.891830</td>\n      <td>6351.351351</td>\n      <td>31.224062</td>\n      <td>102.441151</td>\n    </tr>\n    <tr>\n      <th>210829</th>\n      <td>2022-03-01</td>\n      <td>BUKIT PANJANG</td>\n      <td>4 ROOM</td>\n      <td>149</td>\n      <td>PETIR RD</td>\n      <td>01 TO 03</td>\n      <td>103.0</td>\n      <td>Model A</td>\n      <td>1988</td>\n      <td>420000.0</td>\n      <td>...</td>\n      <td>1</td>\n      <td>3</td>\n      <td>65 years 08 months</td>\n      <td>65</td>\n      <td>8</td>\n      <td>2022_03_149_PETIR_RD_01_TO_03</td>\n      <td>1242.873747</td>\n      <td>4077.669903</td>\n      <td>19.121135</td>\n      <td>62.733383</td>\n    </tr>\n  </tbody>\n</table>\n<p>1524524 rows × 21 columns</p>\n</div>"
     },
     "execution_count": 8,
     "metadata": {},
     "output_type": "execute_result"
    }
   ],
   "source": [
    "def create_resale_prices(approval_df, registration_df):\n",
    "    rs_df = pd.concat([approval_df, registration_df])\n",
    "\n",
    "    rs_df['month'] = pd.to_datetime(rs_df['month'])\n",
    "    rs_df['lease_commence_date'] = pd.to_datetime(rs_df['lease_commence_date'], format='%Y')\n",
    "\n",
    "    rs_df['id'] = rs_df['month'].dt.strftime('%Y') + \"_\" + rs_df['month'].dt.strftime('%m') + \"_\" +  rs_df['block'] + \"_\" + rs_df['street_name'].str.replace(' ', '_') + \"_\" + rs_df['storey_range'].str.replace(' ', '_')\n",
    "\n",
    "    # Remaining lease years =\n",
    "    # if month >= 6\n",
    "    # lease_commence_date + 99 - month\n",
    "    # if month < 6\n",
    "    # lease_commence_date + 98 - month\n",
    "    rs_df['remaining_lease_years'] = np.where(rs_df['month'].dt.month >= 6, ((rs_df['lease_commence_date'].dt.year + 98) - rs_df['month'].dt.year), ((rs_df['lease_commence_date'].dt.year + 99) - rs_df['month'].dt.year))\n",
    "\n",
    "    # Convert back to int year.\n",
    "    rs_df['lease_commence_date'] = rs_df['lease_commence_date'].dt.year.astype(int)\n",
    "\n",
    "\n",
    "    # Price per square foot and meter\n",
    "    rs_df['price_per_sq_ft'] = rs_df['resale_price'] / (rs_df['floor_area_sqm'] * 3.28084) #3.28084 ft per meter\n",
    "    rs_df['price_per_sq_m'] = rs_df['resale_price'] / rs_df['floor_area_sqm']\n",
    "\n",
    "    # Price per square foot/meter and remaining lease years\n",
    "    rs_df['price_per_sq_ft_per_lease_yr'] = rs_df['price_per_sq_ft'] / rs_df['remaining_lease_years']\n",
    "    rs_df['price_per_sq_m_per_lease_yr'] = rs_df['price_per_sq_m'] / rs_df['remaining_lease_years']\n",
    "\n",
    "\n",
    "\n",
    "    return rs_df\n",
    "\n",
    "rs_df = create_resale_prices(approval, registration)\n",
    "rs_df"
   ],
   "metadata": {
    "collapsed": false,
    "pycharm": {
     "name": "#%%\n"
    }
   }
  },
  {
   "cell_type": "code",
   "execution_count": 9,
   "outputs": [],
   "source": [
    "def update_street_abbreviations(resale_df):\n",
    "    resale_df['address']=resale_df['block']+' '+resale_df['street_name']\n",
    "\n",
    "    ##Deal with short forms\n",
    "    resale_df['address']=resale_df['address'].str.replace(' AVE ',' AVENUE ')\n",
    "    resale_df['address']=resale_df['address'].str.replace(' ST ',' STREET ')\n",
    "    resale_df['address']=resale_df['address'].str.replace(' NTH',' NORTH')\n",
    "    resale_df['address']=resale_df['address'].str.replace(' STH',' SOUTH')\n",
    "    resale_df['address']=resale_df['address'].str.replace(' RD',' ROAD')\n",
    "    resale_df['address']=resale_df['address'].str.replace(' UPP ',' UPPER ')\n",
    "    resale_df['address']=resale_df['address'].str.replace(' CTRL',' CENTRAL')\n",
    "    resale_df['address']=resale_df['address'].str.replace(' JLN ',' JALAN ')\n",
    "    resale_df['address']=resale_df['address'].str.replace('BT ','BUKIT ')\n",
    "    resale_df['address']=resale_df['address'].str.replace(' HTS',' HEIGHTS')\n",
    "    resale_df['address']=resale_df['address'].str.replace(' MKT ',' MARKET ')\n",
    "    resale_df['address']=resale_df['address'].str.replace('TG ','TANJONG ')\n",
    "    resale_df['address']=resale_df['address'].str.replace(\"C'WEALTH\",'COMMONWEALTH')\n",
    "    resale_df['address']=resale_df['address'].str.replace(\"LOR \",'LORONG ')\n",
    "    resale_df['address']=resale_df['address'].str.replace(\"GDNS\",'GARDENS')\n",
    "    resale_df['address']=resale_df['address'].str.replace('ST. ','SAINT ')\n",
    "    resale_df['address']=resale_df['address'].str.replace(' PK',' PARK')\n",
    "    resale_df['address']=resale_df['address'].str.replace(' DR ',' DRIVE ')\n",
    "    resale_df['address']=resale_df['address'].str.replace('KG ','KAMPONG ')\n",
    "    resale_df['address']=resale_df['address'].str.replace(' CL ',' CLOSE ')\n",
    "\n",
    "    return resale_df"
   ],
   "metadata": {
    "collapsed": false,
    "pycharm": {
     "name": "#%%\n"
    }
   }
  },
  {
   "cell_type": "code",
   "execution_count": 10,
   "outputs": [
    {
     "name": "stderr",
     "output_type": "stream",
     "text": [
      "/var/folders/x5/8jbl553d391f5ks09z57vch40000gn/T/ipykernel_3611/2010800487.py:20: FutureWarning: The default value of regex will change from True to False in a future version.\n",
      "  resale_df['address']=resale_df['address'].str.replace('ST. ','SAINT ')\n"
     ]
    },
    {
     "data": {
      "text/plain": "            month           town flat_type block       street_name  \\\n0      1990-01-01     ANG MO KIO    1 ROOM   309  ANG MO KIO AVE 1   \n1      1990-01-01         YISHUN    5 ROOM   229      YISHUN ST 21   \n2      1990-01-01         YISHUN    5 ROOM   231      YISHUN ST 21   \n3      1990-01-01         YISHUN    5 ROOM   221      YISHUN ST 21   \n4      1990-01-01         YISHUN    5 ROOM   161      YISHUN ST 11   \n...           ...            ...       ...   ...               ...   \n210825 2022-03-01       CLEMENTI    3 ROOM  208B    CLEMENTI AVE 6   \n210826 2022-03-01       CLEMENTI    3 ROOM   320    CLEMENTI AVE 4   \n210827 2022-03-01       CLEMENTI    3 ROOM   334    CLEMENTI AVE 2   \n210828 2022-03-01        GEYLANG    3 ROOM     3      JOO CHIAT RD   \n210829 2022-03-01  BUKIT PANJANG    4 ROOM   149          PETIR RD   \n\n       storey_range  floor_area_sqm      flat_model  lease_commence_date  \\\n0          10 TO 12            31.0        IMPROVED                 1977   \n1          01 TO 03           121.0        IMPROVED                 1985   \n2          01 TO 03           121.0        IMPROVED                 1985   \n3          07 TO 09           121.0        IMPROVED                 1985   \n4          10 TO 12           121.0        IMPROVED                 1985   \n...             ...             ...             ...                  ...   \n210825     19 TO 21            68.0         Model A                 2017   \n210826     04 TO 06            67.0  New Generation                 1979   \n210827     07 TO 09            67.0  New Generation                 1978   \n210828     10 TO 12            74.0         Model A                 1985   \n210829     01 TO 03           103.0         Model A                 1988   \n\n        resale_price  ...  storey_range_max     remaining_lease  \\\n0             9000.0  ...                12                 NaN   \n1            98700.0  ...                 3                 NaN   \n2            94000.0  ...                 3                 NaN   \n3            98000.0  ...                 9                 NaN   \n4           120000.0  ...                12                 NaN   \n...              ...  ...               ...                 ...   \n210825      575000.0  ...                21  94 years 08 months   \n210826      380888.0  ...                 6  56 years 02 months   \n210827      416000.0  ...                 9  55 years 05 months   \n210828      470000.0  ...                12  62 years 10 months   \n210829      420000.0  ...                 3  65 years 08 months   \n\n        remaining_lease_years remaining_lease_months  \\\n0                          86                   <NA>   \n1                          94                   <NA>   \n2                          94                   <NA>   \n3                          94                   <NA>   \n4                          94                   <NA>   \n...                       ...                    ...   \n210825                     94                      8   \n210826                     56                      2   \n210827                     55                      5   \n210828                     62                     10   \n210829                     65                      8   \n\n                                           id  price_per_sq_ft price_per_sq_m  \\\n0       1990_01_309_ANG_MO_KIO_AVE_1_10_TO_12        88.490320     290.322581   \n1           1990_01_229_YISHUN_ST_21_01_TO_03       248.626108     815.702479   \n2           1990_01_231_YISHUN_ST_21_01_TO_03       236.786769     776.859504   \n3           1990_01_221_YISHUN_ST_21_07_TO_09       246.862802     809.917355   \n4           1990_01_161_YISHUN_ST_11_10_TO_12       302.280982     991.735537   \n...                                       ...              ...            ...   \n210825   2022_03_208B_CLEMENTI_AVE_6_19_TO_21      2577.352859    8455.882353   \n210826    2022_03_320_CLEMENTI_AVE_4_04_TO_06      1732.756100    5684.895522   \n210827    2022_03_334_CLEMENTI_AVE_2_07_TO_09      1892.489492    6208.955224   \n210828        2022_03_3_JOO_CHIAT_RD_10_TO_12      1935.891830    6351.351351   \n210829          2022_03_149_PETIR_RD_01_TO_03      1242.873747    4077.669903   \n\n        price_per_sq_ft_per_lease_yr  price_per_sq_m_per_lease_yr  \\\n0                           1.028957                     3.375844   \n1                           2.644959                     8.677686   \n2                           2.519008                     8.264463   \n3                           2.626200                     8.616142   \n4                           3.215755                    10.550378   \n...                              ...                          ...   \n210825                     27.418647                    89.956195   \n210826                     30.942073                   101.515991   \n210827                     34.408900                   112.890095   \n210828                     31.224062                   102.441151   \n210829                     19.121135                    62.733383   \n\n                        address  \n0       309 ANG MO KIO AVENUE 1  \n1          229 YISHUN STREET 21  \n2          231 YISHUN STREET 21  \n3          221 YISHUN STREET 21  \n4          161 YISHUN STREET 11  \n...                         ...  \n210825   208B CLEMENTI AVENUE 6  \n210826    320 CLEMENTI AVENUE 4  \n210827    334 CLEMENTI AVENUE 2  \n210828         3 JOO CHIAT ROAD  \n210829           149 PETIR ROAD  \n\n[1524524 rows x 22 columns]",
      "text/html": "<div>\n<style scoped>\n    .dataframe tbody tr th:only-of-type {\n        vertical-align: middle;\n    }\n\n    .dataframe tbody tr th {\n        vertical-align: top;\n    }\n\n    .dataframe thead th {\n        text-align: right;\n    }\n</style>\n<table border=\"1\" class=\"dataframe\">\n  <thead>\n    <tr style=\"text-align: right;\">\n      <th></th>\n      <th>month</th>\n      <th>town</th>\n      <th>flat_type</th>\n      <th>block</th>\n      <th>street_name</th>\n      <th>storey_range</th>\n      <th>floor_area_sqm</th>\n      <th>flat_model</th>\n      <th>lease_commence_date</th>\n      <th>resale_price</th>\n      <th>...</th>\n      <th>storey_range_max</th>\n      <th>remaining_lease</th>\n      <th>remaining_lease_years</th>\n      <th>remaining_lease_months</th>\n      <th>id</th>\n      <th>price_per_sq_ft</th>\n      <th>price_per_sq_m</th>\n      <th>price_per_sq_ft_per_lease_yr</th>\n      <th>price_per_sq_m_per_lease_yr</th>\n      <th>address</th>\n    </tr>\n  </thead>\n  <tbody>\n    <tr>\n      <th>0</th>\n      <td>1990-01-01</td>\n      <td>ANG MO KIO</td>\n      <td>1 ROOM</td>\n      <td>309</td>\n      <td>ANG MO KIO AVE 1</td>\n      <td>10 TO 12</td>\n      <td>31.0</td>\n      <td>IMPROVED</td>\n      <td>1977</td>\n      <td>9000.0</td>\n      <td>...</td>\n      <td>12</td>\n      <td>NaN</td>\n      <td>86</td>\n      <td>&lt;NA&gt;</td>\n      <td>1990_01_309_ANG_MO_KIO_AVE_1_10_TO_12</td>\n      <td>88.490320</td>\n      <td>290.322581</td>\n      <td>1.028957</td>\n      <td>3.375844</td>\n      <td>309 ANG MO KIO AVENUE 1</td>\n    </tr>\n    <tr>\n      <th>1</th>\n      <td>1990-01-01</td>\n      <td>YISHUN</td>\n      <td>5 ROOM</td>\n      <td>229</td>\n      <td>YISHUN ST 21</td>\n      <td>01 TO 03</td>\n      <td>121.0</td>\n      <td>IMPROVED</td>\n      <td>1985</td>\n      <td>98700.0</td>\n      <td>...</td>\n      <td>3</td>\n      <td>NaN</td>\n      <td>94</td>\n      <td>&lt;NA&gt;</td>\n      <td>1990_01_229_YISHUN_ST_21_01_TO_03</td>\n      <td>248.626108</td>\n      <td>815.702479</td>\n      <td>2.644959</td>\n      <td>8.677686</td>\n      <td>229 YISHUN STREET 21</td>\n    </tr>\n    <tr>\n      <th>2</th>\n      <td>1990-01-01</td>\n      <td>YISHUN</td>\n      <td>5 ROOM</td>\n      <td>231</td>\n      <td>YISHUN ST 21</td>\n      <td>01 TO 03</td>\n      <td>121.0</td>\n      <td>IMPROVED</td>\n      <td>1985</td>\n      <td>94000.0</td>\n      <td>...</td>\n      <td>3</td>\n      <td>NaN</td>\n      <td>94</td>\n      <td>&lt;NA&gt;</td>\n      <td>1990_01_231_YISHUN_ST_21_01_TO_03</td>\n      <td>236.786769</td>\n      <td>776.859504</td>\n      <td>2.519008</td>\n      <td>8.264463</td>\n      <td>231 YISHUN STREET 21</td>\n    </tr>\n    <tr>\n      <th>3</th>\n      <td>1990-01-01</td>\n      <td>YISHUN</td>\n      <td>5 ROOM</td>\n      <td>221</td>\n      <td>YISHUN ST 21</td>\n      <td>07 TO 09</td>\n      <td>121.0</td>\n      <td>IMPROVED</td>\n      <td>1985</td>\n      <td>98000.0</td>\n      <td>...</td>\n      <td>9</td>\n      <td>NaN</td>\n      <td>94</td>\n      <td>&lt;NA&gt;</td>\n      <td>1990_01_221_YISHUN_ST_21_07_TO_09</td>\n      <td>246.862802</td>\n      <td>809.917355</td>\n      <td>2.626200</td>\n      <td>8.616142</td>\n      <td>221 YISHUN STREET 21</td>\n    </tr>\n    <tr>\n      <th>4</th>\n      <td>1990-01-01</td>\n      <td>YISHUN</td>\n      <td>5 ROOM</td>\n      <td>161</td>\n      <td>YISHUN ST 11</td>\n      <td>10 TO 12</td>\n      <td>121.0</td>\n      <td>IMPROVED</td>\n      <td>1985</td>\n      <td>120000.0</td>\n      <td>...</td>\n      <td>12</td>\n      <td>NaN</td>\n      <td>94</td>\n      <td>&lt;NA&gt;</td>\n      <td>1990_01_161_YISHUN_ST_11_10_TO_12</td>\n      <td>302.280982</td>\n      <td>991.735537</td>\n      <td>3.215755</td>\n      <td>10.550378</td>\n      <td>161 YISHUN STREET 11</td>\n    </tr>\n    <tr>\n      <th>...</th>\n      <td>...</td>\n      <td>...</td>\n      <td>...</td>\n      <td>...</td>\n      <td>...</td>\n      <td>...</td>\n      <td>...</td>\n      <td>...</td>\n      <td>...</td>\n      <td>...</td>\n      <td>...</td>\n      <td>...</td>\n      <td>...</td>\n      <td>...</td>\n      <td>...</td>\n      <td>...</td>\n      <td>...</td>\n      <td>...</td>\n      <td>...</td>\n      <td>...</td>\n      <td>...</td>\n    </tr>\n    <tr>\n      <th>210825</th>\n      <td>2022-03-01</td>\n      <td>CLEMENTI</td>\n      <td>3 ROOM</td>\n      <td>208B</td>\n      <td>CLEMENTI AVE 6</td>\n      <td>19 TO 21</td>\n      <td>68.0</td>\n      <td>Model A</td>\n      <td>2017</td>\n      <td>575000.0</td>\n      <td>...</td>\n      <td>21</td>\n      <td>94 years 08 months</td>\n      <td>94</td>\n      <td>8</td>\n      <td>2022_03_208B_CLEMENTI_AVE_6_19_TO_21</td>\n      <td>2577.352859</td>\n      <td>8455.882353</td>\n      <td>27.418647</td>\n      <td>89.956195</td>\n      <td>208B CLEMENTI AVENUE 6</td>\n    </tr>\n    <tr>\n      <th>210826</th>\n      <td>2022-03-01</td>\n      <td>CLEMENTI</td>\n      <td>3 ROOM</td>\n      <td>320</td>\n      <td>CLEMENTI AVE 4</td>\n      <td>04 TO 06</td>\n      <td>67.0</td>\n      <td>New Generation</td>\n      <td>1979</td>\n      <td>380888.0</td>\n      <td>...</td>\n      <td>6</td>\n      <td>56 years 02 months</td>\n      <td>56</td>\n      <td>2</td>\n      <td>2022_03_320_CLEMENTI_AVE_4_04_TO_06</td>\n      <td>1732.756100</td>\n      <td>5684.895522</td>\n      <td>30.942073</td>\n      <td>101.515991</td>\n      <td>320 CLEMENTI AVENUE 4</td>\n    </tr>\n    <tr>\n      <th>210827</th>\n      <td>2022-03-01</td>\n      <td>CLEMENTI</td>\n      <td>3 ROOM</td>\n      <td>334</td>\n      <td>CLEMENTI AVE 2</td>\n      <td>07 TO 09</td>\n      <td>67.0</td>\n      <td>New Generation</td>\n      <td>1978</td>\n      <td>416000.0</td>\n      <td>...</td>\n      <td>9</td>\n      <td>55 years 05 months</td>\n      <td>55</td>\n      <td>5</td>\n      <td>2022_03_334_CLEMENTI_AVE_2_07_TO_09</td>\n      <td>1892.489492</td>\n      <td>6208.955224</td>\n      <td>34.408900</td>\n      <td>112.890095</td>\n      <td>334 CLEMENTI AVENUE 2</td>\n    </tr>\n    <tr>\n      <th>210828</th>\n      <td>2022-03-01</td>\n      <td>GEYLANG</td>\n      <td>3 ROOM</td>\n      <td>3</td>\n      <td>JOO CHIAT RD</td>\n      <td>10 TO 12</td>\n      <td>74.0</td>\n      <td>Model A</td>\n      <td>1985</td>\n      <td>470000.0</td>\n      <td>...</td>\n      <td>12</td>\n      <td>62 years 10 months</td>\n      <td>62</td>\n      <td>10</td>\n      <td>2022_03_3_JOO_CHIAT_RD_10_TO_12</td>\n      <td>1935.891830</td>\n      <td>6351.351351</td>\n      <td>31.224062</td>\n      <td>102.441151</td>\n      <td>3 JOO CHIAT ROAD</td>\n    </tr>\n    <tr>\n      <th>210829</th>\n      <td>2022-03-01</td>\n      <td>BUKIT PANJANG</td>\n      <td>4 ROOM</td>\n      <td>149</td>\n      <td>PETIR RD</td>\n      <td>01 TO 03</td>\n      <td>103.0</td>\n      <td>Model A</td>\n      <td>1988</td>\n      <td>420000.0</td>\n      <td>...</td>\n      <td>3</td>\n      <td>65 years 08 months</td>\n      <td>65</td>\n      <td>8</td>\n      <td>2022_03_149_PETIR_RD_01_TO_03</td>\n      <td>1242.873747</td>\n      <td>4077.669903</td>\n      <td>19.121135</td>\n      <td>62.733383</td>\n      <td>149 PETIR ROAD</td>\n    </tr>\n  </tbody>\n</table>\n<p>1524524 rows × 22 columns</p>\n</div>"
     },
     "execution_count": 10,
     "metadata": {},
     "output_type": "execute_result"
    }
   ],
   "source": [
    "rs_df = update_street_abbreviations(rs_df)\n",
    "rs_df"
   ],
   "metadata": {
    "collapsed": false,
    "pycharm": {
     "name": "#%%\n"
    }
   }
  },
  {
   "cell_type": "code",
   "execution_count": 11,
   "outputs": [],
   "source": [
    "def sort_cols(resale_df):\n",
    "    resale_df = resale_df[['id', 'month', 'block', 'town', 'street_name', 'address', 'storey_range', 'storey_range_min', 'storey_range_max',\n",
    "      'flat_model', 'flat_type', 'n_rooms', 'floor_area_sqm',\n",
    "       'lease_commence_date', 'remaining_lease', 'remaining_lease_years', 'remaining_lease_months',\n",
    "      'resale_price', 'price_per_sq_ft', 'price_per_sq_m', 'price_per_sq_ft_per_lease_yr', 'price_per_sq_m_per_lease_yr']].sort_values('month', ascending=True)\n",
    "\n",
    "    return resale_df"
   ],
   "metadata": {
    "collapsed": false,
    "pycharm": {
     "name": "#%%\n"
    }
   }
  },
  {
   "cell_type": "code",
   "execution_count": 12,
   "outputs": [
    {
     "data": {
      "text/plain": "                                           id      month block           town  \\\n0       1990_01_309_ANG_MO_KIO_AVE_1_10_TO_12 1990-01-01   309     ANG MO KIO   \n2004      1990_01_307_CLEMENTI_AVE_4_01_TO_03 1990-01-01   307       CLEMENTI   \n2005      1990_01_309_CLEMENTI_AVE_4_04_TO_06 1990-01-01   309       CLEMENTI   \n2006      1990_01_309_CLEMENTI_AVE_4_10_TO_12 1990-01-01   309       CLEMENTI   \n2007      1990_01_310_CLEMENTI_AVE_4_04_TO_06 1990-01-01   310       CLEMENTI   \n...                                       ...        ...   ...            ...   \n210529     2022_03_501B_YISHUN_ST_51_07_TO_09 2022-03-01  501B         YISHUN   \n210528      2022_03_820_YISHUN_ST_81_07_TO_09 2022-03-01   820         YISHUN   \n210527    2022_03_359_YISHUN_RING_RD_01_TO_03 2022-03-01   359         YISHUN   \n210538      2022_03_751_YISHUN_ST_72_04_TO_06 2022-03-01   751         YISHUN   \n210829          2022_03_149_PETIR_RD_01_TO_03 2022-03-01   149  BUKIT PANJANG   \n\n             street_name                  address storey_range  \\\n0       ANG MO KIO AVE 1  309 ANG MO KIO AVENUE 1     10 TO 12   \n2004      CLEMENTI AVE 4    307 CLEMENTI AVENUE 4     01 TO 03   \n2005      CLEMENTI AVE 4    309 CLEMENTI AVENUE 4     04 TO 06   \n2006      CLEMENTI AVE 4    309 CLEMENTI AVENUE 4     10 TO 12   \n2007      CLEMENTI AVE 4    310 CLEMENTI AVENUE 4     04 TO 06   \n...                  ...                      ...          ...   \n210529      YISHUN ST 51    501B YISHUN STREET 51     07 TO 09   \n210528      YISHUN ST 81     820 YISHUN STREET 81     07 TO 09   \n210527    YISHUN RING RD     359 YISHUN RING ROAD     01 TO 03   \n210538      YISHUN ST 72     751 YISHUN STREET 72     04 TO 06   \n210829          PETIR RD           149 PETIR ROAD     01 TO 03   \n\n        storey_range_min  storey_range_max      flat_model  ...  \\\n0                     10                12        IMPROVED  ...   \n2004                   1                 3  NEW GENERATION  ...   \n2005                   4                 6  NEW GENERATION  ...   \n2006                  10                12  NEW GENERATION  ...   \n2007                   4                 6  NEW GENERATION  ...   \n...                  ...               ...             ...  ...   \n210529                 7                 9        Improved  ...   \n210528                 7                 9        Improved  ...   \n210527                 1                 3       Apartment  ...   \n210538                 4                 6  New Generation  ...   \n210829                 1                 3         Model A  ...   \n\n       floor_area_sqm  lease_commence_date     remaining_lease  \\\n0                31.0                 1977                 NaN   \n2004             67.0                 1979                 NaN   \n2005             82.0                 1980                 NaN   \n2006             67.0                 1980                 NaN   \n2007             67.0                 1980                 NaN   \n...               ...                  ...                 ...   \n210529          112.0                 2018  94 years 11 months   \n210528          122.0                 1988  65 years 06 months   \n210527          145.0                 1988  65 years 05 months   \n210538           91.0                 1984  61 years 02 months   \n210829          103.0                 1988  65 years 08 months   \n\n        remaining_lease_years remaining_lease_months  resale_price  \\\n0                          86                   <NA>        9000.0   \n2004                       88                   <NA>       47000.0   \n2005                       89                   <NA>       57000.0   \n2006                       89                   <NA>       34000.0   \n2007                       89                   <NA>       47000.0   \n...                       ...                    ...           ...   \n210529                     95                     11      652000.0   \n210528                     65                      6      585000.0   \n210527                     65                      5      682000.0   \n210538                     61                      2      458000.0   \n210829                     65                      8      420000.0   \n\n        price_per_sq_ft  price_per_sq_m  price_per_sq_ft_per_lease_yr  \\\n0             88.490320      290.322581                      1.028957   \n2004         213.814919      701.492537                      2.429715   \n2005         211.873164      695.121951                      2.380597   \n2006         154.674622      507.462687                      1.737917   \n2007         213.814919      701.492537                      2.402415   \n...                 ...             ...                           ...   \n210529      1774.371372     5821.428571                     18.677593   \n210528      1461.540937     4795.081967                     22.485245   \n210527      1433.610989     4703.448276                     22.055554   \n210538      1534.048303     5032.967033                     25.148333   \n210829      1242.873747     4077.669903                     19.121135   \n\n        price_per_sq_m_per_lease_yr  \n0                          3.375844  \n2004                       7.971506  \n2005                       7.810359  \n2006                       5.701828  \n2007                       7.881939  \n...                             ...  \n210529                    61.278195  \n210528                    73.770492  \n210527                    72.360743  \n210538                    82.507656  \n210829                    62.733383  \n\n[1524524 rows x 22 columns]",
      "text/html": "<div>\n<style scoped>\n    .dataframe tbody tr th:only-of-type {\n        vertical-align: middle;\n    }\n\n    .dataframe tbody tr th {\n        vertical-align: top;\n    }\n\n    .dataframe thead th {\n        text-align: right;\n    }\n</style>\n<table border=\"1\" class=\"dataframe\">\n  <thead>\n    <tr style=\"text-align: right;\">\n      <th></th>\n      <th>id</th>\n      <th>month</th>\n      <th>block</th>\n      <th>town</th>\n      <th>street_name</th>\n      <th>address</th>\n      <th>storey_range</th>\n      <th>storey_range_min</th>\n      <th>storey_range_max</th>\n      <th>flat_model</th>\n      <th>...</th>\n      <th>floor_area_sqm</th>\n      <th>lease_commence_date</th>\n      <th>remaining_lease</th>\n      <th>remaining_lease_years</th>\n      <th>remaining_lease_months</th>\n      <th>resale_price</th>\n      <th>price_per_sq_ft</th>\n      <th>price_per_sq_m</th>\n      <th>price_per_sq_ft_per_lease_yr</th>\n      <th>price_per_sq_m_per_lease_yr</th>\n    </tr>\n  </thead>\n  <tbody>\n    <tr>\n      <th>0</th>\n      <td>1990_01_309_ANG_MO_KIO_AVE_1_10_TO_12</td>\n      <td>1990-01-01</td>\n      <td>309</td>\n      <td>ANG MO KIO</td>\n      <td>ANG MO KIO AVE 1</td>\n      <td>309 ANG MO KIO AVENUE 1</td>\n      <td>10 TO 12</td>\n      <td>10</td>\n      <td>12</td>\n      <td>IMPROVED</td>\n      <td>...</td>\n      <td>31.0</td>\n      <td>1977</td>\n      <td>NaN</td>\n      <td>86</td>\n      <td>&lt;NA&gt;</td>\n      <td>9000.0</td>\n      <td>88.490320</td>\n      <td>290.322581</td>\n      <td>1.028957</td>\n      <td>3.375844</td>\n    </tr>\n    <tr>\n      <th>2004</th>\n      <td>1990_01_307_CLEMENTI_AVE_4_01_TO_03</td>\n      <td>1990-01-01</td>\n      <td>307</td>\n      <td>CLEMENTI</td>\n      <td>CLEMENTI AVE 4</td>\n      <td>307 CLEMENTI AVENUE 4</td>\n      <td>01 TO 03</td>\n      <td>1</td>\n      <td>3</td>\n      <td>NEW GENERATION</td>\n      <td>...</td>\n      <td>67.0</td>\n      <td>1979</td>\n      <td>NaN</td>\n      <td>88</td>\n      <td>&lt;NA&gt;</td>\n      <td>47000.0</td>\n      <td>213.814919</td>\n      <td>701.492537</td>\n      <td>2.429715</td>\n      <td>7.971506</td>\n    </tr>\n    <tr>\n      <th>2005</th>\n      <td>1990_01_309_CLEMENTI_AVE_4_04_TO_06</td>\n      <td>1990-01-01</td>\n      <td>309</td>\n      <td>CLEMENTI</td>\n      <td>CLEMENTI AVE 4</td>\n      <td>309 CLEMENTI AVENUE 4</td>\n      <td>04 TO 06</td>\n      <td>4</td>\n      <td>6</td>\n      <td>NEW GENERATION</td>\n      <td>...</td>\n      <td>82.0</td>\n      <td>1980</td>\n      <td>NaN</td>\n      <td>89</td>\n      <td>&lt;NA&gt;</td>\n      <td>57000.0</td>\n      <td>211.873164</td>\n      <td>695.121951</td>\n      <td>2.380597</td>\n      <td>7.810359</td>\n    </tr>\n    <tr>\n      <th>2006</th>\n      <td>1990_01_309_CLEMENTI_AVE_4_10_TO_12</td>\n      <td>1990-01-01</td>\n      <td>309</td>\n      <td>CLEMENTI</td>\n      <td>CLEMENTI AVE 4</td>\n      <td>309 CLEMENTI AVENUE 4</td>\n      <td>10 TO 12</td>\n      <td>10</td>\n      <td>12</td>\n      <td>NEW GENERATION</td>\n      <td>...</td>\n      <td>67.0</td>\n      <td>1980</td>\n      <td>NaN</td>\n      <td>89</td>\n      <td>&lt;NA&gt;</td>\n      <td>34000.0</td>\n      <td>154.674622</td>\n      <td>507.462687</td>\n      <td>1.737917</td>\n      <td>5.701828</td>\n    </tr>\n    <tr>\n      <th>2007</th>\n      <td>1990_01_310_CLEMENTI_AVE_4_04_TO_06</td>\n      <td>1990-01-01</td>\n      <td>310</td>\n      <td>CLEMENTI</td>\n      <td>CLEMENTI AVE 4</td>\n      <td>310 CLEMENTI AVENUE 4</td>\n      <td>04 TO 06</td>\n      <td>4</td>\n      <td>6</td>\n      <td>NEW GENERATION</td>\n      <td>...</td>\n      <td>67.0</td>\n      <td>1980</td>\n      <td>NaN</td>\n      <td>89</td>\n      <td>&lt;NA&gt;</td>\n      <td>47000.0</td>\n      <td>213.814919</td>\n      <td>701.492537</td>\n      <td>2.402415</td>\n      <td>7.881939</td>\n    </tr>\n    <tr>\n      <th>...</th>\n      <td>...</td>\n      <td>...</td>\n      <td>...</td>\n      <td>...</td>\n      <td>...</td>\n      <td>...</td>\n      <td>...</td>\n      <td>...</td>\n      <td>...</td>\n      <td>...</td>\n      <td>...</td>\n      <td>...</td>\n      <td>...</td>\n      <td>...</td>\n      <td>...</td>\n      <td>...</td>\n      <td>...</td>\n      <td>...</td>\n      <td>...</td>\n      <td>...</td>\n      <td>...</td>\n    </tr>\n    <tr>\n      <th>210529</th>\n      <td>2022_03_501B_YISHUN_ST_51_07_TO_09</td>\n      <td>2022-03-01</td>\n      <td>501B</td>\n      <td>YISHUN</td>\n      <td>YISHUN ST 51</td>\n      <td>501B YISHUN STREET 51</td>\n      <td>07 TO 09</td>\n      <td>7</td>\n      <td>9</td>\n      <td>Improved</td>\n      <td>...</td>\n      <td>112.0</td>\n      <td>2018</td>\n      <td>94 years 11 months</td>\n      <td>95</td>\n      <td>11</td>\n      <td>652000.0</td>\n      <td>1774.371372</td>\n      <td>5821.428571</td>\n      <td>18.677593</td>\n      <td>61.278195</td>\n    </tr>\n    <tr>\n      <th>210528</th>\n      <td>2022_03_820_YISHUN_ST_81_07_TO_09</td>\n      <td>2022-03-01</td>\n      <td>820</td>\n      <td>YISHUN</td>\n      <td>YISHUN ST 81</td>\n      <td>820 YISHUN STREET 81</td>\n      <td>07 TO 09</td>\n      <td>7</td>\n      <td>9</td>\n      <td>Improved</td>\n      <td>...</td>\n      <td>122.0</td>\n      <td>1988</td>\n      <td>65 years 06 months</td>\n      <td>65</td>\n      <td>6</td>\n      <td>585000.0</td>\n      <td>1461.540937</td>\n      <td>4795.081967</td>\n      <td>22.485245</td>\n      <td>73.770492</td>\n    </tr>\n    <tr>\n      <th>210527</th>\n      <td>2022_03_359_YISHUN_RING_RD_01_TO_03</td>\n      <td>2022-03-01</td>\n      <td>359</td>\n      <td>YISHUN</td>\n      <td>YISHUN RING RD</td>\n      <td>359 YISHUN RING ROAD</td>\n      <td>01 TO 03</td>\n      <td>1</td>\n      <td>3</td>\n      <td>Apartment</td>\n      <td>...</td>\n      <td>145.0</td>\n      <td>1988</td>\n      <td>65 years 05 months</td>\n      <td>65</td>\n      <td>5</td>\n      <td>682000.0</td>\n      <td>1433.610989</td>\n      <td>4703.448276</td>\n      <td>22.055554</td>\n      <td>72.360743</td>\n    </tr>\n    <tr>\n      <th>210538</th>\n      <td>2022_03_751_YISHUN_ST_72_04_TO_06</td>\n      <td>2022-03-01</td>\n      <td>751</td>\n      <td>YISHUN</td>\n      <td>YISHUN ST 72</td>\n      <td>751 YISHUN STREET 72</td>\n      <td>04 TO 06</td>\n      <td>4</td>\n      <td>6</td>\n      <td>New Generation</td>\n      <td>...</td>\n      <td>91.0</td>\n      <td>1984</td>\n      <td>61 years 02 months</td>\n      <td>61</td>\n      <td>2</td>\n      <td>458000.0</td>\n      <td>1534.048303</td>\n      <td>5032.967033</td>\n      <td>25.148333</td>\n      <td>82.507656</td>\n    </tr>\n    <tr>\n      <th>210829</th>\n      <td>2022_03_149_PETIR_RD_01_TO_03</td>\n      <td>2022-03-01</td>\n      <td>149</td>\n      <td>BUKIT PANJANG</td>\n      <td>PETIR RD</td>\n      <td>149 PETIR ROAD</td>\n      <td>01 TO 03</td>\n      <td>1</td>\n      <td>3</td>\n      <td>Model A</td>\n      <td>...</td>\n      <td>103.0</td>\n      <td>1988</td>\n      <td>65 years 08 months</td>\n      <td>65</td>\n      <td>8</td>\n      <td>420000.0</td>\n      <td>1242.873747</td>\n      <td>4077.669903</td>\n      <td>19.121135</td>\n      <td>62.733383</td>\n    </tr>\n  </tbody>\n</table>\n<p>1524524 rows × 22 columns</p>\n</div>"
     },
     "execution_count": 12,
     "metadata": {},
     "output_type": "execute_result"
    }
   ],
   "source": [
    "rs_df = sort_cols(rs_df)\n",
    "rs_df"
   ],
   "metadata": {
    "collapsed": false,
    "pycharm": {
     "name": "#%%\n"
    }
   }
  },
  {
   "cell_type": "code",
   "execution_count": 78,
   "outputs": [
    {
     "data": {
      "text/plain": "month                           datetime64[ns]\nblock                                   object\ntown                                    object\nstreet_name                             object\naddress                                 object\nstorey_range                            object\nstorey_range_min                         int64\nstorey_range_max                         int64\nflat_model                              object\nflat_type                               object\nn_rooms                                  Int64\nfloor_area_sqm                         float64\nlease_commence_date                      int64\nremaining_lease                         object\nremaining_lease_years                    int64\nremaining_lease_months                   Int64\nresale_price                           float64\nprice_per_sq_ft                        float64\nprice_per_sq_m                         float64\nprice_per_sq_ft_per_lease_yr           float64\nprice_per_sq_m_per_lease_yr            float64\ndtype: object"
     },
     "execution_count": 78,
     "metadata": {},
     "output_type": "execute_result"
    }
   ],
   "source": [
    "rs_df.dtypes"
   ],
   "metadata": {
    "collapsed": false,
    "pycharm": {
     "name": "#%%\n"
    }
   }
  },
  {
   "cell_type": "code",
   "execution_count": 13,
   "outputs": [
    {
     "data": {
      "text/plain": "Empty DataFrame\nColumns: [id, month, block, town, street_name, address, storey_range, storey_range_min, storey_range_max, flat_model, flat_type, n_rooms, floor_area_sqm, lease_commence_date, remaining_lease, remaining_lease_years, remaining_lease_months, resale_price, price_per_sq_ft, price_per_sq_m, price_per_sq_ft_per_lease_yr, price_per_sq_m_per_lease_yr]\nIndex: []\n\n[0 rows x 22 columns]",
      "text/html": "<div>\n<style scoped>\n    .dataframe tbody tr th:only-of-type {\n        vertical-align: middle;\n    }\n\n    .dataframe tbody tr th {\n        vertical-align: top;\n    }\n\n    .dataframe thead th {\n        text-align: right;\n    }\n</style>\n<table border=\"1\" class=\"dataframe\">\n  <thead>\n    <tr style=\"text-align: right;\">\n      <th></th>\n      <th>id</th>\n      <th>month</th>\n      <th>block</th>\n      <th>town</th>\n      <th>street_name</th>\n      <th>address</th>\n      <th>storey_range</th>\n      <th>storey_range_min</th>\n      <th>storey_range_max</th>\n      <th>flat_model</th>\n      <th>...</th>\n      <th>floor_area_sqm</th>\n      <th>lease_commence_date</th>\n      <th>remaining_lease</th>\n      <th>remaining_lease_years</th>\n      <th>remaining_lease_months</th>\n      <th>resale_price</th>\n      <th>price_per_sq_ft</th>\n      <th>price_per_sq_m</th>\n      <th>price_per_sq_ft_per_lease_yr</th>\n      <th>price_per_sq_m_per_lease_yr</th>\n    </tr>\n  </thead>\n  <tbody>\n  </tbody>\n</table>\n<p>0 rows × 22 columns</p>\n</div>"
     },
     "execution_count": 13,
     "metadata": {},
     "output_type": "execute_result"
    }
   ],
   "source": [
    "rs_df[rs_df['remaining_lease_years'].isnull() == True]"
   ],
   "metadata": {
    "collapsed": false,
    "pycharm": {
     "name": "#%%\n"
    }
   }
  },
  {
   "cell_type": "code",
   "execution_count": 97,
   "outputs": [],
   "source": [
    "# from sqlalchemy import create_engine\n",
    "#\n",
    "# engine = create_engine(f'postgresql+psycopg2://{Capstone_AWS_PG.username}:{Capstone_AWS_PG.password}@{Capstone_AWS_PG.host}/capstone', echo=False)\n",
    "#\n",
    "# sql_alc_cnxn = engine.connect()\n",
    "#\n",
    "# rs_df.to_sql('resale_prices', sql_alc_cnxn, if_exists='replace', index=False)\n",
    "#\n",
    "# sql_alc_cnxn.close()"
   ],
   "metadata": {
    "collapsed": false,
    "pycharm": {
     "name": "#%%\n"
    }
   }
  },
  {
   "cell_type": "code",
   "execution_count": 14,
   "outputs": [],
   "source": [
    "# Sending to pickle for now until I can confirm normalization method for prices is accurate\n",
    "rs_df.to_pickle('../data/resale-flat-prices/resale_prices.pkl')"
   ],
   "metadata": {
    "collapsed": false,
    "pycharm": {
     "name": "#%%\n"
    }
   }
  },
  {
   "cell_type": "markdown",
   "source": [
    "# Resale Prices Load from Pickle"
   ],
   "metadata": {
    "collapsed": false,
    "pycharm": {
     "name": "#%% md\n"
    }
   }
  },
  {
   "cell_type": "code",
   "execution_count": 2,
   "outputs": [],
   "source": [
    "import pandas as pd\n",
    "from sqlalchemy import create_engine\n",
    "from MyCreds.mycreds import Capstone_AWS_PG"
   ],
   "metadata": {
    "collapsed": false,
    "pycharm": {
     "name": "#%%\n"
    }
   }
  },
  {
   "cell_type": "code",
   "execution_count": 3,
   "outputs": [
    {
     "data": {
      "text/plain": "                                           id      month block           town  \\\n0       1990_01_309_ANG_MO_KIO_AVE_1_10_TO_12 1990-01-01   309     ANG MO KIO   \n2004      1990_01_307_CLEMENTI_AVE_4_01_TO_03 1990-01-01   307       CLEMENTI   \n2005      1990_01_309_CLEMENTI_AVE_4_04_TO_06 1990-01-01   309       CLEMENTI   \n2006      1990_01_309_CLEMENTI_AVE_4_10_TO_12 1990-01-01   309       CLEMENTI   \n2007      1990_01_310_CLEMENTI_AVE_4_04_TO_06 1990-01-01   310       CLEMENTI   \n...                                       ...        ...   ...            ...   \n210529     2022_03_501B_YISHUN_ST_51_07_TO_09 2022-03-01  501B         YISHUN   \n210528      2022_03_820_YISHUN_ST_81_07_TO_09 2022-03-01   820         YISHUN   \n210527    2022_03_359_YISHUN_RING_RD_01_TO_03 2022-03-01   359         YISHUN   \n210538      2022_03_751_YISHUN_ST_72_04_TO_06 2022-03-01   751         YISHUN   \n210829          2022_03_149_PETIR_RD_01_TO_03 2022-03-01   149  BUKIT PANJANG   \n\n             street_name                  address storey_range  \\\n0       ANG MO KIO AVE 1  309 ANG MO KIO AVENUE 1     10 TO 12   \n2004      CLEMENTI AVE 4    307 CLEMENTI AVENUE 4     01 TO 03   \n2005      CLEMENTI AVE 4    309 CLEMENTI AVENUE 4     04 TO 06   \n2006      CLEMENTI AVE 4    309 CLEMENTI AVENUE 4     10 TO 12   \n2007      CLEMENTI AVE 4    310 CLEMENTI AVENUE 4     04 TO 06   \n...                  ...                      ...          ...   \n210529      YISHUN ST 51    501B YISHUN STREET 51     07 TO 09   \n210528      YISHUN ST 81     820 YISHUN STREET 81     07 TO 09   \n210527    YISHUN RING RD     359 YISHUN RING ROAD     01 TO 03   \n210538      YISHUN ST 72     751 YISHUN STREET 72     04 TO 06   \n210829          PETIR RD           149 PETIR ROAD     01 TO 03   \n\n        storey_range_min  storey_range_max      flat_model  ...  \\\n0                     10                12        IMPROVED  ...   \n2004                   1                 3  NEW GENERATION  ...   \n2005                   4                 6  NEW GENERATION  ...   \n2006                  10                12  NEW GENERATION  ...   \n2007                   4                 6  NEW GENERATION  ...   \n...                  ...               ...             ...  ...   \n210529                 7                 9        Improved  ...   \n210528                 7                 9        Improved  ...   \n210527                 1                 3       Apartment  ...   \n210538                 4                 6  New Generation  ...   \n210829                 1                 3         Model A  ...   \n\n       floor_area_sqm  lease_commence_date     remaining_lease  \\\n0                31.0                 1977                 NaN   \n2004             67.0                 1979                 NaN   \n2005             82.0                 1980                 NaN   \n2006             67.0                 1980                 NaN   \n2007             67.0                 1980                 NaN   \n...               ...                  ...                 ...   \n210529          112.0                 2018  94 years 11 months   \n210528          122.0                 1988  65 years 06 months   \n210527          145.0                 1988  65 years 05 months   \n210538           91.0                 1984  61 years 02 months   \n210829          103.0                 1988  65 years 08 months   \n\n        remaining_lease_years remaining_lease_months  resale_price  \\\n0                          86                   <NA>        9000.0   \n2004                       88                   <NA>       47000.0   \n2005                       89                   <NA>       57000.0   \n2006                       89                   <NA>       34000.0   \n2007                       89                   <NA>       47000.0   \n...                       ...                    ...           ...   \n210529                     95                     11      652000.0   \n210528                     65                      6      585000.0   \n210527                     65                      5      682000.0   \n210538                     61                      2      458000.0   \n210829                     65                      8      420000.0   \n\n        price_per_sq_ft  price_per_sq_m  price_per_sq_ft_per_lease_yr  \\\n0             88.490320      290.322581                      1.028957   \n2004         213.814919      701.492537                      2.429715   \n2005         211.873164      695.121951                      2.380597   \n2006         154.674622      507.462687                      1.737917   \n2007         213.814919      701.492537                      2.402415   \n...                 ...             ...                           ...   \n210529      1774.371372     5821.428571                     18.677593   \n210528      1461.540937     4795.081967                     22.485245   \n210527      1433.610989     4703.448276                     22.055554   \n210538      1534.048303     5032.967033                     25.148333   \n210829      1242.873747     4077.669903                     19.121135   \n\n        price_per_sq_m_per_lease_yr  \n0                          3.375844  \n2004                       7.971506  \n2005                       7.810359  \n2006                       5.701828  \n2007                       7.881939  \n...                             ...  \n210529                    61.278195  \n210528                    73.770492  \n210527                    72.360743  \n210538                    82.507656  \n210829                    62.733383  \n\n[1524524 rows x 22 columns]",
      "text/html": "<div>\n<style scoped>\n    .dataframe tbody tr th:only-of-type {\n        vertical-align: middle;\n    }\n\n    .dataframe tbody tr th {\n        vertical-align: top;\n    }\n\n    .dataframe thead th {\n        text-align: right;\n    }\n</style>\n<table border=\"1\" class=\"dataframe\">\n  <thead>\n    <tr style=\"text-align: right;\">\n      <th></th>\n      <th>id</th>\n      <th>month</th>\n      <th>block</th>\n      <th>town</th>\n      <th>street_name</th>\n      <th>address</th>\n      <th>storey_range</th>\n      <th>storey_range_min</th>\n      <th>storey_range_max</th>\n      <th>flat_model</th>\n      <th>...</th>\n      <th>floor_area_sqm</th>\n      <th>lease_commence_date</th>\n      <th>remaining_lease</th>\n      <th>remaining_lease_years</th>\n      <th>remaining_lease_months</th>\n      <th>resale_price</th>\n      <th>price_per_sq_ft</th>\n      <th>price_per_sq_m</th>\n      <th>price_per_sq_ft_per_lease_yr</th>\n      <th>price_per_sq_m_per_lease_yr</th>\n    </tr>\n  </thead>\n  <tbody>\n    <tr>\n      <th>0</th>\n      <td>1990_01_309_ANG_MO_KIO_AVE_1_10_TO_12</td>\n      <td>1990-01-01</td>\n      <td>309</td>\n      <td>ANG MO KIO</td>\n      <td>ANG MO KIO AVE 1</td>\n      <td>309 ANG MO KIO AVENUE 1</td>\n      <td>10 TO 12</td>\n      <td>10</td>\n      <td>12</td>\n      <td>IMPROVED</td>\n      <td>...</td>\n      <td>31.0</td>\n      <td>1977</td>\n      <td>NaN</td>\n      <td>86</td>\n      <td>&lt;NA&gt;</td>\n      <td>9000.0</td>\n      <td>88.490320</td>\n      <td>290.322581</td>\n      <td>1.028957</td>\n      <td>3.375844</td>\n    </tr>\n    <tr>\n      <th>2004</th>\n      <td>1990_01_307_CLEMENTI_AVE_4_01_TO_03</td>\n      <td>1990-01-01</td>\n      <td>307</td>\n      <td>CLEMENTI</td>\n      <td>CLEMENTI AVE 4</td>\n      <td>307 CLEMENTI AVENUE 4</td>\n      <td>01 TO 03</td>\n      <td>1</td>\n      <td>3</td>\n      <td>NEW GENERATION</td>\n      <td>...</td>\n      <td>67.0</td>\n      <td>1979</td>\n      <td>NaN</td>\n      <td>88</td>\n      <td>&lt;NA&gt;</td>\n      <td>47000.0</td>\n      <td>213.814919</td>\n      <td>701.492537</td>\n      <td>2.429715</td>\n      <td>7.971506</td>\n    </tr>\n    <tr>\n      <th>2005</th>\n      <td>1990_01_309_CLEMENTI_AVE_4_04_TO_06</td>\n      <td>1990-01-01</td>\n      <td>309</td>\n      <td>CLEMENTI</td>\n      <td>CLEMENTI AVE 4</td>\n      <td>309 CLEMENTI AVENUE 4</td>\n      <td>04 TO 06</td>\n      <td>4</td>\n      <td>6</td>\n      <td>NEW GENERATION</td>\n      <td>...</td>\n      <td>82.0</td>\n      <td>1980</td>\n      <td>NaN</td>\n      <td>89</td>\n      <td>&lt;NA&gt;</td>\n      <td>57000.0</td>\n      <td>211.873164</td>\n      <td>695.121951</td>\n      <td>2.380597</td>\n      <td>7.810359</td>\n    </tr>\n    <tr>\n      <th>2006</th>\n      <td>1990_01_309_CLEMENTI_AVE_4_10_TO_12</td>\n      <td>1990-01-01</td>\n      <td>309</td>\n      <td>CLEMENTI</td>\n      <td>CLEMENTI AVE 4</td>\n      <td>309 CLEMENTI AVENUE 4</td>\n      <td>10 TO 12</td>\n      <td>10</td>\n      <td>12</td>\n      <td>NEW GENERATION</td>\n      <td>...</td>\n      <td>67.0</td>\n      <td>1980</td>\n      <td>NaN</td>\n      <td>89</td>\n      <td>&lt;NA&gt;</td>\n      <td>34000.0</td>\n      <td>154.674622</td>\n      <td>507.462687</td>\n      <td>1.737917</td>\n      <td>5.701828</td>\n    </tr>\n    <tr>\n      <th>2007</th>\n      <td>1990_01_310_CLEMENTI_AVE_4_04_TO_06</td>\n      <td>1990-01-01</td>\n      <td>310</td>\n      <td>CLEMENTI</td>\n      <td>CLEMENTI AVE 4</td>\n      <td>310 CLEMENTI AVENUE 4</td>\n      <td>04 TO 06</td>\n      <td>4</td>\n      <td>6</td>\n      <td>NEW GENERATION</td>\n      <td>...</td>\n      <td>67.0</td>\n      <td>1980</td>\n      <td>NaN</td>\n      <td>89</td>\n      <td>&lt;NA&gt;</td>\n      <td>47000.0</td>\n      <td>213.814919</td>\n      <td>701.492537</td>\n      <td>2.402415</td>\n      <td>7.881939</td>\n    </tr>\n    <tr>\n      <th>...</th>\n      <td>...</td>\n      <td>...</td>\n      <td>...</td>\n      <td>...</td>\n      <td>...</td>\n      <td>...</td>\n      <td>...</td>\n      <td>...</td>\n      <td>...</td>\n      <td>...</td>\n      <td>...</td>\n      <td>...</td>\n      <td>...</td>\n      <td>...</td>\n      <td>...</td>\n      <td>...</td>\n      <td>...</td>\n      <td>...</td>\n      <td>...</td>\n      <td>...</td>\n      <td>...</td>\n    </tr>\n    <tr>\n      <th>210529</th>\n      <td>2022_03_501B_YISHUN_ST_51_07_TO_09</td>\n      <td>2022-03-01</td>\n      <td>501B</td>\n      <td>YISHUN</td>\n      <td>YISHUN ST 51</td>\n      <td>501B YISHUN STREET 51</td>\n      <td>07 TO 09</td>\n      <td>7</td>\n      <td>9</td>\n      <td>Improved</td>\n      <td>...</td>\n      <td>112.0</td>\n      <td>2018</td>\n      <td>94 years 11 months</td>\n      <td>95</td>\n      <td>11</td>\n      <td>652000.0</td>\n      <td>1774.371372</td>\n      <td>5821.428571</td>\n      <td>18.677593</td>\n      <td>61.278195</td>\n    </tr>\n    <tr>\n      <th>210528</th>\n      <td>2022_03_820_YISHUN_ST_81_07_TO_09</td>\n      <td>2022-03-01</td>\n      <td>820</td>\n      <td>YISHUN</td>\n      <td>YISHUN ST 81</td>\n      <td>820 YISHUN STREET 81</td>\n      <td>07 TO 09</td>\n      <td>7</td>\n      <td>9</td>\n      <td>Improved</td>\n      <td>...</td>\n      <td>122.0</td>\n      <td>1988</td>\n      <td>65 years 06 months</td>\n      <td>65</td>\n      <td>6</td>\n      <td>585000.0</td>\n      <td>1461.540937</td>\n      <td>4795.081967</td>\n      <td>22.485245</td>\n      <td>73.770492</td>\n    </tr>\n    <tr>\n      <th>210527</th>\n      <td>2022_03_359_YISHUN_RING_RD_01_TO_03</td>\n      <td>2022-03-01</td>\n      <td>359</td>\n      <td>YISHUN</td>\n      <td>YISHUN RING RD</td>\n      <td>359 YISHUN RING ROAD</td>\n      <td>01 TO 03</td>\n      <td>1</td>\n      <td>3</td>\n      <td>Apartment</td>\n      <td>...</td>\n      <td>145.0</td>\n      <td>1988</td>\n      <td>65 years 05 months</td>\n      <td>65</td>\n      <td>5</td>\n      <td>682000.0</td>\n      <td>1433.610989</td>\n      <td>4703.448276</td>\n      <td>22.055554</td>\n      <td>72.360743</td>\n    </tr>\n    <tr>\n      <th>210538</th>\n      <td>2022_03_751_YISHUN_ST_72_04_TO_06</td>\n      <td>2022-03-01</td>\n      <td>751</td>\n      <td>YISHUN</td>\n      <td>YISHUN ST 72</td>\n      <td>751 YISHUN STREET 72</td>\n      <td>04 TO 06</td>\n      <td>4</td>\n      <td>6</td>\n      <td>New Generation</td>\n      <td>...</td>\n      <td>91.0</td>\n      <td>1984</td>\n      <td>61 years 02 months</td>\n      <td>61</td>\n      <td>2</td>\n      <td>458000.0</td>\n      <td>1534.048303</td>\n      <td>5032.967033</td>\n      <td>25.148333</td>\n      <td>82.507656</td>\n    </tr>\n    <tr>\n      <th>210829</th>\n      <td>2022_03_149_PETIR_RD_01_TO_03</td>\n      <td>2022-03-01</td>\n      <td>149</td>\n      <td>BUKIT PANJANG</td>\n      <td>PETIR RD</td>\n      <td>149 PETIR ROAD</td>\n      <td>01 TO 03</td>\n      <td>1</td>\n      <td>3</td>\n      <td>Model A</td>\n      <td>...</td>\n      <td>103.0</td>\n      <td>1988</td>\n      <td>65 years 08 months</td>\n      <td>65</td>\n      <td>8</td>\n      <td>420000.0</td>\n      <td>1242.873747</td>\n      <td>4077.669903</td>\n      <td>19.121135</td>\n      <td>62.733383</td>\n    </tr>\n  </tbody>\n</table>\n<p>1524524 rows × 22 columns</p>\n</div>"
     },
     "execution_count": 3,
     "metadata": {},
     "output_type": "execute_result"
    }
   ],
   "source": [
    "rsp = pd.read_pickle('../data/resale-flat-prices/resale_prices.pkl')\n",
    "rsp"
   ],
   "metadata": {
    "collapsed": false,
    "pycharm": {
     "name": "#%%\n"
    }
   }
  },
  {
   "cell_type": "code",
   "execution_count": 22,
   "outputs": [
    {
     "data": {
      "text/plain": "Index(['id', 'month', 'block', 'town', 'street_name', 'address',\n       'storey_range', 'storey_range_min', 'storey_range_max', 'flat_model',\n       'flat_type', 'n_rooms', 'floor_area_sqm', 'lease_commence_date',\n       'remaining_lease', 'remaining_lease_years', 'remaining_lease_months',\n       'resale_price', 'price_per_sq_ft', 'price_per_sq_m',\n       'price_per_sq_ft_per_lease_yr', 'price_per_sq_m_per_lease_yr'],\n      dtype='object')"
     },
     "execution_count": 22,
     "metadata": {},
     "output_type": "execute_result"
    }
   ],
   "source": [
    "rsp.columns"
   ],
   "metadata": {
    "collapsed": false,
    "pycharm": {
     "name": "#%%\n"
    }
   }
  },
  {
   "cell_type": "markdown",
   "source": [
    "# Housing Index Prices"
   ],
   "metadata": {
    "collapsed": false,
    "pycharm": {
     "name": "#%% md\n"
    }
   }
  },
  {
   "cell_type": "code",
   "execution_count": 5,
   "outputs": [
    {
     "data": {
      "text/plain": "     quarter  index\n0    1990-Q1   24.3\n1    1990-Q2   24.4\n2    1990-Q3   25.0\n3    1990-Q4   24.7\n4    1991-Q1   24.9\n..       ...    ...\n122  2020-Q3  133.9\n123  2020-Q4  138.1\n124  2021-Q1  142.2\n125  2021-Q2  146.4\n126  2021-Q3  150.6\n\n[127 rows x 2 columns]",
      "text/html": "<div>\n<style scoped>\n    .dataframe tbody tr th:only-of-type {\n        vertical-align: middle;\n    }\n\n    .dataframe tbody tr th {\n        vertical-align: top;\n    }\n\n    .dataframe thead th {\n        text-align: right;\n    }\n</style>\n<table border=\"1\" class=\"dataframe\">\n  <thead>\n    <tr style=\"text-align: right;\">\n      <th></th>\n      <th>quarter</th>\n      <th>index</th>\n    </tr>\n  </thead>\n  <tbody>\n    <tr>\n      <th>0</th>\n      <td>1990-Q1</td>\n      <td>24.3</td>\n    </tr>\n    <tr>\n      <th>1</th>\n      <td>1990-Q2</td>\n      <td>24.4</td>\n    </tr>\n    <tr>\n      <th>2</th>\n      <td>1990-Q3</td>\n      <td>25.0</td>\n    </tr>\n    <tr>\n      <th>3</th>\n      <td>1990-Q4</td>\n      <td>24.7</td>\n    </tr>\n    <tr>\n      <th>4</th>\n      <td>1991-Q1</td>\n      <td>24.9</td>\n    </tr>\n    <tr>\n      <th>...</th>\n      <td>...</td>\n      <td>...</td>\n    </tr>\n    <tr>\n      <th>122</th>\n      <td>2020-Q3</td>\n      <td>133.9</td>\n    </tr>\n    <tr>\n      <th>123</th>\n      <td>2020-Q4</td>\n      <td>138.1</td>\n    </tr>\n    <tr>\n      <th>124</th>\n      <td>2021-Q1</td>\n      <td>142.2</td>\n    </tr>\n    <tr>\n      <th>125</th>\n      <td>2021-Q2</td>\n      <td>146.4</td>\n    </tr>\n    <tr>\n      <th>126</th>\n      <td>2021-Q3</td>\n      <td>150.6</td>\n    </tr>\n  </tbody>\n</table>\n<p>127 rows × 2 columns</p>\n</div>"
     },
     "execution_count": 5,
     "metadata": {},
     "output_type": "execute_result"
    }
   ],
   "source": [
    "engine = create_engine(f'postgresql+psycopg2://{Capstone_AWS_PG.username}:{Capstone_AWS_PG.password}@{Capstone_AWS_PG.host}/capstone', echo=False)\n",
    "\n",
    "sql_alc_cnxn = engine.connect()\n",
    "\n",
    "# Switch depending on which table you want to read.\n",
    "# sql_query = 'select * from resale_price_based_on_registration_date;'\n",
    "sql_query = 'select * from resale_price_index;'\n",
    "\n",
    "hpi = pd.read_sql(sql_query, sql_alc_cnxn)\n",
    "hpi"
   ],
   "metadata": {
    "collapsed": false,
    "pycharm": {
     "name": "#%%\n"
    }
   }
  },
  {
   "cell_type": "code",
   "execution_count": 6,
   "outputs": [
    {
     "data": {
      "text/plain": "     quarter  index  year  q_num\n0    1990-Q1   24.3  1990      1\n1    1990-Q2   24.4  1990      2\n2    1990-Q3   25.0  1990      3\n3    1990-Q4   24.7  1990      4\n4    1991-Q1   24.9  1991      1\n..       ...    ...   ...    ...\n122  2020-Q3  133.9  2020      3\n123  2020-Q4  138.1  2020      4\n124  2021-Q1  142.2  2021      1\n125  2021-Q2  146.4  2021      2\n126  2021-Q3  150.6  2021      3\n\n[127 rows x 4 columns]",
      "text/html": "<div>\n<style scoped>\n    .dataframe tbody tr th:only-of-type {\n        vertical-align: middle;\n    }\n\n    .dataframe tbody tr th {\n        vertical-align: top;\n    }\n\n    .dataframe thead th {\n        text-align: right;\n    }\n</style>\n<table border=\"1\" class=\"dataframe\">\n  <thead>\n    <tr style=\"text-align: right;\">\n      <th></th>\n      <th>quarter</th>\n      <th>index</th>\n      <th>year</th>\n      <th>q_num</th>\n    </tr>\n  </thead>\n  <tbody>\n    <tr>\n      <th>0</th>\n      <td>1990-Q1</td>\n      <td>24.3</td>\n      <td>1990</td>\n      <td>1</td>\n    </tr>\n    <tr>\n      <th>1</th>\n      <td>1990-Q2</td>\n      <td>24.4</td>\n      <td>1990</td>\n      <td>2</td>\n    </tr>\n    <tr>\n      <th>2</th>\n      <td>1990-Q3</td>\n      <td>25.0</td>\n      <td>1990</td>\n      <td>3</td>\n    </tr>\n    <tr>\n      <th>3</th>\n      <td>1990-Q4</td>\n      <td>24.7</td>\n      <td>1990</td>\n      <td>4</td>\n    </tr>\n    <tr>\n      <th>4</th>\n      <td>1991-Q1</td>\n      <td>24.9</td>\n      <td>1991</td>\n      <td>1</td>\n    </tr>\n    <tr>\n      <th>...</th>\n      <td>...</td>\n      <td>...</td>\n      <td>...</td>\n      <td>...</td>\n    </tr>\n    <tr>\n      <th>122</th>\n      <td>2020-Q3</td>\n      <td>133.9</td>\n      <td>2020</td>\n      <td>3</td>\n    </tr>\n    <tr>\n      <th>123</th>\n      <td>2020-Q4</td>\n      <td>138.1</td>\n      <td>2020</td>\n      <td>4</td>\n    </tr>\n    <tr>\n      <th>124</th>\n      <td>2021-Q1</td>\n      <td>142.2</td>\n      <td>2021</td>\n      <td>1</td>\n    </tr>\n    <tr>\n      <th>125</th>\n      <td>2021-Q2</td>\n      <td>146.4</td>\n      <td>2021</td>\n      <td>2</td>\n    </tr>\n    <tr>\n      <th>126</th>\n      <td>2021-Q3</td>\n      <td>150.6</td>\n      <td>2021</td>\n      <td>3</td>\n    </tr>\n  </tbody>\n</table>\n<p>127 rows × 4 columns</p>\n</div>"
     },
     "execution_count": 6,
     "metadata": {},
     "output_type": "execute_result"
    }
   ],
   "source": [
    "hpi['year'] = hpi['quarter'].str[:4].astype(int)\n",
    "hpi['q_num'] = hpi['quarter'].str[-1].astype(int)\n",
    "hpi"
   ],
   "metadata": {
    "collapsed": false,
    "pycharm": {
     "name": "#%%\n"
    }
   }
  },
  {
   "cell_type": "markdown",
   "source": [
    "# Merge Price Index on Resale Prices"
   ],
   "metadata": {
    "collapsed": false,
    "pycharm": {
     "name": "#%% md\n"
    }
   }
  },
  {
   "cell_type": "code",
   "execution_count": 9,
   "outputs": [
    {
     "data": {
      "text/plain": "                                           id      month block           town  \\\n0       1990_01_309_ANG_MO_KIO_AVE_1_10_TO_12 1990-01-01   309     ANG MO KIO   \n2004      1990_01_307_CLEMENTI_AVE_4_01_TO_03 1990-01-01   307       CLEMENTI   \n2005      1990_01_309_CLEMENTI_AVE_4_04_TO_06 1990-01-01   309       CLEMENTI   \n2006      1990_01_309_CLEMENTI_AVE_4_10_TO_12 1990-01-01   309       CLEMENTI   \n2007      1990_01_310_CLEMENTI_AVE_4_04_TO_06 1990-01-01   310       CLEMENTI   \n...                                       ...        ...   ...            ...   \n210529     2022_03_501B_YISHUN_ST_51_07_TO_09 2022-03-01  501B         YISHUN   \n210528      2022_03_820_YISHUN_ST_81_07_TO_09 2022-03-01   820         YISHUN   \n210527    2022_03_359_YISHUN_RING_RD_01_TO_03 2022-03-01   359         YISHUN   \n210538      2022_03_751_YISHUN_ST_72_04_TO_06 2022-03-01   751         YISHUN   \n210829          2022_03_149_PETIR_RD_01_TO_03 2022-03-01   149  BUKIT PANJANG   \n\n             street_name                  address storey_range  \\\n0       ANG MO KIO AVE 1  309 ANG MO KIO AVENUE 1     10 TO 12   \n2004      CLEMENTI AVE 4    307 CLEMENTI AVENUE 4     01 TO 03   \n2005      CLEMENTI AVE 4    309 CLEMENTI AVENUE 4     04 TO 06   \n2006      CLEMENTI AVE 4    309 CLEMENTI AVENUE 4     10 TO 12   \n2007      CLEMENTI AVE 4    310 CLEMENTI AVENUE 4     04 TO 06   \n...                  ...                      ...          ...   \n210529      YISHUN ST 51    501B YISHUN STREET 51     07 TO 09   \n210528      YISHUN ST 81     820 YISHUN STREET 81     07 TO 09   \n210527    YISHUN RING RD     359 YISHUN RING ROAD     01 TO 03   \n210538      YISHUN ST 72     751 YISHUN STREET 72     04 TO 06   \n210829          PETIR RD           149 PETIR ROAD     01 TO 03   \n\n        storey_range_min  storey_range_max      flat_model  ...  \\\n0                     10                12        IMPROVED  ...   \n2004                   1                 3  NEW GENERATION  ...   \n2005                   4                 6  NEW GENERATION  ...   \n2006                  10                12  NEW GENERATION  ...   \n2007                   4                 6  NEW GENERATION  ...   \n...                  ...               ...             ...  ...   \n210529                 7                 9        Improved  ...   \n210528                 7                 9        Improved  ...   \n210527                 1                 3       Apartment  ...   \n210538                 4                 6  New Generation  ...   \n210829                 1                 3         Model A  ...   \n\n           remaining_lease  remaining_lease_years  remaining_lease_months  \\\n0                      NaN                     86                    <NA>   \n2004                   NaN                     88                    <NA>   \n2005                   NaN                     89                    <NA>   \n2006                   NaN                     89                    <NA>   \n2007                   NaN                     89                    <NA>   \n...                    ...                    ...                     ...   \n210529  94 years 11 months                     95                      11   \n210528  65 years 06 months                     65                       6   \n210527  65 years 05 months                     65                       5   \n210538  61 years 02 months                     61                       2   \n210829  65 years 08 months                     65                       8   \n\n        resale_price price_per_sq_ft  price_per_sq_m  \\\n0             9000.0       88.490320      290.322581   \n2004         47000.0      213.814919      701.492537   \n2005         57000.0      211.873164      695.121951   \n2006         34000.0      154.674622      507.462687   \n2007         47000.0      213.814919      701.492537   \n...              ...             ...             ...   \n210529      652000.0     1774.371372     5821.428571   \n210528      585000.0     1461.540937     4795.081967   \n210527      682000.0     1433.610989     4703.448276   \n210538      458000.0     1534.048303     5032.967033   \n210829      420000.0     1242.873747     4077.669903   \n\n        price_per_sq_ft_per_lease_yr  price_per_sq_m_per_lease_yr  q_num  year  \n0                           1.028957                     3.375844      1  1990  \n2004                        2.429715                     7.971506      1  1990  \n2005                        2.380597                     7.810359      1  1990  \n2006                        1.737917                     5.701828      1  1990  \n2007                        2.402415                     7.881939      1  1990  \n...                              ...                          ...    ...   ...  \n210529                     18.677593                    61.278195      1  2022  \n210528                     22.485245                    73.770492      1  2022  \n210527                     22.055554                    72.360743      1  2022  \n210538                     25.148333                    82.507656      1  2022  \n210829                     19.121135                    62.733383      1  2022  \n\n[1524524 rows x 24 columns]",
      "text/html": "<div>\n<style scoped>\n    .dataframe tbody tr th:only-of-type {\n        vertical-align: middle;\n    }\n\n    .dataframe tbody tr th {\n        vertical-align: top;\n    }\n\n    .dataframe thead th {\n        text-align: right;\n    }\n</style>\n<table border=\"1\" class=\"dataframe\">\n  <thead>\n    <tr style=\"text-align: right;\">\n      <th></th>\n      <th>id</th>\n      <th>month</th>\n      <th>block</th>\n      <th>town</th>\n      <th>street_name</th>\n      <th>address</th>\n      <th>storey_range</th>\n      <th>storey_range_min</th>\n      <th>storey_range_max</th>\n      <th>flat_model</th>\n      <th>...</th>\n      <th>remaining_lease</th>\n      <th>remaining_lease_years</th>\n      <th>remaining_lease_months</th>\n      <th>resale_price</th>\n      <th>price_per_sq_ft</th>\n      <th>price_per_sq_m</th>\n      <th>price_per_sq_ft_per_lease_yr</th>\n      <th>price_per_sq_m_per_lease_yr</th>\n      <th>q_num</th>\n      <th>year</th>\n    </tr>\n  </thead>\n  <tbody>\n    <tr>\n      <th>0</th>\n      <td>1990_01_309_ANG_MO_KIO_AVE_1_10_TO_12</td>\n      <td>1990-01-01</td>\n      <td>309</td>\n      <td>ANG MO KIO</td>\n      <td>ANG MO KIO AVE 1</td>\n      <td>309 ANG MO KIO AVENUE 1</td>\n      <td>10 TO 12</td>\n      <td>10</td>\n      <td>12</td>\n      <td>IMPROVED</td>\n      <td>...</td>\n      <td>NaN</td>\n      <td>86</td>\n      <td>&lt;NA&gt;</td>\n      <td>9000.0</td>\n      <td>88.490320</td>\n      <td>290.322581</td>\n      <td>1.028957</td>\n      <td>3.375844</td>\n      <td>1</td>\n      <td>1990</td>\n    </tr>\n    <tr>\n      <th>2004</th>\n      <td>1990_01_307_CLEMENTI_AVE_4_01_TO_03</td>\n      <td>1990-01-01</td>\n      <td>307</td>\n      <td>CLEMENTI</td>\n      <td>CLEMENTI AVE 4</td>\n      <td>307 CLEMENTI AVENUE 4</td>\n      <td>01 TO 03</td>\n      <td>1</td>\n      <td>3</td>\n      <td>NEW GENERATION</td>\n      <td>...</td>\n      <td>NaN</td>\n      <td>88</td>\n      <td>&lt;NA&gt;</td>\n      <td>47000.0</td>\n      <td>213.814919</td>\n      <td>701.492537</td>\n      <td>2.429715</td>\n      <td>7.971506</td>\n      <td>1</td>\n      <td>1990</td>\n    </tr>\n    <tr>\n      <th>2005</th>\n      <td>1990_01_309_CLEMENTI_AVE_4_04_TO_06</td>\n      <td>1990-01-01</td>\n      <td>309</td>\n      <td>CLEMENTI</td>\n      <td>CLEMENTI AVE 4</td>\n      <td>309 CLEMENTI AVENUE 4</td>\n      <td>04 TO 06</td>\n      <td>4</td>\n      <td>6</td>\n      <td>NEW GENERATION</td>\n      <td>...</td>\n      <td>NaN</td>\n      <td>89</td>\n      <td>&lt;NA&gt;</td>\n      <td>57000.0</td>\n      <td>211.873164</td>\n      <td>695.121951</td>\n      <td>2.380597</td>\n      <td>7.810359</td>\n      <td>1</td>\n      <td>1990</td>\n    </tr>\n    <tr>\n      <th>2006</th>\n      <td>1990_01_309_CLEMENTI_AVE_4_10_TO_12</td>\n      <td>1990-01-01</td>\n      <td>309</td>\n      <td>CLEMENTI</td>\n      <td>CLEMENTI AVE 4</td>\n      <td>309 CLEMENTI AVENUE 4</td>\n      <td>10 TO 12</td>\n      <td>10</td>\n      <td>12</td>\n      <td>NEW GENERATION</td>\n      <td>...</td>\n      <td>NaN</td>\n      <td>89</td>\n      <td>&lt;NA&gt;</td>\n      <td>34000.0</td>\n      <td>154.674622</td>\n      <td>507.462687</td>\n      <td>1.737917</td>\n      <td>5.701828</td>\n      <td>1</td>\n      <td>1990</td>\n    </tr>\n    <tr>\n      <th>2007</th>\n      <td>1990_01_310_CLEMENTI_AVE_4_04_TO_06</td>\n      <td>1990-01-01</td>\n      <td>310</td>\n      <td>CLEMENTI</td>\n      <td>CLEMENTI AVE 4</td>\n      <td>310 CLEMENTI AVENUE 4</td>\n      <td>04 TO 06</td>\n      <td>4</td>\n      <td>6</td>\n      <td>NEW GENERATION</td>\n      <td>...</td>\n      <td>NaN</td>\n      <td>89</td>\n      <td>&lt;NA&gt;</td>\n      <td>47000.0</td>\n      <td>213.814919</td>\n      <td>701.492537</td>\n      <td>2.402415</td>\n      <td>7.881939</td>\n      <td>1</td>\n      <td>1990</td>\n    </tr>\n    <tr>\n      <th>...</th>\n      <td>...</td>\n      <td>...</td>\n      <td>...</td>\n      <td>...</td>\n      <td>...</td>\n      <td>...</td>\n      <td>...</td>\n      <td>...</td>\n      <td>...</td>\n      <td>...</td>\n      <td>...</td>\n      <td>...</td>\n      <td>...</td>\n      <td>...</td>\n      <td>...</td>\n      <td>...</td>\n      <td>...</td>\n      <td>...</td>\n      <td>...</td>\n      <td>...</td>\n      <td>...</td>\n    </tr>\n    <tr>\n      <th>210529</th>\n      <td>2022_03_501B_YISHUN_ST_51_07_TO_09</td>\n      <td>2022-03-01</td>\n      <td>501B</td>\n      <td>YISHUN</td>\n      <td>YISHUN ST 51</td>\n      <td>501B YISHUN STREET 51</td>\n      <td>07 TO 09</td>\n      <td>7</td>\n      <td>9</td>\n      <td>Improved</td>\n      <td>...</td>\n      <td>94 years 11 months</td>\n      <td>95</td>\n      <td>11</td>\n      <td>652000.0</td>\n      <td>1774.371372</td>\n      <td>5821.428571</td>\n      <td>18.677593</td>\n      <td>61.278195</td>\n      <td>1</td>\n      <td>2022</td>\n    </tr>\n    <tr>\n      <th>210528</th>\n      <td>2022_03_820_YISHUN_ST_81_07_TO_09</td>\n      <td>2022-03-01</td>\n      <td>820</td>\n      <td>YISHUN</td>\n      <td>YISHUN ST 81</td>\n      <td>820 YISHUN STREET 81</td>\n      <td>07 TO 09</td>\n      <td>7</td>\n      <td>9</td>\n      <td>Improved</td>\n      <td>...</td>\n      <td>65 years 06 months</td>\n      <td>65</td>\n      <td>6</td>\n      <td>585000.0</td>\n      <td>1461.540937</td>\n      <td>4795.081967</td>\n      <td>22.485245</td>\n      <td>73.770492</td>\n      <td>1</td>\n      <td>2022</td>\n    </tr>\n    <tr>\n      <th>210527</th>\n      <td>2022_03_359_YISHUN_RING_RD_01_TO_03</td>\n      <td>2022-03-01</td>\n      <td>359</td>\n      <td>YISHUN</td>\n      <td>YISHUN RING RD</td>\n      <td>359 YISHUN RING ROAD</td>\n      <td>01 TO 03</td>\n      <td>1</td>\n      <td>3</td>\n      <td>Apartment</td>\n      <td>...</td>\n      <td>65 years 05 months</td>\n      <td>65</td>\n      <td>5</td>\n      <td>682000.0</td>\n      <td>1433.610989</td>\n      <td>4703.448276</td>\n      <td>22.055554</td>\n      <td>72.360743</td>\n      <td>1</td>\n      <td>2022</td>\n    </tr>\n    <tr>\n      <th>210538</th>\n      <td>2022_03_751_YISHUN_ST_72_04_TO_06</td>\n      <td>2022-03-01</td>\n      <td>751</td>\n      <td>YISHUN</td>\n      <td>YISHUN ST 72</td>\n      <td>751 YISHUN STREET 72</td>\n      <td>04 TO 06</td>\n      <td>4</td>\n      <td>6</td>\n      <td>New Generation</td>\n      <td>...</td>\n      <td>61 years 02 months</td>\n      <td>61</td>\n      <td>2</td>\n      <td>458000.0</td>\n      <td>1534.048303</td>\n      <td>5032.967033</td>\n      <td>25.148333</td>\n      <td>82.507656</td>\n      <td>1</td>\n      <td>2022</td>\n    </tr>\n    <tr>\n      <th>210829</th>\n      <td>2022_03_149_PETIR_RD_01_TO_03</td>\n      <td>2022-03-01</td>\n      <td>149</td>\n      <td>BUKIT PANJANG</td>\n      <td>PETIR RD</td>\n      <td>149 PETIR ROAD</td>\n      <td>01 TO 03</td>\n      <td>1</td>\n      <td>3</td>\n      <td>Model A</td>\n      <td>...</td>\n      <td>65 years 08 months</td>\n      <td>65</td>\n      <td>8</td>\n      <td>420000.0</td>\n      <td>1242.873747</td>\n      <td>4077.669903</td>\n      <td>19.121135</td>\n      <td>62.733383</td>\n      <td>1</td>\n      <td>2022</td>\n    </tr>\n  </tbody>\n</table>\n<p>1524524 rows × 24 columns</p>\n</div>"
     },
     "execution_count": 9,
     "metadata": {},
     "output_type": "execute_result"
    }
   ],
   "source": [
    "# rsp['q_num'] = rsp['month'].dt.quarter\n",
    "# rsp['year'] = rsp['month'].dt.year\n",
    "# rsp"
   ],
   "metadata": {
    "collapsed": false,
    "pycharm": {
     "name": "#%%\n"
    }
   }
  },
  {
   "cell_type": "code",
   "execution_count": 10,
   "outputs": [
    {
     "data": {
      "text/plain": "                                            id      month block        town  \\\n0        1990_01_309_ANG_MO_KIO_AVE_1_10_TO_12 1990-01-01   309  ANG MO KIO   \n1          1990_01_307_CLEMENTI_AVE_4_01_TO_03 1990-01-01   307    CLEMENTI   \n2          1990_01_309_CLEMENTI_AVE_4_04_TO_06 1990-01-01   309    CLEMENTI   \n3          1990_01_309_CLEMENTI_AVE_4_10_TO_12 1990-01-01   309    CLEMENTI   \n4          1990_01_310_CLEMENTI_AVE_4_04_TO_06 1990-01-01   310    CLEMENTI   \n...                                        ...        ...   ...         ...   \n1512236      2021_09_723_YISHUN_ST_71_10_TO_12 2021-09-01   723      YISHUN   \n1512237      2021_09_828_YISHUN_ST_81_07_TO_09 2021-09-01   828      YISHUN   \n1512238      2021_09_826_YISHUN_ST_81_07_TO_09 2021-09-01   826      YISHUN   \n1512239     2021_09_315B_YISHUN_AVE_9_04_TO_06 2021-09-01  315B      YISHUN   \n1512240      2021_09_841_YISHUN_ST_81_04_TO_06 2021-09-01   841      YISHUN   \n\n              street_name                  address storey_range  \\\n0        ANG MO KIO AVE 1  309 ANG MO KIO AVENUE 1     10 TO 12   \n1          CLEMENTI AVE 4    307 CLEMENTI AVENUE 4     01 TO 03   \n2          CLEMENTI AVE 4    309 CLEMENTI AVENUE 4     04 TO 06   \n3          CLEMENTI AVE 4    309 CLEMENTI AVENUE 4     10 TO 12   \n4          CLEMENTI AVE 4    310 CLEMENTI AVENUE 4     04 TO 06   \n...                   ...                      ...          ...   \n1512236      YISHUN ST 71     723 YISHUN STREET 71     10 TO 12   \n1512237      YISHUN ST 81     828 YISHUN STREET 81     07 TO 09   \n1512238      YISHUN ST 81     826 YISHUN STREET 81     07 TO 09   \n1512239      YISHUN AVE 9     315B YISHUN AVENUE 9     04 TO 06   \n1512240      YISHUN ST 81     841 YISHUN STREET 81     04 TO 06   \n\n         storey_range_min  storey_range_max      flat_model  ...  \\\n0                      10                12        IMPROVED  ...   \n1                       1                 3  NEW GENERATION  ...   \n2                       4                 6  NEW GENERATION  ...   \n3                      10                12  NEW GENERATION  ...   \n4                       4                 6  NEW GENERATION  ...   \n...                   ...               ...             ...  ...   \n1512236                10                12      Maisonette  ...   \n1512237                 7                 9       Apartment  ...   \n1512238                 7                 9      Maisonette  ...   \n1512239                 4                 6        Improved  ...   \n1512240                 4                 6        Improved  ...   \n\n        remaining_lease_years  remaining_lease_months  resale_price  \\\n0                          86                    <NA>        9000.0   \n1                          88                    <NA>       47000.0   \n2                          89                    <NA>       57000.0   \n3                          89                    <NA>       34000.0   \n4                          89                    <NA>       47000.0   \n...                       ...                     ...           ...   \n1512236                    63                       9      740000.0   \n1512237                    65                       5      732000.0   \n1512238                    65                       4      760000.0   \n1512239                    92                       1      558888.0   \n1512240                    65                       5      620000.0   \n\n         price_per_sq_ft price_per_sq_m  price_per_sq_ft_per_lease_yr  \\\n0              88.490320     290.322581                      1.028957   \n1             213.814919     701.492537                      2.429715   \n2             211.873164     695.121951                      2.380597   \n3             154.674622     507.462687                      1.737917   \n4             213.814919     701.492537                      2.402415   \n...                  ...            ...                           ...   \n1512236      1544.876663    5068.493151                     24.521852   \n1512237      1571.222485    5154.929577                     24.172654   \n1512238      1586.630086    5205.479452                     24.409694   \n1512239      1520.973723    4990.071429                     16.532323   \n1512240      1487.999952    4881.889764                     22.892307   \n\n         price_per_sq_m_per_lease_yr  q_num  year  index  \n0                           3.375844      1  1990   24.3  \n1                           7.971506      1  1990   24.3  \n2                           7.810359      1  1990   24.3  \n3                           5.701828      1  1990   24.3  \n4                           7.881939      1  1990   24.3  \n...                              ...    ...   ...    ...  \n1512236                    80.452272      3  2021  150.6  \n1512237                    79.306609      3  2021  150.6  \n1512238                    80.084299      3  2021  150.6  \n1512239                    54.239907      3  2021  150.6  \n1512240                    75.105996      3  2021  150.6  \n\n[1512241 rows x 25 columns]",
      "text/html": "<div>\n<style scoped>\n    .dataframe tbody tr th:only-of-type {\n        vertical-align: middle;\n    }\n\n    .dataframe tbody tr th {\n        vertical-align: top;\n    }\n\n    .dataframe thead th {\n        text-align: right;\n    }\n</style>\n<table border=\"1\" class=\"dataframe\">\n  <thead>\n    <tr style=\"text-align: right;\">\n      <th></th>\n      <th>id</th>\n      <th>month</th>\n      <th>block</th>\n      <th>town</th>\n      <th>street_name</th>\n      <th>address</th>\n      <th>storey_range</th>\n      <th>storey_range_min</th>\n      <th>storey_range_max</th>\n      <th>flat_model</th>\n      <th>...</th>\n      <th>remaining_lease_years</th>\n      <th>remaining_lease_months</th>\n      <th>resale_price</th>\n      <th>price_per_sq_ft</th>\n      <th>price_per_sq_m</th>\n      <th>price_per_sq_ft_per_lease_yr</th>\n      <th>price_per_sq_m_per_lease_yr</th>\n      <th>q_num</th>\n      <th>year</th>\n      <th>index</th>\n    </tr>\n  </thead>\n  <tbody>\n    <tr>\n      <th>0</th>\n      <td>1990_01_309_ANG_MO_KIO_AVE_1_10_TO_12</td>\n      <td>1990-01-01</td>\n      <td>309</td>\n      <td>ANG MO KIO</td>\n      <td>ANG MO KIO AVE 1</td>\n      <td>309 ANG MO KIO AVENUE 1</td>\n      <td>10 TO 12</td>\n      <td>10</td>\n      <td>12</td>\n      <td>IMPROVED</td>\n      <td>...</td>\n      <td>86</td>\n      <td>&lt;NA&gt;</td>\n      <td>9000.0</td>\n      <td>88.490320</td>\n      <td>290.322581</td>\n      <td>1.028957</td>\n      <td>3.375844</td>\n      <td>1</td>\n      <td>1990</td>\n      <td>24.3</td>\n    </tr>\n    <tr>\n      <th>1</th>\n      <td>1990_01_307_CLEMENTI_AVE_4_01_TO_03</td>\n      <td>1990-01-01</td>\n      <td>307</td>\n      <td>CLEMENTI</td>\n      <td>CLEMENTI AVE 4</td>\n      <td>307 CLEMENTI AVENUE 4</td>\n      <td>01 TO 03</td>\n      <td>1</td>\n      <td>3</td>\n      <td>NEW GENERATION</td>\n      <td>...</td>\n      <td>88</td>\n      <td>&lt;NA&gt;</td>\n      <td>47000.0</td>\n      <td>213.814919</td>\n      <td>701.492537</td>\n      <td>2.429715</td>\n      <td>7.971506</td>\n      <td>1</td>\n      <td>1990</td>\n      <td>24.3</td>\n    </tr>\n    <tr>\n      <th>2</th>\n      <td>1990_01_309_CLEMENTI_AVE_4_04_TO_06</td>\n      <td>1990-01-01</td>\n      <td>309</td>\n      <td>CLEMENTI</td>\n      <td>CLEMENTI AVE 4</td>\n      <td>309 CLEMENTI AVENUE 4</td>\n      <td>04 TO 06</td>\n      <td>4</td>\n      <td>6</td>\n      <td>NEW GENERATION</td>\n      <td>...</td>\n      <td>89</td>\n      <td>&lt;NA&gt;</td>\n      <td>57000.0</td>\n      <td>211.873164</td>\n      <td>695.121951</td>\n      <td>2.380597</td>\n      <td>7.810359</td>\n      <td>1</td>\n      <td>1990</td>\n      <td>24.3</td>\n    </tr>\n    <tr>\n      <th>3</th>\n      <td>1990_01_309_CLEMENTI_AVE_4_10_TO_12</td>\n      <td>1990-01-01</td>\n      <td>309</td>\n      <td>CLEMENTI</td>\n      <td>CLEMENTI AVE 4</td>\n      <td>309 CLEMENTI AVENUE 4</td>\n      <td>10 TO 12</td>\n      <td>10</td>\n      <td>12</td>\n      <td>NEW GENERATION</td>\n      <td>...</td>\n      <td>89</td>\n      <td>&lt;NA&gt;</td>\n      <td>34000.0</td>\n      <td>154.674622</td>\n      <td>507.462687</td>\n      <td>1.737917</td>\n      <td>5.701828</td>\n      <td>1</td>\n      <td>1990</td>\n      <td>24.3</td>\n    </tr>\n    <tr>\n      <th>4</th>\n      <td>1990_01_310_CLEMENTI_AVE_4_04_TO_06</td>\n      <td>1990-01-01</td>\n      <td>310</td>\n      <td>CLEMENTI</td>\n      <td>CLEMENTI AVE 4</td>\n      <td>310 CLEMENTI AVENUE 4</td>\n      <td>04 TO 06</td>\n      <td>4</td>\n      <td>6</td>\n      <td>NEW GENERATION</td>\n      <td>...</td>\n      <td>89</td>\n      <td>&lt;NA&gt;</td>\n      <td>47000.0</td>\n      <td>213.814919</td>\n      <td>701.492537</td>\n      <td>2.402415</td>\n      <td>7.881939</td>\n      <td>1</td>\n      <td>1990</td>\n      <td>24.3</td>\n    </tr>\n    <tr>\n      <th>...</th>\n      <td>...</td>\n      <td>...</td>\n      <td>...</td>\n      <td>...</td>\n      <td>...</td>\n      <td>...</td>\n      <td>...</td>\n      <td>...</td>\n      <td>...</td>\n      <td>...</td>\n      <td>...</td>\n      <td>...</td>\n      <td>...</td>\n      <td>...</td>\n      <td>...</td>\n      <td>...</td>\n      <td>...</td>\n      <td>...</td>\n      <td>...</td>\n      <td>...</td>\n      <td>...</td>\n    </tr>\n    <tr>\n      <th>1512236</th>\n      <td>2021_09_723_YISHUN_ST_71_10_TO_12</td>\n      <td>2021-09-01</td>\n      <td>723</td>\n      <td>YISHUN</td>\n      <td>YISHUN ST 71</td>\n      <td>723 YISHUN STREET 71</td>\n      <td>10 TO 12</td>\n      <td>10</td>\n      <td>12</td>\n      <td>Maisonette</td>\n      <td>...</td>\n      <td>63</td>\n      <td>9</td>\n      <td>740000.0</td>\n      <td>1544.876663</td>\n      <td>5068.493151</td>\n      <td>24.521852</td>\n      <td>80.452272</td>\n      <td>3</td>\n      <td>2021</td>\n      <td>150.6</td>\n    </tr>\n    <tr>\n      <th>1512237</th>\n      <td>2021_09_828_YISHUN_ST_81_07_TO_09</td>\n      <td>2021-09-01</td>\n      <td>828</td>\n      <td>YISHUN</td>\n      <td>YISHUN ST 81</td>\n      <td>828 YISHUN STREET 81</td>\n      <td>07 TO 09</td>\n      <td>7</td>\n      <td>9</td>\n      <td>Apartment</td>\n      <td>...</td>\n      <td>65</td>\n      <td>5</td>\n      <td>732000.0</td>\n      <td>1571.222485</td>\n      <td>5154.929577</td>\n      <td>24.172654</td>\n      <td>79.306609</td>\n      <td>3</td>\n      <td>2021</td>\n      <td>150.6</td>\n    </tr>\n    <tr>\n      <th>1512238</th>\n      <td>2021_09_826_YISHUN_ST_81_07_TO_09</td>\n      <td>2021-09-01</td>\n      <td>826</td>\n      <td>YISHUN</td>\n      <td>YISHUN ST 81</td>\n      <td>826 YISHUN STREET 81</td>\n      <td>07 TO 09</td>\n      <td>7</td>\n      <td>9</td>\n      <td>Maisonette</td>\n      <td>...</td>\n      <td>65</td>\n      <td>4</td>\n      <td>760000.0</td>\n      <td>1586.630086</td>\n      <td>5205.479452</td>\n      <td>24.409694</td>\n      <td>80.084299</td>\n      <td>3</td>\n      <td>2021</td>\n      <td>150.6</td>\n    </tr>\n    <tr>\n      <th>1512239</th>\n      <td>2021_09_315B_YISHUN_AVE_9_04_TO_06</td>\n      <td>2021-09-01</td>\n      <td>315B</td>\n      <td>YISHUN</td>\n      <td>YISHUN AVE 9</td>\n      <td>315B YISHUN AVENUE 9</td>\n      <td>04 TO 06</td>\n      <td>4</td>\n      <td>6</td>\n      <td>Improved</td>\n      <td>...</td>\n      <td>92</td>\n      <td>1</td>\n      <td>558888.0</td>\n      <td>1520.973723</td>\n      <td>4990.071429</td>\n      <td>16.532323</td>\n      <td>54.239907</td>\n      <td>3</td>\n      <td>2021</td>\n      <td>150.6</td>\n    </tr>\n    <tr>\n      <th>1512240</th>\n      <td>2021_09_841_YISHUN_ST_81_04_TO_06</td>\n      <td>2021-09-01</td>\n      <td>841</td>\n      <td>YISHUN</td>\n      <td>YISHUN ST 81</td>\n      <td>841 YISHUN STREET 81</td>\n      <td>04 TO 06</td>\n      <td>4</td>\n      <td>6</td>\n      <td>Improved</td>\n      <td>...</td>\n      <td>65</td>\n      <td>5</td>\n      <td>620000.0</td>\n      <td>1487.999952</td>\n      <td>4881.889764</td>\n      <td>22.892307</td>\n      <td>75.105996</td>\n      <td>3</td>\n      <td>2021</td>\n      <td>150.6</td>\n    </tr>\n  </tbody>\n</table>\n<p>1512241 rows × 25 columns</p>\n</div>"
     },
     "execution_count": 10,
     "metadata": {},
     "output_type": "execute_result"
    }
   ],
   "source": [
    "# rsp = rsp.merge(hpi[['q_num', 'year', 'index']], on=['year', 'q_num'])\n",
    "# rsp"
   ],
   "metadata": {
    "collapsed": false,
    "pycharm": {
     "name": "#%%\n"
    }
   }
  },
  {
   "cell_type": "code",
   "execution_count": 11,
   "outputs": [
    {
     "data": {
      "text/plain": "                                            id      month block        town  \\\n0        1990_01_309_ANG_MO_KIO_AVE_1_10_TO_12 1990-01-01   309  ANG MO KIO   \n1          1990_01_307_CLEMENTI_AVE_4_01_TO_03 1990-01-01   307    CLEMENTI   \n2          1990_01_309_CLEMENTI_AVE_4_04_TO_06 1990-01-01   309    CLEMENTI   \n3          1990_01_309_CLEMENTI_AVE_4_10_TO_12 1990-01-01   309    CLEMENTI   \n4          1990_01_310_CLEMENTI_AVE_4_04_TO_06 1990-01-01   310    CLEMENTI   \n...                                        ...        ...   ...         ...   \n1512236      2021_09_723_YISHUN_ST_71_10_TO_12 2021-09-01   723      YISHUN   \n1512237      2021_09_828_YISHUN_ST_81_07_TO_09 2021-09-01   828      YISHUN   \n1512238      2021_09_826_YISHUN_ST_81_07_TO_09 2021-09-01   826      YISHUN   \n1512239     2021_09_315B_YISHUN_AVE_9_04_TO_06 2021-09-01  315B      YISHUN   \n1512240      2021_09_841_YISHUN_ST_81_04_TO_06 2021-09-01   841      YISHUN   \n\n              street_name                  address storey_range  \\\n0        ANG MO KIO AVE 1  309 ANG MO KIO AVENUE 1     10 TO 12   \n1          CLEMENTI AVE 4    307 CLEMENTI AVENUE 4     01 TO 03   \n2          CLEMENTI AVE 4    309 CLEMENTI AVENUE 4     04 TO 06   \n3          CLEMENTI AVE 4    309 CLEMENTI AVENUE 4     10 TO 12   \n4          CLEMENTI AVE 4    310 CLEMENTI AVENUE 4     04 TO 06   \n...                   ...                      ...          ...   \n1512236      YISHUN ST 71     723 YISHUN STREET 71     10 TO 12   \n1512237      YISHUN ST 81     828 YISHUN STREET 81     07 TO 09   \n1512238      YISHUN ST 81     826 YISHUN STREET 81     07 TO 09   \n1512239      YISHUN AVE 9     315B YISHUN AVENUE 9     04 TO 06   \n1512240      YISHUN ST 81     841 YISHUN STREET 81     04 TO 06   \n\n         storey_range_min  storey_range_max      flat_model  ...  \\\n0                      10                12        IMPROVED  ...   \n1                       1                 3  NEW GENERATION  ...   \n2                       4                 6  NEW GENERATION  ...   \n3                      10                12  NEW GENERATION  ...   \n4                       4                 6  NEW GENERATION  ...   \n...                   ...               ...             ...  ...   \n1512236                10                12      Maisonette  ...   \n1512237                 7                 9       Apartment  ...   \n1512238                 7                 9      Maisonette  ...   \n1512239                 4                 6        Improved  ...   \n1512240                 4                 6        Improved  ...   \n\n        remaining_lease_months  resale_price  price_per_sq_ft  price_per_sq_m  \\\n0                         <NA>        9000.0        88.490320      290.322581   \n1                         <NA>       47000.0       213.814919      701.492537   \n2                         <NA>       57000.0       211.873164      695.121951   \n3                         <NA>       34000.0       154.674622      507.462687   \n4                         <NA>       47000.0       213.814919      701.492537   \n...                        ...           ...              ...             ...   \n1512236                      9      740000.0      1544.876663     5068.493151   \n1512237                      5      732000.0      1571.222485     5154.929577   \n1512238                      4      760000.0      1586.630086     5205.479452   \n1512239                      1      558888.0      1520.973723     4990.071429   \n1512240                      5      620000.0      1487.999952     4881.889764   \n\n        price_per_sq_ft_per_lease_yr  price_per_sq_m_per_lease_yr  q_num  \\\n0                           1.028957                     3.375844      1   \n1                           2.429715                     7.971506      1   \n2                           2.380597                     7.810359      1   \n3                           1.737917                     5.701828      1   \n4                           2.402415                     7.881939      1   \n...                              ...                          ...    ...   \n1512236                    24.521852                    80.452272      3   \n1512237                    24.172654                    79.306609      3   \n1512238                    24.409694                    80.084299      3   \n1512239                    16.532323                    54.239907      3   \n1512240                    22.892307                    75.105996      3   \n\n         year  index  resale_price_norm  \n0        1990   24.3       37037.037037  \n1        1990   24.3      193415.637860  \n2        1990   24.3      234567.901235  \n3        1990   24.3      139917.695473  \n4        1990   24.3      193415.637860  \n...       ...    ...                ...  \n1512236  2021  150.6      491367.861886  \n1512237  2021  150.6      486055.776892  \n1512238  2021  150.6      504648.074369  \n1512239  2021  150.6      371107.569721  \n1512240  2021  150.6      411686.586985  \n\n[1512241 rows x 26 columns]",
      "text/html": "<div>\n<style scoped>\n    .dataframe tbody tr th:only-of-type {\n        vertical-align: middle;\n    }\n\n    .dataframe tbody tr th {\n        vertical-align: top;\n    }\n\n    .dataframe thead th {\n        text-align: right;\n    }\n</style>\n<table border=\"1\" class=\"dataframe\">\n  <thead>\n    <tr style=\"text-align: right;\">\n      <th></th>\n      <th>id</th>\n      <th>month</th>\n      <th>block</th>\n      <th>town</th>\n      <th>street_name</th>\n      <th>address</th>\n      <th>storey_range</th>\n      <th>storey_range_min</th>\n      <th>storey_range_max</th>\n      <th>flat_model</th>\n      <th>...</th>\n      <th>remaining_lease_months</th>\n      <th>resale_price</th>\n      <th>price_per_sq_ft</th>\n      <th>price_per_sq_m</th>\n      <th>price_per_sq_ft_per_lease_yr</th>\n      <th>price_per_sq_m_per_lease_yr</th>\n      <th>q_num</th>\n      <th>year</th>\n      <th>index</th>\n      <th>resale_price_norm</th>\n    </tr>\n  </thead>\n  <tbody>\n    <tr>\n      <th>0</th>\n      <td>1990_01_309_ANG_MO_KIO_AVE_1_10_TO_12</td>\n      <td>1990-01-01</td>\n      <td>309</td>\n      <td>ANG MO KIO</td>\n      <td>ANG MO KIO AVE 1</td>\n      <td>309 ANG MO KIO AVENUE 1</td>\n      <td>10 TO 12</td>\n      <td>10</td>\n      <td>12</td>\n      <td>IMPROVED</td>\n      <td>...</td>\n      <td>&lt;NA&gt;</td>\n      <td>9000.0</td>\n      <td>88.490320</td>\n      <td>290.322581</td>\n      <td>1.028957</td>\n      <td>3.375844</td>\n      <td>1</td>\n      <td>1990</td>\n      <td>24.3</td>\n      <td>37037.037037</td>\n    </tr>\n    <tr>\n      <th>1</th>\n      <td>1990_01_307_CLEMENTI_AVE_4_01_TO_03</td>\n      <td>1990-01-01</td>\n      <td>307</td>\n      <td>CLEMENTI</td>\n      <td>CLEMENTI AVE 4</td>\n      <td>307 CLEMENTI AVENUE 4</td>\n      <td>01 TO 03</td>\n      <td>1</td>\n      <td>3</td>\n      <td>NEW GENERATION</td>\n      <td>...</td>\n      <td>&lt;NA&gt;</td>\n      <td>47000.0</td>\n      <td>213.814919</td>\n      <td>701.492537</td>\n      <td>2.429715</td>\n      <td>7.971506</td>\n      <td>1</td>\n      <td>1990</td>\n      <td>24.3</td>\n      <td>193415.637860</td>\n    </tr>\n    <tr>\n      <th>2</th>\n      <td>1990_01_309_CLEMENTI_AVE_4_04_TO_06</td>\n      <td>1990-01-01</td>\n      <td>309</td>\n      <td>CLEMENTI</td>\n      <td>CLEMENTI AVE 4</td>\n      <td>309 CLEMENTI AVENUE 4</td>\n      <td>04 TO 06</td>\n      <td>4</td>\n      <td>6</td>\n      <td>NEW GENERATION</td>\n      <td>...</td>\n      <td>&lt;NA&gt;</td>\n      <td>57000.0</td>\n      <td>211.873164</td>\n      <td>695.121951</td>\n      <td>2.380597</td>\n      <td>7.810359</td>\n      <td>1</td>\n      <td>1990</td>\n      <td>24.3</td>\n      <td>234567.901235</td>\n    </tr>\n    <tr>\n      <th>3</th>\n      <td>1990_01_309_CLEMENTI_AVE_4_10_TO_12</td>\n      <td>1990-01-01</td>\n      <td>309</td>\n      <td>CLEMENTI</td>\n      <td>CLEMENTI AVE 4</td>\n      <td>309 CLEMENTI AVENUE 4</td>\n      <td>10 TO 12</td>\n      <td>10</td>\n      <td>12</td>\n      <td>NEW GENERATION</td>\n      <td>...</td>\n      <td>&lt;NA&gt;</td>\n      <td>34000.0</td>\n      <td>154.674622</td>\n      <td>507.462687</td>\n      <td>1.737917</td>\n      <td>5.701828</td>\n      <td>1</td>\n      <td>1990</td>\n      <td>24.3</td>\n      <td>139917.695473</td>\n    </tr>\n    <tr>\n      <th>4</th>\n      <td>1990_01_310_CLEMENTI_AVE_4_04_TO_06</td>\n      <td>1990-01-01</td>\n      <td>310</td>\n      <td>CLEMENTI</td>\n      <td>CLEMENTI AVE 4</td>\n      <td>310 CLEMENTI AVENUE 4</td>\n      <td>04 TO 06</td>\n      <td>4</td>\n      <td>6</td>\n      <td>NEW GENERATION</td>\n      <td>...</td>\n      <td>&lt;NA&gt;</td>\n      <td>47000.0</td>\n      <td>213.814919</td>\n      <td>701.492537</td>\n      <td>2.402415</td>\n      <td>7.881939</td>\n      <td>1</td>\n      <td>1990</td>\n      <td>24.3</td>\n      <td>193415.637860</td>\n    </tr>\n    <tr>\n      <th>...</th>\n      <td>...</td>\n      <td>...</td>\n      <td>...</td>\n      <td>...</td>\n      <td>...</td>\n      <td>...</td>\n      <td>...</td>\n      <td>...</td>\n      <td>...</td>\n      <td>...</td>\n      <td>...</td>\n      <td>...</td>\n      <td>...</td>\n      <td>...</td>\n      <td>...</td>\n      <td>...</td>\n      <td>...</td>\n      <td>...</td>\n      <td>...</td>\n      <td>...</td>\n      <td>...</td>\n    </tr>\n    <tr>\n      <th>1512236</th>\n      <td>2021_09_723_YISHUN_ST_71_10_TO_12</td>\n      <td>2021-09-01</td>\n      <td>723</td>\n      <td>YISHUN</td>\n      <td>YISHUN ST 71</td>\n      <td>723 YISHUN STREET 71</td>\n      <td>10 TO 12</td>\n      <td>10</td>\n      <td>12</td>\n      <td>Maisonette</td>\n      <td>...</td>\n      <td>9</td>\n      <td>740000.0</td>\n      <td>1544.876663</td>\n      <td>5068.493151</td>\n      <td>24.521852</td>\n      <td>80.452272</td>\n      <td>3</td>\n      <td>2021</td>\n      <td>150.6</td>\n      <td>491367.861886</td>\n    </tr>\n    <tr>\n      <th>1512237</th>\n      <td>2021_09_828_YISHUN_ST_81_07_TO_09</td>\n      <td>2021-09-01</td>\n      <td>828</td>\n      <td>YISHUN</td>\n      <td>YISHUN ST 81</td>\n      <td>828 YISHUN STREET 81</td>\n      <td>07 TO 09</td>\n      <td>7</td>\n      <td>9</td>\n      <td>Apartment</td>\n      <td>...</td>\n      <td>5</td>\n      <td>732000.0</td>\n      <td>1571.222485</td>\n      <td>5154.929577</td>\n      <td>24.172654</td>\n      <td>79.306609</td>\n      <td>3</td>\n      <td>2021</td>\n      <td>150.6</td>\n      <td>486055.776892</td>\n    </tr>\n    <tr>\n      <th>1512238</th>\n      <td>2021_09_826_YISHUN_ST_81_07_TO_09</td>\n      <td>2021-09-01</td>\n      <td>826</td>\n      <td>YISHUN</td>\n      <td>YISHUN ST 81</td>\n      <td>826 YISHUN STREET 81</td>\n      <td>07 TO 09</td>\n      <td>7</td>\n      <td>9</td>\n      <td>Maisonette</td>\n      <td>...</td>\n      <td>4</td>\n      <td>760000.0</td>\n      <td>1586.630086</td>\n      <td>5205.479452</td>\n      <td>24.409694</td>\n      <td>80.084299</td>\n      <td>3</td>\n      <td>2021</td>\n      <td>150.6</td>\n      <td>504648.074369</td>\n    </tr>\n    <tr>\n      <th>1512239</th>\n      <td>2021_09_315B_YISHUN_AVE_9_04_TO_06</td>\n      <td>2021-09-01</td>\n      <td>315B</td>\n      <td>YISHUN</td>\n      <td>YISHUN AVE 9</td>\n      <td>315B YISHUN AVENUE 9</td>\n      <td>04 TO 06</td>\n      <td>4</td>\n      <td>6</td>\n      <td>Improved</td>\n      <td>...</td>\n      <td>1</td>\n      <td>558888.0</td>\n      <td>1520.973723</td>\n      <td>4990.071429</td>\n      <td>16.532323</td>\n      <td>54.239907</td>\n      <td>3</td>\n      <td>2021</td>\n      <td>150.6</td>\n      <td>371107.569721</td>\n    </tr>\n    <tr>\n      <th>1512240</th>\n      <td>2021_09_841_YISHUN_ST_81_04_TO_06</td>\n      <td>2021-09-01</td>\n      <td>841</td>\n      <td>YISHUN</td>\n      <td>YISHUN ST 81</td>\n      <td>841 YISHUN STREET 81</td>\n      <td>04 TO 06</td>\n      <td>4</td>\n      <td>6</td>\n      <td>Improved</td>\n      <td>...</td>\n      <td>5</td>\n      <td>620000.0</td>\n      <td>1487.999952</td>\n      <td>4881.889764</td>\n      <td>22.892307</td>\n      <td>75.105996</td>\n      <td>3</td>\n      <td>2021</td>\n      <td>150.6</td>\n      <td>411686.586985</td>\n    </tr>\n  </tbody>\n</table>\n<p>1512241 rows × 26 columns</p>\n</div>"
     },
     "execution_count": 11,
     "metadata": {},
     "output_type": "execute_result"
    }
   ],
   "source": [
    "# rsp['resale_price_norm'] = rsp['resale_price'] / rsp['index'] * 100\n",
    "# rsp"
   ],
   "metadata": {
    "collapsed": false,
    "pycharm": {
     "name": "#%%\n"
    }
   }
  },
  {
   "cell_type": "code",
   "execution_count": 14,
   "outputs": [],
   "source": [
    "# price_columns = ['resale_price', 'price_per_sq_ft', 'price_per_sq_m',\n",
    "#                  'price_per_sq_ft_per_lease_yr', 'price_per_sq_m_per_lease_yr']\n",
    "#\n",
    "# for col in price_columns:\n",
    "#     rsp[f\"{col}_norm\"] = rsp[col] / rsp['index'] * 100\n"
   ],
   "metadata": {
    "collapsed": false,
    "pycharm": {
     "name": "#%%\n"
    }
   }
  },
  {
   "cell_type": "code",
   "execution_count": 4,
   "outputs": [],
   "source": [
    "rsp = rsp[['id', 'month', 'block', 'town', 'street_name',\n",
    "     'storey_range', 'storey_range_min', 'storey_range_max', 'flat_model',\n",
    "     'flat_type', 'n_rooms', 'floor_area_sqm',\n",
    "     'lease_commence_date', 'remaining_lease', 'remaining_lease_years', 'remaining_lease_months',\n",
    "     'resale_price',\n",
    "     'price_per_sq_ft',\n",
    "     'price_per_sq_m',\n",
    "     'price_per_sq_ft_per_lease_yr',\n",
    "     'price_per_sq_m_per_lease_yr',\n",
    "     ]]"
   ],
   "metadata": {
    "collapsed": false,
    "pycharm": {
     "name": "#%%\n"
    }
   }
  },
  {
   "cell_type": "code",
   "execution_count": 5,
   "outputs": [
    {
     "data": {
      "text/plain": "id                                      object\nmonth                           datetime64[ns]\nblock                                   object\ntown                                    object\nstreet_name                             object\nstorey_range                            object\nstorey_range_min                         int64\nstorey_range_max                         int64\nflat_model                              object\nflat_type                               object\nn_rooms                                  Int64\nfloor_area_sqm                         float64\nlease_commence_date                      int64\nremaining_lease                         object\nremaining_lease_years                    int64\nremaining_lease_months                   Int64\nresale_price                           float64\nprice_per_sq_ft                        float64\nprice_per_sq_m                         float64\nprice_per_sq_ft_per_lease_yr           float64\nprice_per_sq_m_per_lease_yr            float64\ndtype: object"
     },
     "execution_count": 5,
     "metadata": {},
     "output_type": "execute_result"
    }
   ],
   "source": [
    "rsp.dtypes"
   ],
   "metadata": {
    "collapsed": false,
    "pycharm": {
     "name": "#%%\n"
    }
   }
  },
  {
   "cell_type": "code",
   "execution_count": 6,
   "outputs": [
    {
     "data": {
      "text/plain": "                                           id      month block           town  \\\n0       1990_01_309_ANG_MO_KIO_AVE_1_10_TO_12 1990-01-01   309     ANG MO KIO   \n2004      1990_01_307_CLEMENTI_AVE_4_01_TO_03 1990-01-01   307       CLEMENTI   \n2005      1990_01_309_CLEMENTI_AVE_4_04_TO_06 1990-01-01   309       CLEMENTI   \n2006      1990_01_309_CLEMENTI_AVE_4_10_TO_12 1990-01-01   309       CLEMENTI   \n2007      1990_01_310_CLEMENTI_AVE_4_04_TO_06 1990-01-01   310       CLEMENTI   \n...                                       ...        ...   ...            ...   \n210529     2022_03_501B_YISHUN_ST_51_07_TO_09 2022-03-01  501B         YISHUN   \n210528      2022_03_820_YISHUN_ST_81_07_TO_09 2022-03-01   820         YISHUN   \n210527    2022_03_359_YISHUN_RING_RD_01_TO_03 2022-03-01   359         YISHUN   \n210538      2022_03_751_YISHUN_ST_72_04_TO_06 2022-03-01   751         YISHUN   \n210829          2022_03_149_PETIR_RD_01_TO_03 2022-03-01   149  BUKIT PANJANG   \n\n             street_name storey_range  storey_range_min  storey_range_max  \\\n0       ANG MO KIO AVE 1     10 TO 12                10                12   \n2004      CLEMENTI AVE 4     01 TO 03                 1                 3   \n2005      CLEMENTI AVE 4     04 TO 06                 4                 6   \n2006      CLEMENTI AVE 4     10 TO 12                10                12   \n2007      CLEMENTI AVE 4     04 TO 06                 4                 6   \n...                  ...          ...               ...               ...   \n210529      YISHUN ST 51     07 TO 09                 7                 9   \n210528      YISHUN ST 81     07 TO 09                 7                 9   \n210527    YISHUN RING RD     01 TO 03                 1                 3   \n210538      YISHUN ST 72     04 TO 06                 4                 6   \n210829          PETIR RD     01 TO 03                 1                 3   \n\n            flat_model  flat_type  ...  floor_area_sqm  lease_commence_date  \\\n0             IMPROVED     1 ROOM  ...            31.0                 1977   \n2004    NEW GENERATION     3 ROOM  ...            67.0                 1979   \n2005    NEW GENERATION     3 ROOM  ...            82.0                 1980   \n2006    NEW GENERATION     3 ROOM  ...            67.0                 1980   \n2007    NEW GENERATION     3 ROOM  ...            67.0                 1980   \n...                ...        ...  ...             ...                  ...   \n210529        Improved     5 ROOM  ...           112.0                 2018   \n210528        Improved     5 ROOM  ...           122.0                 1988   \n210527       Apartment  EXECUTIVE  ...           145.0                 1988   \n210538  New Generation     4 ROOM  ...            91.0                 1984   \n210829         Model A     4 ROOM  ...           103.0                 1988   \n\n           remaining_lease remaining_lease_years  remaining_lease_months  \\\n0                      NaN                    86                    <NA>   \n2004                   NaN                    88                    <NA>   \n2005                   NaN                    89                    <NA>   \n2006                   NaN                    89                    <NA>   \n2007                   NaN                    89                    <NA>   \n...                    ...                   ...                     ...   \n210529  94 years 11 months                    95                      11   \n210528  65 years 06 months                    65                       6   \n210527  65 years 05 months                    65                       5   \n210538  61 years 02 months                    61                       2   \n210829  65 years 08 months                    65                       8   \n\n        resale_price  price_per_sq_ft  price_per_sq_m  \\\n0             9000.0        88.490320      290.322581   \n2004         47000.0       213.814919      701.492537   \n2005         57000.0       211.873164      695.121951   \n2006         34000.0       154.674622      507.462687   \n2007         47000.0       213.814919      701.492537   \n...              ...              ...             ...   \n210529      652000.0      1774.371372     5821.428571   \n210528      585000.0      1461.540937     4795.081967   \n210527      682000.0      1433.610989     4703.448276   \n210538      458000.0      1534.048303     5032.967033   \n210829      420000.0      1242.873747     4077.669903   \n\n        price_per_sq_ft_per_lease_yr  price_per_sq_m_per_lease_yr  \n0                           1.028957                     3.375844  \n2004                        2.429715                     7.971506  \n2005                        2.380597                     7.810359  \n2006                        1.737917                     5.701828  \n2007                        2.402415                     7.881939  \n...                              ...                          ...  \n210529                     18.677593                    61.278195  \n210528                     22.485245                    73.770492  \n210527                     22.055554                    72.360743  \n210538                     25.148333                    82.507656  \n210829                     19.121135                    62.733383  \n\n[1524524 rows x 21 columns]",
      "text/html": "<div>\n<style scoped>\n    .dataframe tbody tr th:only-of-type {\n        vertical-align: middle;\n    }\n\n    .dataframe tbody tr th {\n        vertical-align: top;\n    }\n\n    .dataframe thead th {\n        text-align: right;\n    }\n</style>\n<table border=\"1\" class=\"dataframe\">\n  <thead>\n    <tr style=\"text-align: right;\">\n      <th></th>\n      <th>id</th>\n      <th>month</th>\n      <th>block</th>\n      <th>town</th>\n      <th>street_name</th>\n      <th>storey_range</th>\n      <th>storey_range_min</th>\n      <th>storey_range_max</th>\n      <th>flat_model</th>\n      <th>flat_type</th>\n      <th>...</th>\n      <th>floor_area_sqm</th>\n      <th>lease_commence_date</th>\n      <th>remaining_lease</th>\n      <th>remaining_lease_years</th>\n      <th>remaining_lease_months</th>\n      <th>resale_price</th>\n      <th>price_per_sq_ft</th>\n      <th>price_per_sq_m</th>\n      <th>price_per_sq_ft_per_lease_yr</th>\n      <th>price_per_sq_m_per_lease_yr</th>\n    </tr>\n  </thead>\n  <tbody>\n    <tr>\n      <th>0</th>\n      <td>1990_01_309_ANG_MO_KIO_AVE_1_10_TO_12</td>\n      <td>1990-01-01</td>\n      <td>309</td>\n      <td>ANG MO KIO</td>\n      <td>ANG MO KIO AVE 1</td>\n      <td>10 TO 12</td>\n      <td>10</td>\n      <td>12</td>\n      <td>IMPROVED</td>\n      <td>1 ROOM</td>\n      <td>...</td>\n      <td>31.0</td>\n      <td>1977</td>\n      <td>NaN</td>\n      <td>86</td>\n      <td>&lt;NA&gt;</td>\n      <td>9000.0</td>\n      <td>88.490320</td>\n      <td>290.322581</td>\n      <td>1.028957</td>\n      <td>3.375844</td>\n    </tr>\n    <tr>\n      <th>2004</th>\n      <td>1990_01_307_CLEMENTI_AVE_4_01_TO_03</td>\n      <td>1990-01-01</td>\n      <td>307</td>\n      <td>CLEMENTI</td>\n      <td>CLEMENTI AVE 4</td>\n      <td>01 TO 03</td>\n      <td>1</td>\n      <td>3</td>\n      <td>NEW GENERATION</td>\n      <td>3 ROOM</td>\n      <td>...</td>\n      <td>67.0</td>\n      <td>1979</td>\n      <td>NaN</td>\n      <td>88</td>\n      <td>&lt;NA&gt;</td>\n      <td>47000.0</td>\n      <td>213.814919</td>\n      <td>701.492537</td>\n      <td>2.429715</td>\n      <td>7.971506</td>\n    </tr>\n    <tr>\n      <th>2005</th>\n      <td>1990_01_309_CLEMENTI_AVE_4_04_TO_06</td>\n      <td>1990-01-01</td>\n      <td>309</td>\n      <td>CLEMENTI</td>\n      <td>CLEMENTI AVE 4</td>\n      <td>04 TO 06</td>\n      <td>4</td>\n      <td>6</td>\n      <td>NEW GENERATION</td>\n      <td>3 ROOM</td>\n      <td>...</td>\n      <td>82.0</td>\n      <td>1980</td>\n      <td>NaN</td>\n      <td>89</td>\n      <td>&lt;NA&gt;</td>\n      <td>57000.0</td>\n      <td>211.873164</td>\n      <td>695.121951</td>\n      <td>2.380597</td>\n      <td>7.810359</td>\n    </tr>\n    <tr>\n      <th>2006</th>\n      <td>1990_01_309_CLEMENTI_AVE_4_10_TO_12</td>\n      <td>1990-01-01</td>\n      <td>309</td>\n      <td>CLEMENTI</td>\n      <td>CLEMENTI AVE 4</td>\n      <td>10 TO 12</td>\n      <td>10</td>\n      <td>12</td>\n      <td>NEW GENERATION</td>\n      <td>3 ROOM</td>\n      <td>...</td>\n      <td>67.0</td>\n      <td>1980</td>\n      <td>NaN</td>\n      <td>89</td>\n      <td>&lt;NA&gt;</td>\n      <td>34000.0</td>\n      <td>154.674622</td>\n      <td>507.462687</td>\n      <td>1.737917</td>\n      <td>5.701828</td>\n    </tr>\n    <tr>\n      <th>2007</th>\n      <td>1990_01_310_CLEMENTI_AVE_4_04_TO_06</td>\n      <td>1990-01-01</td>\n      <td>310</td>\n      <td>CLEMENTI</td>\n      <td>CLEMENTI AVE 4</td>\n      <td>04 TO 06</td>\n      <td>4</td>\n      <td>6</td>\n      <td>NEW GENERATION</td>\n      <td>3 ROOM</td>\n      <td>...</td>\n      <td>67.0</td>\n      <td>1980</td>\n      <td>NaN</td>\n      <td>89</td>\n      <td>&lt;NA&gt;</td>\n      <td>47000.0</td>\n      <td>213.814919</td>\n      <td>701.492537</td>\n      <td>2.402415</td>\n      <td>7.881939</td>\n    </tr>\n    <tr>\n      <th>...</th>\n      <td>...</td>\n      <td>...</td>\n      <td>...</td>\n      <td>...</td>\n      <td>...</td>\n      <td>...</td>\n      <td>...</td>\n      <td>...</td>\n      <td>...</td>\n      <td>...</td>\n      <td>...</td>\n      <td>...</td>\n      <td>...</td>\n      <td>...</td>\n      <td>...</td>\n      <td>...</td>\n      <td>...</td>\n      <td>...</td>\n      <td>...</td>\n      <td>...</td>\n      <td>...</td>\n    </tr>\n    <tr>\n      <th>210529</th>\n      <td>2022_03_501B_YISHUN_ST_51_07_TO_09</td>\n      <td>2022-03-01</td>\n      <td>501B</td>\n      <td>YISHUN</td>\n      <td>YISHUN ST 51</td>\n      <td>07 TO 09</td>\n      <td>7</td>\n      <td>9</td>\n      <td>Improved</td>\n      <td>5 ROOM</td>\n      <td>...</td>\n      <td>112.0</td>\n      <td>2018</td>\n      <td>94 years 11 months</td>\n      <td>95</td>\n      <td>11</td>\n      <td>652000.0</td>\n      <td>1774.371372</td>\n      <td>5821.428571</td>\n      <td>18.677593</td>\n      <td>61.278195</td>\n    </tr>\n    <tr>\n      <th>210528</th>\n      <td>2022_03_820_YISHUN_ST_81_07_TO_09</td>\n      <td>2022-03-01</td>\n      <td>820</td>\n      <td>YISHUN</td>\n      <td>YISHUN ST 81</td>\n      <td>07 TO 09</td>\n      <td>7</td>\n      <td>9</td>\n      <td>Improved</td>\n      <td>5 ROOM</td>\n      <td>...</td>\n      <td>122.0</td>\n      <td>1988</td>\n      <td>65 years 06 months</td>\n      <td>65</td>\n      <td>6</td>\n      <td>585000.0</td>\n      <td>1461.540937</td>\n      <td>4795.081967</td>\n      <td>22.485245</td>\n      <td>73.770492</td>\n    </tr>\n    <tr>\n      <th>210527</th>\n      <td>2022_03_359_YISHUN_RING_RD_01_TO_03</td>\n      <td>2022-03-01</td>\n      <td>359</td>\n      <td>YISHUN</td>\n      <td>YISHUN RING RD</td>\n      <td>01 TO 03</td>\n      <td>1</td>\n      <td>3</td>\n      <td>Apartment</td>\n      <td>EXECUTIVE</td>\n      <td>...</td>\n      <td>145.0</td>\n      <td>1988</td>\n      <td>65 years 05 months</td>\n      <td>65</td>\n      <td>5</td>\n      <td>682000.0</td>\n      <td>1433.610989</td>\n      <td>4703.448276</td>\n      <td>22.055554</td>\n      <td>72.360743</td>\n    </tr>\n    <tr>\n      <th>210538</th>\n      <td>2022_03_751_YISHUN_ST_72_04_TO_06</td>\n      <td>2022-03-01</td>\n      <td>751</td>\n      <td>YISHUN</td>\n      <td>YISHUN ST 72</td>\n      <td>04 TO 06</td>\n      <td>4</td>\n      <td>6</td>\n      <td>New Generation</td>\n      <td>4 ROOM</td>\n      <td>...</td>\n      <td>91.0</td>\n      <td>1984</td>\n      <td>61 years 02 months</td>\n      <td>61</td>\n      <td>2</td>\n      <td>458000.0</td>\n      <td>1534.048303</td>\n      <td>5032.967033</td>\n      <td>25.148333</td>\n      <td>82.507656</td>\n    </tr>\n    <tr>\n      <th>210829</th>\n      <td>2022_03_149_PETIR_RD_01_TO_03</td>\n      <td>2022-03-01</td>\n      <td>149</td>\n      <td>BUKIT PANJANG</td>\n      <td>PETIR RD</td>\n      <td>01 TO 03</td>\n      <td>1</td>\n      <td>3</td>\n      <td>Model A</td>\n      <td>4 ROOM</td>\n      <td>...</td>\n      <td>103.0</td>\n      <td>1988</td>\n      <td>65 years 08 months</td>\n      <td>65</td>\n      <td>8</td>\n      <td>420000.0</td>\n      <td>1242.873747</td>\n      <td>4077.669903</td>\n      <td>19.121135</td>\n      <td>62.733383</td>\n    </tr>\n  </tbody>\n</table>\n<p>1524524 rows × 21 columns</p>\n</div>"
     },
     "execution_count": 6,
     "metadata": {},
     "output_type": "execute_result"
    }
   ],
   "source": [
    "rsp"
   ],
   "metadata": {
    "collapsed": false,
    "pycharm": {
     "name": "#%%\n"
    }
   }
  },
  {
   "cell_type": "code",
   "execution_count": 7,
   "outputs": [],
   "source": [
    "engine = create_engine(f'postgresql+psycopg2://{Capstone_AWS_PG.username}:{Capstone_AWS_PG.password}@{Capstone_AWS_PG.host}/capstone', echo=False)\n",
    "\n",
    "sql_alc_cnxn = engine.connect()\n",
    "\n",
    "rsp.to_sql('resale_prices_full', sql_alc_cnxn, if_exists='replace', index=False)\n",
    "\n",
    "sql_alc_cnxn.close()"
   ],
   "metadata": {
    "collapsed": false,
    "pycharm": {
     "name": "#%%\n"
    }
   }
  },
  {
   "cell_type": "markdown",
   "source": [
    "# Exploring Duplicate Issue"
   ],
   "metadata": {
    "collapsed": false,
    "pycharm": {
     "name": "#%% md\n"
    }
   }
  },
  {
   "cell_type": "markdown",
   "source": [
    "## resale_prices_full"
   ],
   "metadata": {
    "collapsed": false,
    "pycharm": {
     "name": "#%% md\n"
    }
   }
  },
  {
   "cell_type": "code",
   "execution_count": 1,
   "outputs": [],
   "source": [
    "import pandas as pd\n",
    "from sqlalchemy import create_engine\n",
    "from MyCreds.mycreds import Capstone_AWS_PG\n",
    "from sqlalchemy import create_engine"
   ],
   "metadata": {
    "collapsed": false,
    "pycharm": {
     "name": "#%%\n"
    }
   }
  },
  {
   "cell_type": "code",
   "execution_count": 2,
   "outputs": [],
   "source": [
    "sql = \"\"\"select * from resale_prices_full\"\"\"\n",
    "\n",
    "engine = create_engine(f'postgresql+psycopg2://{Capstone_AWS_PG.username}:{Capstone_AWS_PG.password}@{Capstone_AWS_PG.host}/capstone', echo=False)\n",
    "\n",
    "with engine.connect() as cnxn:\n",
    "    df = pd.read_sql(sql, cnxn)"
   ],
   "metadata": {
    "collapsed": false,
    "pycharm": {
     "name": "#%%\n"
    }
   }
  },
  {
   "cell_type": "code",
   "execution_count": 3,
   "outputs": [
    {
     "data": {
      "text/plain": "(1524524, 21)"
     },
     "execution_count": 3,
     "metadata": {},
     "output_type": "execute_result"
    }
   ],
   "source": [
    "df.shape"
   ],
   "metadata": {
    "collapsed": false,
    "pycharm": {
     "name": "#%%\n"
    }
   }
  },
  {
   "cell_type": "code",
   "execution_count": 4,
   "outputs": [
    {
     "data": {
      "text/plain": "Index(['id', 'month', 'block', 'town', 'street_name', 'storey_range',\n       'storey_range_min', 'storey_range_max', 'flat_model', 'flat_type',\n       'n_rooms', 'floor_area_sqm', 'lease_commence_date', 'remaining_lease',\n       'remaining_lease_years', 'remaining_lease_months', 'resale_price',\n       'price_per_sq_ft', 'price_per_sq_m', 'price_per_sq_ft_per_lease_yr',\n       'price_per_sq_m_per_lease_yr'],\n      dtype='object')"
     },
     "execution_count": 4,
     "metadata": {},
     "output_type": "execute_result"
    }
   ],
   "source": [
    "df.columns"
   ],
   "metadata": {
    "collapsed": false,
    "pycharm": {
     "name": "#%%\n"
    }
   }
  },
  {
   "cell_type": "code",
   "execution_count": 14,
   "outputs": [
    {
     "data": {
      "text/plain": "                                              id  n_appearnaces\n0                   1997_08_10_JLN_BATU_01_TO_03             32\n1                   1997_08_11_JLN_BATU_01_TO_03             30\n2           2009_02_5_CHANGI_VILLAGE_RD_01_TO_03             24\n3           2009_01_5_CHANGI_VILLAGE_RD_01_TO_03             24\n4           2009_02_5_CHANGI_VILLAGE_RD_04_TO_06             18\n...                                          ...            ...\n613003       1999_01_547_BEDOK_NTH_ST_3_13_TO_15              2\n613004  1999_01_562_CHOA_CHU_KANG_ST_52_04_TO_06              2\n613005         1998_12_820_YISHUN_ST_81_01_TO_03              2\n613006     1999_01_562_ANG_MO_KIO_AVE_3_13_TO_15              2\n613007     1999_01_562_ANG_MO_KIO_AVE_3_04_TO_06              2\n\n[613008 rows x 2 columns]",
      "text/html": "<div>\n<style scoped>\n    .dataframe tbody tr th:only-of-type {\n        vertical-align: middle;\n    }\n\n    .dataframe tbody tr th {\n        vertical-align: top;\n    }\n\n    .dataframe thead th {\n        text-align: right;\n    }\n</style>\n<table border=\"1\" class=\"dataframe\">\n  <thead>\n    <tr style=\"text-align: right;\">\n      <th></th>\n      <th>id</th>\n      <th>n_appearnaces</th>\n    </tr>\n  </thead>\n  <tbody>\n    <tr>\n      <th>0</th>\n      <td>1997_08_10_JLN_BATU_01_TO_03</td>\n      <td>32</td>\n    </tr>\n    <tr>\n      <th>1</th>\n      <td>1997_08_11_JLN_BATU_01_TO_03</td>\n      <td>30</td>\n    </tr>\n    <tr>\n      <th>2</th>\n      <td>2009_02_5_CHANGI_VILLAGE_RD_01_TO_03</td>\n      <td>24</td>\n    </tr>\n    <tr>\n      <th>3</th>\n      <td>2009_01_5_CHANGI_VILLAGE_RD_01_TO_03</td>\n      <td>24</td>\n    </tr>\n    <tr>\n      <th>4</th>\n      <td>2009_02_5_CHANGI_VILLAGE_RD_04_TO_06</td>\n      <td>18</td>\n    </tr>\n    <tr>\n      <th>...</th>\n      <td>...</td>\n      <td>...</td>\n    </tr>\n    <tr>\n      <th>613003</th>\n      <td>1999_01_547_BEDOK_NTH_ST_3_13_TO_15</td>\n      <td>2</td>\n    </tr>\n    <tr>\n      <th>613004</th>\n      <td>1999_01_562_CHOA_CHU_KANG_ST_52_04_TO_06</td>\n      <td>2</td>\n    </tr>\n    <tr>\n      <th>613005</th>\n      <td>1998_12_820_YISHUN_ST_81_01_TO_03</td>\n      <td>2</td>\n    </tr>\n    <tr>\n      <th>613006</th>\n      <td>1999_01_562_ANG_MO_KIO_AVE_3_13_TO_15</td>\n      <td>2</td>\n    </tr>\n    <tr>\n      <th>613007</th>\n      <td>1999_01_562_ANG_MO_KIO_AVE_3_04_TO_06</td>\n      <td>2</td>\n    </tr>\n  </tbody>\n</table>\n<p>613008 rows × 2 columns</p>\n</div>"
     },
     "execution_count": 14,
     "metadata": {},
     "output_type": "execute_result"
    }
   ],
   "source": [
    "id_counts = df.value_counts('id').reset_index().rename({0: 'n_appearnaces'}, axis=1)\n",
    "id_counts[id_counts['n_appearnaces'] > 1]"
   ],
   "metadata": {
    "collapsed": false,
    "pycharm": {
     "name": "#%%\n"
    }
   }
  },
  {
   "cell_type": "code",
   "execution_count": 8,
   "outputs": [
    {
     "data": {
      "text/plain": "                                             id      month block  \\\n840           2015_01_57_GEYLANG_BAHRU_16_TO_18 2015-01-01    57   \n1715        2015_02_403_TAMPINES_ST_41_07_TO_09 2015-02-01   403   \n4768    2015_04_701_BEDOK_RESERVOIR_RD_10_TO_12 2015-04-01   701   \n4792    2015_04_714_CLEMENTI_WEST_ST_2_10_TO_12 2015-04-01   714   \n5776       2015_05_409_BEDOK_NTH_AVE_2_07_TO_09 2015-05-01   409   \n...                                         ...        ...   ...   \n141173     2021_12_817C_KEAT_HONG_LINK_10_TO_12 2021-12-01  817C   \n141230     2021_12_879B_TAMPINES_AVE_8_10_TO_12 2021-12-01  879B   \n143224  2022_01_676A_JURONG_WEST_ST_64_07_TO_09 2022-01-01  676A   \n143412       2022_01_802C_KEAT_HONG_CL_04_TO_06 2022-01-01  802C   \n145021         2022_02_664B_PUNGGOL_DR_13_TO_15 2022-02-01  664B   \n\n                   town         street_name storey_range  storey_range_min  \\\n840     KALLANG/WHAMPOA       GEYLANG BAHRU     16 TO 18                16   \n1715           TAMPINES      TAMPINES ST 41     07 TO 09                 7   \n4768              BEDOK  BEDOK RESERVOIR RD     10 TO 12                10   \n4792           CLEMENTI  CLEMENTI WEST ST 2     10 TO 12                10   \n5776              BEDOK     BEDOK NTH AVE 2     07 TO 09                 7   \n...                 ...                 ...          ...               ...   \n141173    CHOA CHU KANG      KEAT HONG LINK     10 TO 12                10   \n141230         TAMPINES      TAMPINES AVE 8     10 TO 12                10   \n143224      JURONG WEST   JURONG WEST ST 64     07 TO 09                 7   \n143412    CHOA CHU KANG        KEAT HONG CL     04 TO 06                 4   \n145021          PUNGGOL          PUNGGOL DR     13 TO 15                13   \n\n        storey_range_max         flat_model flat_type  ...  \\\n840                   18           Improved    3 ROOM  ...   \n1715                   9           Improved    3 ROOM  ...   \n4768                  12     New Generation    4 ROOM  ...   \n4792                  12     New Generation    3 ROOM  ...   \n5776                   9     New Generation    3 ROOM  ...   \n...                  ...                ...       ...  ...   \n141173                12           Improved    5 ROOM  ...   \n141230                12            Model A    4 ROOM  ...   \n143224                 9  Premium Apartment    5 ROOM  ...   \n143412                 6            Model A    3 ROOM  ...   \n145021                15            Model A    4 ROOM  ...   \n\n        lease_commence_date     remaining_lease  remaining_lease_years  \\\n840                    1974                  58                     58   \n1715                   1985                  69                     69   \n4768                   1980                  64                     64   \n4792                   1980                  64                     64   \n5776                   1980                  63                     64   \n...                     ...                 ...                    ...   \n141173                 2017  94 years 10 months                     94   \n141230                 2017  94 years 07 months                     94   \n143224                 2008  85 years 06 months                     85   \n143412                 2018  95 years 02 months                     95   \n145021                 2016  93 years 04 months                     93   \n\n       remaining_lease_months  resale_price  price_per_sq_ft  price_per_sq_m  \\\n840                       0.0      315000.0      1477.107645     4846.153846   \n1715                      0.0      350000.0      1546.086907     5072.463768   \n4768                      0.0      400000.0      1310.967700     4301.075269   \n4792                      0.0      300000.0      1364.776076     4477.611940   \n5776                      0.0      340000.0      1523.999951     5000.000000   \n...                       ...           ...              ...             ...   \n141173                   10.0      655000.0      1782.535657     5848.214286   \n141230                    7.0      610000.0      1999.225742     6559.139785   \n143224                    6.0      508000.0      1394.940496     4576.576577   \n143412                    2.0      388000.0      1765.110391     5791.044776   \n145021                    4.0      520000.0      1761.066610     5777.777778   \n\n        price_per_sq_ft_per_lease_yr  price_per_sq_m_per_lease_yr  size  \n840                        25.467373                    83.554377     2  \n1715                       22.407057                    73.513968     2  \n4768                       20.483870                    67.204301     2  \n4792                       21.324626                    69.962687     2  \n5776                       23.812499                    78.125000     2  \n...                              ...                          ...   ...  \n141173                     18.963145                    62.215046     2  \n141230                     21.268359                    69.778083     2  \n143224                     16.411065                    53.842077     2  \n143412                     18.580109                    60.958366     2  \n145021                     18.936200                    62.126643     2  \n\n[271 rows x 22 columns]",
      "text/html": "<div>\n<style scoped>\n    .dataframe tbody tr th:only-of-type {\n        vertical-align: middle;\n    }\n\n    .dataframe tbody tr th {\n        vertical-align: top;\n    }\n\n    .dataframe thead th {\n        text-align: right;\n    }\n</style>\n<table border=\"1\" class=\"dataframe\">\n  <thead>\n    <tr style=\"text-align: right;\">\n      <th></th>\n      <th>id</th>\n      <th>month</th>\n      <th>block</th>\n      <th>town</th>\n      <th>street_name</th>\n      <th>storey_range</th>\n      <th>storey_range_min</th>\n      <th>storey_range_max</th>\n      <th>flat_model</th>\n      <th>flat_type</th>\n      <th>...</th>\n      <th>lease_commence_date</th>\n      <th>remaining_lease</th>\n      <th>remaining_lease_years</th>\n      <th>remaining_lease_months</th>\n      <th>resale_price</th>\n      <th>price_per_sq_ft</th>\n      <th>price_per_sq_m</th>\n      <th>price_per_sq_ft_per_lease_yr</th>\n      <th>price_per_sq_m_per_lease_yr</th>\n      <th>size</th>\n    </tr>\n  </thead>\n  <tbody>\n    <tr>\n      <th>840</th>\n      <td>2015_01_57_GEYLANG_BAHRU_16_TO_18</td>\n      <td>2015-01-01</td>\n      <td>57</td>\n      <td>KALLANG/WHAMPOA</td>\n      <td>GEYLANG BAHRU</td>\n      <td>16 TO 18</td>\n      <td>16</td>\n      <td>18</td>\n      <td>Improved</td>\n      <td>3 ROOM</td>\n      <td>...</td>\n      <td>1974</td>\n      <td>58</td>\n      <td>58</td>\n      <td>0.0</td>\n      <td>315000.0</td>\n      <td>1477.107645</td>\n      <td>4846.153846</td>\n      <td>25.467373</td>\n      <td>83.554377</td>\n      <td>2</td>\n    </tr>\n    <tr>\n      <th>1715</th>\n      <td>2015_02_403_TAMPINES_ST_41_07_TO_09</td>\n      <td>2015-02-01</td>\n      <td>403</td>\n      <td>TAMPINES</td>\n      <td>TAMPINES ST 41</td>\n      <td>07 TO 09</td>\n      <td>7</td>\n      <td>9</td>\n      <td>Improved</td>\n      <td>3 ROOM</td>\n      <td>...</td>\n      <td>1985</td>\n      <td>69</td>\n      <td>69</td>\n      <td>0.0</td>\n      <td>350000.0</td>\n      <td>1546.086907</td>\n      <td>5072.463768</td>\n      <td>22.407057</td>\n      <td>73.513968</td>\n      <td>2</td>\n    </tr>\n    <tr>\n      <th>4768</th>\n      <td>2015_04_701_BEDOK_RESERVOIR_RD_10_TO_12</td>\n      <td>2015-04-01</td>\n      <td>701</td>\n      <td>BEDOK</td>\n      <td>BEDOK RESERVOIR RD</td>\n      <td>10 TO 12</td>\n      <td>10</td>\n      <td>12</td>\n      <td>New Generation</td>\n      <td>4 ROOM</td>\n      <td>...</td>\n      <td>1980</td>\n      <td>64</td>\n      <td>64</td>\n      <td>0.0</td>\n      <td>400000.0</td>\n      <td>1310.967700</td>\n      <td>4301.075269</td>\n      <td>20.483870</td>\n      <td>67.204301</td>\n      <td>2</td>\n    </tr>\n    <tr>\n      <th>4792</th>\n      <td>2015_04_714_CLEMENTI_WEST_ST_2_10_TO_12</td>\n      <td>2015-04-01</td>\n      <td>714</td>\n      <td>CLEMENTI</td>\n      <td>CLEMENTI WEST ST 2</td>\n      <td>10 TO 12</td>\n      <td>10</td>\n      <td>12</td>\n      <td>New Generation</td>\n      <td>3 ROOM</td>\n      <td>...</td>\n      <td>1980</td>\n      <td>64</td>\n      <td>64</td>\n      <td>0.0</td>\n      <td>300000.0</td>\n      <td>1364.776076</td>\n      <td>4477.611940</td>\n      <td>21.324626</td>\n      <td>69.962687</td>\n      <td>2</td>\n    </tr>\n    <tr>\n      <th>5776</th>\n      <td>2015_05_409_BEDOK_NTH_AVE_2_07_TO_09</td>\n      <td>2015-05-01</td>\n      <td>409</td>\n      <td>BEDOK</td>\n      <td>BEDOK NTH AVE 2</td>\n      <td>07 TO 09</td>\n      <td>7</td>\n      <td>9</td>\n      <td>New Generation</td>\n      <td>3 ROOM</td>\n      <td>...</td>\n      <td>1980</td>\n      <td>63</td>\n      <td>64</td>\n      <td>0.0</td>\n      <td>340000.0</td>\n      <td>1523.999951</td>\n      <td>5000.000000</td>\n      <td>23.812499</td>\n      <td>78.125000</td>\n      <td>2</td>\n    </tr>\n    <tr>\n      <th>...</th>\n      <td>...</td>\n      <td>...</td>\n      <td>...</td>\n      <td>...</td>\n      <td>...</td>\n      <td>...</td>\n      <td>...</td>\n      <td>...</td>\n      <td>...</td>\n      <td>...</td>\n      <td>...</td>\n      <td>...</td>\n      <td>...</td>\n      <td>...</td>\n      <td>...</td>\n      <td>...</td>\n      <td>...</td>\n      <td>...</td>\n      <td>...</td>\n      <td>...</td>\n      <td>...</td>\n    </tr>\n    <tr>\n      <th>141173</th>\n      <td>2021_12_817C_KEAT_HONG_LINK_10_TO_12</td>\n      <td>2021-12-01</td>\n      <td>817C</td>\n      <td>CHOA CHU KANG</td>\n      <td>KEAT HONG LINK</td>\n      <td>10 TO 12</td>\n      <td>10</td>\n      <td>12</td>\n      <td>Improved</td>\n      <td>5 ROOM</td>\n      <td>...</td>\n      <td>2017</td>\n      <td>94 years 10 months</td>\n      <td>94</td>\n      <td>10.0</td>\n      <td>655000.0</td>\n      <td>1782.535657</td>\n      <td>5848.214286</td>\n      <td>18.963145</td>\n      <td>62.215046</td>\n      <td>2</td>\n    </tr>\n    <tr>\n      <th>141230</th>\n      <td>2021_12_879B_TAMPINES_AVE_8_10_TO_12</td>\n      <td>2021-12-01</td>\n      <td>879B</td>\n      <td>TAMPINES</td>\n      <td>TAMPINES AVE 8</td>\n      <td>10 TO 12</td>\n      <td>10</td>\n      <td>12</td>\n      <td>Model A</td>\n      <td>4 ROOM</td>\n      <td>...</td>\n      <td>2017</td>\n      <td>94 years 07 months</td>\n      <td>94</td>\n      <td>7.0</td>\n      <td>610000.0</td>\n      <td>1999.225742</td>\n      <td>6559.139785</td>\n      <td>21.268359</td>\n      <td>69.778083</td>\n      <td>2</td>\n    </tr>\n    <tr>\n      <th>143224</th>\n      <td>2022_01_676A_JURONG_WEST_ST_64_07_TO_09</td>\n      <td>2022-01-01</td>\n      <td>676A</td>\n      <td>JURONG WEST</td>\n      <td>JURONG WEST ST 64</td>\n      <td>07 TO 09</td>\n      <td>7</td>\n      <td>9</td>\n      <td>Premium Apartment</td>\n      <td>5 ROOM</td>\n      <td>...</td>\n      <td>2008</td>\n      <td>85 years 06 months</td>\n      <td>85</td>\n      <td>6.0</td>\n      <td>508000.0</td>\n      <td>1394.940496</td>\n      <td>4576.576577</td>\n      <td>16.411065</td>\n      <td>53.842077</td>\n      <td>2</td>\n    </tr>\n    <tr>\n      <th>143412</th>\n      <td>2022_01_802C_KEAT_HONG_CL_04_TO_06</td>\n      <td>2022-01-01</td>\n      <td>802C</td>\n      <td>CHOA CHU KANG</td>\n      <td>KEAT HONG CL</td>\n      <td>04 TO 06</td>\n      <td>4</td>\n      <td>6</td>\n      <td>Model A</td>\n      <td>3 ROOM</td>\n      <td>...</td>\n      <td>2018</td>\n      <td>95 years 02 months</td>\n      <td>95</td>\n      <td>2.0</td>\n      <td>388000.0</td>\n      <td>1765.110391</td>\n      <td>5791.044776</td>\n      <td>18.580109</td>\n      <td>60.958366</td>\n      <td>2</td>\n    </tr>\n    <tr>\n      <th>145021</th>\n      <td>2022_02_664B_PUNGGOL_DR_13_TO_15</td>\n      <td>2022-02-01</td>\n      <td>664B</td>\n      <td>PUNGGOL</td>\n      <td>PUNGGOL DR</td>\n      <td>13 TO 15</td>\n      <td>13</td>\n      <td>15</td>\n      <td>Model A</td>\n      <td>4 ROOM</td>\n      <td>...</td>\n      <td>2016</td>\n      <td>93 years 04 months</td>\n      <td>93</td>\n      <td>4.0</td>\n      <td>520000.0</td>\n      <td>1761.066610</td>\n      <td>5777.777778</td>\n      <td>18.936200</td>\n      <td>62.126643</td>\n      <td>2</td>\n    </tr>\n  </tbody>\n</table>\n<p>271 rows × 22 columns</p>\n</div>"
     },
     "execution_count": 8,
     "metadata": {},
     "output_type": "execute_result"
    }
   ],
   "source": [
    "dups = df.groupby(df.columns.tolist(), as_index=False).size()\n",
    "dups[dups['size'] > 1].sort_values('id')"
   ],
   "metadata": {
    "collapsed": false,
    "pycharm": {
     "name": "#%%\n"
    }
   }
  },
  {
   "cell_type": "code",
   "execution_count": 9,
   "outputs": [
    {
     "data": {
      "text/plain": "                                              id      month block  \\\n1366542        2015_01_57_GEYLANG_BAHRU_16_TO_18 2015-01-01    57   \n1366558        2015_01_57_GEYLANG_BAHRU_16_TO_18 2015-01-01    57   \n1368061      2015_02_403_TAMPINES_ST_41_07_TO_09 2015-02-01   403   \n1368081      2015_02_403_TAMPINES_ST_41_07_TO_09 2015-02-01   403   \n1369772  2015_04_701_BEDOK_RESERVOIR_RD_10_TO_12 2015-04-01   701   \n...                                          ...        ...   ...   \n1520821  2022_01_676A_JURONG_WEST_ST_64_07_TO_09 2022-01-01  676A   \n1520860  2022_01_676A_JURONG_WEST_ST_64_07_TO_09 2022-01-01  676A   \n1523242         2022_02_664B_PUNGGOL_DR_13_TO_15 2022-02-01  664B   \n1523253         2022_02_664B_PUNGGOL_DR_13_TO_15 2022-02-01  664B   \n1523276         2022_02_664B_PUNGGOL_DR_13_TO_15 2022-02-01  664B   \n\n                    town         street_name storey_range  storey_range_min  \\\n1366542  KALLANG/WHAMPOA       GEYLANG BAHRU     16 TO 18                16   \n1366558  KALLANG/WHAMPOA       GEYLANG BAHRU     16 TO 18                16   \n1368061         TAMPINES      TAMPINES ST 41     07 TO 09                 7   \n1368081         TAMPINES      TAMPINES ST 41     07 TO 09                 7   \n1369772            BEDOK  BEDOK RESERVOIR RD     10 TO 12                10   \n...                  ...                 ...          ...               ...   \n1520821      JURONG WEST   JURONG WEST ST 64     07 TO 09                 7   \n1520860      JURONG WEST   JURONG WEST ST 64     07 TO 09                 7   \n1523242          PUNGGOL          PUNGGOL DR     13 TO 15                13   \n1523253          PUNGGOL          PUNGGOL DR     13 TO 15                13   \n1523276          PUNGGOL          PUNGGOL DR     13 TO 15                13   \n\n         storey_range_max         flat_model flat_type  ...  floor_area_sqm  \\\n1366542                18           Improved    3 ROOM  ...            65.0   \n1366558                18           Improved    3 ROOM  ...            65.0   \n1368061                 9           Improved    3 ROOM  ...            69.0   \n1368081                 9           Improved    3 ROOM  ...            69.0   \n1369772                12     New Generation    4 ROOM  ...            93.0   \n...                   ...                ...       ...  ...             ...   \n1520821                 9  Premium Apartment    5 ROOM  ...           111.0   \n1520860                 9  Premium Apartment    5 ROOM  ...           111.0   \n1523242                15            Model A    4 ROOM  ...            90.0   \n1523253                15            Model A    4 ROOM  ...            90.0   \n1523276                15            Model A    4 ROOM  ...            90.0   \n\n         lease_commence_date     remaining_lease remaining_lease_years  \\\n1366542                 1974                  58                    58   \n1366558                 1974                  58                    58   \n1368061                 1985                  69                    69   \n1368081                 1985                  69                    69   \n1369772                 1980                  64                    64   \n...                      ...                 ...                   ...   \n1520821                 2008  85 years 06 months                    85   \n1520860                 2008  85 years 06 months                    85   \n1523242                 2016  93 years 05 months                    93   \n1523253                 2016  93 years 04 months                    93   \n1523276                 2016  93 years 04 months                    93   \n\n         remaining_lease_months  resale_price  price_per_sq_ft  \\\n1366542                     0.0      315000.0      1477.107645   \n1366558                     0.0      315000.0      1477.107645   \n1368061                     0.0      350000.0      1546.086907   \n1368081                     0.0      350000.0      1546.086907   \n1369772                     0.0      400000.0      1310.967700   \n...                         ...           ...              ...   \n1520821                     6.0      508000.0      1394.940496   \n1520860                     6.0      508000.0      1394.940496   \n1523242                     5.0      540000.0      1828.799941   \n1523253                     4.0      520000.0      1761.066610   \n1523276                     4.0      520000.0      1761.066610   \n\n         price_per_sq_m  price_per_sq_ft_per_lease_yr  \\\n1366542     4846.153846                     25.467373   \n1366558     4846.153846                     25.467373   \n1368061     5072.463768                     22.407057   \n1368081     5072.463768                     22.407057   \n1369772     4301.075269                     20.483870   \n...                 ...                           ...   \n1520821     4576.576577                     16.411065   \n1520860     4576.576577                     16.411065   \n1523242     6000.000000                     19.664515   \n1523253     5777.777778                     18.936200   \n1523276     5777.777778                     18.936200   \n\n         price_per_sq_m_per_lease_yr  \n1366542                    83.554377  \n1366558                    83.554377  \n1368061                    73.513968  \n1368081                    73.513968  \n1369772                    67.204301  \n...                              ...  \n1520821                    53.842077  \n1520860                    53.842077  \n1523242                    64.516129  \n1523253                    62.126643  \n1523276                    62.126643  \n\n[566 rows x 21 columns]",
      "text/html": "<div>\n<style scoped>\n    .dataframe tbody tr th:only-of-type {\n        vertical-align: middle;\n    }\n\n    .dataframe tbody tr th {\n        vertical-align: top;\n    }\n\n    .dataframe thead th {\n        text-align: right;\n    }\n</style>\n<table border=\"1\" class=\"dataframe\">\n  <thead>\n    <tr style=\"text-align: right;\">\n      <th></th>\n      <th>id</th>\n      <th>month</th>\n      <th>block</th>\n      <th>town</th>\n      <th>street_name</th>\n      <th>storey_range</th>\n      <th>storey_range_min</th>\n      <th>storey_range_max</th>\n      <th>flat_model</th>\n      <th>flat_type</th>\n      <th>...</th>\n      <th>floor_area_sqm</th>\n      <th>lease_commence_date</th>\n      <th>remaining_lease</th>\n      <th>remaining_lease_years</th>\n      <th>remaining_lease_months</th>\n      <th>resale_price</th>\n      <th>price_per_sq_ft</th>\n      <th>price_per_sq_m</th>\n      <th>price_per_sq_ft_per_lease_yr</th>\n      <th>price_per_sq_m_per_lease_yr</th>\n    </tr>\n  </thead>\n  <tbody>\n    <tr>\n      <th>1366542</th>\n      <td>2015_01_57_GEYLANG_BAHRU_16_TO_18</td>\n      <td>2015-01-01</td>\n      <td>57</td>\n      <td>KALLANG/WHAMPOA</td>\n      <td>GEYLANG BAHRU</td>\n      <td>16 TO 18</td>\n      <td>16</td>\n      <td>18</td>\n      <td>Improved</td>\n      <td>3 ROOM</td>\n      <td>...</td>\n      <td>65.0</td>\n      <td>1974</td>\n      <td>58</td>\n      <td>58</td>\n      <td>0.0</td>\n      <td>315000.0</td>\n      <td>1477.107645</td>\n      <td>4846.153846</td>\n      <td>25.467373</td>\n      <td>83.554377</td>\n    </tr>\n    <tr>\n      <th>1366558</th>\n      <td>2015_01_57_GEYLANG_BAHRU_16_TO_18</td>\n      <td>2015-01-01</td>\n      <td>57</td>\n      <td>KALLANG/WHAMPOA</td>\n      <td>GEYLANG BAHRU</td>\n      <td>16 TO 18</td>\n      <td>16</td>\n      <td>18</td>\n      <td>Improved</td>\n      <td>3 ROOM</td>\n      <td>...</td>\n      <td>65.0</td>\n      <td>1974</td>\n      <td>58</td>\n      <td>58</td>\n      <td>0.0</td>\n      <td>315000.0</td>\n      <td>1477.107645</td>\n      <td>4846.153846</td>\n      <td>25.467373</td>\n      <td>83.554377</td>\n    </tr>\n    <tr>\n      <th>1368061</th>\n      <td>2015_02_403_TAMPINES_ST_41_07_TO_09</td>\n      <td>2015-02-01</td>\n      <td>403</td>\n      <td>TAMPINES</td>\n      <td>TAMPINES ST 41</td>\n      <td>07 TO 09</td>\n      <td>7</td>\n      <td>9</td>\n      <td>Improved</td>\n      <td>3 ROOM</td>\n      <td>...</td>\n      <td>69.0</td>\n      <td>1985</td>\n      <td>69</td>\n      <td>69</td>\n      <td>0.0</td>\n      <td>350000.0</td>\n      <td>1546.086907</td>\n      <td>5072.463768</td>\n      <td>22.407057</td>\n      <td>73.513968</td>\n    </tr>\n    <tr>\n      <th>1368081</th>\n      <td>2015_02_403_TAMPINES_ST_41_07_TO_09</td>\n      <td>2015-02-01</td>\n      <td>403</td>\n      <td>TAMPINES</td>\n      <td>TAMPINES ST 41</td>\n      <td>07 TO 09</td>\n      <td>7</td>\n      <td>9</td>\n      <td>Improved</td>\n      <td>3 ROOM</td>\n      <td>...</td>\n      <td>69.0</td>\n      <td>1985</td>\n      <td>69</td>\n      <td>69</td>\n      <td>0.0</td>\n      <td>350000.0</td>\n      <td>1546.086907</td>\n      <td>5072.463768</td>\n      <td>22.407057</td>\n      <td>73.513968</td>\n    </tr>\n    <tr>\n      <th>1369772</th>\n      <td>2015_04_701_BEDOK_RESERVOIR_RD_10_TO_12</td>\n      <td>2015-04-01</td>\n      <td>701</td>\n      <td>BEDOK</td>\n      <td>BEDOK RESERVOIR RD</td>\n      <td>10 TO 12</td>\n      <td>10</td>\n      <td>12</td>\n      <td>New Generation</td>\n      <td>4 ROOM</td>\n      <td>...</td>\n      <td>93.0</td>\n      <td>1980</td>\n      <td>64</td>\n      <td>64</td>\n      <td>0.0</td>\n      <td>400000.0</td>\n      <td>1310.967700</td>\n      <td>4301.075269</td>\n      <td>20.483870</td>\n      <td>67.204301</td>\n    </tr>\n    <tr>\n      <th>...</th>\n      <td>...</td>\n      <td>...</td>\n      <td>...</td>\n      <td>...</td>\n      <td>...</td>\n      <td>...</td>\n      <td>...</td>\n      <td>...</td>\n      <td>...</td>\n      <td>...</td>\n      <td>...</td>\n      <td>...</td>\n      <td>...</td>\n      <td>...</td>\n      <td>...</td>\n      <td>...</td>\n      <td>...</td>\n      <td>...</td>\n      <td>...</td>\n      <td>...</td>\n      <td>...</td>\n    </tr>\n    <tr>\n      <th>1520821</th>\n      <td>2022_01_676A_JURONG_WEST_ST_64_07_TO_09</td>\n      <td>2022-01-01</td>\n      <td>676A</td>\n      <td>JURONG WEST</td>\n      <td>JURONG WEST ST 64</td>\n      <td>07 TO 09</td>\n      <td>7</td>\n      <td>9</td>\n      <td>Premium Apartment</td>\n      <td>5 ROOM</td>\n      <td>...</td>\n      <td>111.0</td>\n      <td>2008</td>\n      <td>85 years 06 months</td>\n      <td>85</td>\n      <td>6.0</td>\n      <td>508000.0</td>\n      <td>1394.940496</td>\n      <td>4576.576577</td>\n      <td>16.411065</td>\n      <td>53.842077</td>\n    </tr>\n    <tr>\n      <th>1520860</th>\n      <td>2022_01_676A_JURONG_WEST_ST_64_07_TO_09</td>\n      <td>2022-01-01</td>\n      <td>676A</td>\n      <td>JURONG WEST</td>\n      <td>JURONG WEST ST 64</td>\n      <td>07 TO 09</td>\n      <td>7</td>\n      <td>9</td>\n      <td>Premium Apartment</td>\n      <td>5 ROOM</td>\n      <td>...</td>\n      <td>111.0</td>\n      <td>2008</td>\n      <td>85 years 06 months</td>\n      <td>85</td>\n      <td>6.0</td>\n      <td>508000.0</td>\n      <td>1394.940496</td>\n      <td>4576.576577</td>\n      <td>16.411065</td>\n      <td>53.842077</td>\n    </tr>\n    <tr>\n      <th>1523242</th>\n      <td>2022_02_664B_PUNGGOL_DR_13_TO_15</td>\n      <td>2022-02-01</td>\n      <td>664B</td>\n      <td>PUNGGOL</td>\n      <td>PUNGGOL DR</td>\n      <td>13 TO 15</td>\n      <td>13</td>\n      <td>15</td>\n      <td>Model A</td>\n      <td>4 ROOM</td>\n      <td>...</td>\n      <td>90.0</td>\n      <td>2016</td>\n      <td>93 years 05 months</td>\n      <td>93</td>\n      <td>5.0</td>\n      <td>540000.0</td>\n      <td>1828.799941</td>\n      <td>6000.000000</td>\n      <td>19.664515</td>\n      <td>64.516129</td>\n    </tr>\n    <tr>\n      <th>1523253</th>\n      <td>2022_02_664B_PUNGGOL_DR_13_TO_15</td>\n      <td>2022-02-01</td>\n      <td>664B</td>\n      <td>PUNGGOL</td>\n      <td>PUNGGOL DR</td>\n      <td>13 TO 15</td>\n      <td>13</td>\n      <td>15</td>\n      <td>Model A</td>\n      <td>4 ROOM</td>\n      <td>...</td>\n      <td>90.0</td>\n      <td>2016</td>\n      <td>93 years 04 months</td>\n      <td>93</td>\n      <td>4.0</td>\n      <td>520000.0</td>\n      <td>1761.066610</td>\n      <td>5777.777778</td>\n      <td>18.936200</td>\n      <td>62.126643</td>\n    </tr>\n    <tr>\n      <th>1523276</th>\n      <td>2022_02_664B_PUNGGOL_DR_13_TO_15</td>\n      <td>2022-02-01</td>\n      <td>664B</td>\n      <td>PUNGGOL</td>\n      <td>PUNGGOL DR</td>\n      <td>13 TO 15</td>\n      <td>13</td>\n      <td>15</td>\n      <td>Model A</td>\n      <td>4 ROOM</td>\n      <td>...</td>\n      <td>90.0</td>\n      <td>2016</td>\n      <td>93 years 04 months</td>\n      <td>93</td>\n      <td>4.0</td>\n      <td>520000.0</td>\n      <td>1761.066610</td>\n      <td>5777.777778</td>\n      <td>18.936200</td>\n      <td>62.126643</td>\n    </tr>\n  </tbody>\n</table>\n<p>566 rows × 21 columns</p>\n</div>"
     },
     "execution_count": 9,
     "metadata": {},
     "output_type": "execute_result"
    }
   ],
   "source": [
    "df[df['id'].isin(dups[dups['size'] > 1]['id'])]"
   ],
   "metadata": {
    "collapsed": false,
    "pycharm": {
     "name": "#%%\n"
    }
   }
  },
  {
   "cell_type": "code",
   "execution_count": 15,
   "outputs": [],
   "source": [
    "## resale_prices_norm"
   ],
   "metadata": {
    "collapsed": false,
    "pycharm": {
     "name": "#%%\n"
    }
   }
  },
  {
   "cell_type": "code",
   "execution_count": 16,
   "outputs": [],
   "source": [
    "sql = \"\"\"select * from resale_prices_norm\"\"\"\n",
    "\n",
    "\n",
    "engine = create_engine(f'postgresql+psycopg2://{Capstone_AWS_PG.username}:{Capstone_AWS_PG.password}@{Capstone_AWS_PG.host}/capstone', echo=False)\n",
    "\n",
    "with engine.connect() as cnxn:\n",
    "    norm = pd.read_sql(sql, cnxn)"
   ],
   "metadata": {
    "collapsed": false,
    "pycharm": {
     "name": "#%%\n"
    }
   }
  },
  {
   "cell_type": "code",
   "execution_count": 17,
   "outputs": [
    {
     "data": {
      "text/plain": "(1524524, 26)"
     },
     "execution_count": 17,
     "metadata": {},
     "output_type": "execute_result"
    }
   ],
   "source": [
    "norm.shape"
   ],
   "metadata": {
    "collapsed": false,
    "pycharm": {
     "name": "#%%\n"
    }
   }
  },
  {
   "cell_type": "code",
   "execution_count": 52,
   "outputs": [
    {
     "data": {
      "text/plain": "808654"
     },
     "execution_count": 52,
     "metadata": {},
     "output_type": "execute_result"
    }
   ],
   "source": [
    "len(norm['resale_prices_norm_id'].unique())"
   ],
   "metadata": {
    "collapsed": false,
    "pycharm": {
     "name": "#%%\n"
    }
   }
  },
  {
   "cell_type": "code",
   "execution_count": 55,
   "outputs": [
    {
     "data": {
      "text/plain": "             month block           town       street_name storey_range  \\\n0       1990-01-01   309     ANG MO KIO  ANG MO KIO AVE 1     10 TO 12   \n1       1990-01-01   307       CLEMENTI    CLEMENTI AVE 4     01 TO 03   \n2       1990-01-01   309       CLEMENTI    CLEMENTI AVE 4     04 TO 06   \n3       1990-01-01   309       CLEMENTI    CLEMENTI AVE 4     10 TO 12   \n4       1990-01-01   310       CLEMENTI    CLEMENTI AVE 4     04 TO 06   \n...            ...   ...            ...               ...          ...   \n1524519 2022-03-01  501B         YISHUN      YISHUN ST 51     07 TO 09   \n1524520 2022-03-01   820         YISHUN      YISHUN ST 81     07 TO 09   \n1524521 2022-03-01   359         YISHUN    YISHUN RING RD     01 TO 03   \n1524522 2022-03-01   751         YISHUN      YISHUN ST 72     04 TO 06   \n1524523 2022-03-01   149  BUKIT PANJANG          PETIR RD     01 TO 03   \n\n         storey_range_min  storey_range_max      flat_model  flat_type  \\\n0                      10                12        IMPROVED     1 ROOM   \n1                       1                 3  NEW GENERATION     3 ROOM   \n2                       4                 6  NEW GENERATION     3 ROOM   \n3                      10                12  NEW GENERATION     3 ROOM   \n4                       4                 6  NEW GENERATION     3 ROOM   \n...                   ...               ...             ...        ...   \n1524519                 7                 9        Improved     5 ROOM   \n1524520                 7                 9        Improved     5 ROOM   \n1524521                 1                 3       Apartment  EXECUTIVE   \n1524522                 4                 6  New Generation     4 ROOM   \n1524523                 1                 3         Model A     4 ROOM   \n\n         n_rooms  ...  price_per_sq_ft  price_per_sq_m  \\\n0            1.0  ...        88.490320      290.322581   \n1            3.0  ...       213.814919      701.492537   \n2            3.0  ...       211.873164      695.121951   \n3            3.0  ...       154.674622      507.462687   \n4            3.0  ...       213.814919      701.492537   \n...          ...  ...              ...             ...   \n1524519      5.0  ...      1774.371372     5821.428571   \n1524520      5.0  ...      1461.540937     4795.081967   \n1524521      NaN  ...      1433.610989     4703.448276   \n1524522      4.0  ...      1534.048303     5032.967033   \n1524523      4.0  ...      1242.873747     4077.669903   \n\n        price_per_sq_ft_per_lease_yr  price_per_sq_m_per_lease_yr  \\\n0                           1.028957                     3.375844   \n1                           2.429715                     7.971506   \n2                           2.380597                     7.810359   \n3                           1.737917                     5.701828   \n4                           2.402415                     7.881939   \n...                              ...                          ...   \n1524519                    18.677593                    61.278195   \n1524520                    22.485245                    73.770492   \n1524521                    22.055554                    72.360743   \n1524522                    25.148333                    82.507656   \n1524523                    19.121135                    62.733383   \n\n         resale_price_norm  price_per_sq_ft_norm  \\\n0             55777.777778            548.421488   \n1            291283.950617           1325.124557   \n2            353259.259259           1313.090473   \n3            210716.049383            958.600743   \n4            291283.950617           1325.124557   \n...                    ...                   ...   \n1524519                NaN                   NaN   \n1524520                NaN                   NaN   \n1524521                NaN                   NaN   \n1524522                NaN                   NaN   \n1524523                NaN                   NaN   \n\n         price_per_sq_ft_per_lease_yr_norm  price_per_sq_m_norm  \\\n0                                 6.376994          1799.283154   \n1                                15.058234          4347.521651   \n2                                14.753826          4308.039747   \n3                                10.770795          3145.015662   \n4                                14.889040          4347.521651   \n...                                    ...                  ...   \n1524519                                NaN                  NaN   \n1524520                                NaN                  NaN   \n1524521                                NaN                  NaN   \n1524522                                NaN                  NaN   \n1524523                                NaN                  NaN   \n\n         price_per_sq_m_per_lease_yr_norm          join_address  \n0                               20.921897  309 ANG MO KIO AVE 1  \n1                               49.403655    307 CLEMENTI AVE 4  \n2                               48.404941    309 CLEMENTI AVE 4  \n3                               35.337255    309 CLEMENTI AVE 4  \n4                               48.848558    310 CLEMENTI AVE 4  \n...                                   ...                   ...  \n1524519                               NaN     501B YISHUN ST 51  \n1524520                               NaN      820 YISHUN ST 81  \n1524521                               NaN    359 YISHUN RING RD  \n1524522                               NaN      751 YISHUN ST 72  \n1524523                               NaN          149 PETIR RD  \n\n[865814 rows x 26 columns]",
      "text/html": "<div>\n<style scoped>\n    .dataframe tbody tr th:only-of-type {\n        vertical-align: middle;\n    }\n\n    .dataframe tbody tr th {\n        vertical-align: top;\n    }\n\n    .dataframe thead th {\n        text-align: right;\n    }\n</style>\n<table border=\"1\" class=\"dataframe\">\n  <thead>\n    <tr style=\"text-align: right;\">\n      <th></th>\n      <th>month</th>\n      <th>block</th>\n      <th>town</th>\n      <th>street_name</th>\n      <th>storey_range</th>\n      <th>storey_range_min</th>\n      <th>storey_range_max</th>\n      <th>flat_model</th>\n      <th>flat_type</th>\n      <th>n_rooms</th>\n      <th>...</th>\n      <th>price_per_sq_ft</th>\n      <th>price_per_sq_m</th>\n      <th>price_per_sq_ft_per_lease_yr</th>\n      <th>price_per_sq_m_per_lease_yr</th>\n      <th>resale_price_norm</th>\n      <th>price_per_sq_ft_norm</th>\n      <th>price_per_sq_ft_per_lease_yr_norm</th>\n      <th>price_per_sq_m_norm</th>\n      <th>price_per_sq_m_per_lease_yr_norm</th>\n      <th>join_address</th>\n    </tr>\n  </thead>\n  <tbody>\n    <tr>\n      <th>0</th>\n      <td>1990-01-01</td>\n      <td>309</td>\n      <td>ANG MO KIO</td>\n      <td>ANG MO KIO AVE 1</td>\n      <td>10 TO 12</td>\n      <td>10</td>\n      <td>12</td>\n      <td>IMPROVED</td>\n      <td>1 ROOM</td>\n      <td>1.0</td>\n      <td>...</td>\n      <td>88.490320</td>\n      <td>290.322581</td>\n      <td>1.028957</td>\n      <td>3.375844</td>\n      <td>55777.777778</td>\n      <td>548.421488</td>\n      <td>6.376994</td>\n      <td>1799.283154</td>\n      <td>20.921897</td>\n      <td>309 ANG MO KIO AVE 1</td>\n    </tr>\n    <tr>\n      <th>1</th>\n      <td>1990-01-01</td>\n      <td>307</td>\n      <td>CLEMENTI</td>\n      <td>CLEMENTI AVE 4</td>\n      <td>01 TO 03</td>\n      <td>1</td>\n      <td>3</td>\n      <td>NEW GENERATION</td>\n      <td>3 ROOM</td>\n      <td>3.0</td>\n      <td>...</td>\n      <td>213.814919</td>\n      <td>701.492537</td>\n      <td>2.429715</td>\n      <td>7.971506</td>\n      <td>291283.950617</td>\n      <td>1325.124557</td>\n      <td>15.058234</td>\n      <td>4347.521651</td>\n      <td>49.403655</td>\n      <td>307 CLEMENTI AVE 4</td>\n    </tr>\n    <tr>\n      <th>2</th>\n      <td>1990-01-01</td>\n      <td>309</td>\n      <td>CLEMENTI</td>\n      <td>CLEMENTI AVE 4</td>\n      <td>04 TO 06</td>\n      <td>4</td>\n      <td>6</td>\n      <td>NEW GENERATION</td>\n      <td>3 ROOM</td>\n      <td>3.0</td>\n      <td>...</td>\n      <td>211.873164</td>\n      <td>695.121951</td>\n      <td>2.380597</td>\n      <td>7.810359</td>\n      <td>353259.259259</td>\n      <td>1313.090473</td>\n      <td>14.753826</td>\n      <td>4308.039747</td>\n      <td>48.404941</td>\n      <td>309 CLEMENTI AVE 4</td>\n    </tr>\n    <tr>\n      <th>3</th>\n      <td>1990-01-01</td>\n      <td>309</td>\n      <td>CLEMENTI</td>\n      <td>CLEMENTI AVE 4</td>\n      <td>10 TO 12</td>\n      <td>10</td>\n      <td>12</td>\n      <td>NEW GENERATION</td>\n      <td>3 ROOM</td>\n      <td>3.0</td>\n      <td>...</td>\n      <td>154.674622</td>\n      <td>507.462687</td>\n      <td>1.737917</td>\n      <td>5.701828</td>\n      <td>210716.049383</td>\n      <td>958.600743</td>\n      <td>10.770795</td>\n      <td>3145.015662</td>\n      <td>35.337255</td>\n      <td>309 CLEMENTI AVE 4</td>\n    </tr>\n    <tr>\n      <th>4</th>\n      <td>1990-01-01</td>\n      <td>310</td>\n      <td>CLEMENTI</td>\n      <td>CLEMENTI AVE 4</td>\n      <td>04 TO 06</td>\n      <td>4</td>\n      <td>6</td>\n      <td>NEW GENERATION</td>\n      <td>3 ROOM</td>\n      <td>3.0</td>\n      <td>...</td>\n      <td>213.814919</td>\n      <td>701.492537</td>\n      <td>2.402415</td>\n      <td>7.881939</td>\n      <td>291283.950617</td>\n      <td>1325.124557</td>\n      <td>14.889040</td>\n      <td>4347.521651</td>\n      <td>48.848558</td>\n      <td>310 CLEMENTI AVE 4</td>\n    </tr>\n    <tr>\n      <th>...</th>\n      <td>...</td>\n      <td>...</td>\n      <td>...</td>\n      <td>...</td>\n      <td>...</td>\n      <td>...</td>\n      <td>...</td>\n      <td>...</td>\n      <td>...</td>\n      <td>...</td>\n      <td>...</td>\n      <td>...</td>\n      <td>...</td>\n      <td>...</td>\n      <td>...</td>\n      <td>...</td>\n      <td>...</td>\n      <td>...</td>\n      <td>...</td>\n      <td>...</td>\n      <td>...</td>\n    </tr>\n    <tr>\n      <th>1524519</th>\n      <td>2022-03-01</td>\n      <td>501B</td>\n      <td>YISHUN</td>\n      <td>YISHUN ST 51</td>\n      <td>07 TO 09</td>\n      <td>7</td>\n      <td>9</td>\n      <td>Improved</td>\n      <td>5 ROOM</td>\n      <td>5.0</td>\n      <td>...</td>\n      <td>1774.371372</td>\n      <td>5821.428571</td>\n      <td>18.677593</td>\n      <td>61.278195</td>\n      <td>NaN</td>\n      <td>NaN</td>\n      <td>NaN</td>\n      <td>NaN</td>\n      <td>NaN</td>\n      <td>501B YISHUN ST 51</td>\n    </tr>\n    <tr>\n      <th>1524520</th>\n      <td>2022-03-01</td>\n      <td>820</td>\n      <td>YISHUN</td>\n      <td>YISHUN ST 81</td>\n      <td>07 TO 09</td>\n      <td>7</td>\n      <td>9</td>\n      <td>Improved</td>\n      <td>5 ROOM</td>\n      <td>5.0</td>\n      <td>...</td>\n      <td>1461.540937</td>\n      <td>4795.081967</td>\n      <td>22.485245</td>\n      <td>73.770492</td>\n      <td>NaN</td>\n      <td>NaN</td>\n      <td>NaN</td>\n      <td>NaN</td>\n      <td>NaN</td>\n      <td>820 YISHUN ST 81</td>\n    </tr>\n    <tr>\n      <th>1524521</th>\n      <td>2022-03-01</td>\n      <td>359</td>\n      <td>YISHUN</td>\n      <td>YISHUN RING RD</td>\n      <td>01 TO 03</td>\n      <td>1</td>\n      <td>3</td>\n      <td>Apartment</td>\n      <td>EXECUTIVE</td>\n      <td>NaN</td>\n      <td>...</td>\n      <td>1433.610989</td>\n      <td>4703.448276</td>\n      <td>22.055554</td>\n      <td>72.360743</td>\n      <td>NaN</td>\n      <td>NaN</td>\n      <td>NaN</td>\n      <td>NaN</td>\n      <td>NaN</td>\n      <td>359 YISHUN RING RD</td>\n    </tr>\n    <tr>\n      <th>1524522</th>\n      <td>2022-03-01</td>\n      <td>751</td>\n      <td>YISHUN</td>\n      <td>YISHUN ST 72</td>\n      <td>04 TO 06</td>\n      <td>4</td>\n      <td>6</td>\n      <td>New Generation</td>\n      <td>4 ROOM</td>\n      <td>4.0</td>\n      <td>...</td>\n      <td>1534.048303</td>\n      <td>5032.967033</td>\n      <td>25.148333</td>\n      <td>82.507656</td>\n      <td>NaN</td>\n      <td>NaN</td>\n      <td>NaN</td>\n      <td>NaN</td>\n      <td>NaN</td>\n      <td>751 YISHUN ST 72</td>\n    </tr>\n    <tr>\n      <th>1524523</th>\n      <td>2022-03-01</td>\n      <td>149</td>\n      <td>BUKIT PANJANG</td>\n      <td>PETIR RD</td>\n      <td>01 TO 03</td>\n      <td>1</td>\n      <td>3</td>\n      <td>Model A</td>\n      <td>4 ROOM</td>\n      <td>4.0</td>\n      <td>...</td>\n      <td>1242.873747</td>\n      <td>4077.669903</td>\n      <td>19.121135</td>\n      <td>62.733383</td>\n      <td>NaN</td>\n      <td>NaN</td>\n      <td>NaN</td>\n      <td>NaN</td>\n      <td>NaN</td>\n      <td>149 PETIR RD</td>\n    </tr>\n  </tbody>\n</table>\n<p>865814 rows × 26 columns</p>\n</div>"
     },
     "execution_count": 55,
     "metadata": {},
     "output_type": "execute_result"
    }
   ],
   "source": [
    "norm.iloc[:, 1:].drop_duplicates()"
   ],
   "metadata": {
    "collapsed": false,
    "pycharm": {
     "name": "#%%\n"
    }
   }
  },
  {
   "cell_type": "code",
   "execution_count": 19,
   "outputs": [
    {
     "data": {
      "text/plain": "Index(['resale_prices_norm_id', 'month', 'block', 'town', 'street_name',\n       'storey_range', 'storey_range_min', 'storey_range_max', 'flat_model',\n       'flat_type', 'n_rooms', 'floor_area_sqm', 'lease_commence_date',\n       'remaining_lease', 'remaining_lease_years', 'remaining_lease_months',\n       'resale_price', 'price_per_sq_ft', 'price_per_sq_m',\n       'price_per_sq_ft_per_lease_yr', 'price_per_sq_m_per_lease_yr',\n       'resale_price_norm', 'price_per_sq_ft_norm',\n       'price_per_sq_ft_per_lease_yr_norm', 'price_per_sq_m_norm',\n       'price_per_sq_m_per_lease_yr_norm'],\n      dtype='object')"
     },
     "execution_count": 19,
     "metadata": {},
     "output_type": "execute_result"
    }
   ],
   "source": [
    "norm.columns"
   ],
   "metadata": {
    "collapsed": false,
    "pycharm": {
     "name": "#%%\n"
    }
   }
  },
  {
   "cell_type": "code",
   "execution_count": 20,
   "outputs": [
    {
     "data": {
      "text/plain": "                           resale_prices_norm_id  n_appearnaces\n0                   1997_08_10_JLN_BATU_01_TO_03             32\n1                   1997_08_11_JLN_BATU_01_TO_03             30\n2           2009_02_5_CHANGI_VILLAGE_RD_01_TO_03             24\n3           2009_01_5_CHANGI_VILLAGE_RD_01_TO_03             24\n4           2009_02_5_CHANGI_VILLAGE_RD_04_TO_06             18\n...                                          ...            ...\n613003       1999_01_547_BEDOK_NTH_ST_3_13_TO_15              2\n613004  1999_01_562_CHOA_CHU_KANG_ST_52_04_TO_06              2\n613005         1998_12_820_YISHUN_ST_81_01_TO_03              2\n613006     1999_01_562_ANG_MO_KIO_AVE_3_13_TO_15              2\n613007     1999_01_562_ANG_MO_KIO_AVE_3_04_TO_06              2\n\n[613008 rows x 2 columns]",
      "text/html": "<div>\n<style scoped>\n    .dataframe tbody tr th:only-of-type {\n        vertical-align: middle;\n    }\n\n    .dataframe tbody tr th {\n        vertical-align: top;\n    }\n\n    .dataframe thead th {\n        text-align: right;\n    }\n</style>\n<table border=\"1\" class=\"dataframe\">\n  <thead>\n    <tr style=\"text-align: right;\">\n      <th></th>\n      <th>resale_prices_norm_id</th>\n      <th>n_appearnaces</th>\n    </tr>\n  </thead>\n  <tbody>\n    <tr>\n      <th>0</th>\n      <td>1997_08_10_JLN_BATU_01_TO_03</td>\n      <td>32</td>\n    </tr>\n    <tr>\n      <th>1</th>\n      <td>1997_08_11_JLN_BATU_01_TO_03</td>\n      <td>30</td>\n    </tr>\n    <tr>\n      <th>2</th>\n      <td>2009_02_5_CHANGI_VILLAGE_RD_01_TO_03</td>\n      <td>24</td>\n    </tr>\n    <tr>\n      <th>3</th>\n      <td>2009_01_5_CHANGI_VILLAGE_RD_01_TO_03</td>\n      <td>24</td>\n    </tr>\n    <tr>\n      <th>4</th>\n      <td>2009_02_5_CHANGI_VILLAGE_RD_04_TO_06</td>\n      <td>18</td>\n    </tr>\n    <tr>\n      <th>...</th>\n      <td>...</td>\n      <td>...</td>\n    </tr>\n    <tr>\n      <th>613003</th>\n      <td>1999_01_547_BEDOK_NTH_ST_3_13_TO_15</td>\n      <td>2</td>\n    </tr>\n    <tr>\n      <th>613004</th>\n      <td>1999_01_562_CHOA_CHU_KANG_ST_52_04_TO_06</td>\n      <td>2</td>\n    </tr>\n    <tr>\n      <th>613005</th>\n      <td>1998_12_820_YISHUN_ST_81_01_TO_03</td>\n      <td>2</td>\n    </tr>\n    <tr>\n      <th>613006</th>\n      <td>1999_01_562_ANG_MO_KIO_AVE_3_13_TO_15</td>\n      <td>2</td>\n    </tr>\n    <tr>\n      <th>613007</th>\n      <td>1999_01_562_ANG_MO_KIO_AVE_3_04_TO_06</td>\n      <td>2</td>\n    </tr>\n  </tbody>\n</table>\n<p>613008 rows × 2 columns</p>\n</div>"
     },
     "execution_count": 20,
     "metadata": {},
     "output_type": "execute_result"
    }
   ],
   "source": [
    "id_counts_norm = norm.value_counts('resale_prices_norm_id').reset_index().rename({0: 'n_appearnaces'}, axis=1)\n",
    "id_counts_norm[id_counts_norm['n_appearnaces'] > 1]"
   ],
   "metadata": {
    "collapsed": false,
    "pycharm": {
     "name": "#%%\n"
    }
   }
  },
  {
   "cell_type": "code",
   "execution_count": 21,
   "outputs": [
    {
     "data": {
      "text/plain": "                            resale_prices_norm_id      month block  \\\n840             2015_01_57_GEYLANG_BAHRU_16_TO_18 2015-01-01    57   \n1715          2015_02_403_TAMPINES_ST_41_07_TO_09 2015-02-01   403   \n4768      2015_04_701_BEDOK_RESERVOIR_RD_10_TO_12 2015-04-01   701   \n4792      2015_04_714_CLEMENTI_WEST_ST_2_10_TO_12 2015-04-01   714   \n5776         2015_05_409_BEDOK_NTH_AVE_2_07_TO_09 2015-05-01   409   \n...                                           ...        ...   ...   \n133011         2021_09_310C_PUNGGOL_WALK_01_TO_03 2021-09-01  310C   \n133039      2021_09_312_ANG_MO_KIO_AVE_3_01_TO_03 2021-09-01   312   \n133049          2021_09_314B_PUNGGOL_WAY_04_TO_06 2021-09-01  314B   \n133651      2021_09_524C_PASIR_RIS_ST_51_10_TO_12 2021-09-01  524C   \n134237  2021_09_812C_CHOA_CHU_KANG_AVE_7_13_TO_15 2021-09-01  812C   \n\n                   town          street_name storey_range  storey_range_min  \\\n840     KALLANG/WHAMPOA        GEYLANG BAHRU     16 TO 18                16   \n1715           TAMPINES       TAMPINES ST 41     07 TO 09                 7   \n4768              BEDOK   BEDOK RESERVOIR RD     10 TO 12                10   \n4792           CLEMENTI   CLEMENTI WEST ST 2     10 TO 12                10   \n5776              BEDOK      BEDOK NTH AVE 2     07 TO 09                 7   \n...                 ...                  ...          ...               ...   \n133011          PUNGGOL         PUNGGOL WALK     01 TO 03                 1   \n133039       ANG MO KIO     ANG MO KIO AVE 3     01 TO 03                 1   \n133049          PUNGGOL          PUNGGOL WAY     04 TO 06                 4   \n133651        PASIR RIS      PASIR RIS ST 51     10 TO 12                10   \n134237    CHOA CHU KANG  CHOA CHU KANG AVE 7     13 TO 15                13   \n\n        storey_range_max         flat_model flat_type  ...  price_per_sq_ft  \\\n840                   18           Improved    3 ROOM  ...      1477.107645   \n1715                   9           Improved    3 ROOM  ...      1546.086907   \n4768                  12     New Generation    4 ROOM  ...      1310.967700   \n4792                  12     New Generation    3 ROOM  ...      1364.776076   \n5776                   9     New Generation    3 ROOM  ...      1523.999951   \n...                  ...                ...       ...  ...              ...   \n133011                 3  Premium Apartment    4 ROOM  ...      1673.086903   \n133039                 3           Improved    5 ROOM  ...      1432.312149   \n133049                 6  Premium Apartment    4 ROOM  ...      1704.258010   \n133651                12            Model A    4 ROOM  ...      1900.903165   \n134237                15            Model A    4 ROOM  ...      1641.619973   \n\n        price_per_sq_m  price_per_sq_ft_per_lease_yr  \\\n840        4846.153846                     25.467373   \n1715       5072.463768                     22.407057   \n4768       4301.075269                     20.483870   \n4792       4477.611940                     21.324626   \n5776       5000.000000                     23.812499   \n...                ...                           ...   \n133011     5489.130435                     17.990182   \n133039     4699.186992                     26.042039   \n133049     5591.397849                     18.130404   \n133651     6236.559140                     20.661991   \n134237     5385.892473                     17.464042   \n\n       price_per_sq_m_per_lease_yr  resale_price_norm  price_per_sq_ft_norm  \\\n840                      83.554377      349845.132743           1640.504508   \n1715                     73.513968      388716.814159           1717.114220   \n4768                     67.204301      446222.222222           1462.457301   \n4792                     69.962687      334666.666667           1522.483533   \n5776                     78.125000      379288.888889           1700.106612   \n...                            ...                ...                   ...   \n133011                   59.022908      505000.000000           1673.086903   \n133039                   85.439763      578000.000000           1432.312149   \n133049                   59.482956      520000.000000           1704.258010   \n133651                   67.788686      580000.000000           1900.903165   \n134237                   57.296728      500888.000000           1641.619973   \n\n        price_per_sq_ft_per_lease_yr_norm  price_per_sq_m_norm  \\\n840                             28.284560          5382.232811   \n1715                            24.885713          5633.577017   \n4768                            22.850895          4798.088411   \n4792                            23.788805          4995.024876   \n5776                            26.564166          5577.777778   \n...                                   ...                  ...   \n133011                          17.990182          5489.130435   \n133039                          26.042039          4699.186992   \n133049                          18.130404          5591.397849   \n133651                          20.661991          6236.559140   \n134237                          17.464042          5385.892473   \n\n        price_per_sq_m_per_lease_yr_norm  size  \n840                            92.797117     2  \n1715                           81.646044     2  \n4768                           74.970131     2  \n4792                           78.047264     2  \n5776                           87.152778     2  \n...                                  ...   ...  \n133011                         59.022908     2  \n133039                         85.439763     2  \n133049                         59.482956     2  \n133651                         67.788686     2  \n134237                         57.296728     2  \n\n[262 rows x 27 columns]",
      "text/html": "<div>\n<style scoped>\n    .dataframe tbody tr th:only-of-type {\n        vertical-align: middle;\n    }\n\n    .dataframe tbody tr th {\n        vertical-align: top;\n    }\n\n    .dataframe thead th {\n        text-align: right;\n    }\n</style>\n<table border=\"1\" class=\"dataframe\">\n  <thead>\n    <tr style=\"text-align: right;\">\n      <th></th>\n      <th>resale_prices_norm_id</th>\n      <th>month</th>\n      <th>block</th>\n      <th>town</th>\n      <th>street_name</th>\n      <th>storey_range</th>\n      <th>storey_range_min</th>\n      <th>storey_range_max</th>\n      <th>flat_model</th>\n      <th>flat_type</th>\n      <th>...</th>\n      <th>price_per_sq_ft</th>\n      <th>price_per_sq_m</th>\n      <th>price_per_sq_ft_per_lease_yr</th>\n      <th>price_per_sq_m_per_lease_yr</th>\n      <th>resale_price_norm</th>\n      <th>price_per_sq_ft_norm</th>\n      <th>price_per_sq_ft_per_lease_yr_norm</th>\n      <th>price_per_sq_m_norm</th>\n      <th>price_per_sq_m_per_lease_yr_norm</th>\n      <th>size</th>\n    </tr>\n  </thead>\n  <tbody>\n    <tr>\n      <th>840</th>\n      <td>2015_01_57_GEYLANG_BAHRU_16_TO_18</td>\n      <td>2015-01-01</td>\n      <td>57</td>\n      <td>KALLANG/WHAMPOA</td>\n      <td>GEYLANG BAHRU</td>\n      <td>16 TO 18</td>\n      <td>16</td>\n      <td>18</td>\n      <td>Improved</td>\n      <td>3 ROOM</td>\n      <td>...</td>\n      <td>1477.107645</td>\n      <td>4846.153846</td>\n      <td>25.467373</td>\n      <td>83.554377</td>\n      <td>349845.132743</td>\n      <td>1640.504508</td>\n      <td>28.284560</td>\n      <td>5382.232811</td>\n      <td>92.797117</td>\n      <td>2</td>\n    </tr>\n    <tr>\n      <th>1715</th>\n      <td>2015_02_403_TAMPINES_ST_41_07_TO_09</td>\n      <td>2015-02-01</td>\n      <td>403</td>\n      <td>TAMPINES</td>\n      <td>TAMPINES ST 41</td>\n      <td>07 TO 09</td>\n      <td>7</td>\n      <td>9</td>\n      <td>Improved</td>\n      <td>3 ROOM</td>\n      <td>...</td>\n      <td>1546.086907</td>\n      <td>5072.463768</td>\n      <td>22.407057</td>\n      <td>73.513968</td>\n      <td>388716.814159</td>\n      <td>1717.114220</td>\n      <td>24.885713</td>\n      <td>5633.577017</td>\n      <td>81.646044</td>\n      <td>2</td>\n    </tr>\n    <tr>\n      <th>4768</th>\n      <td>2015_04_701_BEDOK_RESERVOIR_RD_10_TO_12</td>\n      <td>2015-04-01</td>\n      <td>701</td>\n      <td>BEDOK</td>\n      <td>BEDOK RESERVOIR RD</td>\n      <td>10 TO 12</td>\n      <td>10</td>\n      <td>12</td>\n      <td>New Generation</td>\n      <td>4 ROOM</td>\n      <td>...</td>\n      <td>1310.967700</td>\n      <td>4301.075269</td>\n      <td>20.483870</td>\n      <td>67.204301</td>\n      <td>446222.222222</td>\n      <td>1462.457301</td>\n      <td>22.850895</td>\n      <td>4798.088411</td>\n      <td>74.970131</td>\n      <td>2</td>\n    </tr>\n    <tr>\n      <th>4792</th>\n      <td>2015_04_714_CLEMENTI_WEST_ST_2_10_TO_12</td>\n      <td>2015-04-01</td>\n      <td>714</td>\n      <td>CLEMENTI</td>\n      <td>CLEMENTI WEST ST 2</td>\n      <td>10 TO 12</td>\n      <td>10</td>\n      <td>12</td>\n      <td>New Generation</td>\n      <td>3 ROOM</td>\n      <td>...</td>\n      <td>1364.776076</td>\n      <td>4477.611940</td>\n      <td>21.324626</td>\n      <td>69.962687</td>\n      <td>334666.666667</td>\n      <td>1522.483533</td>\n      <td>23.788805</td>\n      <td>4995.024876</td>\n      <td>78.047264</td>\n      <td>2</td>\n    </tr>\n    <tr>\n      <th>5776</th>\n      <td>2015_05_409_BEDOK_NTH_AVE_2_07_TO_09</td>\n      <td>2015-05-01</td>\n      <td>409</td>\n      <td>BEDOK</td>\n      <td>BEDOK NTH AVE 2</td>\n      <td>07 TO 09</td>\n      <td>7</td>\n      <td>9</td>\n      <td>New Generation</td>\n      <td>3 ROOM</td>\n      <td>...</td>\n      <td>1523.999951</td>\n      <td>5000.000000</td>\n      <td>23.812499</td>\n      <td>78.125000</td>\n      <td>379288.888889</td>\n      <td>1700.106612</td>\n      <td>26.564166</td>\n      <td>5577.777778</td>\n      <td>87.152778</td>\n      <td>2</td>\n    </tr>\n    <tr>\n      <th>...</th>\n      <td>...</td>\n      <td>...</td>\n      <td>...</td>\n      <td>...</td>\n      <td>...</td>\n      <td>...</td>\n      <td>...</td>\n      <td>...</td>\n      <td>...</td>\n      <td>...</td>\n      <td>...</td>\n      <td>...</td>\n      <td>...</td>\n      <td>...</td>\n      <td>...</td>\n      <td>...</td>\n      <td>...</td>\n      <td>...</td>\n      <td>...</td>\n      <td>...</td>\n      <td>...</td>\n    </tr>\n    <tr>\n      <th>133011</th>\n      <td>2021_09_310C_PUNGGOL_WALK_01_TO_03</td>\n      <td>2021-09-01</td>\n      <td>310C</td>\n      <td>PUNGGOL</td>\n      <td>PUNGGOL WALK</td>\n      <td>01 TO 03</td>\n      <td>1</td>\n      <td>3</td>\n      <td>Premium Apartment</td>\n      <td>4 ROOM</td>\n      <td>...</td>\n      <td>1673.086903</td>\n      <td>5489.130435</td>\n      <td>17.990182</td>\n      <td>59.022908</td>\n      <td>505000.000000</td>\n      <td>1673.086903</td>\n      <td>17.990182</td>\n      <td>5489.130435</td>\n      <td>59.022908</td>\n      <td>2</td>\n    </tr>\n    <tr>\n      <th>133039</th>\n      <td>2021_09_312_ANG_MO_KIO_AVE_3_01_TO_03</td>\n      <td>2021-09-01</td>\n      <td>312</td>\n      <td>ANG MO KIO</td>\n      <td>ANG MO KIO AVE 3</td>\n      <td>01 TO 03</td>\n      <td>1</td>\n      <td>3</td>\n      <td>Improved</td>\n      <td>5 ROOM</td>\n      <td>...</td>\n      <td>1432.312149</td>\n      <td>4699.186992</td>\n      <td>26.042039</td>\n      <td>85.439763</td>\n      <td>578000.000000</td>\n      <td>1432.312149</td>\n      <td>26.042039</td>\n      <td>4699.186992</td>\n      <td>85.439763</td>\n      <td>2</td>\n    </tr>\n    <tr>\n      <th>133049</th>\n      <td>2021_09_314B_PUNGGOL_WAY_04_TO_06</td>\n      <td>2021-09-01</td>\n      <td>314B</td>\n      <td>PUNGGOL</td>\n      <td>PUNGGOL WAY</td>\n      <td>04 TO 06</td>\n      <td>4</td>\n      <td>6</td>\n      <td>Premium Apartment</td>\n      <td>4 ROOM</td>\n      <td>...</td>\n      <td>1704.258010</td>\n      <td>5591.397849</td>\n      <td>18.130404</td>\n      <td>59.482956</td>\n      <td>520000.000000</td>\n      <td>1704.258010</td>\n      <td>18.130404</td>\n      <td>5591.397849</td>\n      <td>59.482956</td>\n      <td>2</td>\n    </tr>\n    <tr>\n      <th>133651</th>\n      <td>2021_09_524C_PASIR_RIS_ST_51_10_TO_12</td>\n      <td>2021-09-01</td>\n      <td>524C</td>\n      <td>PASIR RIS</td>\n      <td>PASIR RIS ST 51</td>\n      <td>10 TO 12</td>\n      <td>10</td>\n      <td>12</td>\n      <td>Model A</td>\n      <td>4 ROOM</td>\n      <td>...</td>\n      <td>1900.903165</td>\n      <td>6236.559140</td>\n      <td>20.661991</td>\n      <td>67.788686</td>\n      <td>580000.000000</td>\n      <td>1900.903165</td>\n      <td>20.661991</td>\n      <td>6236.559140</td>\n      <td>67.788686</td>\n      <td>2</td>\n    </tr>\n    <tr>\n      <th>134237</th>\n      <td>2021_09_812C_CHOA_CHU_KANG_AVE_7_13_TO_15</td>\n      <td>2021-09-01</td>\n      <td>812C</td>\n      <td>CHOA CHU KANG</td>\n      <td>CHOA CHU KANG AVE 7</td>\n      <td>13 TO 15</td>\n      <td>13</td>\n      <td>15</td>\n      <td>Model A</td>\n      <td>4 ROOM</td>\n      <td>...</td>\n      <td>1641.619973</td>\n      <td>5385.892473</td>\n      <td>17.464042</td>\n      <td>57.296728</td>\n      <td>500888.000000</td>\n      <td>1641.619973</td>\n      <td>17.464042</td>\n      <td>5385.892473</td>\n      <td>57.296728</td>\n      <td>2</td>\n    </tr>\n  </tbody>\n</table>\n<p>262 rows × 27 columns</p>\n</div>"
     },
     "execution_count": 21,
     "metadata": {},
     "output_type": "execute_result"
    }
   ],
   "source": [
    "dups_norm = norm.groupby(norm.columns.tolist(), as_index=False).size()\n",
    "dups_norm[dups_norm['size'] > 1].sort_values('resale_prices_norm_id')"
   ],
   "metadata": {
    "collapsed": false,
    "pycharm": {
     "name": "#%%\n"
    }
   }
  },
  {
   "cell_type": "code",
   "execution_count": 22,
   "outputs": [
    {
     "data": {
      "text/plain": "                           resale_prices_norm_id      month block  \\\n1366542        2015_01_57_GEYLANG_BAHRU_16_TO_18 2015-01-01    57   \n1366558        2015_01_57_GEYLANG_BAHRU_16_TO_18 2015-01-01    57   \n1368061      2015_02_403_TAMPINES_ST_41_07_TO_09 2015-02-01   403   \n1368081      2015_02_403_TAMPINES_ST_41_07_TO_09 2015-02-01   403   \n1369772  2015_04_701_BEDOK_RESERVOIR_RD_10_TO_12 2015-04-01   701   \n...                                          ...        ...   ...   \n1511146        2021_09_314B_PUNGGOL_WAY_04_TO_06 2021-09-01  314B   \n1511149        2021_09_217D_SUMANG_WALK_13_TO_15 2021-09-01  217D   \n1511152        2021_09_217D_SUMANG_WALK_13_TO_15 2021-09-01  217D   \n1511220       2021_09_310C_PUNGGOL_WALK_01_TO_03 2021-09-01  310C   \n1511253        2021_09_217D_SUMANG_WALK_13_TO_15 2021-09-01  217D   \n\n                    town         street_name storey_range  storey_range_min  \\\n1366542  KALLANG/WHAMPOA       GEYLANG BAHRU     16 TO 18                16   \n1366558  KALLANG/WHAMPOA       GEYLANG BAHRU     16 TO 18                16   \n1368061         TAMPINES      TAMPINES ST 41     07 TO 09                 7   \n1368081         TAMPINES      TAMPINES ST 41     07 TO 09                 7   \n1369772            BEDOK  BEDOK RESERVOIR RD     10 TO 12                10   \n...                  ...                 ...          ...               ...   \n1511146          PUNGGOL         PUNGGOL WAY     04 TO 06                 4   \n1511149          PUNGGOL         SUMANG WALK     13 TO 15                13   \n1511152          PUNGGOL         SUMANG WALK     13 TO 15                13   \n1511220          PUNGGOL        PUNGGOL WALK     01 TO 03                 1   \n1511253          PUNGGOL         SUMANG WALK     13 TO 15                13   \n\n         storey_range_max         flat_model flat_type  ...  resale_price  \\\n1366542                18           Improved    3 ROOM  ...      315000.0   \n1366558                18           Improved    3 ROOM  ...      315000.0   \n1368061                 9           Improved    3 ROOM  ...      350000.0   \n1368081                 9           Improved    3 ROOM  ...      350000.0   \n1369772                12     New Generation    4 ROOM  ...      400000.0   \n...                   ...                ...       ...  ...           ...   \n1511146                 6  Premium Apartment    4 ROOM  ...      520000.0   \n1511149                15            Model A    4 ROOM  ...      518000.0   \n1511152                15            Model A    4 ROOM  ...      518000.0   \n1511220                 3  Premium Apartment    5 ROOM  ...      600000.0   \n1511253                15           Improved    5 ROOM  ...      595000.0   \n\n         price_per_sq_ft  price_per_sq_m price_per_sq_ft_per_lease_yr  \\\n1366542      1477.107645     4846.153846                    25.467373   \n1366558      1477.107645     4846.153846                    25.467373   \n1368061      1546.086907     5072.463768                    22.407057   \n1368081      1546.086907     5072.463768                    22.407057   \n1369772      1310.967700     4301.075269                    20.483870   \n...                  ...             ...                          ...   \n1511146      1704.258010     5591.397849                    18.130404   \n1511149      1716.156467     5630.434783                    18.256984   \n1511152      1716.156467     5630.434783                    18.256984   \n1511220      1632.857091     5357.142857                    17.557603   \n1511253      1619.249948     5312.500000                    17.226063   \n\n         price_per_sq_m_per_lease_yr  resale_price_norm  price_per_sq_ft_norm  \\\n1366542                    83.554377      349845.132743           1640.504508   \n1366558                    83.554377      349845.132743           1640.504508   \n1368061                    73.513968      388716.814159           1717.114220   \n1368081                    73.513968      388716.814159           1717.114220   \n1369772                    67.204301      446222.222222           1462.457301   \n...                              ...                ...                   ...   \n1511146                    59.482956      520000.000000           1704.258010   \n1511149                    59.898242      518000.000000           1716.156467   \n1511152                    59.898242      518000.000000           1716.156467   \n1511220                    57.603687      600000.000000           1632.857091   \n1511253                    56.515957      595000.000000           1619.249948   \n\n         price_per_sq_ft_per_lease_yr_norm  price_per_sq_m_norm  \\\n1366542                          28.284560          5382.232811   \n1366558                          28.284560          5382.232811   \n1368061                          24.885713          5633.577017   \n1368081                          24.885713          5633.577017   \n1369772                          22.850895          4798.088411   \n...                                    ...                  ...   \n1511146                          18.130404          5591.397849   \n1511149                          18.256984          5630.434783   \n1511152                          18.256984          5630.434783   \n1511220                          17.557603          5357.142857   \n1511253                          17.226063          5312.500000   \n\n         price_per_sq_m_per_lease_yr_norm  \n1366542                         92.797117  \n1366558                         92.797117  \n1368061                         81.646044  \n1368081                         81.646044  \n1369772                         74.970131  \n...                                   ...  \n1511146                         59.482956  \n1511149                         59.898242  \n1511152                         59.898242  \n1511220                         57.603687  \n1511253                         56.515957  \n\n[546 rows x 26 columns]",
      "text/html": "<div>\n<style scoped>\n    .dataframe tbody tr th:only-of-type {\n        vertical-align: middle;\n    }\n\n    .dataframe tbody tr th {\n        vertical-align: top;\n    }\n\n    .dataframe thead th {\n        text-align: right;\n    }\n</style>\n<table border=\"1\" class=\"dataframe\">\n  <thead>\n    <tr style=\"text-align: right;\">\n      <th></th>\n      <th>resale_prices_norm_id</th>\n      <th>month</th>\n      <th>block</th>\n      <th>town</th>\n      <th>street_name</th>\n      <th>storey_range</th>\n      <th>storey_range_min</th>\n      <th>storey_range_max</th>\n      <th>flat_model</th>\n      <th>flat_type</th>\n      <th>...</th>\n      <th>resale_price</th>\n      <th>price_per_sq_ft</th>\n      <th>price_per_sq_m</th>\n      <th>price_per_sq_ft_per_lease_yr</th>\n      <th>price_per_sq_m_per_lease_yr</th>\n      <th>resale_price_norm</th>\n      <th>price_per_sq_ft_norm</th>\n      <th>price_per_sq_ft_per_lease_yr_norm</th>\n      <th>price_per_sq_m_norm</th>\n      <th>price_per_sq_m_per_lease_yr_norm</th>\n    </tr>\n  </thead>\n  <tbody>\n    <tr>\n      <th>1366542</th>\n      <td>2015_01_57_GEYLANG_BAHRU_16_TO_18</td>\n      <td>2015-01-01</td>\n      <td>57</td>\n      <td>KALLANG/WHAMPOA</td>\n      <td>GEYLANG BAHRU</td>\n      <td>16 TO 18</td>\n      <td>16</td>\n      <td>18</td>\n      <td>Improved</td>\n      <td>3 ROOM</td>\n      <td>...</td>\n      <td>315000.0</td>\n      <td>1477.107645</td>\n      <td>4846.153846</td>\n      <td>25.467373</td>\n      <td>83.554377</td>\n      <td>349845.132743</td>\n      <td>1640.504508</td>\n      <td>28.284560</td>\n      <td>5382.232811</td>\n      <td>92.797117</td>\n    </tr>\n    <tr>\n      <th>1366558</th>\n      <td>2015_01_57_GEYLANG_BAHRU_16_TO_18</td>\n      <td>2015-01-01</td>\n      <td>57</td>\n      <td>KALLANG/WHAMPOA</td>\n      <td>GEYLANG BAHRU</td>\n      <td>16 TO 18</td>\n      <td>16</td>\n      <td>18</td>\n      <td>Improved</td>\n      <td>3 ROOM</td>\n      <td>...</td>\n      <td>315000.0</td>\n      <td>1477.107645</td>\n      <td>4846.153846</td>\n      <td>25.467373</td>\n      <td>83.554377</td>\n      <td>349845.132743</td>\n      <td>1640.504508</td>\n      <td>28.284560</td>\n      <td>5382.232811</td>\n      <td>92.797117</td>\n    </tr>\n    <tr>\n      <th>1368061</th>\n      <td>2015_02_403_TAMPINES_ST_41_07_TO_09</td>\n      <td>2015-02-01</td>\n      <td>403</td>\n      <td>TAMPINES</td>\n      <td>TAMPINES ST 41</td>\n      <td>07 TO 09</td>\n      <td>7</td>\n      <td>9</td>\n      <td>Improved</td>\n      <td>3 ROOM</td>\n      <td>...</td>\n      <td>350000.0</td>\n      <td>1546.086907</td>\n      <td>5072.463768</td>\n      <td>22.407057</td>\n      <td>73.513968</td>\n      <td>388716.814159</td>\n      <td>1717.114220</td>\n      <td>24.885713</td>\n      <td>5633.577017</td>\n      <td>81.646044</td>\n    </tr>\n    <tr>\n      <th>1368081</th>\n      <td>2015_02_403_TAMPINES_ST_41_07_TO_09</td>\n      <td>2015-02-01</td>\n      <td>403</td>\n      <td>TAMPINES</td>\n      <td>TAMPINES ST 41</td>\n      <td>07 TO 09</td>\n      <td>7</td>\n      <td>9</td>\n      <td>Improved</td>\n      <td>3 ROOM</td>\n      <td>...</td>\n      <td>350000.0</td>\n      <td>1546.086907</td>\n      <td>5072.463768</td>\n      <td>22.407057</td>\n      <td>73.513968</td>\n      <td>388716.814159</td>\n      <td>1717.114220</td>\n      <td>24.885713</td>\n      <td>5633.577017</td>\n      <td>81.646044</td>\n    </tr>\n    <tr>\n      <th>1369772</th>\n      <td>2015_04_701_BEDOK_RESERVOIR_RD_10_TO_12</td>\n      <td>2015-04-01</td>\n      <td>701</td>\n      <td>BEDOK</td>\n      <td>BEDOK RESERVOIR RD</td>\n      <td>10 TO 12</td>\n      <td>10</td>\n      <td>12</td>\n      <td>New Generation</td>\n      <td>4 ROOM</td>\n      <td>...</td>\n      <td>400000.0</td>\n      <td>1310.967700</td>\n      <td>4301.075269</td>\n      <td>20.483870</td>\n      <td>67.204301</td>\n      <td>446222.222222</td>\n      <td>1462.457301</td>\n      <td>22.850895</td>\n      <td>4798.088411</td>\n      <td>74.970131</td>\n    </tr>\n    <tr>\n      <th>...</th>\n      <td>...</td>\n      <td>...</td>\n      <td>...</td>\n      <td>...</td>\n      <td>...</td>\n      <td>...</td>\n      <td>...</td>\n      <td>...</td>\n      <td>...</td>\n      <td>...</td>\n      <td>...</td>\n      <td>...</td>\n      <td>...</td>\n      <td>...</td>\n      <td>...</td>\n      <td>...</td>\n      <td>...</td>\n      <td>...</td>\n      <td>...</td>\n      <td>...</td>\n      <td>...</td>\n    </tr>\n    <tr>\n      <th>1511146</th>\n      <td>2021_09_314B_PUNGGOL_WAY_04_TO_06</td>\n      <td>2021-09-01</td>\n      <td>314B</td>\n      <td>PUNGGOL</td>\n      <td>PUNGGOL WAY</td>\n      <td>04 TO 06</td>\n      <td>4</td>\n      <td>6</td>\n      <td>Premium Apartment</td>\n      <td>4 ROOM</td>\n      <td>...</td>\n      <td>520000.0</td>\n      <td>1704.258010</td>\n      <td>5591.397849</td>\n      <td>18.130404</td>\n      <td>59.482956</td>\n      <td>520000.000000</td>\n      <td>1704.258010</td>\n      <td>18.130404</td>\n      <td>5591.397849</td>\n      <td>59.482956</td>\n    </tr>\n    <tr>\n      <th>1511149</th>\n      <td>2021_09_217D_SUMANG_WALK_13_TO_15</td>\n      <td>2021-09-01</td>\n      <td>217D</td>\n      <td>PUNGGOL</td>\n      <td>SUMANG WALK</td>\n      <td>13 TO 15</td>\n      <td>13</td>\n      <td>15</td>\n      <td>Model A</td>\n      <td>4 ROOM</td>\n      <td>...</td>\n      <td>518000.0</td>\n      <td>1716.156467</td>\n      <td>5630.434783</td>\n      <td>18.256984</td>\n      <td>59.898242</td>\n      <td>518000.000000</td>\n      <td>1716.156467</td>\n      <td>18.256984</td>\n      <td>5630.434783</td>\n      <td>59.898242</td>\n    </tr>\n    <tr>\n      <th>1511152</th>\n      <td>2021_09_217D_SUMANG_WALK_13_TO_15</td>\n      <td>2021-09-01</td>\n      <td>217D</td>\n      <td>PUNGGOL</td>\n      <td>SUMANG WALK</td>\n      <td>13 TO 15</td>\n      <td>13</td>\n      <td>15</td>\n      <td>Model A</td>\n      <td>4 ROOM</td>\n      <td>...</td>\n      <td>518000.0</td>\n      <td>1716.156467</td>\n      <td>5630.434783</td>\n      <td>18.256984</td>\n      <td>59.898242</td>\n      <td>518000.000000</td>\n      <td>1716.156467</td>\n      <td>18.256984</td>\n      <td>5630.434783</td>\n      <td>59.898242</td>\n    </tr>\n    <tr>\n      <th>1511220</th>\n      <td>2021_09_310C_PUNGGOL_WALK_01_TO_03</td>\n      <td>2021-09-01</td>\n      <td>310C</td>\n      <td>PUNGGOL</td>\n      <td>PUNGGOL WALK</td>\n      <td>01 TO 03</td>\n      <td>1</td>\n      <td>3</td>\n      <td>Premium Apartment</td>\n      <td>5 ROOM</td>\n      <td>...</td>\n      <td>600000.0</td>\n      <td>1632.857091</td>\n      <td>5357.142857</td>\n      <td>17.557603</td>\n      <td>57.603687</td>\n      <td>600000.000000</td>\n      <td>1632.857091</td>\n      <td>17.557603</td>\n      <td>5357.142857</td>\n      <td>57.603687</td>\n    </tr>\n    <tr>\n      <th>1511253</th>\n      <td>2021_09_217D_SUMANG_WALK_13_TO_15</td>\n      <td>2021-09-01</td>\n      <td>217D</td>\n      <td>PUNGGOL</td>\n      <td>SUMANG WALK</td>\n      <td>13 TO 15</td>\n      <td>13</td>\n      <td>15</td>\n      <td>Improved</td>\n      <td>5 ROOM</td>\n      <td>...</td>\n      <td>595000.0</td>\n      <td>1619.249948</td>\n      <td>5312.500000</td>\n      <td>17.226063</td>\n      <td>56.515957</td>\n      <td>595000.000000</td>\n      <td>1619.249948</td>\n      <td>17.226063</td>\n      <td>5312.500000</td>\n      <td>56.515957</td>\n    </tr>\n  </tbody>\n</table>\n<p>546 rows × 26 columns</p>\n</div>"
     },
     "execution_count": 22,
     "metadata": {},
     "output_type": "execute_result"
    }
   ],
   "source": [
    "norm[norm['resale_prices_norm_id'].isin(dups_norm[dups_norm['size'] > 1].sort_values('resale_prices_norm_id')['resale_prices_norm_id'])]"
   ],
   "metadata": {
    "collapsed": false,
    "pycharm": {
     "name": "#%%\n"
    }
   }
  },
  {
   "cell_type": "markdown",
   "source": [
    "## resale_location_features"
   ],
   "metadata": {
    "collapsed": false,
    "pycharm": {
     "name": "#%% md\n"
    }
   }
  },
  {
   "cell_type": "code",
   "execution_count": 25,
   "outputs": [],
   "source": [
    "sql = \"\"\"select * from sg_buildings_location_features\"\"\"\n",
    "\n",
    "\n",
    "engine = create_engine(f'postgresql+psycopg2://{Capstone_AWS_PG.username}:{Capstone_AWS_PG.password}@{Capstone_AWS_PG.host}/capstone', echo=False)\n",
    "\n",
    "with engine.connect() as cnxn:\n",
    "    sg = pd.read_sql(sql, cnxn)"
   ],
   "metadata": {
    "collapsed": false,
    "pycharm": {
     "name": "#%%\n"
    }
   }
  },
  {
   "cell_type": "code",
   "execution_count": 26,
   "outputs": [
    {
     "data": {
      "text/plain": "(142886, 347)"
     },
     "execution_count": 26,
     "metadata": {},
     "output_type": "execute_result"
    }
   ],
   "source": [
    "sg.shape"
   ],
   "metadata": {
    "collapsed": false,
    "pycharm": {
     "name": "#%%\n"
    }
   }
  },
  {
   "cell_type": "code",
   "execution_count": 33,
   "outputs": [
    {
     "data": {
      "text/plain": "                         resale_prices_norm_id      month block  \\\n0        1990_01_309_ANG_MO_KIO_AVE_1_10_TO_12 1990-01-01   309   \n1          1990_01_307_CLEMENTI_AVE_4_01_TO_03 1990-01-01   307   \n2          1990_01_309_CLEMENTI_AVE_4_04_TO_06 1990-01-01   309   \n3          1990_01_309_CLEMENTI_AVE_4_10_TO_12 1990-01-01   309   \n4          1990_01_310_CLEMENTI_AVE_4_04_TO_06 1990-01-01   310   \n...                                        ...        ...   ...   \n1926478      2022_03_820_YISHUN_ST_81_07_TO_09 2022-03-01   820   \n1926479    2022_03_359_YISHUN_RING_RD_01_TO_03 2022-03-01   359   \n1926480      2022_03_751_YISHUN_ST_72_04_TO_06 2022-03-01   751   \n1926481      2022_03_751_YISHUN_ST_72_04_TO_06 2022-03-01   751   \n1926482          2022_03_149_PETIR_RD_01_TO_03 2022-03-01   149   \n\n                  town       street_name storey_range  storey_range_min  \\\n0           ANG MO KIO  ANG MO KIO AVE 1     10 TO 12                10   \n1             CLEMENTI    CLEMENTI AVE 4     01 TO 03                 1   \n2             CLEMENTI    CLEMENTI AVE 4     04 TO 06                 4   \n3             CLEMENTI    CLEMENTI AVE 4     10 TO 12                10   \n4             CLEMENTI    CLEMENTI AVE 4     04 TO 06                 4   \n...                ...               ...          ...               ...   \n1926478         YISHUN      YISHUN ST 81     07 TO 09                 7   \n1926479         YISHUN    YISHUN RING RD     01 TO 03                 1   \n1926480         YISHUN      YISHUN ST 72     04 TO 06                 4   \n1926481         YISHUN      YISHUN ST 72     04 TO 06                 4   \n1926482  BUKIT PANJANG          PETIR RD     01 TO 03                 1   \n\n         storey_range_max      flat_model  flat_type  ...  \\\n0                      12        IMPROVED     1 ROOM  ...   \n1                       3  NEW GENERATION     3 ROOM  ...   \n2                       6  NEW GENERATION     3 ROOM  ...   \n3                      12  NEW GENERATION     3 ROOM  ...   \n4                       6  NEW GENERATION     3 ROOM  ...   \n...                   ...             ...        ...  ...   \n1926478                 9        Improved     5 ROOM  ...   \n1926479                 3       Apartment  EXECUTIVE  ...   \n1926480                 6  New Generation     4 ROOM  ...   \n1926481                 6  New Generation     4 ROOM  ...   \n1926482                 3         Model A     4 ROOM  ...   \n\n         dist_to_con_area_id_239  dist_to_con_area_id_240  \\\n0                            NaN                      NaN   \n1                    5055.625835              6855.178054   \n2                    5039.415827              6877.134084   \n3                    5039.415827              6877.134084   \n4                    4995.399700              6864.595002   \n...                          ...                      ...   \n1926478             15683.802906             14994.140923   \n1926479             17635.213651             16791.687127   \n1926480             17215.047008             16588.501609   \n1926481             17215.990979             16588.689451   \n1926482             10933.584143             11934.066405   \n\n         dist_to_con_area_id_241 dist_to_con_area_id_242  \\\n0                            NaN                     NaN   \n1                    7580.918891            10244.425068   \n2                    7634.803032            10299.894667   \n3                    7634.803032            10299.894667   \n4                    7652.761602            10319.259788   \n...                          ...                     ...   \n1926478             13057.173667            14043.042450   \n1926479             14733.321002            15486.861690   \n1926480             14662.552267            15625.391112   \n1926481             14662.269619            15624.425527   \n1926482             11464.899015            13756.375934   \n\n         dist_to_con_area_id_243  dist_to_con_area_id_244  \\\n0                            NaN                      NaN   \n1                    5941.870234              6311.130467   \n2                    6012.653144              6379.967374   \n3                    6012.653144              6379.967374   \n4                    6049.176524              6414.213486   \n...                          ...                      ...   \n1926478             11211.598049             11412.258469   \n1926479             13002.962729             13176.727971   \n1926480             12809.048556             13013.226089   \n1926481             12809.156960             13013.233960   \n1926482              9258.859595              9634.415304   \n\n         dist_to_con_area_id_245  dist_to_con_area_id_246  \\\n0                            NaN                      NaN   \n1                    5962.357214             10295.245331   \n2                    6037.579608             10358.135878   \n3                    6037.579608             10358.135878   \n4                    6079.310657             10385.403357   \n...                          ...                      ...   \n1926478             10804.743868             13180.667720   \n1926479             12598.594016             14574.006142   \n1926480             12402.072729             14752.175445   \n1926481             12402.183251             14751.070576   \n1926482              8996.107899             13376.275314   \n\n         dist_to_con_area_id_247  dist_to_con_area_id_248  \n0                            NaN                      NaN  \n1                    9040.381671              9335.190456  \n2                    9101.052647              9376.821441  \n3                    9101.052647              9376.821441  \n4                    9126.005477              9382.340748  \n...                          ...                      ...  \n1926478             12877.996597             14951.835718  \n1926479             14386.362877             16538.350935  \n1926480             14470.198662             16553.837691  \n1926481             14469.399118             16553.287653  \n1926482             12398.219017             13567.955876  \n\n[1926483 rows x 374 columns]",
      "text/html": "<div>\n<style scoped>\n    .dataframe tbody tr th:only-of-type {\n        vertical-align: middle;\n    }\n\n    .dataframe tbody tr th {\n        vertical-align: top;\n    }\n\n    .dataframe thead th {\n        text-align: right;\n    }\n</style>\n<table border=\"1\" class=\"dataframe\">\n  <thead>\n    <tr style=\"text-align: right;\">\n      <th></th>\n      <th>resale_prices_norm_id</th>\n      <th>month</th>\n      <th>block</th>\n      <th>town</th>\n      <th>street_name</th>\n      <th>storey_range</th>\n      <th>storey_range_min</th>\n      <th>storey_range_max</th>\n      <th>flat_model</th>\n      <th>flat_type</th>\n      <th>...</th>\n      <th>dist_to_con_area_id_239</th>\n      <th>dist_to_con_area_id_240</th>\n      <th>dist_to_con_area_id_241</th>\n      <th>dist_to_con_area_id_242</th>\n      <th>dist_to_con_area_id_243</th>\n      <th>dist_to_con_area_id_244</th>\n      <th>dist_to_con_area_id_245</th>\n      <th>dist_to_con_area_id_246</th>\n      <th>dist_to_con_area_id_247</th>\n      <th>dist_to_con_area_id_248</th>\n    </tr>\n  </thead>\n  <tbody>\n    <tr>\n      <th>0</th>\n      <td>1990_01_309_ANG_MO_KIO_AVE_1_10_TO_12</td>\n      <td>1990-01-01</td>\n      <td>309</td>\n      <td>ANG MO KIO</td>\n      <td>ANG MO KIO AVE 1</td>\n      <td>10 TO 12</td>\n      <td>10</td>\n      <td>12</td>\n      <td>IMPROVED</td>\n      <td>1 ROOM</td>\n      <td>...</td>\n      <td>NaN</td>\n      <td>NaN</td>\n      <td>NaN</td>\n      <td>NaN</td>\n      <td>NaN</td>\n      <td>NaN</td>\n      <td>NaN</td>\n      <td>NaN</td>\n      <td>NaN</td>\n      <td>NaN</td>\n    </tr>\n    <tr>\n      <th>1</th>\n      <td>1990_01_307_CLEMENTI_AVE_4_01_TO_03</td>\n      <td>1990-01-01</td>\n      <td>307</td>\n      <td>CLEMENTI</td>\n      <td>CLEMENTI AVE 4</td>\n      <td>01 TO 03</td>\n      <td>1</td>\n      <td>3</td>\n      <td>NEW GENERATION</td>\n      <td>3 ROOM</td>\n      <td>...</td>\n      <td>5055.625835</td>\n      <td>6855.178054</td>\n      <td>7580.918891</td>\n      <td>10244.425068</td>\n      <td>5941.870234</td>\n      <td>6311.130467</td>\n      <td>5962.357214</td>\n      <td>10295.245331</td>\n      <td>9040.381671</td>\n      <td>9335.190456</td>\n    </tr>\n    <tr>\n      <th>2</th>\n      <td>1990_01_309_CLEMENTI_AVE_4_04_TO_06</td>\n      <td>1990-01-01</td>\n      <td>309</td>\n      <td>CLEMENTI</td>\n      <td>CLEMENTI AVE 4</td>\n      <td>04 TO 06</td>\n      <td>4</td>\n      <td>6</td>\n      <td>NEW GENERATION</td>\n      <td>3 ROOM</td>\n      <td>...</td>\n      <td>5039.415827</td>\n      <td>6877.134084</td>\n      <td>7634.803032</td>\n      <td>10299.894667</td>\n      <td>6012.653144</td>\n      <td>6379.967374</td>\n      <td>6037.579608</td>\n      <td>10358.135878</td>\n      <td>9101.052647</td>\n      <td>9376.821441</td>\n    </tr>\n    <tr>\n      <th>3</th>\n      <td>1990_01_309_CLEMENTI_AVE_4_10_TO_12</td>\n      <td>1990-01-01</td>\n      <td>309</td>\n      <td>CLEMENTI</td>\n      <td>CLEMENTI AVE 4</td>\n      <td>10 TO 12</td>\n      <td>10</td>\n      <td>12</td>\n      <td>NEW GENERATION</td>\n      <td>3 ROOM</td>\n      <td>...</td>\n      <td>5039.415827</td>\n      <td>6877.134084</td>\n      <td>7634.803032</td>\n      <td>10299.894667</td>\n      <td>6012.653144</td>\n      <td>6379.967374</td>\n      <td>6037.579608</td>\n      <td>10358.135878</td>\n      <td>9101.052647</td>\n      <td>9376.821441</td>\n    </tr>\n    <tr>\n      <th>4</th>\n      <td>1990_01_310_CLEMENTI_AVE_4_04_TO_06</td>\n      <td>1990-01-01</td>\n      <td>310</td>\n      <td>CLEMENTI</td>\n      <td>CLEMENTI AVE 4</td>\n      <td>04 TO 06</td>\n      <td>4</td>\n      <td>6</td>\n      <td>NEW GENERATION</td>\n      <td>3 ROOM</td>\n      <td>...</td>\n      <td>4995.399700</td>\n      <td>6864.595002</td>\n      <td>7652.761602</td>\n      <td>10319.259788</td>\n      <td>6049.176524</td>\n      <td>6414.213486</td>\n      <td>6079.310657</td>\n      <td>10385.403357</td>\n      <td>9126.005477</td>\n      <td>9382.340748</td>\n    </tr>\n    <tr>\n      <th>...</th>\n      <td>...</td>\n      <td>...</td>\n      <td>...</td>\n      <td>...</td>\n      <td>...</td>\n      <td>...</td>\n      <td>...</td>\n      <td>...</td>\n      <td>...</td>\n      <td>...</td>\n      <td>...</td>\n      <td>...</td>\n      <td>...</td>\n      <td>...</td>\n      <td>...</td>\n      <td>...</td>\n      <td>...</td>\n      <td>...</td>\n      <td>...</td>\n      <td>...</td>\n      <td>...</td>\n    </tr>\n    <tr>\n      <th>1926478</th>\n      <td>2022_03_820_YISHUN_ST_81_07_TO_09</td>\n      <td>2022-03-01</td>\n      <td>820</td>\n      <td>YISHUN</td>\n      <td>YISHUN ST 81</td>\n      <td>07 TO 09</td>\n      <td>7</td>\n      <td>9</td>\n      <td>Improved</td>\n      <td>5 ROOM</td>\n      <td>...</td>\n      <td>15683.802906</td>\n      <td>14994.140923</td>\n      <td>13057.173667</td>\n      <td>14043.042450</td>\n      <td>11211.598049</td>\n      <td>11412.258469</td>\n      <td>10804.743868</td>\n      <td>13180.667720</td>\n      <td>12877.996597</td>\n      <td>14951.835718</td>\n    </tr>\n    <tr>\n      <th>1926479</th>\n      <td>2022_03_359_YISHUN_RING_RD_01_TO_03</td>\n      <td>2022-03-01</td>\n      <td>359</td>\n      <td>YISHUN</td>\n      <td>YISHUN RING RD</td>\n      <td>01 TO 03</td>\n      <td>1</td>\n      <td>3</td>\n      <td>Apartment</td>\n      <td>EXECUTIVE</td>\n      <td>...</td>\n      <td>17635.213651</td>\n      <td>16791.687127</td>\n      <td>14733.321002</td>\n      <td>15486.861690</td>\n      <td>13002.962729</td>\n      <td>13176.727971</td>\n      <td>12598.594016</td>\n      <td>14574.006142</td>\n      <td>14386.362877</td>\n      <td>16538.350935</td>\n    </tr>\n    <tr>\n      <th>1926480</th>\n      <td>2022_03_751_YISHUN_ST_72_04_TO_06</td>\n      <td>2022-03-01</td>\n      <td>751</td>\n      <td>YISHUN</td>\n      <td>YISHUN ST 72</td>\n      <td>04 TO 06</td>\n      <td>4</td>\n      <td>6</td>\n      <td>New Generation</td>\n      <td>4 ROOM</td>\n      <td>...</td>\n      <td>17215.047008</td>\n      <td>16588.501609</td>\n      <td>14662.552267</td>\n      <td>15625.391112</td>\n      <td>12809.048556</td>\n      <td>13013.226089</td>\n      <td>12402.072729</td>\n      <td>14752.175445</td>\n      <td>14470.198662</td>\n      <td>16553.837691</td>\n    </tr>\n    <tr>\n      <th>1926481</th>\n      <td>2022_03_751_YISHUN_ST_72_04_TO_06</td>\n      <td>2022-03-01</td>\n      <td>751</td>\n      <td>YISHUN</td>\n      <td>YISHUN ST 72</td>\n      <td>04 TO 06</td>\n      <td>4</td>\n      <td>6</td>\n      <td>New Generation</td>\n      <td>4 ROOM</td>\n      <td>...</td>\n      <td>17215.990979</td>\n      <td>16588.689451</td>\n      <td>14662.269619</td>\n      <td>15624.425527</td>\n      <td>12809.156960</td>\n      <td>13013.233960</td>\n      <td>12402.183251</td>\n      <td>14751.070576</td>\n      <td>14469.399118</td>\n      <td>16553.287653</td>\n    </tr>\n    <tr>\n      <th>1926482</th>\n      <td>2022_03_149_PETIR_RD_01_TO_03</td>\n      <td>2022-03-01</td>\n      <td>149</td>\n      <td>BUKIT PANJANG</td>\n      <td>PETIR RD</td>\n      <td>01 TO 03</td>\n      <td>1</td>\n      <td>3</td>\n      <td>Model A</td>\n      <td>4 ROOM</td>\n      <td>...</td>\n      <td>10933.584143</td>\n      <td>11934.066405</td>\n      <td>11464.899015</td>\n      <td>13756.375934</td>\n      <td>9258.859595</td>\n      <td>9634.415304</td>\n      <td>8996.107899</td>\n      <td>13376.275314</td>\n      <td>12398.219017</td>\n      <td>13567.955876</td>\n    </tr>\n  </tbody>\n</table>\n<p>1926483 rows × 374 columns</p>\n</div>"
     },
     "execution_count": 33,
     "metadata": {},
     "output_type": "execute_result"
    }
   ],
   "source": [
    "norm['join_address'] = norm['block'].astype(str) + ' ' + norm['street_name'].astype(str)\n",
    "sg['join_address'] = sg['blk_no'].astype(str) + ' ' + sg['short_r_name'].astype(str)\n",
    "\n",
    "norm.merge(sg, on='join_address', how='left')"
   ],
   "metadata": {
    "collapsed": false,
    "pycharm": {
     "name": "#%%\n"
    }
   }
  },
  {
   "cell_type": "code",
   "execution_count": 34,
   "outputs": [
    {
     "data": {
      "text/plain": "133290"
     },
     "execution_count": 34,
     "metadata": {},
     "output_type": "execute_result"
    }
   ],
   "source": [
    "len(sg['join_address'].unique())"
   ],
   "metadata": {
    "collapsed": false,
    "pycharm": {
     "name": "#%%\n"
    }
   }
  },
  {
   "cell_type": "code",
   "execution_count": 35,
   "outputs": [
    {
     "data": {
      "text/plain": "9518"
     },
     "execution_count": 35,
     "metadata": {},
     "output_type": "execute_result"
    }
   ],
   "source": [
    "len(norm['join_address'].unique())"
   ],
   "metadata": {
    "collapsed": false,
    "pycharm": {
     "name": "#%%\n"
    }
   }
  },
  {
   "cell_type": "code",
   "execution_count": 36,
   "outputs": [
    {
     "data": {
      "text/plain": "1524524"
     },
     "execution_count": 36,
     "metadata": {},
     "output_type": "execute_result"
    }
   ],
   "source": [
    "len(norm['join_address'].isin(sg['join_address']))"
   ],
   "metadata": {
    "collapsed": false,
    "pycharm": {
     "name": "#%%\n"
    }
   }
  },
  {
   "cell_type": "code",
   "execution_count": 37,
   "outputs": [
    {
     "data": {
      "text/plain": "                join_address  n_appearnaces\n0               500 DOVER RD            132\n1          21 TAMPINES AVE 1             82\n2            535 CLEMENTI RD             80\n3             50 NANYANG AVE             68\n4        1 MOUNT PLEASANT RD             58\n...                      ...            ...\n6200  1000 UPP CHANGI RD NTH              2\n6201       33A SWISS CLUB RD              2\n6202     201A COMPASSVALE DR              2\n6203          55 FLORISSA PK              2\n6204  91 BT BATOK WEST AVE 2              2\n\n[6205 rows x 2 columns]",
      "text/html": "<div>\n<style scoped>\n    .dataframe tbody tr th:only-of-type {\n        vertical-align: middle;\n    }\n\n    .dataframe tbody tr th {\n        vertical-align: top;\n    }\n\n    .dataframe thead th {\n        text-align: right;\n    }\n</style>\n<table border=\"1\" class=\"dataframe\">\n  <thead>\n    <tr style=\"text-align: right;\">\n      <th></th>\n      <th>join_address</th>\n      <th>n_appearnaces</th>\n    </tr>\n  </thead>\n  <tbody>\n    <tr>\n      <th>0</th>\n      <td>500 DOVER RD</td>\n      <td>132</td>\n    </tr>\n    <tr>\n      <th>1</th>\n      <td>21 TAMPINES AVE 1</td>\n      <td>82</td>\n    </tr>\n    <tr>\n      <th>2</th>\n      <td>535 CLEMENTI RD</td>\n      <td>80</td>\n    </tr>\n    <tr>\n      <th>3</th>\n      <td>50 NANYANG AVE</td>\n      <td>68</td>\n    </tr>\n    <tr>\n      <th>4</th>\n      <td>1 MOUNT PLEASANT RD</td>\n      <td>58</td>\n    </tr>\n    <tr>\n      <th>...</th>\n      <td>...</td>\n      <td>...</td>\n    </tr>\n    <tr>\n      <th>6200</th>\n      <td>1000 UPP CHANGI RD NTH</td>\n      <td>2</td>\n    </tr>\n    <tr>\n      <th>6201</th>\n      <td>33A SWISS CLUB RD</td>\n      <td>2</td>\n    </tr>\n    <tr>\n      <th>6202</th>\n      <td>201A COMPASSVALE DR</td>\n      <td>2</td>\n    </tr>\n    <tr>\n      <th>6203</th>\n      <td>55 FLORISSA PK</td>\n      <td>2</td>\n    </tr>\n    <tr>\n      <th>6204</th>\n      <td>91 BT BATOK WEST AVE 2</td>\n      <td>2</td>\n    </tr>\n  </tbody>\n</table>\n<p>6205 rows × 2 columns</p>\n</div>"
     },
     "execution_count": 37,
     "metadata": {},
     "output_type": "execute_result"
    }
   ],
   "source": [
    "# sg['join_address'].value_counts()\n",
    "\n",
    "address_counts_sg= sg.value_counts('join_address').reset_index().rename({0: 'n_appearnaces'}, axis=1)\n",
    "address_counts_sg[address_counts_sg['n_appearnaces'] > 1]"
   ],
   "metadata": {
    "collapsed": false,
    "pycharm": {
     "name": "#%%\n"
    }
   }
  },
  {
   "cell_type": "code",
   "execution_count": 38,
   "outputs": [
    {
     "data": {
      "text/plain": "        sg_buildings_location_features_id  \\\n0                                     118   \n1                                       0   \n2                                       1   \n3                                       2   \n4                                       3   \n...                                   ...   \n142881                             142721   \n142882                             142722   \n142883                             142723   \n142884                             142724   \n142885                             142725   \n\n                                                  address blk_no  \\\n0       20 REPUBLIC AVENUE OCBC NICOLL HIGHWAY MRT STA...     20   \n1       101A BAYFRONT AVENUE TEMPORARY SITE OFFICE SIN...   101A   \n2       1 STRAITS BOULEVARD SINGAPORE CHINESE CULTURAL...      1   \n3       11A STRAITS BOULEVARD TEMPORARY SITE OFFICE SI...    11A   \n4       2 CENTRAL BOULEVARD IOI CENTRAL BOULEVARD TOWE...      2   \n...                                                   ...    ...   \n142881  23 PONGGOL TWENTY-FOURTH AVENUE PONGGOL PARK S...     23   \n142882   25 PONGGOL TWENTY-FOURTH AVENUE SINGAPORE 829494     25   \n142883  27 PONGGOL TWENTY-FOURTH AVENUE PONGGOL PARK S...     27   \n142884   29 PONGGOL TWENTY-FOURTH AVENUE SINGAPORE 829496     29   \n142885  31 PONGGOL TWENTY-FOURTH AVENUE PONGGOL PARK S...     31   \n\n                                 building  latitude   longitude  longtitude  \\\n0         OCBC NICOLL HIGHWAY MRT STATION  1.299587  103.864040  103.864040   \n1                   TEMPORARY SITE OFFICE  1.275697  103.855652  103.855652   \n2       SINGAPORE CHINESE CULTURAL CENTRE  1.275829  103.849576  103.849576   \n3                   TEMPORARY SITE OFFICE  1.274950  103.851665  103.851665   \n4            IOI CENTRAL BOULEVARD TOWERS  1.279777  103.851513  103.851513   \n...                                   ...       ...         ...         ...   \n142881                       PONGGOL PARK  1.418939  103.908908  103.908908   \n142882                                NIL  1.418914  103.909043  103.909043   \n142883                       PONGGOL PARK  1.418928  103.909291  103.909291   \n142884                                NIL  1.419180  103.909259  103.909259   \n142885                       PONGGOL PARK  1.419404  103.909433  103.909433   \n\n        postal                     road_name               short_r_name  ...  \\\n0        38970               REPUBLIC AVENUE               REPUBLIC AVE  ...   \n1        18895               BAYFRONT AVENUE               BAYFRONT AVE  ...   \n2        18906             STRAITS BOULEVARD          STRAITS BOULEVARD  ...   \n3        18907             STRAITS BOULEVARD          STRAITS BOULEVARD  ...   \n4        18916             CENTRAL BOULEVARD          CENTRAL BOULEVARD  ...   \n...        ...                           ...                        ...  ...   \n142881  829493  PONGGOL TWENTY-FOURTH AVENUE  PONGGOL TWENTY-FOURTH AVE  ...   \n142882  829494  PONGGOL TWENTY-FOURTH AVENUE  PONGGOL TWENTY-FOURTH AVE  ...   \n142883  829495  PONGGOL TWENTY-FOURTH AVENUE  PONGGOL TWENTY-FOURTH AVE  ...   \n142884  829496  PONGGOL TWENTY-FOURTH AVENUE  PONGGOL TWENTY-FOURTH AVE  ...   \n142885  829497  PONGGOL TWENTY-FOURTH AVENUE  PONGGOL TWENTY-FOURTH AVE  ...   \n\n       dist_to_con_area_id_240  dist_to_con_area_id_241  \\\n0                  6059.347311              3756.446604   \n1                  4698.611071              3472.336797   \n2                  4023.602031              2948.064284   \n3                  4264.445108              3183.564726   \n4                  4224.178971              2834.639505   \n...                        ...                      ...   \n142881            18758.073747             16244.432449   \n142882            18764.308089             16250.193761   \n142883            18781.252196             16266.396697   \n142884            18802.221259             16287.979222   \n142885            18833.540234             16319.216745   \n\n        dist_to_con_area_id_242 dist_to_con_area_id_243  \\\n0                   1816.802323             5022.351892   \n1                   1280.648451             5607.264711   \n2                   1296.158736             5144.809340   \n3                   1341.734859             5369.673931   \n4                    817.910211             4962.733697   \n...                         ...                     ...   \n142881             15810.303374            15337.504057   \n142882             15813.699759            15345.052577   \n142883             15826.068797            15364.024780   \n142884             15850.274095            15383.096089   \n142885             15880.628544            15414.454733   \n\n        dist_to_con_area_id_244  dist_to_con_area_id_245  \\\n0                   4683.348179              5075.305839   \n1                   5243.410236              5839.706885   \n2                   4787.128765              5407.289369   \n3                   5008.956154              5623.701677   \n4                   4598.936423              5197.159347   \n...                         ...                      ...   \n142881             15338.490052             14979.161428   \n142882             15345.672999             14986.842778   \n142883             15364.089234             15006.016112   \n142884             15383.715302             15024.879661   \n142885             15415.092031             15056.225856   \n\n        dist_to_con_area_id_246  dist_to_con_area_id_247  \\\n0                    942.400600              1807.237816   \n1                   2191.996829              1809.059589   \n2                   2294.937659              1601.665849   \n3                   2327.157978              1735.354855   \n4                   1813.778805              1215.677136   \n...                         ...                      ...   \n142881             14798.871568             15137.537830   \n142882             14802.294340             15141.980410   \n142883             14814.709260             15156.069355   \n142884             14838.887695             15179.203388   \n142885             14869.256843             15210.042398   \n\n        dist_to_con_area_id_248                  join_address  \n0                   3644.091416               20 REPUBLIC AVE  \n1                   1832.377169             101A BAYFRONT AVE  \n2                   1162.333975           1 STRAITS BOULEVARD  \n3                   1410.053853         11A STRAITS BOULEVARD  \n4                   1372.737276           2 CENTRAL BOULEVARD  \n...                         ...                           ...  \n142881             17404.006863  23 PONGGOL TWENTY-FOURTH AVE  \n142882             17408.229852  25 PONGGOL TWENTY-FOURTH AVE  \n142883             17421.956923  27 PONGGOL TWENTY-FOURTH AVE  \n142884             17445.330265  29 PONGGOL TWENTY-FOURTH AVE  \n142885             17476.078577  31 PONGGOL TWENTY-FOURTH AVE  \n\n[142886 rows x 348 columns]",
      "text/html": "<div>\n<style scoped>\n    .dataframe tbody tr th:only-of-type {\n        vertical-align: middle;\n    }\n\n    .dataframe tbody tr th {\n        vertical-align: top;\n    }\n\n    .dataframe thead th {\n        text-align: right;\n    }\n</style>\n<table border=\"1\" class=\"dataframe\">\n  <thead>\n    <tr style=\"text-align: right;\">\n      <th></th>\n      <th>sg_buildings_location_features_id</th>\n      <th>address</th>\n      <th>blk_no</th>\n      <th>building</th>\n      <th>latitude</th>\n      <th>longitude</th>\n      <th>longtitude</th>\n      <th>postal</th>\n      <th>road_name</th>\n      <th>short_r_name</th>\n      <th>...</th>\n      <th>dist_to_con_area_id_240</th>\n      <th>dist_to_con_area_id_241</th>\n      <th>dist_to_con_area_id_242</th>\n      <th>dist_to_con_area_id_243</th>\n      <th>dist_to_con_area_id_244</th>\n      <th>dist_to_con_area_id_245</th>\n      <th>dist_to_con_area_id_246</th>\n      <th>dist_to_con_area_id_247</th>\n      <th>dist_to_con_area_id_248</th>\n      <th>join_address</th>\n    </tr>\n  </thead>\n  <tbody>\n    <tr>\n      <th>0</th>\n      <td>118</td>\n      <td>20 REPUBLIC AVENUE OCBC NICOLL HIGHWAY MRT STA...</td>\n      <td>20</td>\n      <td>OCBC NICOLL HIGHWAY MRT STATION</td>\n      <td>1.299587</td>\n      <td>103.864040</td>\n      <td>103.864040</td>\n      <td>38970</td>\n      <td>REPUBLIC AVENUE</td>\n      <td>REPUBLIC AVE</td>\n      <td>...</td>\n      <td>6059.347311</td>\n      <td>3756.446604</td>\n      <td>1816.802323</td>\n      <td>5022.351892</td>\n      <td>4683.348179</td>\n      <td>5075.305839</td>\n      <td>942.400600</td>\n      <td>1807.237816</td>\n      <td>3644.091416</td>\n      <td>20 REPUBLIC AVE</td>\n    </tr>\n    <tr>\n      <th>1</th>\n      <td>0</td>\n      <td>101A BAYFRONT AVENUE TEMPORARY SITE OFFICE SIN...</td>\n      <td>101A</td>\n      <td>TEMPORARY SITE OFFICE</td>\n      <td>1.275697</td>\n      <td>103.855652</td>\n      <td>103.855652</td>\n      <td>18895</td>\n      <td>BAYFRONT AVENUE</td>\n      <td>BAYFRONT AVE</td>\n      <td>...</td>\n      <td>4698.611071</td>\n      <td>3472.336797</td>\n      <td>1280.648451</td>\n      <td>5607.264711</td>\n      <td>5243.410236</td>\n      <td>5839.706885</td>\n      <td>2191.996829</td>\n      <td>1809.059589</td>\n      <td>1832.377169</td>\n      <td>101A BAYFRONT AVE</td>\n    </tr>\n    <tr>\n      <th>2</th>\n      <td>1</td>\n      <td>1 STRAITS BOULEVARD SINGAPORE CHINESE CULTURAL...</td>\n      <td>1</td>\n      <td>SINGAPORE CHINESE CULTURAL CENTRE</td>\n      <td>1.275829</td>\n      <td>103.849576</td>\n      <td>103.849576</td>\n      <td>18906</td>\n      <td>STRAITS BOULEVARD</td>\n      <td>STRAITS BOULEVARD</td>\n      <td>...</td>\n      <td>4023.602031</td>\n      <td>2948.064284</td>\n      <td>1296.158736</td>\n      <td>5144.809340</td>\n      <td>4787.128765</td>\n      <td>5407.289369</td>\n      <td>2294.937659</td>\n      <td>1601.665849</td>\n      <td>1162.333975</td>\n      <td>1 STRAITS BOULEVARD</td>\n    </tr>\n    <tr>\n      <th>3</th>\n      <td>2</td>\n      <td>11A STRAITS BOULEVARD TEMPORARY SITE OFFICE SI...</td>\n      <td>11A</td>\n      <td>TEMPORARY SITE OFFICE</td>\n      <td>1.274950</td>\n      <td>103.851665</td>\n      <td>103.851665</td>\n      <td>18907</td>\n      <td>STRAITS BOULEVARD</td>\n      <td>STRAITS BOULEVARD</td>\n      <td>...</td>\n      <td>4264.445108</td>\n      <td>3183.564726</td>\n      <td>1341.734859</td>\n      <td>5369.673931</td>\n      <td>5008.956154</td>\n      <td>5623.701677</td>\n      <td>2327.157978</td>\n      <td>1735.354855</td>\n      <td>1410.053853</td>\n      <td>11A STRAITS BOULEVARD</td>\n    </tr>\n    <tr>\n      <th>4</th>\n      <td>3</td>\n      <td>2 CENTRAL BOULEVARD IOI CENTRAL BOULEVARD TOWE...</td>\n      <td>2</td>\n      <td>IOI CENTRAL BOULEVARD TOWERS</td>\n      <td>1.279777</td>\n      <td>103.851513</td>\n      <td>103.851513</td>\n      <td>18916</td>\n      <td>CENTRAL BOULEVARD</td>\n      <td>CENTRAL BOULEVARD</td>\n      <td>...</td>\n      <td>4224.178971</td>\n      <td>2834.639505</td>\n      <td>817.910211</td>\n      <td>4962.733697</td>\n      <td>4598.936423</td>\n      <td>5197.159347</td>\n      <td>1813.778805</td>\n      <td>1215.677136</td>\n      <td>1372.737276</td>\n      <td>2 CENTRAL BOULEVARD</td>\n    </tr>\n    <tr>\n      <th>...</th>\n      <td>...</td>\n      <td>...</td>\n      <td>...</td>\n      <td>...</td>\n      <td>...</td>\n      <td>...</td>\n      <td>...</td>\n      <td>...</td>\n      <td>...</td>\n      <td>...</td>\n      <td>...</td>\n      <td>...</td>\n      <td>...</td>\n      <td>...</td>\n      <td>...</td>\n      <td>...</td>\n      <td>...</td>\n      <td>...</td>\n      <td>...</td>\n      <td>...</td>\n      <td>...</td>\n    </tr>\n    <tr>\n      <th>142881</th>\n      <td>142721</td>\n      <td>23 PONGGOL TWENTY-FOURTH AVENUE PONGGOL PARK S...</td>\n      <td>23</td>\n      <td>PONGGOL PARK</td>\n      <td>1.418939</td>\n      <td>103.908908</td>\n      <td>103.908908</td>\n      <td>829493</td>\n      <td>PONGGOL TWENTY-FOURTH AVENUE</td>\n      <td>PONGGOL TWENTY-FOURTH AVE</td>\n      <td>...</td>\n      <td>18758.073747</td>\n      <td>16244.432449</td>\n      <td>15810.303374</td>\n      <td>15337.504057</td>\n      <td>15338.490052</td>\n      <td>14979.161428</td>\n      <td>14798.871568</td>\n      <td>15137.537830</td>\n      <td>17404.006863</td>\n      <td>23 PONGGOL TWENTY-FOURTH AVE</td>\n    </tr>\n    <tr>\n      <th>142882</th>\n      <td>142722</td>\n      <td>25 PONGGOL TWENTY-FOURTH AVENUE SINGAPORE 829494</td>\n      <td>25</td>\n      <td>NIL</td>\n      <td>1.418914</td>\n      <td>103.909043</td>\n      <td>103.909043</td>\n      <td>829494</td>\n      <td>PONGGOL TWENTY-FOURTH AVENUE</td>\n      <td>PONGGOL TWENTY-FOURTH AVE</td>\n      <td>...</td>\n      <td>18764.308089</td>\n      <td>16250.193761</td>\n      <td>15813.699759</td>\n      <td>15345.052577</td>\n      <td>15345.672999</td>\n      <td>14986.842778</td>\n      <td>14802.294340</td>\n      <td>15141.980410</td>\n      <td>17408.229852</td>\n      <td>25 PONGGOL TWENTY-FOURTH AVE</td>\n    </tr>\n    <tr>\n      <th>142883</th>\n      <td>142723</td>\n      <td>27 PONGGOL TWENTY-FOURTH AVENUE PONGGOL PARK S...</td>\n      <td>27</td>\n      <td>PONGGOL PARK</td>\n      <td>1.418928</td>\n      <td>103.909291</td>\n      <td>103.909291</td>\n      <td>829495</td>\n      <td>PONGGOL TWENTY-FOURTH AVENUE</td>\n      <td>PONGGOL TWENTY-FOURTH AVE</td>\n      <td>...</td>\n      <td>18781.252196</td>\n      <td>16266.396697</td>\n      <td>15826.068797</td>\n      <td>15364.024780</td>\n      <td>15364.089234</td>\n      <td>15006.016112</td>\n      <td>14814.709260</td>\n      <td>15156.069355</td>\n      <td>17421.956923</td>\n      <td>27 PONGGOL TWENTY-FOURTH AVE</td>\n    </tr>\n    <tr>\n      <th>142884</th>\n      <td>142724</td>\n      <td>29 PONGGOL TWENTY-FOURTH AVENUE SINGAPORE 829496</td>\n      <td>29</td>\n      <td>NIL</td>\n      <td>1.419180</td>\n      <td>103.909259</td>\n      <td>103.909259</td>\n      <td>829496</td>\n      <td>PONGGOL TWENTY-FOURTH AVENUE</td>\n      <td>PONGGOL TWENTY-FOURTH AVE</td>\n      <td>...</td>\n      <td>18802.221259</td>\n      <td>16287.979222</td>\n      <td>15850.274095</td>\n      <td>15383.096089</td>\n      <td>15383.715302</td>\n      <td>15024.879661</td>\n      <td>14838.887695</td>\n      <td>15179.203388</td>\n      <td>17445.330265</td>\n      <td>29 PONGGOL TWENTY-FOURTH AVE</td>\n    </tr>\n    <tr>\n      <th>142885</th>\n      <td>142725</td>\n      <td>31 PONGGOL TWENTY-FOURTH AVENUE PONGGOL PARK S...</td>\n      <td>31</td>\n      <td>PONGGOL PARK</td>\n      <td>1.419404</td>\n      <td>103.909433</td>\n      <td>103.909433</td>\n      <td>829497</td>\n      <td>PONGGOL TWENTY-FOURTH AVENUE</td>\n      <td>PONGGOL TWENTY-FOURTH AVE</td>\n      <td>...</td>\n      <td>18833.540234</td>\n      <td>16319.216745</td>\n      <td>15880.628544</td>\n      <td>15414.454733</td>\n      <td>15415.092031</td>\n      <td>15056.225856</td>\n      <td>14869.256843</td>\n      <td>15210.042398</td>\n      <td>17476.078577</td>\n      <td>31 PONGGOL TWENTY-FOURTH AVE</td>\n    </tr>\n  </tbody>\n</table>\n<p>142886 rows × 348 columns</p>\n</div>"
     },
     "execution_count": 38,
     "metadata": {},
     "output_type": "execute_result"
    }
   ],
   "source": [
    "sg"
   ],
   "metadata": {
    "collapsed": false,
    "pycharm": {
     "name": "#%%\n"
    }
   }
  },
  {
   "cell_type": "code",
   "execution_count": 45,
   "outputs": [
    {
     "data": {
      "text/plain": "       blk_no    short_r_name\n262        34    UPP CROSS ST\n878         4       SAGO LANE\n880        32      NEW MKT RD\n1686        1  TG PAGAR PLAZA\n1687        2  TG PAGAR PLAZA\n...       ...             ...\n142756   617D      PUNGGOL DR\n142757   618D      PUNGGOL DR\n142758   619D      PUNGGOL DR\n142760   637D      PUNGGOL DR\n142761   637D      PUNGGOL DR\n\n[11468 rows x 2 columns]",
      "text/html": "<div>\n<style scoped>\n    .dataframe tbody tr th:only-of-type {\n        vertical-align: middle;\n    }\n\n    .dataframe tbody tr th {\n        vertical-align: top;\n    }\n\n    .dataframe thead th {\n        text-align: right;\n    }\n</style>\n<table border=\"1\" class=\"dataframe\">\n  <thead>\n    <tr style=\"text-align: right;\">\n      <th></th>\n      <th>blk_no</th>\n      <th>short_r_name</th>\n    </tr>\n  </thead>\n  <tbody>\n    <tr>\n      <th>262</th>\n      <td>34</td>\n      <td>UPP CROSS ST</td>\n    </tr>\n    <tr>\n      <th>878</th>\n      <td>4</td>\n      <td>SAGO LANE</td>\n    </tr>\n    <tr>\n      <th>880</th>\n      <td>32</td>\n      <td>NEW MKT RD</td>\n    </tr>\n    <tr>\n      <th>1686</th>\n      <td>1</td>\n      <td>TG PAGAR PLAZA</td>\n    </tr>\n    <tr>\n      <th>1687</th>\n      <td>2</td>\n      <td>TG PAGAR PLAZA</td>\n    </tr>\n    <tr>\n      <th>...</th>\n      <td>...</td>\n      <td>...</td>\n    </tr>\n    <tr>\n      <th>142756</th>\n      <td>617D</td>\n      <td>PUNGGOL DR</td>\n    </tr>\n    <tr>\n      <th>142757</th>\n      <td>618D</td>\n      <td>PUNGGOL DR</td>\n    </tr>\n    <tr>\n      <th>142758</th>\n      <td>619D</td>\n      <td>PUNGGOL DR</td>\n    </tr>\n    <tr>\n      <th>142760</th>\n      <td>637D</td>\n      <td>PUNGGOL DR</td>\n    </tr>\n    <tr>\n      <th>142761</th>\n      <td>637D</td>\n      <td>PUNGGOL DR</td>\n    </tr>\n  </tbody>\n</table>\n<p>11468 rows × 2 columns</p>\n</div>"
     },
     "execution_count": 45,
     "metadata": {},
     "output_type": "execute_result"
    }
   ],
   "source": [
    "match_cols = sg[sg['join_address'].isin(norm['join_address'].values)][['blk_no', 'short_r_name']]\n",
    "match_cols"
   ],
   "metadata": {
    "collapsed": false,
    "pycharm": {
     "name": "#%%\n"
    }
   }
  },
  {
   "cell_type": "code",
   "execution_count": 46,
   "outputs": [
    {
     "data": {
      "text/plain": "full_address\n1 TG PAGAR PLAZA         10\n849 YISHUN RING RD        6\n221 BOON LAY PL           6\n210 NEW UPP CHANGI RD     5\n413 YISHUN RING RD        5\n                         ..\n337 WOODLANDS AVE 1       1\n337 UBI AVE 1             1\n337 TAMPINES ST 32        1\n135 TECK WHYE LANE        1\n403 FAJAR RD              1\nLength: 9390, dtype: int64"
     },
     "execution_count": 46,
     "metadata": {},
     "output_type": "execute_result"
    }
   ],
   "source": [
    "match_cols['full_address'] = match_cols['blk_no'].astype(str) + ' ' + match_cols['short_r_name']\n",
    "match_cols.value_counts('full_address')"
   ],
   "metadata": {
    "collapsed": false,
    "pycharm": {
     "name": "#%%\n"
    }
   }
  },
  {
   "cell_type": "code",
   "execution_count": 49,
   "outputs": [
    {
     "data": {
      "text/plain": "       sg_buildings_location_features_id  \\\n63568                              79417   \n63569                              79418   \n63570                              79419   \n63571                              79420   \n\n                                                 address blk_no  \\\n63568            138 TAMPINES STREET 11 SINGAPORE 521138    138   \n63569  138 TAMPINES STREET 11 DBS NTUC TAMPINES STREE...    138   \n63570  138 TAMPINES STREET 11 DBS TAMPINES STREET 11 ...    138   \n63571  138 TAMPINES STREET 11 OCBC TAMPINES STREET 11...    138   \n\n                                 building  latitude   longitude  longtitude  \\\n63568                                 NIL  1.345505  103.945588  103.945588   \n63569         DBS NTUC TAMPINES STREET 11  1.345281  103.945344  103.945344   \n63570              DBS TAMPINES STREET 11  1.345281  103.945344  103.945344   \n63571  OCBC TAMPINES STREET 11 - 7 ELEVEN  1.345320  103.945385  103.945385   \n\n       postal           road_name    short_r_name  ...  \\\n63568  521138  TAMPINES STREET 11  TAMPINES ST 11  ...   \n63569  521138  TAMPINES STREET 11  TAMPINES ST 11  ...   \n63570  521138  TAMPINES STREET 11  TAMPINES ST 11  ...   \n63571  521138  TAMPINES STREET 11  TAMPINES ST 11  ...   \n\n      dist_to_con_area_id_240  dist_to_con_area_id_241  \\\n63568            16428.249952             13976.339889   \n63569            16392.927442             13941.597207   \n63570            16392.927442             13941.597207   \n63571            16398.829387             13947.396514   \n\n       dist_to_con_area_id_242 dist_to_con_area_id_243  \\\n63568             12125.902158            14374.867708   \n63569             12089.786948            14342.315268   \n63570             12089.786948            14342.315268   \n63571             12095.831417            14347.732435   \n\n       dist_to_con_area_id_244  dist_to_con_area_id_245  \\\n63568             14156.998474             14196.887676   \n63569             14124.100982             14164.792741   \n63570             14124.100982             14164.792741   \n63571             14129.577988             14170.130659   \n\n       dist_to_con_area_id_246  dist_to_con_area_id_247  \\\n63568             11339.371070             12150.262257   \n63569             11303.677868             12114.898716   \n63570             11303.677868             12114.898716   \n63571             11309.645847             12120.807807   \n\n       dist_to_con_area_id_248        join_address  \n63568             13986.953357  138 TAMPINES ST 11  \n63569             13950.821144  138 TAMPINES ST 11  \n63570             13950.821144  138 TAMPINES ST 11  \n63571             13956.868766  138 TAMPINES ST 11  \n\n[4 rows x 348 columns]",
      "text/html": "<div>\n<style scoped>\n    .dataframe tbody tr th:only-of-type {\n        vertical-align: middle;\n    }\n\n    .dataframe tbody tr th {\n        vertical-align: top;\n    }\n\n    .dataframe thead th {\n        text-align: right;\n    }\n</style>\n<table border=\"1\" class=\"dataframe\">\n  <thead>\n    <tr style=\"text-align: right;\">\n      <th></th>\n      <th>sg_buildings_location_features_id</th>\n      <th>address</th>\n      <th>blk_no</th>\n      <th>building</th>\n      <th>latitude</th>\n      <th>longitude</th>\n      <th>longtitude</th>\n      <th>postal</th>\n      <th>road_name</th>\n      <th>short_r_name</th>\n      <th>...</th>\n      <th>dist_to_con_area_id_240</th>\n      <th>dist_to_con_area_id_241</th>\n      <th>dist_to_con_area_id_242</th>\n      <th>dist_to_con_area_id_243</th>\n      <th>dist_to_con_area_id_244</th>\n      <th>dist_to_con_area_id_245</th>\n      <th>dist_to_con_area_id_246</th>\n      <th>dist_to_con_area_id_247</th>\n      <th>dist_to_con_area_id_248</th>\n      <th>join_address</th>\n    </tr>\n  </thead>\n  <tbody>\n    <tr>\n      <th>63568</th>\n      <td>79417</td>\n      <td>138 TAMPINES STREET 11 SINGAPORE 521138</td>\n      <td>138</td>\n      <td>NIL</td>\n      <td>1.345505</td>\n      <td>103.945588</td>\n      <td>103.945588</td>\n      <td>521138</td>\n      <td>TAMPINES STREET 11</td>\n      <td>TAMPINES ST 11</td>\n      <td>...</td>\n      <td>16428.249952</td>\n      <td>13976.339889</td>\n      <td>12125.902158</td>\n      <td>14374.867708</td>\n      <td>14156.998474</td>\n      <td>14196.887676</td>\n      <td>11339.371070</td>\n      <td>12150.262257</td>\n      <td>13986.953357</td>\n      <td>138 TAMPINES ST 11</td>\n    </tr>\n    <tr>\n      <th>63569</th>\n      <td>79418</td>\n      <td>138 TAMPINES STREET 11 DBS NTUC TAMPINES STREE...</td>\n      <td>138</td>\n      <td>DBS NTUC TAMPINES STREET 11</td>\n      <td>1.345281</td>\n      <td>103.945344</td>\n      <td>103.945344</td>\n      <td>521138</td>\n      <td>TAMPINES STREET 11</td>\n      <td>TAMPINES ST 11</td>\n      <td>...</td>\n      <td>16392.927442</td>\n      <td>13941.597207</td>\n      <td>12089.786948</td>\n      <td>14342.315268</td>\n      <td>14124.100982</td>\n      <td>14164.792741</td>\n      <td>11303.677868</td>\n      <td>12114.898716</td>\n      <td>13950.821144</td>\n      <td>138 TAMPINES ST 11</td>\n    </tr>\n    <tr>\n      <th>63570</th>\n      <td>79419</td>\n      <td>138 TAMPINES STREET 11 DBS TAMPINES STREET 11 ...</td>\n      <td>138</td>\n      <td>DBS TAMPINES STREET 11</td>\n      <td>1.345281</td>\n      <td>103.945344</td>\n      <td>103.945344</td>\n      <td>521138</td>\n      <td>TAMPINES STREET 11</td>\n      <td>TAMPINES ST 11</td>\n      <td>...</td>\n      <td>16392.927442</td>\n      <td>13941.597207</td>\n      <td>12089.786948</td>\n      <td>14342.315268</td>\n      <td>14124.100982</td>\n      <td>14164.792741</td>\n      <td>11303.677868</td>\n      <td>12114.898716</td>\n      <td>13950.821144</td>\n      <td>138 TAMPINES ST 11</td>\n    </tr>\n    <tr>\n      <th>63571</th>\n      <td>79420</td>\n      <td>138 TAMPINES STREET 11 OCBC TAMPINES STREET 11...</td>\n      <td>138</td>\n      <td>OCBC TAMPINES STREET 11 - 7 ELEVEN</td>\n      <td>1.345320</td>\n      <td>103.945385</td>\n      <td>103.945385</td>\n      <td>521138</td>\n      <td>TAMPINES STREET 11</td>\n      <td>TAMPINES ST 11</td>\n      <td>...</td>\n      <td>16398.829387</td>\n      <td>13947.396514</td>\n      <td>12095.831417</td>\n      <td>14347.732435</td>\n      <td>14129.577988</td>\n      <td>14170.130659</td>\n      <td>11309.645847</td>\n      <td>12120.807807</td>\n      <td>13956.868766</td>\n      <td>138 TAMPINES ST 11</td>\n    </tr>\n  </tbody>\n</table>\n<p>4 rows × 348 columns</p>\n</div>"
     },
     "execution_count": 49,
     "metadata": {},
     "output_type": "execute_result"
    }
   ],
   "source": [
    "sg[sg['join_address'] == '138 TAMPINES ST 11']"
   ],
   "metadata": {
    "collapsed": false,
    "pycharm": {
     "name": "#%%\n"
    }
   }
  },
  {
   "cell_type": "code",
   "execution_count": 51,
   "outputs": [
    {
     "data": {
      "text/plain": "NIL                                  47885\nSERANGOON GARDEN ESTATE               2648\nSELETAR HILLS ESTATE                  1265\nFRANKEL ESTATE                        1261\nSENNETT ESTATE                        1181\n                                     ...  \nOCBC ALJUNIED MRT                        1\nUOB ALJUNIED MRT STATION                 1\nGREEN AVENUE HOME FOR THE ELDERLY        1\nHIGHPOINT SOCIAL ENTERPRISE ARK          1\nRIVER OF LIFE COMMUNITY CHURCH           1\nName: building, Length: 16378, dtype: int64"
     },
     "execution_count": 51,
     "metadata": {},
     "output_type": "execute_result"
    }
   ],
   "source": [
    "sg['building'].value_counts()"
   ],
   "metadata": {
    "collapsed": false,
    "pycharm": {
     "name": "#%%\n"
    }
   }
  },
  {
   "cell_type": "code",
   "execution_count": null,
   "outputs": [],
   "source": [],
   "metadata": {
    "collapsed": false,
    "pycharm": {
     "name": "#%%\n"
    }
   }
  }
 ],
 "metadata": {
  "kernelspec": {
   "display_name": "Python 3",
   "language": "python",
   "name": "python3"
  },
  "language_info": {
   "codemirror_mode": {
    "name": "ipython",
    "version": 2
   },
   "file_extension": ".py",
   "mimetype": "text/x-python",
   "name": "python",
   "nbconvert_exporter": "python",
   "pygments_lexer": "ipython2",
   "version": "2.7.6"
  }
 },
 "nbformat": 4,
 "nbformat_minor": 0
}