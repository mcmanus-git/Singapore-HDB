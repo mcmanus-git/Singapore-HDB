{
 "cells": [
  {
   "cell_type": "code",
   "execution_count": 1,
   "metadata": {
    "collapsed": true
   },
   "outputs": [],
   "source": [
    "import pandas as pd\n",
    "import os\n",
    "from sqlalchemy import create_engine\n",
    "from MyCreds.mycreds import Capstone_AWS_PG\n",
    "from sqlalchemy import create_engine\n",
    "import numpy as np"
   ]
  },
  {
   "cell_type": "code",
   "execution_count": 2,
   "outputs": [
    {
     "data": {
      "text/plain": "              month        town  flat_type block       street_name  \\\n0           1990-01  ANG MO KIO     1 ROOM   309  ANG MO KIO AVE 1   \n1           1990-01  ANG MO KIO     1 ROOM   309  ANG MO KIO AVE 1   \n2           1990-01  ANG MO KIO     1 ROOM   309  ANG MO KIO AVE 1   \n3           1990-01  ANG MO KIO     1 ROOM   309  ANG MO KIO AVE 1   \n4           1990-01  ANG MO KIO     3 ROOM   216  ANG MO KIO AVE 1   \n...             ...         ...        ...   ...               ...   \n1313689  2012-02-01     GEYLANG     4 ROOM   319         UBI AVE 1   \n1313690  2012-02-01     GEYLANG     4 ROOM   314         UBI AVE 1   \n1313691  2012-02-01     GEYLANG     4 ROOM   343         UBI AVE 1   \n1313692  2012-02-01     HOUGANG     3 ROOM   631     HOUGANG AVE 8   \n1313693  2012-02-01      YISHUN  EXECUTIVE   293      YISHUN ST 22   \n\n        storey_range  floor_area_sqm      flat_model  lease_commence_date  \\\n0           10 TO 12            31.0        IMPROVED                 1977   \n1           04 TO 06            31.0        IMPROVED                 1977   \n2           10 TO 12            31.0        IMPROVED                 1977   \n3           07 TO 09            31.0        IMPROVED                 1977   \n4           04 TO 06            73.0  NEW GENERATION                 1976   \n...              ...             ...             ...                  ...   \n1313689     10 TO 12            84.0      Simplified                 1985   \n1313690     01 TO 03            84.0      Simplified                 1985   \n1313691     01 TO 03            84.0      Simplified                 1986   \n1313692     07 TO 09            60.0        Improved                 1985   \n1313693     04 TO 06           163.0       Apartment                 1992   \n\n         resale_price  n_rooms  storey_range_min  storey_range_max  \n0              9000.0      NaN               NaN               NaN  \n1              6000.0      NaN               NaN               NaN  \n2              8000.0      NaN               NaN               NaN  \n3              6000.0      NaN               NaN               NaN  \n4             47200.0      NaN               NaN               NaN  \n...               ...      ...               ...               ...  \n1313689      383000.0      NaN              10.0              12.0  \n1313690      382000.0      NaN               1.0               3.0  \n1313691      380000.0      NaN               1.0               3.0  \n1313692      300000.0      NaN               7.0               9.0  \n1313693      630000.0      NaN               4.0               6.0  \n\n[1313694 rows x 13 columns]",
      "text/html": "<div>\n<style scoped>\n    .dataframe tbody tr th:only-of-type {\n        vertical-align: middle;\n    }\n\n    .dataframe tbody tr th {\n        vertical-align: top;\n    }\n\n    .dataframe thead th {\n        text-align: right;\n    }\n</style>\n<table border=\"1\" class=\"dataframe\">\n  <thead>\n    <tr style=\"text-align: right;\">\n      <th></th>\n      <th>month</th>\n      <th>town</th>\n      <th>flat_type</th>\n      <th>block</th>\n      <th>street_name</th>\n      <th>storey_range</th>\n      <th>floor_area_sqm</th>\n      <th>flat_model</th>\n      <th>lease_commence_date</th>\n      <th>resale_price</th>\n      <th>n_rooms</th>\n      <th>storey_range_min</th>\n      <th>storey_range_max</th>\n    </tr>\n  </thead>\n  <tbody>\n    <tr>\n      <th>0</th>\n      <td>1990-01</td>\n      <td>ANG MO KIO</td>\n      <td>1 ROOM</td>\n      <td>309</td>\n      <td>ANG MO KIO AVE 1</td>\n      <td>10 TO 12</td>\n      <td>31.0</td>\n      <td>IMPROVED</td>\n      <td>1977</td>\n      <td>9000.0</td>\n      <td>NaN</td>\n      <td>NaN</td>\n      <td>NaN</td>\n    </tr>\n    <tr>\n      <th>1</th>\n      <td>1990-01</td>\n      <td>ANG MO KIO</td>\n      <td>1 ROOM</td>\n      <td>309</td>\n      <td>ANG MO KIO AVE 1</td>\n      <td>04 TO 06</td>\n      <td>31.0</td>\n      <td>IMPROVED</td>\n      <td>1977</td>\n      <td>6000.0</td>\n      <td>NaN</td>\n      <td>NaN</td>\n      <td>NaN</td>\n    </tr>\n    <tr>\n      <th>2</th>\n      <td>1990-01</td>\n      <td>ANG MO KIO</td>\n      <td>1 ROOM</td>\n      <td>309</td>\n      <td>ANG MO KIO AVE 1</td>\n      <td>10 TO 12</td>\n      <td>31.0</td>\n      <td>IMPROVED</td>\n      <td>1977</td>\n      <td>8000.0</td>\n      <td>NaN</td>\n      <td>NaN</td>\n      <td>NaN</td>\n    </tr>\n    <tr>\n      <th>3</th>\n      <td>1990-01</td>\n      <td>ANG MO KIO</td>\n      <td>1 ROOM</td>\n      <td>309</td>\n      <td>ANG MO KIO AVE 1</td>\n      <td>07 TO 09</td>\n      <td>31.0</td>\n      <td>IMPROVED</td>\n      <td>1977</td>\n      <td>6000.0</td>\n      <td>NaN</td>\n      <td>NaN</td>\n      <td>NaN</td>\n    </tr>\n    <tr>\n      <th>4</th>\n      <td>1990-01</td>\n      <td>ANG MO KIO</td>\n      <td>3 ROOM</td>\n      <td>216</td>\n      <td>ANG MO KIO AVE 1</td>\n      <td>04 TO 06</td>\n      <td>73.0</td>\n      <td>NEW GENERATION</td>\n      <td>1976</td>\n      <td>47200.0</td>\n      <td>NaN</td>\n      <td>NaN</td>\n      <td>NaN</td>\n    </tr>\n    <tr>\n      <th>...</th>\n      <td>...</td>\n      <td>...</td>\n      <td>...</td>\n      <td>...</td>\n      <td>...</td>\n      <td>...</td>\n      <td>...</td>\n      <td>...</td>\n      <td>...</td>\n      <td>...</td>\n      <td>...</td>\n      <td>...</td>\n      <td>...</td>\n    </tr>\n    <tr>\n      <th>1313689</th>\n      <td>2012-02-01</td>\n      <td>GEYLANG</td>\n      <td>4 ROOM</td>\n      <td>319</td>\n      <td>UBI AVE 1</td>\n      <td>10 TO 12</td>\n      <td>84.0</td>\n      <td>Simplified</td>\n      <td>1985</td>\n      <td>383000.0</td>\n      <td>NaN</td>\n      <td>10.0</td>\n      <td>12.0</td>\n    </tr>\n    <tr>\n      <th>1313690</th>\n      <td>2012-02-01</td>\n      <td>GEYLANG</td>\n      <td>4 ROOM</td>\n      <td>314</td>\n      <td>UBI AVE 1</td>\n      <td>01 TO 03</td>\n      <td>84.0</td>\n      <td>Simplified</td>\n      <td>1985</td>\n      <td>382000.0</td>\n      <td>NaN</td>\n      <td>1.0</td>\n      <td>3.0</td>\n    </tr>\n    <tr>\n      <th>1313691</th>\n      <td>2012-02-01</td>\n      <td>GEYLANG</td>\n      <td>4 ROOM</td>\n      <td>343</td>\n      <td>UBI AVE 1</td>\n      <td>01 TO 03</td>\n      <td>84.0</td>\n      <td>Simplified</td>\n      <td>1986</td>\n      <td>380000.0</td>\n      <td>NaN</td>\n      <td>1.0</td>\n      <td>3.0</td>\n    </tr>\n    <tr>\n      <th>1313692</th>\n      <td>2012-02-01</td>\n      <td>HOUGANG</td>\n      <td>3 ROOM</td>\n      <td>631</td>\n      <td>HOUGANG AVE 8</td>\n      <td>07 TO 09</td>\n      <td>60.0</td>\n      <td>Improved</td>\n      <td>1985</td>\n      <td>300000.0</td>\n      <td>NaN</td>\n      <td>7.0</td>\n      <td>9.0</td>\n    </tr>\n    <tr>\n      <th>1313693</th>\n      <td>2012-02-01</td>\n      <td>YISHUN</td>\n      <td>EXECUTIVE</td>\n      <td>293</td>\n      <td>YISHUN ST 22</td>\n      <td>04 TO 06</td>\n      <td>163.0</td>\n      <td>Apartment</td>\n      <td>1992</td>\n      <td>630000.0</td>\n      <td>NaN</td>\n      <td>4.0</td>\n      <td>6.0</td>\n    </tr>\n  </tbody>\n</table>\n<p>1313694 rows × 13 columns</p>\n</div>"
     },
     "execution_count": 2,
     "metadata": {},
     "output_type": "execute_result"
    }
   ],
   "source": [
    "engine = create_engine(f'postgresql+psycopg2://{Capstone_AWS_PG.username}:{Capstone_AWS_PG.password}@{Capstone_AWS_PG.host}/capstone', echo=False)\n",
    "\n",
    "# Switch depending on which table you want to read.\n",
    "# sql_query = 'select * from resale_prices_based_on_registration_date;'\n",
    "sql_query = 'select * from resale_prices_based_on_approval_date;'\n",
    "\n",
    "with engine.connect() as cnxn:\n",
    "    approval = pd.read_sql(sql_query, cnxn)\n",
    "\n",
    "\n",
    "approval"
   ],
   "metadata": {
    "collapsed": false,
    "pycharm": {
     "name": "#%%\n"
    }
   }
  },
  {
   "cell_type": "code",
   "execution_count": 3,
   "outputs": [
    {
     "data": {
      "text/plain": "             month        town  flat_type block       street_name  \\\n0       1990-01-01  ANG MO KIO     1 ROOM   309  ANG MO KIO AVE 1   \n1       1990-01-01      YISHUN     5 ROOM   229      YISHUN ST 21   \n2       1990-01-01      YISHUN     5 ROOM   231      YISHUN ST 21   \n3       1990-01-01      YISHUN     5 ROOM   221      YISHUN ST 21   \n4       1990-01-01      YISHUN     5 ROOM   161      YISHUN ST 11   \n...            ...         ...        ...   ...               ...   \n1313689 2012-02-01    SENGKANG     4 ROOM  268A  COMPASSVALE LINK   \n1313690 2012-02-01    SENGKANG     4 ROOM  268D  COMPASSVALE LINK   \n1313691 2012-02-01    SENGKANG     4 ROOM  269D  COMPASSVALE LINK   \n1313692 2012-02-01    SENGKANG     4 ROOM  184C    RIVERVALE CRES   \n1313693 2012-02-01      YISHUN  EXECUTIVE   293      YISHUN ST 22   \n\n        storey_range  floor_area_sqm         flat_model  lease_commence_date  \\\n0           10 TO 12            31.0           IMPROVED                 1977   \n1           01 TO 03           121.0           IMPROVED                 1985   \n2           01 TO 03           121.0           IMPROVED                 1985   \n3           07 TO 09           121.0           IMPROVED                 1985   \n4           10 TO 12           121.0           IMPROVED                 1985   \n...              ...             ...                ...                  ...   \n1313689     16 TO 18            90.0  Premium Apartment                 2006   \n1313690     13 TO 15            90.0  Premium Apartment                 2006   \n1313691     16 TO 18            90.0  Premium Apartment                 2006   \n1313692     16 TO 18            86.0           Model A2                 2003   \n1313693     04 TO 06           163.0          Apartment                 1992   \n\n         resale_price  n_rooms  storey_range_min  storey_range_max  \n0              9000.0        1                10                12  \n1             98700.0        5                 1                 3  \n2             94000.0        5                 1                 3  \n3             98000.0        5                 7                 9  \n4            120000.0        5                10                12  \n...               ...      ...               ...               ...  \n1313689      525000.0        4                16                18  \n1313690      535000.0        4                13                15  \n1313691      563000.0        4                16                18  \n1313692      423000.0        4                16                18  \n1313693      630000.0     <NA>                 4                 6  \n\n[1313694 rows x 13 columns]",
      "text/html": "<div>\n<style scoped>\n    .dataframe tbody tr th:only-of-type {\n        vertical-align: middle;\n    }\n\n    .dataframe tbody tr th {\n        vertical-align: top;\n    }\n\n    .dataframe thead th {\n        text-align: right;\n    }\n</style>\n<table border=\"1\" class=\"dataframe\">\n  <thead>\n    <tr style=\"text-align: right;\">\n      <th></th>\n      <th>month</th>\n      <th>town</th>\n      <th>flat_type</th>\n      <th>block</th>\n      <th>street_name</th>\n      <th>storey_range</th>\n      <th>floor_area_sqm</th>\n      <th>flat_model</th>\n      <th>lease_commence_date</th>\n      <th>resale_price</th>\n      <th>n_rooms</th>\n      <th>storey_range_min</th>\n      <th>storey_range_max</th>\n    </tr>\n  </thead>\n  <tbody>\n    <tr>\n      <th>0</th>\n      <td>1990-01-01</td>\n      <td>ANG MO KIO</td>\n      <td>1 ROOM</td>\n      <td>309</td>\n      <td>ANG MO KIO AVE 1</td>\n      <td>10 TO 12</td>\n      <td>31.0</td>\n      <td>IMPROVED</td>\n      <td>1977</td>\n      <td>9000.0</td>\n      <td>1</td>\n      <td>10</td>\n      <td>12</td>\n    </tr>\n    <tr>\n      <th>1</th>\n      <td>1990-01-01</td>\n      <td>YISHUN</td>\n      <td>5 ROOM</td>\n      <td>229</td>\n      <td>YISHUN ST 21</td>\n      <td>01 TO 03</td>\n      <td>121.0</td>\n      <td>IMPROVED</td>\n      <td>1985</td>\n      <td>98700.0</td>\n      <td>5</td>\n      <td>1</td>\n      <td>3</td>\n    </tr>\n    <tr>\n      <th>2</th>\n      <td>1990-01-01</td>\n      <td>YISHUN</td>\n      <td>5 ROOM</td>\n      <td>231</td>\n      <td>YISHUN ST 21</td>\n      <td>01 TO 03</td>\n      <td>121.0</td>\n      <td>IMPROVED</td>\n      <td>1985</td>\n      <td>94000.0</td>\n      <td>5</td>\n      <td>1</td>\n      <td>3</td>\n    </tr>\n    <tr>\n      <th>3</th>\n      <td>1990-01-01</td>\n      <td>YISHUN</td>\n      <td>5 ROOM</td>\n      <td>221</td>\n      <td>YISHUN ST 21</td>\n      <td>07 TO 09</td>\n      <td>121.0</td>\n      <td>IMPROVED</td>\n      <td>1985</td>\n      <td>98000.0</td>\n      <td>5</td>\n      <td>7</td>\n      <td>9</td>\n    </tr>\n    <tr>\n      <th>4</th>\n      <td>1990-01-01</td>\n      <td>YISHUN</td>\n      <td>5 ROOM</td>\n      <td>161</td>\n      <td>YISHUN ST 11</td>\n      <td>10 TO 12</td>\n      <td>121.0</td>\n      <td>IMPROVED</td>\n      <td>1985</td>\n      <td>120000.0</td>\n      <td>5</td>\n      <td>10</td>\n      <td>12</td>\n    </tr>\n    <tr>\n      <th>...</th>\n      <td>...</td>\n      <td>...</td>\n      <td>...</td>\n      <td>...</td>\n      <td>...</td>\n      <td>...</td>\n      <td>...</td>\n      <td>...</td>\n      <td>...</td>\n      <td>...</td>\n      <td>...</td>\n      <td>...</td>\n      <td>...</td>\n    </tr>\n    <tr>\n      <th>1313689</th>\n      <td>2012-02-01</td>\n      <td>SENGKANG</td>\n      <td>4 ROOM</td>\n      <td>268A</td>\n      <td>COMPASSVALE LINK</td>\n      <td>16 TO 18</td>\n      <td>90.0</td>\n      <td>Premium Apartment</td>\n      <td>2006</td>\n      <td>525000.0</td>\n      <td>4</td>\n      <td>16</td>\n      <td>18</td>\n    </tr>\n    <tr>\n      <th>1313690</th>\n      <td>2012-02-01</td>\n      <td>SENGKANG</td>\n      <td>4 ROOM</td>\n      <td>268D</td>\n      <td>COMPASSVALE LINK</td>\n      <td>13 TO 15</td>\n      <td>90.0</td>\n      <td>Premium Apartment</td>\n      <td>2006</td>\n      <td>535000.0</td>\n      <td>4</td>\n      <td>13</td>\n      <td>15</td>\n    </tr>\n    <tr>\n      <th>1313691</th>\n      <td>2012-02-01</td>\n      <td>SENGKANG</td>\n      <td>4 ROOM</td>\n      <td>269D</td>\n      <td>COMPASSVALE LINK</td>\n      <td>16 TO 18</td>\n      <td>90.0</td>\n      <td>Premium Apartment</td>\n      <td>2006</td>\n      <td>563000.0</td>\n      <td>4</td>\n      <td>16</td>\n      <td>18</td>\n    </tr>\n    <tr>\n      <th>1313692</th>\n      <td>2012-02-01</td>\n      <td>SENGKANG</td>\n      <td>4 ROOM</td>\n      <td>184C</td>\n      <td>RIVERVALE CRES</td>\n      <td>16 TO 18</td>\n      <td>86.0</td>\n      <td>Model A2</td>\n      <td>2003</td>\n      <td>423000.0</td>\n      <td>4</td>\n      <td>16</td>\n      <td>18</td>\n    </tr>\n    <tr>\n      <th>1313693</th>\n      <td>2012-02-01</td>\n      <td>YISHUN</td>\n      <td>EXECUTIVE</td>\n      <td>293</td>\n      <td>YISHUN ST 22</td>\n      <td>04 TO 06</td>\n      <td>163.0</td>\n      <td>Apartment</td>\n      <td>1992</td>\n      <td>630000.0</td>\n      <td>&lt;NA&gt;</td>\n      <td>4</td>\n      <td>6</td>\n    </tr>\n  </tbody>\n</table>\n<p>1313694 rows × 13 columns</p>\n</div>"
     },
     "execution_count": 3,
     "metadata": {},
     "output_type": "execute_result"
    }
   ],
   "source": [
    "def clean_approval_df(df):\n",
    "\n",
    "    df['month'] = pd.to_datetime(df['month'])\n",
    "    df['n_rooms'] = df['flat_type'].str.extract('(\\d)').astype('Int64')\n",
    "    df['n_rooms'] = df['n_rooms'].astype('Int64')\n",
    "    # Convert story range to min and max int columns\n",
    "    df['storey_range_min'] = df['storey_range'].str[:2].astype(int)\n",
    "    df['storey_range_max'] = df['storey_range'].str[-2:].astype(int)\n",
    "\n",
    "    df.sort_values('month', ascending=True, inplace=True)\n",
    "    df.reset_index(inplace=True, drop=True)\n",
    "\n",
    "    return df\n",
    "\n",
    "approval = clean_approval_df(approval)\n",
    "approval"
   ],
   "metadata": {
    "collapsed": false,
    "pycharm": {
     "name": "#%%\n"
    }
   }
  },
  {
   "cell_type": "code",
   "execution_count": 4,
   "outputs": [],
   "source": [
    "# engine = create_engine(f'postgresql+psycopg2://{Capstone_AWS_PG.username}:{Capstone_AWS_PG.password}@{Capstone_AWS_PG.host}/capstone', echo=False)\n",
    "#\n",
    "# # Switch depending on which table you want to read.\n",
    "# sql_query = 'select * from resale_prices_based_on_registration_date;'\n",
    "# # sql_query = 'select * from resale_prices_based_on_approval_date;'\n",
    "#\n",
    "# with engine.connect() as cnxn:\n",
    "#     registration = pd.read_sql(sql_query, cnxn)\n"
   ],
   "metadata": {
    "collapsed": false,
    "pycharm": {
     "name": "#%%\n"
    }
   }
  },
  {
   "cell_type": "code",
   "execution_count": 5,
   "outputs": [
    {
     "data": {
      "text/plain": "         month        town         flat_type block        street_name  \\\n0      2012-03  ANG MO KIO            2 ROOM   172   ANG MO KIO AVE 4   \n1      2012-03  ANG MO KIO            2 ROOM   510   ANG MO KIO AVE 8   \n2      2012-03  ANG MO KIO            3 ROOM   610   ANG MO KIO AVE 4   \n3      2012-03  ANG MO KIO            3 ROOM   474  ANG MO KIO AVE 10   \n4      2012-03  ANG MO KIO            3 ROOM   604   ANG MO KIO AVE 5   \n...        ...         ...               ...   ...                ...   \n37148  2016-12      YISHUN            5 ROOM   297       YISHUN ST 20   \n37149  2016-12      YISHUN            5 ROOM   838       YISHUN ST 81   \n37150  2016-12      YISHUN         EXECUTIVE   664       YISHUN AVE 4   \n37151  2016-12      YISHUN         EXECUTIVE   325        YISHUN CTRL   \n37152  2016-12      YISHUN  MULTI-GENERATION   666       YISHUN AVE 4   \n\n      storey_range  floor_area_sqm        flat_model  lease_commence_date  \\\n0         06 TO 10            45.0          Improved                 1986   \n1         01 TO 05            44.0          Improved                 1980   \n2         06 TO 10            68.0    New Generation                 1980   \n3         01 TO 05            67.0    New Generation                 1984   \n4         06 TO 10            67.0    New Generation                 1980   \n...            ...             ...               ...                  ...   \n37148     13 TO 15           112.0          Improved                 2000   \n37149     01 TO 03           122.0          Improved                 1987   \n37150     10 TO 12           181.0         Apartment                 1992   \n37151     01 TO 03           146.0        Maisonette                 1988   \n37152     10 TO 12           164.0  Multi Generation                 1987   \n\n       resale_price remaining_lease  \n0          250000.0             NaN  \n1          265000.0             NaN  \n2          315000.0             NaN  \n3          320000.0             NaN  \n4          321000.0             NaN  \n...             ...             ...  \n37148      488000.0              82  \n37149      455000.0              69  \n37150      778000.0              74  \n37151      575000.0              70  \n37152      735000.0              70  \n\n[210830 rows x 11 columns]",
      "text/html": "<div>\n<style scoped>\n    .dataframe tbody tr th:only-of-type {\n        vertical-align: middle;\n    }\n\n    .dataframe tbody tr th {\n        vertical-align: top;\n    }\n\n    .dataframe thead th {\n        text-align: right;\n    }\n</style>\n<table border=\"1\" class=\"dataframe\">\n  <thead>\n    <tr style=\"text-align: right;\">\n      <th></th>\n      <th>month</th>\n      <th>town</th>\n      <th>flat_type</th>\n      <th>block</th>\n      <th>street_name</th>\n      <th>storey_range</th>\n      <th>floor_area_sqm</th>\n      <th>flat_model</th>\n      <th>lease_commence_date</th>\n      <th>resale_price</th>\n      <th>remaining_lease</th>\n    </tr>\n  </thead>\n  <tbody>\n    <tr>\n      <th>0</th>\n      <td>2012-03</td>\n      <td>ANG MO KIO</td>\n      <td>2 ROOM</td>\n      <td>172</td>\n      <td>ANG MO KIO AVE 4</td>\n      <td>06 TO 10</td>\n      <td>45.0</td>\n      <td>Improved</td>\n      <td>1986</td>\n      <td>250000.0</td>\n      <td>NaN</td>\n    </tr>\n    <tr>\n      <th>1</th>\n      <td>2012-03</td>\n      <td>ANG MO KIO</td>\n      <td>2 ROOM</td>\n      <td>510</td>\n      <td>ANG MO KIO AVE 8</td>\n      <td>01 TO 05</td>\n      <td>44.0</td>\n      <td>Improved</td>\n      <td>1980</td>\n      <td>265000.0</td>\n      <td>NaN</td>\n    </tr>\n    <tr>\n      <th>2</th>\n      <td>2012-03</td>\n      <td>ANG MO KIO</td>\n      <td>3 ROOM</td>\n      <td>610</td>\n      <td>ANG MO KIO AVE 4</td>\n      <td>06 TO 10</td>\n      <td>68.0</td>\n      <td>New Generation</td>\n      <td>1980</td>\n      <td>315000.0</td>\n      <td>NaN</td>\n    </tr>\n    <tr>\n      <th>3</th>\n      <td>2012-03</td>\n      <td>ANG MO KIO</td>\n      <td>3 ROOM</td>\n      <td>474</td>\n      <td>ANG MO KIO AVE 10</td>\n      <td>01 TO 05</td>\n      <td>67.0</td>\n      <td>New Generation</td>\n      <td>1984</td>\n      <td>320000.0</td>\n      <td>NaN</td>\n    </tr>\n    <tr>\n      <th>4</th>\n      <td>2012-03</td>\n      <td>ANG MO KIO</td>\n      <td>3 ROOM</td>\n      <td>604</td>\n      <td>ANG MO KIO AVE 5</td>\n      <td>06 TO 10</td>\n      <td>67.0</td>\n      <td>New Generation</td>\n      <td>1980</td>\n      <td>321000.0</td>\n      <td>NaN</td>\n    </tr>\n    <tr>\n      <th>...</th>\n      <td>...</td>\n      <td>...</td>\n      <td>...</td>\n      <td>...</td>\n      <td>...</td>\n      <td>...</td>\n      <td>...</td>\n      <td>...</td>\n      <td>...</td>\n      <td>...</td>\n      <td>...</td>\n    </tr>\n    <tr>\n      <th>37148</th>\n      <td>2016-12</td>\n      <td>YISHUN</td>\n      <td>5 ROOM</td>\n      <td>297</td>\n      <td>YISHUN ST 20</td>\n      <td>13 TO 15</td>\n      <td>112.0</td>\n      <td>Improved</td>\n      <td>2000</td>\n      <td>488000.0</td>\n      <td>82</td>\n    </tr>\n    <tr>\n      <th>37149</th>\n      <td>2016-12</td>\n      <td>YISHUN</td>\n      <td>5 ROOM</td>\n      <td>838</td>\n      <td>YISHUN ST 81</td>\n      <td>01 TO 03</td>\n      <td>122.0</td>\n      <td>Improved</td>\n      <td>1987</td>\n      <td>455000.0</td>\n      <td>69</td>\n    </tr>\n    <tr>\n      <th>37150</th>\n      <td>2016-12</td>\n      <td>YISHUN</td>\n      <td>EXECUTIVE</td>\n      <td>664</td>\n      <td>YISHUN AVE 4</td>\n      <td>10 TO 12</td>\n      <td>181.0</td>\n      <td>Apartment</td>\n      <td>1992</td>\n      <td>778000.0</td>\n      <td>74</td>\n    </tr>\n    <tr>\n      <th>37151</th>\n      <td>2016-12</td>\n      <td>YISHUN</td>\n      <td>EXECUTIVE</td>\n      <td>325</td>\n      <td>YISHUN CTRL</td>\n      <td>01 TO 03</td>\n      <td>146.0</td>\n      <td>Maisonette</td>\n      <td>1988</td>\n      <td>575000.0</td>\n      <td>70</td>\n    </tr>\n    <tr>\n      <th>37152</th>\n      <td>2016-12</td>\n      <td>YISHUN</td>\n      <td>MULTI-GENERATION</td>\n      <td>666</td>\n      <td>YISHUN AVE 4</td>\n      <td>10 TO 12</td>\n      <td>164.0</td>\n      <td>Multi Generation</td>\n      <td>1987</td>\n      <td>735000.0</td>\n      <td>70</td>\n    </tr>\n  </tbody>\n</table>\n<p>210830 rows × 11 columns</p>\n</div>"
     },
     "execution_count": 5,
     "metadata": {},
     "output_type": "execute_result"
    }
   ],
   "source": [
    "def create_resale_registration():\n",
    "\n",
    "    base_dir = '../data/resale-flat-prices/'\n",
    "    df = pd.DataFrame()\n",
    "    for file in os.listdir('../data/resale-flat-prices/'):\n",
    "        if \"registration-date\" in file and 'csv' in file:\n",
    "            df = pd.concat([df, pd.read_csv(f'{base_dir}{file}')])\n",
    "\n",
    "    return df\n",
    "\n",
    "registration = create_resale_registration()\n",
    "registration"
   ],
   "metadata": {
    "collapsed": false,
    "pycharm": {
     "name": "#%%\n"
    }
   }
  },
  {
   "cell_type": "code",
   "execution_count": 6,
   "outputs": [],
   "source": [
    "def clean_registration_df(df):\n",
    "\n",
    "    df['month'] = pd.to_datetime(df['month'])\n",
    "    df['n_rooms'] = df['flat_type'].str.extract('(\\d)').astype('Int64')\n",
    "    df['n_rooms'] = df['n_rooms'].astype('Int64')\n",
    "    # Convert story range to min and max int columns\n",
    "    df['storey_range_min'] = df['storey_range'].str[:2].astype(int)\n",
    "    df['storey_range_max'] = df['storey_range'].str[-2:].astype(int)\n",
    "\n",
    "    # Convert remaining lease years to int years and int months remaining columns\n",
    "    df['remaining_lease_years'] = df['remaining_lease'].str.extract('(?P<remaining_lease_years>\\d{2}) year[s]?')\n",
    "\n",
    "    df[['remaining_lease_months', 'remaining_lease_month']] = df['remaining_lease'].str.extract('\\d{2} year[s]? (?P<remaining_lease_months>\\d{2}) month[s]?|(?P<remaining_lease_month>\\d{2}) month[s]?')\n",
    "    df.drop('remaining_lease_month', axis=1, inplace=True)\n",
    "    df[['remaining_lease_years', 'remaining_lease_months']] = df[['remaining_lease_years', 'remaining_lease_months']].astype('Int64').copy()\n",
    "    df['remaining_lease_years'].fillna(df['remaining_lease'], inplace=True)\n",
    "    df.sort_values('month', ascending=True, inplace=True)\n",
    "    df.reset_index(inplace=True, drop=True)\n",
    "    df['remaining_lease_months'].fillna(pd.Series(np.where(df['remaining_lease'].isnull(), np.nan, 0)), inplace=True)\n",
    "\n",
    "\n",
    "\n",
    "    return df"
   ],
   "metadata": {
    "collapsed": false,
    "pycharm": {
     "name": "#%%\n"
    }
   }
  },
  {
   "cell_type": "code",
   "execution_count": 7,
   "outputs": [
    {
     "data": {
      "text/plain": "            month           town flat_type block       street_name  \\\n0      2012-03-01     ANG MO KIO    2 ROOM   172  ANG MO KIO AVE 4   \n1      2012-03-01       SENGKANG    4 ROOM  184B    RIVERVALE CRES   \n2      2012-03-01       SENGKANG    4 ROOM  201B    COMPASSVALE DR   \n3      2012-03-01       SENGKANG    4 ROOM  311B   ANCHORVALE LANE   \n4      2012-03-01       SENGKANG    4 ROOM  259B    COMPASSVALE RD   \n...           ...            ...       ...   ...               ...   \n210825 2022-03-01       CLEMENTI    3 ROOM  208B    CLEMENTI AVE 6   \n210826 2022-03-01       CLEMENTI    3 ROOM   320    CLEMENTI AVE 4   \n210827 2022-03-01       CLEMENTI    3 ROOM   334    CLEMENTI AVE 2   \n210828 2022-03-01        GEYLANG    3 ROOM     3      JOO CHIAT RD   \n210829 2022-03-01  BUKIT PANJANG    4 ROOM   149          PETIR RD   \n\n       storey_range  floor_area_sqm         flat_model  lease_commence_date  \\\n0          06 TO 10            45.0           Improved                 1986   \n1          11 TO 15            90.0            Model A                 2003   \n2          11 TO 15            90.0            Model A                 2001   \n3          01 TO 05            95.0  Premium Apartment                 2002   \n4          01 TO 05            85.0           Model A2                 2001   \n...             ...             ...                ...                  ...   \n210825     19 TO 21            68.0            Model A                 2017   \n210826     04 TO 06            67.0     New Generation                 1979   \n210827     07 TO 09            67.0     New Generation                 1978   \n210828     10 TO 12            74.0            Model A                 1985   \n210829     01 TO 03           103.0            Model A                 1988   \n\n        resale_price     remaining_lease  n_rooms  storey_range_min  \\\n0           250000.0                 NaN        2                 6   \n1           436000.0                 NaN        4                11   \n2           437000.0                 NaN        4                11   \n3           438000.0                 NaN        4                 1   \n4           438000.0                 NaN        4                 1   \n...              ...                 ...      ...               ...   \n210825      575000.0  94 years 08 months        3                19   \n210826      380888.0  56 years 02 months        3                 4   \n210827      416000.0  55 years 05 months        3                 7   \n210828      470000.0  62 years 10 months        3                10   \n210829      420000.0  65 years 08 months        4                 1   \n\n        storey_range_max  remaining_lease_years  remaining_lease_months  \n0                     10                   <NA>                    <NA>  \n1                     15                   <NA>                    <NA>  \n2                     15                   <NA>                    <NA>  \n3                      5                   <NA>                    <NA>  \n4                      5                   <NA>                    <NA>  \n...                  ...                    ...                     ...  \n210825                21                     94                       8  \n210826                 6                     56                       2  \n210827                 9                     55                       5  \n210828                12                     62                      10  \n210829                 3                     65                       8  \n\n[210830 rows x 16 columns]",
      "text/html": "<div>\n<style scoped>\n    .dataframe tbody tr th:only-of-type {\n        vertical-align: middle;\n    }\n\n    .dataframe tbody tr th {\n        vertical-align: top;\n    }\n\n    .dataframe thead th {\n        text-align: right;\n    }\n</style>\n<table border=\"1\" class=\"dataframe\">\n  <thead>\n    <tr style=\"text-align: right;\">\n      <th></th>\n      <th>month</th>\n      <th>town</th>\n      <th>flat_type</th>\n      <th>block</th>\n      <th>street_name</th>\n      <th>storey_range</th>\n      <th>floor_area_sqm</th>\n      <th>flat_model</th>\n      <th>lease_commence_date</th>\n      <th>resale_price</th>\n      <th>remaining_lease</th>\n      <th>n_rooms</th>\n      <th>storey_range_min</th>\n      <th>storey_range_max</th>\n      <th>remaining_lease_years</th>\n      <th>remaining_lease_months</th>\n    </tr>\n  </thead>\n  <tbody>\n    <tr>\n      <th>0</th>\n      <td>2012-03-01</td>\n      <td>ANG MO KIO</td>\n      <td>2 ROOM</td>\n      <td>172</td>\n      <td>ANG MO KIO AVE 4</td>\n      <td>06 TO 10</td>\n      <td>45.0</td>\n      <td>Improved</td>\n      <td>1986</td>\n      <td>250000.0</td>\n      <td>NaN</td>\n      <td>2</td>\n      <td>6</td>\n      <td>10</td>\n      <td>&lt;NA&gt;</td>\n      <td>&lt;NA&gt;</td>\n    </tr>\n    <tr>\n      <th>1</th>\n      <td>2012-03-01</td>\n      <td>SENGKANG</td>\n      <td>4 ROOM</td>\n      <td>184B</td>\n      <td>RIVERVALE CRES</td>\n      <td>11 TO 15</td>\n      <td>90.0</td>\n      <td>Model A</td>\n      <td>2003</td>\n      <td>436000.0</td>\n      <td>NaN</td>\n      <td>4</td>\n      <td>11</td>\n      <td>15</td>\n      <td>&lt;NA&gt;</td>\n      <td>&lt;NA&gt;</td>\n    </tr>\n    <tr>\n      <th>2</th>\n      <td>2012-03-01</td>\n      <td>SENGKANG</td>\n      <td>4 ROOM</td>\n      <td>201B</td>\n      <td>COMPASSVALE DR</td>\n      <td>11 TO 15</td>\n      <td>90.0</td>\n      <td>Model A</td>\n      <td>2001</td>\n      <td>437000.0</td>\n      <td>NaN</td>\n      <td>4</td>\n      <td>11</td>\n      <td>15</td>\n      <td>&lt;NA&gt;</td>\n      <td>&lt;NA&gt;</td>\n    </tr>\n    <tr>\n      <th>3</th>\n      <td>2012-03-01</td>\n      <td>SENGKANG</td>\n      <td>4 ROOM</td>\n      <td>311B</td>\n      <td>ANCHORVALE LANE</td>\n      <td>01 TO 05</td>\n      <td>95.0</td>\n      <td>Premium Apartment</td>\n      <td>2002</td>\n      <td>438000.0</td>\n      <td>NaN</td>\n      <td>4</td>\n      <td>1</td>\n      <td>5</td>\n      <td>&lt;NA&gt;</td>\n      <td>&lt;NA&gt;</td>\n    </tr>\n    <tr>\n      <th>4</th>\n      <td>2012-03-01</td>\n      <td>SENGKANG</td>\n      <td>4 ROOM</td>\n      <td>259B</td>\n      <td>COMPASSVALE RD</td>\n      <td>01 TO 05</td>\n      <td>85.0</td>\n      <td>Model A2</td>\n      <td>2001</td>\n      <td>438000.0</td>\n      <td>NaN</td>\n      <td>4</td>\n      <td>1</td>\n      <td>5</td>\n      <td>&lt;NA&gt;</td>\n      <td>&lt;NA&gt;</td>\n    </tr>\n    <tr>\n      <th>...</th>\n      <td>...</td>\n      <td>...</td>\n      <td>...</td>\n      <td>...</td>\n      <td>...</td>\n      <td>...</td>\n      <td>...</td>\n      <td>...</td>\n      <td>...</td>\n      <td>...</td>\n      <td>...</td>\n      <td>...</td>\n      <td>...</td>\n      <td>...</td>\n      <td>...</td>\n      <td>...</td>\n    </tr>\n    <tr>\n      <th>210825</th>\n      <td>2022-03-01</td>\n      <td>CLEMENTI</td>\n      <td>3 ROOM</td>\n      <td>208B</td>\n      <td>CLEMENTI AVE 6</td>\n      <td>19 TO 21</td>\n      <td>68.0</td>\n      <td>Model A</td>\n      <td>2017</td>\n      <td>575000.0</td>\n      <td>94 years 08 months</td>\n      <td>3</td>\n      <td>19</td>\n      <td>21</td>\n      <td>94</td>\n      <td>8</td>\n    </tr>\n    <tr>\n      <th>210826</th>\n      <td>2022-03-01</td>\n      <td>CLEMENTI</td>\n      <td>3 ROOM</td>\n      <td>320</td>\n      <td>CLEMENTI AVE 4</td>\n      <td>04 TO 06</td>\n      <td>67.0</td>\n      <td>New Generation</td>\n      <td>1979</td>\n      <td>380888.0</td>\n      <td>56 years 02 months</td>\n      <td>3</td>\n      <td>4</td>\n      <td>6</td>\n      <td>56</td>\n      <td>2</td>\n    </tr>\n    <tr>\n      <th>210827</th>\n      <td>2022-03-01</td>\n      <td>CLEMENTI</td>\n      <td>3 ROOM</td>\n      <td>334</td>\n      <td>CLEMENTI AVE 2</td>\n      <td>07 TO 09</td>\n      <td>67.0</td>\n      <td>New Generation</td>\n      <td>1978</td>\n      <td>416000.0</td>\n      <td>55 years 05 months</td>\n      <td>3</td>\n      <td>7</td>\n      <td>9</td>\n      <td>55</td>\n      <td>5</td>\n    </tr>\n    <tr>\n      <th>210828</th>\n      <td>2022-03-01</td>\n      <td>GEYLANG</td>\n      <td>3 ROOM</td>\n      <td>3</td>\n      <td>JOO CHIAT RD</td>\n      <td>10 TO 12</td>\n      <td>74.0</td>\n      <td>Model A</td>\n      <td>1985</td>\n      <td>470000.0</td>\n      <td>62 years 10 months</td>\n      <td>3</td>\n      <td>10</td>\n      <td>12</td>\n      <td>62</td>\n      <td>10</td>\n    </tr>\n    <tr>\n      <th>210829</th>\n      <td>2022-03-01</td>\n      <td>BUKIT PANJANG</td>\n      <td>4 ROOM</td>\n      <td>149</td>\n      <td>PETIR RD</td>\n      <td>01 TO 03</td>\n      <td>103.0</td>\n      <td>Model A</td>\n      <td>1988</td>\n      <td>420000.0</td>\n      <td>65 years 08 months</td>\n      <td>4</td>\n      <td>1</td>\n      <td>3</td>\n      <td>65</td>\n      <td>8</td>\n    </tr>\n  </tbody>\n</table>\n<p>210830 rows × 16 columns</p>\n</div>"
     },
     "execution_count": 7,
     "metadata": {},
     "output_type": "execute_result"
    }
   ],
   "source": [
    "registration = clean_registration_df(registration)\n",
    "registration"
   ],
   "metadata": {
    "collapsed": false,
    "pycharm": {
     "name": "#%%\n"
    }
   }
  },
  {
   "cell_type": "code",
   "execution_count": 8,
   "outputs": [
    {
     "data": {
      "text/plain": "            month           town flat_type block       street_name  \\\n0      1990-01-01     ANG MO KIO    1 ROOM   309  ANG MO KIO AVE 1   \n1      1990-01-01         YISHUN    5 ROOM   229      YISHUN ST 21   \n2      1990-01-01         YISHUN    5 ROOM   231      YISHUN ST 21   \n3      1990-01-01         YISHUN    5 ROOM   221      YISHUN ST 21   \n4      1990-01-01         YISHUN    5 ROOM   161      YISHUN ST 11   \n...           ...            ...       ...   ...               ...   \n210825 2022-03-01       CLEMENTI    3 ROOM  208B    CLEMENTI AVE 6   \n210826 2022-03-01       CLEMENTI    3 ROOM   320    CLEMENTI AVE 4   \n210827 2022-03-01       CLEMENTI    3 ROOM   334    CLEMENTI AVE 2   \n210828 2022-03-01        GEYLANG    3 ROOM     3      JOO CHIAT RD   \n210829 2022-03-01  BUKIT PANJANG    4 ROOM   149          PETIR RD   \n\n       storey_range  floor_area_sqm      flat_model  lease_commence_date  \\\n0          10 TO 12            31.0        IMPROVED                 1977   \n1          01 TO 03           121.0        IMPROVED                 1985   \n2          01 TO 03           121.0        IMPROVED                 1985   \n3          07 TO 09           121.0        IMPROVED                 1985   \n4          10 TO 12           121.0        IMPROVED                 1985   \n...             ...             ...             ...                  ...   \n210825     19 TO 21            68.0         Model A                 2017   \n210826     04 TO 06            67.0  New Generation                 1979   \n210827     07 TO 09            67.0  New Generation                 1978   \n210828     10 TO 12            74.0         Model A                 1985   \n210829     01 TO 03           103.0         Model A                 1988   \n\n        resale_price  ...  storey_range_min  storey_range_max  \\\n0             9000.0  ...                10                12   \n1            98700.0  ...                 1                 3   \n2            94000.0  ...                 1                 3   \n3            98000.0  ...                 7                 9   \n4           120000.0  ...                10                12   \n...              ...  ...               ...               ...   \n210825      575000.0  ...                19                21   \n210826      380888.0  ...                 4                 6   \n210827      416000.0  ...                 7                 9   \n210828      470000.0  ...                10                12   \n210829      420000.0  ...                 1                 3   \n\n           remaining_lease remaining_lease_years  remaining_lease_months  \\\n0                      NaN                    86                    <NA>   \n1                      NaN                    94                    <NA>   \n2                      NaN                    94                    <NA>   \n3                      NaN                    94                    <NA>   \n4                      NaN                    94                    <NA>   \n...                    ...                   ...                     ...   \n210825  94 years 08 months                    94                       8   \n210826  56 years 02 months                    56                       2   \n210827  55 years 05 months                    55                       5   \n210828  62 years 10 months                    62                      10   \n210829  65 years 08 months                    65                       8   \n\n                                           id price_per_sq_ft  price_per_sq_m  \\\n0       1990_01_309_ANG_MO_KIO_AVE_1_10_TO_12       88.490320      290.322581   \n1           1990_01_229_YISHUN_ST_21_01_TO_03      248.626108      815.702479   \n2           1990_01_231_YISHUN_ST_21_01_TO_03      236.786769      776.859504   \n3           1990_01_221_YISHUN_ST_21_07_TO_09      246.862802      809.917355   \n4           1990_01_161_YISHUN_ST_11_10_TO_12      302.280982      991.735537   \n...                                       ...             ...             ...   \n210825   2022_03_208B_CLEMENTI_AVE_6_19_TO_21     2577.352859     8455.882353   \n210826    2022_03_320_CLEMENTI_AVE_4_04_TO_06     1732.756100     5684.895522   \n210827    2022_03_334_CLEMENTI_AVE_2_07_TO_09     1892.489492     6208.955224   \n210828        2022_03_3_JOO_CHIAT_RD_10_TO_12     1935.891830     6351.351351   \n210829          2022_03_149_PETIR_RD_01_TO_03     1242.873747     4077.669903   \n\n        price_per_sq_ft_per_lease_yr  price_per_sq_m_per_lease_yr  \n0                           1.028957                     3.375844  \n1                           2.644959                     8.677686  \n2                           2.519008                     8.264463  \n3                           2.626200                     8.616142  \n4                           3.215755                    10.550378  \n...                              ...                          ...  \n210825                     27.418647                    89.956195  \n210826                     30.942073                   101.515991  \n210827                     34.408900                   112.890095  \n210828                     31.224062                   102.441151  \n210829                     19.121135                    62.733383  \n\n[1524524 rows x 21 columns]",
      "text/html": "<div>\n<style scoped>\n    .dataframe tbody tr th:only-of-type {\n        vertical-align: middle;\n    }\n\n    .dataframe tbody tr th {\n        vertical-align: top;\n    }\n\n    .dataframe thead th {\n        text-align: right;\n    }\n</style>\n<table border=\"1\" class=\"dataframe\">\n  <thead>\n    <tr style=\"text-align: right;\">\n      <th></th>\n      <th>month</th>\n      <th>town</th>\n      <th>flat_type</th>\n      <th>block</th>\n      <th>street_name</th>\n      <th>storey_range</th>\n      <th>floor_area_sqm</th>\n      <th>flat_model</th>\n      <th>lease_commence_date</th>\n      <th>resale_price</th>\n      <th>...</th>\n      <th>storey_range_min</th>\n      <th>storey_range_max</th>\n      <th>remaining_lease</th>\n      <th>remaining_lease_years</th>\n      <th>remaining_lease_months</th>\n      <th>id</th>\n      <th>price_per_sq_ft</th>\n      <th>price_per_sq_m</th>\n      <th>price_per_sq_ft_per_lease_yr</th>\n      <th>price_per_sq_m_per_lease_yr</th>\n    </tr>\n  </thead>\n  <tbody>\n    <tr>\n      <th>0</th>\n      <td>1990-01-01</td>\n      <td>ANG MO KIO</td>\n      <td>1 ROOM</td>\n      <td>309</td>\n      <td>ANG MO KIO AVE 1</td>\n      <td>10 TO 12</td>\n      <td>31.0</td>\n      <td>IMPROVED</td>\n      <td>1977</td>\n      <td>9000.0</td>\n      <td>...</td>\n      <td>10</td>\n      <td>12</td>\n      <td>NaN</td>\n      <td>86</td>\n      <td>&lt;NA&gt;</td>\n      <td>1990_01_309_ANG_MO_KIO_AVE_1_10_TO_12</td>\n      <td>88.490320</td>\n      <td>290.322581</td>\n      <td>1.028957</td>\n      <td>3.375844</td>\n    </tr>\n    <tr>\n      <th>1</th>\n      <td>1990-01-01</td>\n      <td>YISHUN</td>\n      <td>5 ROOM</td>\n      <td>229</td>\n      <td>YISHUN ST 21</td>\n      <td>01 TO 03</td>\n      <td>121.0</td>\n      <td>IMPROVED</td>\n      <td>1985</td>\n      <td>98700.0</td>\n      <td>...</td>\n      <td>1</td>\n      <td>3</td>\n      <td>NaN</td>\n      <td>94</td>\n      <td>&lt;NA&gt;</td>\n      <td>1990_01_229_YISHUN_ST_21_01_TO_03</td>\n      <td>248.626108</td>\n      <td>815.702479</td>\n      <td>2.644959</td>\n      <td>8.677686</td>\n    </tr>\n    <tr>\n      <th>2</th>\n      <td>1990-01-01</td>\n      <td>YISHUN</td>\n      <td>5 ROOM</td>\n      <td>231</td>\n      <td>YISHUN ST 21</td>\n      <td>01 TO 03</td>\n      <td>121.0</td>\n      <td>IMPROVED</td>\n      <td>1985</td>\n      <td>94000.0</td>\n      <td>...</td>\n      <td>1</td>\n      <td>3</td>\n      <td>NaN</td>\n      <td>94</td>\n      <td>&lt;NA&gt;</td>\n      <td>1990_01_231_YISHUN_ST_21_01_TO_03</td>\n      <td>236.786769</td>\n      <td>776.859504</td>\n      <td>2.519008</td>\n      <td>8.264463</td>\n    </tr>\n    <tr>\n      <th>3</th>\n      <td>1990-01-01</td>\n      <td>YISHUN</td>\n      <td>5 ROOM</td>\n      <td>221</td>\n      <td>YISHUN ST 21</td>\n      <td>07 TO 09</td>\n      <td>121.0</td>\n      <td>IMPROVED</td>\n      <td>1985</td>\n      <td>98000.0</td>\n      <td>...</td>\n      <td>7</td>\n      <td>9</td>\n      <td>NaN</td>\n      <td>94</td>\n      <td>&lt;NA&gt;</td>\n      <td>1990_01_221_YISHUN_ST_21_07_TO_09</td>\n      <td>246.862802</td>\n      <td>809.917355</td>\n      <td>2.626200</td>\n      <td>8.616142</td>\n    </tr>\n    <tr>\n      <th>4</th>\n      <td>1990-01-01</td>\n      <td>YISHUN</td>\n      <td>5 ROOM</td>\n      <td>161</td>\n      <td>YISHUN ST 11</td>\n      <td>10 TO 12</td>\n      <td>121.0</td>\n      <td>IMPROVED</td>\n      <td>1985</td>\n      <td>120000.0</td>\n      <td>...</td>\n      <td>10</td>\n      <td>12</td>\n      <td>NaN</td>\n      <td>94</td>\n      <td>&lt;NA&gt;</td>\n      <td>1990_01_161_YISHUN_ST_11_10_TO_12</td>\n      <td>302.280982</td>\n      <td>991.735537</td>\n      <td>3.215755</td>\n      <td>10.550378</td>\n    </tr>\n    <tr>\n      <th>...</th>\n      <td>...</td>\n      <td>...</td>\n      <td>...</td>\n      <td>...</td>\n      <td>...</td>\n      <td>...</td>\n      <td>...</td>\n      <td>...</td>\n      <td>...</td>\n      <td>...</td>\n      <td>...</td>\n      <td>...</td>\n      <td>...</td>\n      <td>...</td>\n      <td>...</td>\n      <td>...</td>\n      <td>...</td>\n      <td>...</td>\n      <td>...</td>\n      <td>...</td>\n      <td>...</td>\n    </tr>\n    <tr>\n      <th>210825</th>\n      <td>2022-03-01</td>\n      <td>CLEMENTI</td>\n      <td>3 ROOM</td>\n      <td>208B</td>\n      <td>CLEMENTI AVE 6</td>\n      <td>19 TO 21</td>\n      <td>68.0</td>\n      <td>Model A</td>\n      <td>2017</td>\n      <td>575000.0</td>\n      <td>...</td>\n      <td>19</td>\n      <td>21</td>\n      <td>94 years 08 months</td>\n      <td>94</td>\n      <td>8</td>\n      <td>2022_03_208B_CLEMENTI_AVE_6_19_TO_21</td>\n      <td>2577.352859</td>\n      <td>8455.882353</td>\n      <td>27.418647</td>\n      <td>89.956195</td>\n    </tr>\n    <tr>\n      <th>210826</th>\n      <td>2022-03-01</td>\n      <td>CLEMENTI</td>\n      <td>3 ROOM</td>\n      <td>320</td>\n      <td>CLEMENTI AVE 4</td>\n      <td>04 TO 06</td>\n      <td>67.0</td>\n      <td>New Generation</td>\n      <td>1979</td>\n      <td>380888.0</td>\n      <td>...</td>\n      <td>4</td>\n      <td>6</td>\n      <td>56 years 02 months</td>\n      <td>56</td>\n      <td>2</td>\n      <td>2022_03_320_CLEMENTI_AVE_4_04_TO_06</td>\n      <td>1732.756100</td>\n      <td>5684.895522</td>\n      <td>30.942073</td>\n      <td>101.515991</td>\n    </tr>\n    <tr>\n      <th>210827</th>\n      <td>2022-03-01</td>\n      <td>CLEMENTI</td>\n      <td>3 ROOM</td>\n      <td>334</td>\n      <td>CLEMENTI AVE 2</td>\n      <td>07 TO 09</td>\n      <td>67.0</td>\n      <td>New Generation</td>\n      <td>1978</td>\n      <td>416000.0</td>\n      <td>...</td>\n      <td>7</td>\n      <td>9</td>\n      <td>55 years 05 months</td>\n      <td>55</td>\n      <td>5</td>\n      <td>2022_03_334_CLEMENTI_AVE_2_07_TO_09</td>\n      <td>1892.489492</td>\n      <td>6208.955224</td>\n      <td>34.408900</td>\n      <td>112.890095</td>\n    </tr>\n    <tr>\n      <th>210828</th>\n      <td>2022-03-01</td>\n      <td>GEYLANG</td>\n      <td>3 ROOM</td>\n      <td>3</td>\n      <td>JOO CHIAT RD</td>\n      <td>10 TO 12</td>\n      <td>74.0</td>\n      <td>Model A</td>\n      <td>1985</td>\n      <td>470000.0</td>\n      <td>...</td>\n      <td>10</td>\n      <td>12</td>\n      <td>62 years 10 months</td>\n      <td>62</td>\n      <td>10</td>\n      <td>2022_03_3_JOO_CHIAT_RD_10_TO_12</td>\n      <td>1935.891830</td>\n      <td>6351.351351</td>\n      <td>31.224062</td>\n      <td>102.441151</td>\n    </tr>\n    <tr>\n      <th>210829</th>\n      <td>2022-03-01</td>\n      <td>BUKIT PANJANG</td>\n      <td>4 ROOM</td>\n      <td>149</td>\n      <td>PETIR RD</td>\n      <td>01 TO 03</td>\n      <td>103.0</td>\n      <td>Model A</td>\n      <td>1988</td>\n      <td>420000.0</td>\n      <td>...</td>\n      <td>1</td>\n      <td>3</td>\n      <td>65 years 08 months</td>\n      <td>65</td>\n      <td>8</td>\n      <td>2022_03_149_PETIR_RD_01_TO_03</td>\n      <td>1242.873747</td>\n      <td>4077.669903</td>\n      <td>19.121135</td>\n      <td>62.733383</td>\n    </tr>\n  </tbody>\n</table>\n<p>1524524 rows × 21 columns</p>\n</div>"
     },
     "execution_count": 8,
     "metadata": {},
     "output_type": "execute_result"
    }
   ],
   "source": [
    "def create_resale_prices(approval_df, registration_df):\n",
    "    rs_df = pd.concat([approval_df, registration_df])\n",
    "\n",
    "    rs_df['month'] = pd.to_datetime(rs_df['month'])\n",
    "    rs_df['lease_commence_date'] = pd.to_datetime(rs_df['lease_commence_date'], format='%Y')\n",
    "\n",
    "    rs_df['id'] = rs_df['month'].dt.strftime('%Y') + \"_\" + rs_df['month'].dt.strftime('%m') + \"_\" +  rs_df['block'] + \"_\" + rs_df['street_name'].str.replace(' ', '_') + \"_\" + rs_df['storey_range'].str.replace(' ', '_')\n",
    "\n",
    "    # Remaining lease years =\n",
    "    # if month >= 6\n",
    "    # lease_commence_date + 99 - month\n",
    "    # if month < 6\n",
    "    # lease_commence_date + 98 - month\n",
    "    rs_df['remaining_lease_years'] = np.where(rs_df['month'].dt.month >= 6, ((rs_df['lease_commence_date'].dt.year + 98) - rs_df['month'].dt.year), ((rs_df['lease_commence_date'].dt.year + 99) - rs_df['month'].dt.year))\n",
    "\n",
    "    # Convert back to int year.\n",
    "    rs_df['lease_commence_date'] = rs_df['lease_commence_date'].dt.year.astype(int)\n",
    "\n",
    "\n",
    "    # Price per square foot and meter\n",
    "    rs_df['price_per_sq_ft'] = rs_df['resale_price'] / (rs_df['floor_area_sqm'] * 3.28084) #3.28084 ft per meter\n",
    "    rs_df['price_per_sq_m'] = rs_df['resale_price'] / rs_df['floor_area_sqm']\n",
    "\n",
    "    # Price per square foot/meter and remaining lease years\n",
    "    rs_df['price_per_sq_ft_per_lease_yr'] = rs_df['price_per_sq_ft'] / rs_df['remaining_lease_years']\n",
    "    rs_df['price_per_sq_m_per_lease_yr'] = rs_df['price_per_sq_m'] / rs_df['remaining_lease_years']\n",
    "\n",
    "\n",
    "\n",
    "    return rs_df\n",
    "\n",
    "rs_df = create_resale_prices(approval, registration)\n",
    "rs_df"
   ],
   "metadata": {
    "collapsed": false,
    "pycharm": {
     "name": "#%%\n"
    }
   }
  },
  {
   "cell_type": "code",
   "execution_count": 9,
   "outputs": [],
   "source": [
    "def update_street_abbreviations(resale_df):\n",
    "    resale_df['address']=resale_df['block']+' '+resale_df['street_name']\n",
    "\n",
    "    ##Deal with short forms\n",
    "    resale_df['address']=resale_df['address'].str.replace(' AVE ',' AVENUE ')\n",
    "    resale_df['address']=resale_df['address'].str.replace(' ST ',' STREET ')\n",
    "    resale_df['address']=resale_df['address'].str.replace(' NTH',' NORTH')\n",
    "    resale_df['address']=resale_df['address'].str.replace(' STH',' SOUTH')\n",
    "    resale_df['address']=resale_df['address'].str.replace(' RD',' ROAD')\n",
    "    resale_df['address']=resale_df['address'].str.replace(' UPP ',' UPPER ')\n",
    "    resale_df['address']=resale_df['address'].str.replace(' CTRL',' CENTRAL')\n",
    "    resale_df['address']=resale_df['address'].str.replace(' JLN ',' JALAN ')\n",
    "    resale_df['address']=resale_df['address'].str.replace('BT ','BUKIT ')\n",
    "    resale_df['address']=resale_df['address'].str.replace(' HTS',' HEIGHTS')\n",
    "    resale_df['address']=resale_df['address'].str.replace(' MKT ',' MARKET ')\n",
    "    resale_df['address']=resale_df['address'].str.replace('TG ','TANJONG ')\n",
    "    resale_df['address']=resale_df['address'].str.replace(\"C'WEALTH\",'COMMONWEALTH')\n",
    "    resale_df['address']=resale_df['address'].str.replace(\"LOR \",'LORONG ')\n",
    "    resale_df['address']=resale_df['address'].str.replace(\"GDNS\",'GARDENS')\n",
    "    resale_df['address']=resale_df['address'].str.replace('ST. ','SAINT ')\n",
    "    resale_df['address']=resale_df['address'].str.replace(' PK',' PARK')\n",
    "    resale_df['address']=resale_df['address'].str.replace(' DR ',' DRIVE ')\n",
    "    resale_df['address']=resale_df['address'].str.replace('KG ','KAMPONG ')\n",
    "    resale_df['address']=resale_df['address'].str.replace(' CL ',' CLOSE ')\n",
    "\n",
    "    return resale_df"
   ],
   "metadata": {
    "collapsed": false,
    "pycharm": {
     "name": "#%%\n"
    }
   }
  },
  {
   "cell_type": "code",
   "execution_count": 10,
   "outputs": [
    {
     "name": "stderr",
     "output_type": "stream",
     "text": [
      "/var/folders/x5/8jbl553d391f5ks09z57vch40000gn/T/ipykernel_3611/2010800487.py:20: FutureWarning: The default value of regex will change from True to False in a future version.\n",
      "  resale_df['address']=resale_df['address'].str.replace('ST. ','SAINT ')\n"
     ]
    },
    {
     "data": {
      "text/plain": "            month           town flat_type block       street_name  \\\n0      1990-01-01     ANG MO KIO    1 ROOM   309  ANG MO KIO AVE 1   \n1      1990-01-01         YISHUN    5 ROOM   229      YISHUN ST 21   \n2      1990-01-01         YISHUN    5 ROOM   231      YISHUN ST 21   \n3      1990-01-01         YISHUN    5 ROOM   221      YISHUN ST 21   \n4      1990-01-01         YISHUN    5 ROOM   161      YISHUN ST 11   \n...           ...            ...       ...   ...               ...   \n210825 2022-03-01       CLEMENTI    3 ROOM  208B    CLEMENTI AVE 6   \n210826 2022-03-01       CLEMENTI    3 ROOM   320    CLEMENTI AVE 4   \n210827 2022-03-01       CLEMENTI    3 ROOM   334    CLEMENTI AVE 2   \n210828 2022-03-01        GEYLANG    3 ROOM     3      JOO CHIAT RD   \n210829 2022-03-01  BUKIT PANJANG    4 ROOM   149          PETIR RD   \n\n       storey_range  floor_area_sqm      flat_model  lease_commence_date  \\\n0          10 TO 12            31.0        IMPROVED                 1977   \n1          01 TO 03           121.0        IMPROVED                 1985   \n2          01 TO 03           121.0        IMPROVED                 1985   \n3          07 TO 09           121.0        IMPROVED                 1985   \n4          10 TO 12           121.0        IMPROVED                 1985   \n...             ...             ...             ...                  ...   \n210825     19 TO 21            68.0         Model A                 2017   \n210826     04 TO 06            67.0  New Generation                 1979   \n210827     07 TO 09            67.0  New Generation                 1978   \n210828     10 TO 12            74.0         Model A                 1985   \n210829     01 TO 03           103.0         Model A                 1988   \n\n        resale_price  ...  storey_range_max     remaining_lease  \\\n0             9000.0  ...                12                 NaN   \n1            98700.0  ...                 3                 NaN   \n2            94000.0  ...                 3                 NaN   \n3            98000.0  ...                 9                 NaN   \n4           120000.0  ...                12                 NaN   \n...              ...  ...               ...                 ...   \n210825      575000.0  ...                21  94 years 08 months   \n210826      380888.0  ...                 6  56 years 02 months   \n210827      416000.0  ...                 9  55 years 05 months   \n210828      470000.0  ...                12  62 years 10 months   \n210829      420000.0  ...                 3  65 years 08 months   \n\n        remaining_lease_years remaining_lease_months  \\\n0                          86                   <NA>   \n1                          94                   <NA>   \n2                          94                   <NA>   \n3                          94                   <NA>   \n4                          94                   <NA>   \n...                       ...                    ...   \n210825                     94                      8   \n210826                     56                      2   \n210827                     55                      5   \n210828                     62                     10   \n210829                     65                      8   \n\n                                           id  price_per_sq_ft price_per_sq_m  \\\n0       1990_01_309_ANG_MO_KIO_AVE_1_10_TO_12        88.490320     290.322581   \n1           1990_01_229_YISHUN_ST_21_01_TO_03       248.626108     815.702479   \n2           1990_01_231_YISHUN_ST_21_01_TO_03       236.786769     776.859504   \n3           1990_01_221_YISHUN_ST_21_07_TO_09       246.862802     809.917355   \n4           1990_01_161_YISHUN_ST_11_10_TO_12       302.280982     991.735537   \n...                                       ...              ...            ...   \n210825   2022_03_208B_CLEMENTI_AVE_6_19_TO_21      2577.352859    8455.882353   \n210826    2022_03_320_CLEMENTI_AVE_4_04_TO_06      1732.756100    5684.895522   \n210827    2022_03_334_CLEMENTI_AVE_2_07_TO_09      1892.489492    6208.955224   \n210828        2022_03_3_JOO_CHIAT_RD_10_TO_12      1935.891830    6351.351351   \n210829          2022_03_149_PETIR_RD_01_TO_03      1242.873747    4077.669903   \n\n        price_per_sq_ft_per_lease_yr  price_per_sq_m_per_lease_yr  \\\n0                           1.028957                     3.375844   \n1                           2.644959                     8.677686   \n2                           2.519008                     8.264463   \n3                           2.626200                     8.616142   \n4                           3.215755                    10.550378   \n...                              ...                          ...   \n210825                     27.418647                    89.956195   \n210826                     30.942073                   101.515991   \n210827                     34.408900                   112.890095   \n210828                     31.224062                   102.441151   \n210829                     19.121135                    62.733383   \n\n                        address  \n0       309 ANG MO KIO AVENUE 1  \n1          229 YISHUN STREET 21  \n2          231 YISHUN STREET 21  \n3          221 YISHUN STREET 21  \n4          161 YISHUN STREET 11  \n...                         ...  \n210825   208B CLEMENTI AVENUE 6  \n210826    320 CLEMENTI AVENUE 4  \n210827    334 CLEMENTI AVENUE 2  \n210828         3 JOO CHIAT ROAD  \n210829           149 PETIR ROAD  \n\n[1524524 rows x 22 columns]",
      "text/html": "<div>\n<style scoped>\n    .dataframe tbody tr th:only-of-type {\n        vertical-align: middle;\n    }\n\n    .dataframe tbody tr th {\n        vertical-align: top;\n    }\n\n    .dataframe thead th {\n        text-align: right;\n    }\n</style>\n<table border=\"1\" class=\"dataframe\">\n  <thead>\n    <tr style=\"text-align: right;\">\n      <th></th>\n      <th>month</th>\n      <th>town</th>\n      <th>flat_type</th>\n      <th>block</th>\n      <th>street_name</th>\n      <th>storey_range</th>\n      <th>floor_area_sqm</th>\n      <th>flat_model</th>\n      <th>lease_commence_date</th>\n      <th>resale_price</th>\n      <th>...</th>\n      <th>storey_range_max</th>\n      <th>remaining_lease</th>\n      <th>remaining_lease_years</th>\n      <th>remaining_lease_months</th>\n      <th>id</th>\n      <th>price_per_sq_ft</th>\n      <th>price_per_sq_m</th>\n      <th>price_per_sq_ft_per_lease_yr</th>\n      <th>price_per_sq_m_per_lease_yr</th>\n      <th>address</th>\n    </tr>\n  </thead>\n  <tbody>\n    <tr>\n      <th>0</th>\n      <td>1990-01-01</td>\n      <td>ANG MO KIO</td>\n      <td>1 ROOM</td>\n      <td>309</td>\n      <td>ANG MO KIO AVE 1</td>\n      <td>10 TO 12</td>\n      <td>31.0</td>\n      <td>IMPROVED</td>\n      <td>1977</td>\n      <td>9000.0</td>\n      <td>...</td>\n      <td>12</td>\n      <td>NaN</td>\n      <td>86</td>\n      <td>&lt;NA&gt;</td>\n      <td>1990_01_309_ANG_MO_KIO_AVE_1_10_TO_12</td>\n      <td>88.490320</td>\n      <td>290.322581</td>\n      <td>1.028957</td>\n      <td>3.375844</td>\n      <td>309 ANG MO KIO AVENUE 1</td>\n    </tr>\n    <tr>\n      <th>1</th>\n      <td>1990-01-01</td>\n      <td>YISHUN</td>\n      <td>5 ROOM</td>\n      <td>229</td>\n      <td>YISHUN ST 21</td>\n      <td>01 TO 03</td>\n      <td>121.0</td>\n      <td>IMPROVED</td>\n      <td>1985</td>\n      <td>98700.0</td>\n      <td>...</td>\n      <td>3</td>\n      <td>NaN</td>\n      <td>94</td>\n      <td>&lt;NA&gt;</td>\n      <td>1990_01_229_YISHUN_ST_21_01_TO_03</td>\n      <td>248.626108</td>\n      <td>815.702479</td>\n      <td>2.644959</td>\n      <td>8.677686</td>\n      <td>229 YISHUN STREET 21</td>\n    </tr>\n    <tr>\n      <th>2</th>\n      <td>1990-01-01</td>\n      <td>YISHUN</td>\n      <td>5 ROOM</td>\n      <td>231</td>\n      <td>YISHUN ST 21</td>\n      <td>01 TO 03</td>\n      <td>121.0</td>\n      <td>IMPROVED</td>\n      <td>1985</td>\n      <td>94000.0</td>\n      <td>...</td>\n      <td>3</td>\n      <td>NaN</td>\n      <td>94</td>\n      <td>&lt;NA&gt;</td>\n      <td>1990_01_231_YISHUN_ST_21_01_TO_03</td>\n      <td>236.786769</td>\n      <td>776.859504</td>\n      <td>2.519008</td>\n      <td>8.264463</td>\n      <td>231 YISHUN STREET 21</td>\n    </tr>\n    <tr>\n      <th>3</th>\n      <td>1990-01-01</td>\n      <td>YISHUN</td>\n      <td>5 ROOM</td>\n      <td>221</td>\n      <td>YISHUN ST 21</td>\n      <td>07 TO 09</td>\n      <td>121.0</td>\n      <td>IMPROVED</td>\n      <td>1985</td>\n      <td>98000.0</td>\n      <td>...</td>\n      <td>9</td>\n      <td>NaN</td>\n      <td>94</td>\n      <td>&lt;NA&gt;</td>\n      <td>1990_01_221_YISHUN_ST_21_07_TO_09</td>\n      <td>246.862802</td>\n      <td>809.917355</td>\n      <td>2.626200</td>\n      <td>8.616142</td>\n      <td>221 YISHUN STREET 21</td>\n    </tr>\n    <tr>\n      <th>4</th>\n      <td>1990-01-01</td>\n      <td>YISHUN</td>\n      <td>5 ROOM</td>\n      <td>161</td>\n      <td>YISHUN ST 11</td>\n      <td>10 TO 12</td>\n      <td>121.0</td>\n      <td>IMPROVED</td>\n      <td>1985</td>\n      <td>120000.0</td>\n      <td>...</td>\n      <td>12</td>\n      <td>NaN</td>\n      <td>94</td>\n      <td>&lt;NA&gt;</td>\n      <td>1990_01_161_YISHUN_ST_11_10_TO_12</td>\n      <td>302.280982</td>\n      <td>991.735537</td>\n      <td>3.215755</td>\n      <td>10.550378</td>\n      <td>161 YISHUN STREET 11</td>\n    </tr>\n    <tr>\n      <th>...</th>\n      <td>...</td>\n      <td>...</td>\n      <td>...</td>\n      <td>...</td>\n      <td>...</td>\n      <td>...</td>\n      <td>...</td>\n      <td>...</td>\n      <td>...</td>\n      <td>...</td>\n      <td>...</td>\n      <td>...</td>\n      <td>...</td>\n      <td>...</td>\n      <td>...</td>\n      <td>...</td>\n      <td>...</td>\n      <td>...</td>\n      <td>...</td>\n      <td>...</td>\n      <td>...</td>\n    </tr>\n    <tr>\n      <th>210825</th>\n      <td>2022-03-01</td>\n      <td>CLEMENTI</td>\n      <td>3 ROOM</td>\n      <td>208B</td>\n      <td>CLEMENTI AVE 6</td>\n      <td>19 TO 21</td>\n      <td>68.0</td>\n      <td>Model A</td>\n      <td>2017</td>\n      <td>575000.0</td>\n      <td>...</td>\n      <td>21</td>\n      <td>94 years 08 months</td>\n      <td>94</td>\n      <td>8</td>\n      <td>2022_03_208B_CLEMENTI_AVE_6_19_TO_21</td>\n      <td>2577.352859</td>\n      <td>8455.882353</td>\n      <td>27.418647</td>\n      <td>89.956195</td>\n      <td>208B CLEMENTI AVENUE 6</td>\n    </tr>\n    <tr>\n      <th>210826</th>\n      <td>2022-03-01</td>\n      <td>CLEMENTI</td>\n      <td>3 ROOM</td>\n      <td>320</td>\n      <td>CLEMENTI AVE 4</td>\n      <td>04 TO 06</td>\n      <td>67.0</td>\n      <td>New Generation</td>\n      <td>1979</td>\n      <td>380888.0</td>\n      <td>...</td>\n      <td>6</td>\n      <td>56 years 02 months</td>\n      <td>56</td>\n      <td>2</td>\n      <td>2022_03_320_CLEMENTI_AVE_4_04_TO_06</td>\n      <td>1732.756100</td>\n      <td>5684.895522</td>\n      <td>30.942073</td>\n      <td>101.515991</td>\n      <td>320 CLEMENTI AVENUE 4</td>\n    </tr>\n    <tr>\n      <th>210827</th>\n      <td>2022-03-01</td>\n      <td>CLEMENTI</td>\n      <td>3 ROOM</td>\n      <td>334</td>\n      <td>CLEMENTI AVE 2</td>\n      <td>07 TO 09</td>\n      <td>67.0</td>\n      <td>New Generation</td>\n      <td>1978</td>\n      <td>416000.0</td>\n      <td>...</td>\n      <td>9</td>\n      <td>55 years 05 months</td>\n      <td>55</td>\n      <td>5</td>\n      <td>2022_03_334_CLEMENTI_AVE_2_07_TO_09</td>\n      <td>1892.489492</td>\n      <td>6208.955224</td>\n      <td>34.408900</td>\n      <td>112.890095</td>\n      <td>334 CLEMENTI AVENUE 2</td>\n    </tr>\n    <tr>\n      <th>210828</th>\n      <td>2022-03-01</td>\n      <td>GEYLANG</td>\n      <td>3 ROOM</td>\n      <td>3</td>\n      <td>JOO CHIAT RD</td>\n      <td>10 TO 12</td>\n      <td>74.0</td>\n      <td>Model A</td>\n      <td>1985</td>\n      <td>470000.0</td>\n      <td>...</td>\n      <td>12</td>\n      <td>62 years 10 months</td>\n      <td>62</td>\n      <td>10</td>\n      <td>2022_03_3_JOO_CHIAT_RD_10_TO_12</td>\n      <td>1935.891830</td>\n      <td>6351.351351</td>\n      <td>31.224062</td>\n      <td>102.441151</td>\n      <td>3 JOO CHIAT ROAD</td>\n    </tr>\n    <tr>\n      <th>210829</th>\n      <td>2022-03-01</td>\n      <td>BUKIT PANJANG</td>\n      <td>4 ROOM</td>\n      <td>149</td>\n      <td>PETIR RD</td>\n      <td>01 TO 03</td>\n      <td>103.0</td>\n      <td>Model A</td>\n      <td>1988</td>\n      <td>420000.0</td>\n      <td>...</td>\n      <td>3</td>\n      <td>65 years 08 months</td>\n      <td>65</td>\n      <td>8</td>\n      <td>2022_03_149_PETIR_RD_01_TO_03</td>\n      <td>1242.873747</td>\n      <td>4077.669903</td>\n      <td>19.121135</td>\n      <td>62.733383</td>\n      <td>149 PETIR ROAD</td>\n    </tr>\n  </tbody>\n</table>\n<p>1524524 rows × 22 columns</p>\n</div>"
     },
     "execution_count": 10,
     "metadata": {},
     "output_type": "execute_result"
    }
   ],
   "source": [
    "rs_df = update_street_abbreviations(rs_df)\n",
    "rs_df"
   ],
   "metadata": {
    "collapsed": false,
    "pycharm": {
     "name": "#%%\n"
    }
   }
  },
  {
   "cell_type": "code",
   "execution_count": 11,
   "outputs": [],
   "source": [
    "def sort_cols(resale_df):\n",
    "    resale_df = resale_df[['id', 'month', 'block', 'town', 'street_name', 'address', 'storey_range', 'storey_range_min', 'storey_range_max',\n",
    "      'flat_model', 'flat_type', 'n_rooms', 'floor_area_sqm',\n",
    "       'lease_commence_date', 'remaining_lease', 'remaining_lease_years', 'remaining_lease_months',\n",
    "      'resale_price', 'price_per_sq_ft', 'price_per_sq_m', 'price_per_sq_ft_per_lease_yr', 'price_per_sq_m_per_lease_yr']].sort_values('month', ascending=True)\n",
    "\n",
    "    return resale_df"
   ],
   "metadata": {
    "collapsed": false,
    "pycharm": {
     "name": "#%%\n"
    }
   }
  },
  {
   "cell_type": "code",
   "execution_count": 12,
   "outputs": [
    {
     "data": {
      "text/plain": "                                           id      month block           town  \\\n0       1990_01_309_ANG_MO_KIO_AVE_1_10_TO_12 1990-01-01   309     ANG MO KIO   \n2004      1990_01_307_CLEMENTI_AVE_4_01_TO_03 1990-01-01   307       CLEMENTI   \n2005      1990_01_309_CLEMENTI_AVE_4_04_TO_06 1990-01-01   309       CLEMENTI   \n2006      1990_01_309_CLEMENTI_AVE_4_10_TO_12 1990-01-01   309       CLEMENTI   \n2007      1990_01_310_CLEMENTI_AVE_4_04_TO_06 1990-01-01   310       CLEMENTI   \n...                                       ...        ...   ...            ...   \n210529     2022_03_501B_YISHUN_ST_51_07_TO_09 2022-03-01  501B         YISHUN   \n210528      2022_03_820_YISHUN_ST_81_07_TO_09 2022-03-01   820         YISHUN   \n210527    2022_03_359_YISHUN_RING_RD_01_TO_03 2022-03-01   359         YISHUN   \n210538      2022_03_751_YISHUN_ST_72_04_TO_06 2022-03-01   751         YISHUN   \n210829          2022_03_149_PETIR_RD_01_TO_03 2022-03-01   149  BUKIT PANJANG   \n\n             street_name                  address storey_range  \\\n0       ANG MO KIO AVE 1  309 ANG MO KIO AVENUE 1     10 TO 12   \n2004      CLEMENTI AVE 4    307 CLEMENTI AVENUE 4     01 TO 03   \n2005      CLEMENTI AVE 4    309 CLEMENTI AVENUE 4     04 TO 06   \n2006      CLEMENTI AVE 4    309 CLEMENTI AVENUE 4     10 TO 12   \n2007      CLEMENTI AVE 4    310 CLEMENTI AVENUE 4     04 TO 06   \n...                  ...                      ...          ...   \n210529      YISHUN ST 51    501B YISHUN STREET 51     07 TO 09   \n210528      YISHUN ST 81     820 YISHUN STREET 81     07 TO 09   \n210527    YISHUN RING RD     359 YISHUN RING ROAD     01 TO 03   \n210538      YISHUN ST 72     751 YISHUN STREET 72     04 TO 06   \n210829          PETIR RD           149 PETIR ROAD     01 TO 03   \n\n        storey_range_min  storey_range_max      flat_model  ...  \\\n0                     10                12        IMPROVED  ...   \n2004                   1                 3  NEW GENERATION  ...   \n2005                   4                 6  NEW GENERATION  ...   \n2006                  10                12  NEW GENERATION  ...   \n2007                   4                 6  NEW GENERATION  ...   \n...                  ...               ...             ...  ...   \n210529                 7                 9        Improved  ...   \n210528                 7                 9        Improved  ...   \n210527                 1                 3       Apartment  ...   \n210538                 4                 6  New Generation  ...   \n210829                 1                 3         Model A  ...   \n\n       floor_area_sqm  lease_commence_date     remaining_lease  \\\n0                31.0                 1977                 NaN   \n2004             67.0                 1979                 NaN   \n2005             82.0                 1980                 NaN   \n2006             67.0                 1980                 NaN   \n2007             67.0                 1980                 NaN   \n...               ...                  ...                 ...   \n210529          112.0                 2018  94 years 11 months   \n210528          122.0                 1988  65 years 06 months   \n210527          145.0                 1988  65 years 05 months   \n210538           91.0                 1984  61 years 02 months   \n210829          103.0                 1988  65 years 08 months   \n\n        remaining_lease_years remaining_lease_months  resale_price  \\\n0                          86                   <NA>        9000.0   \n2004                       88                   <NA>       47000.0   \n2005                       89                   <NA>       57000.0   \n2006                       89                   <NA>       34000.0   \n2007                       89                   <NA>       47000.0   \n...                       ...                    ...           ...   \n210529                     95                     11      652000.0   \n210528                     65                      6      585000.0   \n210527                     65                      5      682000.0   \n210538                     61                      2      458000.0   \n210829                     65                      8      420000.0   \n\n        price_per_sq_ft  price_per_sq_m  price_per_sq_ft_per_lease_yr  \\\n0             88.490320      290.322581                      1.028957   \n2004         213.814919      701.492537                      2.429715   \n2005         211.873164      695.121951                      2.380597   \n2006         154.674622      507.462687                      1.737917   \n2007         213.814919      701.492537                      2.402415   \n...                 ...             ...                           ...   \n210529      1774.371372     5821.428571                     18.677593   \n210528      1461.540937     4795.081967                     22.485245   \n210527      1433.610989     4703.448276                     22.055554   \n210538      1534.048303     5032.967033                     25.148333   \n210829      1242.873747     4077.669903                     19.121135   \n\n        price_per_sq_m_per_lease_yr  \n0                          3.375844  \n2004                       7.971506  \n2005                       7.810359  \n2006                       5.701828  \n2007                       7.881939  \n...                             ...  \n210529                    61.278195  \n210528                    73.770492  \n210527                    72.360743  \n210538                    82.507656  \n210829                    62.733383  \n\n[1524524 rows x 22 columns]",
      "text/html": "<div>\n<style scoped>\n    .dataframe tbody tr th:only-of-type {\n        vertical-align: middle;\n    }\n\n    .dataframe tbody tr th {\n        vertical-align: top;\n    }\n\n    .dataframe thead th {\n        text-align: right;\n    }\n</style>\n<table border=\"1\" class=\"dataframe\">\n  <thead>\n    <tr style=\"text-align: right;\">\n      <th></th>\n      <th>id</th>\n      <th>month</th>\n      <th>block</th>\n      <th>town</th>\n      <th>street_name</th>\n      <th>address</th>\n      <th>storey_range</th>\n      <th>storey_range_min</th>\n      <th>storey_range_max</th>\n      <th>flat_model</th>\n      <th>...</th>\n      <th>floor_area_sqm</th>\n      <th>lease_commence_date</th>\n      <th>remaining_lease</th>\n      <th>remaining_lease_years</th>\n      <th>remaining_lease_months</th>\n      <th>resale_price</th>\n      <th>price_per_sq_ft</th>\n      <th>price_per_sq_m</th>\n      <th>price_per_sq_ft_per_lease_yr</th>\n      <th>price_per_sq_m_per_lease_yr</th>\n    </tr>\n  </thead>\n  <tbody>\n    <tr>\n      <th>0</th>\n      <td>1990_01_309_ANG_MO_KIO_AVE_1_10_TO_12</td>\n      <td>1990-01-01</td>\n      <td>309</td>\n      <td>ANG MO KIO</td>\n      <td>ANG MO KIO AVE 1</td>\n      <td>309 ANG MO KIO AVENUE 1</td>\n      <td>10 TO 12</td>\n      <td>10</td>\n      <td>12</td>\n      <td>IMPROVED</td>\n      <td>...</td>\n      <td>31.0</td>\n      <td>1977</td>\n      <td>NaN</td>\n      <td>86</td>\n      <td>&lt;NA&gt;</td>\n      <td>9000.0</td>\n      <td>88.490320</td>\n      <td>290.322581</td>\n      <td>1.028957</td>\n      <td>3.375844</td>\n    </tr>\n    <tr>\n      <th>2004</th>\n      <td>1990_01_307_CLEMENTI_AVE_4_01_TO_03</td>\n      <td>1990-01-01</td>\n      <td>307</td>\n      <td>CLEMENTI</td>\n      <td>CLEMENTI AVE 4</td>\n      <td>307 CLEMENTI AVENUE 4</td>\n      <td>01 TO 03</td>\n      <td>1</td>\n      <td>3</td>\n      <td>NEW GENERATION</td>\n      <td>...</td>\n      <td>67.0</td>\n      <td>1979</td>\n      <td>NaN</td>\n      <td>88</td>\n      <td>&lt;NA&gt;</td>\n      <td>47000.0</td>\n      <td>213.814919</td>\n      <td>701.492537</td>\n      <td>2.429715</td>\n      <td>7.971506</td>\n    </tr>\n    <tr>\n      <th>2005</th>\n      <td>1990_01_309_CLEMENTI_AVE_4_04_TO_06</td>\n      <td>1990-01-01</td>\n      <td>309</td>\n      <td>CLEMENTI</td>\n      <td>CLEMENTI AVE 4</td>\n      <td>309 CLEMENTI AVENUE 4</td>\n      <td>04 TO 06</td>\n      <td>4</td>\n      <td>6</td>\n      <td>NEW GENERATION</td>\n      <td>...</td>\n      <td>82.0</td>\n      <td>1980</td>\n      <td>NaN</td>\n      <td>89</td>\n      <td>&lt;NA&gt;</td>\n      <td>57000.0</td>\n      <td>211.873164</td>\n      <td>695.121951</td>\n      <td>2.380597</td>\n      <td>7.810359</td>\n    </tr>\n    <tr>\n      <th>2006</th>\n      <td>1990_01_309_CLEMENTI_AVE_4_10_TO_12</td>\n      <td>1990-01-01</td>\n      <td>309</td>\n      <td>CLEMENTI</td>\n      <td>CLEMENTI AVE 4</td>\n      <td>309 CLEMENTI AVENUE 4</td>\n      <td>10 TO 12</td>\n      <td>10</td>\n      <td>12</td>\n      <td>NEW GENERATION</td>\n      <td>...</td>\n      <td>67.0</td>\n      <td>1980</td>\n      <td>NaN</td>\n      <td>89</td>\n      <td>&lt;NA&gt;</td>\n      <td>34000.0</td>\n      <td>154.674622</td>\n      <td>507.462687</td>\n      <td>1.737917</td>\n      <td>5.701828</td>\n    </tr>\n    <tr>\n      <th>2007</th>\n      <td>1990_01_310_CLEMENTI_AVE_4_04_TO_06</td>\n      <td>1990-01-01</td>\n      <td>310</td>\n      <td>CLEMENTI</td>\n      <td>CLEMENTI AVE 4</td>\n      <td>310 CLEMENTI AVENUE 4</td>\n      <td>04 TO 06</td>\n      <td>4</td>\n      <td>6</td>\n      <td>NEW GENERATION</td>\n      <td>...</td>\n      <td>67.0</td>\n      <td>1980</td>\n      <td>NaN</td>\n      <td>89</td>\n      <td>&lt;NA&gt;</td>\n      <td>47000.0</td>\n      <td>213.814919</td>\n      <td>701.492537</td>\n      <td>2.402415</td>\n      <td>7.881939</td>\n    </tr>\n    <tr>\n      <th>...</th>\n      <td>...</td>\n      <td>...</td>\n      <td>...</td>\n      <td>...</td>\n      <td>...</td>\n      <td>...</td>\n      <td>...</td>\n      <td>...</td>\n      <td>...</td>\n      <td>...</td>\n      <td>...</td>\n      <td>...</td>\n      <td>...</td>\n      <td>...</td>\n      <td>...</td>\n      <td>...</td>\n      <td>...</td>\n      <td>...</td>\n      <td>...</td>\n      <td>...</td>\n      <td>...</td>\n    </tr>\n    <tr>\n      <th>210529</th>\n      <td>2022_03_501B_YISHUN_ST_51_07_TO_09</td>\n      <td>2022-03-01</td>\n      <td>501B</td>\n      <td>YISHUN</td>\n      <td>YISHUN ST 51</td>\n      <td>501B YISHUN STREET 51</td>\n      <td>07 TO 09</td>\n      <td>7</td>\n      <td>9</td>\n      <td>Improved</td>\n      <td>...</td>\n      <td>112.0</td>\n      <td>2018</td>\n      <td>94 years 11 months</td>\n      <td>95</td>\n      <td>11</td>\n      <td>652000.0</td>\n      <td>1774.371372</td>\n      <td>5821.428571</td>\n      <td>18.677593</td>\n      <td>61.278195</td>\n    </tr>\n    <tr>\n      <th>210528</th>\n      <td>2022_03_820_YISHUN_ST_81_07_TO_09</td>\n      <td>2022-03-01</td>\n      <td>820</td>\n      <td>YISHUN</td>\n      <td>YISHUN ST 81</td>\n      <td>820 YISHUN STREET 81</td>\n      <td>07 TO 09</td>\n      <td>7</td>\n      <td>9</td>\n      <td>Improved</td>\n      <td>...</td>\n      <td>122.0</td>\n      <td>1988</td>\n      <td>65 years 06 months</td>\n      <td>65</td>\n      <td>6</td>\n      <td>585000.0</td>\n      <td>1461.540937</td>\n      <td>4795.081967</td>\n      <td>22.485245</td>\n      <td>73.770492</td>\n    </tr>\n    <tr>\n      <th>210527</th>\n      <td>2022_03_359_YISHUN_RING_RD_01_TO_03</td>\n      <td>2022-03-01</td>\n      <td>359</td>\n      <td>YISHUN</td>\n      <td>YISHUN RING RD</td>\n      <td>359 YISHUN RING ROAD</td>\n      <td>01 TO 03</td>\n      <td>1</td>\n      <td>3</td>\n      <td>Apartment</td>\n      <td>...</td>\n      <td>145.0</td>\n      <td>1988</td>\n      <td>65 years 05 months</td>\n      <td>65</td>\n      <td>5</td>\n      <td>682000.0</td>\n      <td>1433.610989</td>\n      <td>4703.448276</td>\n      <td>22.055554</td>\n      <td>72.360743</td>\n    </tr>\n    <tr>\n      <th>210538</th>\n      <td>2022_03_751_YISHUN_ST_72_04_TO_06</td>\n      <td>2022-03-01</td>\n      <td>751</td>\n      <td>YISHUN</td>\n      <td>YISHUN ST 72</td>\n      <td>751 YISHUN STREET 72</td>\n      <td>04 TO 06</td>\n      <td>4</td>\n      <td>6</td>\n      <td>New Generation</td>\n      <td>...</td>\n      <td>91.0</td>\n      <td>1984</td>\n      <td>61 years 02 months</td>\n      <td>61</td>\n      <td>2</td>\n      <td>458000.0</td>\n      <td>1534.048303</td>\n      <td>5032.967033</td>\n      <td>25.148333</td>\n      <td>82.507656</td>\n    </tr>\n    <tr>\n      <th>210829</th>\n      <td>2022_03_149_PETIR_RD_01_TO_03</td>\n      <td>2022-03-01</td>\n      <td>149</td>\n      <td>BUKIT PANJANG</td>\n      <td>PETIR RD</td>\n      <td>149 PETIR ROAD</td>\n      <td>01 TO 03</td>\n      <td>1</td>\n      <td>3</td>\n      <td>Model A</td>\n      <td>...</td>\n      <td>103.0</td>\n      <td>1988</td>\n      <td>65 years 08 months</td>\n      <td>65</td>\n      <td>8</td>\n      <td>420000.0</td>\n      <td>1242.873747</td>\n      <td>4077.669903</td>\n      <td>19.121135</td>\n      <td>62.733383</td>\n    </tr>\n  </tbody>\n</table>\n<p>1524524 rows × 22 columns</p>\n</div>"
     },
     "execution_count": 12,
     "metadata": {},
     "output_type": "execute_result"
    }
   ],
   "source": [
    "rs_df = sort_cols(rs_df)\n",
    "rs_df"
   ],
   "metadata": {
    "collapsed": false,
    "pycharm": {
     "name": "#%%\n"
    }
   }
  },
  {
   "cell_type": "code",
   "execution_count": 78,
   "outputs": [
    {
     "data": {
      "text/plain": "month                           datetime64[ns]\nblock                                   object\ntown                                    object\nstreet_name                             object\naddress                                 object\nstorey_range                            object\nstorey_range_min                         int64\nstorey_range_max                         int64\nflat_model                              object\nflat_type                               object\nn_rooms                                  Int64\nfloor_area_sqm                         float64\nlease_commence_date                      int64\nremaining_lease                         object\nremaining_lease_years                    int64\nremaining_lease_months                   Int64\nresale_price                           float64\nprice_per_sq_ft                        float64\nprice_per_sq_m                         float64\nprice_per_sq_ft_per_lease_yr           float64\nprice_per_sq_m_per_lease_yr            float64\ndtype: object"
     },
     "execution_count": 78,
     "metadata": {},
     "output_type": "execute_result"
    }
   ],
   "source": [
    "rs_df.dtypes"
   ],
   "metadata": {
    "collapsed": false,
    "pycharm": {
     "name": "#%%\n"
    }
   }
  },
  {
   "cell_type": "code",
   "execution_count": 13,
   "outputs": [
    {
     "data": {
      "text/plain": "Empty DataFrame\nColumns: [id, month, block, town, street_name, address, storey_range, storey_range_min, storey_range_max, flat_model, flat_type, n_rooms, floor_area_sqm, lease_commence_date, remaining_lease, remaining_lease_years, remaining_lease_months, resale_price, price_per_sq_ft, price_per_sq_m, price_per_sq_ft_per_lease_yr, price_per_sq_m_per_lease_yr]\nIndex: []\n\n[0 rows x 22 columns]",
      "text/html": "<div>\n<style scoped>\n    .dataframe tbody tr th:only-of-type {\n        vertical-align: middle;\n    }\n\n    .dataframe tbody tr th {\n        vertical-align: top;\n    }\n\n    .dataframe thead th {\n        text-align: right;\n    }\n</style>\n<table border=\"1\" class=\"dataframe\">\n  <thead>\n    <tr style=\"text-align: right;\">\n      <th></th>\n      <th>id</th>\n      <th>month</th>\n      <th>block</th>\n      <th>town</th>\n      <th>street_name</th>\n      <th>address</th>\n      <th>storey_range</th>\n      <th>storey_range_min</th>\n      <th>storey_range_max</th>\n      <th>flat_model</th>\n      <th>...</th>\n      <th>floor_area_sqm</th>\n      <th>lease_commence_date</th>\n      <th>remaining_lease</th>\n      <th>remaining_lease_years</th>\n      <th>remaining_lease_months</th>\n      <th>resale_price</th>\n      <th>price_per_sq_ft</th>\n      <th>price_per_sq_m</th>\n      <th>price_per_sq_ft_per_lease_yr</th>\n      <th>price_per_sq_m_per_lease_yr</th>\n    </tr>\n  </thead>\n  <tbody>\n  </tbody>\n</table>\n<p>0 rows × 22 columns</p>\n</div>"
     },
     "execution_count": 13,
     "metadata": {},
     "output_type": "execute_result"
    }
   ],
   "source": [
    "rs_df[rs_df['remaining_lease_years'].isnull() == True]"
   ],
   "metadata": {
    "collapsed": false,
    "pycharm": {
     "name": "#%%\n"
    }
   }
  },
  {
   "cell_type": "code",
   "execution_count": 97,
   "outputs": [],
   "source": [
    "# from sqlalchemy import create_engine\n",
    "#\n",
    "# engine = create_engine(f'postgresql+psycopg2://{Capstone_AWS_PG.username}:{Capstone_AWS_PG.password}@{Capstone_AWS_PG.host}/capstone', echo=False)\n",
    "#\n",
    "# sql_alc_cnxn = engine.connect()\n",
    "#\n",
    "# rs_df.to_sql('resale_prices', sql_alc_cnxn, if_exists='replace', index=False)\n",
    "#\n",
    "# sql_alc_cnxn.close()"
   ],
   "metadata": {
    "collapsed": false,
    "pycharm": {
     "name": "#%%\n"
    }
   }
  },
  {
   "cell_type": "code",
   "execution_count": 14,
   "outputs": [],
   "source": [
    "# Sending to pickle for now until I can confirm normalization method for prices is accurate\n",
    "rs_df.to_pickle('../data/resale-flat-prices/resale_prices.pkl')"
   ],
   "metadata": {
    "collapsed": false,
    "pycharm": {
     "name": "#%%\n"
    }
   }
  },
  {
   "cell_type": "markdown",
   "source": [
    "# Resale Prices Load from Pickle"
   ],
   "metadata": {
    "collapsed": false,
    "pycharm": {
     "name": "#%% md\n"
    }
   }
  },
  {
   "cell_type": "code",
   "execution_count": 1,
   "outputs": [],
   "source": [
    "import pandas as pd\n",
    "from sqlalchemy import create_engine\n",
    "from MyCreds.mycreds import Capstone_AWS_PG"
   ],
   "metadata": {
    "collapsed": false,
    "pycharm": {
     "name": "#%%\n"
    }
   }
  },
  {
   "cell_type": "code",
   "execution_count": 7,
   "outputs": [
    {
     "data": {
      "text/plain": "                                           id      month block           town  \\\n0       1990_01_309_ANG_MO_KIO_AVE_1_10_TO_12 1990-01-01   309     ANG MO KIO   \n2004      1990_01_307_CLEMENTI_AVE_4_01_TO_03 1990-01-01   307       CLEMENTI   \n2005      1990_01_309_CLEMENTI_AVE_4_04_TO_06 1990-01-01   309       CLEMENTI   \n2006      1990_01_309_CLEMENTI_AVE_4_10_TO_12 1990-01-01   309       CLEMENTI   \n2007      1990_01_310_CLEMENTI_AVE_4_04_TO_06 1990-01-01   310       CLEMENTI   \n...                                       ...        ...   ...            ...   \n210529     2022_03_501B_YISHUN_ST_51_07_TO_09 2022-03-01  501B         YISHUN   \n210528      2022_03_820_YISHUN_ST_81_07_TO_09 2022-03-01   820         YISHUN   \n210527    2022_03_359_YISHUN_RING_RD_01_TO_03 2022-03-01   359         YISHUN   \n210538      2022_03_751_YISHUN_ST_72_04_TO_06 2022-03-01   751         YISHUN   \n210829          2022_03_149_PETIR_RD_01_TO_03 2022-03-01   149  BUKIT PANJANG   \n\n             street_name                  address storey_range  \\\n0       ANG MO KIO AVE 1  309 ANG MO KIO AVENUE 1     10 TO 12   \n2004      CLEMENTI AVE 4    307 CLEMENTI AVENUE 4     01 TO 03   \n2005      CLEMENTI AVE 4    309 CLEMENTI AVENUE 4     04 TO 06   \n2006      CLEMENTI AVE 4    309 CLEMENTI AVENUE 4     10 TO 12   \n2007      CLEMENTI AVE 4    310 CLEMENTI AVENUE 4     04 TO 06   \n...                  ...                      ...          ...   \n210529      YISHUN ST 51    501B YISHUN STREET 51     07 TO 09   \n210528      YISHUN ST 81     820 YISHUN STREET 81     07 TO 09   \n210527    YISHUN RING RD     359 YISHUN RING ROAD     01 TO 03   \n210538      YISHUN ST 72     751 YISHUN STREET 72     04 TO 06   \n210829          PETIR RD           149 PETIR ROAD     01 TO 03   \n\n        storey_range_min  storey_range_max      flat_model  ...  \\\n0                     10                12        IMPROVED  ...   \n2004                   1                 3  NEW GENERATION  ...   \n2005                   4                 6  NEW GENERATION  ...   \n2006                  10                12  NEW GENERATION  ...   \n2007                   4                 6  NEW GENERATION  ...   \n...                  ...               ...             ...  ...   \n210529                 7                 9        Improved  ...   \n210528                 7                 9        Improved  ...   \n210527                 1                 3       Apartment  ...   \n210538                 4                 6  New Generation  ...   \n210829                 1                 3         Model A  ...   \n\n       floor_area_sqm  lease_commence_date     remaining_lease  \\\n0                31.0                 1977                 NaN   \n2004             67.0                 1979                 NaN   \n2005             82.0                 1980                 NaN   \n2006             67.0                 1980                 NaN   \n2007             67.0                 1980                 NaN   \n...               ...                  ...                 ...   \n210529          112.0                 2018  94 years 11 months   \n210528          122.0                 1988  65 years 06 months   \n210527          145.0                 1988  65 years 05 months   \n210538           91.0                 1984  61 years 02 months   \n210829          103.0                 1988  65 years 08 months   \n\n        remaining_lease_years remaining_lease_months  resale_price  \\\n0                          86                   <NA>        9000.0   \n2004                       88                   <NA>       47000.0   \n2005                       89                   <NA>       57000.0   \n2006                       89                   <NA>       34000.0   \n2007                       89                   <NA>       47000.0   \n...                       ...                    ...           ...   \n210529                     95                     11      652000.0   \n210528                     65                      6      585000.0   \n210527                     65                      5      682000.0   \n210538                     61                      2      458000.0   \n210829                     65                      8      420000.0   \n\n        price_per_sq_ft  price_per_sq_m  price_per_sq_ft_per_lease_yr  \\\n0             88.490320      290.322581                      1.028957   \n2004         213.814919      701.492537                      2.429715   \n2005         211.873164      695.121951                      2.380597   \n2006         154.674622      507.462687                      1.737917   \n2007         213.814919      701.492537                      2.402415   \n...                 ...             ...                           ...   \n210529      1774.371372     5821.428571                     18.677593   \n210528      1461.540937     4795.081967                     22.485245   \n210527      1433.610989     4703.448276                     22.055554   \n210538      1534.048303     5032.967033                     25.148333   \n210829      1242.873747     4077.669903                     19.121135   \n\n        price_per_sq_m_per_lease_yr  \n0                          3.375844  \n2004                       7.971506  \n2005                       7.810359  \n2006                       5.701828  \n2007                       7.881939  \n...                             ...  \n210529                    61.278195  \n210528                    73.770492  \n210527                    72.360743  \n210538                    82.507656  \n210829                    62.733383  \n\n[1524524 rows x 22 columns]",
      "text/html": "<div>\n<style scoped>\n    .dataframe tbody tr th:only-of-type {\n        vertical-align: middle;\n    }\n\n    .dataframe tbody tr th {\n        vertical-align: top;\n    }\n\n    .dataframe thead th {\n        text-align: right;\n    }\n</style>\n<table border=\"1\" class=\"dataframe\">\n  <thead>\n    <tr style=\"text-align: right;\">\n      <th></th>\n      <th>id</th>\n      <th>month</th>\n      <th>block</th>\n      <th>town</th>\n      <th>street_name</th>\n      <th>address</th>\n      <th>storey_range</th>\n      <th>storey_range_min</th>\n      <th>storey_range_max</th>\n      <th>flat_model</th>\n      <th>...</th>\n      <th>floor_area_sqm</th>\n      <th>lease_commence_date</th>\n      <th>remaining_lease</th>\n      <th>remaining_lease_years</th>\n      <th>remaining_lease_months</th>\n      <th>resale_price</th>\n      <th>price_per_sq_ft</th>\n      <th>price_per_sq_m</th>\n      <th>price_per_sq_ft_per_lease_yr</th>\n      <th>price_per_sq_m_per_lease_yr</th>\n    </tr>\n  </thead>\n  <tbody>\n    <tr>\n      <th>0</th>\n      <td>1990_01_309_ANG_MO_KIO_AVE_1_10_TO_12</td>\n      <td>1990-01-01</td>\n      <td>309</td>\n      <td>ANG MO KIO</td>\n      <td>ANG MO KIO AVE 1</td>\n      <td>309 ANG MO KIO AVENUE 1</td>\n      <td>10 TO 12</td>\n      <td>10</td>\n      <td>12</td>\n      <td>IMPROVED</td>\n      <td>...</td>\n      <td>31.0</td>\n      <td>1977</td>\n      <td>NaN</td>\n      <td>86</td>\n      <td>&lt;NA&gt;</td>\n      <td>9000.0</td>\n      <td>88.490320</td>\n      <td>290.322581</td>\n      <td>1.028957</td>\n      <td>3.375844</td>\n    </tr>\n    <tr>\n      <th>2004</th>\n      <td>1990_01_307_CLEMENTI_AVE_4_01_TO_03</td>\n      <td>1990-01-01</td>\n      <td>307</td>\n      <td>CLEMENTI</td>\n      <td>CLEMENTI AVE 4</td>\n      <td>307 CLEMENTI AVENUE 4</td>\n      <td>01 TO 03</td>\n      <td>1</td>\n      <td>3</td>\n      <td>NEW GENERATION</td>\n      <td>...</td>\n      <td>67.0</td>\n      <td>1979</td>\n      <td>NaN</td>\n      <td>88</td>\n      <td>&lt;NA&gt;</td>\n      <td>47000.0</td>\n      <td>213.814919</td>\n      <td>701.492537</td>\n      <td>2.429715</td>\n      <td>7.971506</td>\n    </tr>\n    <tr>\n      <th>2005</th>\n      <td>1990_01_309_CLEMENTI_AVE_4_04_TO_06</td>\n      <td>1990-01-01</td>\n      <td>309</td>\n      <td>CLEMENTI</td>\n      <td>CLEMENTI AVE 4</td>\n      <td>309 CLEMENTI AVENUE 4</td>\n      <td>04 TO 06</td>\n      <td>4</td>\n      <td>6</td>\n      <td>NEW GENERATION</td>\n      <td>...</td>\n      <td>82.0</td>\n      <td>1980</td>\n      <td>NaN</td>\n      <td>89</td>\n      <td>&lt;NA&gt;</td>\n      <td>57000.0</td>\n      <td>211.873164</td>\n      <td>695.121951</td>\n      <td>2.380597</td>\n      <td>7.810359</td>\n    </tr>\n    <tr>\n      <th>2006</th>\n      <td>1990_01_309_CLEMENTI_AVE_4_10_TO_12</td>\n      <td>1990-01-01</td>\n      <td>309</td>\n      <td>CLEMENTI</td>\n      <td>CLEMENTI AVE 4</td>\n      <td>309 CLEMENTI AVENUE 4</td>\n      <td>10 TO 12</td>\n      <td>10</td>\n      <td>12</td>\n      <td>NEW GENERATION</td>\n      <td>...</td>\n      <td>67.0</td>\n      <td>1980</td>\n      <td>NaN</td>\n      <td>89</td>\n      <td>&lt;NA&gt;</td>\n      <td>34000.0</td>\n      <td>154.674622</td>\n      <td>507.462687</td>\n      <td>1.737917</td>\n      <td>5.701828</td>\n    </tr>\n    <tr>\n      <th>2007</th>\n      <td>1990_01_310_CLEMENTI_AVE_4_04_TO_06</td>\n      <td>1990-01-01</td>\n      <td>310</td>\n      <td>CLEMENTI</td>\n      <td>CLEMENTI AVE 4</td>\n      <td>310 CLEMENTI AVENUE 4</td>\n      <td>04 TO 06</td>\n      <td>4</td>\n      <td>6</td>\n      <td>NEW GENERATION</td>\n      <td>...</td>\n      <td>67.0</td>\n      <td>1980</td>\n      <td>NaN</td>\n      <td>89</td>\n      <td>&lt;NA&gt;</td>\n      <td>47000.0</td>\n      <td>213.814919</td>\n      <td>701.492537</td>\n      <td>2.402415</td>\n      <td>7.881939</td>\n    </tr>\n    <tr>\n      <th>...</th>\n      <td>...</td>\n      <td>...</td>\n      <td>...</td>\n      <td>...</td>\n      <td>...</td>\n      <td>...</td>\n      <td>...</td>\n      <td>...</td>\n      <td>...</td>\n      <td>...</td>\n      <td>...</td>\n      <td>...</td>\n      <td>...</td>\n      <td>...</td>\n      <td>...</td>\n      <td>...</td>\n      <td>...</td>\n      <td>...</td>\n      <td>...</td>\n      <td>...</td>\n      <td>...</td>\n    </tr>\n    <tr>\n      <th>210529</th>\n      <td>2022_03_501B_YISHUN_ST_51_07_TO_09</td>\n      <td>2022-03-01</td>\n      <td>501B</td>\n      <td>YISHUN</td>\n      <td>YISHUN ST 51</td>\n      <td>501B YISHUN STREET 51</td>\n      <td>07 TO 09</td>\n      <td>7</td>\n      <td>9</td>\n      <td>Improved</td>\n      <td>...</td>\n      <td>112.0</td>\n      <td>2018</td>\n      <td>94 years 11 months</td>\n      <td>95</td>\n      <td>11</td>\n      <td>652000.0</td>\n      <td>1774.371372</td>\n      <td>5821.428571</td>\n      <td>18.677593</td>\n      <td>61.278195</td>\n    </tr>\n    <tr>\n      <th>210528</th>\n      <td>2022_03_820_YISHUN_ST_81_07_TO_09</td>\n      <td>2022-03-01</td>\n      <td>820</td>\n      <td>YISHUN</td>\n      <td>YISHUN ST 81</td>\n      <td>820 YISHUN STREET 81</td>\n      <td>07 TO 09</td>\n      <td>7</td>\n      <td>9</td>\n      <td>Improved</td>\n      <td>...</td>\n      <td>122.0</td>\n      <td>1988</td>\n      <td>65 years 06 months</td>\n      <td>65</td>\n      <td>6</td>\n      <td>585000.0</td>\n      <td>1461.540937</td>\n      <td>4795.081967</td>\n      <td>22.485245</td>\n      <td>73.770492</td>\n    </tr>\n    <tr>\n      <th>210527</th>\n      <td>2022_03_359_YISHUN_RING_RD_01_TO_03</td>\n      <td>2022-03-01</td>\n      <td>359</td>\n      <td>YISHUN</td>\n      <td>YISHUN RING RD</td>\n      <td>359 YISHUN RING ROAD</td>\n      <td>01 TO 03</td>\n      <td>1</td>\n      <td>3</td>\n      <td>Apartment</td>\n      <td>...</td>\n      <td>145.0</td>\n      <td>1988</td>\n      <td>65 years 05 months</td>\n      <td>65</td>\n      <td>5</td>\n      <td>682000.0</td>\n      <td>1433.610989</td>\n      <td>4703.448276</td>\n      <td>22.055554</td>\n      <td>72.360743</td>\n    </tr>\n    <tr>\n      <th>210538</th>\n      <td>2022_03_751_YISHUN_ST_72_04_TO_06</td>\n      <td>2022-03-01</td>\n      <td>751</td>\n      <td>YISHUN</td>\n      <td>YISHUN ST 72</td>\n      <td>751 YISHUN STREET 72</td>\n      <td>04 TO 06</td>\n      <td>4</td>\n      <td>6</td>\n      <td>New Generation</td>\n      <td>...</td>\n      <td>91.0</td>\n      <td>1984</td>\n      <td>61 years 02 months</td>\n      <td>61</td>\n      <td>2</td>\n      <td>458000.0</td>\n      <td>1534.048303</td>\n      <td>5032.967033</td>\n      <td>25.148333</td>\n      <td>82.507656</td>\n    </tr>\n    <tr>\n      <th>210829</th>\n      <td>2022_03_149_PETIR_RD_01_TO_03</td>\n      <td>2022-03-01</td>\n      <td>149</td>\n      <td>BUKIT PANJANG</td>\n      <td>PETIR RD</td>\n      <td>149 PETIR ROAD</td>\n      <td>01 TO 03</td>\n      <td>1</td>\n      <td>3</td>\n      <td>Model A</td>\n      <td>...</td>\n      <td>103.0</td>\n      <td>1988</td>\n      <td>65 years 08 months</td>\n      <td>65</td>\n      <td>8</td>\n      <td>420000.0</td>\n      <td>1242.873747</td>\n      <td>4077.669903</td>\n      <td>19.121135</td>\n      <td>62.733383</td>\n    </tr>\n  </tbody>\n</table>\n<p>1524524 rows × 22 columns</p>\n</div>"
     },
     "execution_count": 7,
     "metadata": {},
     "output_type": "execute_result"
    }
   ],
   "source": [
    "rsp = pd.read_pickle('../data/resale-flat-prices/resale_prices.pkl')\n",
    "rsp"
   ],
   "metadata": {
    "collapsed": false,
    "pycharm": {
     "name": "#%%\n"
    }
   }
  },
  {
   "cell_type": "code",
   "execution_count": 8,
   "outputs": [
    {
     "data": {
      "text/plain": "Index(['id', 'month', 'block', 'town', 'street_name', 'address',\n       'storey_range', 'storey_range_min', 'storey_range_max', 'flat_model',\n       'flat_type', 'n_rooms', 'floor_area_sqm', 'lease_commence_date',\n       'remaining_lease', 'remaining_lease_years', 'remaining_lease_months',\n       'resale_price', 'price_per_sq_ft', 'price_per_sq_m',\n       'price_per_sq_ft_per_lease_yr', 'price_per_sq_m_per_lease_yr'],\n      dtype='object')"
     },
     "execution_count": 8,
     "metadata": {},
     "output_type": "execute_result"
    }
   ],
   "source": [
    "rsp.columns"
   ],
   "metadata": {
    "collapsed": false,
    "pycharm": {
     "name": "#%%\n"
    }
   }
  },
  {
   "cell_type": "markdown",
   "source": [
    "# Housing Index Prices"
   ],
   "metadata": {
    "collapsed": false,
    "pycharm": {
     "name": "#%% md\n"
    }
   }
  },
  {
   "cell_type": "code",
   "execution_count": 5,
   "outputs": [
    {
     "data": {
      "text/plain": "     quarter  index\n0    1990-Q1   24.3\n1    1990-Q2   24.4\n2    1990-Q3   25.0\n3    1990-Q4   24.7\n4    1991-Q1   24.9\n..       ...    ...\n122  2020-Q3  133.9\n123  2020-Q4  138.1\n124  2021-Q1  142.2\n125  2021-Q2  146.4\n126  2021-Q3  150.6\n\n[127 rows x 2 columns]",
      "text/html": "<div>\n<style scoped>\n    .dataframe tbody tr th:only-of-type {\n        vertical-align: middle;\n    }\n\n    .dataframe tbody tr th {\n        vertical-align: top;\n    }\n\n    .dataframe thead th {\n        text-align: right;\n    }\n</style>\n<table border=\"1\" class=\"dataframe\">\n  <thead>\n    <tr style=\"text-align: right;\">\n      <th></th>\n      <th>quarter</th>\n      <th>index</th>\n    </tr>\n  </thead>\n  <tbody>\n    <tr>\n      <th>0</th>\n      <td>1990-Q1</td>\n      <td>24.3</td>\n    </tr>\n    <tr>\n      <th>1</th>\n      <td>1990-Q2</td>\n      <td>24.4</td>\n    </tr>\n    <tr>\n      <th>2</th>\n      <td>1990-Q3</td>\n      <td>25.0</td>\n    </tr>\n    <tr>\n      <th>3</th>\n      <td>1990-Q4</td>\n      <td>24.7</td>\n    </tr>\n    <tr>\n      <th>4</th>\n      <td>1991-Q1</td>\n      <td>24.9</td>\n    </tr>\n    <tr>\n      <th>...</th>\n      <td>...</td>\n      <td>...</td>\n    </tr>\n    <tr>\n      <th>122</th>\n      <td>2020-Q3</td>\n      <td>133.9</td>\n    </tr>\n    <tr>\n      <th>123</th>\n      <td>2020-Q4</td>\n      <td>138.1</td>\n    </tr>\n    <tr>\n      <th>124</th>\n      <td>2021-Q1</td>\n      <td>142.2</td>\n    </tr>\n    <tr>\n      <th>125</th>\n      <td>2021-Q2</td>\n      <td>146.4</td>\n    </tr>\n    <tr>\n      <th>126</th>\n      <td>2021-Q3</td>\n      <td>150.6</td>\n    </tr>\n  </tbody>\n</table>\n<p>127 rows × 2 columns</p>\n</div>"
     },
     "execution_count": 5,
     "metadata": {},
     "output_type": "execute_result"
    }
   ],
   "source": [
    "engine = create_engine(f'postgresql+psycopg2://{Capstone_AWS_PG.username}:{Capstone_AWS_PG.password}@{Capstone_AWS_PG.host}/capstone', echo=False)\n",
    "\n",
    "sql_alc_cnxn = engine.connect()\n",
    "\n",
    "# Switch depending on which table you want to read.\n",
    "# sql_query = 'select * from resale_price_based_on_registration_date;'\n",
    "sql_query = 'select * from resale_price_index;'\n",
    "\n",
    "hpi = pd.read_sql(sql_query, sql_alc_cnxn)\n",
    "hpi"
   ],
   "metadata": {
    "collapsed": false,
    "pycharm": {
     "name": "#%%\n"
    }
   }
  },
  {
   "cell_type": "code",
   "execution_count": 6,
   "outputs": [
    {
     "data": {
      "text/plain": "     quarter  index  year  q_num\n0    1990-Q1   24.3  1990      1\n1    1990-Q2   24.4  1990      2\n2    1990-Q3   25.0  1990      3\n3    1990-Q4   24.7  1990      4\n4    1991-Q1   24.9  1991      1\n..       ...    ...   ...    ...\n122  2020-Q3  133.9  2020      3\n123  2020-Q4  138.1  2020      4\n124  2021-Q1  142.2  2021      1\n125  2021-Q2  146.4  2021      2\n126  2021-Q3  150.6  2021      3\n\n[127 rows x 4 columns]",
      "text/html": "<div>\n<style scoped>\n    .dataframe tbody tr th:only-of-type {\n        vertical-align: middle;\n    }\n\n    .dataframe tbody tr th {\n        vertical-align: top;\n    }\n\n    .dataframe thead th {\n        text-align: right;\n    }\n</style>\n<table border=\"1\" class=\"dataframe\">\n  <thead>\n    <tr style=\"text-align: right;\">\n      <th></th>\n      <th>quarter</th>\n      <th>index</th>\n      <th>year</th>\n      <th>q_num</th>\n    </tr>\n  </thead>\n  <tbody>\n    <tr>\n      <th>0</th>\n      <td>1990-Q1</td>\n      <td>24.3</td>\n      <td>1990</td>\n      <td>1</td>\n    </tr>\n    <tr>\n      <th>1</th>\n      <td>1990-Q2</td>\n      <td>24.4</td>\n      <td>1990</td>\n      <td>2</td>\n    </tr>\n    <tr>\n      <th>2</th>\n      <td>1990-Q3</td>\n      <td>25.0</td>\n      <td>1990</td>\n      <td>3</td>\n    </tr>\n    <tr>\n      <th>3</th>\n      <td>1990-Q4</td>\n      <td>24.7</td>\n      <td>1990</td>\n      <td>4</td>\n    </tr>\n    <tr>\n      <th>4</th>\n      <td>1991-Q1</td>\n      <td>24.9</td>\n      <td>1991</td>\n      <td>1</td>\n    </tr>\n    <tr>\n      <th>...</th>\n      <td>...</td>\n      <td>...</td>\n      <td>...</td>\n      <td>...</td>\n    </tr>\n    <tr>\n      <th>122</th>\n      <td>2020-Q3</td>\n      <td>133.9</td>\n      <td>2020</td>\n      <td>3</td>\n    </tr>\n    <tr>\n      <th>123</th>\n      <td>2020-Q4</td>\n      <td>138.1</td>\n      <td>2020</td>\n      <td>4</td>\n    </tr>\n    <tr>\n      <th>124</th>\n      <td>2021-Q1</td>\n      <td>142.2</td>\n      <td>2021</td>\n      <td>1</td>\n    </tr>\n    <tr>\n      <th>125</th>\n      <td>2021-Q2</td>\n      <td>146.4</td>\n      <td>2021</td>\n      <td>2</td>\n    </tr>\n    <tr>\n      <th>126</th>\n      <td>2021-Q3</td>\n      <td>150.6</td>\n      <td>2021</td>\n      <td>3</td>\n    </tr>\n  </tbody>\n</table>\n<p>127 rows × 4 columns</p>\n</div>"
     },
     "execution_count": 6,
     "metadata": {},
     "output_type": "execute_result"
    }
   ],
   "source": [
    "hpi['year'] = hpi['quarter'].str[:4].astype(int)\n",
    "hpi['q_num'] = hpi['quarter'].str[-1].astype(int)\n",
    "hpi"
   ],
   "metadata": {
    "collapsed": false,
    "pycharm": {
     "name": "#%%\n"
    }
   }
  },
  {
   "cell_type": "markdown",
   "source": [
    "# Merge Price Index on Resale Prices"
   ],
   "metadata": {
    "collapsed": false,
    "pycharm": {
     "name": "#%% md\n"
    }
   }
  },
  {
   "cell_type": "code",
   "execution_count": 9,
   "outputs": [
    {
     "data": {
      "text/plain": "                                           id      month block           town  \\\n0       1990_01_309_ANG_MO_KIO_AVE_1_10_TO_12 1990-01-01   309     ANG MO KIO   \n2004      1990_01_307_CLEMENTI_AVE_4_01_TO_03 1990-01-01   307       CLEMENTI   \n2005      1990_01_309_CLEMENTI_AVE_4_04_TO_06 1990-01-01   309       CLEMENTI   \n2006      1990_01_309_CLEMENTI_AVE_4_10_TO_12 1990-01-01   309       CLEMENTI   \n2007      1990_01_310_CLEMENTI_AVE_4_04_TO_06 1990-01-01   310       CLEMENTI   \n...                                       ...        ...   ...            ...   \n210529     2022_03_501B_YISHUN_ST_51_07_TO_09 2022-03-01  501B         YISHUN   \n210528      2022_03_820_YISHUN_ST_81_07_TO_09 2022-03-01   820         YISHUN   \n210527    2022_03_359_YISHUN_RING_RD_01_TO_03 2022-03-01   359         YISHUN   \n210538      2022_03_751_YISHUN_ST_72_04_TO_06 2022-03-01   751         YISHUN   \n210829          2022_03_149_PETIR_RD_01_TO_03 2022-03-01   149  BUKIT PANJANG   \n\n             street_name                  address storey_range  \\\n0       ANG MO KIO AVE 1  309 ANG MO KIO AVENUE 1     10 TO 12   \n2004      CLEMENTI AVE 4    307 CLEMENTI AVENUE 4     01 TO 03   \n2005      CLEMENTI AVE 4    309 CLEMENTI AVENUE 4     04 TO 06   \n2006      CLEMENTI AVE 4    309 CLEMENTI AVENUE 4     10 TO 12   \n2007      CLEMENTI AVE 4    310 CLEMENTI AVENUE 4     04 TO 06   \n...                  ...                      ...          ...   \n210529      YISHUN ST 51    501B YISHUN STREET 51     07 TO 09   \n210528      YISHUN ST 81     820 YISHUN STREET 81     07 TO 09   \n210527    YISHUN RING RD     359 YISHUN RING ROAD     01 TO 03   \n210538      YISHUN ST 72     751 YISHUN STREET 72     04 TO 06   \n210829          PETIR RD           149 PETIR ROAD     01 TO 03   \n\n        storey_range_min  storey_range_max      flat_model  ...  \\\n0                     10                12        IMPROVED  ...   \n2004                   1                 3  NEW GENERATION  ...   \n2005                   4                 6  NEW GENERATION  ...   \n2006                  10                12  NEW GENERATION  ...   \n2007                   4                 6  NEW GENERATION  ...   \n...                  ...               ...             ...  ...   \n210529                 7                 9        Improved  ...   \n210528                 7                 9        Improved  ...   \n210527                 1                 3       Apartment  ...   \n210538                 4                 6  New Generation  ...   \n210829                 1                 3         Model A  ...   \n\n           remaining_lease  remaining_lease_years  remaining_lease_months  \\\n0                      NaN                     86                    <NA>   \n2004                   NaN                     88                    <NA>   \n2005                   NaN                     89                    <NA>   \n2006                   NaN                     89                    <NA>   \n2007                   NaN                     89                    <NA>   \n...                    ...                    ...                     ...   \n210529  94 years 11 months                     95                      11   \n210528  65 years 06 months                     65                       6   \n210527  65 years 05 months                     65                       5   \n210538  61 years 02 months                     61                       2   \n210829  65 years 08 months                     65                       8   \n\n        resale_price price_per_sq_ft  price_per_sq_m  \\\n0             9000.0       88.490320      290.322581   \n2004         47000.0      213.814919      701.492537   \n2005         57000.0      211.873164      695.121951   \n2006         34000.0      154.674622      507.462687   \n2007         47000.0      213.814919      701.492537   \n...              ...             ...             ...   \n210529      652000.0     1774.371372     5821.428571   \n210528      585000.0     1461.540937     4795.081967   \n210527      682000.0     1433.610989     4703.448276   \n210538      458000.0     1534.048303     5032.967033   \n210829      420000.0     1242.873747     4077.669903   \n\n        price_per_sq_ft_per_lease_yr  price_per_sq_m_per_lease_yr  q_num  year  \n0                           1.028957                     3.375844      1  1990  \n2004                        2.429715                     7.971506      1  1990  \n2005                        2.380597                     7.810359      1  1990  \n2006                        1.737917                     5.701828      1  1990  \n2007                        2.402415                     7.881939      1  1990  \n...                              ...                          ...    ...   ...  \n210529                     18.677593                    61.278195      1  2022  \n210528                     22.485245                    73.770492      1  2022  \n210527                     22.055554                    72.360743      1  2022  \n210538                     25.148333                    82.507656      1  2022  \n210829                     19.121135                    62.733383      1  2022  \n\n[1524524 rows x 24 columns]",
      "text/html": "<div>\n<style scoped>\n    .dataframe tbody tr th:only-of-type {\n        vertical-align: middle;\n    }\n\n    .dataframe tbody tr th {\n        vertical-align: top;\n    }\n\n    .dataframe thead th {\n        text-align: right;\n    }\n</style>\n<table border=\"1\" class=\"dataframe\">\n  <thead>\n    <tr style=\"text-align: right;\">\n      <th></th>\n      <th>id</th>\n      <th>month</th>\n      <th>block</th>\n      <th>town</th>\n      <th>street_name</th>\n      <th>address</th>\n      <th>storey_range</th>\n      <th>storey_range_min</th>\n      <th>storey_range_max</th>\n      <th>flat_model</th>\n      <th>...</th>\n      <th>remaining_lease</th>\n      <th>remaining_lease_years</th>\n      <th>remaining_lease_months</th>\n      <th>resale_price</th>\n      <th>price_per_sq_ft</th>\n      <th>price_per_sq_m</th>\n      <th>price_per_sq_ft_per_lease_yr</th>\n      <th>price_per_sq_m_per_lease_yr</th>\n      <th>q_num</th>\n      <th>year</th>\n    </tr>\n  </thead>\n  <tbody>\n    <tr>\n      <th>0</th>\n      <td>1990_01_309_ANG_MO_KIO_AVE_1_10_TO_12</td>\n      <td>1990-01-01</td>\n      <td>309</td>\n      <td>ANG MO KIO</td>\n      <td>ANG MO KIO AVE 1</td>\n      <td>309 ANG MO KIO AVENUE 1</td>\n      <td>10 TO 12</td>\n      <td>10</td>\n      <td>12</td>\n      <td>IMPROVED</td>\n      <td>...</td>\n      <td>NaN</td>\n      <td>86</td>\n      <td>&lt;NA&gt;</td>\n      <td>9000.0</td>\n      <td>88.490320</td>\n      <td>290.322581</td>\n      <td>1.028957</td>\n      <td>3.375844</td>\n      <td>1</td>\n      <td>1990</td>\n    </tr>\n    <tr>\n      <th>2004</th>\n      <td>1990_01_307_CLEMENTI_AVE_4_01_TO_03</td>\n      <td>1990-01-01</td>\n      <td>307</td>\n      <td>CLEMENTI</td>\n      <td>CLEMENTI AVE 4</td>\n      <td>307 CLEMENTI AVENUE 4</td>\n      <td>01 TO 03</td>\n      <td>1</td>\n      <td>3</td>\n      <td>NEW GENERATION</td>\n      <td>...</td>\n      <td>NaN</td>\n      <td>88</td>\n      <td>&lt;NA&gt;</td>\n      <td>47000.0</td>\n      <td>213.814919</td>\n      <td>701.492537</td>\n      <td>2.429715</td>\n      <td>7.971506</td>\n      <td>1</td>\n      <td>1990</td>\n    </tr>\n    <tr>\n      <th>2005</th>\n      <td>1990_01_309_CLEMENTI_AVE_4_04_TO_06</td>\n      <td>1990-01-01</td>\n      <td>309</td>\n      <td>CLEMENTI</td>\n      <td>CLEMENTI AVE 4</td>\n      <td>309 CLEMENTI AVENUE 4</td>\n      <td>04 TO 06</td>\n      <td>4</td>\n      <td>6</td>\n      <td>NEW GENERATION</td>\n      <td>...</td>\n      <td>NaN</td>\n      <td>89</td>\n      <td>&lt;NA&gt;</td>\n      <td>57000.0</td>\n      <td>211.873164</td>\n      <td>695.121951</td>\n      <td>2.380597</td>\n      <td>7.810359</td>\n      <td>1</td>\n      <td>1990</td>\n    </tr>\n    <tr>\n      <th>2006</th>\n      <td>1990_01_309_CLEMENTI_AVE_4_10_TO_12</td>\n      <td>1990-01-01</td>\n      <td>309</td>\n      <td>CLEMENTI</td>\n      <td>CLEMENTI AVE 4</td>\n      <td>309 CLEMENTI AVENUE 4</td>\n      <td>10 TO 12</td>\n      <td>10</td>\n      <td>12</td>\n      <td>NEW GENERATION</td>\n      <td>...</td>\n      <td>NaN</td>\n      <td>89</td>\n      <td>&lt;NA&gt;</td>\n      <td>34000.0</td>\n      <td>154.674622</td>\n      <td>507.462687</td>\n      <td>1.737917</td>\n      <td>5.701828</td>\n      <td>1</td>\n      <td>1990</td>\n    </tr>\n    <tr>\n      <th>2007</th>\n      <td>1990_01_310_CLEMENTI_AVE_4_04_TO_06</td>\n      <td>1990-01-01</td>\n      <td>310</td>\n      <td>CLEMENTI</td>\n      <td>CLEMENTI AVE 4</td>\n      <td>310 CLEMENTI AVENUE 4</td>\n      <td>04 TO 06</td>\n      <td>4</td>\n      <td>6</td>\n      <td>NEW GENERATION</td>\n      <td>...</td>\n      <td>NaN</td>\n      <td>89</td>\n      <td>&lt;NA&gt;</td>\n      <td>47000.0</td>\n      <td>213.814919</td>\n      <td>701.492537</td>\n      <td>2.402415</td>\n      <td>7.881939</td>\n      <td>1</td>\n      <td>1990</td>\n    </tr>\n    <tr>\n      <th>...</th>\n      <td>...</td>\n      <td>...</td>\n      <td>...</td>\n      <td>...</td>\n      <td>...</td>\n      <td>...</td>\n      <td>...</td>\n      <td>...</td>\n      <td>...</td>\n      <td>...</td>\n      <td>...</td>\n      <td>...</td>\n      <td>...</td>\n      <td>...</td>\n      <td>...</td>\n      <td>...</td>\n      <td>...</td>\n      <td>...</td>\n      <td>...</td>\n      <td>...</td>\n      <td>...</td>\n    </tr>\n    <tr>\n      <th>210529</th>\n      <td>2022_03_501B_YISHUN_ST_51_07_TO_09</td>\n      <td>2022-03-01</td>\n      <td>501B</td>\n      <td>YISHUN</td>\n      <td>YISHUN ST 51</td>\n      <td>501B YISHUN STREET 51</td>\n      <td>07 TO 09</td>\n      <td>7</td>\n      <td>9</td>\n      <td>Improved</td>\n      <td>...</td>\n      <td>94 years 11 months</td>\n      <td>95</td>\n      <td>11</td>\n      <td>652000.0</td>\n      <td>1774.371372</td>\n      <td>5821.428571</td>\n      <td>18.677593</td>\n      <td>61.278195</td>\n      <td>1</td>\n      <td>2022</td>\n    </tr>\n    <tr>\n      <th>210528</th>\n      <td>2022_03_820_YISHUN_ST_81_07_TO_09</td>\n      <td>2022-03-01</td>\n      <td>820</td>\n      <td>YISHUN</td>\n      <td>YISHUN ST 81</td>\n      <td>820 YISHUN STREET 81</td>\n      <td>07 TO 09</td>\n      <td>7</td>\n      <td>9</td>\n      <td>Improved</td>\n      <td>...</td>\n      <td>65 years 06 months</td>\n      <td>65</td>\n      <td>6</td>\n      <td>585000.0</td>\n      <td>1461.540937</td>\n      <td>4795.081967</td>\n      <td>22.485245</td>\n      <td>73.770492</td>\n      <td>1</td>\n      <td>2022</td>\n    </tr>\n    <tr>\n      <th>210527</th>\n      <td>2022_03_359_YISHUN_RING_RD_01_TO_03</td>\n      <td>2022-03-01</td>\n      <td>359</td>\n      <td>YISHUN</td>\n      <td>YISHUN RING RD</td>\n      <td>359 YISHUN RING ROAD</td>\n      <td>01 TO 03</td>\n      <td>1</td>\n      <td>3</td>\n      <td>Apartment</td>\n      <td>...</td>\n      <td>65 years 05 months</td>\n      <td>65</td>\n      <td>5</td>\n      <td>682000.0</td>\n      <td>1433.610989</td>\n      <td>4703.448276</td>\n      <td>22.055554</td>\n      <td>72.360743</td>\n      <td>1</td>\n      <td>2022</td>\n    </tr>\n    <tr>\n      <th>210538</th>\n      <td>2022_03_751_YISHUN_ST_72_04_TO_06</td>\n      <td>2022-03-01</td>\n      <td>751</td>\n      <td>YISHUN</td>\n      <td>YISHUN ST 72</td>\n      <td>751 YISHUN STREET 72</td>\n      <td>04 TO 06</td>\n      <td>4</td>\n      <td>6</td>\n      <td>New Generation</td>\n      <td>...</td>\n      <td>61 years 02 months</td>\n      <td>61</td>\n      <td>2</td>\n      <td>458000.0</td>\n      <td>1534.048303</td>\n      <td>5032.967033</td>\n      <td>25.148333</td>\n      <td>82.507656</td>\n      <td>1</td>\n      <td>2022</td>\n    </tr>\n    <tr>\n      <th>210829</th>\n      <td>2022_03_149_PETIR_RD_01_TO_03</td>\n      <td>2022-03-01</td>\n      <td>149</td>\n      <td>BUKIT PANJANG</td>\n      <td>PETIR RD</td>\n      <td>149 PETIR ROAD</td>\n      <td>01 TO 03</td>\n      <td>1</td>\n      <td>3</td>\n      <td>Model A</td>\n      <td>...</td>\n      <td>65 years 08 months</td>\n      <td>65</td>\n      <td>8</td>\n      <td>420000.0</td>\n      <td>1242.873747</td>\n      <td>4077.669903</td>\n      <td>19.121135</td>\n      <td>62.733383</td>\n      <td>1</td>\n      <td>2022</td>\n    </tr>\n  </tbody>\n</table>\n<p>1524524 rows × 24 columns</p>\n</div>"
     },
     "execution_count": 9,
     "metadata": {},
     "output_type": "execute_result"
    }
   ],
   "source": [
    "rsp['q_num'] = rsp['month'].dt.quarter\n",
    "rsp['year'] = rsp['month'].dt.year\n",
    "rsp"
   ],
   "metadata": {
    "collapsed": false,
    "pycharm": {
     "name": "#%%\n"
    }
   }
  },
  {
   "cell_type": "code",
   "execution_count": 10,
   "outputs": [
    {
     "data": {
      "text/plain": "                                            id      month block        town  \\\n0        1990_01_309_ANG_MO_KIO_AVE_1_10_TO_12 1990-01-01   309  ANG MO KIO   \n1          1990_01_307_CLEMENTI_AVE_4_01_TO_03 1990-01-01   307    CLEMENTI   \n2          1990_01_309_CLEMENTI_AVE_4_04_TO_06 1990-01-01   309    CLEMENTI   \n3          1990_01_309_CLEMENTI_AVE_4_10_TO_12 1990-01-01   309    CLEMENTI   \n4          1990_01_310_CLEMENTI_AVE_4_04_TO_06 1990-01-01   310    CLEMENTI   \n...                                        ...        ...   ...         ...   \n1512236      2021_09_723_YISHUN_ST_71_10_TO_12 2021-09-01   723      YISHUN   \n1512237      2021_09_828_YISHUN_ST_81_07_TO_09 2021-09-01   828      YISHUN   \n1512238      2021_09_826_YISHUN_ST_81_07_TO_09 2021-09-01   826      YISHUN   \n1512239     2021_09_315B_YISHUN_AVE_9_04_TO_06 2021-09-01  315B      YISHUN   \n1512240      2021_09_841_YISHUN_ST_81_04_TO_06 2021-09-01   841      YISHUN   \n\n              street_name                  address storey_range  \\\n0        ANG MO KIO AVE 1  309 ANG MO KIO AVENUE 1     10 TO 12   \n1          CLEMENTI AVE 4    307 CLEMENTI AVENUE 4     01 TO 03   \n2          CLEMENTI AVE 4    309 CLEMENTI AVENUE 4     04 TO 06   \n3          CLEMENTI AVE 4    309 CLEMENTI AVENUE 4     10 TO 12   \n4          CLEMENTI AVE 4    310 CLEMENTI AVENUE 4     04 TO 06   \n...                   ...                      ...          ...   \n1512236      YISHUN ST 71     723 YISHUN STREET 71     10 TO 12   \n1512237      YISHUN ST 81     828 YISHUN STREET 81     07 TO 09   \n1512238      YISHUN ST 81     826 YISHUN STREET 81     07 TO 09   \n1512239      YISHUN AVE 9     315B YISHUN AVENUE 9     04 TO 06   \n1512240      YISHUN ST 81     841 YISHUN STREET 81     04 TO 06   \n\n         storey_range_min  storey_range_max      flat_model  ...  \\\n0                      10                12        IMPROVED  ...   \n1                       1                 3  NEW GENERATION  ...   \n2                       4                 6  NEW GENERATION  ...   \n3                      10                12  NEW GENERATION  ...   \n4                       4                 6  NEW GENERATION  ...   \n...                   ...               ...             ...  ...   \n1512236                10                12      Maisonette  ...   \n1512237                 7                 9       Apartment  ...   \n1512238                 7                 9      Maisonette  ...   \n1512239                 4                 6        Improved  ...   \n1512240                 4                 6        Improved  ...   \n\n        remaining_lease_years  remaining_lease_months  resale_price  \\\n0                          86                    <NA>        9000.0   \n1                          88                    <NA>       47000.0   \n2                          89                    <NA>       57000.0   \n3                          89                    <NA>       34000.0   \n4                          89                    <NA>       47000.0   \n...                       ...                     ...           ...   \n1512236                    63                       9      740000.0   \n1512237                    65                       5      732000.0   \n1512238                    65                       4      760000.0   \n1512239                    92                       1      558888.0   \n1512240                    65                       5      620000.0   \n\n         price_per_sq_ft price_per_sq_m  price_per_sq_ft_per_lease_yr  \\\n0              88.490320     290.322581                      1.028957   \n1             213.814919     701.492537                      2.429715   \n2             211.873164     695.121951                      2.380597   \n3             154.674622     507.462687                      1.737917   \n4             213.814919     701.492537                      2.402415   \n...                  ...            ...                           ...   \n1512236      1544.876663    5068.493151                     24.521852   \n1512237      1571.222485    5154.929577                     24.172654   \n1512238      1586.630086    5205.479452                     24.409694   \n1512239      1520.973723    4990.071429                     16.532323   \n1512240      1487.999952    4881.889764                     22.892307   \n\n         price_per_sq_m_per_lease_yr  q_num  year  index  \n0                           3.375844      1  1990   24.3  \n1                           7.971506      1  1990   24.3  \n2                           7.810359      1  1990   24.3  \n3                           5.701828      1  1990   24.3  \n4                           7.881939      1  1990   24.3  \n...                              ...    ...   ...    ...  \n1512236                    80.452272      3  2021  150.6  \n1512237                    79.306609      3  2021  150.6  \n1512238                    80.084299      3  2021  150.6  \n1512239                    54.239907      3  2021  150.6  \n1512240                    75.105996      3  2021  150.6  \n\n[1512241 rows x 25 columns]",
      "text/html": "<div>\n<style scoped>\n    .dataframe tbody tr th:only-of-type {\n        vertical-align: middle;\n    }\n\n    .dataframe tbody tr th {\n        vertical-align: top;\n    }\n\n    .dataframe thead th {\n        text-align: right;\n    }\n</style>\n<table border=\"1\" class=\"dataframe\">\n  <thead>\n    <tr style=\"text-align: right;\">\n      <th></th>\n      <th>id</th>\n      <th>month</th>\n      <th>block</th>\n      <th>town</th>\n      <th>street_name</th>\n      <th>address</th>\n      <th>storey_range</th>\n      <th>storey_range_min</th>\n      <th>storey_range_max</th>\n      <th>flat_model</th>\n      <th>...</th>\n      <th>remaining_lease_years</th>\n      <th>remaining_lease_months</th>\n      <th>resale_price</th>\n      <th>price_per_sq_ft</th>\n      <th>price_per_sq_m</th>\n      <th>price_per_sq_ft_per_lease_yr</th>\n      <th>price_per_sq_m_per_lease_yr</th>\n      <th>q_num</th>\n      <th>year</th>\n      <th>index</th>\n    </tr>\n  </thead>\n  <tbody>\n    <tr>\n      <th>0</th>\n      <td>1990_01_309_ANG_MO_KIO_AVE_1_10_TO_12</td>\n      <td>1990-01-01</td>\n      <td>309</td>\n      <td>ANG MO KIO</td>\n      <td>ANG MO KIO AVE 1</td>\n      <td>309 ANG MO KIO AVENUE 1</td>\n      <td>10 TO 12</td>\n      <td>10</td>\n      <td>12</td>\n      <td>IMPROVED</td>\n      <td>...</td>\n      <td>86</td>\n      <td>&lt;NA&gt;</td>\n      <td>9000.0</td>\n      <td>88.490320</td>\n      <td>290.322581</td>\n      <td>1.028957</td>\n      <td>3.375844</td>\n      <td>1</td>\n      <td>1990</td>\n      <td>24.3</td>\n    </tr>\n    <tr>\n      <th>1</th>\n      <td>1990_01_307_CLEMENTI_AVE_4_01_TO_03</td>\n      <td>1990-01-01</td>\n      <td>307</td>\n      <td>CLEMENTI</td>\n      <td>CLEMENTI AVE 4</td>\n      <td>307 CLEMENTI AVENUE 4</td>\n      <td>01 TO 03</td>\n      <td>1</td>\n      <td>3</td>\n      <td>NEW GENERATION</td>\n      <td>...</td>\n      <td>88</td>\n      <td>&lt;NA&gt;</td>\n      <td>47000.0</td>\n      <td>213.814919</td>\n      <td>701.492537</td>\n      <td>2.429715</td>\n      <td>7.971506</td>\n      <td>1</td>\n      <td>1990</td>\n      <td>24.3</td>\n    </tr>\n    <tr>\n      <th>2</th>\n      <td>1990_01_309_CLEMENTI_AVE_4_04_TO_06</td>\n      <td>1990-01-01</td>\n      <td>309</td>\n      <td>CLEMENTI</td>\n      <td>CLEMENTI AVE 4</td>\n      <td>309 CLEMENTI AVENUE 4</td>\n      <td>04 TO 06</td>\n      <td>4</td>\n      <td>6</td>\n      <td>NEW GENERATION</td>\n      <td>...</td>\n      <td>89</td>\n      <td>&lt;NA&gt;</td>\n      <td>57000.0</td>\n      <td>211.873164</td>\n      <td>695.121951</td>\n      <td>2.380597</td>\n      <td>7.810359</td>\n      <td>1</td>\n      <td>1990</td>\n      <td>24.3</td>\n    </tr>\n    <tr>\n      <th>3</th>\n      <td>1990_01_309_CLEMENTI_AVE_4_10_TO_12</td>\n      <td>1990-01-01</td>\n      <td>309</td>\n      <td>CLEMENTI</td>\n      <td>CLEMENTI AVE 4</td>\n      <td>309 CLEMENTI AVENUE 4</td>\n      <td>10 TO 12</td>\n      <td>10</td>\n      <td>12</td>\n      <td>NEW GENERATION</td>\n      <td>...</td>\n      <td>89</td>\n      <td>&lt;NA&gt;</td>\n      <td>34000.0</td>\n      <td>154.674622</td>\n      <td>507.462687</td>\n      <td>1.737917</td>\n      <td>5.701828</td>\n      <td>1</td>\n      <td>1990</td>\n      <td>24.3</td>\n    </tr>\n    <tr>\n      <th>4</th>\n      <td>1990_01_310_CLEMENTI_AVE_4_04_TO_06</td>\n      <td>1990-01-01</td>\n      <td>310</td>\n      <td>CLEMENTI</td>\n      <td>CLEMENTI AVE 4</td>\n      <td>310 CLEMENTI AVENUE 4</td>\n      <td>04 TO 06</td>\n      <td>4</td>\n      <td>6</td>\n      <td>NEW GENERATION</td>\n      <td>...</td>\n      <td>89</td>\n      <td>&lt;NA&gt;</td>\n      <td>47000.0</td>\n      <td>213.814919</td>\n      <td>701.492537</td>\n      <td>2.402415</td>\n      <td>7.881939</td>\n      <td>1</td>\n      <td>1990</td>\n      <td>24.3</td>\n    </tr>\n    <tr>\n      <th>...</th>\n      <td>...</td>\n      <td>...</td>\n      <td>...</td>\n      <td>...</td>\n      <td>...</td>\n      <td>...</td>\n      <td>...</td>\n      <td>...</td>\n      <td>...</td>\n      <td>...</td>\n      <td>...</td>\n      <td>...</td>\n      <td>...</td>\n      <td>...</td>\n      <td>...</td>\n      <td>...</td>\n      <td>...</td>\n      <td>...</td>\n      <td>...</td>\n      <td>...</td>\n      <td>...</td>\n    </tr>\n    <tr>\n      <th>1512236</th>\n      <td>2021_09_723_YISHUN_ST_71_10_TO_12</td>\n      <td>2021-09-01</td>\n      <td>723</td>\n      <td>YISHUN</td>\n      <td>YISHUN ST 71</td>\n      <td>723 YISHUN STREET 71</td>\n      <td>10 TO 12</td>\n      <td>10</td>\n      <td>12</td>\n      <td>Maisonette</td>\n      <td>...</td>\n      <td>63</td>\n      <td>9</td>\n      <td>740000.0</td>\n      <td>1544.876663</td>\n      <td>5068.493151</td>\n      <td>24.521852</td>\n      <td>80.452272</td>\n      <td>3</td>\n      <td>2021</td>\n      <td>150.6</td>\n    </tr>\n    <tr>\n      <th>1512237</th>\n      <td>2021_09_828_YISHUN_ST_81_07_TO_09</td>\n      <td>2021-09-01</td>\n      <td>828</td>\n      <td>YISHUN</td>\n      <td>YISHUN ST 81</td>\n      <td>828 YISHUN STREET 81</td>\n      <td>07 TO 09</td>\n      <td>7</td>\n      <td>9</td>\n      <td>Apartment</td>\n      <td>...</td>\n      <td>65</td>\n      <td>5</td>\n      <td>732000.0</td>\n      <td>1571.222485</td>\n      <td>5154.929577</td>\n      <td>24.172654</td>\n      <td>79.306609</td>\n      <td>3</td>\n      <td>2021</td>\n      <td>150.6</td>\n    </tr>\n    <tr>\n      <th>1512238</th>\n      <td>2021_09_826_YISHUN_ST_81_07_TO_09</td>\n      <td>2021-09-01</td>\n      <td>826</td>\n      <td>YISHUN</td>\n      <td>YISHUN ST 81</td>\n      <td>826 YISHUN STREET 81</td>\n      <td>07 TO 09</td>\n      <td>7</td>\n      <td>9</td>\n      <td>Maisonette</td>\n      <td>...</td>\n      <td>65</td>\n      <td>4</td>\n      <td>760000.0</td>\n      <td>1586.630086</td>\n      <td>5205.479452</td>\n      <td>24.409694</td>\n      <td>80.084299</td>\n      <td>3</td>\n      <td>2021</td>\n      <td>150.6</td>\n    </tr>\n    <tr>\n      <th>1512239</th>\n      <td>2021_09_315B_YISHUN_AVE_9_04_TO_06</td>\n      <td>2021-09-01</td>\n      <td>315B</td>\n      <td>YISHUN</td>\n      <td>YISHUN AVE 9</td>\n      <td>315B YISHUN AVENUE 9</td>\n      <td>04 TO 06</td>\n      <td>4</td>\n      <td>6</td>\n      <td>Improved</td>\n      <td>...</td>\n      <td>92</td>\n      <td>1</td>\n      <td>558888.0</td>\n      <td>1520.973723</td>\n      <td>4990.071429</td>\n      <td>16.532323</td>\n      <td>54.239907</td>\n      <td>3</td>\n      <td>2021</td>\n      <td>150.6</td>\n    </tr>\n    <tr>\n      <th>1512240</th>\n      <td>2021_09_841_YISHUN_ST_81_04_TO_06</td>\n      <td>2021-09-01</td>\n      <td>841</td>\n      <td>YISHUN</td>\n      <td>YISHUN ST 81</td>\n      <td>841 YISHUN STREET 81</td>\n      <td>04 TO 06</td>\n      <td>4</td>\n      <td>6</td>\n      <td>Improved</td>\n      <td>...</td>\n      <td>65</td>\n      <td>5</td>\n      <td>620000.0</td>\n      <td>1487.999952</td>\n      <td>4881.889764</td>\n      <td>22.892307</td>\n      <td>75.105996</td>\n      <td>3</td>\n      <td>2021</td>\n      <td>150.6</td>\n    </tr>\n  </tbody>\n</table>\n<p>1512241 rows × 25 columns</p>\n</div>"
     },
     "execution_count": 10,
     "metadata": {},
     "output_type": "execute_result"
    }
   ],
   "source": [
    "rsp = rsp.merge(hpi[['q_num', 'year', 'index']], on=['year', 'q_num'])\n",
    "rsp"
   ],
   "metadata": {
    "collapsed": false,
    "pycharm": {
     "name": "#%%\n"
    }
   }
  },
  {
   "cell_type": "code",
   "execution_count": 11,
   "outputs": [
    {
     "data": {
      "text/plain": "                                            id      month block        town  \\\n0        1990_01_309_ANG_MO_KIO_AVE_1_10_TO_12 1990-01-01   309  ANG MO KIO   \n1          1990_01_307_CLEMENTI_AVE_4_01_TO_03 1990-01-01   307    CLEMENTI   \n2          1990_01_309_CLEMENTI_AVE_4_04_TO_06 1990-01-01   309    CLEMENTI   \n3          1990_01_309_CLEMENTI_AVE_4_10_TO_12 1990-01-01   309    CLEMENTI   \n4          1990_01_310_CLEMENTI_AVE_4_04_TO_06 1990-01-01   310    CLEMENTI   \n...                                        ...        ...   ...         ...   \n1512236      2021_09_723_YISHUN_ST_71_10_TO_12 2021-09-01   723      YISHUN   \n1512237      2021_09_828_YISHUN_ST_81_07_TO_09 2021-09-01   828      YISHUN   \n1512238      2021_09_826_YISHUN_ST_81_07_TO_09 2021-09-01   826      YISHUN   \n1512239     2021_09_315B_YISHUN_AVE_9_04_TO_06 2021-09-01  315B      YISHUN   \n1512240      2021_09_841_YISHUN_ST_81_04_TO_06 2021-09-01   841      YISHUN   \n\n              street_name                  address storey_range  \\\n0        ANG MO KIO AVE 1  309 ANG MO KIO AVENUE 1     10 TO 12   \n1          CLEMENTI AVE 4    307 CLEMENTI AVENUE 4     01 TO 03   \n2          CLEMENTI AVE 4    309 CLEMENTI AVENUE 4     04 TO 06   \n3          CLEMENTI AVE 4    309 CLEMENTI AVENUE 4     10 TO 12   \n4          CLEMENTI AVE 4    310 CLEMENTI AVENUE 4     04 TO 06   \n...                   ...                      ...          ...   \n1512236      YISHUN ST 71     723 YISHUN STREET 71     10 TO 12   \n1512237      YISHUN ST 81     828 YISHUN STREET 81     07 TO 09   \n1512238      YISHUN ST 81     826 YISHUN STREET 81     07 TO 09   \n1512239      YISHUN AVE 9     315B YISHUN AVENUE 9     04 TO 06   \n1512240      YISHUN ST 81     841 YISHUN STREET 81     04 TO 06   \n\n         storey_range_min  storey_range_max      flat_model  ...  \\\n0                      10                12        IMPROVED  ...   \n1                       1                 3  NEW GENERATION  ...   \n2                       4                 6  NEW GENERATION  ...   \n3                      10                12  NEW GENERATION  ...   \n4                       4                 6  NEW GENERATION  ...   \n...                   ...               ...             ...  ...   \n1512236                10                12      Maisonette  ...   \n1512237                 7                 9       Apartment  ...   \n1512238                 7                 9      Maisonette  ...   \n1512239                 4                 6        Improved  ...   \n1512240                 4                 6        Improved  ...   \n\n        remaining_lease_months  resale_price  price_per_sq_ft  price_per_sq_m  \\\n0                         <NA>        9000.0        88.490320      290.322581   \n1                         <NA>       47000.0       213.814919      701.492537   \n2                         <NA>       57000.0       211.873164      695.121951   \n3                         <NA>       34000.0       154.674622      507.462687   \n4                         <NA>       47000.0       213.814919      701.492537   \n...                        ...           ...              ...             ...   \n1512236                      9      740000.0      1544.876663     5068.493151   \n1512237                      5      732000.0      1571.222485     5154.929577   \n1512238                      4      760000.0      1586.630086     5205.479452   \n1512239                      1      558888.0      1520.973723     4990.071429   \n1512240                      5      620000.0      1487.999952     4881.889764   \n\n        price_per_sq_ft_per_lease_yr  price_per_sq_m_per_lease_yr  q_num  \\\n0                           1.028957                     3.375844      1   \n1                           2.429715                     7.971506      1   \n2                           2.380597                     7.810359      1   \n3                           1.737917                     5.701828      1   \n4                           2.402415                     7.881939      1   \n...                              ...                          ...    ...   \n1512236                    24.521852                    80.452272      3   \n1512237                    24.172654                    79.306609      3   \n1512238                    24.409694                    80.084299      3   \n1512239                    16.532323                    54.239907      3   \n1512240                    22.892307                    75.105996      3   \n\n         year  index  resale_price_norm  \n0        1990   24.3       37037.037037  \n1        1990   24.3      193415.637860  \n2        1990   24.3      234567.901235  \n3        1990   24.3      139917.695473  \n4        1990   24.3      193415.637860  \n...       ...    ...                ...  \n1512236  2021  150.6      491367.861886  \n1512237  2021  150.6      486055.776892  \n1512238  2021  150.6      504648.074369  \n1512239  2021  150.6      371107.569721  \n1512240  2021  150.6      411686.586985  \n\n[1512241 rows x 26 columns]",
      "text/html": "<div>\n<style scoped>\n    .dataframe tbody tr th:only-of-type {\n        vertical-align: middle;\n    }\n\n    .dataframe tbody tr th {\n        vertical-align: top;\n    }\n\n    .dataframe thead th {\n        text-align: right;\n    }\n</style>\n<table border=\"1\" class=\"dataframe\">\n  <thead>\n    <tr style=\"text-align: right;\">\n      <th></th>\n      <th>id</th>\n      <th>month</th>\n      <th>block</th>\n      <th>town</th>\n      <th>street_name</th>\n      <th>address</th>\n      <th>storey_range</th>\n      <th>storey_range_min</th>\n      <th>storey_range_max</th>\n      <th>flat_model</th>\n      <th>...</th>\n      <th>remaining_lease_months</th>\n      <th>resale_price</th>\n      <th>price_per_sq_ft</th>\n      <th>price_per_sq_m</th>\n      <th>price_per_sq_ft_per_lease_yr</th>\n      <th>price_per_sq_m_per_lease_yr</th>\n      <th>q_num</th>\n      <th>year</th>\n      <th>index</th>\n      <th>resale_price_norm</th>\n    </tr>\n  </thead>\n  <tbody>\n    <tr>\n      <th>0</th>\n      <td>1990_01_309_ANG_MO_KIO_AVE_1_10_TO_12</td>\n      <td>1990-01-01</td>\n      <td>309</td>\n      <td>ANG MO KIO</td>\n      <td>ANG MO KIO AVE 1</td>\n      <td>309 ANG MO KIO AVENUE 1</td>\n      <td>10 TO 12</td>\n      <td>10</td>\n      <td>12</td>\n      <td>IMPROVED</td>\n      <td>...</td>\n      <td>&lt;NA&gt;</td>\n      <td>9000.0</td>\n      <td>88.490320</td>\n      <td>290.322581</td>\n      <td>1.028957</td>\n      <td>3.375844</td>\n      <td>1</td>\n      <td>1990</td>\n      <td>24.3</td>\n      <td>37037.037037</td>\n    </tr>\n    <tr>\n      <th>1</th>\n      <td>1990_01_307_CLEMENTI_AVE_4_01_TO_03</td>\n      <td>1990-01-01</td>\n      <td>307</td>\n      <td>CLEMENTI</td>\n      <td>CLEMENTI AVE 4</td>\n      <td>307 CLEMENTI AVENUE 4</td>\n      <td>01 TO 03</td>\n      <td>1</td>\n      <td>3</td>\n      <td>NEW GENERATION</td>\n      <td>...</td>\n      <td>&lt;NA&gt;</td>\n      <td>47000.0</td>\n      <td>213.814919</td>\n      <td>701.492537</td>\n      <td>2.429715</td>\n      <td>7.971506</td>\n      <td>1</td>\n      <td>1990</td>\n      <td>24.3</td>\n      <td>193415.637860</td>\n    </tr>\n    <tr>\n      <th>2</th>\n      <td>1990_01_309_CLEMENTI_AVE_4_04_TO_06</td>\n      <td>1990-01-01</td>\n      <td>309</td>\n      <td>CLEMENTI</td>\n      <td>CLEMENTI AVE 4</td>\n      <td>309 CLEMENTI AVENUE 4</td>\n      <td>04 TO 06</td>\n      <td>4</td>\n      <td>6</td>\n      <td>NEW GENERATION</td>\n      <td>...</td>\n      <td>&lt;NA&gt;</td>\n      <td>57000.0</td>\n      <td>211.873164</td>\n      <td>695.121951</td>\n      <td>2.380597</td>\n      <td>7.810359</td>\n      <td>1</td>\n      <td>1990</td>\n      <td>24.3</td>\n      <td>234567.901235</td>\n    </tr>\n    <tr>\n      <th>3</th>\n      <td>1990_01_309_CLEMENTI_AVE_4_10_TO_12</td>\n      <td>1990-01-01</td>\n      <td>309</td>\n      <td>CLEMENTI</td>\n      <td>CLEMENTI AVE 4</td>\n      <td>309 CLEMENTI AVENUE 4</td>\n      <td>10 TO 12</td>\n      <td>10</td>\n      <td>12</td>\n      <td>NEW GENERATION</td>\n      <td>...</td>\n      <td>&lt;NA&gt;</td>\n      <td>34000.0</td>\n      <td>154.674622</td>\n      <td>507.462687</td>\n      <td>1.737917</td>\n      <td>5.701828</td>\n      <td>1</td>\n      <td>1990</td>\n      <td>24.3</td>\n      <td>139917.695473</td>\n    </tr>\n    <tr>\n      <th>4</th>\n      <td>1990_01_310_CLEMENTI_AVE_4_04_TO_06</td>\n      <td>1990-01-01</td>\n      <td>310</td>\n      <td>CLEMENTI</td>\n      <td>CLEMENTI AVE 4</td>\n      <td>310 CLEMENTI AVENUE 4</td>\n      <td>04 TO 06</td>\n      <td>4</td>\n      <td>6</td>\n      <td>NEW GENERATION</td>\n      <td>...</td>\n      <td>&lt;NA&gt;</td>\n      <td>47000.0</td>\n      <td>213.814919</td>\n      <td>701.492537</td>\n      <td>2.402415</td>\n      <td>7.881939</td>\n      <td>1</td>\n      <td>1990</td>\n      <td>24.3</td>\n      <td>193415.637860</td>\n    </tr>\n    <tr>\n      <th>...</th>\n      <td>...</td>\n      <td>...</td>\n      <td>...</td>\n      <td>...</td>\n      <td>...</td>\n      <td>...</td>\n      <td>...</td>\n      <td>...</td>\n      <td>...</td>\n      <td>...</td>\n      <td>...</td>\n      <td>...</td>\n      <td>...</td>\n      <td>...</td>\n      <td>...</td>\n      <td>...</td>\n      <td>...</td>\n      <td>...</td>\n      <td>...</td>\n      <td>...</td>\n      <td>...</td>\n    </tr>\n    <tr>\n      <th>1512236</th>\n      <td>2021_09_723_YISHUN_ST_71_10_TO_12</td>\n      <td>2021-09-01</td>\n      <td>723</td>\n      <td>YISHUN</td>\n      <td>YISHUN ST 71</td>\n      <td>723 YISHUN STREET 71</td>\n      <td>10 TO 12</td>\n      <td>10</td>\n      <td>12</td>\n      <td>Maisonette</td>\n      <td>...</td>\n      <td>9</td>\n      <td>740000.0</td>\n      <td>1544.876663</td>\n      <td>5068.493151</td>\n      <td>24.521852</td>\n      <td>80.452272</td>\n      <td>3</td>\n      <td>2021</td>\n      <td>150.6</td>\n      <td>491367.861886</td>\n    </tr>\n    <tr>\n      <th>1512237</th>\n      <td>2021_09_828_YISHUN_ST_81_07_TO_09</td>\n      <td>2021-09-01</td>\n      <td>828</td>\n      <td>YISHUN</td>\n      <td>YISHUN ST 81</td>\n      <td>828 YISHUN STREET 81</td>\n      <td>07 TO 09</td>\n      <td>7</td>\n      <td>9</td>\n      <td>Apartment</td>\n      <td>...</td>\n      <td>5</td>\n      <td>732000.0</td>\n      <td>1571.222485</td>\n      <td>5154.929577</td>\n      <td>24.172654</td>\n      <td>79.306609</td>\n      <td>3</td>\n      <td>2021</td>\n      <td>150.6</td>\n      <td>486055.776892</td>\n    </tr>\n    <tr>\n      <th>1512238</th>\n      <td>2021_09_826_YISHUN_ST_81_07_TO_09</td>\n      <td>2021-09-01</td>\n      <td>826</td>\n      <td>YISHUN</td>\n      <td>YISHUN ST 81</td>\n      <td>826 YISHUN STREET 81</td>\n      <td>07 TO 09</td>\n      <td>7</td>\n      <td>9</td>\n      <td>Maisonette</td>\n      <td>...</td>\n      <td>4</td>\n      <td>760000.0</td>\n      <td>1586.630086</td>\n      <td>5205.479452</td>\n      <td>24.409694</td>\n      <td>80.084299</td>\n      <td>3</td>\n      <td>2021</td>\n      <td>150.6</td>\n      <td>504648.074369</td>\n    </tr>\n    <tr>\n      <th>1512239</th>\n      <td>2021_09_315B_YISHUN_AVE_9_04_TO_06</td>\n      <td>2021-09-01</td>\n      <td>315B</td>\n      <td>YISHUN</td>\n      <td>YISHUN AVE 9</td>\n      <td>315B YISHUN AVENUE 9</td>\n      <td>04 TO 06</td>\n      <td>4</td>\n      <td>6</td>\n      <td>Improved</td>\n      <td>...</td>\n      <td>1</td>\n      <td>558888.0</td>\n      <td>1520.973723</td>\n      <td>4990.071429</td>\n      <td>16.532323</td>\n      <td>54.239907</td>\n      <td>3</td>\n      <td>2021</td>\n      <td>150.6</td>\n      <td>371107.569721</td>\n    </tr>\n    <tr>\n      <th>1512240</th>\n      <td>2021_09_841_YISHUN_ST_81_04_TO_06</td>\n      <td>2021-09-01</td>\n      <td>841</td>\n      <td>YISHUN</td>\n      <td>YISHUN ST 81</td>\n      <td>841 YISHUN STREET 81</td>\n      <td>04 TO 06</td>\n      <td>4</td>\n      <td>6</td>\n      <td>Improved</td>\n      <td>...</td>\n      <td>5</td>\n      <td>620000.0</td>\n      <td>1487.999952</td>\n      <td>4881.889764</td>\n      <td>22.892307</td>\n      <td>75.105996</td>\n      <td>3</td>\n      <td>2021</td>\n      <td>150.6</td>\n      <td>411686.586985</td>\n    </tr>\n  </tbody>\n</table>\n<p>1512241 rows × 26 columns</p>\n</div>"
     },
     "execution_count": 11,
     "metadata": {},
     "output_type": "execute_result"
    }
   ],
   "source": [
    "rsp['resale_price_norm'] = rsp['resale_price'] / rsp['index'] * 100\n",
    "rsp"
   ],
   "metadata": {
    "collapsed": false,
    "pycharm": {
     "name": "#%%\n"
    }
   }
  },
  {
   "cell_type": "code",
   "execution_count": 14,
   "outputs": [],
   "source": [
    "price_columns = ['resale_price', 'price_per_sq_ft', 'price_per_sq_m',\n",
    "                 'price_per_sq_ft_per_lease_yr', 'price_per_sq_m_per_lease_yr']\n",
    "\n",
    "for col in price_columns:\n",
    "    rsp[f\"{col}_norm\"] = rsp[col] / rsp['index'] * 100\n"
   ],
   "metadata": {
    "collapsed": false,
    "pycharm": {
     "name": "#%%\n"
    }
   }
  },
  {
   "cell_type": "code",
   "execution_count": 18,
   "outputs": [],
   "source": [
    "rsp = rsp[['id', 'month', 'block', 'town', 'street_name', 'address',\n",
    "     'storey_range', 'storey_range_min', 'storey_range_max', 'flat_model',\n",
    "     'flat_type', 'n_rooms', 'floor_area_sqm',\n",
    "     'lease_commence_date', 'remaining_lease', 'remaining_lease_years', 'remaining_lease_months',\n",
    "     'resale_price', 'resale_price_norm',\n",
    "     'price_per_sq_ft', 'price_per_sq_ft_norm',\n",
    "     'price_per_sq_m', 'price_per_sq_m_norm',\n",
    "     'price_per_sq_ft_per_lease_yr', 'price_per_sq_ft_per_lease_yr_norm',\n",
    "     'price_per_sq_m_per_lease_yr', 'price_per_sq_m_per_lease_yr_norm'\n",
    "     ]]"
   ],
   "metadata": {
    "collapsed": false,
    "pycharm": {
     "name": "#%%\n"
    }
   }
  },
  {
   "cell_type": "code",
   "execution_count": 19,
   "outputs": [
    {
     "data": {
      "text/plain": "id                                           object\nmonth                                datetime64[ns]\nblock                                        object\ntown                                         object\nstreet_name                                  object\naddress                                      object\nstorey_range                                 object\nstorey_range_min                              int64\nstorey_range_max                              int64\nflat_model                                   object\nflat_type                                    object\nn_rooms                                       Int64\nfloor_area_sqm                              float64\nlease_commence_date                           int64\nremaining_lease                              object\nremaining_lease_years                         int64\nremaining_lease_months                        Int64\nresale_price                                float64\nresale_price_norm                           float64\nprice_per_sq_ft                             float64\nprice_per_sq_ft_norm                        float64\nprice_per_sq_m                              float64\nprice_per_sq_m_norm                         float64\nprice_per_sq_ft_per_lease_yr                float64\nprice_per_sq_ft_per_lease_yr_norm           float64\nprice_per_sq_m_per_lease_yr                 float64\nprice_per_sq_m_per_lease_yr_norm            float64\ndtype: object"
     },
     "execution_count": 19,
     "metadata": {},
     "output_type": "execute_result"
    }
   ],
   "source": [
    "rsp.dtypes"
   ],
   "metadata": {
    "collapsed": false,
    "pycharm": {
     "name": "#%%\n"
    }
   }
  },
  {
   "cell_type": "code",
   "execution_count": 20,
   "outputs": [],
   "source": [
    "engine = create_engine(f'postgresql+psycopg2://{Capstone_AWS_PG.username}:{Capstone_AWS_PG.password}@{Capstone_AWS_PG.host}/capstone', echo=False)\n",
    "\n",
    "sql_alc_cnxn = engine.connect()\n",
    "\n",
    "rsp.to_sql('resale_prices_full', sql_alc_cnxn, if_exists='replace', index=False)\n",
    "\n",
    "sql_alc_cnxn.close()"
   ],
   "metadata": {
    "collapsed": false,
    "pycharm": {
     "name": "#%%\n"
    }
   }
  },
  {
   "cell_type": "code",
   "execution_count": null,
   "outputs": [],
   "source": [],
   "metadata": {
    "collapsed": false,
    "pycharm": {
     "name": "#%%\n"
    }
   }
  }
 ],
 "metadata": {
  "kernelspec": {
   "display_name": "Python 3",
   "language": "python",
   "name": "python3"
  },
  "language_info": {
   "codemirror_mode": {
    "name": "ipython",
    "version": 2
   },
   "file_extension": ".py",
   "mimetype": "text/x-python",
   "name": "python",
   "nbconvert_exporter": "python",
   "pygments_lexer": "ipython2",
   "version": "2.7.6"
  }
 },
 "nbformat": 4,
 "nbformat_minor": 0
}