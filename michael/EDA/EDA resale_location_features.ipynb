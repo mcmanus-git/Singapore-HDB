{
 "cells": [
  {
   "cell_type": "code",
   "execution_count": 1,
   "metadata": {
    "collapsed": true,
    "pycharm": {
     "name": "#%%\n"
    }
   },
   "outputs": [],
   "source": [
    "import geopandas as gpd\n",
    "from sqlalchemy import create_engine\n",
    "from MyCreds.mycreds import Capstone_AWS_SG\n",
    "import timeit\n",
    "from datetime import datetime"
   ]
  },
  {
   "cell_type": "code",
   "execution_count": 2,
   "outputs": [
    {
     "data": {
      "text/plain": "2022"
     },
     "execution_count": 2,
     "metadata": {},
     "output_type": "execute_result"
    }
   ],
   "source": [
    "datetime.now().year"
   ],
   "metadata": {
    "collapsed": false,
    "pycharm": {
     "name": "#%%\n"
    }
   }
  },
  {
   "cell_type": "code",
   "execution_count": 2,
   "outputs": [
    {
     "data": {
      "text/plain": "96.786549542"
     },
     "execution_count": 2,
     "metadata": {},
     "output_type": "execute_result"
    }
   ],
   "source": [
    "start_time = timeit.default_timer()\n",
    "sql = f\"\"\"SELECT * FROM resale_location_features where extract(year from month) >= {(datetime.now().year - 5)};\"\"\"\n",
    "\n",
    "engine = create_engine(f'postgresql+psycopg2://{Capstone_AWS_SG.username}:{Capstone_AWS_SG.password}@{Capstone_AWS_SG.host}/Capstone', echo=False)\n",
    "\n",
    "with engine.connect() as cnxn:\n",
    "    df = gpd.read_postgis(sql, cnxn, geom_col='geometry')\n",
    "\n",
    "end_time = timeit.default_timer()\n",
    "total = end_time - start_time\n",
    "total"
   ],
   "metadata": {
    "collapsed": false,
    "pycharm": {
     "name": "#%%\n"
    }
   }
  },
  {
   "cell_type": "code",
   "execution_count": 3,
   "outputs": [
    {
     "data": {
      "text/plain": "                                 transaction_id      month block  \\\n0              2019_07_509_JELAPANG_RD_01_TO_03 2019-07-01   509   \n1          2019_07_332_SERANGOON_AVE_3_07_TO_09 2019-07-01   332   \n2          2019_07_201A_TAMPINES_ST_21_01_TO_03 2019-07-01  201A   \n3          2019_07_201A_TAMPINES_ST_21_01_TO_03 2019-07-01  201A   \n4           2019_07_117_YISHUN_RING_RD_07_TO_09 2019-07-01   117   \n...                                         ...        ...   ...   \n148042        2019_06_865_YISHUN_ST_81_10_TO_12 2019-06-01   865   \n148043        2019_06_865_YISHUN_ST_81_10_TO_12 2019-06-01   865   \n148044           2019_07_666_JLN_DAMAI_10_TO_12 2019-07-01   666   \n148045  2019_07_724_BEDOK_RESERVOIR_RD_13_TO_15 2019-07-01   724   \n148046         2019_07_509_JELAPANG_RD_04_TO_06 2019-07-01   509   \n\n                 town         street_name                 address  \\\n0       BUKIT PANJANG         JELAPANG RD         509 JELAPANG RD   \n1           SERANGOON     SERANGOON AVE 3     332 SERANGOON AVE 3   \n2            TAMPINES      TAMPINES ST 21     201A TAMPINES ST 21   \n3            TAMPINES      TAMPINES ST 21     201A TAMPINES ST 21   \n4              YISHUN      YISHUN RING RD      117 YISHUN RING RD   \n...               ...                 ...                     ...   \n148042         YISHUN        YISHUN ST 81        865 YISHUN ST 81   \n148043         YISHUN        YISHUN ST 81        865 YISHUN ST 81   \n148044          BEDOK           JLN DAMAI           666 JLN DAMAI   \n148045          BEDOK  BEDOK RESERVOIR RD  724 BEDOK RESERVOIR RD   \n148046  BUKIT PANJANG         JELAPANG RD         509 JELAPANG RD   \n\n       storey_range  storey_range_min  storey_range_max      flat_model  ...  \\\n0          01 TO 03                 1                 3        Model A2  ...   \n1          07 TO 09                 7                 9         Model A  ...   \n2          01 TO 03                 1                 3  New Generation  ...   \n3          01 TO 03                 1                 3  New Generation  ...   \n4          07 TO 09                 7                 9         Model A  ...   \n...             ...               ...               ...             ...  ...   \n148042     10 TO 12                10                12         Model A  ...   \n148043     10 TO 12                10                12         Model A  ...   \n148044     10 TO 12                10                12        Improved  ...   \n148045     13 TO 15                13                15         Model A  ...   \n148046     04 TO 06                 4                 6        Model A2  ...   \n\n       dist_to_con_area_id_239  dist_to_con_area_id_240  \\\n0                 11964.256122             12835.062073   \n1                 12256.905708             10150.872927   \n2                 20263.440644             17516.182446   \n3                 20262.914371             17515.667932   \n4                 17846.966626             17373.833080   \n...                        ...                      ...   \n148042            15977.378385             15205.927710   \n148043            15977.314721             15202.616123   \n148044            14852.214698             12125.958269   \n148045            17092.566824             14307.285395   \n148046            11964.256122             12835.062073   \n\n        dist_to_con_area_id_241  dist_to_con_area_id_242  \\\n0                  12201.072622             14391.381820   \n1                   7605.674647              7277.750938   \n2                  15043.000184             13247.774663   \n3                  15042.478168             13247.279500   \n4                  15538.059223             16604.388726   \n...                         ...                      ...   \n148042             13214.748492             14114.173184   \n148043             13209.529184             14106.117056   \n148044              9635.018199              7966.702677   \n148045             11857.225552             10020.103459   \n148046             12201.072622             14391.381820   \n\n       dist_to_con_area_id_243  dist_to_con_area_id_244  \\\n0                  9977.238478             10337.885578   \n1                  6975.638554              6896.978313   \n2                 15362.777373             15157.132444   \n3                 15362.238928             15156.595649   \n4                 13618.699240             13840.732797   \n...                        ...                      ...   \n148042            11417.986492             11606.420700   \n148043            11414.559043             11602.539336   \n148044            10006.465591              9783.686289   \n148045            12299.612597             12072.499168   \n148046             9977.238478             10337.885578   \n\n        dist_to_con_area_id_245  dist_to_con_area_id_246  \\\n0                   9679.968684             13948.196100   \n1                   6666.461136              6273.345579   \n2                  15169.121276             12443.902859   \n3                  15168.581129             12443.397110   \n4                  13212.122651             15750.460824   \n...                         ...                      ...   \n148042             11011.931673             13233.413270   \n148043             11008.546394             13224.816819   \n148044              9838.706834              7100.994341   \n148045             12135.085153              9221.886932   \n148046              9679.968684             13948.196100   \n\n        dist_to_con_area_id_247  dist_to_con_area_id_248  \n0                  13033.921375             14320.464023  \n1                   6498.855304              8775.693831  \n2                  13241.432412             15109.124052  \n3                  13240.919984             15108.628781  \n4                  15426.221763             17470.887427  \n...                         ...                      ...  \n148042             12970.685528             15075.638760  \n148043             12963.325522             15069.242539  \n148044              7863.108819              9817.426278  \n148045             10029.472251             11881.455565  \n148046             13033.921375             14320.464023  \n\n[148047 rows x 375 columns]",
      "text/html": "<div>\n<style scoped>\n    .dataframe tbody tr th:only-of-type {\n        vertical-align: middle;\n    }\n\n    .dataframe tbody tr th {\n        vertical-align: top;\n    }\n\n    .dataframe thead th {\n        text-align: right;\n    }\n</style>\n<table border=\"1\" class=\"dataframe\">\n  <thead>\n    <tr style=\"text-align: right;\">\n      <th></th>\n      <th>transaction_id</th>\n      <th>month</th>\n      <th>block</th>\n      <th>town</th>\n      <th>street_name</th>\n      <th>address</th>\n      <th>storey_range</th>\n      <th>storey_range_min</th>\n      <th>storey_range_max</th>\n      <th>flat_model</th>\n      <th>...</th>\n      <th>dist_to_con_area_id_239</th>\n      <th>dist_to_con_area_id_240</th>\n      <th>dist_to_con_area_id_241</th>\n      <th>dist_to_con_area_id_242</th>\n      <th>dist_to_con_area_id_243</th>\n      <th>dist_to_con_area_id_244</th>\n      <th>dist_to_con_area_id_245</th>\n      <th>dist_to_con_area_id_246</th>\n      <th>dist_to_con_area_id_247</th>\n      <th>dist_to_con_area_id_248</th>\n    </tr>\n  </thead>\n  <tbody>\n    <tr>\n      <th>0</th>\n      <td>2019_07_509_JELAPANG_RD_01_TO_03</td>\n      <td>2019-07-01</td>\n      <td>509</td>\n      <td>BUKIT PANJANG</td>\n      <td>JELAPANG RD</td>\n      <td>509 JELAPANG RD</td>\n      <td>01 TO 03</td>\n      <td>1</td>\n      <td>3</td>\n      <td>Model A2</td>\n      <td>...</td>\n      <td>11964.256122</td>\n      <td>12835.062073</td>\n      <td>12201.072622</td>\n      <td>14391.381820</td>\n      <td>9977.238478</td>\n      <td>10337.885578</td>\n      <td>9679.968684</td>\n      <td>13948.196100</td>\n      <td>13033.921375</td>\n      <td>14320.464023</td>\n    </tr>\n    <tr>\n      <th>1</th>\n      <td>2019_07_332_SERANGOON_AVE_3_07_TO_09</td>\n      <td>2019-07-01</td>\n      <td>332</td>\n      <td>SERANGOON</td>\n      <td>SERANGOON AVE 3</td>\n      <td>332 SERANGOON AVE 3</td>\n      <td>07 TO 09</td>\n      <td>7</td>\n      <td>9</td>\n      <td>Model A</td>\n      <td>...</td>\n      <td>12256.905708</td>\n      <td>10150.872927</td>\n      <td>7605.674647</td>\n      <td>7277.750938</td>\n      <td>6975.638554</td>\n      <td>6896.978313</td>\n      <td>6666.461136</td>\n      <td>6273.345579</td>\n      <td>6498.855304</td>\n      <td>8775.693831</td>\n    </tr>\n    <tr>\n      <th>2</th>\n      <td>2019_07_201A_TAMPINES_ST_21_01_TO_03</td>\n      <td>2019-07-01</td>\n      <td>201A</td>\n      <td>TAMPINES</td>\n      <td>TAMPINES ST 21</td>\n      <td>201A TAMPINES ST 21</td>\n      <td>01 TO 03</td>\n      <td>1</td>\n      <td>3</td>\n      <td>New Generation</td>\n      <td>...</td>\n      <td>20263.440644</td>\n      <td>17516.182446</td>\n      <td>15043.000184</td>\n      <td>13247.774663</td>\n      <td>15362.777373</td>\n      <td>15157.132444</td>\n      <td>15169.121276</td>\n      <td>12443.902859</td>\n      <td>13241.432412</td>\n      <td>15109.124052</td>\n    </tr>\n    <tr>\n      <th>3</th>\n      <td>2019_07_201A_TAMPINES_ST_21_01_TO_03</td>\n      <td>2019-07-01</td>\n      <td>201A</td>\n      <td>TAMPINES</td>\n      <td>TAMPINES ST 21</td>\n      <td>201A TAMPINES ST 21</td>\n      <td>01 TO 03</td>\n      <td>1</td>\n      <td>3</td>\n      <td>New Generation</td>\n      <td>...</td>\n      <td>20262.914371</td>\n      <td>17515.667932</td>\n      <td>15042.478168</td>\n      <td>13247.279500</td>\n      <td>15362.238928</td>\n      <td>15156.595649</td>\n      <td>15168.581129</td>\n      <td>12443.397110</td>\n      <td>13240.919984</td>\n      <td>15108.628781</td>\n    </tr>\n    <tr>\n      <th>4</th>\n      <td>2019_07_117_YISHUN_RING_RD_07_TO_09</td>\n      <td>2019-07-01</td>\n      <td>117</td>\n      <td>YISHUN</td>\n      <td>YISHUN RING RD</td>\n      <td>117 YISHUN RING RD</td>\n      <td>07 TO 09</td>\n      <td>7</td>\n      <td>9</td>\n      <td>Model A</td>\n      <td>...</td>\n      <td>17846.966626</td>\n      <td>17373.833080</td>\n      <td>15538.059223</td>\n      <td>16604.388726</td>\n      <td>13618.699240</td>\n      <td>13840.732797</td>\n      <td>13212.122651</td>\n      <td>15750.460824</td>\n      <td>15426.221763</td>\n      <td>17470.887427</td>\n    </tr>\n    <tr>\n      <th>...</th>\n      <td>...</td>\n      <td>...</td>\n      <td>...</td>\n      <td>...</td>\n      <td>...</td>\n      <td>...</td>\n      <td>...</td>\n      <td>...</td>\n      <td>...</td>\n      <td>...</td>\n      <td>...</td>\n      <td>...</td>\n      <td>...</td>\n      <td>...</td>\n      <td>...</td>\n      <td>...</td>\n      <td>...</td>\n      <td>...</td>\n      <td>...</td>\n      <td>...</td>\n      <td>...</td>\n    </tr>\n    <tr>\n      <th>148042</th>\n      <td>2019_06_865_YISHUN_ST_81_10_TO_12</td>\n      <td>2019-06-01</td>\n      <td>865</td>\n      <td>YISHUN</td>\n      <td>YISHUN ST 81</td>\n      <td>865 YISHUN ST 81</td>\n      <td>10 TO 12</td>\n      <td>10</td>\n      <td>12</td>\n      <td>Model A</td>\n      <td>...</td>\n      <td>15977.378385</td>\n      <td>15205.927710</td>\n      <td>13214.748492</td>\n      <td>14114.173184</td>\n      <td>11417.986492</td>\n      <td>11606.420700</td>\n      <td>11011.931673</td>\n      <td>13233.413270</td>\n      <td>12970.685528</td>\n      <td>15075.638760</td>\n    </tr>\n    <tr>\n      <th>148043</th>\n      <td>2019_06_865_YISHUN_ST_81_10_TO_12</td>\n      <td>2019-06-01</td>\n      <td>865</td>\n      <td>YISHUN</td>\n      <td>YISHUN ST 81</td>\n      <td>865 YISHUN ST 81</td>\n      <td>10 TO 12</td>\n      <td>10</td>\n      <td>12</td>\n      <td>Model A</td>\n      <td>...</td>\n      <td>15977.314721</td>\n      <td>15202.616123</td>\n      <td>13209.529184</td>\n      <td>14106.117056</td>\n      <td>11414.559043</td>\n      <td>11602.539336</td>\n      <td>11008.546394</td>\n      <td>13224.816819</td>\n      <td>12963.325522</td>\n      <td>15069.242539</td>\n    </tr>\n    <tr>\n      <th>148044</th>\n      <td>2019_07_666_JLN_DAMAI_10_TO_12</td>\n      <td>2019-07-01</td>\n      <td>666</td>\n      <td>BEDOK</td>\n      <td>JLN DAMAI</td>\n      <td>666 JLN DAMAI</td>\n      <td>10 TO 12</td>\n      <td>10</td>\n      <td>12</td>\n      <td>Improved</td>\n      <td>...</td>\n      <td>14852.214698</td>\n      <td>12125.958269</td>\n      <td>9635.018199</td>\n      <td>7966.702677</td>\n      <td>10006.465591</td>\n      <td>9783.686289</td>\n      <td>9838.706834</td>\n      <td>7100.994341</td>\n      <td>7863.108819</td>\n      <td>9817.426278</td>\n    </tr>\n    <tr>\n      <th>148045</th>\n      <td>2019_07_724_BEDOK_RESERVOIR_RD_13_TO_15</td>\n      <td>2019-07-01</td>\n      <td>724</td>\n      <td>BEDOK</td>\n      <td>BEDOK RESERVOIR RD</td>\n      <td>724 BEDOK RESERVOIR RD</td>\n      <td>13 TO 15</td>\n      <td>13</td>\n      <td>15</td>\n      <td>Model A</td>\n      <td>...</td>\n      <td>17092.566824</td>\n      <td>14307.285395</td>\n      <td>11857.225552</td>\n      <td>10020.103459</td>\n      <td>12299.612597</td>\n      <td>12072.499168</td>\n      <td>12135.085153</td>\n      <td>9221.886932</td>\n      <td>10029.472251</td>\n      <td>11881.455565</td>\n    </tr>\n    <tr>\n      <th>148046</th>\n      <td>2019_07_509_JELAPANG_RD_04_TO_06</td>\n      <td>2019-07-01</td>\n      <td>509</td>\n      <td>BUKIT PANJANG</td>\n      <td>JELAPANG RD</td>\n      <td>509 JELAPANG RD</td>\n      <td>04 TO 06</td>\n      <td>4</td>\n      <td>6</td>\n      <td>Model A2</td>\n      <td>...</td>\n      <td>11964.256122</td>\n      <td>12835.062073</td>\n      <td>12201.072622</td>\n      <td>14391.381820</td>\n      <td>9977.238478</td>\n      <td>10337.885578</td>\n      <td>9679.968684</td>\n      <td>13948.196100</td>\n      <td>13033.921375</td>\n      <td>14320.464023</td>\n    </tr>\n  </tbody>\n</table>\n<p>148047 rows × 375 columns</p>\n</div>"
     },
     "execution_count": 3,
     "metadata": {},
     "output_type": "execute_result"
    }
   ],
   "source": [
    "df"
   ],
   "metadata": {
    "collapsed": false,
    "pycharm": {
     "name": "#%%\n"
    }
   }
  },
  {
   "cell_type": "code",
   "execution_count": 4,
   "outputs": [
    {
     "data": {
      "text/plain": "Timestamp('2017-01-01 00:00:00')"
     },
     "execution_count": 4,
     "metadata": {},
     "output_type": "execute_result"
    }
   ],
   "source": [
    "df['month'].min()"
   ],
   "metadata": {
    "collapsed": false,
    "pycharm": {
     "name": "#%%\n"
    }
   }
  },
  {
   "cell_type": "code",
   "execution_count": 7,
   "outputs": [
    {
     "data": {
      "text/plain": "1414897.6848394324"
     },
     "execution_count": 7,
     "metadata": {},
     "output_type": "execute_result"
    }
   ],
   "source": [
    "df['resale_price_norm'].max()"
   ],
   "metadata": {
    "collapsed": false,
    "pycharm": {
     "name": "#%%\n"
    }
   }
  },
  {
   "cell_type": "code",
   "execution_count": 34,
   "outputs": [
    {
     "data": {
      "text/plain": "array(['308A PUNGGOL WALK', 141950], dtype=object)"
     },
     "execution_count": 34,
     "metadata": {},
     "output_type": "execute_result"
    }
   ],
   "source": [
    "address_most_resales = df[df['address'] == df.value_counts('address').reset_index().rename({0: 'Number of Resales'}, axis=1).iloc[0]['address']][['address', 'building_id']].iloc[0].values\n",
    "address_most_resales"
   ],
   "metadata": {
    "collapsed": false,
    "pycharm": {
     "name": "#%%\n"
    }
   }
  },
  {
   "cell_type": "code",
   "execution_count": 24,
   "outputs": [
    {
     "data": {
      "text/plain": "array([['1B CANTONMENT RD', 3139]], dtype=object)"
     },
     "execution_count": 24,
     "metadata": {},
     "output_type": "execute_result"
    }
   ],
   "source": [
    "address_highest_resale = df[df['resale_price_norm'] == df['resale_price_norm'].max()][['address', 'building_id']].values\n",
    "address_highest_resale"
   ],
   "metadata": {
    "collapsed": false,
    "pycharm": {
     "name": "#%%\n"
    }
   }
  },
  {
   "cell_type": "code",
   "execution_count": 25,
   "outputs": [
    {
     "data": {
      "text/plain": "array([['96 ALJUNIED CRES', 44427]], dtype=object)"
     },
     "execution_count": 25,
     "metadata": {},
     "output_type": "execute_result"
    }
   ],
   "source": [
    "address_lowest_resale = df[df['resale_price_norm'] == df['resale_price_norm'].min()][['address', 'building_id']].values\n",
    "address_lowest_resale"
   ],
   "metadata": {
    "collapsed": false,
    "pycharm": {
     "name": "#%%\n"
    }
   }
  },
  {
   "cell_type": "code",
   "execution_count": 41,
   "outputs": [
    {
     "data": {
      "text/plain": "141950"
     },
     "execution_count": 41,
     "metadata": {},
     "output_type": "execute_result"
    }
   ],
   "source": [
    "address_most_resales[1]"
   ],
   "metadata": {
    "collapsed": false,
    "pycharm": {
     "name": "#%%\n"
    }
   }
  },
  {
   "cell_type": "code",
   "execution_count": 43,
   "outputs": [
    {
     "data": {
      "text/plain": "'[308A PUNGGOL WALK](141950)'"
     },
     "execution_count": 43,
     "metadata": {},
     "output_type": "execute_result"
    }
   ],
   "source": [
    "f\"[{address_most_resales[0]}]({address_most_resales[1]})\""
   ],
   "metadata": {
    "collapsed": false,
    "pycharm": {
     "name": "#%%\n"
    }
   }
  },
  {
   "cell_type": "code",
   "execution_count": 44,
   "outputs": [
    {
     "data": {
      "text/plain": "'[96 ALJUNIED CRES](44427)'"
     },
     "execution_count": 44,
     "metadata": {},
     "output_type": "execute_result"
    }
   ],
   "source": [
    "f\"[{address_lowest_resale[0][0]}]({address_lowest_resale[0][1]})\""
   ],
   "metadata": {
    "collapsed": false,
    "pycharm": {
     "name": "#%%\n"
    }
   }
  },
  {
   "cell_type": "code",
   "execution_count": 45,
   "outputs": [
    {
     "data": {
      "text/plain": "'[1B CANTONMENT RD](3139)'"
     },
     "execution_count": 45,
     "metadata": {},
     "output_type": "execute_result"
    }
   ],
   "source": [
    "f\"[{address_highest_resale[0][0]}]({address_highest_resale[0][1]})\""
   ],
   "metadata": {
    "collapsed": false,
    "pycharm": {
     "name": "#%%\n"
    }
   }
  },
  {
   "cell_type": "code",
   "execution_count": 8,
   "outputs": [],
   "source": [
    "import pandas as pd"
   ],
   "metadata": {
    "collapsed": false,
    "pycharm": {
     "name": "#%%\n"
    }
   }
  },
  {
   "cell_type": "code",
   "execution_count": 11,
   "outputs": [
    {
     "data": {
      "text/plain": "5.167973250000159"
     },
     "execution_count": 11,
     "metadata": {},
     "output_type": "execute_result"
    }
   ],
   "source": [
    "start_time = timeit.default_timer()\n",
    "sql = f\"\"\"SELECT * FROM explore_pg_five_yr_min_max;\"\"\"\n",
    "\n",
    "engine = create_engine(f'postgresql+psycopg2://{Capstone_AWS_SG.username}:{Capstone_AWS_SG.password}@{Capstone_AWS_SG.host}/Capstone', echo=False)\n",
    "\n",
    "with engine.connect() as cnxn:\n",
    "    df_explore_page = pd.read_sql(sql, cnxn)\n",
    "\n",
    "end_time = timeit.default_timer()\n",
    "total = end_time - start_time\n",
    "total"
   ],
   "metadata": {
    "collapsed": false,
    "pycharm": {
     "name": "#%%\n"
    }
   }
  },
  {
   "cell_type": "code",
   "execution_count": 14,
   "outputs": [
    {
     "data": {
      "text/plain": "             address  building_id  aggregated_amount       attribute\n0   96 ALJUNIED CRES        44427          146667.00   lowest_resale\n1  308A PUNGGOL WALK       141950             115.00   max_n_resales\n2   1B CANTONMENT RD         3139         1414897.68  highest_resale",
      "text/html": "<div>\n<style scoped>\n    .dataframe tbody tr th:only-of-type {\n        vertical-align: middle;\n    }\n\n    .dataframe tbody tr th {\n        vertical-align: top;\n    }\n\n    .dataframe thead th {\n        text-align: right;\n    }\n</style>\n<table border=\"1\" class=\"dataframe\">\n  <thead>\n    <tr style=\"text-align: right;\">\n      <th></th>\n      <th>address</th>\n      <th>building_id</th>\n      <th>aggregated_amount</th>\n      <th>attribute</th>\n    </tr>\n  </thead>\n  <tbody>\n    <tr>\n      <th>0</th>\n      <td>96 ALJUNIED CRES</td>\n      <td>44427</td>\n      <td>146667.00</td>\n      <td>lowest_resale</td>\n    </tr>\n    <tr>\n      <th>1</th>\n      <td>308A PUNGGOL WALK</td>\n      <td>141950</td>\n      <td>115.00</td>\n      <td>max_n_resales</td>\n    </tr>\n    <tr>\n      <th>2</th>\n      <td>1B CANTONMENT RD</td>\n      <td>3139</td>\n      <td>1414897.68</td>\n      <td>highest_resale</td>\n    </tr>\n  </tbody>\n</table>\n</div>"
     },
     "execution_count": 14,
     "metadata": {},
     "output_type": "execute_result"
    }
   ],
   "source": [
    "df_explore_page['aggregated_amount'] = df_explore_page['aggregated_amount'].round(2)\n",
    "df_explore_page"
   ],
   "metadata": {
    "collapsed": false,
    "pycharm": {
     "name": "#%%\n"
    }
   }
  },
  {
   "cell_type": "code",
   "execution_count": 13,
   "outputs": [
    {
     "data": {
      "text/plain": "0     146667.00\n1        115.00\n2    1414897.68\nName: aggregated_amount, dtype: float64"
     },
     "execution_count": 13,
     "metadata": {},
     "output_type": "execute_result"
    }
   ],
   "source": [
    "df_explore_page['aggregated_amount'].round(2)"
   ],
   "metadata": {
    "collapsed": false,
    "pycharm": {
     "name": "#%%\n"
    }
   }
  },
  {
   "cell_type": "code",
   "execution_count": 16,
   "outputs": [
    {
     "data": {
      "text/plain": "             address  building_id  aggregated_amount       attribute\n0   96 ALJUNIED CRES        44427          146667.00   lowest_resale\n1  308A PUNGGOL WALK       141950             115.00   max_n_resales\n2   1B CANTONMENT RD         3139         1414897.68  highest_resale",
      "text/html": "<div>\n<style scoped>\n    .dataframe tbody tr th:only-of-type {\n        vertical-align: middle;\n    }\n\n    .dataframe tbody tr th {\n        vertical-align: top;\n    }\n\n    .dataframe thead th {\n        text-align: right;\n    }\n</style>\n<table border=\"1\" class=\"dataframe\">\n  <thead>\n    <tr style=\"text-align: right;\">\n      <th></th>\n      <th>address</th>\n      <th>building_id</th>\n      <th>aggregated_amount</th>\n      <th>attribute</th>\n    </tr>\n  </thead>\n  <tbody>\n    <tr>\n      <th>0</th>\n      <td>96 ALJUNIED CRES</td>\n      <td>44427</td>\n      <td>146667.00</td>\n      <td>lowest_resale</td>\n    </tr>\n    <tr>\n      <th>1</th>\n      <td>308A PUNGGOL WALK</td>\n      <td>141950</td>\n      <td>115.00</td>\n      <td>max_n_resales</td>\n    </tr>\n    <tr>\n      <th>2</th>\n      <td>1B CANTONMENT RD</td>\n      <td>3139</td>\n      <td>1414897.68</td>\n      <td>highest_resale</td>\n    </tr>\n  </tbody>\n</table>\n</div>"
     },
     "execution_count": 16,
     "metadata": {},
     "output_type": "execute_result"
    }
   ],
   "source": [
    "sql = f\"\"\"SELECT * FROM explore_pg_five_yr_min_max;\"\"\"\n",
    "\n",
    "engine = create_engine(f'postgresql+psycopg2://{Capstone_AWS_SG.username}:{Capstone_AWS_SG.password}@{Capstone_AWS_SG.host}/Capstone', echo=False)\n",
    "\n",
    "with engine.connect() as cnxn:\n",
    "    df = pd.read_sql(sql, cnxn)\n",
    "\n",
    "df['aggregated_amount'] = df['aggregated_amount'].round(2)\n",
    "df"
   ],
   "metadata": {
    "collapsed": false,
    "pycharm": {
     "name": "#%%\n"
    }
   }
  },
  {
   "cell_type": "code",
   "execution_count": 20,
   "outputs": [
    {
     "data": {
      "text/plain": "'1B CANTONMENT RD'"
     },
     "execution_count": 20,
     "metadata": {},
     "output_type": "execute_result"
    }
   ],
   "source": [
    "df[df['attribute'] == 'highest_resale'].iloc[0, 0]"
   ],
   "metadata": {
    "collapsed": false,
    "pycharm": {
     "name": "#%%\n"
    }
   }
  },
  {
   "cell_type": "code",
   "execution_count": 31,
   "outputs": [
    {
     "data": {
      "text/plain": "'## Highest Resale Price\\n[$1,414,897.68 at 1B CANTONMENT RD](3139)\\n## Lowest Resale Price\\n[96 ALJUNIED CRES](44427)\\n## Address with the Most Resold Flats:\\n[308A PUNGGOL WALK](141950)\\n\\n\\n*Data based on the last 5 years.*'"
     },
     "execution_count": 31,
     "metadata": {},
     "output_type": "execute_result"
    }
   ],
   "source": [
    "f\"\"\"## Highest Resale Price\n",
    "[${df[df['attribute'] == 'highest_resale'].iloc[0, 2]:,.2f} at {df[df['attribute'] == 'highest_resale'].iloc[0, 0]}]({int(df[df['attribute'] == 'highest_resale'].iloc[0, 1])})\n",
    "## Lowest Resale Price\n",
    "[{df[df['attribute'] == 'lowest_resale'].iloc[0, 0]}]({int(df[df['attribute'] == 'lowest_resale'].iloc[0, 1])})\n",
    "## Address with the Most Resold Flats:\n",
    "[{df[df['attribute'] == 'max_n_resales'].iloc[0, 0]}]({int(df[df['attribute'] == 'max_n_resales'].iloc[0, 1])})\n",
    "\n",
    "\n",
    "*Data based on the last 5 years.*\"\"\""
   ],
   "metadata": {
    "collapsed": false,
    "pycharm": {
     "name": "#%%\n"
    }
   }
  },
  {
   "cell_type": "code",
   "execution_count": 25,
   "outputs": [
    {
     "name": "stdout",
     "output_type": "stream",
     "text": [
      "1B CANTONMENT RD\n"
     ]
    }
   ],
   "source": [
    "print(f\"{df[df['attribute'] == 'highest_resale'].iloc[0, 0]}\")"
   ],
   "metadata": {
    "collapsed": false,
    "pycharm": {
     "name": "#%%\n"
    }
   }
  },
  {
   "cell_type": "code",
   "execution_count": 29,
   "outputs": [
    {
     "name": "stdout",
     "output_type": "stream",
     "text": [
      "Help on class Markdown in module dash.dcc.Markdown:\n",
      "\n",
      "class Markdown(dash.development.base_component.Component)\n",
      " |  Markdown(children=None, id=undefined, className=undefined, mathjax=undefined, dangerously_allow_html=undefined, dedent=undefined, highlight_config=undefined, loading_state=undefined, style=undefined, **kwargs)\n",
      " |  \n",
      " |  A Markdown component.\n",
      " |  A component that renders Markdown text as specified by the\n",
      " |  GitHub Markdown spec. These component uses\n",
      " |  [react-markdown](https://rexxars.github.io/react-markdown/) under the hood.\n",
      " |  \n",
      " |  Keyword arguments:\n",
      " |  \n",
      " |  - children (string | list of strings; optional):\n",
      " |      A markdown string (or array of strings) that adhreres to the\n",
      " |      CommonMark spec.\n",
      " |  \n",
      " |  - id (string; optional):\n",
      " |      The ID of this component, used to identify dash components in\n",
      " |      callbacks. The ID needs to be unique across all of the components\n",
      " |      in an app.\n",
      " |  \n",
      " |  - className (string; optional):\n",
      " |      Class name of the container element.\n",
      " |  \n",
      " |  - dangerously_allow_html (boolean; default False):\n",
      " |      A boolean to control raw HTML escaping. Setting HTML from code is\n",
      " |      risky because it's easy to inadvertently expose your users to a\n",
      " |      cross-site scripting (XSS)\n",
      " |      (https://en.wikipedia.org/wiki/Cross-site_scripting) attack.\n",
      " |  \n",
      " |  - dedent (boolean; default True):\n",
      " |      Remove matching leading whitespace from all lines. Lines that are\n",
      " |      empty, or contain *only* whitespace, are ignored. Both spaces and\n",
      " |      tab characters are removed, but only if they match; we will not\n",
      " |      convert tabs to spaces or vice versa.\n",
      " |  \n",
      " |  - highlight_config (dict; optional):\n",
      " |      Config options for syntax highlighting.\n",
      " |  \n",
      " |      `highlight_config` is a dict with keys:\n",
      " |  \n",
      " |      - theme (a value equal to: 'dark', 'light'; optional):\n",
      " |          Color scheme; default 'light'.\n",
      " |  \n",
      " |  - loading_state (dict; optional):\n",
      " |      Object that holds the loading state object coming from\n",
      " |      dash-renderer.\n",
      " |  \n",
      " |      `loading_state` is a dict with keys:\n",
      " |  \n",
      " |      - component_name (string; optional):\n",
      " |          Holds the name of the component that is loading.\n",
      " |  \n",
      " |      - is_loading (boolean; optional):\n",
      " |          Determines if the component is loading or not.\n",
      " |  \n",
      " |      - prop_name (string; optional):\n",
      " |          Holds which property is loading.\n",
      " |  \n",
      " |  - mathjax (boolean; default False):\n",
      " |      If True, loads mathjax v3 (tex-svg) into the page and use it in\n",
      " |      the markdown.\n",
      " |  \n",
      " |  - style (dict; optional):\n",
      " |      User-defined inline styles for the rendered Markdown.\n",
      " |  \n",
      " |  Method resolution order:\n",
      " |      Markdown\n",
      " |      dash.development.base_component.Component\n",
      " |      builtins.object\n",
      " |  \n",
      " |  Methods defined here:\n",
      " |  \n",
      " |  __init__ = wrapper(self, children=None, id=undefined, className=undefined, mathjax=undefined, dangerously_allow_html=undefined, dedent=undefined, highlight_config=undefined, loading_state=undefined, style=undefined, **kwargs)\n",
      " |  \n",
      " |  ----------------------------------------------------------------------\n",
      " |  Data and other attributes defined here:\n",
      " |  \n",
      " |  __abstractmethods__ = frozenset()\n",
      " |  \n",
      " |  ----------------------------------------------------------------------\n",
      " |  Methods inherited from dash.development.base_component.Component:\n",
      " |  \n",
      " |  __delitem__(self, id)\n",
      " |      Delete items by ID in the tree of children.\n",
      " |  \n",
      " |  __getitem__(self, id)\n",
      " |      Recursively find the element with the given ID through the tree of\n",
      " |      children.\n",
      " |  \n",
      " |  __iter__(self)\n",
      " |      Yield IDs in the tree of children.\n",
      " |  \n",
      " |  __len__(self)\n",
      " |      Return the number of items in the tree.\n",
      " |  \n",
      " |  __repr__(self)\n",
      " |      Return repr(self).\n",
      " |  \n",
      " |  __setitem__(self, id, item)\n",
      " |      Set an element by its ID.\n",
      " |  \n",
      " |  to_plotly_json(self)\n",
      " |  \n",
      " |  ----------------------------------------------------------------------\n",
      " |  Data descriptors inherited from dash.development.base_component.Component:\n",
      " |  \n",
      " |  __dict__\n",
      " |      dictionary for instance variables (if defined)\n",
      " |  \n",
      " |  __weakref__\n",
      " |      list of weak references to the object (if defined)\n",
      " |  \n",
      " |  ----------------------------------------------------------------------\n",
      " |  Data and other attributes inherited from dash.development.base_component.Component:\n",
      " |  \n",
      " |  REQUIRED = required\n",
      " |  \n",
      " |  UNDEFINED = undefined\n",
      "\n"
     ]
    }
   ],
   "source": [
    "import dash\n",
    "help(dash.dcc.Markdown)"
   ],
   "metadata": {
    "collapsed": false,
    "pycharm": {
     "name": "#%%\n"
    }
   }
  },
  {
   "cell_type": "code",
   "execution_count": 32,
   "outputs": [],
   "source": [
    "# Index page that works in case i screw it up:\n",
    "\n",
    "\n",
    "from app import app\n",
    "import pandas as pd\n",
    "import geopandas as gpd\n",
    "from MyCreds.mycreds import MapBox\n",
    "import plotly.express as px\n",
    "import re\n",
    "from maps import create_sg_base_map\n",
    "\n",
    "server = app.server\n",
    "app.config.suppress_callback_exceptions = True\n",
    "\n",
    "app.layout = dbc.Container(html.Div([\n",
    "    dcc.Location(id='url', refresh=False),\n",
    "    html.Div(id='page-content')\n",
    "]), fluid=True, className=\"dbc\")\n",
    "\n",
    "\n",
    "@app.callback(Output('page-content', 'children'),\n",
    "              [Input('url', 'pathname')])\n",
    "def display_page(pathname):\n",
    "    if pathname == '/blog':\n",
    "        return create_page_blog()\n",
    "    if pathname == '/contact-us':\n",
    "        return create_page_contact_us()\n",
    "    if re.match(r'^(/\\d+)', pathname):\n",
    "        return create_page_search_results(pathname)\n",
    "    if pathname == '/explore':\n",
    "        return create_page_explore()\n",
    "    else:\n",
    "        sg_base_map = create_sg_base_map()\n",
    "        return create_page_home(sg_base_map)\n",
    "\n",
    "\n",
    "if __name__ == '__main__':\n",
    "    app.title = \"WhyHigh\"\n",
    "    app.run_server(debug=True)"
   ],
   "metadata": {
    "collapsed": false,
    "pycharm": {
     "name": "#%%\n"
    }
   }
  },
  {
   "cell_type": "code",
   "execution_count": 32,
   "outputs": [],
   "source": [
    "# Home Page in case i screw it up\n",
    "\n",
    "# import dash_html_components as html\n",
    "from dash import html\n",
    "from dash import dcc\n",
    "import dash_bootstrap_components as dbc\n",
    "from navbar import create_navbar\n",
    "import pandas as pd\n",
    "from MyCreds.mycreds import Capstone_AWS_PG, MapBox\n",
    "from sqlalchemy import create_engine\n",
    "from app import app\n",
    "from dash.dependencies import Input, Output\n",
    "from address_search import return_search_results\n",
    "import time\n",
    "import plotly.express as px\n",
    "import geopandas as gpd\n",
    "from markdown_helper_home_page import create_explore_column_markdown\n",
    "\n",
    "\n",
    "# Note to self:\n",
    "# Margin Top, Right, Bottom, Left\n",
    "\n",
    "nav = create_navbar()\n",
    "\n",
    "def create_page_home(sg_base_map):\n",
    "    layout = html.Div([\n",
    "        nav,\n",
    "\n",
    "        # html.Div([header], style={'margin': '5% 10% 5% 10%', 'flex': 10, 'flex-direction': 'column',\n",
    "        #                           'justify-content': 'left', 'text-align': 'center'}),\n",
    "        html.Div([dcc.Graph(figure=sg_base_map)]),\n",
    "\n",
    "        html.Div([\n",
    "            dbc.Row([\n",
    "                dbc.Col(html.Div([dcc.Markdown(\"\"\"# Explore\n",
    "Unfamiliar with Singapore?  Explore one of the addresses below.\"\"\"),\n",
    "                                  html.Br(),\n",
    "                                  dcc.Markdown(create_explore_column_markdown(),\n",
    "                                               style={\"white-space\": \"pre\"},\n",
    "                                               dangerously_allow_html=True)\n",
    "                                  ])),\n",
    "                dbc.Col(\n",
    "                    html.Div([\n",
    "                        # html.P(\"Search Address\"),\n",
    "                        dcc.Input(id='address_search_input', type='text', placeholder='Enter Address', debounce=True, style=dict(\n",
    "                            width='70%'\n",
    "                        )),\n",
    "                        dcc.Loading(\n",
    "                            id=\"address_search_input_loading\",\n",
    "                            children=[html.Div([html.Br(),\n",
    "                                                html.Div(id=\"address_search_output\")])],\n",
    "                            type=\"cube\",\n",
    "                            color='#4ABF72',\n",
    "                            # fullscreen=True\n",
    "                        ),\n",
    "\n",
    "                    ])\n",
    "                ),\n",
    "\n",
    "            ])\n",
    "        ],\n",
    "            style={'margin': '0% 10% 5% 10%'}\n",
    "        )\n",
    "\n",
    "        #style={'margin': '20px 200px 10px 200px', 'flex': 1, 'flex-direction': 'column'})\n",
    "        # dict(display='flex', justifyContent='center')) # Another way\n",
    "\n",
    "    ])\n",
    "    return layout\n",
    "\n",
    "@app.callback(\n",
    "    Output('address_search_output', 'children'),\n",
    "    # Output('address_search_loading_output', 'children'),\n",
    "    Input('address_search_input', 'value'),\n",
    "    prevent_initial_call=True\n",
    ")\n",
    "def get_address_information(address_search_input):\n",
    "    time.sleep(1)\n",
    "    search_results = return_search_results(address_search_input)\n",
    "\n",
    "    # return f\"Address: {search_results}\"\n",
    "    return search_results"
   ],
   "metadata": {
    "collapsed": false,
    "pycharm": {
     "name": "#%%\n"
    }
   }
  },
  {
   "cell_type": "code",
   "execution_count": null,
   "outputs": [],
   "source": [
    "# page_home\n",
    "\n",
    "\n",
    "# import dash_html_components as html\n",
    "from dash import html\n",
    "from dash import dcc\n",
    "import dash_bootstrap_components as dbc\n",
    "from navbar import create_navbar\n",
    "import pandas as pd\n",
    "from MyCreds.mycreds import Capstone_AWS_PG, MapBox\n",
    "from sqlalchemy import create_engine\n",
    "from app import app\n",
    "from dash.dependencies import Input, Output\n",
    "from address_search import return_search_results\n",
    "import time\n",
    "import plotly.express as px\n",
    "import geopandas as gpd\n",
    "from markdown_helper_home_page import create_explore_column_markdown\n",
    "\n",
    "\n",
    "# Note to self:\n",
    "# Margin Top, Right, Bottom, Left\n",
    "\n",
    "nav = create_navbar()\n",
    "\n",
    "\n",
    "def create_page_home(sg_base_map):\n",
    "    layout = html.Div([\n",
    "        nav,\n",
    "        html.Div([dcc.Graph(figure=sg_base_map)]),\n",
    "        html.Div([\n",
    "            dbc.Row([\n",
    "                dbc.Col(html.Div([dcc.Markdown(\"\"\"# Explore\n",
    "Unfamiliar with Singapore?  Explore one of the addresses below.\"\"\"),\n",
    "                                  html.Br(),\n",
    "                                  dcc.Markdown(create_explore_column_markdown(),\n",
    "                                               style={\"white-space\": \"pre\"},\n",
    "                                               dangerously_allow_html=True)\n",
    "                                  ])),\n",
    "                dbc.Col(\n",
    "                    html.Div([\n",
    "                        # html.P(\"Search Address\"),\n",
    "                        html.Div([\n",
    "                            dcc.Input(id='address_search_input', type='text', placeholder='Enter Address', debounce=True, style=dict(width='70%')),\n",
    "                            dcc.Dropdown(['1 Room', '2 Room', '3 Room', '4 Room', '5 Room', 'Multi-Generation', 'Executive'], '1 Room', id='flat_type_search_input'),\n",
    "                            dcc.Input(id='sq_m_search_input', type='text', placeholder='Square Meters', debounce=True),\n",
    "                            html.Button(id='submit_address_search', n_clicks=0, children='Submit')\n",
    "\n",
    "                        ], style={'display': 'inline-block'}),\n",
    "                        html.Br(),\n",
    "                        html.Br(),\n",
    "                        html.Div(id=\"address_search_output\")]),\n",
    "                ),\n",
    "            ])\n",
    "        ],\n",
    "            style={'margin': '0% 10% 5% 10%'}\n",
    "        )\n",
    "\n",
    "        #style={'margin': '20px 200px 10px 200px', 'flex': 1, 'flex-direction': 'column'})\n",
    "        # dict(display='flex', justifyContent='center')) # Another way\n",
    "    ])\n",
    "    return layout\n",
    "\n",
    "@app.callback(\n",
    "    Output('address_search_output', 'children'),\n",
    "    # Output('address_search_loading_output', 'children'),\n",
    "    Input('address_search_input', 'value'),\n",
    "    prevent_initial_call=True\n",
    ")\n",
    "def get_address_information(address_search_input):\n",
    "    time.sleep(1)\n",
    "    search_results = return_search_results(address_search_input)\n",
    "\n",
    "    # return f\"Address: {search_results}\"\n",
    "    return search_results\n"
   ],
   "metadata": {
    "collapsed": false,
    "pycharm": {
     "name": "#%%\n"
    }
   }
  },
  {
   "cell_type": "code",
   "execution_count": 1,
   "outputs": [
    {
     "data": {
      "text/plain": "[1,\n 2,\n 3,\n 4,\n 5,\n 6,\n 7,\n 8,\n 9,\n 10,\n 11,\n 12,\n 13,\n 14,\n 15,\n 16,\n 17,\n 18,\n 19,\n 20,\n 21,\n 22,\n 23,\n 24,\n 25,\n 26,\n 27,\n 28,\n 29,\n 30,\n 31,\n 32,\n 33,\n 34,\n 35,\n 36,\n 37,\n 38,\n 39,\n 40,\n 41,\n 42,\n 43,\n 44,\n 45,\n 46,\n 47,\n 48,\n 49,\n 50,\n 51]"
     },
     "execution_count": 1,
     "metadata": {},
     "output_type": "execute_result"
    }
   ],
   "source": [
    "[i for i in range(1, 52)]"
   ],
   "metadata": {
    "collapsed": false,
    "pycharm": {
     "name": "#%%\n"
    }
   }
  },
  {
   "cell_type": "code",
   "execution_count": null,
   "outputs": [],
   "source": [],
   "metadata": {
    "collapsed": false,
    "pycharm": {
     "name": "#%%\n"
    }
   }
  }
 ],
 "metadata": {
  "kernelspec": {
   "display_name": "Python 3",
   "language": "python",
   "name": "python3"
  },
  "language_info": {
   "codemirror_mode": {
    "name": "ipython",
    "version": 2
   },
   "file_extension": ".py",
   "mimetype": "text/x-python",
   "name": "python",
   "nbconvert_exporter": "python",
   "pygments_lexer": "ipython2",
   "version": "2.7.6"
  }
 },
 "nbformat": 4,
 "nbformat_minor": 0
}