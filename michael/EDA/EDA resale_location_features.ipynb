{
 "cells": [
  {
   "cell_type": "code",
   "execution_count": 1,
   "metadata": {
    "collapsed": true
   },
   "outputs": [],
   "source": [
    "import geopandas as gpd\n",
    "from sqlalchemy import create_engine\n",
    "from MyCreds.mycreds import Capstone_AWS_SG\n",
    "import timeit"
   ]
  },
  {
   "cell_type": "code",
   "execution_count": 2,
   "outputs": [
    {
     "data": {
      "text/plain": "117.74476179199999"
     },
     "execution_count": 2,
     "metadata": {},
     "output_type": "execute_result"
    }
   ],
   "source": [
    "start_time = timeit.default_timer()\n",
    "sql = \"\"\"SELECT * FROM resale_location_features where extract(year from month) >= 2015;\"\"\"\n",
    "\n",
    "engine = create_engine(f'postgresql+psycopg2://{Capstone_AWS_SG.username}:{Capstone_AWS_SG.password}@{Capstone_AWS_SG.host}/Capstone', echo=False)\n",
    "\n",
    "with engine.connect() as cnxn:\n",
    "    df = gpd.read_postgis(sql, cnxn, geom_col='geometry')\n",
    "\n",
    "end_time = timeit.default_timer()\n",
    "total = end_time - start_time\n",
    "total"
   ],
   "metadata": {
    "collapsed": false,
    "pycharm": {
     "name": "#%%\n"
    }
   }
  },
  {
   "cell_type": "code",
   "execution_count": 3,
   "outputs": [
    {
     "data": {
      "text/plain": "                               transaction_id      month block  \\\n0         2021_08_899_TAMPINES_ST_81_04_TO_06 2021-08-01   899   \n1         2021_08_79D_TOA_PAYOH_CTRL_07_TO_09 2021-08-01   79D   \n2         2021_08_79D_TOA_PAYOH_CTRL_37_TO_39 2021-08-01   79D   \n3        2021_08_723_WOODLANDS_AVE_6_04_TO_06 2021-08-01   723   \n4         2021_08_320_CLEMENTI_AVE_4_01_TO_03 2021-08-01   320   \n...                                       ...        ...   ...   \n194316      2021_07_57_GEYLANG_BAHRU_01_TO_03 2021-07-01    57   \n194317      2021_07_57_GEYLANG_BAHRU_10_TO_12 2021-07-01    57   \n194318    2021_07_206_SERANGOON_CTRL_04_TO_06 2021-07-01   206   \n194319  2021_07_684A_WOODLANDS_DR_73_13_TO_15 2021-07-01  684A   \n194320  2021_07_570C_WOODLANDS_AVE_1_10_TO_12 2021-07-01  570C   \n\n                   town      street_name               address storey_range  \\\n0              TAMPINES   TAMPINES ST 81    899 TAMPINES ST 81     04 TO 06   \n1             TOA PAYOH   TOA PAYOH CTRL    79D TOA PAYOH CTRL     07 TO 09   \n2             TOA PAYOH   TOA PAYOH CTRL    79D TOA PAYOH CTRL     37 TO 39   \n3             WOODLANDS  WOODLANDS AVE 6   723 WOODLANDS AVE 6     04 TO 06   \n4              CLEMENTI   CLEMENTI AVE 4    320 CLEMENTI AVE 4     01 TO 03   \n...                 ...              ...                   ...          ...   \n194316  KALLANG/WHAMPOA    GEYLANG BAHRU      57 GEYLANG BAHRU     01 TO 03   \n194317  KALLANG/WHAMPOA    GEYLANG BAHRU      57 GEYLANG BAHRU     10 TO 12   \n194318        SERANGOON   SERANGOON CTRL    206 SERANGOON CTRL     04 TO 06   \n194319        WOODLANDS  WOODLANDS DR 73  684A WOODLANDS DR 73     13 TO 15   \n194320        WOODLANDS  WOODLANDS AVE 1  570C WOODLANDS AVE 1     10 TO 12   \n\n        storey_range_min  storey_range_max         flat_model  ...  \\\n0                      4                 6            Model A  ...   \n1                      7                 9            Model A  ...   \n2                     37                39            Model A  ...   \n3                      4                 6           Improved  ...   \n4                      1                 3     New Generation  ...   \n...                  ...               ...                ...  ...   \n194316                 1                 3           Improved  ...   \n194317                10                12           Improved  ...   \n194318                 4                 6         Simplified  ...   \n194319                13                15  Premium Apartment  ...   \n194320                10                12           Improved  ...   \n\n       dist_to_con_area_id_239  dist_to_con_area_id_240  \\\n0                 18215.675770             15482.030506   \n1                  9301.710102              7313.595868   \n2                  9301.710102              7313.595868   \n3                 18371.297879             18444.378441   \n4                  4696.988963              6676.731745   \n...                        ...                      ...   \n194316            10460.679519              7903.738570   \n194317            10460.679519              7903.738570   \n194318            12705.034690             10586.095421   \n194319            17973.112371             17931.215865   \n194320            16782.394592             17033.543881   \n\n        dist_to_con_area_id_241  dist_to_con_area_id_242  \\\n0                  12999.170119             11252.263216   \n1                   4847.136001              5223.653714   \n2                   4847.136001              5223.653714   \n3                  16985.185149             18453.822169   \n4                   7590.823702             10260.652443   \n...                         ...                      ...   \n194316              5336.004163              4372.326925   \n194317              5336.004163              4372.326925   \n194318              8035.438560              7639.169849   \n194319             16394.608075             17793.697349   \n194320             15740.833361             17385.632126   \n\n       dist_to_con_area_id_243  dist_to_con_area_id_244  \\\n0                 13319.323930             13110.732569   \n1                  4017.418342              3946.339422   \n2                  4017.418342              3946.339422   \n3                 14872.125934             15151.942788   \n4                  6075.854247              6429.208159   \n...                        ...                      ...   \n194316             5532.334159              5310.004996   \n194317             5532.334159              5310.004996   \n194318             7424.231993              7344.781177   \n194319            14311.650777             14581.416720   \n194320            13571.619899             13871.733765   \n\n        dist_to_con_area_id_245  dist_to_con_area_id_246  \\\n0                  13130.505639             10426.406431   \n1                   3712.162978              4339.879125   \n2                   3712.162978              4339.879125   \n3                  14479.909853             17699.591659   \n4                   6131.208648             10362.536915   \n...                         ...                      ...   \n194316              5374.715122              3362.002924   \n194317              5374.715122              3362.002924   \n194318              7114.880979              6630.797752   \n194319             13915.154270             17020.949813   \n194320             13191.158136             16692.245433   \n\n        dist_to_con_area_id_247  dist_to_con_area_id_248  \n0                  11211.380881             13112.201197  \n1                   4139.002363              6359.428818  \n2                   4139.002363              6359.428818  \n3                  17189.157186             19041.182613  \n4                   9093.684463              9264.673920  \n...                         ...                      ...  \n194316              3823.144132              6032.735318  \n194317              3823.144132              6032.735318  \n194318              6895.185777              9168.223042  \n194319             16543.001873             18432.716057  \n194320             16085.775282             17830.827587  \n\n[194321 rows x 375 columns]",
      "text/html": "<div>\n<style scoped>\n    .dataframe tbody tr th:only-of-type {\n        vertical-align: middle;\n    }\n\n    .dataframe tbody tr th {\n        vertical-align: top;\n    }\n\n    .dataframe thead th {\n        text-align: right;\n    }\n</style>\n<table border=\"1\" class=\"dataframe\">\n  <thead>\n    <tr style=\"text-align: right;\">\n      <th></th>\n      <th>transaction_id</th>\n      <th>month</th>\n      <th>block</th>\n      <th>town</th>\n      <th>street_name</th>\n      <th>address</th>\n      <th>storey_range</th>\n      <th>storey_range_min</th>\n      <th>storey_range_max</th>\n      <th>flat_model</th>\n      <th>...</th>\n      <th>dist_to_con_area_id_239</th>\n      <th>dist_to_con_area_id_240</th>\n      <th>dist_to_con_area_id_241</th>\n      <th>dist_to_con_area_id_242</th>\n      <th>dist_to_con_area_id_243</th>\n      <th>dist_to_con_area_id_244</th>\n      <th>dist_to_con_area_id_245</th>\n      <th>dist_to_con_area_id_246</th>\n      <th>dist_to_con_area_id_247</th>\n      <th>dist_to_con_area_id_248</th>\n    </tr>\n  </thead>\n  <tbody>\n    <tr>\n      <th>0</th>\n      <td>2021_08_899_TAMPINES_ST_81_04_TO_06</td>\n      <td>2021-08-01</td>\n      <td>899</td>\n      <td>TAMPINES</td>\n      <td>TAMPINES ST 81</td>\n      <td>899 TAMPINES ST 81</td>\n      <td>04 TO 06</td>\n      <td>4</td>\n      <td>6</td>\n      <td>Model A</td>\n      <td>...</td>\n      <td>18215.675770</td>\n      <td>15482.030506</td>\n      <td>12999.170119</td>\n      <td>11252.263216</td>\n      <td>13319.323930</td>\n      <td>13110.732569</td>\n      <td>13130.505639</td>\n      <td>10426.406431</td>\n      <td>11211.380881</td>\n      <td>13112.201197</td>\n    </tr>\n    <tr>\n      <th>1</th>\n      <td>2021_08_79D_TOA_PAYOH_CTRL_07_TO_09</td>\n      <td>2021-08-01</td>\n      <td>79D</td>\n      <td>TOA PAYOH</td>\n      <td>TOA PAYOH CTRL</td>\n      <td>79D TOA PAYOH CTRL</td>\n      <td>07 TO 09</td>\n      <td>7</td>\n      <td>9</td>\n      <td>Model A</td>\n      <td>...</td>\n      <td>9301.710102</td>\n      <td>7313.595868</td>\n      <td>4847.136001</td>\n      <td>5223.653714</td>\n      <td>4017.418342</td>\n      <td>3946.339422</td>\n      <td>3712.162978</td>\n      <td>4339.879125</td>\n      <td>4139.002363</td>\n      <td>6359.428818</td>\n    </tr>\n    <tr>\n      <th>2</th>\n      <td>2021_08_79D_TOA_PAYOH_CTRL_37_TO_39</td>\n      <td>2021-08-01</td>\n      <td>79D</td>\n      <td>TOA PAYOH</td>\n      <td>TOA PAYOH CTRL</td>\n      <td>79D TOA PAYOH CTRL</td>\n      <td>37 TO 39</td>\n      <td>37</td>\n      <td>39</td>\n      <td>Model A</td>\n      <td>...</td>\n      <td>9301.710102</td>\n      <td>7313.595868</td>\n      <td>4847.136001</td>\n      <td>5223.653714</td>\n      <td>4017.418342</td>\n      <td>3946.339422</td>\n      <td>3712.162978</td>\n      <td>4339.879125</td>\n      <td>4139.002363</td>\n      <td>6359.428818</td>\n    </tr>\n    <tr>\n      <th>3</th>\n      <td>2021_08_723_WOODLANDS_AVE_6_04_TO_06</td>\n      <td>2021-08-01</td>\n      <td>723</td>\n      <td>WOODLANDS</td>\n      <td>WOODLANDS AVE 6</td>\n      <td>723 WOODLANDS AVE 6</td>\n      <td>04 TO 06</td>\n      <td>4</td>\n      <td>6</td>\n      <td>Improved</td>\n      <td>...</td>\n      <td>18371.297879</td>\n      <td>18444.378441</td>\n      <td>16985.185149</td>\n      <td>18453.822169</td>\n      <td>14872.125934</td>\n      <td>15151.942788</td>\n      <td>14479.909853</td>\n      <td>17699.591659</td>\n      <td>17189.157186</td>\n      <td>19041.182613</td>\n    </tr>\n    <tr>\n      <th>4</th>\n      <td>2021_08_320_CLEMENTI_AVE_4_01_TO_03</td>\n      <td>2021-08-01</td>\n      <td>320</td>\n      <td>CLEMENTI</td>\n      <td>CLEMENTI AVE 4</td>\n      <td>320 CLEMENTI AVE 4</td>\n      <td>01 TO 03</td>\n      <td>1</td>\n      <td>3</td>\n      <td>New Generation</td>\n      <td>...</td>\n      <td>4696.988963</td>\n      <td>6676.731745</td>\n      <td>7590.823702</td>\n      <td>10260.652443</td>\n      <td>6075.854247</td>\n      <td>6429.208159</td>\n      <td>6131.208648</td>\n      <td>10362.536915</td>\n      <td>9093.684463</td>\n      <td>9264.673920</td>\n    </tr>\n    <tr>\n      <th>...</th>\n      <td>...</td>\n      <td>...</td>\n      <td>...</td>\n      <td>...</td>\n      <td>...</td>\n      <td>...</td>\n      <td>...</td>\n      <td>...</td>\n      <td>...</td>\n      <td>...</td>\n      <td>...</td>\n      <td>...</td>\n      <td>...</td>\n      <td>...</td>\n      <td>...</td>\n      <td>...</td>\n      <td>...</td>\n      <td>...</td>\n      <td>...</td>\n      <td>...</td>\n      <td>...</td>\n    </tr>\n    <tr>\n      <th>194316</th>\n      <td>2021_07_57_GEYLANG_BAHRU_01_TO_03</td>\n      <td>2021-07-01</td>\n      <td>57</td>\n      <td>KALLANG/WHAMPOA</td>\n      <td>GEYLANG BAHRU</td>\n      <td>57 GEYLANG BAHRU</td>\n      <td>01 TO 03</td>\n      <td>1</td>\n      <td>3</td>\n      <td>Improved</td>\n      <td>...</td>\n      <td>10460.679519</td>\n      <td>7903.738570</td>\n      <td>5336.004163</td>\n      <td>4372.326925</td>\n      <td>5532.334159</td>\n      <td>5310.004996</td>\n      <td>5374.715122</td>\n      <td>3362.002924</td>\n      <td>3823.144132</td>\n      <td>6032.735318</td>\n    </tr>\n    <tr>\n      <th>194317</th>\n      <td>2021_07_57_GEYLANG_BAHRU_10_TO_12</td>\n      <td>2021-07-01</td>\n      <td>57</td>\n      <td>KALLANG/WHAMPOA</td>\n      <td>GEYLANG BAHRU</td>\n      <td>57 GEYLANG BAHRU</td>\n      <td>10 TO 12</td>\n      <td>10</td>\n      <td>12</td>\n      <td>Improved</td>\n      <td>...</td>\n      <td>10460.679519</td>\n      <td>7903.738570</td>\n      <td>5336.004163</td>\n      <td>4372.326925</td>\n      <td>5532.334159</td>\n      <td>5310.004996</td>\n      <td>5374.715122</td>\n      <td>3362.002924</td>\n      <td>3823.144132</td>\n      <td>6032.735318</td>\n    </tr>\n    <tr>\n      <th>194318</th>\n      <td>2021_07_206_SERANGOON_CTRL_04_TO_06</td>\n      <td>2021-07-01</td>\n      <td>206</td>\n      <td>SERANGOON</td>\n      <td>SERANGOON CTRL</td>\n      <td>206 SERANGOON CTRL</td>\n      <td>04 TO 06</td>\n      <td>4</td>\n      <td>6</td>\n      <td>Simplified</td>\n      <td>...</td>\n      <td>12705.034690</td>\n      <td>10586.095421</td>\n      <td>8035.438560</td>\n      <td>7639.169849</td>\n      <td>7424.231993</td>\n      <td>7344.781177</td>\n      <td>7114.880979</td>\n      <td>6630.797752</td>\n      <td>6895.185777</td>\n      <td>9168.223042</td>\n    </tr>\n    <tr>\n      <th>194319</th>\n      <td>2021_07_684A_WOODLANDS_DR_73_13_TO_15</td>\n      <td>2021-07-01</td>\n      <td>684A</td>\n      <td>WOODLANDS</td>\n      <td>WOODLANDS DR 73</td>\n      <td>684A WOODLANDS DR 73</td>\n      <td>13 TO 15</td>\n      <td>13</td>\n      <td>15</td>\n      <td>Premium Apartment</td>\n      <td>...</td>\n      <td>17973.112371</td>\n      <td>17931.215865</td>\n      <td>16394.608075</td>\n      <td>17793.697349</td>\n      <td>14311.650777</td>\n      <td>14581.416720</td>\n      <td>13915.154270</td>\n      <td>17020.949813</td>\n      <td>16543.001873</td>\n      <td>18432.716057</td>\n    </tr>\n    <tr>\n      <th>194320</th>\n      <td>2021_07_570C_WOODLANDS_AVE_1_10_TO_12</td>\n      <td>2021-07-01</td>\n      <td>570C</td>\n      <td>WOODLANDS</td>\n      <td>WOODLANDS AVE 1</td>\n      <td>570C WOODLANDS AVE 1</td>\n      <td>10 TO 12</td>\n      <td>10</td>\n      <td>12</td>\n      <td>Improved</td>\n      <td>...</td>\n      <td>16782.394592</td>\n      <td>17033.543881</td>\n      <td>15740.833361</td>\n      <td>17385.632126</td>\n      <td>13571.619899</td>\n      <td>13871.733765</td>\n      <td>13191.158136</td>\n      <td>16692.245433</td>\n      <td>16085.775282</td>\n      <td>17830.827587</td>\n    </tr>\n  </tbody>\n</table>\n<p>194321 rows × 375 columns</p>\n</div>"
     },
     "execution_count": 3,
     "metadata": {},
     "output_type": "execute_result"
    }
   ],
   "source": [
    "df"
   ],
   "metadata": {
    "collapsed": false,
    "pycharm": {
     "name": "#%%\n"
    }
   }
  },
  {
   "cell_type": "code",
   "execution_count": 4,
   "outputs": [
    {
     "data": {
      "text/plain": "Timestamp('2015-01-01 00:00:00')"
     },
     "execution_count": 4,
     "metadata": {},
     "output_type": "execute_result"
    }
   ],
   "source": [
    "df['month'].min()"
   ],
   "metadata": {
    "collapsed": false,
    "pycharm": {
     "name": "#%%\n"
    }
   }
  },
  {
   "cell_type": "code",
   "execution_count": null,
   "outputs": [],
   "source": [],
   "metadata": {
    "collapsed": false,
    "pycharm": {
     "name": "#%%\n"
    }
   }
  }
 ],
 "metadata": {
  "kernelspec": {
   "display_name": "Python 3",
   "language": "python",
   "name": "python3"
  },
  "language_info": {
   "codemirror_mode": {
    "name": "ipython",
    "version": 2
   },
   "file_extension": ".py",
   "mimetype": "text/x-python",
   "name": "python",
   "nbconvert_exporter": "python",
   "pygments_lexer": "ipython2",
   "version": "2.7.6"
  }
 },
 "nbformat": 4,
 "nbformat_minor": 0
}