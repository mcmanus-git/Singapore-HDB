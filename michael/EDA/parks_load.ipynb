{
 "cells": [
  {
   "cell_type": "code",
   "execution_count": 44,
   "metadata": {
    "collapsed": true
   },
   "outputs": [],
   "source": [
    "import pandas as pd\n",
    "import geopandas as gpd\n",
    "import shapely"
   ]
  },
  {
   "cell_type": "code",
   "execution_count": 41,
   "outputs": [
    {
     "data": {
      "text/plain": "        Name                                        Description  \\\n0      kml_1  <center><table><tr><th colspan='2' align='cent...   \n1      kml_2  <center><table><tr><th colspan='2' align='cent...   \n2      kml_3  <center><table><tr><th colspan='2' align='cent...   \n3      kml_4  <center><table><tr><th colspan='2' align='cent...   \n4      kml_5  <center><table><tr><th colspan='2' align='cent...   \n..       ...                                                ...   \n345  kml_346  <center><table><tr><th colspan='2' align='cent...   \n346  kml_347  <center><table><tr><th colspan='2' align='cent...   \n347  kml_348  <center><table><tr><th colspan='2' align='cent...   \n348  kml_349  <center><table><tr><th colspan='2' align='cent...   \n349  kml_350  <center><table><tr><th colspan='2' align='cent...   \n\n                                geometry  \n0    POINT Z (103.96086 1.34618 0.00000)  \n1    POINT Z (103.97898 1.38990 0.00000)  \n2    POINT Z (103.92313 1.40991 0.00000)  \n3    POINT Z (103.86697 1.37924 0.00000)  \n4    POINT Z (103.82907 1.37276 0.00000)  \n..                                   ...  \n345  POINT Z (103.89036 1.36796 0.00000)  \n346  POINT Z (103.98919 1.39017 0.00000)  \n347  POINT Z (103.88595 1.35520 0.00000)  \n348  POINT Z (103.90374 1.39164 0.00000)  \n349  POINT Z (103.94749 1.32553 0.00000)  \n\n[350 rows x 3 columns]",
      "text/html": "<div>\n<style scoped>\n    .dataframe tbody tr th:only-of-type {\n        vertical-align: middle;\n    }\n\n    .dataframe tbody tr th {\n        vertical-align: top;\n    }\n\n    .dataframe thead th {\n        text-align: right;\n    }\n</style>\n<table border=\"1\" class=\"dataframe\">\n  <thead>\n    <tr style=\"text-align: right;\">\n      <th></th>\n      <th>Name</th>\n      <th>Description</th>\n      <th>geometry</th>\n    </tr>\n  </thead>\n  <tbody>\n    <tr>\n      <th>0</th>\n      <td>kml_1</td>\n      <td>&lt;center&gt;&lt;table&gt;&lt;tr&gt;&lt;th colspan='2' align='cent...</td>\n      <td>POINT Z (103.96086 1.34618 0.00000)</td>\n    </tr>\n    <tr>\n      <th>1</th>\n      <td>kml_2</td>\n      <td>&lt;center&gt;&lt;table&gt;&lt;tr&gt;&lt;th colspan='2' align='cent...</td>\n      <td>POINT Z (103.97898 1.38990 0.00000)</td>\n    </tr>\n    <tr>\n      <th>2</th>\n      <td>kml_3</td>\n      <td>&lt;center&gt;&lt;table&gt;&lt;tr&gt;&lt;th colspan='2' align='cent...</td>\n      <td>POINT Z (103.92313 1.40991 0.00000)</td>\n    </tr>\n    <tr>\n      <th>3</th>\n      <td>kml_4</td>\n      <td>&lt;center&gt;&lt;table&gt;&lt;tr&gt;&lt;th colspan='2' align='cent...</td>\n      <td>POINT Z (103.86697 1.37924 0.00000)</td>\n    </tr>\n    <tr>\n      <th>4</th>\n      <td>kml_5</td>\n      <td>&lt;center&gt;&lt;table&gt;&lt;tr&gt;&lt;th colspan='2' align='cent...</td>\n      <td>POINT Z (103.82907 1.37276 0.00000)</td>\n    </tr>\n    <tr>\n      <th>...</th>\n      <td>...</td>\n      <td>...</td>\n      <td>...</td>\n    </tr>\n    <tr>\n      <th>345</th>\n      <td>kml_346</td>\n      <td>&lt;center&gt;&lt;table&gt;&lt;tr&gt;&lt;th colspan='2' align='cent...</td>\n      <td>POINT Z (103.89036 1.36796 0.00000)</td>\n    </tr>\n    <tr>\n      <th>346</th>\n      <td>kml_347</td>\n      <td>&lt;center&gt;&lt;table&gt;&lt;tr&gt;&lt;th colspan='2' align='cent...</td>\n      <td>POINT Z (103.98919 1.39017 0.00000)</td>\n    </tr>\n    <tr>\n      <th>347</th>\n      <td>kml_348</td>\n      <td>&lt;center&gt;&lt;table&gt;&lt;tr&gt;&lt;th colspan='2' align='cent...</td>\n      <td>POINT Z (103.88595 1.35520 0.00000)</td>\n    </tr>\n    <tr>\n      <th>348</th>\n      <td>kml_349</td>\n      <td>&lt;center&gt;&lt;table&gt;&lt;tr&gt;&lt;th colspan='2' align='cent...</td>\n      <td>POINT Z (103.90374 1.39164 0.00000)</td>\n    </tr>\n    <tr>\n      <th>349</th>\n      <td>kml_350</td>\n      <td>&lt;center&gt;&lt;table&gt;&lt;tr&gt;&lt;th colspan='2' align='cent...</td>\n      <td>POINT Z (103.94749 1.32553 0.00000)</td>\n    </tr>\n  </tbody>\n</table>\n<p>350 rows × 3 columns</p>\n</div>"
     },
     "execution_count": 41,
     "metadata": {},
     "output_type": "execute_result"
    }
   ],
   "source": [
    "parks = gpd.read_file('../data/parks/parks-geojson.geojson')\n",
    "parks"
   ],
   "metadata": {
    "collapsed": false,
    "pycharm": {
     "name": "#%%\n"
    }
   }
  },
  {
   "cell_type": "code",
   "execution_count": 61,
   "outputs": [
    {
     "data": {
      "text/plain": "        Name                                        Description  \\\n0      kml_1  <center><table><tr><th colspan='2' align='cent...   \n1      kml_2  <center><table><tr><th colspan='2' align='cent...   \n2      kml_3  <center><table><tr><th colspan='2' align='cent...   \n3      kml_4  <center><table><tr><th colspan='2' align='cent...   \n4      kml_5  <center><table><tr><th colspan='2' align='cent...   \n..       ...                                                ...   \n345  kml_346  <center><table><tr><th colspan='2' align='cent...   \n346  kml_347  <center><table><tr><th colspan='2' align='cent...   \n347  kml_348  <center><table><tr><th colspan='2' align='cent...   \n348  kml_349  <center><table><tr><th colspan='2' align='cent...   \n349  kml_350  <center><table><tr><th colspan='2' align='cent...   \n\n                      geometry  \n0    POINT (103.96086 1.34618)  \n1    POINT (103.97898 1.38990)  \n2    POINT (103.92313 1.40991)  \n3    POINT (103.86697 1.37924)  \n4    POINT (103.82907 1.37276)  \n..                         ...  \n345  POINT (103.89036 1.36796)  \n346  POINT (103.98919 1.39017)  \n347  POINT (103.88595 1.35520)  \n348  POINT (103.90374 1.39164)  \n349  POINT (103.94749 1.32553)  \n\n[350 rows x 3 columns]",
      "text/html": "<div>\n<style scoped>\n    .dataframe tbody tr th:only-of-type {\n        vertical-align: middle;\n    }\n\n    .dataframe tbody tr th {\n        vertical-align: top;\n    }\n\n    .dataframe thead th {\n        text-align: right;\n    }\n</style>\n<table border=\"1\" class=\"dataframe\">\n  <thead>\n    <tr style=\"text-align: right;\">\n      <th></th>\n      <th>Name</th>\n      <th>Description</th>\n      <th>geometry</th>\n    </tr>\n  </thead>\n  <tbody>\n    <tr>\n      <th>0</th>\n      <td>kml_1</td>\n      <td>&lt;center&gt;&lt;table&gt;&lt;tr&gt;&lt;th colspan='2' align='cent...</td>\n      <td>POINT (103.96086 1.34618)</td>\n    </tr>\n    <tr>\n      <th>1</th>\n      <td>kml_2</td>\n      <td>&lt;center&gt;&lt;table&gt;&lt;tr&gt;&lt;th colspan='2' align='cent...</td>\n      <td>POINT (103.97898 1.38990)</td>\n    </tr>\n    <tr>\n      <th>2</th>\n      <td>kml_3</td>\n      <td>&lt;center&gt;&lt;table&gt;&lt;tr&gt;&lt;th colspan='2' align='cent...</td>\n      <td>POINT (103.92313 1.40991)</td>\n    </tr>\n    <tr>\n      <th>3</th>\n      <td>kml_4</td>\n      <td>&lt;center&gt;&lt;table&gt;&lt;tr&gt;&lt;th colspan='2' align='cent...</td>\n      <td>POINT (103.86697 1.37924)</td>\n    </tr>\n    <tr>\n      <th>4</th>\n      <td>kml_5</td>\n      <td>&lt;center&gt;&lt;table&gt;&lt;tr&gt;&lt;th colspan='2' align='cent...</td>\n      <td>POINT (103.82907 1.37276)</td>\n    </tr>\n    <tr>\n      <th>...</th>\n      <td>...</td>\n      <td>...</td>\n      <td>...</td>\n    </tr>\n    <tr>\n      <th>345</th>\n      <td>kml_346</td>\n      <td>&lt;center&gt;&lt;table&gt;&lt;tr&gt;&lt;th colspan='2' align='cent...</td>\n      <td>POINT (103.89036 1.36796)</td>\n    </tr>\n    <tr>\n      <th>346</th>\n      <td>kml_347</td>\n      <td>&lt;center&gt;&lt;table&gt;&lt;tr&gt;&lt;th colspan='2' align='cent...</td>\n      <td>POINT (103.98919 1.39017)</td>\n    </tr>\n    <tr>\n      <th>347</th>\n      <td>kml_348</td>\n      <td>&lt;center&gt;&lt;table&gt;&lt;tr&gt;&lt;th colspan='2' align='cent...</td>\n      <td>POINT (103.88595 1.35520)</td>\n    </tr>\n    <tr>\n      <th>348</th>\n      <td>kml_349</td>\n      <td>&lt;center&gt;&lt;table&gt;&lt;tr&gt;&lt;th colspan='2' align='cent...</td>\n      <td>POINT (103.90374 1.39164)</td>\n    </tr>\n    <tr>\n      <th>349</th>\n      <td>kml_350</td>\n      <td>&lt;center&gt;&lt;table&gt;&lt;tr&gt;&lt;th colspan='2' align='cent...</td>\n      <td>POINT (103.94749 1.32553)</td>\n    </tr>\n  </tbody>\n</table>\n<p>350 rows × 3 columns</p>\n</div>"
     },
     "execution_count": 61,
     "metadata": {},
     "output_type": "execute_result"
    }
   ],
   "source": [
    "parks = parks.to_crs(4326)\n",
    "parks['geometry'] = parks['geometry'].map(lambda point: shapely.ops.transform(lambda x, y, z=None: (y, x), point))\n",
    "parks['geometry'] = parks['geometry'].map(lambda point: shapely.ops.transform(lambda x, y: (y, x), point))\n",
    "parks"
   ],
   "metadata": {
    "collapsed": false,
    "pycharm": {
     "name": "#%%\n"
    }
   }
  },
  {
   "cell_type": "code",
   "execution_count": 54,
   "outputs": [
    {
     "data": {
      "text/plain": "[(103.96085701087, 1.34617500824454)]"
     },
     "execution_count": 54,
     "metadata": {},
     "output_type": "execute_result"
    }
   ],
   "source": [
    "# gpd.points_from_xy(y, x)\n",
    "l = parks['geometry'][0]\n",
    "[*shapely.ops.transform(lambda x, y, z=None: (y, x), l).coords]"
   ],
   "metadata": {
    "collapsed": false,
    "pycharm": {
     "name": "#%%\n"
    }
   }
  },
  {
   "cell_type": "code",
   "execution_count": 3,
   "outputs": [],
   "source": [
    "from bs4 import BeautifulSoup\n",
    "import re\n",
    "from collections import defaultdict"
   ],
   "metadata": {
    "collapsed": false,
    "pycharm": {
     "name": "#%%\n"
    }
   }
  },
  {
   "cell_type": "code",
   "execution_count": 15,
   "outputs": [],
   "source": [
    "des = parks['Description']"
   ],
   "metadata": {
    "collapsed": false,
    "pycharm": {
     "name": "#%%\n"
    }
   }
  },
  {
   "cell_type": "code",
   "execution_count": 16,
   "outputs": [],
   "source": [
    "parks_dict = defaultdict(dict)\n",
    "\n",
    "for i, description in enumerate(des):\n",
    "    soup = BeautifulSoup(des[i])\n",
    "    table = soup.find_all('tr')[1:]\n",
    "\n",
    "    parks_dict[i] = {re.findall('<th>(\\w+)<\\/th>\\s<td>(.+)?<\\/td>', str(row))[0][0]:\n",
    "                           re.findall('<th>(\\w+)<\\/th>\\s<td>(.+)?<\\/td>', str(row))[0][1] for row in table}"
   ],
   "metadata": {
    "collapsed": false,
    "pycharm": {
     "name": "#%%\n"
    }
   }
  },
  {
   "cell_type": "code",
   "execution_count": 18,
   "outputs": [
    {
     "data": {
      "text/plain": "    ADDRESSBLOCKHOUSENUMBER ADDRESSBUILDINGNAME ADDRESSTYPE  \\\n0                                                             \n1                                                             \n2                                                             \n3                                                             \n4                                                             \n..                      ...                 ...         ...   \n345                                                           \n346                                                           \n347                                                           \n348                                                           \n349                                                           \n\n                                             HYPERLINK LANDXADDRESSPOINT  \\\n0                                                             42193.6328   \n1                                                               44210.12   \n2    www.nparks.gov.sg/gardens-parks-and-nature/par...          37994.87   \n3                                                             31744.6465   \n4                                                               27527.52   \n..                                                 ...               ...   \n345                                                           34348.5273   \n346                                                           45346.4766   \n347                                                            33857.832   \n348                                                           35836.5352   \n349                                                           40706.1328   \n\n      LANDYADDRESSPOINT                        NAME PHOTOURL  \\\n0              36479.08    Jalan Pelatok Open Space            \n1              41314.54              Turnhouse Park            \n2            43526.7266           Coney Island Park            \n3            40134.5625    Stratton Walk Playground            \n4            39418.4531                  Leban Park            \n..                  ...                         ...      ...   \n345          38888.0625                 Realty Park            \n346          41344.2461      Changi Point Promenade            \n347  37476.270000000004   Aroozoo Avenue Playground            \n348          41506.1133  St. Anne's Wood Playground            \n349           34196.625    Bedok Terrace Playground            \n\n    ADDRESSPOSTALCODE                                        DESCRIPTION  \\\n0                                                          Jalan Pelatok   \n1                                                        Natheravon Road   \n2                                   Beside Punggol Promenade Nature Walk   \n3                                    Located at the end of Stratton Walk   \n4                      Behind Sembawang Hills Food Centre.  Upper Tho...   \n..                ...                                                ...   \n345                                                 Along Hougang Ave 4    \n346                                                    Near Lor Bekukong   \n347                             Bounded by Aroozoo Ave and Jalan Mastuli   \n348                    Inside the private housing estate at St Anne's...   \n349                                 Between Bedok Rise and Bedok Terrace   \n\n    ADDRESSSTREETNAME ADDRESSFLOORNUMBER           INC_CRC      FMEL_UPD_D  \\\n0                                         BC5EA394BD8CE9F8  20200218182414   \n1                                         AB31CCDD36F93C1C  20200218182414   \n2                                         7CAC664DFF94240C  20200218182414   \n3                                         8FC92F17CF75A88A  20200218182414   \n4                                         EB7459375A3D10F7  20200218182414   \n..                ...                ...               ...             ...   \n345                                       A7BB1BF496807A8B  20200218182414   \n346                                       5FEA22BCC48153DA  20200218182414   \n347                                       ACBC9E152D19BD06  20200218182414   \n348                                       43A081292A7AE024  20200218182414   \n349                                       7FFC95EC84EF2F0F  20200218182414   \n\n    ADDRESSUNITNUMBER  \n0                      \n1                      \n2                      \n3                      \n4                      \n..                ...  \n345                    \n346                    \n347                    \n348                    \n349                    \n\n[350 rows x 15 columns]",
      "text/html": "<div>\n<style scoped>\n    .dataframe tbody tr th:only-of-type {\n        vertical-align: middle;\n    }\n\n    .dataframe tbody tr th {\n        vertical-align: top;\n    }\n\n    .dataframe thead th {\n        text-align: right;\n    }\n</style>\n<table border=\"1\" class=\"dataframe\">\n  <thead>\n    <tr style=\"text-align: right;\">\n      <th></th>\n      <th>ADDRESSBLOCKHOUSENUMBER</th>\n      <th>ADDRESSBUILDINGNAME</th>\n      <th>ADDRESSTYPE</th>\n      <th>HYPERLINK</th>\n      <th>LANDXADDRESSPOINT</th>\n      <th>LANDYADDRESSPOINT</th>\n      <th>NAME</th>\n      <th>PHOTOURL</th>\n      <th>ADDRESSPOSTALCODE</th>\n      <th>DESCRIPTION</th>\n      <th>ADDRESSSTREETNAME</th>\n      <th>ADDRESSFLOORNUMBER</th>\n      <th>INC_CRC</th>\n      <th>FMEL_UPD_D</th>\n      <th>ADDRESSUNITNUMBER</th>\n    </tr>\n  </thead>\n  <tbody>\n    <tr>\n      <th>0</th>\n      <td></td>\n      <td></td>\n      <td></td>\n      <td></td>\n      <td>42193.6328</td>\n      <td>36479.08</td>\n      <td>Jalan Pelatok Open Space</td>\n      <td></td>\n      <td></td>\n      <td>Jalan Pelatok</td>\n      <td></td>\n      <td></td>\n      <td>BC5EA394BD8CE9F8</td>\n      <td>20200218182414</td>\n      <td></td>\n    </tr>\n    <tr>\n      <th>1</th>\n      <td></td>\n      <td></td>\n      <td></td>\n      <td></td>\n      <td>44210.12</td>\n      <td>41314.54</td>\n      <td>Turnhouse Park</td>\n      <td></td>\n      <td></td>\n      <td>Natheravon Road</td>\n      <td></td>\n      <td></td>\n      <td>AB31CCDD36F93C1C</td>\n      <td>20200218182414</td>\n      <td></td>\n    </tr>\n    <tr>\n      <th>2</th>\n      <td></td>\n      <td></td>\n      <td></td>\n      <td>www.nparks.gov.sg/gardens-parks-and-nature/par...</td>\n      <td>37994.87</td>\n      <td>43526.7266</td>\n      <td>Coney Island Park</td>\n      <td></td>\n      <td></td>\n      <td>Beside Punggol Promenade Nature Walk</td>\n      <td></td>\n      <td></td>\n      <td>7CAC664DFF94240C</td>\n      <td>20200218182414</td>\n      <td></td>\n    </tr>\n    <tr>\n      <th>3</th>\n      <td></td>\n      <td></td>\n      <td></td>\n      <td></td>\n      <td>31744.6465</td>\n      <td>40134.5625</td>\n      <td>Stratton Walk Playground</td>\n      <td></td>\n      <td></td>\n      <td>Located at the end of Stratton Walk</td>\n      <td></td>\n      <td></td>\n      <td>8FC92F17CF75A88A</td>\n      <td>20200218182414</td>\n      <td></td>\n    </tr>\n    <tr>\n      <th>4</th>\n      <td></td>\n      <td></td>\n      <td></td>\n      <td></td>\n      <td>27527.52</td>\n      <td>39418.4531</td>\n      <td>Leban Park</td>\n      <td></td>\n      <td></td>\n      <td>Behind Sembawang Hills Food Centre.  Upper Tho...</td>\n      <td></td>\n      <td></td>\n      <td>EB7459375A3D10F7</td>\n      <td>20200218182414</td>\n      <td></td>\n    </tr>\n    <tr>\n      <th>...</th>\n      <td>...</td>\n      <td>...</td>\n      <td>...</td>\n      <td>...</td>\n      <td>...</td>\n      <td>...</td>\n      <td>...</td>\n      <td>...</td>\n      <td>...</td>\n      <td>...</td>\n      <td>...</td>\n      <td>...</td>\n      <td>...</td>\n      <td>...</td>\n      <td>...</td>\n    </tr>\n    <tr>\n      <th>345</th>\n      <td></td>\n      <td></td>\n      <td></td>\n      <td></td>\n      <td>34348.5273</td>\n      <td>38888.0625</td>\n      <td>Realty Park</td>\n      <td></td>\n      <td></td>\n      <td>Along Hougang Ave 4</td>\n      <td></td>\n      <td></td>\n      <td>A7BB1BF496807A8B</td>\n      <td>20200218182414</td>\n      <td></td>\n    </tr>\n    <tr>\n      <th>346</th>\n      <td></td>\n      <td></td>\n      <td></td>\n      <td></td>\n      <td>45346.4766</td>\n      <td>41344.2461</td>\n      <td>Changi Point Promenade</td>\n      <td></td>\n      <td></td>\n      <td>Near Lor Bekukong</td>\n      <td></td>\n      <td></td>\n      <td>5FEA22BCC48153DA</td>\n      <td>20200218182414</td>\n      <td></td>\n    </tr>\n    <tr>\n      <th>347</th>\n      <td></td>\n      <td></td>\n      <td></td>\n      <td></td>\n      <td>33857.832</td>\n      <td>37476.270000000004</td>\n      <td>Aroozoo Avenue Playground</td>\n      <td></td>\n      <td></td>\n      <td>Bounded by Aroozoo Ave and Jalan Mastuli</td>\n      <td></td>\n      <td></td>\n      <td>ACBC9E152D19BD06</td>\n      <td>20200218182414</td>\n      <td></td>\n    </tr>\n    <tr>\n      <th>348</th>\n      <td></td>\n      <td></td>\n      <td></td>\n      <td></td>\n      <td>35836.5352</td>\n      <td>41506.1133</td>\n      <td>St. Anne's Wood Playground</td>\n      <td></td>\n      <td></td>\n      <td>Inside the private housing estate at St Anne's...</td>\n      <td></td>\n      <td></td>\n      <td>43A081292A7AE024</td>\n      <td>20200218182414</td>\n      <td></td>\n    </tr>\n    <tr>\n      <th>349</th>\n      <td></td>\n      <td></td>\n      <td></td>\n      <td></td>\n      <td>40706.1328</td>\n      <td>34196.625</td>\n      <td>Bedok Terrace Playground</td>\n      <td></td>\n      <td></td>\n      <td>Between Bedok Rise and Bedok Terrace</td>\n      <td></td>\n      <td></td>\n      <td>7FFC95EC84EF2F0F</td>\n      <td>20200218182414</td>\n      <td></td>\n    </tr>\n  </tbody>\n</table>\n<p>350 rows × 15 columns</p>\n</div>"
     },
     "execution_count": 18,
     "metadata": {},
     "output_type": "execute_result"
    }
   ],
   "source": [
    "parks_descriptions = pd.DataFrame(parks_dict).T\n",
    "parks_descriptions"
   ],
   "metadata": {
    "collapsed": false,
    "pycharm": {
     "name": "#%%\n"
    }
   }
  },
  {
   "cell_type": "code",
   "execution_count": 33,
   "outputs": [
    {
     "data": {
      "text/plain": "    ADDRESSBLOCKHOUSENUMBER ADDRESSBUILDINGNAME ADDRESSTYPE  \\\n0                                                             \n1                                                             \n2                                                             \n3                                                             \n4                                                             \n..                      ...                 ...         ...   \n345                                                           \n346                                                           \n347                                                           \n348                                                           \n349                                                           \n\n                                             HYPERLINK LANDXADDRESSPOINT  \\\n0                                                             42193.6328   \n1                                                               44210.12   \n2    www.nparks.gov.sg/gardens-parks-and-nature/par...          37994.87   \n3                                                             31744.6465   \n4                                                               27527.52   \n..                                                 ...               ...   \n345                                                           34348.5273   \n346                                                           45346.4766   \n347                                                            33857.832   \n348                                                           35836.5352   \n349                                                           40706.1328   \n\n      LANDYADDRESSPOINT                        NAME PHOTOURL  \\\n0              36479.08    Jalan Pelatok Open Space            \n1              41314.54              Turnhouse Park            \n2            43526.7266           Coney Island Park            \n3            40134.5625    Stratton Walk Playground            \n4            39418.4531                  Leban Park            \n..                  ...                         ...      ...   \n345          38888.0625                 Realty Park            \n346          41344.2461      Changi Point Promenade            \n347  37476.270000000004   Aroozoo Avenue Playground            \n348          41506.1133  St. Anne's Wood Playground            \n349           34196.625    Bedok Terrace Playground            \n\n    ADDRESSPOSTALCODE                                        DESCRIPTION  \\\n0                                                          Jalan Pelatok   \n1                                                        Natheravon Road   \n2                                   Beside Punggol Promenade Nature Walk   \n3                                    Located at the end of Stratton Walk   \n4                      Behind Sembawang Hills Food Centre.  Upper Tho...   \n..                ...                                                ...   \n345                                                 Along Hougang Ave 4    \n346                                                    Near Lor Bekukong   \n347                             Bounded by Aroozoo Ave and Jalan Mastuli   \n348                    Inside the private housing estate at St Anne's...   \n349                                 Between Bedok Rise and Bedok Terrace   \n\n    ADDRESSSTREETNAME ADDRESSFLOORNUMBER           INC_CRC      FMEL_UPD_D  \\\n0                                         BC5EA394BD8CE9F8  20200218182414   \n1                                         AB31CCDD36F93C1C  20200218182414   \n2                                         7CAC664DFF94240C  20200218182414   \n3                                         8FC92F17CF75A88A  20200218182414   \n4                                         EB7459375A3D10F7  20200218182414   \n..                ...                ...               ...             ...   \n345                                       A7BB1BF496807A8B  20200218182414   \n346                                       5FEA22BCC48153DA  20200218182414   \n347                                       ACBC9E152D19BD06  20200218182414   \n348                                       43A081292A7AE024  20200218182414   \n349                                       7FFC95EC84EF2F0F  20200218182414   \n\n     ADDRESSUNITNUMBER  \n0                  NaN  \n1                  NaN  \n2                  NaN  \n3                  NaN  \n4                  NaN  \n..                 ...  \n345                NaN  \n346                NaN  \n347                NaN  \n348                NaN  \n349                NaN  \n\n[350 rows x 15 columns]",
      "text/html": "<div>\n<style scoped>\n    .dataframe tbody tr th:only-of-type {\n        vertical-align: middle;\n    }\n\n    .dataframe tbody tr th {\n        vertical-align: top;\n    }\n\n    .dataframe thead th {\n        text-align: right;\n    }\n</style>\n<table border=\"1\" class=\"dataframe\">\n  <thead>\n    <tr style=\"text-align: right;\">\n      <th></th>\n      <th>ADDRESSBLOCKHOUSENUMBER</th>\n      <th>ADDRESSBUILDINGNAME</th>\n      <th>ADDRESSTYPE</th>\n      <th>HYPERLINK</th>\n      <th>LANDXADDRESSPOINT</th>\n      <th>LANDYADDRESSPOINT</th>\n      <th>NAME</th>\n      <th>PHOTOURL</th>\n      <th>ADDRESSPOSTALCODE</th>\n      <th>DESCRIPTION</th>\n      <th>ADDRESSSTREETNAME</th>\n      <th>ADDRESSFLOORNUMBER</th>\n      <th>INC_CRC</th>\n      <th>FMEL_UPD_D</th>\n      <th>ADDRESSUNITNUMBER</th>\n    </tr>\n  </thead>\n  <tbody>\n    <tr>\n      <th>0</th>\n      <td></td>\n      <td></td>\n      <td></td>\n      <td></td>\n      <td>42193.6328</td>\n      <td>36479.08</td>\n      <td>Jalan Pelatok Open Space</td>\n      <td></td>\n      <td></td>\n      <td>Jalan Pelatok</td>\n      <td></td>\n      <td></td>\n      <td>BC5EA394BD8CE9F8</td>\n      <td>20200218182414</td>\n      <td>NaN</td>\n    </tr>\n    <tr>\n      <th>1</th>\n      <td></td>\n      <td></td>\n      <td></td>\n      <td></td>\n      <td>44210.12</td>\n      <td>41314.54</td>\n      <td>Turnhouse Park</td>\n      <td></td>\n      <td></td>\n      <td>Natheravon Road</td>\n      <td></td>\n      <td></td>\n      <td>AB31CCDD36F93C1C</td>\n      <td>20200218182414</td>\n      <td>NaN</td>\n    </tr>\n    <tr>\n      <th>2</th>\n      <td></td>\n      <td></td>\n      <td></td>\n      <td>www.nparks.gov.sg/gardens-parks-and-nature/par...</td>\n      <td>37994.87</td>\n      <td>43526.7266</td>\n      <td>Coney Island Park</td>\n      <td></td>\n      <td></td>\n      <td>Beside Punggol Promenade Nature Walk</td>\n      <td></td>\n      <td></td>\n      <td>7CAC664DFF94240C</td>\n      <td>20200218182414</td>\n      <td>NaN</td>\n    </tr>\n    <tr>\n      <th>3</th>\n      <td></td>\n      <td></td>\n      <td></td>\n      <td></td>\n      <td>31744.6465</td>\n      <td>40134.5625</td>\n      <td>Stratton Walk Playground</td>\n      <td></td>\n      <td></td>\n      <td>Located at the end of Stratton Walk</td>\n      <td></td>\n      <td></td>\n      <td>8FC92F17CF75A88A</td>\n      <td>20200218182414</td>\n      <td>NaN</td>\n    </tr>\n    <tr>\n      <th>4</th>\n      <td></td>\n      <td></td>\n      <td></td>\n      <td></td>\n      <td>27527.52</td>\n      <td>39418.4531</td>\n      <td>Leban Park</td>\n      <td></td>\n      <td></td>\n      <td>Behind Sembawang Hills Food Centre.  Upper Tho...</td>\n      <td></td>\n      <td></td>\n      <td>EB7459375A3D10F7</td>\n      <td>20200218182414</td>\n      <td>NaN</td>\n    </tr>\n    <tr>\n      <th>...</th>\n      <td>...</td>\n      <td>...</td>\n      <td>...</td>\n      <td>...</td>\n      <td>...</td>\n      <td>...</td>\n      <td>...</td>\n      <td>...</td>\n      <td>...</td>\n      <td>...</td>\n      <td>...</td>\n      <td>...</td>\n      <td>...</td>\n      <td>...</td>\n      <td>...</td>\n    </tr>\n    <tr>\n      <th>345</th>\n      <td></td>\n      <td></td>\n      <td></td>\n      <td></td>\n      <td>34348.5273</td>\n      <td>38888.0625</td>\n      <td>Realty Park</td>\n      <td></td>\n      <td></td>\n      <td>Along Hougang Ave 4</td>\n      <td></td>\n      <td></td>\n      <td>A7BB1BF496807A8B</td>\n      <td>20200218182414</td>\n      <td>NaN</td>\n    </tr>\n    <tr>\n      <th>346</th>\n      <td></td>\n      <td></td>\n      <td></td>\n      <td></td>\n      <td>45346.4766</td>\n      <td>41344.2461</td>\n      <td>Changi Point Promenade</td>\n      <td></td>\n      <td></td>\n      <td>Near Lor Bekukong</td>\n      <td></td>\n      <td></td>\n      <td>5FEA22BCC48153DA</td>\n      <td>20200218182414</td>\n      <td>NaN</td>\n    </tr>\n    <tr>\n      <th>347</th>\n      <td></td>\n      <td></td>\n      <td></td>\n      <td></td>\n      <td>33857.832</td>\n      <td>37476.270000000004</td>\n      <td>Aroozoo Avenue Playground</td>\n      <td></td>\n      <td></td>\n      <td>Bounded by Aroozoo Ave and Jalan Mastuli</td>\n      <td></td>\n      <td></td>\n      <td>ACBC9E152D19BD06</td>\n      <td>20200218182414</td>\n      <td>NaN</td>\n    </tr>\n    <tr>\n      <th>348</th>\n      <td></td>\n      <td></td>\n      <td></td>\n      <td></td>\n      <td>35836.5352</td>\n      <td>41506.1133</td>\n      <td>St. Anne's Wood Playground</td>\n      <td></td>\n      <td></td>\n      <td>Inside the private housing estate at St Anne's...</td>\n      <td></td>\n      <td></td>\n      <td>43A081292A7AE024</td>\n      <td>20200218182414</td>\n      <td>NaN</td>\n    </tr>\n    <tr>\n      <th>349</th>\n      <td></td>\n      <td></td>\n      <td></td>\n      <td></td>\n      <td>40706.1328</td>\n      <td>34196.625</td>\n      <td>Bedok Terrace Playground</td>\n      <td></td>\n      <td></td>\n      <td>Between Bedok Rise and Bedok Terrace</td>\n      <td></td>\n      <td></td>\n      <td>7FFC95EC84EF2F0F</td>\n      <td>20200218182414</td>\n      <td>NaN</td>\n    </tr>\n  </tbody>\n</table>\n<p>350 rows × 15 columns</p>\n</div>"
     },
     "execution_count": 33,
     "metadata": {},
     "output_type": "execute_result"
    }
   ],
   "source": [
    "# parks_descriptions.dropna(how='all', axis=1)\n",
    "import numpy as np\n",
    "parks_descriptions['ADDRESSUNITNUMBER'].replace('', np.nan, inplace=True)\n",
    "parks_descriptions"
   ],
   "metadata": {
    "collapsed": false,
    "pycharm": {
     "name": "#%%\n"
    }
   }
  },
  {
   "cell_type": "code",
   "execution_count": 37,
   "outputs": [
    {
     "data": {
      "text/plain": "    LANDXADDRESSPOINT   LANDYADDRESSPOINT                        NAME  \\\n0          42193.6328            36479.08    Jalan Pelatok Open Space   \n1            44210.12            41314.54              Turnhouse Park   \n2            37994.87          43526.7266           Coney Island Park   \n3          31744.6465          40134.5625    Stratton Walk Playground   \n4            27527.52          39418.4531                  Leban Park   \n..                ...                 ...                         ...   \n345        34348.5273          38888.0625                 Realty Park   \n346        45346.4766          41344.2461      Changi Point Promenade   \n347         33857.832  37476.270000000004   Aroozoo Avenue Playground   \n348        35836.5352          41506.1133  St. Anne's Wood Playground   \n349        40706.1328           34196.625    Bedok Terrace Playground   \n\n              INC_CRC      FMEL_UPD_D  \n0    BC5EA394BD8CE9F8  20200218182414  \n1    AB31CCDD36F93C1C  20200218182414  \n2    7CAC664DFF94240C  20200218182414  \n3    8FC92F17CF75A88A  20200218182414  \n4    EB7459375A3D10F7  20200218182414  \n..                ...             ...  \n345  A7BB1BF496807A8B  20200218182414  \n346  5FEA22BCC48153DA  20200218182414  \n347  ACBC9E152D19BD06  20200218182414  \n348  43A081292A7AE024  20200218182414  \n349  7FFC95EC84EF2F0F  20200218182414  \n\n[350 rows x 5 columns]",
      "text/html": "<div>\n<style scoped>\n    .dataframe tbody tr th:only-of-type {\n        vertical-align: middle;\n    }\n\n    .dataframe tbody tr th {\n        vertical-align: top;\n    }\n\n    .dataframe thead th {\n        text-align: right;\n    }\n</style>\n<table border=\"1\" class=\"dataframe\">\n  <thead>\n    <tr style=\"text-align: right;\">\n      <th></th>\n      <th>LANDXADDRESSPOINT</th>\n      <th>LANDYADDRESSPOINT</th>\n      <th>NAME</th>\n      <th>INC_CRC</th>\n      <th>FMEL_UPD_D</th>\n    </tr>\n  </thead>\n  <tbody>\n    <tr>\n      <th>0</th>\n      <td>42193.6328</td>\n      <td>36479.08</td>\n      <td>Jalan Pelatok Open Space</td>\n      <td>BC5EA394BD8CE9F8</td>\n      <td>20200218182414</td>\n    </tr>\n    <tr>\n      <th>1</th>\n      <td>44210.12</td>\n      <td>41314.54</td>\n      <td>Turnhouse Park</td>\n      <td>AB31CCDD36F93C1C</td>\n      <td>20200218182414</td>\n    </tr>\n    <tr>\n      <th>2</th>\n      <td>37994.87</td>\n      <td>43526.7266</td>\n      <td>Coney Island Park</td>\n      <td>7CAC664DFF94240C</td>\n      <td>20200218182414</td>\n    </tr>\n    <tr>\n      <th>3</th>\n      <td>31744.6465</td>\n      <td>40134.5625</td>\n      <td>Stratton Walk Playground</td>\n      <td>8FC92F17CF75A88A</td>\n      <td>20200218182414</td>\n    </tr>\n    <tr>\n      <th>4</th>\n      <td>27527.52</td>\n      <td>39418.4531</td>\n      <td>Leban Park</td>\n      <td>EB7459375A3D10F7</td>\n      <td>20200218182414</td>\n    </tr>\n    <tr>\n      <th>...</th>\n      <td>...</td>\n      <td>...</td>\n      <td>...</td>\n      <td>...</td>\n      <td>...</td>\n    </tr>\n    <tr>\n      <th>345</th>\n      <td>34348.5273</td>\n      <td>38888.0625</td>\n      <td>Realty Park</td>\n      <td>A7BB1BF496807A8B</td>\n      <td>20200218182414</td>\n    </tr>\n    <tr>\n      <th>346</th>\n      <td>45346.4766</td>\n      <td>41344.2461</td>\n      <td>Changi Point Promenade</td>\n      <td>5FEA22BCC48153DA</td>\n      <td>20200218182414</td>\n    </tr>\n    <tr>\n      <th>347</th>\n      <td>33857.832</td>\n      <td>37476.270000000004</td>\n      <td>Aroozoo Avenue Playground</td>\n      <td>ACBC9E152D19BD06</td>\n      <td>20200218182414</td>\n    </tr>\n    <tr>\n      <th>348</th>\n      <td>35836.5352</td>\n      <td>41506.1133</td>\n      <td>St. Anne's Wood Playground</td>\n      <td>43A081292A7AE024</td>\n      <td>20200218182414</td>\n    </tr>\n    <tr>\n      <th>349</th>\n      <td>40706.1328</td>\n      <td>34196.625</td>\n      <td>Bedok Terrace Playground</td>\n      <td>7FFC95EC84EF2F0F</td>\n      <td>20200218182414</td>\n    </tr>\n  </tbody>\n</table>\n<p>350 rows × 5 columns</p>\n</div>"
     },
     "execution_count": 37,
     "metadata": {},
     "output_type": "execute_result"
    }
   ],
   "source": [
    "parks_descriptions.replace(r'^\\s*$', np.nan, regex=True, inplace=True)\n",
    "parks_descriptions.dropna(axis=1, inplace=True)\n",
    "parks_descriptions"
   ],
   "metadata": {
    "collapsed": false,
    "pycharm": {
     "name": "#%%\n"
    }
   }
  },
  {
   "cell_type": "code",
   "execution_count": null,
   "outputs": [],
   "source": [],
   "metadata": {
    "collapsed": false,
    "pycharm": {
     "name": "#%%\n"
    }
   }
  }
 ],
 "metadata": {
  "kernelspec": {
   "display_name": "Python 3",
   "language": "python",
   "name": "python3"
  },
  "language_info": {
   "codemirror_mode": {
    "name": "ipython",
    "version": 2
   },
   "file_extension": ".py",
   "mimetype": "text/x-python",
   "name": "python",
   "nbconvert_exporter": "python",
   "pygments_lexer": "ipython2",
   "version": "2.7.6"
  }
 },
 "nbformat": 4,
 "nbformat_minor": 0
}