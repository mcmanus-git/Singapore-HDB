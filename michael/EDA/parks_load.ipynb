{
 "cells": [
  {
   "cell_type": "code",
   "execution_count": 39,
   "metadata": {
    "collapsed": true
   },
   "outputs": [],
   "source": [
    "import pandas as pd\n",
    "import geopandas as gpd\n",
    "import shapely\n",
    "import numpy as np\n",
    "from sqlalchemy import create_engine\n",
    "from MyCreds.mycreds import Capstone_AWS_PG\n",
    "from geoalchemy2 import Geometry"
   ]
  },
  {
   "cell_type": "code",
   "execution_count": 17,
   "outputs": [
    {
     "data": {
      "text/plain": "        Name                                        Description  \\\n0      kml_1  <center><table><tr><th colspan='2' align='cent...   \n1      kml_2  <center><table><tr><th colspan='2' align='cent...   \n2      kml_3  <center><table><tr><th colspan='2' align='cent...   \n3      kml_4  <center><table><tr><th colspan='2' align='cent...   \n4      kml_5  <center><table><tr><th colspan='2' align='cent...   \n..       ...                                                ...   \n345  kml_346  <center><table><tr><th colspan='2' align='cent...   \n346  kml_347  <center><table><tr><th colspan='2' align='cent...   \n347  kml_348  <center><table><tr><th colspan='2' align='cent...   \n348  kml_349  <center><table><tr><th colspan='2' align='cent...   \n349  kml_350  <center><table><tr><th colspan='2' align='cent...   \n\n                                geometry  \n0    POINT Z (103.96086 1.34618 0.00000)  \n1    POINT Z (103.97898 1.38990 0.00000)  \n2    POINT Z (103.92313 1.40991 0.00000)  \n3    POINT Z (103.86697 1.37924 0.00000)  \n4    POINT Z (103.82907 1.37276 0.00000)  \n..                                   ...  \n345  POINT Z (103.89036 1.36796 0.00000)  \n346  POINT Z (103.98919 1.39017 0.00000)  \n347  POINT Z (103.88595 1.35520 0.00000)  \n348  POINT Z (103.90374 1.39164 0.00000)  \n349  POINT Z (103.94749 1.32553 0.00000)  \n\n[350 rows x 3 columns]",
      "text/html": "<div>\n<style scoped>\n    .dataframe tbody tr th:only-of-type {\n        vertical-align: middle;\n    }\n\n    .dataframe tbody tr th {\n        vertical-align: top;\n    }\n\n    .dataframe thead th {\n        text-align: right;\n    }\n</style>\n<table border=\"1\" class=\"dataframe\">\n  <thead>\n    <tr style=\"text-align: right;\">\n      <th></th>\n      <th>Name</th>\n      <th>Description</th>\n      <th>geometry</th>\n    </tr>\n  </thead>\n  <tbody>\n    <tr>\n      <th>0</th>\n      <td>kml_1</td>\n      <td>&lt;center&gt;&lt;table&gt;&lt;tr&gt;&lt;th colspan='2' align='cent...</td>\n      <td>POINT Z (103.96086 1.34618 0.00000)</td>\n    </tr>\n    <tr>\n      <th>1</th>\n      <td>kml_2</td>\n      <td>&lt;center&gt;&lt;table&gt;&lt;tr&gt;&lt;th colspan='2' align='cent...</td>\n      <td>POINT Z (103.97898 1.38990 0.00000)</td>\n    </tr>\n    <tr>\n      <th>2</th>\n      <td>kml_3</td>\n      <td>&lt;center&gt;&lt;table&gt;&lt;tr&gt;&lt;th colspan='2' align='cent...</td>\n      <td>POINT Z (103.92313 1.40991 0.00000)</td>\n    </tr>\n    <tr>\n      <th>3</th>\n      <td>kml_4</td>\n      <td>&lt;center&gt;&lt;table&gt;&lt;tr&gt;&lt;th colspan='2' align='cent...</td>\n      <td>POINT Z (103.86697 1.37924 0.00000)</td>\n    </tr>\n    <tr>\n      <th>4</th>\n      <td>kml_5</td>\n      <td>&lt;center&gt;&lt;table&gt;&lt;tr&gt;&lt;th colspan='2' align='cent...</td>\n      <td>POINT Z (103.82907 1.37276 0.00000)</td>\n    </tr>\n    <tr>\n      <th>...</th>\n      <td>...</td>\n      <td>...</td>\n      <td>...</td>\n    </tr>\n    <tr>\n      <th>345</th>\n      <td>kml_346</td>\n      <td>&lt;center&gt;&lt;table&gt;&lt;tr&gt;&lt;th colspan='2' align='cent...</td>\n      <td>POINT Z (103.89036 1.36796 0.00000)</td>\n    </tr>\n    <tr>\n      <th>346</th>\n      <td>kml_347</td>\n      <td>&lt;center&gt;&lt;table&gt;&lt;tr&gt;&lt;th colspan='2' align='cent...</td>\n      <td>POINT Z (103.98919 1.39017 0.00000)</td>\n    </tr>\n    <tr>\n      <th>347</th>\n      <td>kml_348</td>\n      <td>&lt;center&gt;&lt;table&gt;&lt;tr&gt;&lt;th colspan='2' align='cent...</td>\n      <td>POINT Z (103.88595 1.35520 0.00000)</td>\n    </tr>\n    <tr>\n      <th>348</th>\n      <td>kml_349</td>\n      <td>&lt;center&gt;&lt;table&gt;&lt;tr&gt;&lt;th colspan='2' align='cent...</td>\n      <td>POINT Z (103.90374 1.39164 0.00000)</td>\n    </tr>\n    <tr>\n      <th>349</th>\n      <td>kml_350</td>\n      <td>&lt;center&gt;&lt;table&gt;&lt;tr&gt;&lt;th colspan='2' align='cent...</td>\n      <td>POINT Z (103.94749 1.32553 0.00000)</td>\n    </tr>\n  </tbody>\n</table>\n<p>350 rows × 3 columns</p>\n</div>"
     },
     "execution_count": 17,
     "metadata": {},
     "output_type": "execute_result"
    }
   ],
   "source": [
    "parks = gpd.read_file('../data/parks/parks-geojson.geojson')\n",
    "parks"
   ],
   "metadata": {
    "collapsed": false,
    "pycharm": {
     "name": "#%%\n"
    }
   }
  },
  {
   "cell_type": "code",
   "execution_count": 18,
   "outputs": [
    {
     "data": {
      "text/plain": "        Name                                        Description  \\\n0      kml_1  <center><table><tr><th colspan='2' align='cent...   \n1      kml_2  <center><table><tr><th colspan='2' align='cent...   \n2      kml_3  <center><table><tr><th colspan='2' align='cent...   \n3      kml_4  <center><table><tr><th colspan='2' align='cent...   \n4      kml_5  <center><table><tr><th colspan='2' align='cent...   \n..       ...                                                ...   \n345  kml_346  <center><table><tr><th colspan='2' align='cent...   \n346  kml_347  <center><table><tr><th colspan='2' align='cent...   \n347  kml_348  <center><table><tr><th colspan='2' align='cent...   \n348  kml_349  <center><table><tr><th colspan='2' align='cent...   \n349  kml_350  <center><table><tr><th colspan='2' align='cent...   \n\n                      geometry  \n0    POINT (1.34618 103.96086)  \n1    POINT (1.38990 103.97898)  \n2    POINT (1.40991 103.92313)  \n3    POINT (1.37924 103.86697)  \n4    POINT (1.37276 103.82907)  \n..                         ...  \n345  POINT (1.36796 103.89036)  \n346  POINT (1.39017 103.98919)  \n347  POINT (1.35520 103.88595)  \n348  POINT (1.39164 103.90374)  \n349  POINT (1.32553 103.94749)  \n\n[350 rows x 3 columns]",
      "text/html": "<div>\n<style scoped>\n    .dataframe tbody tr th:only-of-type {\n        vertical-align: middle;\n    }\n\n    .dataframe tbody tr th {\n        vertical-align: top;\n    }\n\n    .dataframe thead th {\n        text-align: right;\n    }\n</style>\n<table border=\"1\" class=\"dataframe\">\n  <thead>\n    <tr style=\"text-align: right;\">\n      <th></th>\n      <th>Name</th>\n      <th>Description</th>\n      <th>geometry</th>\n    </tr>\n  </thead>\n  <tbody>\n    <tr>\n      <th>0</th>\n      <td>kml_1</td>\n      <td>&lt;center&gt;&lt;table&gt;&lt;tr&gt;&lt;th colspan='2' align='cent...</td>\n      <td>POINT (1.34618 103.96086)</td>\n    </tr>\n    <tr>\n      <th>1</th>\n      <td>kml_2</td>\n      <td>&lt;center&gt;&lt;table&gt;&lt;tr&gt;&lt;th colspan='2' align='cent...</td>\n      <td>POINT (1.38990 103.97898)</td>\n    </tr>\n    <tr>\n      <th>2</th>\n      <td>kml_3</td>\n      <td>&lt;center&gt;&lt;table&gt;&lt;tr&gt;&lt;th colspan='2' align='cent...</td>\n      <td>POINT (1.40991 103.92313)</td>\n    </tr>\n    <tr>\n      <th>3</th>\n      <td>kml_4</td>\n      <td>&lt;center&gt;&lt;table&gt;&lt;tr&gt;&lt;th colspan='2' align='cent...</td>\n      <td>POINT (1.37924 103.86697)</td>\n    </tr>\n    <tr>\n      <th>4</th>\n      <td>kml_5</td>\n      <td>&lt;center&gt;&lt;table&gt;&lt;tr&gt;&lt;th colspan='2' align='cent...</td>\n      <td>POINT (1.37276 103.82907)</td>\n    </tr>\n    <tr>\n      <th>...</th>\n      <td>...</td>\n      <td>...</td>\n      <td>...</td>\n    </tr>\n    <tr>\n      <th>345</th>\n      <td>kml_346</td>\n      <td>&lt;center&gt;&lt;table&gt;&lt;tr&gt;&lt;th colspan='2' align='cent...</td>\n      <td>POINT (1.36796 103.89036)</td>\n    </tr>\n    <tr>\n      <th>346</th>\n      <td>kml_347</td>\n      <td>&lt;center&gt;&lt;table&gt;&lt;tr&gt;&lt;th colspan='2' align='cent...</td>\n      <td>POINT (1.39017 103.98919)</td>\n    </tr>\n    <tr>\n      <th>347</th>\n      <td>kml_348</td>\n      <td>&lt;center&gt;&lt;table&gt;&lt;tr&gt;&lt;th colspan='2' align='cent...</td>\n      <td>POINT (1.35520 103.88595)</td>\n    </tr>\n    <tr>\n      <th>348</th>\n      <td>kml_349</td>\n      <td>&lt;center&gt;&lt;table&gt;&lt;tr&gt;&lt;th colspan='2' align='cent...</td>\n      <td>POINT (1.39164 103.90374)</td>\n    </tr>\n    <tr>\n      <th>349</th>\n      <td>kml_350</td>\n      <td>&lt;center&gt;&lt;table&gt;&lt;tr&gt;&lt;th colspan='2' align='cent...</td>\n      <td>POINT (1.32553 103.94749)</td>\n    </tr>\n  </tbody>\n</table>\n<p>350 rows × 3 columns</p>\n</div>"
     },
     "execution_count": 18,
     "metadata": {},
     "output_type": "execute_result"
    }
   ],
   "source": [
    "parks = parks.to_crs(4326)\n",
    "parks['geometry'] = parks['geometry'].map(lambda point: shapely.ops.transform(lambda x, y, z: (y, x), point))\n",
    "parks"
   ],
   "metadata": {
    "collapsed": false,
    "pycharm": {
     "name": "#%%\n"
    }
   }
  },
  {
   "cell_type": "code",
   "execution_count": 20,
   "outputs": [],
   "source": [
    "from bs4 import BeautifulSoup\n",
    "import re\n",
    "from collections import defaultdict"
   ],
   "metadata": {
    "collapsed": false,
    "pycharm": {
     "name": "#%%\n"
    }
   }
  },
  {
   "cell_type": "code",
   "execution_count": 21,
   "outputs": [],
   "source": [
    "des = parks['Description']"
   ],
   "metadata": {
    "collapsed": false,
    "pycharm": {
     "name": "#%%\n"
    }
   }
  },
  {
   "cell_type": "code",
   "execution_count": 22,
   "outputs": [],
   "source": [
    "parks_dict = defaultdict(dict)\n",
    "\n",
    "for i, description in enumerate(des):\n",
    "    soup = BeautifulSoup(des[i])\n",
    "    table = soup.find_all('tr')[1:]\n",
    "\n",
    "    parks_dict[i] = {re.findall('<th>(\\w+)<\\/th>\\s<td>(.+)?<\\/td>', str(row))[0][0]:\n",
    "                           re.findall('<th>(\\w+)<\\/th>\\s<td>(.+)?<\\/td>', str(row))[0][1] for row in table}"
   ],
   "metadata": {
    "collapsed": false,
    "pycharm": {
     "name": "#%%\n"
    }
   }
  },
  {
   "cell_type": "code",
   "execution_count": 23,
   "outputs": [
    {
     "data": {
      "text/plain": "    ADDRESSBLOCKHOUSENUMBER ADDRESSBUILDINGNAME ADDRESSTYPE  \\\n0                                                             \n1                                                             \n2                                                             \n3                                                             \n4                                                             \n..                      ...                 ...         ...   \n345                                                           \n346                                                           \n347                                                           \n348                                                           \n349                                                           \n\n                                             HYPERLINK LANDXADDRESSPOINT  \\\n0                                                             42193.6328   \n1                                                               44210.12   \n2    www.nparks.gov.sg/gardens-parks-and-nature/par...          37994.87   \n3                                                             31744.6465   \n4                                                               27527.52   \n..                                                 ...               ...   \n345                                                           34348.5273   \n346                                                           45346.4766   \n347                                                            33857.832   \n348                                                           35836.5352   \n349                                                           40706.1328   \n\n      LANDYADDRESSPOINT                        NAME PHOTOURL  \\\n0              36479.08    Jalan Pelatok Open Space            \n1              41314.54              Turnhouse Park            \n2            43526.7266           Coney Island Park            \n3            40134.5625    Stratton Walk Playground            \n4            39418.4531                  Leban Park            \n..                  ...                         ...      ...   \n345          38888.0625                 Realty Park            \n346          41344.2461      Changi Point Promenade            \n347  37476.270000000004   Aroozoo Avenue Playground            \n348          41506.1133  St. Anne's Wood Playground            \n349           34196.625    Bedok Terrace Playground            \n\n    ADDRESSPOSTALCODE                                        DESCRIPTION  \\\n0                                                          Jalan Pelatok   \n1                                                        Natheravon Road   \n2                                   Beside Punggol Promenade Nature Walk   \n3                                    Located at the end of Stratton Walk   \n4                      Behind Sembawang Hills Food Centre.  Upper Tho...   \n..                ...                                                ...   \n345                                                 Along Hougang Ave 4    \n346                                                    Near Lor Bekukong   \n347                             Bounded by Aroozoo Ave and Jalan Mastuli   \n348                    Inside the private housing estate at St Anne's...   \n349                                 Between Bedok Rise and Bedok Terrace   \n\n    ADDRESSSTREETNAME ADDRESSFLOORNUMBER           INC_CRC      FMEL_UPD_D  \\\n0                                         BC5EA394BD8CE9F8  20200218182414   \n1                                         AB31CCDD36F93C1C  20200218182414   \n2                                         7CAC664DFF94240C  20200218182414   \n3                                         8FC92F17CF75A88A  20200218182414   \n4                                         EB7459375A3D10F7  20200218182414   \n..                ...                ...               ...             ...   \n345                                       A7BB1BF496807A8B  20200218182414   \n346                                       5FEA22BCC48153DA  20200218182414   \n347                                       ACBC9E152D19BD06  20200218182414   \n348                                       43A081292A7AE024  20200218182414   \n349                                       7FFC95EC84EF2F0F  20200218182414   \n\n    ADDRESSUNITNUMBER  \n0                      \n1                      \n2                      \n3                      \n4                      \n..                ...  \n345                    \n346                    \n347                    \n348                    \n349                    \n\n[350 rows x 15 columns]",
      "text/html": "<div>\n<style scoped>\n    .dataframe tbody tr th:only-of-type {\n        vertical-align: middle;\n    }\n\n    .dataframe tbody tr th {\n        vertical-align: top;\n    }\n\n    .dataframe thead th {\n        text-align: right;\n    }\n</style>\n<table border=\"1\" class=\"dataframe\">\n  <thead>\n    <tr style=\"text-align: right;\">\n      <th></th>\n      <th>ADDRESSBLOCKHOUSENUMBER</th>\n      <th>ADDRESSBUILDINGNAME</th>\n      <th>ADDRESSTYPE</th>\n      <th>HYPERLINK</th>\n      <th>LANDXADDRESSPOINT</th>\n      <th>LANDYADDRESSPOINT</th>\n      <th>NAME</th>\n      <th>PHOTOURL</th>\n      <th>ADDRESSPOSTALCODE</th>\n      <th>DESCRIPTION</th>\n      <th>ADDRESSSTREETNAME</th>\n      <th>ADDRESSFLOORNUMBER</th>\n      <th>INC_CRC</th>\n      <th>FMEL_UPD_D</th>\n      <th>ADDRESSUNITNUMBER</th>\n    </tr>\n  </thead>\n  <tbody>\n    <tr>\n      <th>0</th>\n      <td></td>\n      <td></td>\n      <td></td>\n      <td></td>\n      <td>42193.6328</td>\n      <td>36479.08</td>\n      <td>Jalan Pelatok Open Space</td>\n      <td></td>\n      <td></td>\n      <td>Jalan Pelatok</td>\n      <td></td>\n      <td></td>\n      <td>BC5EA394BD8CE9F8</td>\n      <td>20200218182414</td>\n      <td></td>\n    </tr>\n    <tr>\n      <th>1</th>\n      <td></td>\n      <td></td>\n      <td></td>\n      <td></td>\n      <td>44210.12</td>\n      <td>41314.54</td>\n      <td>Turnhouse Park</td>\n      <td></td>\n      <td></td>\n      <td>Natheravon Road</td>\n      <td></td>\n      <td></td>\n      <td>AB31CCDD36F93C1C</td>\n      <td>20200218182414</td>\n      <td></td>\n    </tr>\n    <tr>\n      <th>2</th>\n      <td></td>\n      <td></td>\n      <td></td>\n      <td>www.nparks.gov.sg/gardens-parks-and-nature/par...</td>\n      <td>37994.87</td>\n      <td>43526.7266</td>\n      <td>Coney Island Park</td>\n      <td></td>\n      <td></td>\n      <td>Beside Punggol Promenade Nature Walk</td>\n      <td></td>\n      <td></td>\n      <td>7CAC664DFF94240C</td>\n      <td>20200218182414</td>\n      <td></td>\n    </tr>\n    <tr>\n      <th>3</th>\n      <td></td>\n      <td></td>\n      <td></td>\n      <td></td>\n      <td>31744.6465</td>\n      <td>40134.5625</td>\n      <td>Stratton Walk Playground</td>\n      <td></td>\n      <td></td>\n      <td>Located at the end of Stratton Walk</td>\n      <td></td>\n      <td></td>\n      <td>8FC92F17CF75A88A</td>\n      <td>20200218182414</td>\n      <td></td>\n    </tr>\n    <tr>\n      <th>4</th>\n      <td></td>\n      <td></td>\n      <td></td>\n      <td></td>\n      <td>27527.52</td>\n      <td>39418.4531</td>\n      <td>Leban Park</td>\n      <td></td>\n      <td></td>\n      <td>Behind Sembawang Hills Food Centre.  Upper Tho...</td>\n      <td></td>\n      <td></td>\n      <td>EB7459375A3D10F7</td>\n      <td>20200218182414</td>\n      <td></td>\n    </tr>\n    <tr>\n      <th>...</th>\n      <td>...</td>\n      <td>...</td>\n      <td>...</td>\n      <td>...</td>\n      <td>...</td>\n      <td>...</td>\n      <td>...</td>\n      <td>...</td>\n      <td>...</td>\n      <td>...</td>\n      <td>...</td>\n      <td>...</td>\n      <td>...</td>\n      <td>...</td>\n      <td>...</td>\n    </tr>\n    <tr>\n      <th>345</th>\n      <td></td>\n      <td></td>\n      <td></td>\n      <td></td>\n      <td>34348.5273</td>\n      <td>38888.0625</td>\n      <td>Realty Park</td>\n      <td></td>\n      <td></td>\n      <td>Along Hougang Ave 4</td>\n      <td></td>\n      <td></td>\n      <td>A7BB1BF496807A8B</td>\n      <td>20200218182414</td>\n      <td></td>\n    </tr>\n    <tr>\n      <th>346</th>\n      <td></td>\n      <td></td>\n      <td></td>\n      <td></td>\n      <td>45346.4766</td>\n      <td>41344.2461</td>\n      <td>Changi Point Promenade</td>\n      <td></td>\n      <td></td>\n      <td>Near Lor Bekukong</td>\n      <td></td>\n      <td></td>\n      <td>5FEA22BCC48153DA</td>\n      <td>20200218182414</td>\n      <td></td>\n    </tr>\n    <tr>\n      <th>347</th>\n      <td></td>\n      <td></td>\n      <td></td>\n      <td></td>\n      <td>33857.832</td>\n      <td>37476.270000000004</td>\n      <td>Aroozoo Avenue Playground</td>\n      <td></td>\n      <td></td>\n      <td>Bounded by Aroozoo Ave and Jalan Mastuli</td>\n      <td></td>\n      <td></td>\n      <td>ACBC9E152D19BD06</td>\n      <td>20200218182414</td>\n      <td></td>\n    </tr>\n    <tr>\n      <th>348</th>\n      <td></td>\n      <td></td>\n      <td></td>\n      <td></td>\n      <td>35836.5352</td>\n      <td>41506.1133</td>\n      <td>St. Anne's Wood Playground</td>\n      <td></td>\n      <td></td>\n      <td>Inside the private housing estate at St Anne's...</td>\n      <td></td>\n      <td></td>\n      <td>43A081292A7AE024</td>\n      <td>20200218182414</td>\n      <td></td>\n    </tr>\n    <tr>\n      <th>349</th>\n      <td></td>\n      <td></td>\n      <td></td>\n      <td></td>\n      <td>40706.1328</td>\n      <td>34196.625</td>\n      <td>Bedok Terrace Playground</td>\n      <td></td>\n      <td></td>\n      <td>Between Bedok Rise and Bedok Terrace</td>\n      <td></td>\n      <td></td>\n      <td>7FFC95EC84EF2F0F</td>\n      <td>20200218182414</td>\n      <td></td>\n    </tr>\n  </tbody>\n</table>\n<p>350 rows × 15 columns</p>\n</div>"
     },
     "execution_count": 23,
     "metadata": {},
     "output_type": "execute_result"
    }
   ],
   "source": [
    "parks_descriptions = pd.DataFrame(parks_dict).T\n",
    "parks_descriptions"
   ],
   "metadata": {
    "collapsed": false,
    "pycharm": {
     "name": "#%%\n"
    }
   }
  },
  {
   "cell_type": "code",
   "execution_count": 26,
   "outputs": [
    {
     "data": {
      "text/plain": "    LANDXADDRESSPOINT   LANDYADDRESSPOINT                        NAME  \\\n0          42193.6328            36479.08    Jalan Pelatok Open Space   \n1            44210.12            41314.54              Turnhouse Park   \n2            37994.87          43526.7266           Coney Island Park   \n3          31744.6465          40134.5625    Stratton Walk Playground   \n4            27527.52          39418.4531                  Leban Park   \n..                ...                 ...                         ...   \n345        34348.5273          38888.0625                 Realty Park   \n346        45346.4766          41344.2461      Changi Point Promenade   \n347         33857.832  37476.270000000004   Aroozoo Avenue Playground   \n348        35836.5352          41506.1133  St. Anne's Wood Playground   \n349        40706.1328           34196.625    Bedok Terrace Playground   \n\n              INC_CRC      FMEL_UPD_D  \n0    BC5EA394BD8CE9F8  20200218182414  \n1    AB31CCDD36F93C1C  20200218182414  \n2    7CAC664DFF94240C  20200218182414  \n3    8FC92F17CF75A88A  20200218182414  \n4    EB7459375A3D10F7  20200218182414  \n..                ...             ...  \n345  A7BB1BF496807A8B  20200218182414  \n346  5FEA22BCC48153DA  20200218182414  \n347  ACBC9E152D19BD06  20200218182414  \n348  43A081292A7AE024  20200218182414  \n349  7FFC95EC84EF2F0F  20200218182414  \n\n[350 rows x 5 columns]",
      "text/html": "<div>\n<style scoped>\n    .dataframe tbody tr th:only-of-type {\n        vertical-align: middle;\n    }\n\n    .dataframe tbody tr th {\n        vertical-align: top;\n    }\n\n    .dataframe thead th {\n        text-align: right;\n    }\n</style>\n<table border=\"1\" class=\"dataframe\">\n  <thead>\n    <tr style=\"text-align: right;\">\n      <th></th>\n      <th>LANDXADDRESSPOINT</th>\n      <th>LANDYADDRESSPOINT</th>\n      <th>NAME</th>\n      <th>INC_CRC</th>\n      <th>FMEL_UPD_D</th>\n    </tr>\n  </thead>\n  <tbody>\n    <tr>\n      <th>0</th>\n      <td>42193.6328</td>\n      <td>36479.08</td>\n      <td>Jalan Pelatok Open Space</td>\n      <td>BC5EA394BD8CE9F8</td>\n      <td>20200218182414</td>\n    </tr>\n    <tr>\n      <th>1</th>\n      <td>44210.12</td>\n      <td>41314.54</td>\n      <td>Turnhouse Park</td>\n      <td>AB31CCDD36F93C1C</td>\n      <td>20200218182414</td>\n    </tr>\n    <tr>\n      <th>2</th>\n      <td>37994.87</td>\n      <td>43526.7266</td>\n      <td>Coney Island Park</td>\n      <td>7CAC664DFF94240C</td>\n      <td>20200218182414</td>\n    </tr>\n    <tr>\n      <th>3</th>\n      <td>31744.6465</td>\n      <td>40134.5625</td>\n      <td>Stratton Walk Playground</td>\n      <td>8FC92F17CF75A88A</td>\n      <td>20200218182414</td>\n    </tr>\n    <tr>\n      <th>4</th>\n      <td>27527.52</td>\n      <td>39418.4531</td>\n      <td>Leban Park</td>\n      <td>EB7459375A3D10F7</td>\n      <td>20200218182414</td>\n    </tr>\n    <tr>\n      <th>...</th>\n      <td>...</td>\n      <td>...</td>\n      <td>...</td>\n      <td>...</td>\n      <td>...</td>\n    </tr>\n    <tr>\n      <th>345</th>\n      <td>34348.5273</td>\n      <td>38888.0625</td>\n      <td>Realty Park</td>\n      <td>A7BB1BF496807A8B</td>\n      <td>20200218182414</td>\n    </tr>\n    <tr>\n      <th>346</th>\n      <td>45346.4766</td>\n      <td>41344.2461</td>\n      <td>Changi Point Promenade</td>\n      <td>5FEA22BCC48153DA</td>\n      <td>20200218182414</td>\n    </tr>\n    <tr>\n      <th>347</th>\n      <td>33857.832</td>\n      <td>37476.270000000004</td>\n      <td>Aroozoo Avenue Playground</td>\n      <td>ACBC9E152D19BD06</td>\n      <td>20200218182414</td>\n    </tr>\n    <tr>\n      <th>348</th>\n      <td>35836.5352</td>\n      <td>41506.1133</td>\n      <td>St. Anne's Wood Playground</td>\n      <td>43A081292A7AE024</td>\n      <td>20200218182414</td>\n    </tr>\n    <tr>\n      <th>349</th>\n      <td>40706.1328</td>\n      <td>34196.625</td>\n      <td>Bedok Terrace Playground</td>\n      <td>7FFC95EC84EF2F0F</td>\n      <td>20200218182414</td>\n    </tr>\n  </tbody>\n</table>\n<p>350 rows × 5 columns</p>\n</div>"
     },
     "execution_count": 26,
     "metadata": {},
     "output_type": "execute_result"
    }
   ],
   "source": [
    "parks_descriptions.replace(r'^\\s*$', np.nan, regex=True, inplace=True)\n",
    "parks_descriptions.dropna(axis=1, inplace=True)\n",
    "parks_descriptions"
   ],
   "metadata": {
    "collapsed": false,
    "pycharm": {
     "name": "#%%\n"
    }
   }
  },
  {
   "cell_type": "code",
   "execution_count": 29,
   "outputs": [
    {
     "data": {
      "text/plain": "          ID                                        Description  \\\n0      kml_1  <center><table><tr><th colspan='2' align='cent...   \n1      kml_2  <center><table><tr><th colspan='2' align='cent...   \n2      kml_3  <center><table><tr><th colspan='2' align='cent...   \n3      kml_4  <center><table><tr><th colspan='2' align='cent...   \n4      kml_5  <center><table><tr><th colspan='2' align='cent...   \n..       ...                                                ...   \n345  kml_346  <center><table><tr><th colspan='2' align='cent...   \n346  kml_347  <center><table><tr><th colspan='2' align='cent...   \n347  kml_348  <center><table><tr><th colspan='2' align='cent...   \n348  kml_349  <center><table><tr><th colspan='2' align='cent...   \n349  kml_350  <center><table><tr><th colspan='2' align='cent...   \n\n                      geometry LANDXADDRESSPOINT   LANDYADDRESSPOINT  \\\n0    POINT (1.34618 103.96086)        42193.6328            36479.08   \n1    POINT (1.38990 103.97898)          44210.12            41314.54   \n2    POINT (1.40991 103.92313)          37994.87          43526.7266   \n3    POINT (1.37924 103.86697)        31744.6465          40134.5625   \n4    POINT (1.37276 103.82907)          27527.52          39418.4531   \n..                         ...               ...                 ...   \n345  POINT (1.36796 103.89036)        34348.5273          38888.0625   \n346  POINT (1.39017 103.98919)        45346.4766          41344.2461   \n347  POINT (1.35520 103.88595)         33857.832  37476.270000000004   \n348  POINT (1.39164 103.90374)        35836.5352          41506.1133   \n349  POINT (1.32553 103.94749)        40706.1328           34196.625   \n\n                           NAME           INC_CRC      FMEL_UPD_D  \n0      Jalan Pelatok Open Space  BC5EA394BD8CE9F8  20200218182414  \n1                Turnhouse Park  AB31CCDD36F93C1C  20200218182414  \n2             Coney Island Park  7CAC664DFF94240C  20200218182414  \n3      Stratton Walk Playground  8FC92F17CF75A88A  20200218182414  \n4                    Leban Park  EB7459375A3D10F7  20200218182414  \n..                          ...               ...             ...  \n345                 Realty Park  A7BB1BF496807A8B  20200218182414  \n346      Changi Point Promenade  5FEA22BCC48153DA  20200218182414  \n347   Aroozoo Avenue Playground  ACBC9E152D19BD06  20200218182414  \n348  St. Anne's Wood Playground  43A081292A7AE024  20200218182414  \n349    Bedok Terrace Playground  7FFC95EC84EF2F0F  20200218182414  \n\n[350 rows x 8 columns]",
      "text/html": "<div>\n<style scoped>\n    .dataframe tbody tr th:only-of-type {\n        vertical-align: middle;\n    }\n\n    .dataframe tbody tr th {\n        vertical-align: top;\n    }\n\n    .dataframe thead th {\n        text-align: right;\n    }\n</style>\n<table border=\"1\" class=\"dataframe\">\n  <thead>\n    <tr style=\"text-align: right;\">\n      <th></th>\n      <th>ID</th>\n      <th>Description</th>\n      <th>geometry</th>\n      <th>LANDXADDRESSPOINT</th>\n      <th>LANDYADDRESSPOINT</th>\n      <th>NAME</th>\n      <th>INC_CRC</th>\n      <th>FMEL_UPD_D</th>\n    </tr>\n  </thead>\n  <tbody>\n    <tr>\n      <th>0</th>\n      <td>kml_1</td>\n      <td>&lt;center&gt;&lt;table&gt;&lt;tr&gt;&lt;th colspan='2' align='cent...</td>\n      <td>POINT (1.34618 103.96086)</td>\n      <td>42193.6328</td>\n      <td>36479.08</td>\n      <td>Jalan Pelatok Open Space</td>\n      <td>BC5EA394BD8CE9F8</td>\n      <td>20200218182414</td>\n    </tr>\n    <tr>\n      <th>1</th>\n      <td>kml_2</td>\n      <td>&lt;center&gt;&lt;table&gt;&lt;tr&gt;&lt;th colspan='2' align='cent...</td>\n      <td>POINT (1.38990 103.97898)</td>\n      <td>44210.12</td>\n      <td>41314.54</td>\n      <td>Turnhouse Park</td>\n      <td>AB31CCDD36F93C1C</td>\n      <td>20200218182414</td>\n    </tr>\n    <tr>\n      <th>2</th>\n      <td>kml_3</td>\n      <td>&lt;center&gt;&lt;table&gt;&lt;tr&gt;&lt;th colspan='2' align='cent...</td>\n      <td>POINT (1.40991 103.92313)</td>\n      <td>37994.87</td>\n      <td>43526.7266</td>\n      <td>Coney Island Park</td>\n      <td>7CAC664DFF94240C</td>\n      <td>20200218182414</td>\n    </tr>\n    <tr>\n      <th>3</th>\n      <td>kml_4</td>\n      <td>&lt;center&gt;&lt;table&gt;&lt;tr&gt;&lt;th colspan='2' align='cent...</td>\n      <td>POINT (1.37924 103.86697)</td>\n      <td>31744.6465</td>\n      <td>40134.5625</td>\n      <td>Stratton Walk Playground</td>\n      <td>8FC92F17CF75A88A</td>\n      <td>20200218182414</td>\n    </tr>\n    <tr>\n      <th>4</th>\n      <td>kml_5</td>\n      <td>&lt;center&gt;&lt;table&gt;&lt;tr&gt;&lt;th colspan='2' align='cent...</td>\n      <td>POINT (1.37276 103.82907)</td>\n      <td>27527.52</td>\n      <td>39418.4531</td>\n      <td>Leban Park</td>\n      <td>EB7459375A3D10F7</td>\n      <td>20200218182414</td>\n    </tr>\n    <tr>\n      <th>...</th>\n      <td>...</td>\n      <td>...</td>\n      <td>...</td>\n      <td>...</td>\n      <td>...</td>\n      <td>...</td>\n      <td>...</td>\n      <td>...</td>\n    </tr>\n    <tr>\n      <th>345</th>\n      <td>kml_346</td>\n      <td>&lt;center&gt;&lt;table&gt;&lt;tr&gt;&lt;th colspan='2' align='cent...</td>\n      <td>POINT (1.36796 103.89036)</td>\n      <td>34348.5273</td>\n      <td>38888.0625</td>\n      <td>Realty Park</td>\n      <td>A7BB1BF496807A8B</td>\n      <td>20200218182414</td>\n    </tr>\n    <tr>\n      <th>346</th>\n      <td>kml_347</td>\n      <td>&lt;center&gt;&lt;table&gt;&lt;tr&gt;&lt;th colspan='2' align='cent...</td>\n      <td>POINT (1.39017 103.98919)</td>\n      <td>45346.4766</td>\n      <td>41344.2461</td>\n      <td>Changi Point Promenade</td>\n      <td>5FEA22BCC48153DA</td>\n      <td>20200218182414</td>\n    </tr>\n    <tr>\n      <th>347</th>\n      <td>kml_348</td>\n      <td>&lt;center&gt;&lt;table&gt;&lt;tr&gt;&lt;th colspan='2' align='cent...</td>\n      <td>POINT (1.35520 103.88595)</td>\n      <td>33857.832</td>\n      <td>37476.270000000004</td>\n      <td>Aroozoo Avenue Playground</td>\n      <td>ACBC9E152D19BD06</td>\n      <td>20200218182414</td>\n    </tr>\n    <tr>\n      <th>348</th>\n      <td>kml_349</td>\n      <td>&lt;center&gt;&lt;table&gt;&lt;tr&gt;&lt;th colspan='2' align='cent...</td>\n      <td>POINT (1.39164 103.90374)</td>\n      <td>35836.5352</td>\n      <td>41506.1133</td>\n      <td>St. Anne's Wood Playground</td>\n      <td>43A081292A7AE024</td>\n      <td>20200218182414</td>\n    </tr>\n    <tr>\n      <th>349</th>\n      <td>kml_350</td>\n      <td>&lt;center&gt;&lt;table&gt;&lt;tr&gt;&lt;th colspan='2' align='cent...</td>\n      <td>POINT (1.32553 103.94749)</td>\n      <td>40706.1328</td>\n      <td>34196.625</td>\n      <td>Bedok Terrace Playground</td>\n      <td>7FFC95EC84EF2F0F</td>\n      <td>20200218182414</td>\n    </tr>\n  </tbody>\n</table>\n<p>350 rows × 8 columns</p>\n</div>"
     },
     "execution_count": 29,
     "metadata": {},
     "output_type": "execute_result"
    }
   ],
   "source": [
    "parks.rename({'Name': 'ID'}, axis=1, inplace=True)\n",
    "parks_full = parks.merge(parks_descriptions, left_index=True, right_index=True)\n",
    "parks_full"
   ],
   "metadata": {
    "collapsed": false,
    "pycharm": {
     "name": "#%%\n"
    }
   }
  },
  {
   "cell_type": "code",
   "execution_count": 32,
   "outputs": [
    {
     "data": {
      "text/plain": "          id landxaddresspoint   landyaddresspoint  \\\n0      kml_1        42193.6328            36479.08   \n1      kml_2          44210.12            41314.54   \n2      kml_3          37994.87          43526.7266   \n3      kml_4        31744.6465          40134.5625   \n4      kml_5          27527.52          39418.4531   \n..       ...               ...                 ...   \n345  kml_346        34348.5273          38888.0625   \n346  kml_347        45346.4766          41344.2461   \n347  kml_348         33857.832  37476.270000000004   \n348  kml_349        35836.5352          41506.1133   \n349  kml_350        40706.1328           34196.625   \n\n                           name           inc_crc      fmel_upd_d  \\\n0      Jalan Pelatok Open Space  BC5EA394BD8CE9F8  20200218182414   \n1                Turnhouse Park  AB31CCDD36F93C1C  20200218182414   \n2             Coney Island Park  7CAC664DFF94240C  20200218182414   \n3      Stratton Walk Playground  8FC92F17CF75A88A  20200218182414   \n4                    Leban Park  EB7459375A3D10F7  20200218182414   \n..                          ...               ...             ...   \n345                 Realty Park  A7BB1BF496807A8B  20200218182414   \n346      Changi Point Promenade  5FEA22BCC48153DA  20200218182414   \n347   Aroozoo Avenue Playground  ACBC9E152D19BD06  20200218182414   \n348  St. Anne's Wood Playground  43A081292A7AE024  20200218182414   \n349    Bedok Terrace Playground  7FFC95EC84EF2F0F  20200218182414   \n\n                      geometry  \n0    POINT (1.34618 103.96086)  \n1    POINT (1.38990 103.97898)  \n2    POINT (1.40991 103.92313)  \n3    POINT (1.37924 103.86697)  \n4    POINT (1.37276 103.82907)  \n..                         ...  \n345  POINT (1.36796 103.89036)  \n346  POINT (1.39017 103.98919)  \n347  POINT (1.35520 103.88595)  \n348  POINT (1.39164 103.90374)  \n349  POINT (1.32553 103.94749)  \n\n[350 rows x 7 columns]",
      "text/html": "<div>\n<style scoped>\n    .dataframe tbody tr th:only-of-type {\n        vertical-align: middle;\n    }\n\n    .dataframe tbody tr th {\n        vertical-align: top;\n    }\n\n    .dataframe thead th {\n        text-align: right;\n    }\n</style>\n<table border=\"1\" class=\"dataframe\">\n  <thead>\n    <tr style=\"text-align: right;\">\n      <th></th>\n      <th>id</th>\n      <th>landxaddresspoint</th>\n      <th>landyaddresspoint</th>\n      <th>name</th>\n      <th>inc_crc</th>\n      <th>fmel_upd_d</th>\n      <th>geometry</th>\n    </tr>\n  </thead>\n  <tbody>\n    <tr>\n      <th>0</th>\n      <td>kml_1</td>\n      <td>42193.6328</td>\n      <td>36479.08</td>\n      <td>Jalan Pelatok Open Space</td>\n      <td>BC5EA394BD8CE9F8</td>\n      <td>20200218182414</td>\n      <td>POINT (1.34618 103.96086)</td>\n    </tr>\n    <tr>\n      <th>1</th>\n      <td>kml_2</td>\n      <td>44210.12</td>\n      <td>41314.54</td>\n      <td>Turnhouse Park</td>\n      <td>AB31CCDD36F93C1C</td>\n      <td>20200218182414</td>\n      <td>POINT (1.38990 103.97898)</td>\n    </tr>\n    <tr>\n      <th>2</th>\n      <td>kml_3</td>\n      <td>37994.87</td>\n      <td>43526.7266</td>\n      <td>Coney Island Park</td>\n      <td>7CAC664DFF94240C</td>\n      <td>20200218182414</td>\n      <td>POINT (1.40991 103.92313)</td>\n    </tr>\n    <tr>\n      <th>3</th>\n      <td>kml_4</td>\n      <td>31744.6465</td>\n      <td>40134.5625</td>\n      <td>Stratton Walk Playground</td>\n      <td>8FC92F17CF75A88A</td>\n      <td>20200218182414</td>\n      <td>POINT (1.37924 103.86697)</td>\n    </tr>\n    <tr>\n      <th>4</th>\n      <td>kml_5</td>\n      <td>27527.52</td>\n      <td>39418.4531</td>\n      <td>Leban Park</td>\n      <td>EB7459375A3D10F7</td>\n      <td>20200218182414</td>\n      <td>POINT (1.37276 103.82907)</td>\n    </tr>\n    <tr>\n      <th>...</th>\n      <td>...</td>\n      <td>...</td>\n      <td>...</td>\n      <td>...</td>\n      <td>...</td>\n      <td>...</td>\n      <td>...</td>\n    </tr>\n    <tr>\n      <th>345</th>\n      <td>kml_346</td>\n      <td>34348.5273</td>\n      <td>38888.0625</td>\n      <td>Realty Park</td>\n      <td>A7BB1BF496807A8B</td>\n      <td>20200218182414</td>\n      <td>POINT (1.36796 103.89036)</td>\n    </tr>\n    <tr>\n      <th>346</th>\n      <td>kml_347</td>\n      <td>45346.4766</td>\n      <td>41344.2461</td>\n      <td>Changi Point Promenade</td>\n      <td>5FEA22BCC48153DA</td>\n      <td>20200218182414</td>\n      <td>POINT (1.39017 103.98919)</td>\n    </tr>\n    <tr>\n      <th>347</th>\n      <td>kml_348</td>\n      <td>33857.832</td>\n      <td>37476.270000000004</td>\n      <td>Aroozoo Avenue Playground</td>\n      <td>ACBC9E152D19BD06</td>\n      <td>20200218182414</td>\n      <td>POINT (1.35520 103.88595)</td>\n    </tr>\n    <tr>\n      <th>348</th>\n      <td>kml_349</td>\n      <td>35836.5352</td>\n      <td>41506.1133</td>\n      <td>St. Anne's Wood Playground</td>\n      <td>43A081292A7AE024</td>\n      <td>20200218182414</td>\n      <td>POINT (1.39164 103.90374)</td>\n    </tr>\n    <tr>\n      <th>349</th>\n      <td>kml_350</td>\n      <td>40706.1328</td>\n      <td>34196.625</td>\n      <td>Bedok Terrace Playground</td>\n      <td>7FFC95EC84EF2F0F</td>\n      <td>20200218182414</td>\n      <td>POINT (1.32553 103.94749)</td>\n    </tr>\n  </tbody>\n</table>\n<p>350 rows × 7 columns</p>\n</div>"
     },
     "execution_count": 32,
     "metadata": {},
     "output_type": "execute_result"
    }
   ],
   "source": [
    "parks_full = parks_full[['ID', 'LANDXADDRESSPOINT',\n",
    "                         'LANDYADDRESSPOINT', 'NAME', 'INC_CRC', 'FMEL_UPD_D', 'geometry']]\n",
    "parks_full.columns = [col.lower() for col in parks_full.columns]\n",
    "parks_full"
   ],
   "metadata": {
    "collapsed": false,
    "pycharm": {
     "name": "#%%\n"
    }
   }
  },
  {
   "cell_type": "code",
   "execution_count": 41,
   "outputs": [],
   "source": [
    "engine = create_engine(f'postgresql+psycopg2://{Capstone_AWS_PG.username}:{Capstone_AWS_PG.password}@{Capstone_AWS_PG.host}/capstone', echo=False)\n",
    "\n",
    "sql_alc_cnxn = engine.connect()\n",
    "\n",
    "# parks_full.to_postgis('parks_points', sql_alc_cnxn, if_exists='replace', index=False)\n",
    "\n",
    "parks_full.to_postgis('parks_points',engine, if_exists='replace', index=False, dtype={'geometry': Geometry(geometry_type='POINT', srid= 4326)})\n",
    "\n",
    "sql_alc_cnxn.close()"
   ],
   "metadata": {
    "collapsed": false,
    "pycharm": {
     "name": "#%%\n"
    }
   }
  },
  {
   "cell_type": "markdown",
   "source": [
    "# Parks and Open Space"
   ],
   "metadata": {
    "collapsed": false,
    "pycharm": {
     "name": "#%% md\n"
    }
   }
  },
  {
   "cell_type": "code",
   "source": [
    "pos = gpd.read_file('../data/parks-and-open-space/mp14-sdcp-pw-plan-parks-and-open-space-shp/G_MP14_PKWB_PARKS_PL.shp')\n",
    "pos"
   ],
   "metadata": {
    "collapsed": false,
    "pycharm": {
     "name": "#%%\n"
    }
   },
   "execution_count": 36,
   "outputs": [
    {
     "data": {
      "text/plain": "      OBJECTID  OID_1          CLASSIFCTN PRP_STATUS           INC_CRC  \\\n0            1      0  NEIGHBOURHOOD PARK   EXISTING  592C7550177BF268   \n1            2      0  NEIGHBOURHOOD PARK   EXISTING  E9A1AC47C9DC8698   \n2            3      0  NEIGHBOURHOOD PARK   EXISTING  D7DF045D6805B00D   \n3            4      0  NEIGHBOURHOOD PARK   EXISTING  F9D174E1E0E0111C   \n4            5      0  NEIGHBOURHOOD PARK   EXISTING  C399D41D7CB9B4A5   \n...        ...    ...                 ...        ...               ...   \n1102      1103      0         MARINE PARK    PLANNED  3A8CBA5EE0DFA259   \n1103      1104      0  NEIGHBOURHOOD PARK    PLANNED  5F7F93191F2E4D83   \n1104      1105      0       REGIONAL PARK   EXISTING  740FE78FC19EC02A   \n1105      1106      0       REGIONAL PARK    PLANNED  3599F642FE503E51   \n1106      1107      0  NEIGHBOURHOOD PARK    PLANNED  A028153167251213   \n\n      FMEL_UPD_D      X_ADDR      Y_ADDR   SHAPE_Leng     SHAPE_Area  \\\n0     2016-07-18  27919.5872  45166.4263   283.063527    3193.830838   \n1     2016-07-18  23205.8335  46915.3998   887.637083   19909.684922   \n2     2016-07-18  24735.6118  47398.1171   503.291711   14221.679594   \n3     2016-07-18  24305.6678  46590.1864   942.984201   16383.964451   \n4     2016-07-18  15074.8532  35773.5449   376.819317    1840.105171   \n...          ...         ...         ...          ...            ...   \n1102  2016-07-18  29449.7895  22378.3747  3421.757359  107711.294857   \n1103  2016-07-18  24580.0774  29060.4320   339.151069    6169.308722   \n1104  2016-07-18  26065.4119  32926.0370  4962.018398  529242.527514   \n1105  2016-07-18  25464.4604  32890.8773  1522.745875   79886.842508   \n1106  2016-07-18  39337.1603  38548.9553   294.182959    5003.518209   \n\n                                               geometry  \n0     POLYGON ((27976.462 45177.981, 27975.009 45149...  \n1     POLYGON ((23058.397 46880.819, 23058.405 46880...  \n2     POLYGON ((24754.238 47345.751, 24748.268 47342...  \n3     POLYGON ((24481.037 46693.444, 24453.464 46681...  \n4     POLYGON ((15134.200 35814.452, 15127.450 35810...  \n...                                                 ...  \n1102  POLYGON ((29653.515 22183.275, 29652.952 22173...  \n1103  POLYGON ((24581.417 29132.692, 24606.464 29077...  \n1104  POLYGON ((26014.034 33875.224, 26068.901 33869...  \n1105  POLYGON ((25393.986 33101.766, 25410.965 33087...  \n1106  POLYGON ((39381.553 38521.448, 39294.376 38521...  \n\n[1107 rows x 11 columns]",
      "text/html": "<div>\n<style scoped>\n    .dataframe tbody tr th:only-of-type {\n        vertical-align: middle;\n    }\n\n    .dataframe tbody tr th {\n        vertical-align: top;\n    }\n\n    .dataframe thead th {\n        text-align: right;\n    }\n</style>\n<table border=\"1\" class=\"dataframe\">\n  <thead>\n    <tr style=\"text-align: right;\">\n      <th></th>\n      <th>OBJECTID</th>\n      <th>OID_1</th>\n      <th>CLASSIFCTN</th>\n      <th>PRP_STATUS</th>\n      <th>INC_CRC</th>\n      <th>FMEL_UPD_D</th>\n      <th>X_ADDR</th>\n      <th>Y_ADDR</th>\n      <th>SHAPE_Leng</th>\n      <th>SHAPE_Area</th>\n      <th>geometry</th>\n    </tr>\n  </thead>\n  <tbody>\n    <tr>\n      <th>0</th>\n      <td>1</td>\n      <td>0</td>\n      <td>NEIGHBOURHOOD PARK</td>\n      <td>EXISTING</td>\n      <td>592C7550177BF268</td>\n      <td>2016-07-18</td>\n      <td>27919.5872</td>\n      <td>45166.4263</td>\n      <td>283.063527</td>\n      <td>3193.830838</td>\n      <td>POLYGON ((27976.462 45177.981, 27975.009 45149...</td>\n    </tr>\n    <tr>\n      <th>1</th>\n      <td>2</td>\n      <td>0</td>\n      <td>NEIGHBOURHOOD PARK</td>\n      <td>EXISTING</td>\n      <td>E9A1AC47C9DC8698</td>\n      <td>2016-07-18</td>\n      <td>23205.8335</td>\n      <td>46915.3998</td>\n      <td>887.637083</td>\n      <td>19909.684922</td>\n      <td>POLYGON ((23058.397 46880.819, 23058.405 46880...</td>\n    </tr>\n    <tr>\n      <th>2</th>\n      <td>3</td>\n      <td>0</td>\n      <td>NEIGHBOURHOOD PARK</td>\n      <td>EXISTING</td>\n      <td>D7DF045D6805B00D</td>\n      <td>2016-07-18</td>\n      <td>24735.6118</td>\n      <td>47398.1171</td>\n      <td>503.291711</td>\n      <td>14221.679594</td>\n      <td>POLYGON ((24754.238 47345.751, 24748.268 47342...</td>\n    </tr>\n    <tr>\n      <th>3</th>\n      <td>4</td>\n      <td>0</td>\n      <td>NEIGHBOURHOOD PARK</td>\n      <td>EXISTING</td>\n      <td>F9D174E1E0E0111C</td>\n      <td>2016-07-18</td>\n      <td>24305.6678</td>\n      <td>46590.1864</td>\n      <td>942.984201</td>\n      <td>16383.964451</td>\n      <td>POLYGON ((24481.037 46693.444, 24453.464 46681...</td>\n    </tr>\n    <tr>\n      <th>4</th>\n      <td>5</td>\n      <td>0</td>\n      <td>NEIGHBOURHOOD PARK</td>\n      <td>EXISTING</td>\n      <td>C399D41D7CB9B4A5</td>\n      <td>2016-07-18</td>\n      <td>15074.8532</td>\n      <td>35773.5449</td>\n      <td>376.819317</td>\n      <td>1840.105171</td>\n      <td>POLYGON ((15134.200 35814.452, 15127.450 35810...</td>\n    </tr>\n    <tr>\n      <th>...</th>\n      <td>...</td>\n      <td>...</td>\n      <td>...</td>\n      <td>...</td>\n      <td>...</td>\n      <td>...</td>\n      <td>...</td>\n      <td>...</td>\n      <td>...</td>\n      <td>...</td>\n      <td>...</td>\n    </tr>\n    <tr>\n      <th>1102</th>\n      <td>1103</td>\n      <td>0</td>\n      <td>MARINE PARK</td>\n      <td>PLANNED</td>\n      <td>3A8CBA5EE0DFA259</td>\n      <td>2016-07-18</td>\n      <td>29449.7895</td>\n      <td>22378.3747</td>\n      <td>3421.757359</td>\n      <td>107711.294857</td>\n      <td>POLYGON ((29653.515 22183.275, 29652.952 22173...</td>\n    </tr>\n    <tr>\n      <th>1103</th>\n      <td>1104</td>\n      <td>0</td>\n      <td>NEIGHBOURHOOD PARK</td>\n      <td>PLANNED</td>\n      <td>5F7F93191F2E4D83</td>\n      <td>2016-07-18</td>\n      <td>24580.0774</td>\n      <td>29060.4320</td>\n      <td>339.151069</td>\n      <td>6169.308722</td>\n      <td>POLYGON ((24581.417 29132.692, 24606.464 29077...</td>\n    </tr>\n    <tr>\n      <th>1104</th>\n      <td>1105</td>\n      <td>0</td>\n      <td>REGIONAL PARK</td>\n      <td>EXISTING</td>\n      <td>740FE78FC19EC02A</td>\n      <td>2016-07-18</td>\n      <td>26065.4119</td>\n      <td>32926.0370</td>\n      <td>4962.018398</td>\n      <td>529242.527514</td>\n      <td>POLYGON ((26014.034 33875.224, 26068.901 33869...</td>\n    </tr>\n    <tr>\n      <th>1105</th>\n      <td>1106</td>\n      <td>0</td>\n      <td>REGIONAL PARK</td>\n      <td>PLANNED</td>\n      <td>3599F642FE503E51</td>\n      <td>2016-07-18</td>\n      <td>25464.4604</td>\n      <td>32890.8773</td>\n      <td>1522.745875</td>\n      <td>79886.842508</td>\n      <td>POLYGON ((25393.986 33101.766, 25410.965 33087...</td>\n    </tr>\n    <tr>\n      <th>1106</th>\n      <td>1107</td>\n      <td>0</td>\n      <td>NEIGHBOURHOOD PARK</td>\n      <td>PLANNED</td>\n      <td>A028153167251213</td>\n      <td>2016-07-18</td>\n      <td>39337.1603</td>\n      <td>38548.9553</td>\n      <td>294.182959</td>\n      <td>5003.518209</td>\n      <td>POLYGON ((39381.553 38521.448, 39294.376 38521...</td>\n    </tr>\n  </tbody>\n</table>\n<p>1107 rows × 11 columns</p>\n</div>"
     },
     "execution_count": 36,
     "metadata": {},
     "output_type": "execute_result"
    }
   ]
  },
  {
   "cell_type": "code",
   "execution_count": 37,
   "outputs": [
    {
     "data": {
      "text/plain": "      OBJECTID  OID_1          CLASSIFCTN PRP_STATUS           INC_CRC  \\\n0            1      0  NEIGHBOURHOOD PARK   EXISTING  592C7550177BF268   \n1            2      0  NEIGHBOURHOOD PARK   EXISTING  E9A1AC47C9DC8698   \n2            3      0  NEIGHBOURHOOD PARK   EXISTING  D7DF045D6805B00D   \n3            4      0  NEIGHBOURHOOD PARK   EXISTING  F9D174E1E0E0111C   \n4            5      0  NEIGHBOURHOOD PARK   EXISTING  C399D41D7CB9B4A5   \n...        ...    ...                 ...        ...               ...   \n1102      1103      0         MARINE PARK    PLANNED  3A8CBA5EE0DFA259   \n1103      1104      0  NEIGHBOURHOOD PARK    PLANNED  5F7F93191F2E4D83   \n1104      1105      0       REGIONAL PARK   EXISTING  740FE78FC19EC02A   \n1105      1106      0       REGIONAL PARK    PLANNED  3599F642FE503E51   \n1106      1107      0  NEIGHBOURHOOD PARK    PLANNED  A028153167251213   \n\n      FMEL_UPD_D      X_ADDR      Y_ADDR   SHAPE_Leng     SHAPE_Area  \\\n0     2016-07-18  27919.5872  45166.4263   283.063527    3193.830838   \n1     2016-07-18  23205.8335  46915.3998   887.637083   19909.684922   \n2     2016-07-18  24735.6118  47398.1171   503.291711   14221.679594   \n3     2016-07-18  24305.6678  46590.1864   942.984201   16383.964451   \n4     2016-07-18  15074.8532  35773.5449   376.819317    1840.105171   \n...          ...         ...         ...          ...            ...   \n1102  2016-07-18  29449.7895  22378.3747  3421.757359  107711.294857   \n1103  2016-07-18  24580.0774  29060.4320   339.151069    6169.308722   \n1104  2016-07-18  26065.4119  32926.0370  4962.018398  529242.527514   \n1105  2016-07-18  25464.4604  32890.8773  1522.745875   79886.842508   \n1106  2016-07-18  39337.1603  38548.9553   294.182959    5003.518209   \n\n                                               geometry  \n0     POLYGON ((103.83311 1.42485, 103.83309 1.42459...  \n1     POLYGON ((103.78891 1.44025, 103.78891 1.44025...  \n2     POLYGON ((103.80415 1.44445, 103.80410 1.44443...  \n3     POLYGON ((103.80170 1.43855, 103.80145 1.43844...  \n4     POLYGON ((103.71771 1.34016, 103.71765 1.34013...  \n...                                                 ...  \n1102  POLYGON ((103.84818 1.21689, 103.84817 1.21680...  \n1103  POLYGON ((103.80260 1.27974, 103.80283 1.27924...  \n1104  POLYGON ((103.81547 1.32263, 103.81597 1.32258...  \n1105  POLYGON ((103.80990 1.31564, 103.81005 1.31550...  \n1106  POLYGON ((103.93559 1.36465, 103.93481 1.36465...  \n\n[1107 rows x 11 columns]",
      "text/html": "<div>\n<style scoped>\n    .dataframe tbody tr th:only-of-type {\n        vertical-align: middle;\n    }\n\n    .dataframe tbody tr th {\n        vertical-align: top;\n    }\n\n    .dataframe thead th {\n        text-align: right;\n    }\n</style>\n<table border=\"1\" class=\"dataframe\">\n  <thead>\n    <tr style=\"text-align: right;\">\n      <th></th>\n      <th>OBJECTID</th>\n      <th>OID_1</th>\n      <th>CLASSIFCTN</th>\n      <th>PRP_STATUS</th>\n      <th>INC_CRC</th>\n      <th>FMEL_UPD_D</th>\n      <th>X_ADDR</th>\n      <th>Y_ADDR</th>\n      <th>SHAPE_Leng</th>\n      <th>SHAPE_Area</th>\n      <th>geometry</th>\n    </tr>\n  </thead>\n  <tbody>\n    <tr>\n      <th>0</th>\n      <td>1</td>\n      <td>0</td>\n      <td>NEIGHBOURHOOD PARK</td>\n      <td>EXISTING</td>\n      <td>592C7550177BF268</td>\n      <td>2016-07-18</td>\n      <td>27919.5872</td>\n      <td>45166.4263</td>\n      <td>283.063527</td>\n      <td>3193.830838</td>\n      <td>POLYGON ((103.83311 1.42485, 103.83309 1.42459...</td>\n    </tr>\n    <tr>\n      <th>1</th>\n      <td>2</td>\n      <td>0</td>\n      <td>NEIGHBOURHOOD PARK</td>\n      <td>EXISTING</td>\n      <td>E9A1AC47C9DC8698</td>\n      <td>2016-07-18</td>\n      <td>23205.8335</td>\n      <td>46915.3998</td>\n      <td>887.637083</td>\n      <td>19909.684922</td>\n      <td>POLYGON ((103.78891 1.44025, 103.78891 1.44025...</td>\n    </tr>\n    <tr>\n      <th>2</th>\n      <td>3</td>\n      <td>0</td>\n      <td>NEIGHBOURHOOD PARK</td>\n      <td>EXISTING</td>\n      <td>D7DF045D6805B00D</td>\n      <td>2016-07-18</td>\n      <td>24735.6118</td>\n      <td>47398.1171</td>\n      <td>503.291711</td>\n      <td>14221.679594</td>\n      <td>POLYGON ((103.80415 1.44445, 103.80410 1.44443...</td>\n    </tr>\n    <tr>\n      <th>3</th>\n      <td>4</td>\n      <td>0</td>\n      <td>NEIGHBOURHOOD PARK</td>\n      <td>EXISTING</td>\n      <td>F9D174E1E0E0111C</td>\n      <td>2016-07-18</td>\n      <td>24305.6678</td>\n      <td>46590.1864</td>\n      <td>942.984201</td>\n      <td>16383.964451</td>\n      <td>POLYGON ((103.80170 1.43855, 103.80145 1.43844...</td>\n    </tr>\n    <tr>\n      <th>4</th>\n      <td>5</td>\n      <td>0</td>\n      <td>NEIGHBOURHOOD PARK</td>\n      <td>EXISTING</td>\n      <td>C399D41D7CB9B4A5</td>\n      <td>2016-07-18</td>\n      <td>15074.8532</td>\n      <td>35773.5449</td>\n      <td>376.819317</td>\n      <td>1840.105171</td>\n      <td>POLYGON ((103.71771 1.34016, 103.71765 1.34013...</td>\n    </tr>\n    <tr>\n      <th>...</th>\n      <td>...</td>\n      <td>...</td>\n      <td>...</td>\n      <td>...</td>\n      <td>...</td>\n      <td>...</td>\n      <td>...</td>\n      <td>...</td>\n      <td>...</td>\n      <td>...</td>\n      <td>...</td>\n    </tr>\n    <tr>\n      <th>1102</th>\n      <td>1103</td>\n      <td>0</td>\n      <td>MARINE PARK</td>\n      <td>PLANNED</td>\n      <td>3A8CBA5EE0DFA259</td>\n      <td>2016-07-18</td>\n      <td>29449.7895</td>\n      <td>22378.3747</td>\n      <td>3421.757359</td>\n      <td>107711.294857</td>\n      <td>POLYGON ((103.84818 1.21689, 103.84817 1.21680...</td>\n    </tr>\n    <tr>\n      <th>1103</th>\n      <td>1104</td>\n      <td>0</td>\n      <td>NEIGHBOURHOOD PARK</td>\n      <td>PLANNED</td>\n      <td>5F7F93191F2E4D83</td>\n      <td>2016-07-18</td>\n      <td>24580.0774</td>\n      <td>29060.4320</td>\n      <td>339.151069</td>\n      <td>6169.308722</td>\n      <td>POLYGON ((103.80260 1.27974, 103.80283 1.27924...</td>\n    </tr>\n    <tr>\n      <th>1104</th>\n      <td>1105</td>\n      <td>0</td>\n      <td>REGIONAL PARK</td>\n      <td>EXISTING</td>\n      <td>740FE78FC19EC02A</td>\n      <td>2016-07-18</td>\n      <td>26065.4119</td>\n      <td>32926.0370</td>\n      <td>4962.018398</td>\n      <td>529242.527514</td>\n      <td>POLYGON ((103.81547 1.32263, 103.81597 1.32258...</td>\n    </tr>\n    <tr>\n      <th>1105</th>\n      <td>1106</td>\n      <td>0</td>\n      <td>REGIONAL PARK</td>\n      <td>PLANNED</td>\n      <td>3599F642FE503E51</td>\n      <td>2016-07-18</td>\n      <td>25464.4604</td>\n      <td>32890.8773</td>\n      <td>1522.745875</td>\n      <td>79886.842508</td>\n      <td>POLYGON ((103.80990 1.31564, 103.81005 1.31550...</td>\n    </tr>\n    <tr>\n      <th>1106</th>\n      <td>1107</td>\n      <td>0</td>\n      <td>NEIGHBOURHOOD PARK</td>\n      <td>PLANNED</td>\n      <td>A028153167251213</td>\n      <td>2016-07-18</td>\n      <td>39337.1603</td>\n      <td>38548.9553</td>\n      <td>294.182959</td>\n      <td>5003.518209</td>\n      <td>POLYGON ((103.93559 1.36465, 103.93481 1.36465...</td>\n    </tr>\n  </tbody>\n</table>\n<p>1107 rows × 11 columns</p>\n</div>"
     },
     "execution_count": 37,
     "metadata": {},
     "output_type": "execute_result"
    }
   ],
   "source": [
    "pos = pos.to_crs(4326)\n",
    "pos"
   ],
   "metadata": {
    "collapsed": false,
    "pycharm": {
     "name": "#%%\n"
    }
   }
  },
  {
   "cell_type": "code",
   "execution_count": 38,
   "outputs": [
    {
     "data": {
      "text/plain": "OBJECTID         int64\nOID_1            int64\nCLASSIFCTN      object\nPRP_STATUS      object\nINC_CRC         object\nFMEL_UPD_D      object\nX_ADDR         float64\nY_ADDR         float64\nSHAPE_Leng     float64\nSHAPE_Area     float64\ngeometry      geometry\ndtype: object"
     },
     "execution_count": 38,
     "metadata": {},
     "output_type": "execute_result"
    }
   ],
   "source": [
    "pos.dtypes"
   ],
   "metadata": {
    "collapsed": false,
    "pycharm": {
     "name": "#%%\n"
    }
   }
  },
  {
   "cell_type": "code",
   "execution_count": 40,
   "outputs": [],
   "source": [
    "pos.to_postgis('parks_open_space_poly',engine, if_exists='replace', index=False, dtype={'geometry': Geometry(geometry_type='POLYGON', srid= 4326)})"
   ],
   "metadata": {
    "collapsed": false,
    "pycharm": {
     "name": "#%%\n"
    }
   }
  },
  {
   "cell_type": "code",
   "execution_count": null,
   "outputs": [],
   "source": [],
   "metadata": {
    "collapsed": false,
    "pycharm": {
     "name": "#%%\n"
    }
   }
  }
 ],
 "metadata": {
  "kernelspec": {
   "display_name": "Python 3",
   "language": "python",
   "name": "python3"
  },
  "language_info": {
   "codemirror_mode": {
    "name": "ipython",
    "version": 2
   },
   "file_extension": ".py",
   "mimetype": "text/x-python",
   "name": "python",
   "nbconvert_exporter": "python",
   "pygments_lexer": "ipython2",
   "version": "2.7.6"
  }
 },
 "nbformat": 4,
 "nbformat_minor": 0
}